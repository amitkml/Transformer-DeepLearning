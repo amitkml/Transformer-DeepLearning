{
  "nbformat": 4,
  "nbformat_minor": 0,
  "metadata": {
    "kernelspec": {
      "name": "python3",
      "display_name": "Python 3"
    },
    "language_info": {
      "codemirror_mode": {
        "name": "ipython",
        "version": 3
      },
      "file_extension": ".py",
      "mimetype": "text/x-python",
      "name": "python",
      "nbconvert_exporter": "python",
      "pygments_lexer": "ipython3",
      "version": "3.6.6"
    },
    "colab": {
      "name": "EVA7_Session6_Assignment_7_ADVANCED_CONCEPTS_0_9.ipynb",
      "provenance": [],
      "collapsed_sections": []
    },
    "accelerator": "GPU"
  },
  "cells": [
    {
      "cell_type": "code",
      "metadata": {
        "colab": {
          "base_uri": "https://localhost:8080/"
        },
        "id": "jkM2_7KNnVRr",
        "outputId": "2785a896-ae88-4a5e-c064-6dd75dee054f"
      },
      "source": [
        "!pip install -U albumentations"
      ],
      "execution_count": 1,
      "outputs": [
        {
          "output_type": "stream",
          "name": "stdout",
          "text": [
            "Requirement already satisfied: albumentations in /usr/local/lib/python3.7/dist-packages (0.1.12)\n",
            "Collecting albumentations\n",
            "  Downloading albumentations-1.1.0-py3-none-any.whl (102 kB)\n",
            "\u001b[K     |████████████████████████████████| 102 kB 3.2 MB/s \n",
            "\u001b[?25hRequirement already satisfied: scipy in /usr/local/lib/python3.7/dist-packages (from albumentations) (1.4.1)\n",
            "Requirement already satisfied: scikit-image>=0.16.1 in /usr/local/lib/python3.7/dist-packages (from albumentations) (0.16.2)\n",
            "Requirement already satisfied: PyYAML in /usr/local/lib/python3.7/dist-packages (from albumentations) (3.13)\n",
            "Requirement already satisfied: numpy>=1.11.1 in /usr/local/lib/python3.7/dist-packages (from albumentations) (1.19.5)\n",
            "Collecting qudida>=0.0.4\n",
            "  Downloading qudida-0.0.4-py3-none-any.whl (3.5 kB)\n",
            "Collecting opencv-python-headless>=4.1.1\n",
            "  Downloading opencv_python_headless-4.5.4.58-cp37-cp37m-manylinux2014_x86_64.whl (47.6 MB)\n",
            "\u001b[K     |████████████████████████████████| 47.6 MB 36 kB/s \n",
            "\u001b[?25hRequirement already satisfied: scikit-learn>=0.19.1 in /usr/local/lib/python3.7/dist-packages (from qudida>=0.0.4->albumentations) (0.22.2.post1)\n",
            "Requirement already satisfied: typing-extensions in /usr/local/lib/python3.7/dist-packages (from qudida>=0.0.4->albumentations) (3.10.0.2)\n",
            "Requirement already satisfied: PyWavelets>=0.4.0 in /usr/local/lib/python3.7/dist-packages (from scikit-image>=0.16.1->albumentations) (1.2.0)\n",
            "Requirement already satisfied: networkx>=2.0 in /usr/local/lib/python3.7/dist-packages (from scikit-image>=0.16.1->albumentations) (2.6.3)\n",
            "Requirement already satisfied: matplotlib!=3.0.0,>=2.0.0 in /usr/local/lib/python3.7/dist-packages (from scikit-image>=0.16.1->albumentations) (3.2.2)\n",
            "Requirement already satisfied: imageio>=2.3.0 in /usr/local/lib/python3.7/dist-packages (from scikit-image>=0.16.1->albumentations) (2.4.1)\n",
            "Requirement already satisfied: pillow>=4.3.0 in /usr/local/lib/python3.7/dist-packages (from scikit-image>=0.16.1->albumentations) (7.1.2)\n",
            "Requirement already satisfied: python-dateutil>=2.1 in /usr/local/lib/python3.7/dist-packages (from matplotlib!=3.0.0,>=2.0.0->scikit-image>=0.16.1->albumentations) (2.8.2)\n",
            "Requirement already satisfied: cycler>=0.10 in /usr/local/lib/python3.7/dist-packages (from matplotlib!=3.0.0,>=2.0.0->scikit-image>=0.16.1->albumentations) (0.11.0)\n",
            "Requirement already satisfied: kiwisolver>=1.0.1 in /usr/local/lib/python3.7/dist-packages (from matplotlib!=3.0.0,>=2.0.0->scikit-image>=0.16.1->albumentations) (1.3.2)\n",
            "Requirement already satisfied: pyparsing!=2.0.4,!=2.1.2,!=2.1.6,>=2.0.1 in /usr/local/lib/python3.7/dist-packages (from matplotlib!=3.0.0,>=2.0.0->scikit-image>=0.16.1->albumentations) (2.4.7)\n",
            "Requirement already satisfied: six>=1.5 in /usr/local/lib/python3.7/dist-packages (from python-dateutil>=2.1->matplotlib!=3.0.0,>=2.0.0->scikit-image>=0.16.1->albumentations) (1.15.0)\n",
            "Requirement already satisfied: joblib>=0.11 in /usr/local/lib/python3.7/dist-packages (from scikit-learn>=0.19.1->qudida>=0.0.4->albumentations) (1.1.0)\n",
            "Installing collected packages: opencv-python-headless, qudida, albumentations\n",
            "  Attempting uninstall: albumentations\n",
            "    Found existing installation: albumentations 0.1.12\n",
            "    Uninstalling albumentations-0.1.12:\n",
            "      Successfully uninstalled albumentations-0.1.12\n",
            "Successfully installed albumentations-1.1.0 opencv-python-headless-4.5.4.58 qudida-0.0.4\n"
          ]
        }
      ]
    },
    {
      "cell_type": "code",
      "metadata": {
        "id": "QVbdg0z4poCc"
      },
      "source": [
        "%matplotlib inline"
      ],
      "execution_count": 2,
      "outputs": []
    },
    {
      "cell_type": "code",
      "metadata": {
        "id": "du4WXfpG4mj8"
      },
      "source": [
        "import albumentations as A\n",
        "from albumentations.pytorch.transforms import ToTensorV2\n",
        "import numpy as np\n",
        "import matplotlib.pyplot as plt\n",
        "from torch.optim.lr_scheduler import StepLR,OneCycleLR\n",
        "import torch.optim as optim\n",
        "from tqdm import tqdm"
      ],
      "execution_count": 3,
      "outputs": []
    },
    {
      "cell_type": "markdown",
      "metadata": {
        "id": "fPogbueepoCh"
      },
      "source": [
        "\n",
        "Training a Classifier\n",
        "=====================\n",
        "\n",
        "This is it. You have seen how to define neural networks, compute loss and make\n",
        "updates to the weights of the network.\n",
        "\n",
        "Now you might be thinking,\n",
        "\n",
        "What about data?\n",
        "----------------\n",
        "\n",
        "Generally, when you have to deal with image, text, audio or video data,\n",
        "you can use standard python packages that load data into a numpy array.\n",
        "Then you can convert this array into a ``torch.*Tensor``.\n",
        "\n",
        "-  For images, packages such as Pillow, OpenCV are useful\n",
        "-  For audio, packages such as scipy and librosa\n",
        "-  For text, either raw Python or Cython based loading, or NLTK and\n",
        "   SpaCy are useful\n",
        "\n",
        "Specifically for vision, we have created a package called\n",
        "``torchvision``, that has data loaders for common datasets such as\n",
        "Imagenet, CIFAR10, MNIST, etc. and data transformers for images, viz.,\n",
        "``torchvision.datasets`` and ``torch.utils.data.DataLoader``.\n",
        "\n",
        "This provides a huge convenience and avoids writing boilerplate code.\n",
        "\n",
        "For this tutorial, we will use the CIFAR10 dataset.\n",
        "It has the classes: ‘airplane’, ‘automobile’, ‘bird’, ‘cat’, ‘deer’,\n",
        "‘dog’, ‘frog’, ‘horse’, ‘ship’, ‘truck’. The images in CIFAR-10 are of\n",
        "size 3x32x32, i.e. 3-channel color images of 32x32 pixels in size.\n",
        "\n",
        ".. figure:: /_static/img/cifar10.png\n",
        "   :alt: cifar10\n",
        "\n",
        "   cifar10\n",
        "\n",
        "\n",
        "Training an image classifier\n",
        "----------------------------\n",
        "\n",
        "We will do the following steps in order:\n",
        "\n",
        "1. Load and normalizing the CIFAR10 training and test datasets using\n",
        "   ``torchvision``\n",
        "2. Define a Convolution Neural Network\n",
        "3. Define a loss function\n",
        "4. Train the network on the training data\n",
        "5. Test the network on the test data\n",
        "\n",
        "1. Loading and normalizing CIFAR10\n",
        "^^^^^^^^^^^^^^^^^^^^^^^^^^^^^^^^^^\n",
        "\n",
        "Using ``torchvision``, it’s extremely easy to load CIFAR10.\n",
        "\n"
      ]
    },
    {
      "cell_type": "code",
      "metadata": {
        "id": "-yVpodAMpoCi"
      },
      "source": [
        "import torch\n",
        "import torchvision\n",
        "import torchvision.transforms as transforms\n",
        "from torchvision import datasets\n",
        "import albumentations as A\n",
        "from torch.utils.data import DataLoader, Dataset\n",
        "from PIL import Image"
      ],
      "execution_count": 4,
      "outputs": []
    },
    {
      "cell_type": "code",
      "metadata": {
        "id": "WlKu8ZgqfM6F",
        "colab": {
          "base_uri": "https://localhost:8080/"
        },
        "outputId": "31120c5e-80e7-4361-fb41-647208f5b6b6"
      },
      "source": [
        "import matplotlib.pyplot as plt\n",
        "import numpy as np\n",
        "!pip install torchsummary\n",
        "from torchsummary import summary"
      ],
      "execution_count": 5,
      "outputs": [
        {
          "output_type": "stream",
          "name": "stdout",
          "text": [
            "Requirement already satisfied: torchsummary in /usr/local/lib/python3.7/dist-packages (1.5.1)\n"
          ]
        }
      ]
    },
    {
      "cell_type": "markdown",
      "metadata": {
        "id": "aicX0AkM52Kn"
      },
      "source": [
        "### Augmentation"
      ]
    },
    {
      "cell_type": "code",
      "metadata": {
        "id": "YxcEGIoE5KD0"
      },
      "source": [
        "# EXPERIMENT horizontalflip_prob increased to 0.3 from 0.2, rotate_limit to 20 from 15\n",
        "def data_albumentations(horizontalflip_prob = 0.3,\n",
        "                        rotate_limit = 15,\n",
        "                        shiftscalerotate_prob = 0.2,\n",
        "                        num_holes = 1,\n",
        "                        cutout_prob = 0.5):\n",
        "    # Calculate mean and std deviation for cifar dataset\n",
        "    mean,std = calculate_mean_std()\n",
        "    \n",
        "    # Train Phase transformations\n",
        "    train_transforms = A.Compose([A.HorizontalFlip(p=horizontalflip_prob),\n",
        "                                  A.GaussNoise(p=0.1),\n",
        "                                  A.ShiftScaleRotate(shift_limit=0.1, scale_limit=0.1, rotate_limit=rotate_limit, p=shiftscalerotate_prob),\n",
        "                                  A.CoarseDropout(max_holes=num_holes,min_holes = 1, max_height=16, max_width=16, \n",
        "                                  p=cutout_prob,fill_value=tuple([x * 255.0 for x in mean]),\n",
        "                                  min_height=16, min_width=16),\n",
        "                                  A.ColorJitter(p=0.25,brightness=0.3, contrast=0.3, saturation=0.30, hue=0.2),\n",
        "                                  A.ToGray(p=0.2),\n",
        "                                  A.Normalize(mean=mean, std=std,always_apply=True),\n",
        "                                  ToTensorV2()\n",
        "                                ])\n",
        "\n",
        "    # Test Phase transformations\n",
        "    test_transforms = A.Compose([A.Normalize(mean=mean, std=std, always_apply=True),\n",
        "                                 ToTensorV2()])\n",
        "\n",
        "    return lambda img:train_transforms(image=np.array(img))[\"image\"],lambda img:test_transforms(image=np.array(img))[\"image\"]"
      ],
      "execution_count": 6,
      "outputs": []
    },
    {
      "cell_type": "markdown",
      "metadata": {
        "id": "xAwV6UAv56Nz"
      },
      "source": [
        "### Helper functions"
      ]
    },
    {
      "cell_type": "code",
      "metadata": {
        "id": "ANGZWOpA5OL7"
      },
      "source": [
        "import matplotlib.pyplot as plt\n",
        "import seaborn as sns\n",
        "import numpy as np"
      ],
      "execution_count": 7,
      "outputs": []
    },
    {
      "cell_type": "code",
      "metadata": {
        "id": "d23B7aia5Lmj"
      },
      "source": [
        "def plot_metrics(exp_metrics):\n",
        "    sns.set(font_scale=1)\n",
        "    plt.rcParams[\"figure.figsize\"] = (25,6)\n",
        "    train_accuracy,train_losses,test_accuracy,test_losses  = exp_metrics\n",
        "    \n",
        "    # Plot the learning curve.\n",
        "    fig, (ax1,ax2) = plt.subplots(1,2)\n",
        "    ax1.plot(np.array(test_losses), 'b', label=\"Validation Loss\")\n",
        "    \n",
        "    # Label the plot.\n",
        "    ax1.set_title(\"Validation Loss\")\n",
        "    ax1.set_xlabel(\"Epoch\")\n",
        "    ax1.set_ylabel(\"Loss\")\n",
        "    ax1.legend()\n",
        "    \n",
        "    ax2.plot(np.array(test_accuracy), 'b', label=\"Validation Accuracy\")\n",
        "    \n",
        "    # Label the plot.\n",
        "    ax2.set_title(\"Validation Accuracy\")\n",
        "    ax2.set_xlabel(\"Epoch\")\n",
        "    ax2.set_ylabel(\"Loss\")\n",
        "    ax2.legend()\n",
        "    \n",
        "    plt.show()"
      ],
      "execution_count": 8,
      "outputs": []
    },
    {
      "cell_type": "code",
      "metadata": {
        "id": "7zd-T9ZG576s"
      },
      "source": [
        "def calculate_mean_std():\n",
        "  train_transform = transforms.Compose([transforms.ToTensor()])\n",
        "  train_set = datasets.CIFAR10(root='./data', train=True, download=True, transform=train_transform)\n",
        "  mean = train_set.data.mean(axis=(0,1,2))/255\n",
        "  std = train_set.data.std(axis=(0,1,2))/255\n",
        "  return mean, std"
      ],
      "execution_count": 9,
      "outputs": []
    },
    {
      "cell_type": "code",
      "metadata": {
        "id": "j0WW6lKS5_f7"
      },
      "source": [
        "def set_seed(seed,cuda_available):\n",
        "    random.seed(seed)\n",
        "    np.random.seed(seed)\n",
        "    torch.manual_seed(seed)\n",
        "    if cuda_available:\n",
        "        torch.cuda.manual_seed(seed)"
      ],
      "execution_count": 10,
      "outputs": []
    },
    {
      "cell_type": "code",
      "metadata": {
        "id": "vwlibW2o6O5A"
      },
      "source": [
        "def model_summary(model, input_size=(3, 32, 32)):\n",
        "  use_cuda = torch.cuda.is_available()\n",
        "  device = torch.device(\"cuda\" if use_cuda else \"cpu\")\n",
        "  print(model)\n",
        "  summary(model,input_size)"
      ],
      "execution_count": 11,
      "outputs": []
    },
    {
      "cell_type": "code",
      "metadata": {
        "id": "LMfKFJFa8N5c"
      },
      "source": [
        "def class_level_accuracy(model, test_loader, device, \n",
        "                         class_correct = list(0. for i in range(10)),\n",
        "                         class_total = list(0. for i in range(10))):\n",
        "  # specify the image classes\n",
        "  classes = ['airplane', 'automobile', 'bird', 'cat', 'deer',\n",
        "             'dog', 'frog', 'horse', 'ship', 'truck']\n",
        "  with torch.no_grad():\n",
        "    for data in test_loader:\n",
        "      images, labels = data\n",
        "      images, labels = images.to(device), labels.to(device)\n",
        "      outputs = model(images)\n",
        "      _, predicted = torch.max(outputs, 1)\n",
        "      c = (predicted == labels).squeeze()\n",
        "      for i in range(4):\n",
        "        label = labels[i]\n",
        "        class_correct[label] += c[i].item()\n",
        "        class_total[label] += 1\n",
        "  for i in range(10):\n",
        "    print('Accuracy of %5s : %2d %%' % (classes[i], 100 * class_correct[i] / class_total[i]))"
      ],
      "execution_count": 12,
      "outputs": []
    },
    {
      "cell_type": "code",
      "metadata": {
        "id": "GQM9RylV805L"
      },
      "source": [
        "def wrong_predictions(test_loader,\n",
        "                      use_cuda,\n",
        "                      model):\n",
        "        class_names = ['plane', 'car', 'bird', 'cat', 'deer', 'dog', 'frog', 'horse', 'ship', 'truck']\n",
        "        \n",
        "        wrong_images=[]\n",
        "        wrong_label=[]\n",
        "        correct_label=[]\n",
        "        with torch.no_grad():\n",
        "            for data, target in test_loader:\n",
        "                if use_cuda:\n",
        "                  data = data.cuda()\n",
        "                  target = target.cuda()\n",
        "\n",
        "                output = model(data)        \n",
        "                pred = output.argmax(dim=1, keepdim=True).squeeze()  # get the index of the max log-probability\n",
        "                wrong_pred = (pred.eq(target.view_as(pred)) == False)\n",
        "                wrong_images.append(data[wrong_pred])\n",
        "                wrong_label.append(pred[wrong_pred])\n",
        "                correct_label.append(target.view_as(pred)[wrong_pred])  \n",
        "      \n",
        "                wrong_predictions = list(zip(torch.cat(wrong_images),torch.cat(wrong_label),torch.cat(correct_label)))    \n",
        "            print(f'Total wrong predictions are {len(wrong_predictions)}')\n",
        "      \n",
        "      \n",
        "            fig = plt.figure(figsize=(18,20))\n",
        "            fig.tight_layout()\n",
        "            # mean,std = helper.calculate_mean_std(\"CIFAR10\")\n",
        "            for i, (img, pred, correct) in enumerate(wrong_predictions[:10]):\n",
        "                  img, pred, target = img.cpu().numpy(), pred.cpu(), correct.cpu()\n",
        "        \n",
        "                  #mean = torch.FloatTensor(mean).view( 3, 1, 1).expand_as(img).cpu()\n",
        "                  #std = torch.FloatTensor(std).view( 3, 1, 1).expand_as(img).cpu()\n",
        "                  #img = img.mul(std).add(mean)\n",
        "                  #img=img.numpy()\n",
        "                  \n",
        "                  img = np.transpose(img, (1, 2, 0)) / 2 + 0.5\n",
        "                  ax = fig.add_subplot(5, 5, i+1)\n",
        "                  ax.axis('off')\n",
        "                  ax.set_title(f'\\nactual : {class_names[target.item()]}\\npredicted : {class_names[pred.item()]}',fontsize=10)  \n",
        "                  ax.imshow(img)  \n",
        "          \n",
        "            plt.show()"
      ],
      "execution_count": 13,
      "outputs": []
    },
    {
      "cell_type": "code",
      "metadata": {
        "id": "yn4suc-N9saK"
      },
      "source": [
        "def train(model, device, train_loader, optimizer, epoch,train_acc,train_loss,lambda_l1,scheduler,criterion,lrs,grad_clip=None):\n",
        "\n",
        "  model.train()\n",
        "  pbar = tqdm(train_loader)\n",
        "  \n",
        "  correct = 0\n",
        "  processed = 0\n",
        "  \n",
        "  for batch_idx, (data, target) in enumerate(pbar):\n",
        "    # get samples\n",
        "    data, target = data.to(device), target.to(device)\n",
        "\n",
        "    # Init\n",
        "    optimizer.zero_grad()\n",
        "    # In PyTorch, we need to set the gradients to zero before starting to do backpropragation because PyTorch accumulates the gradients on subsequent backward passes. \n",
        "    # Because of this, when you start your training loop, ideally you should zero out the gradients so that you do the parameter update correctly.\n",
        "\n",
        "    # Predict\n",
        "    y_pred = model(data)\n",
        "\n",
        "    # Calculate loss\n",
        "    loss = criterion(y_pred, target)\n",
        "    \n",
        "    #L1 Regularization\n",
        "    if lambda_l1 > 0:\n",
        "      l1 = 0\n",
        "      for p in model.parameters():\n",
        "        l1 = l1 + p.abs().sum()\n",
        "      loss = loss + lambda_l1*l1\n",
        "\n",
        "    train_loss.append(loss.data.cpu().numpy().item())\n",
        "\n",
        "    # Backpropagation\n",
        "    loss.backward()\n",
        "    \n",
        "    # Gradient clipping\n",
        "    if grad_clip: \n",
        "        nn.utils.clip_grad_value_(model.parameters(), grad_clip)\n",
        "        \n",
        "    optimizer.step()\n",
        "    scheduler.step()\n",
        "    lrs.append(get_lr(optimizer))\n",
        "\n",
        "    # Update pbar-tqdm\n",
        "    \n",
        "    pred = y_pred.argmax(dim=1, keepdim=True)  # get the index of the max log-probability\n",
        "    correct += pred.eq(target.view_as(pred)).sum().item()\n",
        "    processed += len(data)\n",
        "\n",
        "    pbar.set_description(desc= f'Loss={loss.item()} Batch_id={batch_idx} LR={lrs[-1]:0.5f} Accuracy={100*correct/processed:0.2f}')\n",
        "    train_acc.append(100*correct/processed)"
      ],
      "execution_count": 14,
      "outputs": []
    },
    {
      "cell_type": "code",
      "metadata": {
        "id": "XukDgYfn-anL"
      },
      "source": [
        "# helper function to un-normalize and display an image\n",
        "def imshow(img):\n",
        "    img = img / 2 + 0.5  # unnormalize\n",
        "    plt.imshow(np.transpose(img, (1, 2, 0)))  # convert from Tensor image"
      ],
      "execution_count": 15,
      "outputs": []
    },
    {
      "cell_type": "code",
      "metadata": {
        "id": "vMNRV7Jh-VCc"
      },
      "source": [
        "def visualize_sample_test_result(model,test_loader,use_cuda):\n",
        "  # obtain one batch of test images\n",
        "  dataiter = iter(test_loader)\n",
        "  images, labels = dataiter.next()\n",
        "  images.numpy()\n",
        "  class_names = ['plane', 'car', 'bird', 'cat', 'deer', 'dog', 'frog', 'horse', 'ship', 'truck']\n",
        "\n",
        "  # move model inputs to cuda, if GPU available\n",
        "  if use_cuda:\n",
        "    images = images.cuda()\n",
        "\n",
        "  # get sample outputs\n",
        "  output = model(images)\n",
        "  # convert output probabilities to predicted class\n",
        "  _, preds_tensor = torch.max(output, 1)\n",
        "  preds = np.squeeze(preds_tensor.numpy()) if not use_cuda else np.squeeze(preds_tensor.cpu().numpy())\n",
        " # plot the images in the batch, along with predicted and true labels\n",
        "  fig = plt.figure(figsize=(25, 4))\n",
        "  for idx in np.arange(20):\n",
        "    ax = fig.add_subplot(2, 20/2, idx+1, xticks=[], yticks=[])\n",
        "    imshow(images[idx].cpu())\n",
        "    ax.set_title(\"{} ({})\".format(class_names[preds[idx]], class_names[labels[idx]]),\n",
        "                 color=(\"green\" if preds[idx]==labels[idx].item() else \"red\"))   "
      ],
      "execution_count": 16,
      "outputs": []
    },
    {
      "cell_type": "markdown",
      "metadata": {
        "id": "fMEXn3plBVQF"
      },
      "source": [
        "## Data Loader"
      ]
    },
    {
      "cell_type": "code",
      "metadata": {
        "id": "8A-nNKpPBZcC"
      },
      "source": [
        "class Cifar10DataLoader:\n",
        "    def __init__(self,batchsize=256):\n",
        "      self.batch_size = batchsize\n",
        "      self.num_workers = 2\n",
        "      self.pin_memory = True\n",
        "\n",
        "      train_transforms, test_transforms = data_albumentations()\n",
        "\n",
        "      trainset = datasets.CIFAR10(root='./data', train=True,\n",
        "                                  download=True, transform=train_transforms)\n",
        "      \n",
        "      testset  = datasets.CIFAR10(root='./data', train=False,\n",
        "                                  download=True, transform=test_transforms)\n",
        "      \n",
        "      self.train_loader = torch.utils.data.DataLoader(trainset,\n",
        "                                                      batch_size = self.batch_size,\n",
        "                                                      shuffle = True,\n",
        "                                                      num_workers = self.num_workers,\n",
        "                                                      pin_memory = self.pin_memory)\n",
        "      \n",
        "      self.test_loader = torch.utils.data.DataLoader(testset, \n",
        "                                                      batch_size = self.batch_size,\n",
        "                                                      shuffle = True,\n",
        "                                                      num_workers = self.num_workers,\n",
        "                                                      pin_memory = self.pin_memory)"
      ],
      "execution_count": 17,
      "outputs": []
    },
    {
      "cell_type": "markdown",
      "metadata": {
        "id": "BtIlWrodDKNq"
      },
      "source": [
        "## Training Functions"
      ]
    },
    {
      "cell_type": "code",
      "metadata": {
        "id": "O3iWef2_DMwB"
      },
      "source": [
        "def get_lr(optimizer):\n",
        "    for param_group in optimizer.param_groups:\n",
        "        return param_group['lr']"
      ],
      "execution_count": 18,
      "outputs": []
    },
    {
      "cell_type": "code",
      "metadata": {
        "id": "AjgKn9ZVDNeR"
      },
      "source": [
        "def train(model, device, train_loader, optimizer, epoch,train_acc,train_loss,lambda_l1,scheduler,criterion,lrs,grad_clip=None):\n",
        "\n",
        "  model.train()\n",
        "  pbar = tqdm(train_loader)\n",
        "  \n",
        "  correct = 0\n",
        "  processed = 0\n",
        "  \n",
        "  for batch_idx, (data, target) in enumerate(pbar):\n",
        "    # get samples\n",
        "    data, target = data.to(device), target.to(device)\n",
        "\n",
        "    # Init\n",
        "    optimizer.zero_grad()\n",
        "    # In PyTorch, we need to set the gradients to zero before starting to do backpropragation because PyTorch accumulates the gradients on subsequent backward passes. \n",
        "    # Because of this, when you start your training loop, ideally you should zero out the gradients so that you do the parameter update correctly.\n",
        "\n",
        "    # Predict\n",
        "    y_pred = model(data)\n",
        "\n",
        "    # Calculate loss\n",
        "    loss = criterion(y_pred, target)\n",
        "    \n",
        "    #L1 Regularization\n",
        "    if lambda_l1 > 0:\n",
        "      l1 = 0\n",
        "      for p in model.parameters():\n",
        "        l1 = l1 + p.abs().sum()\n",
        "      loss = loss + lambda_l1*l1\n",
        "\n",
        "    train_loss.append(loss.data.cpu().numpy().item())\n",
        "\n",
        "    # Backpropagation\n",
        "    loss.backward()\n",
        "    \n",
        "    # Gradient clipping\n",
        "    if grad_clip: \n",
        "        nn.utils.clip_grad_value_(model.parameters(), grad_clip)\n",
        "        \n",
        "    optimizer.step()\n",
        "    scheduler.step()\n",
        "    lrs.append(get_lr(optimizer))\n",
        "\n",
        "    # Update pbar-tqdm\n",
        "    \n",
        "    pred = y_pred.argmax(dim=1, keepdim=True)  # get the index of the max log-probability\n",
        "    correct += pred.eq(target.view_as(pred)).sum().item()\n",
        "    processed += len(data)\n",
        "\n",
        "    pbar.set_description(desc= f'Loss={loss.item()} Batch_id={batch_idx} LR={lrs[-1]:0.5f} Accuracy={100*correct/processed:0.2f}')\n",
        "    train_acc.append(100*correct/processed)"
      ],
      "execution_count": 19,
      "outputs": []
    },
    {
      "cell_type": "code",
      "metadata": {
        "id": "2dzoQ9neGqgS"
      },
      "source": [
        "def test(model, device, test_loader,test_acc,test_losses,criterion):\n",
        "    model.eval()\n",
        "    test_loss = 0\n",
        "    correct = 0\n",
        "    with torch.no_grad():\n",
        "        for data, target in test_loader:\n",
        "            data, target = data.to(device), target.to(device)\n",
        "            output = model(data)\n",
        "            test_loss += criterion(output, target).item()  # sum up batch loss\n",
        "            pred = output.argmax(dim=1, keepdim=True)  # get the index of the max log-probability\n",
        "            correct += pred.eq(target.view_as(pred)).sum().item()\n",
        "\n",
        "    test_loss /= len(test_loader.dataset)\n",
        "    test_losses.append(test_loss)\n",
        "\n",
        "    print('\\nTest set: Average loss: {:.4f}, Accuracy: {}/{} ({:.2f}%)\\n'.format(\n",
        "        test_loss, correct, len(test_loader.dataset),\n",
        "        100. * correct / len(test_loader.dataset)))\n",
        "    \n",
        "    test_acc.append(100. * correct / len(test_loader.dataset))"
      ],
      "execution_count": 20,
      "outputs": []
    },
    {
      "cell_type": "markdown",
      "metadata": {
        "id": "5kjt4e2TpoCk"
      },
      "source": [
        "The output of torchvision datasets are PILImage images of range [0, 1].\n",
        "We transform them to Tensors of normalized range [-1, 1].\n",
        "\n"
      ]
    },
    {
      "cell_type": "code",
      "metadata": {
        "id": "mEeKN2pm-DuM"
      },
      "source": [
        "import torch.nn as nn\n",
        "import torch.nn.functional as F\n",
        "\n",
        "\n",
        "import torch.nn as nn\n",
        "import torch.nn.functional as F\n",
        "\n",
        "\n",
        "class Net(nn.Module):\n",
        "    def __init__(self,dropout):\n",
        "        super(Net, self).__init__()\n",
        "        \n",
        "        ## Convolution Block1\n",
        "        self.conv1 = nn.Sequential(\n",
        "            nn.Conv2d(3, 38, 3, padding=1, bias = False),  # Input: 32x32x3 | Output: 32x32x32 | RF: 3x3\n",
        "            nn.ReLU(),\n",
        "            nn.BatchNorm2d(38),\n",
        "            nn.Dropout2d(dropout),\n",
        "\n",
        "            nn.Conv2d(38, 64, 3, padding=1, bias = False), # Input: 32x32x32 | Output: 32x32x64 | RF: 5x5\n",
        "            nn.ReLU(),\n",
        "            nn.BatchNorm2d(64),\n",
        "            nn.Dropout2d(dropout)\n",
        "        )\n",
        "        \n",
        "        ## Transition Block1\n",
        "        self.trans1 = nn.Sequential(\n",
        "            nn.Conv2d(64, 32,1, stride=2), # Input: 32x32x64 | Output: 16x16x32 | RF: 5x5\n",
        "            nn.ReLU(),\n",
        "        )\n",
        "\n",
        "        ## Convolution Block2\n",
        "        self.conv2 =  nn.Sequential(\n",
        "            nn.Conv2d(32, 32, 3,  padding=1, bias = False), # Input: 16x16x32 | Output: 16x16x32 | RF: 9x9\n",
        "            nn.ReLU(),\n",
        "            nn.BatchNorm2d(32),\n",
        "            nn.Dropout2d(dropout),\n",
        "\n",
        "            ## Depthwise Seperable Convolution1\n",
        "            nn.Conv2d(32,32, 3,  padding=1,groups=32 ,bias = False),  # Input: 16x16x32 | Output: 16x16x32 | RF: 13x13\n",
        "            nn.Conv2d(32, 64, 1, padding=1, bias = False),   # Input: 16x16x32 | Output: 18x18x64 | RF: 13x13\n",
        "            nn.ReLU(),\n",
        "            nn.BatchNorm2d(64),\n",
        "            nn.Dropout2d(dropout),\n",
        "        )\n",
        "        \n",
        "        #Transition Block2\n",
        "        self.trans2 = nn.Sequential(\n",
        "\n",
        "            nn.Conv2d(64, 32, 1, stride=2), # Input: 18x18x32 | Output: 9x9x64 | RF: 13x13\n",
        "            nn.ReLU()\n",
        "        )\n",
        "\n",
        "        #Convolution Block3\n",
        "        self.conv3 = nn.Sequential(\n",
        "            \n",
        "            ## Dilation Block\n",
        "            nn.Conv2d(32, 64, 3,  padding=1, bias = False,dilation=2), # Input: 9x9x64 | Output: 7x7x64 | RF: 29x29\n",
        "            nn.ReLU(),\n",
        "            nn.BatchNorm2d(64),\n",
        "            nn.Dropout2d(dropout),\n",
        "\n",
        "            nn.Conv2d(64, 64, 3,  padding=1, bias = False),  # Input: 7x7x64| Output: 7x7x64 | RF: 45x45\n",
        "            nn.ReLU(),\n",
        "            nn.BatchNorm2d(64),\n",
        "            nn.Dropout2d(dropout),\n",
        "        )\n",
        "\n",
        "        #Transition Block3\n",
        "        self.trans3 = nn.Sequential(\n",
        "\n",
        "            nn.Conv2d(64, 16, 1, stride=2), # Input: 7x7x64| Output: 4x4x16 | RF: 61x61\n",
        "            nn.ReLU()\n",
        "        )\n",
        "\n",
        "        #Convolution Block4        \n",
        "        self.conv4 = nn.Sequential(\n",
        "            nn.Conv2d(16, 32, 3, padding=1, bias = False), # Input: 4x4x16 | Output: 4x4x32 | RF: 93x93\n",
        "            nn.ReLU(),\n",
        "            nn.BatchNorm2d(32),\n",
        "            nn.Dropout2d(dropout),\n",
        "\n",
        "            ## Depthwise seperable Convolution2\n",
        "            nn.Conv2d(32,32, 3,  padding=1,groups=32 ,bias = False),# Input: 4x4x16 | Output: 4x4x32 | RF: 125x125\n",
        "            nn.Conv2d(32, 10, 1, padding=1, bias = False),          # Input: 4x4x32| Output: 6x6x10 | RF: 125x125\n",
        "            nn.ReLU(),\n",
        "            nn.BatchNorm2d(10),\n",
        "            nn.Dropout2d(dropout),\n",
        "        )\n",
        "\n",
        "        ## Output Block\n",
        "        self.gap = nn.Sequential(\n",
        "            nn.AdaptiveAvgPool2d(1)\n",
        "        ) \n",
        "\n",
        "\n",
        "    def forward(self, x):\n",
        "        x = self.conv1(x)\n",
        "        x = self.trans1(x)\n",
        "\n",
        "        x = self.conv2(x) \n",
        "        x = self.trans2(x) \n",
        "\n",
        "        x = self.conv3(x) \n",
        "        x = self.trans3(x)\n",
        "\n",
        "        x = self.conv4(x)\n",
        "        x = self.gap(x)\n",
        "\n",
        "        x = x.view(-1,10)\n",
        "        return F.log_softmax(x,dim=1)"
      ],
      "execution_count": 29,
      "outputs": []
    },
    {
      "cell_type": "markdown",
      "metadata": {
        "id": "8rkSxDgeIJCD"
      },
      "source": [
        "## Run Experiments"
      ]
    },
    {
      "cell_type": "code",
      "metadata": {
        "id": "c8xmU33aqgJX"
      },
      "source": [
        "def run_experiments(device,\n",
        "                    dataset,\n",
        "                    epochs,\n",
        "                    model):\n",
        "  l1_factor = 0\n",
        "  l2_factor = 0.0001\n",
        "  # optim_type = optim.Adam\n",
        "  criterion = nn.CrossEntropyLoss()\n",
        "  # opt_func = optim.Adam\n",
        "  lr = 0.01\n",
        "  grad_clip = 0.1\n",
        "  train_losses = []\n",
        "  test_losses = []\n",
        "  train_accuracy = []\n",
        "  test_accuracy = []\n",
        "  lrs=[]\n",
        "\n",
        "  model = model\n",
        "  optimizer = optim.Adam(model.parameters(), lr=lr, weight_decay=l2_factor)\n",
        "  scheduler = OneCycleLR(optimizer, max_lr=lr,epochs=epochs,steps_per_epoch=len(dataset.train_loader))\n",
        "\n",
        "  for epoch in range(1, epochs + 1):\n",
        "    print(f'Epoch {epoch}:')\n",
        "    train(model, device, dataset.train_loader, optimizer,epoch, train_accuracy, train_losses, l1_factor,scheduler,criterion,lrs,grad_clip)\n",
        "    test(model, device, dataset.test_loader,test_accuracy,test_losses,criterion)\n",
        "  \n",
        "  return (train_accuracy,train_losses,test_accuracy,test_losses),model\n"
      ],
      "execution_count": 30,
      "outputs": []
    },
    {
      "cell_type": "code",
      "metadata": {
        "id": "JbWkjNBqJzuJ"
      },
      "source": [
        "def save_experiment(self,model, experiment_name='cifar10-adv'):\n",
        "  print(f\"Saving the model for {experiment_name}\")\n",
        "  torch.save(model, './saved_models/{}.pt'.format(experiment_name))"
      ],
      "execution_count": 31,
      "outputs": []
    },
    {
      "cell_type": "markdown",
      "metadata": {
        "id": "Eu-uinewQqI6"
      },
      "source": [
        "## Training"
      ]
    },
    {
      "cell_type": "code",
      "metadata": {
        "id": "NWDIuuc1Qr9B"
      },
      "source": [
        "use_cuda = torch.cuda.is_available()\n",
        "device = torch.device(\"cuda\" if use_cuda else \"cpu\")"
      ],
      "execution_count": 32,
      "outputs": []
    },
    {
      "cell_type": "code",
      "metadata": {
        "colab": {
          "base_uri": "https://localhost:8080/"
        },
        "id": "2zSbeIKYQ_8Z",
        "outputId": "06862709-2193-4bcc-d7c6-83ca8a1c9ad8"
      },
      "source": [
        "cifar_dataset=Cifar10DataLoader()"
      ],
      "execution_count": 33,
      "outputs": [
        {
          "output_type": "stream",
          "name": "stdout",
          "text": [
            "Files already downloaded and verified\n",
            "Files already downloaded and verified\n",
            "Files already downloaded and verified\n"
          ]
        }
      ]
    },
    {
      "cell_type": "code",
      "metadata": {
        "colab": {
          "base_uri": "https://localhost:8080/",
          "height": 489
        },
        "id": "8gwyI8fzSzg5",
        "outputId": "7a25cf9e-4c0d-4a32-df38-f7ef48e7cd97"
      },
      "source": [
        "fig, ax = plt.subplots(figsize=(20, 20))\n",
        "# get some random training images\n",
        "dataiter = iter(cifar_dataset.train_loader)\n",
        "images, labels = dataiter.next()\n",
        "\n",
        "# show images\n",
        "imshow(torchvision.utils.make_grid(images[:24]))"
      ],
      "execution_count": 34,
      "outputs": [
        {
          "output_type": "stream",
          "name": "stderr",
          "text": [
            "Clipping input data to the valid range for imshow with RGB data ([0..1] for floats or [0..255] for integers).\n"
          ]
        },
        {
          "output_type": "display_data",
          "data": {
            "image/png": "[encoded data removed]",
            "text/plain": [
              "<Figure size 1440x1440 with 1 Axes>"
            ]
          },
          "metadata": {
            "needs_background": "light"
          }
        }
      ]
    },
    {
      "cell_type": "code",
      "metadata": {
        "id": "uxdMXCV4W067"
      },
      "source": [
        "experiment_name = \"cifar10-training\"\n",
        "epochs = 80\n",
        "dropout = 0.05 ## increased from .01 - EXPERIMENT\n",
        "model = Net(dropout).to(device)"
      ],
      "execution_count": 35,
      "outputs": []
    },
    {
      "cell_type": "code",
      "metadata": {
        "colab": {
          "base_uri": "https://localhost:8080/"
        },
        "id": "l_nDxmpzWp-L",
        "outputId": "f1822973-c415-4d84-c670-90211d2ea1a5"
      },
      "source": [
        "model_summary(model)"
      ],
      "execution_count": 36,
      "outputs": [
        {
          "output_type": "stream",
          "name": "stdout",
          "text": [
            "Net(\n",
            "  (conv1): Sequential(\n",
            "    (0): Conv2d(3, 38, kernel_size=(3, 3), stride=(1, 1), padding=(1, 1), bias=False)\n",
            "    (1): ReLU()\n",
            "    (2): BatchNorm2d(38, eps=1e-05, momentum=0.1, affine=True, track_running_stats=True)\n",
            "    (3): Dropout2d(p=0.05, inplace=False)\n",
            "    (4): Conv2d(38, 64, kernel_size=(3, 3), stride=(1, 1), padding=(1, 1), bias=False)\n",
            "    (5): ReLU()\n",
            "    (6): BatchNorm2d(64, eps=1e-05, momentum=0.1, affine=True, track_running_stats=True)\n",
            "    (7): Dropout2d(p=0.05, inplace=False)\n",
            "  )\n",
            "  (trans1): Sequential(\n",
            "    (0): Conv2d(64, 32, kernel_size=(1, 1), stride=(2, 2))\n",
            "    (1): ReLU()\n",
            "  )\n",
            "  (conv2): Sequential(\n",
            "    (0): Conv2d(32, 32, kernel_size=(3, 3), stride=(1, 1), padding=(1, 1), bias=False)\n",
            "    (1): ReLU()\n",
            "    (2): BatchNorm2d(32, eps=1e-05, momentum=0.1, affine=True, track_running_stats=True)\n",
            "    (3): Dropout2d(p=0.05, inplace=False)\n",
            "    (4): Conv2d(32, 32, kernel_size=(3, 3), stride=(1, 1), padding=(1, 1), groups=32, bias=False)\n",
            "    (5): Conv2d(32, 64, kernel_size=(1, 1), stride=(1, 1), padding=(1, 1), bias=False)\n",
            "    (6): ReLU()\n",
            "    (7): BatchNorm2d(64, eps=1e-05, momentum=0.1, affine=True, track_running_stats=True)\n",
            "    (8): Dropout2d(p=0.05, inplace=False)\n",
            "  )\n",
            "  (trans2): Sequential(\n",
            "    (0): Conv2d(64, 32, kernel_size=(1, 1), stride=(2, 2))\n",
            "    (1): ReLU()\n",
            "  )\n",
            "  (conv3): Sequential(\n",
            "    (0): Conv2d(32, 64, kernel_size=(3, 3), stride=(1, 1), padding=(1, 1), dilation=(2, 2), bias=False)\n",
            "    (1): ReLU()\n",
            "    (2): BatchNorm2d(64, eps=1e-05, momentum=0.1, affine=True, track_running_stats=True)\n",
            "    (3): Dropout2d(p=0.05, inplace=False)\n",
            "    (4): Conv2d(64, 64, kernel_size=(3, 3), stride=(1, 1), padding=(1, 1), bias=False)\n",
            "    (5): ReLU()\n",
            "    (6): BatchNorm2d(64, eps=1e-05, momentum=0.1, affine=True, track_running_stats=True)\n",
            "    (7): Dropout2d(p=0.05, inplace=False)\n",
            "  )\n",
            "  (trans3): Sequential(\n",
            "    (0): Conv2d(64, 16, kernel_size=(1, 1), stride=(2, 2))\n",
            "    (1): ReLU()\n",
            "  )\n",
            "  (conv4): Sequential(\n",
            "    (0): Conv2d(16, 32, kernel_size=(3, 3), stride=(1, 1), padding=(1, 1), bias=False)\n",
            "    (1): ReLU()\n",
            "    (2): BatchNorm2d(32, eps=1e-05, momentum=0.1, affine=True, track_running_stats=True)\n",
            "    (3): Dropout2d(p=0.05, inplace=False)\n",
            "    (4): Conv2d(32, 32, kernel_size=(3, 3), stride=(1, 1), padding=(1, 1), groups=32, bias=False)\n",
            "    (5): Conv2d(32, 10, kernel_size=(1, 1), stride=(1, 1), padding=(1, 1), bias=False)\n",
            "    (6): ReLU()\n",
            "    (7): BatchNorm2d(10, eps=1e-05, momentum=0.1, affine=True, track_running_stats=True)\n",
            "    (8): Dropout2d(p=0.05, inplace=False)\n",
            "  )\n",
            "  (gap): Sequential(\n",
            "    (0): AdaptiveAvgPool2d(output_size=1)\n",
            "  )\n",
            ")\n",
            "----------------------------------------------------------------\n",
            "        Layer (type)               Output Shape         Param #\n",
            "================================================================\n",
            "            Conv2d-1           [-1, 38, 32, 32]           1,026\n",
            "              ReLU-2           [-1, 38, 32, 32]               0\n",
            "       BatchNorm2d-3           [-1, 38, 32, 32]              76\n",
            "         Dropout2d-4           [-1, 38, 32, 32]               0\n",
            "            Conv2d-5           [-1, 64, 32, 32]          21,888\n",
            "              ReLU-6           [-1, 64, 32, 32]               0\n",
            "       BatchNorm2d-7           [-1, 64, 32, 32]             128\n",
            "         Dropout2d-8           [-1, 64, 32, 32]               0\n",
            "            Conv2d-9           [-1, 32, 16, 16]           2,080\n",
            "             ReLU-10           [-1, 32, 16, 16]               0\n",
            "           Conv2d-11           [-1, 32, 16, 16]           9,216\n",
            "             ReLU-12           [-1, 32, 16, 16]               0\n",
            "      BatchNorm2d-13           [-1, 32, 16, 16]              64\n",
            "        Dropout2d-14           [-1, 32, 16, 16]               0\n",
            "           Conv2d-15           [-1, 32, 16, 16]             288\n",
            "           Conv2d-16           [-1, 64, 18, 18]           2,048\n",
            "             ReLU-17           [-1, 64, 18, 18]               0\n",
            "      BatchNorm2d-18           [-1, 64, 18, 18]             128\n",
            "        Dropout2d-19           [-1, 64, 18, 18]               0\n",
            "           Conv2d-20             [-1, 32, 9, 9]           2,080\n",
            "             ReLU-21             [-1, 32, 9, 9]               0\n",
            "           Conv2d-22             [-1, 64, 7, 7]          18,432\n",
            "             ReLU-23             [-1, 64, 7, 7]               0\n",
            "      BatchNorm2d-24             [-1, 64, 7, 7]             128\n",
            "        Dropout2d-25             [-1, 64, 7, 7]               0\n",
            "           Conv2d-26             [-1, 64, 7, 7]          36,864\n",
            "             ReLU-27             [-1, 64, 7, 7]               0\n",
            "      BatchNorm2d-28             [-1, 64, 7, 7]             128\n",
            "        Dropout2d-29             [-1, 64, 7, 7]               0\n",
            "           Conv2d-30             [-1, 16, 4, 4]           1,040\n",
            "             ReLU-31             [-1, 16, 4, 4]               0\n",
            "           Conv2d-32             [-1, 32, 4, 4]           4,608\n",
            "             ReLU-33             [-1, 32, 4, 4]               0\n",
            "      BatchNorm2d-34             [-1, 32, 4, 4]              64\n",
            "        Dropout2d-35             [-1, 32, 4, 4]               0\n",
            "           Conv2d-36             [-1, 32, 4, 4]             288\n",
            "           Conv2d-37             [-1, 10, 6, 6]             320\n",
            "             ReLU-38             [-1, 10, 6, 6]               0\n",
            "      BatchNorm2d-39             [-1, 10, 6, 6]              20\n",
            "        Dropout2d-40             [-1, 10, 6, 6]               0\n",
            "AdaptiveAvgPool2d-41             [-1, 10, 1, 1]               0\n",
            "================================================================\n",
            "Total params: 100,914\n",
            "Trainable params: 100,914\n",
            "Non-trainable params: 0\n",
            "----------------------------------------------------------------\n",
            "Input size (MB): 0.01\n",
            "Forward/backward pass size (MB): 4.52\n",
            "Params size (MB): 0.38\n",
            "Estimated Total Size (MB): 4.92\n",
            "----------------------------------------------------------------\n"
          ]
        }
      ]
    },
    {
      "cell_type": "code",
      "metadata": {
        "colab": {
          "base_uri": "https://localhost:8080/"
        },
        "id": "yNL7h44iTTkx",
        "outputId": "2943a525-aebe-467b-c477-be1127329768"
      },
      "source": [
        "exp_metrics={}\n",
        "\n",
        "exp_metrics[experiment_name],model = run_experiments(device,\n",
        "                                                       cifar_dataset,\n",
        "                                                       epochs,\n",
        "                                                       model)\n",
        "\n",
        "# save_experiment(model,experiment_name)"
      ],
      "execution_count": 37,
      "outputs": [
        {
          "output_type": "stream",
          "name": "stdout",
          "text": [
            "Epoch 1:\n"
          ]
        },
        {
          "output_type": "stream",
          "name": "stderr",
          "text": [
            "Loss=2.022407293319702 Batch_id=195 LR=0.00044 Accuracy=27.30: 100%|██████████| 196/196 [00:28<00:00,  6.95it/s]\n"
          ]
        },
        {
          "output_type": "stream",
          "name": "stdout",
          "text": [
            "\n",
            "Test set: Average loss: 0.0068, Accuracy: 4325/10000 (43.25%)\n",
            "\n",
            "Epoch 2:\n"
          ]
        },
        {
          "output_type": "stream",
          "name": "stderr",
          "text": [
            "Loss=1.8828649520874023 Batch_id=195 LR=0.00056 Accuracy=38.05: 100%|██████████| 196/196 [00:28<00:00,  6.94it/s]\n"
          ]
        },
        {
          "output_type": "stream",
          "name": "stdout",
          "text": [
            "\n",
            "Test set: Average loss: 0.0061, Accuracy: 5008/10000 (50.08%)\n",
            "\n",
            "Epoch 3:\n"
          ]
        },
        {
          "output_type": "stream",
          "name": "stderr",
          "text": [
            "Loss=1.5948963165283203 Batch_id=195 LR=0.00077 Accuracy=43.65: 100%|██████████| 196/196 [00:28<00:00,  6.90it/s]\n"
          ]
        },
        {
          "output_type": "stream",
          "name": "stdout",
          "text": [
            "\n",
            "Test set: Average loss: 0.0054, Accuracy: 5629/10000 (56.29%)\n",
            "\n",
            "Epoch 4:\n"
          ]
        },
        {
          "output_type": "stream",
          "name": "stderr",
          "text": [
            "Loss=1.4091318845748901 Batch_id=195 LR=0.00104 Accuracy=48.43: 100%|██████████| 196/196 [00:28<00:00,  6.83it/s]\n"
          ]
        },
        {
          "output_type": "stream",
          "name": "stdout",
          "text": [
            "\n",
            "Test set: Average loss: 0.0049, Accuracy: 6042/10000 (60.42%)\n",
            "\n",
            "Epoch 5:\n"
          ]
        },
        {
          "output_type": "stream",
          "name": "stderr",
          "text": [
            "Loss=1.4812242984771729 Batch_id=195 LR=0.00139 Accuracy=52.10: 100%|██████████| 196/196 [00:28<00:00,  6.86it/s]\n"
          ]
        },
        {
          "output_type": "stream",
          "name": "stdout",
          "text": [
            "\n",
            "Test set: Average loss: 0.0047, Accuracy: 6138/10000 (61.38%)\n",
            "\n",
            "Epoch 6:\n"
          ]
        },
        {
          "output_type": "stream",
          "name": "stderr",
          "text": [
            "Loss=1.353073000907898 Batch_id=195 LR=0.00181 Accuracy=55.32: 100%|██████████| 196/196 [00:28<00:00,  6.91it/s]\n"
          ]
        },
        {
          "output_type": "stream",
          "name": "stdout",
          "text": [
            "\n",
            "Test set: Average loss: 0.0042, Accuracy: 6532/10000 (65.32%)\n",
            "\n",
            "Epoch 7:\n"
          ]
        },
        {
          "output_type": "stream",
          "name": "stderr",
          "text": [
            "Loss=1.367403268814087 Batch_id=195 LR=0.00228 Accuracy=57.62: 100%|██████████| 196/196 [00:28<00:00,  6.95it/s]\n"
          ]
        },
        {
          "output_type": "stream",
          "name": "stdout",
          "text": [
            "\n",
            "Test set: Average loss: 0.0038, Accuracy: 6813/10000 (68.13%)\n",
            "\n",
            "Epoch 8:\n"
          ]
        },
        {
          "output_type": "stream",
          "name": "stderr",
          "text": [
            "Loss=1.0015294551849365 Batch_id=195 LR=0.00280 Accuracy=59.03: 100%|██████████| 196/196 [00:28<00:00,  6.94it/s]\n"
          ]
        },
        {
          "output_type": "stream",
          "name": "stdout",
          "text": [
            "\n",
            "Test set: Average loss: 0.0035, Accuracy: 7170/10000 (71.70%)\n",
            "\n",
            "Epoch 9:\n"
          ]
        },
        {
          "output_type": "stream",
          "name": "stderr",
          "text": [
            "Loss=1.2820314168930054 Batch_id=195 LR=0.00336 Accuracy=60.82: 100%|██████████| 196/196 [00:28<00:00,  6.98it/s]\n"
          ]
        },
        {
          "output_type": "stream",
          "name": "stdout",
          "text": [
            "\n",
            "Test set: Average loss: 0.0035, Accuracy: 7093/10000 (70.93%)\n",
            "\n",
            "Epoch 10:\n"
          ]
        },
        {
          "output_type": "stream",
          "name": "stderr",
          "text": [
            "Loss=1.2598626613616943 Batch_id=195 LR=0.00396 Accuracy=61.92: 100%|██████████| 196/196 [00:28<00:00,  6.93it/s]\n"
          ]
        },
        {
          "output_type": "stream",
          "name": "stdout",
          "text": [
            "\n",
            "Test set: Average loss: 0.0033, Accuracy: 7181/10000 (71.81%)\n",
            "\n",
            "Epoch 11:\n"
          ]
        },
        {
          "output_type": "stream",
          "name": "stderr",
          "text": [
            "Loss=1.0537813901901245 Batch_id=195 LR=0.00457 Accuracy=62.57: 100%|██████████| 196/196 [00:28<00:00,  6.94it/s]\n"
          ]
        },
        {
          "output_type": "stream",
          "name": "stdout",
          "text": [
            "\n",
            "Test set: Average loss: 0.0037, Accuracy: 6884/10000 (68.84%)\n",
            "\n",
            "Epoch 12:\n"
          ]
        },
        {
          "output_type": "stream",
          "name": "stderr",
          "text": [
            "Loss=1.2256414890289307 Batch_id=195 LR=0.00520 Accuracy=63.05: 100%|██████████| 196/196 [00:28<00:00,  6.99it/s]\n"
          ]
        },
        {
          "output_type": "stream",
          "name": "stdout",
          "text": [
            "\n",
            "Test set: Average loss: 0.0035, Accuracy: 6988/10000 (69.88%)\n",
            "\n",
            "Epoch 13:\n"
          ]
        },
        {
          "output_type": "stream",
          "name": "stderr",
          "text": [
            "Loss=0.9510486721992493 Batch_id=195 LR=0.00583 Accuracy=63.46: 100%|██████████| 196/196 [00:28<00:00,  6.91it/s]\n"
          ]
        },
        {
          "output_type": "stream",
          "name": "stdout",
          "text": [
            "\n",
            "Test set: Average loss: 0.0034, Accuracy: 7133/10000 (71.33%)\n",
            "\n",
            "Epoch 14:\n"
          ]
        },
        {
          "output_type": "stream",
          "name": "stderr",
          "text": [
            "Loss=0.9048405885696411 Batch_id=195 LR=0.00644 Accuracy=63.95: 100%|██████████| 196/196 [00:27<00:00,  7.04it/s]\n"
          ]
        },
        {
          "output_type": "stream",
          "name": "stdout",
          "text": [
            "\n",
            "Test set: Average loss: 0.0031, Accuracy: 7376/10000 (73.76%)\n",
            "\n",
            "Epoch 15:\n"
          ]
        },
        {
          "output_type": "stream",
          "name": "stderr",
          "text": [
            "Loss=1.0331594944000244 Batch_id=195 LR=0.00704 Accuracy=64.53: 100%|██████████| 196/196 [00:27<00:00,  7.02it/s]\n"
          ]
        },
        {
          "output_type": "stream",
          "name": "stdout",
          "text": [
            "\n",
            "Test set: Average loss: 0.0030, Accuracy: 7504/10000 (75.04%)\n",
            "\n",
            "Epoch 16:\n"
          ]
        },
        {
          "output_type": "stream",
          "name": "stderr",
          "text": [
            "Loss=1.1701607704162598 Batch_id=195 LR=0.00760 Accuracy=65.05: 100%|██████████| 196/196 [00:27<00:00,  7.01it/s]\n"
          ]
        },
        {
          "output_type": "stream",
          "name": "stdout",
          "text": [
            "\n",
            "Test set: Average loss: 0.0029, Accuracy: 7519/10000 (75.19%)\n",
            "\n",
            "Epoch 17:\n"
          ]
        },
        {
          "output_type": "stream",
          "name": "stderr",
          "text": [
            "Loss=0.8848732113838196 Batch_id=195 LR=0.00812 Accuracy=65.18: 100%|██████████| 196/196 [00:28<00:00,  6.94it/s]\n"
          ]
        },
        {
          "output_type": "stream",
          "name": "stdout",
          "text": [
            "\n",
            "Test set: Average loss: 0.0038, Accuracy: 6860/10000 (68.60%)\n",
            "\n",
            "Epoch 18:\n"
          ]
        },
        {
          "output_type": "stream",
          "name": "stderr",
          "text": [
            "Loss=1.3084214925765991 Batch_id=195 LR=0.00860 Accuracy=65.60: 100%|██████████| 196/196 [00:28<00:00,  6.90it/s]\n"
          ]
        },
        {
          "output_type": "stream",
          "name": "stdout",
          "text": [
            "\n",
            "Test set: Average loss: 0.0028, Accuracy: 7576/10000 (75.76%)\n",
            "\n",
            "Epoch 19:\n"
          ]
        },
        {
          "output_type": "stream",
          "name": "stderr",
          "text": [
            "Loss=0.9107774496078491 Batch_id=195 LR=0.00901 Accuracy=65.89: 100%|██████████| 196/196 [00:28<00:00,  6.95it/s]\n"
          ]
        },
        {
          "output_type": "stream",
          "name": "stdout",
          "text": [
            "\n",
            "Test set: Average loss: 0.0037, Accuracy: 7020/10000 (70.20%)\n",
            "\n",
            "Epoch 20:\n"
          ]
        },
        {
          "output_type": "stream",
          "name": "stderr",
          "text": [
            "Loss=0.919036865234375 Batch_id=195 LR=0.00936 Accuracy=65.98: 100%|██████████| 196/196 [00:28<00:00,  6.96it/s]\n"
          ]
        },
        {
          "output_type": "stream",
          "name": "stdout",
          "text": [
            "\n",
            "Test set: Average loss: 0.0028, Accuracy: 7629/10000 (76.29%)\n",
            "\n",
            "Epoch 21:\n"
          ]
        },
        {
          "output_type": "stream",
          "name": "stderr",
          "text": [
            "Loss=0.971285343170166 Batch_id=195 LR=0.00964 Accuracy=65.97: 100%|██████████| 196/196 [00:28<00:00,  6.95it/s]\n"
          ]
        },
        {
          "output_type": "stream",
          "name": "stdout",
          "text": [
            "\n",
            "Test set: Average loss: 0.0030, Accuracy: 7597/10000 (75.97%)\n",
            "\n",
            "Epoch 22:\n"
          ]
        },
        {
          "output_type": "stream",
          "name": "stderr",
          "text": [
            "Loss=0.7142541408538818 Batch_id=195 LR=0.00984 Accuracy=66.54: 100%|██████████| 196/196 [00:28<00:00,  6.88it/s]\n"
          ]
        },
        {
          "output_type": "stream",
          "name": "stdout",
          "text": [
            "\n",
            "Test set: Average loss: 0.0033, Accuracy: 7294/10000 (72.94%)\n",
            "\n",
            "Epoch 23:\n"
          ]
        },
        {
          "output_type": "stream",
          "name": "stderr",
          "text": [
            "Loss=0.9512278437614441 Batch_id=195 LR=0.00996 Accuracy=66.32: 100%|██████████| 196/196 [00:28<00:00,  6.92it/s]\n"
          ]
        },
        {
          "output_type": "stream",
          "name": "stdout",
          "text": [
            "\n",
            "Test set: Average loss: 0.0029, Accuracy: 7569/10000 (75.69%)\n",
            "\n",
            "Epoch 24:\n"
          ]
        },
        {
          "output_type": "stream",
          "name": "stderr",
          "text": [
            "Loss=1.0969278812408447 Batch_id=195 LR=0.01000 Accuracy=66.54: 100%|██████████| 196/196 [00:28<00:00,  6.94it/s]\n"
          ]
        },
        {
          "output_type": "stream",
          "name": "stdout",
          "text": [
            "\n",
            "Test set: Average loss: 0.0031, Accuracy: 7415/10000 (74.15%)\n",
            "\n",
            "Epoch 25:\n"
          ]
        },
        {
          "output_type": "stream",
          "name": "stderr",
          "text": [
            "Loss=0.9239552617073059 Batch_id=195 LR=0.00999 Accuracy=66.84: 100%|██████████| 196/196 [00:28<00:00,  6.98it/s]\n"
          ]
        },
        {
          "output_type": "stream",
          "name": "stdout",
          "text": [
            "\n",
            "Test set: Average loss: 0.0027, Accuracy: 7735/10000 (77.35%)\n",
            "\n",
            "Epoch 26:\n"
          ]
        },
        {
          "output_type": "stream",
          "name": "stderr",
          "text": [
            "Loss=1.1105310916900635 Batch_id=195 LR=0.00997 Accuracy=66.63: 100%|██████████| 196/196 [00:28<00:00,  6.99it/s]\n"
          ]
        },
        {
          "output_type": "stream",
          "name": "stdout",
          "text": [
            "\n",
            "Test set: Average loss: 0.0028, Accuracy: 7549/10000 (75.49%)\n",
            "\n",
            "Epoch 27:\n"
          ]
        },
        {
          "output_type": "stream",
          "name": "stderr",
          "text": [
            "Loss=0.9232953786849976 Batch_id=195 LR=0.00993 Accuracy=67.13: 100%|██████████| 196/196 [00:28<00:00,  6.92it/s]\n"
          ]
        },
        {
          "output_type": "stream",
          "name": "stdout",
          "text": [
            "\n",
            "Test set: Average loss: 0.0027, Accuracy: 7720/10000 (77.20%)\n",
            "\n",
            "Epoch 28:\n"
          ]
        },
        {
          "output_type": "stream",
          "name": "stderr",
          "text": [
            "Loss=1.1502974033355713 Batch_id=195 LR=0.00987 Accuracy=67.35: 100%|██████████| 196/196 [00:28<00:00,  6.98it/s]\n"
          ]
        },
        {
          "output_type": "stream",
          "name": "stdout",
          "text": [
            "\n",
            "Test set: Average loss: 0.0029, Accuracy: 7554/10000 (75.54%)\n",
            "\n",
            "Epoch 29:\n"
          ]
        },
        {
          "output_type": "stream",
          "name": "stderr",
          "text": [
            "Loss=0.9359464645385742 Batch_id=195 LR=0.00980 Accuracy=67.48: 100%|██████████| 196/196 [00:28<00:00,  6.88it/s]\n"
          ]
        },
        {
          "output_type": "stream",
          "name": "stdout",
          "text": [
            "\n",
            "Test set: Average loss: 0.0031, Accuracy: 7443/10000 (74.43%)\n",
            "\n",
            "Epoch 30:\n"
          ]
        },
        {
          "output_type": "stream",
          "name": "stderr",
          "text": [
            "Loss=0.9463990330696106 Batch_id=195 LR=0.00972 Accuracy=67.27: 100%|██████████| 196/196 [00:28<00:00,  6.85it/s]\n"
          ]
        },
        {
          "output_type": "stream",
          "name": "stdout",
          "text": [
            "\n",
            "Test set: Average loss: 0.0028, Accuracy: 7708/10000 (77.08%)\n",
            "\n",
            "Epoch 31:\n"
          ]
        },
        {
          "output_type": "stream",
          "name": "stderr",
          "text": [
            "Loss=1.0831410884857178 Batch_id=195 LR=0.00962 Accuracy=67.52: 100%|██████████| 196/196 [00:28<00:00,  6.93it/s]\n"
          ]
        },
        {
          "output_type": "stream",
          "name": "stdout",
          "text": [
            "\n",
            "Test set: Average loss: 0.0028, Accuracy: 7539/10000 (75.39%)\n",
            "\n",
            "Epoch 32:\n"
          ]
        },
        {
          "output_type": "stream",
          "name": "stderr",
          "text": [
            "Loss=1.1921014785766602 Batch_id=195 LR=0.00950 Accuracy=67.57: 100%|██████████| 196/196 [00:28<00:00,  6.89it/s]\n"
          ]
        },
        {
          "output_type": "stream",
          "name": "stdout",
          "text": [
            "\n",
            "Test set: Average loss: 0.0026, Accuracy: 7809/10000 (78.09%)\n",
            "\n",
            "Epoch 33:\n"
          ]
        },
        {
          "output_type": "stream",
          "name": "stderr",
          "text": [
            "Loss=0.9214057922363281 Batch_id=195 LR=0.00938 Accuracy=67.74: 100%|██████████| 196/196 [00:28<00:00,  6.90it/s]\n"
          ]
        },
        {
          "output_type": "stream",
          "name": "stdout",
          "text": [
            "\n",
            "Test set: Average loss: 0.0025, Accuracy: 7811/10000 (78.11%)\n",
            "\n",
            "Epoch 34:\n"
          ]
        },
        {
          "output_type": "stream",
          "name": "stderr",
          "text": [
            "Loss=1.0659615993499756 Batch_id=195 LR=0.00923 Accuracy=67.75: 100%|██████████| 196/196 [00:28<00:00,  6.96it/s]\n"
          ]
        },
        {
          "output_type": "stream",
          "name": "stdout",
          "text": [
            "\n",
            "Test set: Average loss: 0.0029, Accuracy: 7548/10000 (75.48%)\n",
            "\n",
            "Epoch 35:\n"
          ]
        },
        {
          "output_type": "stream",
          "name": "stderr",
          "text": [
            "Loss=1.1434366703033447 Batch_id=195 LR=0.00908 Accuracy=67.76: 100%|██████████| 196/196 [00:28<00:00,  6.86it/s]\n"
          ]
        },
        {
          "output_type": "stream",
          "name": "stdout",
          "text": [
            "\n",
            "Test set: Average loss: 0.0028, Accuracy: 7629/10000 (76.29%)\n",
            "\n",
            "Epoch 36:\n"
          ]
        },
        {
          "output_type": "stream",
          "name": "stderr",
          "text": [
            "Loss=0.933131217956543 Batch_id=195 LR=0.00891 Accuracy=67.66: 100%|██████████| 196/196 [00:28<00:00,  6.89it/s]\n"
          ]
        },
        {
          "output_type": "stream",
          "name": "stdout",
          "text": [
            "\n",
            "Test set: Average loss: 0.0027, Accuracy: 7703/10000 (77.03%)\n",
            "\n",
            "Epoch 37:\n"
          ]
        },
        {
          "output_type": "stream",
          "name": "stderr",
          "text": [
            "Loss=0.8694039583206177 Batch_id=195 LR=0.00873 Accuracy=68.26: 100%|██████████| 196/196 [00:28<00:00,  6.89it/s]\n"
          ]
        },
        {
          "output_type": "stream",
          "name": "stdout",
          "text": [
            "\n",
            "Test set: Average loss: 0.0029, Accuracy: 7460/10000 (74.60%)\n",
            "\n",
            "Epoch 38:\n"
          ]
        },
        {
          "output_type": "stream",
          "name": "stderr",
          "text": [
            "Loss=1.0209470987319946 Batch_id=195 LR=0.00853 Accuracy=68.12: 100%|██████████| 196/196 [00:28<00:00,  6.88it/s]\n"
          ]
        },
        {
          "output_type": "stream",
          "name": "stdout",
          "text": [
            "\n",
            "Test set: Average loss: 0.0028, Accuracy: 7556/10000 (75.56%)\n",
            "\n",
            "Epoch 39:\n"
          ]
        },
        {
          "output_type": "stream",
          "name": "stderr",
          "text": [
            "Loss=0.959194540977478 Batch_id=195 LR=0.00833 Accuracy=68.63: 100%|██████████| 196/196 [00:28<00:00,  6.93it/s]\n"
          ]
        },
        {
          "output_type": "stream",
          "name": "stdout",
          "text": [
            "\n",
            "Test set: Average loss: 0.0028, Accuracy: 7599/10000 (75.99%)\n",
            "\n",
            "Epoch 40:\n"
          ]
        },
        {
          "output_type": "stream",
          "name": "stderr",
          "text": [
            "Loss=1.3356534242630005 Batch_id=195 LR=0.00812 Accuracy=68.53: 100%|██████████| 196/196 [00:28<00:00,  6.85it/s]\n"
          ]
        },
        {
          "output_type": "stream",
          "name": "stdout",
          "text": [
            "\n",
            "Test set: Average loss: 0.0026, Accuracy: 7756/10000 (77.56%)\n",
            "\n",
            "Epoch 41:\n"
          ]
        },
        {
          "output_type": "stream",
          "name": "stderr",
          "text": [
            "Loss=1.1186496019363403 Batch_id=195 LR=0.00789 Accuracy=68.53: 100%|██████████| 196/196 [00:28<00:00,  6.87it/s]\n"
          ]
        },
        {
          "output_type": "stream",
          "name": "stdout",
          "text": [
            "\n",
            "Test set: Average loss: 0.0026, Accuracy: 7747/10000 (77.47%)\n",
            "\n",
            "Epoch 42:\n"
          ]
        },
        {
          "output_type": "stream",
          "name": "stderr",
          "text": [
            "Loss=0.9227995872497559 Batch_id=195 LR=0.00766 Accuracy=69.08: 100%|██████████| 196/196 [00:28<00:00,  6.84it/s]\n"
          ]
        },
        {
          "output_type": "stream",
          "name": "stdout",
          "text": [
            "\n",
            "Test set: Average loss: 0.0025, Accuracy: 7836/10000 (78.36%)\n",
            "\n",
            "Epoch 43:\n"
          ]
        },
        {
          "output_type": "stream",
          "name": "stderr",
          "text": [
            "Loss=1.108260989189148 Batch_id=195 LR=0.00742 Accuracy=69.13: 100%|██████████| 196/196 [00:28<00:00,  6.80it/s]\n"
          ]
        },
        {
          "output_type": "stream",
          "name": "stdout",
          "text": [
            "\n",
            "Test set: Average loss: 0.0025, Accuracy: 7853/10000 (78.53%)\n",
            "\n",
            "Epoch 44:\n"
          ]
        },
        {
          "output_type": "stream",
          "name": "stderr",
          "text": [
            "Loss=0.9655777215957642 Batch_id=195 LR=0.00717 Accuracy=69.54: 100%|██████████| 196/196 [00:28<00:00,  6.78it/s]\n"
          ]
        },
        {
          "output_type": "stream",
          "name": "stdout",
          "text": [
            "\n",
            "Test set: Average loss: 0.0025, Accuracy: 7873/10000 (78.73%)\n",
            "\n",
            "Epoch 45:\n"
          ]
        },
        {
          "output_type": "stream",
          "name": "stderr",
          "text": [
            "Loss=0.6634911298751831 Batch_id=195 LR=0.00691 Accuracy=69.38: 100%|██████████| 196/196 [00:28<00:00,  6.88it/s]\n"
          ]
        },
        {
          "output_type": "stream",
          "name": "stdout",
          "text": [
            "\n",
            "Test set: Average loss: 0.0025, Accuracy: 7919/10000 (79.19%)\n",
            "\n",
            "Epoch 46:\n"
          ]
        },
        {
          "output_type": "stream",
          "name": "stderr",
          "text": [
            "Loss=1.0891649723052979 Batch_id=195 LR=0.00665 Accuracy=69.75: 100%|██████████| 196/196 [00:28<00:00,  6.84it/s]\n"
          ]
        },
        {
          "output_type": "stream",
          "name": "stdout",
          "text": [
            "\n",
            "Test set: Average loss: 0.0025, Accuracy: 7898/10000 (78.98%)\n",
            "\n",
            "Epoch 47:\n"
          ]
        },
        {
          "output_type": "stream",
          "name": "stderr",
          "text": [
            "Loss=0.7875875234603882 Batch_id=195 LR=0.00638 Accuracy=70.21: 100%|██████████| 196/196 [00:28<00:00,  6.82it/s]\n"
          ]
        },
        {
          "output_type": "stream",
          "name": "stdout",
          "text": [
            "\n",
            "Test set: Average loss: 0.0025, Accuracy: 7896/10000 (78.96%)\n",
            "\n",
            "Epoch 48:\n"
          ]
        },
        {
          "output_type": "stream",
          "name": "stderr",
          "text": [
            "Loss=0.9591058492660522 Batch_id=195 LR=0.00611 Accuracy=70.54: 100%|██████████| 196/196 [00:28<00:00,  6.80it/s]\n"
          ]
        },
        {
          "output_type": "stream",
          "name": "stdout",
          "text": [
            "\n",
            "Test set: Average loss: 0.0024, Accuracy: 8048/10000 (80.48%)\n",
            "\n",
            "Epoch 49:\n"
          ]
        },
        {
          "output_type": "stream",
          "name": "stderr",
          "text": [
            "Loss=0.7724288105964661 Batch_id=195 LR=0.00584 Accuracy=70.52: 100%|██████████| 196/196 [00:28<00:00,  6.91it/s]\n"
          ]
        },
        {
          "output_type": "stream",
          "name": "stdout",
          "text": [
            "\n",
            "Test set: Average loss: 0.0022, Accuracy: 8100/10000 (81.00%)\n",
            "\n",
            "Epoch 50:\n"
          ]
        },
        {
          "output_type": "stream",
          "name": "stderr",
          "text": [
            "Loss=0.7358719110488892 Batch_id=195 LR=0.00556 Accuracy=70.56: 100%|██████████| 196/196 [00:28<00:00,  6.83it/s]\n"
          ]
        },
        {
          "output_type": "stream",
          "name": "stdout",
          "text": [
            "\n",
            "Test set: Average loss: 0.0024, Accuracy: 7979/10000 (79.79%)\n",
            "\n",
            "Epoch 51:\n"
          ]
        },
        {
          "output_type": "stream",
          "name": "stderr",
          "text": [
            "Loss=0.8969652056694031 Batch_id=195 LR=0.00528 Accuracy=70.72: 100%|██████████| 196/196 [00:28<00:00,  6.81it/s]\n"
          ]
        },
        {
          "output_type": "stream",
          "name": "stdout",
          "text": [
            "\n",
            "Test set: Average loss: 0.0023, Accuracy: 8003/10000 (80.03%)\n",
            "\n",
            "Epoch 52:\n"
          ]
        },
        {
          "output_type": "stream",
          "name": "stderr",
          "text": [
            "Loss=0.836993396282196 Batch_id=195 LR=0.00500 Accuracy=71.40: 100%|██████████| 196/196 [00:28<00:00,  6.86it/s]\n"
          ]
        },
        {
          "output_type": "stream",
          "name": "stdout",
          "text": [
            "\n",
            "Test set: Average loss: 0.0023, Accuracy: 8010/10000 (80.10%)\n",
            "\n",
            "Epoch 53:\n"
          ]
        },
        {
          "output_type": "stream",
          "name": "stderr",
          "text": [
            "Loss=0.7243013381958008 Batch_id=195 LR=0.00472 Accuracy=71.49: 100%|██████████| 196/196 [00:28<00:00,  6.78it/s]\n"
          ]
        },
        {
          "output_type": "stream",
          "name": "stdout",
          "text": [
            "\n",
            "Test set: Average loss: 0.0022, Accuracy: 8069/10000 (80.69%)\n",
            "\n",
            "Epoch 54:\n"
          ]
        },
        {
          "output_type": "stream",
          "name": "stderr",
          "text": [
            "Loss=0.7660061717033386 Batch_id=195 LR=0.00444 Accuracy=71.75: 100%|██████████| 196/196 [00:28<00:00,  6.89it/s]\n"
          ]
        },
        {
          "output_type": "stream",
          "name": "stdout",
          "text": [
            "\n",
            "Test set: Average loss: 0.0024, Accuracy: 8008/10000 (80.08%)\n",
            "\n",
            "Epoch 55:\n"
          ]
        },
        {
          "output_type": "stream",
          "name": "stderr",
          "text": [
            "Loss=0.9809008836746216 Batch_id=195 LR=0.00416 Accuracy=72.04: 100%|██████████| 196/196 [00:28<00:00,  6.87it/s]\n"
          ]
        },
        {
          "output_type": "stream",
          "name": "stdout",
          "text": [
            "\n",
            "Test set: Average loss: 0.0023, Accuracy: 8068/10000 (80.68%)\n",
            "\n",
            "Epoch 56:\n"
          ]
        },
        {
          "output_type": "stream",
          "name": "stderr",
          "text": [
            "Loss=0.7424259781837463 Batch_id=195 LR=0.00389 Accuracy=72.34: 100%|██████████| 196/196 [00:28<00:00,  6.81it/s]\n"
          ]
        },
        {
          "output_type": "stream",
          "name": "stdout",
          "text": [
            "\n",
            "Test set: Average loss: 0.0022, Accuracy: 8111/10000 (81.11%)\n",
            "\n",
            "Epoch 57:\n"
          ]
        },
        {
          "output_type": "stream",
          "name": "stderr",
          "text": [
            "Loss=1.016801118850708 Batch_id=195 LR=0.00361 Accuracy=72.54: 100%|██████████| 196/196 [00:29<00:00,  6.70it/s]\n"
          ]
        },
        {
          "output_type": "stream",
          "name": "stdout",
          "text": [
            "\n",
            "Test set: Average loss: 0.0021, Accuracy: 8235/10000 (82.35%)\n",
            "\n",
            "Epoch 58:\n"
          ]
        },
        {
          "output_type": "stream",
          "name": "stderr",
          "text": [
            "Loss=0.7061943411827087 Batch_id=195 LR=0.00335 Accuracy=72.95: 100%|██████████| 196/196 [00:28<00:00,  6.80it/s]\n"
          ]
        },
        {
          "output_type": "stream",
          "name": "stdout",
          "text": [
            "\n",
            "Test set: Average loss: 0.0021, Accuracy: 8219/10000 (82.19%)\n",
            "\n",
            "Epoch 59:\n"
          ]
        },
        {
          "output_type": "stream",
          "name": "stderr",
          "text": [
            "Loss=0.8745347261428833 Batch_id=195 LR=0.00309 Accuracy=73.20: 100%|██████████| 196/196 [00:28<00:00,  6.78it/s]\n"
          ]
        },
        {
          "output_type": "stream",
          "name": "stdout",
          "text": [
            "\n",
            "Test set: Average loss: 0.0022, Accuracy: 8212/10000 (82.12%)\n",
            "\n",
            "Epoch 60:\n"
          ]
        },
        {
          "output_type": "stream",
          "name": "stderr",
          "text": [
            "Loss=0.8099256753921509 Batch_id=195 LR=0.00283 Accuracy=73.54: 100%|██████████| 196/196 [00:28<00:00,  6.87it/s]\n"
          ]
        },
        {
          "output_type": "stream",
          "name": "stdout",
          "text": [
            "\n",
            "Test set: Average loss: 0.0020, Accuracy: 8304/10000 (83.04%)\n",
            "\n",
            "Epoch 61:\n"
          ]
        },
        {
          "output_type": "stream",
          "name": "stderr",
          "text": [
            "Loss=0.8480998873710632 Batch_id=195 LR=0.00258 Accuracy=73.58: 100%|██████████| 196/196 [00:29<00:00,  6.75it/s]\n"
          ]
        },
        {
          "output_type": "stream",
          "name": "stdout",
          "text": [
            "\n",
            "Test set: Average loss: 0.0020, Accuracy: 8284/10000 (82.84%)\n",
            "\n",
            "Epoch 62:\n"
          ]
        },
        {
          "output_type": "stream",
          "name": "stderr",
          "text": [
            "Loss=0.7261093854904175 Batch_id=195 LR=0.00234 Accuracy=74.16: 100%|██████████| 196/196 [00:28<00:00,  6.85it/s]\n"
          ]
        },
        {
          "output_type": "stream",
          "name": "stdout",
          "text": [
            "\n",
            "Test set: Average loss: 0.0019, Accuracy: 8405/10000 (84.05%)\n",
            "\n",
            "Epoch 63:\n"
          ]
        },
        {
          "output_type": "stream",
          "name": "stderr",
          "text": [
            "Loss=0.8243073225021362 Batch_id=195 LR=0.00211 Accuracy=74.71: 100%|██████████| 196/196 [00:28<00:00,  6.78it/s]\n"
          ]
        },
        {
          "output_type": "stream",
          "name": "stdout",
          "text": [
            "\n",
            "Test set: Average loss: 0.0019, Accuracy: 8389/10000 (83.89%)\n",
            "\n",
            "Epoch 64:\n"
          ]
        },
        {
          "output_type": "stream",
          "name": "stderr",
          "text": [
            "Loss=0.6479948163032532 Batch_id=195 LR=0.00188 Accuracy=75.16: 100%|██████████| 196/196 [00:28<00:00,  6.82it/s]\n"
          ]
        },
        {
          "output_type": "stream",
          "name": "stdout",
          "text": [
            "\n",
            "Test set: Average loss: 0.0019, Accuracy: 8387/10000 (83.87%)\n",
            "\n",
            "Epoch 65:\n"
          ]
        },
        {
          "output_type": "stream",
          "name": "stderr",
          "text": [
            "Loss=0.7121745347976685 Batch_id=195 LR=0.00167 Accuracy=75.49: 100%|██████████| 196/196 [00:28<00:00,  6.82it/s]\n"
          ]
        },
        {
          "output_type": "stream",
          "name": "stdout",
          "text": [
            "\n",
            "Test set: Average loss: 0.0018, Accuracy: 8450/10000 (84.50%)\n",
            "\n",
            "Epoch 66:\n"
          ]
        },
        {
          "output_type": "stream",
          "name": "stderr",
          "text": [
            "Loss=0.8674308657646179 Batch_id=195 LR=0.00146 Accuracy=75.78: 100%|██████████| 196/196 [00:28<00:00,  6.83it/s]\n"
          ]
        },
        {
          "output_type": "stream",
          "name": "stdout",
          "text": [
            "\n",
            "Test set: Average loss: 0.0019, Accuracy: 8436/10000 (84.36%)\n",
            "\n",
            "Epoch 67:\n"
          ]
        },
        {
          "output_type": "stream",
          "name": "stderr",
          "text": [
            "Loss=0.6801562905311584 Batch_id=195 LR=0.00127 Accuracy=76.14: 100%|██████████| 196/196 [00:28<00:00,  6.85it/s]\n"
          ]
        },
        {
          "output_type": "stream",
          "name": "stdout",
          "text": [
            "\n",
            "Test set: Average loss: 0.0018, Accuracy: 8513/10000 (85.13%)\n",
            "\n",
            "Epoch 68:\n"
          ]
        },
        {
          "output_type": "stream",
          "name": "stderr",
          "text": [
            "Loss=0.6672330498695374 Batch_id=195 LR=0.00109 Accuracy=76.00: 100%|██████████| 196/196 [00:28<00:00,  6.89it/s]\n"
          ]
        },
        {
          "output_type": "stream",
          "name": "stdout",
          "text": [
            "\n",
            "Test set: Average loss: 0.0018, Accuracy: 8525/10000 (85.25%)\n",
            "\n",
            "Epoch 69:\n"
          ]
        },
        {
          "output_type": "stream",
          "name": "stderr",
          "text": [
            "Loss=0.783539891242981 Batch_id=195 LR=0.00092 Accuracy=76.51: 100%|██████████| 196/196 [00:28<00:00,  6.85it/s]\n"
          ]
        },
        {
          "output_type": "stream",
          "name": "stdout",
          "text": [
            "\n",
            "Test set: Average loss: 0.0017, Accuracy: 8542/10000 (85.42%)\n",
            "\n",
            "Epoch 70:\n"
          ]
        },
        {
          "output_type": "stream",
          "name": "stderr",
          "text": [
            "Loss=0.6793501377105713 Batch_id=195 LR=0.00077 Accuracy=76.70: 100%|██████████| 196/196 [00:28<00:00,  6.86it/s]\n"
          ]
        },
        {
          "output_type": "stream",
          "name": "stdout",
          "text": [
            "\n",
            "Test set: Average loss: 0.0017, Accuracy: 8542/10000 (85.42%)\n",
            "\n",
            "Epoch 71:\n"
          ]
        },
        {
          "output_type": "stream",
          "name": "stderr",
          "text": [
            "Loss=0.5924854874610901 Batch_id=195 LR=0.00062 Accuracy=76.79: 100%|██████████| 196/196 [00:28<00:00,  6.82it/s]\n"
          ]
        },
        {
          "output_type": "stream",
          "name": "stdout",
          "text": [
            "\n",
            "Test set: Average loss: 0.0017, Accuracy: 8569/10000 (85.69%)\n",
            "\n",
            "Epoch 72:\n"
          ]
        },
        {
          "output_type": "stream",
          "name": "stderr",
          "text": [
            "Loss=0.5590924620628357 Batch_id=195 LR=0.00049 Accuracy=77.34: 100%|██████████| 196/196 [00:28<00:00,  6.91it/s]\n"
          ]
        },
        {
          "output_type": "stream",
          "name": "stdout",
          "text": [
            "\n",
            "Test set: Average loss: 0.0018, Accuracy: 8559/10000 (85.59%)\n",
            "\n",
            "Epoch 73:\n"
          ]
        },
        {
          "output_type": "stream",
          "name": "stderr",
          "text": [
            "Loss=0.9360953569412231 Batch_id=195 LR=0.00038 Accuracy=77.16: 100%|██████████| 196/196 [00:28<00:00,  6.85it/s]\n"
          ]
        },
        {
          "output_type": "stream",
          "name": "stdout",
          "text": [
            "\n",
            "Test set: Average loss: 0.0017, Accuracy: 8593/10000 (85.93%)\n",
            "\n",
            "Epoch 74:\n"
          ]
        },
        {
          "output_type": "stream",
          "name": "stderr",
          "text": [
            "Loss=0.6578344702720642 Batch_id=195 LR=0.00028 Accuracy=77.16: 100%|██████████| 196/196 [00:28<00:00,  6.81it/s]\n"
          ]
        },
        {
          "output_type": "stream",
          "name": "stdout",
          "text": [
            "\n",
            "Test set: Average loss: 0.0017, Accuracy: 8584/10000 (85.84%)\n",
            "\n",
            "Epoch 75:\n"
          ]
        },
        {
          "output_type": "stream",
          "name": "stderr",
          "text": [
            "Loss=0.5903981328010559 Batch_id=195 LR=0.00020 Accuracy=77.71: 100%|██████████| 196/196 [00:28<00:00,  6.80it/s]\n"
          ]
        },
        {
          "output_type": "stream",
          "name": "stdout",
          "text": [
            "\n",
            "Test set: Average loss: 0.0017, Accuracy: 8601/10000 (86.01%)\n",
            "\n",
            "Epoch 76:\n"
          ]
        },
        {
          "output_type": "stream",
          "name": "stderr",
          "text": [
            "Loss=0.8037152290344238 Batch_id=195 LR=0.00013 Accuracy=77.61: 100%|██████████| 196/196 [00:29<00:00,  6.72it/s]\n"
          ]
        },
        {
          "output_type": "stream",
          "name": "stdout",
          "text": [
            "\n",
            "Test set: Average loss: 0.0017, Accuracy: 8606/10000 (86.06%)\n",
            "\n",
            "Epoch 77:\n"
          ]
        },
        {
          "output_type": "stream",
          "name": "stderr",
          "text": [
            "Loss=0.7046481370925903 Batch_id=195 LR=0.00007 Accuracy=78.01: 100%|██████████| 196/196 [00:28<00:00,  6.79it/s]\n"
          ]
        },
        {
          "output_type": "stream",
          "name": "stdout",
          "text": [
            "\n",
            "Test set: Average loss: 0.0017, Accuracy: 8606/10000 (86.06%)\n",
            "\n",
            "Epoch 78:\n"
          ]
        },
        {
          "output_type": "stream",
          "name": "stderr",
          "text": [
            "Loss=0.8595417737960815 Batch_id=195 LR=0.00003 Accuracy=78.02: 100%|██████████| 196/196 [00:29<00:00,  6.72it/s]\n"
          ]
        },
        {
          "output_type": "stream",
          "name": "stdout",
          "text": [
            "\n",
            "Test set: Average loss: 0.0017, Accuracy: 8622/10000 (86.22%)\n",
            "\n",
            "Epoch 79:\n"
          ]
        },
        {
          "output_type": "stream",
          "name": "stderr",
          "text": [
            "Loss=0.5318413972854614 Batch_id=195 LR=0.00001 Accuracy=77.92: 100%|██████████| 196/196 [00:29<00:00,  6.76it/s]\n"
          ]
        },
        {
          "output_type": "stream",
          "name": "stdout",
          "text": [
            "\n",
            "Test set: Average loss: 0.0017, Accuracy: 8620/10000 (86.20%)\n",
            "\n",
            "Epoch 80:\n"
          ]
        },
        {
          "output_type": "stream",
          "name": "stderr",
          "text": [
            "Loss=0.829922080039978 Batch_id=195 LR=0.00000 Accuracy=77.77: 100%|██████████| 196/196 [00:28<00:00,  6.80it/s]\n"
          ]
        },
        {
          "output_type": "stream",
          "name": "stdout",
          "text": [
            "\n",
            "Test set: Average loss: 0.0017, Accuracy: 8619/10000 (86.19%)\n",
            "\n"
          ]
        }
      ]
    },
    {
      "cell_type": "code",
      "metadata": {
        "id": "ph_JHVIldWhL",
        "colab": {
          "base_uri": "https://localhost:8080/",
          "height": 358
        },
        "outputId": "d6344dbd-1f2b-443c-8966-efbec614e06e"
      },
      "source": [
        "plot_metrics(exp_metrics[experiment_name])     "
      ],
      "execution_count": 38,
      "outputs": [
        {
          "output_type": "display_data",
          "data": {
            "image/png": "[encoded data removed]",
            "text/plain": [
              "<Figure size 1800x432 with 2 Axes>"
            ]
          },
          "metadata": {}
        }
      ]
    },
    {
      "cell_type": "code",
      "metadata": {
        "colab": {
          "base_uri": "https://localhost:8080/",
          "height": 650
        },
        "id": "XzaMWe2icG5H",
        "outputId": "44a1936f-8e6a-41c4-9505-ea32e0cc7123"
      },
      "source": [
        "# model = torch.load(f'./saved_models/{experiment_name}.pt')\n",
        "model.eval()\n",
        "wrong_predictions(cifar_dataset.test_loader,\n",
        "                  use_cuda,\n",
        "                  model)"
      ],
      "execution_count": 39,
      "outputs": [
        {
          "output_type": "stream",
          "name": "stderr",
          "text": [
            "Clipping input data to the valid range for imshow with RGB data ([0..1] for floats or [0..255] for integers).\n",
            "Clipping input data to the valid range for imshow with RGB data ([0..1] for floats or [0..255] for integers).\n",
            "Clipping input data to the valid range for imshow with RGB data ([0..1] for floats or [0..255] for integers).\n",
            "Clipping input data to the valid range for imshow with RGB data ([0..1] for floats or [0..255] for integers).\n",
            "Clipping input data to the valid range for imshow with RGB data ([0..1] for floats or [0..255] for integers).\n",
            "Clipping input data to the valid range for imshow with RGB data ([0..1] for floats or [0..255] for integers).\n",
            "Clipping input data to the valid range for imshow with RGB data ([0..1] for floats or [0..255] for integers).\n",
            "Clipping input data to the valid range for imshow with RGB data ([0..1] for floats or [0..255] for integers).\n"
          ]
        },
        {
          "output_type": "stream",
          "name": "stdout",
          "text": [
            "Total wrong predictions are 1381\n"
          ]
        },
        {
          "output_type": "stream",
          "name": "stderr",
          "text": [
            "Clipping input data to the valid range for imshow with RGB data ([0..1] for floats or [0..255] for integers).\n",
            "Clipping input data to the valid range for imshow with RGB data ([0..1] for floats or [0..255] for integers).\n"
          ]
        },
        {
          "output_type": "display_data",
          "data": {
            "image/png": "[encoded data removed]",
            "text/plain": [
              "<Figure size 1296x1440 with 10 Axes>"
            ]
          },
          "metadata": {}
        }
      ]
    },
    {
      "cell_type": "code",
      "metadata": {
        "colab": {
          "base_uri": "https://localhost:8080/"
        },
        "id": "xgi9fxd8enC6",
        "outputId": "36cd7ced-a7bc-4e55-fedd-be2ddfd4ac6c"
      },
      "source": [
        "class_level_accuracy(model, cifar_dataset.test_loader, device)"
      ],
      "execution_count": 40,
      "outputs": [
        {
          "output_type": "stream",
          "name": "stdout",
          "text": [
            "Accuracy of airplane : 88 %\n",
            "Accuracy of automobile : 92 %\n",
            "Accuracy of  bird : 68 %\n",
            "Accuracy of   cat : 83 %\n",
            "Accuracy of  deer : 85 %\n",
            "Accuracy of   dog : 70 %\n",
            "Accuracy of  frog : 82 %\n",
            "Accuracy of horse : 92 %\n",
            "Accuracy of  ship : 95 %\n",
            "Accuracy of truck : 85 %\n"
          ]
        }
      ]
    },
    {
      "cell_type": "code",
      "metadata": {
        "id": "oglcPAaOfxB-",
        "colab": {
          "base_uri": "https://localhost:8080/",
          "height": 578
        },
        "outputId": "ac57e446-d0e8-4a11-8095-61138169c5d0"
      },
      "source": [
        "visualize_sample_test_result(model, \n",
        "                             cifar_dataset.test_loader,\n",
        "                             use_cuda)"
      ],
      "execution_count": 41,
      "outputs": [
        {
          "output_type": "stream",
          "name": "stderr",
          "text": [
            "Clipping input data to the valid range for imshow with RGB data ([0..1] for floats or [0..255] for integers).\n",
            "Clipping input data to the valid range for imshow with RGB data ([0..1] for floats or [0..255] for integers).\n",
            "Clipping input data to the valid range for imshow with RGB data ([0..1] for floats or [0..255] for integers).\n",
            "Clipping input data to the valid range for imshow with RGB data ([0..1] for floats or [0..255] for integers).\n",
            "Clipping input data to the valid range for imshow with RGB data ([0..1] for floats or [0..255] for integers).\n",
            "Clipping input data to the valid range for imshow with RGB data ([0..1] for floats or [0..255] for integers).\n",
            "Clipping input data to the valid range for imshow with RGB data ([0..1] for floats or [0..255] for integers).\n",
            "Clipping input data to the valid range for imshow with RGB data ([0..1] for floats or [0..255] for integers).\n",
            "Clipping input data to the valid range for imshow with RGB data ([0..1] for floats or [0..255] for integers).\n",
            "Clipping input data to the valid range for imshow with RGB data ([0..1] for floats or [0..255] for integers).\n",
            "Clipping input data to the valid range for imshow with RGB data ([0..1] for floats or [0..255] for integers).\n",
            "Clipping input data to the valid range for imshow with RGB data ([0..1] for floats or [0..255] for integers).\n",
            "Clipping input data to the valid range for imshow with RGB data ([0..1] for floats or [0..255] for integers).\n",
            "Clipping input data to the valid range for imshow with RGB data ([0..1] for floats or [0..255] for integers).\n",
            "Clipping input data to the valid range for imshow with RGB data ([0..1] for floats or [0..255] for integers).\n",
            "Clipping input data to the valid range for imshow with RGB data ([0..1] for floats or [0..255] for integers).\n",
            "Clipping input data to the valid range for imshow with RGB data ([0..1] for floats or [0..255] for integers).\n",
            "Clipping input data to the valid range for imshow with RGB data ([0..1] for floats or [0..255] for integers).\n",
            "Clipping input data to the valid range for imshow with RGB data ([0..1] for floats or [0..255] for integers).\n",
            "Clipping input data to the valid range for imshow with RGB data ([0..1] for floats or [0..255] for integers).\n"
          ]
        },
        {
          "output_type": "display_data",
          "data": {
            "image/png": "[encoded data removed]",
            "text/plain": [
              "<Figure size 1800x288 with 20 Axes>"
            ]
          },
          "metadata": {}
        }
      ]
    },
    {
      "cell_type": "code",
      "metadata": {
        "colab": {
          "base_uri": "https://localhost:8080/"
        },
        "id": "4cuJqA9okoS_",
        "outputId": "dea82735-c563-4fd7-af8d-c6b8ed284a89"
      },
      "source": [
        "!pip install torchviz"
      ],
      "execution_count": 42,
      "outputs": [
        {
          "output_type": "stream",
          "name": "stdout",
          "text": [
            "Collecting torchviz\n",
            "  Downloading torchviz-0.0.2.tar.gz (4.9 kB)\n",
            "Requirement already satisfied: torch in /usr/local/lib/python3.7/dist-packages (from torchviz) (1.10.0+cu111)\n",
            "Requirement already satisfied: graphviz in /usr/local/lib/python3.7/dist-packages (from torchviz) (0.10.1)\n",
            "Requirement already satisfied: typing-extensions in /usr/local/lib/python3.7/dist-packages (from torch->torchviz) (3.10.0.2)\n",
            "Building wheels for collected packages: torchviz\n",
            "  Building wheel for torchviz (setup.py) ... \u001b[?25l\u001b[?25hdone\n",
            "  Created wheel for torchviz: filename=torchviz-0.0.2-py3-none-any.whl size=4151 sha256=9bd25a974a7d4496cc45c4752c675e7dc7534d39fd69367f8bcb48d6df6d4d8e\n",
            "  Stored in directory: /root/.cache/pip/wheels/04/38/f5/dc4f85c3909051823df49901e72015d2d750bd26b086480ec2\n",
            "Successfully built torchviz\n",
            "Installing collected packages: torchviz\n",
            "Successfully installed torchviz-0.0.2\n"
          ]
        }
      ]
    },
    {
      "cell_type": "code",
      "metadata": {
        "id": "p8tVyUnPqGYN"
      },
      "source": [
        "model = model.to(device)"
      ],
      "execution_count": 43,
      "outputs": []
    },
    {
      "cell_type": "code",
      "metadata": {
        "colab": {
          "base_uri": "https://localhost:8080/",
          "height": 1000
        },
        "id": "KxAOindLkjLq",
        "outputId": "53438808-b77f-4a2e-e66c-61f9d6a9c6ea"
      },
      "source": [
        " from torchviz import make_dot\n",
        " x = torch.randn(1, 3, 32, 32).requires_grad_(True).cuda()\n",
        " y = model(x)   \n",
        " MyConvNetVis = make_dot(y, params=dict(list(model.named_parameters()) + [('x', x)]))\n",
        " MyConvNetVis.format = \"png\"\n",
        " MyConvNetVis.directory = \"data\"\n",
        " MyConvNetVis.view()\n",
        " make_dot(y.mean(), params=dict(model.named_parameters()))\n"
      ],
      "execution_count": 44,
      "outputs": [
        {
          "output_type": "execute_result",
          "data": {
            "text/plain": [
              "<graphviz.dot.Digraph at 0x7f7f27afc750>"
            ],
            "image/svg+xml": "<?xml version=\"1.0\" encoding=\"UTF-8\" standalone=\"no\"?>\n<!DOCTYPE svg PUBLIC \"-//W3C//DTD SVG 1.1//EN\"\n \"http://www.w3.org/Graphics/SVG/1.1/DTD/svg11.dtd\">\n<!-- Generated by graphviz version 2.40.1 (20161225.0304)\n -->\n<!-- Title: %3 Pages: 1 -->\n<svg width=\"2365pt\" height=\"1831pt\"\n viewBox=\"0.00 0.00 2365.00 1830.97\" xmlns=\"http://www.w3.org/2000/svg\" xmlns:xlink=\"http://www.w3.org/1999/xlink\">\n<g id=\"graph0\" class=\"graph\" transform=\"scale(.7064 .7064) rotate(0) translate(4 2588)\">\n<title>%3</title>\n<polygon fill=\"#ffffff\" stroke=\"transparent\" points=\"-4,4 -4,-2588 3344,-2588 3344,4 -4,4\"/>\n<!-- 140178788202352 -->\n<g id=\"node1\" class=\"node\">\n<title>140178788202352</title>\n<polygon fill=\"#caff70\" stroke=\"#000000\" points=\"3197.5,-31 3143.5,-31 3143.5,0 3197.5,0 3197.5,-31\"/>\n<text text-anchor=\"middle\" x=\"3170.5\" y=\"-7\" font-family=\"monospace\" font-size=\"10.00\" fill=\"#000000\"> ()</text>\n</g>\n<!-- 140179186163024 -->\n<g id=\"node2\" class=\"node\">\n<title>140179186163024</title>\n<polygon fill=\"#d3d3d3\" stroke=\"#000000\" points=\"3218,-86 3123,-86 3123,-67 3218,-67 3218,-86\"/>\n<text text-anchor=\"middle\" x=\"3170.5\" y=\"-74\" font-family=\"monospace\" font-size=\"10.00\" fill=\"#000000\">MeanBackward0</text>\n</g>\n<!-- 140179186163024&#45;&gt;140178788202352 -->\n<g id=\"edge109\" class=\"edge\">\n<title>140179186163024&#45;&gt;140178788202352</title>\n<path fill=\"none\" stroke=\"#000000\" d=\"M3170.5,-66.9688C3170.5,-60.1289 3170.5,-50.5621 3170.5,-41.5298\"/>\n<polygon fill=\"#000000\" stroke=\"#000000\" points=\"3174.0001,-41.3678 3170.5,-31.3678 3167.0001,-41.3678 3174.0001,-41.3678\"/>\n</g>\n<!-- 140178795738192 -->\n<g id=\"node3\" class=\"node\">\n<title>140178795738192</title>\n<polygon fill=\"#d3d3d3\" stroke=\"#000000\" points=\"3236,-141 3105,-141 3105,-122 3236,-122 3236,-141\"/>\n<text text-anchor=\"middle\" x=\"3170.5\" y=\"-129\" font-family=\"monospace\" font-size=\"10.00\" fill=\"#000000\">LogSoftmaxBackward0</text>\n</g>\n<!-- 140178795738192&#45;&gt;140179186163024 -->\n<g id=\"edge1\" class=\"edge\">\n<title>140178795738192&#45;&gt;140179186163024</title>\n<path fill=\"none\" stroke=\"#000000\" d=\"M3170.5,-121.9197C3170.5,-114.9083 3170.5,-105.1442 3170.5,-96.4652\"/>\n<polygon fill=\"#000000\" stroke=\"#000000\" points=\"3174.0001,-96.3408 3170.5,-86.3408 3167.0001,-96.3409 3174.0001,-96.3408\"/>\n</g>\n<!-- 140178789040848 -->\n<g id=\"node4\" class=\"node\">\n<title>140178789040848</title>\n<polygon fill=\"#d3d3d3\" stroke=\"#000000\" points=\"3218,-196 3123,-196 3123,-177 3218,-177 3218,-196\"/>\n<text text-anchor=\"middle\" x=\"3170.5\" y=\"-184\" font-family=\"monospace\" font-size=\"10.00\" fill=\"#000000\">ViewBackward0</text>\n</g>\n<!-- 140178789040848&#45;&gt;140178795738192 -->\n<g id=\"edge2\" class=\"edge\">\n<title>140178789040848&#45;&gt;140178795738192</title>\n<path fill=\"none\" stroke=\"#000000\" d=\"M3170.5,-176.9197C3170.5,-169.9083 3170.5,-160.1442 3170.5,-151.4652\"/>\n<polygon fill=\"#000000\" stroke=\"#000000\" points=\"3174.0001,-151.3408 3170.5,-141.3408 3167.0001,-151.3409 3174.0001,-151.3408\"/>\n</g>\n<!-- 140179144107024 -->\n<g id=\"node5\" class=\"node\">\n<title>140179144107024</title>\n<polygon fill=\"#d3d3d3\" stroke=\"#000000\" points=\"3218,-251 3123,-251 3123,-232 3218,-232 3218,-251\"/>\n<text text-anchor=\"middle\" x=\"3170.5\" y=\"-239\" font-family=\"monospace\" font-size=\"10.00\" fill=\"#000000\">MeanBackward1</text>\n</g>\n<!-- 140179144107024&#45;&gt;140178789040848 -->\n<g id=\"edge3\" class=\"edge\">\n<title>140179144107024&#45;&gt;140178789040848</title>\n<path fill=\"none\" stroke=\"#000000\" d=\"M3170.5,-231.9197C3170.5,-224.9083 3170.5,-215.1442 3170.5,-206.4652\"/>\n<polygon fill=\"#000000\" stroke=\"#000000\" points=\"3174.0001,-206.3408 3170.5,-196.3408 3167.0001,-206.3409 3174.0001,-206.3408\"/>\n</g>\n<!-- 140179144107472 -->\n<g id=\"node6\" class=\"node\">\n<title>140179144107472</title>\n<polygon fill=\"#d3d3d3\" stroke=\"#000000\" points=\"3248,-306 3093,-306 3093,-287 3248,-287 3248,-306\"/>\n<text text-anchor=\"middle\" x=\"3170.5\" y=\"-294\" font-family=\"monospace\" font-size=\"10.00\" fill=\"#000000\">CudnnBatchNormBackward0</text>\n</g>\n<!-- 140179144107472&#45;&gt;140179144107024 -->\n<g id=\"edge4\" class=\"edge\">\n<title>140179144107472&#45;&gt;140179144107024</title>\n<path fill=\"none\" stroke=\"#000000\" d=\"M3170.5,-286.9197C3170.5,-279.9083 3170.5,-270.1442 3170.5,-261.4652\"/>\n<polygon fill=\"#000000\" stroke=\"#000000\" points=\"3174.0001,-261.3408 3170.5,-251.3408 3167.0001,-261.3409 3174.0001,-261.3408\"/>\n</g>\n<!-- 140179158822352 -->\n<g id=\"node7\" class=\"node\">\n<title>140179158822352</title>\n<polygon fill=\"#d3d3d3\" stroke=\"#000000\" points=\"3086,-361 2991,-361 2991,-342 3086,-342 3086,-361\"/>\n<text text-anchor=\"middle\" x=\"3038.5\" y=\"-349\" font-family=\"monospace\" font-size=\"10.00\" fill=\"#000000\">ReluBackward0</text>\n</g>\n<!-- 140179158822352&#45;&gt;140179144107472 -->\n<g id=\"edge5\" class=\"edge\">\n<title>140179158822352&#45;&gt;140179144107472</title>\n<path fill=\"none\" stroke=\"#000000\" d=\"M3061.4926,-341.9197C3082.6567,-333.1014 3114.2711,-319.9287 3138.0116,-310.0369\"/>\n<polygon fill=\"#000000\" stroke=\"#000000\" points=\"3139.4433,-313.232 3147.3279,-306.155 3136.751,-306.7705 3139.4433,-313.232\"/>\n</g>\n<!-- 140179144131536 -->\n<g id=\"node8\" class=\"node\">\n<title>140179144131536</title>\n<polygon fill=\"#d3d3d3\" stroke=\"#000000\" points=\"3105,-421.5 2938,-421.5 2938,-402.5 3105,-402.5 3105,-421.5\"/>\n<text text-anchor=\"middle\" x=\"3021.5\" y=\"-409.5\" font-family=\"monospace\" font-size=\"10.00\" fill=\"#000000\">CudnnConvolutionBackward0</text>\n</g>\n<!-- 140179144131536&#45;&gt;140179158822352 -->\n<g id=\"edge6\" class=\"edge\">\n<title>140179144131536&#45;&gt;140179158822352</title>\n<path fill=\"none\" stroke=\"#000000\" d=\"M3024.2313,-402.2796C3026.5719,-393.9499 3030.0174,-381.688 3032.9363,-371.3004\"/>\n<polygon fill=\"#000000\" stroke=\"#000000\" points=\"3036.3832,-371.9712 3035.719,-361.3972 3029.6442,-370.0776 3036.3832,-371.9712\"/>\n</g>\n<!-- 140178794587920 -->\n<g id=\"node9\" class=\"node\">\n<title>140178794587920</title>\n<polygon fill=\"#d3d3d3\" stroke=\"#000000\" points=\"3028,-482 2867,-482 2867,-463 3028,-463 3028,-482\"/>\n<text text-anchor=\"middle\" x=\"2947.5\" y=\"-470\" font-family=\"monospace\" font-size=\"10.00\" fill=\"#000000\">ConvDepthwise2DBackward0</text>\n</g>\n<!-- 140178794587920&#45;&gt;140179144131536 -->\n<g id=\"edge7\" class=\"edge\">\n<title>140178794587920&#45;&gt;140179144131536</title>\n<path fill=\"none\" stroke=\"#000000\" d=\"M2959.3894,-462.7796C2970.7575,-453.4855 2988.1135,-439.2957 3001.5916,-428.2765\"/>\n<polygon fill=\"#000000\" stroke=\"#000000\" points=\"3003.8677,-430.9365 3009.3943,-421.8972 2999.437,-425.5171 3003.8677,-430.9365\"/>\n</g>\n<!-- 140178795737552 -->\n<g id=\"node10\" class=\"node\">\n<title>140178795737552</title>\n<polygon fill=\"#d3d3d3\" stroke=\"#000000\" points=\"2870,-542.5 2715,-542.5 2715,-523.5 2870,-523.5 2870,-542.5\"/>\n<text text-anchor=\"middle\" x=\"2792.5\" y=\"-530.5\" font-family=\"monospace\" font-size=\"10.00\" fill=\"#000000\">CudnnBatchNormBackward0</text>\n</g>\n<!-- 140178795737552&#45;&gt;140178794587920 -->\n<g id=\"edge8\" class=\"edge\">\n<title>140178795737552&#45;&gt;140178794587920</title>\n<path fill=\"none\" stroke=\"#000000\" d=\"M2817.0602,-523.4136C2843.1359,-513.2357 2884.5276,-497.0795 2913.678,-485.7015\"/>\n<polygon fill=\"#000000\" stroke=\"#000000\" points=\"2915.0118,-488.9381 2923.0547,-482.0416 2912.4665,-482.4172 2915.0118,-488.9381\"/>\n</g>\n<!-- 140178794587664 -->\n<g id=\"node11\" class=\"node\">\n<title>140178794587664</title>\n<polygon fill=\"#d3d3d3\" stroke=\"#000000\" points=\"2662,-608.5 2567,-608.5 2567,-589.5 2662,-589.5 2662,-608.5\"/>\n<text text-anchor=\"middle\" x=\"2614.5\" y=\"-596.5\" font-family=\"monospace\" font-size=\"10.00\" fill=\"#000000\">ReluBackward0</text>\n</g>\n<!-- 140178794587664&#45;&gt;140178795737552 -->\n<g id=\"edge9\" class=\"edge\">\n<title>140178794587664&#45;&gt;140178795737552</title>\n<path fill=\"none\" stroke=\"#000000\" d=\"M2640.3827,-589.403C2671.186,-577.9816 2722.7718,-558.8543 2757.2131,-546.0839\"/>\n<polygon fill=\"#000000\" stroke=\"#000000\" points=\"2758.7154,-549.2598 2766.8748,-542.5015 2756.2818,-542.6964 2758.7154,-549.2598\"/>\n</g>\n<!-- 140178794587216 -->\n<g id=\"node12\" class=\"node\">\n<title>140178794587216</title>\n<polygon fill=\"#d3d3d3\" stroke=\"#000000\" points=\"2681,-674.5 2514,-674.5 2514,-655.5 2681,-655.5 2681,-674.5\"/>\n<text text-anchor=\"middle\" x=\"2597.5\" y=\"-662.5\" font-family=\"monospace\" font-size=\"10.00\" fill=\"#000000\">CudnnConvolutionBackward0</text>\n</g>\n<!-- 140178794587216&#45;&gt;140178794587664 -->\n<g id=\"edge10\" class=\"edge\">\n<title>140178794587216&#45;&gt;140178794587664</title>\n<path fill=\"none\" stroke=\"#000000\" d=\"M2600.0084,-655.2615C2602.4692,-645.7077 2606.2932,-630.8615 2609.3953,-618.8183\"/>\n<polygon fill=\"#000000\" stroke=\"#000000\" points=\"2612.8763,-619.3354 2611.9813,-608.7785 2606.0975,-617.5894 2612.8763,-619.3354\"/>\n</g>\n<!-- 140178794586896 -->\n<g id=\"node13\" class=\"node\">\n<title>140178794586896</title>\n<polygon fill=\"#d3d3d3\" stroke=\"#000000\" points=\"2587,-735 2492,-735 2492,-716 2587,-716 2587,-735\"/>\n<text text-anchor=\"middle\" x=\"2539.5\" y=\"-723\" font-family=\"monospace\" font-size=\"10.00\" fill=\"#000000\">ReluBackward0</text>\n</g>\n<!-- 140178794586896&#45;&gt;140178794587216 -->\n<g id=\"edge11\" class=\"edge\">\n<title>140178794586896&#45;&gt;140178794587216</title>\n<path fill=\"none\" stroke=\"#000000\" d=\"M2548.8187,-715.7796C2557.4766,-706.7485 2570.566,-693.095 2580.9921,-682.2195\"/>\n<polygon fill=\"#000000\" stroke=\"#000000\" points=\"2583.6179,-684.538 2588.0117,-674.8972 2578.5648,-679.6938 2583.6179,-684.538\"/>\n</g>\n<!-- 140184103458000 -->\n<g id=\"node14\" class=\"node\">\n<title>140184103458000</title>\n<polygon fill=\"#d3d3d3\" stroke=\"#000000\" points=\"2584,-795.5 2495,-795.5 2495,-776.5 2584,-776.5 2584,-795.5\"/>\n<text text-anchor=\"middle\" x=\"2539.5\" y=\"-783.5\" font-family=\"monospace\" font-size=\"10.00\" fill=\"#000000\">AddBackward0</text>\n</g>\n<!-- 140184103458000&#45;&gt;140178794586896 -->\n<g id=\"edge12\" class=\"edge\">\n<title>140184103458000&#45;&gt;140178794586896</title>\n<path fill=\"none\" stroke=\"#000000\" d=\"M2539.5,-776.2796C2539.5,-768.0376 2539.5,-755.9457 2539.5,-745.629\"/>\n<polygon fill=\"#000000\" stroke=\"#000000\" points=\"2543.0001,-745.3972 2539.5,-735.3972 2536.0001,-745.3973 2543.0001,-745.3972\"/>\n</g>\n<!-- 140178794588176 -->\n<g id=\"node15\" class=\"node\">\n<title>140178794588176</title>\n<polygon fill=\"#d3d3d3\" stroke=\"#000000\" points=\"2537,-856 2370,-856 2370,-837 2537,-837 2537,-856\"/>\n<text text-anchor=\"middle\" x=\"2453.5\" y=\"-844\" font-family=\"monospace\" font-size=\"10.00\" fill=\"#000000\">CudnnConvolutionBackward0</text>\n</g>\n<!-- 140178794588176&#45;&gt;140184103458000 -->\n<g id=\"edge13\" class=\"edge\">\n<title>140178794588176&#45;&gt;140184103458000</title>\n<path fill=\"none\" stroke=\"#000000\" d=\"M2467.3174,-836.7796C2480.8583,-827.2537 2501.7096,-812.5851 2517.5263,-801.4583\"/>\n<polygon fill=\"#000000\" stroke=\"#000000\" points=\"2519.5518,-804.3127 2525.7169,-795.6962 2515.5242,-798.5874 2519.5518,-804.3127\"/>\n</g>\n<!-- 140178788164688 -->\n<g id=\"node16\" class=\"node\">\n<title>140178788164688</title>\n<polygon fill=\"#d3d3d3\" stroke=\"#000000\" points=\"2358,-911 2203,-911 2203,-892 2358,-892 2358,-911\"/>\n<text text-anchor=\"middle\" x=\"2280.5\" y=\"-899\" font-family=\"monospace\" font-size=\"10.00\" fill=\"#000000\">CudnnBatchNormBackward0</text>\n</g>\n<!-- 140178788164688&#45;&gt;140178794588176 -->\n<g id=\"edge14\" class=\"edge\">\n<title>140178788164688&#45;&gt;140178794588176</title>\n<path fill=\"none\" stroke=\"#000000\" d=\"M2310.6343,-891.9197C2339.1991,-882.8384 2382.289,-869.1393 2413.6754,-859.161\"/>\n<polygon fill=\"#000000\" stroke=\"#000000\" points=\"2414.9517,-862.4279 2423.4213,-856.0626 2412.8309,-855.7569 2414.9517,-862.4279\"/>\n</g>\n<!-- 140178788163664 -->\n<g id=\"node17\" class=\"node\">\n<title>140178788163664</title>\n<polygon fill=\"#d3d3d3\" stroke=\"#000000\" points=\"2155,-971.5 2060,-971.5 2060,-952.5 2155,-952.5 2155,-971.5\"/>\n<text text-anchor=\"middle\" x=\"2107.5\" y=\"-959.5\" font-family=\"monospace\" font-size=\"10.00\" fill=\"#000000\">ReluBackward0</text>\n</g>\n<!-- 140178788163664&#45;&gt;140178788164688 -->\n<g id=\"edge15\" class=\"edge\">\n<title>140178788163664&#45;&gt;140178788164688</title>\n<path fill=\"none\" stroke=\"#000000\" d=\"M2134.9124,-952.4136C2164.2693,-942.1472 2211.0195,-925.7981 2243.5959,-914.4058\"/>\n<polygon fill=\"#000000\" stroke=\"#000000\" points=\"2244.9318,-917.6465 2253.2159,-911.0416 2242.621,-911.0389 2244.9318,-917.6465\"/>\n</g>\n<!-- 140178788165136 -->\n<g id=\"node18\" class=\"node\">\n<title>140178788165136</title>\n<polygon fill=\"#d3d3d3\" stroke=\"#000000\" points=\"2174,-1037.5 2007,-1037.5 2007,-1018.5 2174,-1018.5 2174,-1037.5\"/>\n<text text-anchor=\"middle\" x=\"2090.5\" y=\"-1025.5\" font-family=\"monospace\" font-size=\"10.00\" fill=\"#000000\">CudnnConvolutionBackward0</text>\n</g>\n<!-- 140178788165136&#45;&gt;140178788163664 -->\n<g id=\"edge16\" class=\"edge\">\n<title>140178788165136&#45;&gt;140178788163664</title>\n<path fill=\"none\" stroke=\"#000000\" d=\"M2093.0084,-1018.2615C2095.4692,-1008.7077 2099.2932,-993.8615 2102.3953,-981.8183\"/>\n<polygon fill=\"#000000\" stroke=\"#000000\" points=\"2105.8763,-982.3354 2104.9813,-971.7785 2099.0975,-980.5894 2105.8763,-982.3354\"/>\n</g>\n<!-- 140178788165328 -->\n<g id=\"node19\" class=\"node\">\n<title>140178788165328</title>\n<polygon fill=\"#d3d3d3\" stroke=\"#000000\" points=\"2095,-1098 1940,-1098 1940,-1079 2095,-1079 2095,-1098\"/>\n<text text-anchor=\"middle\" x=\"2017.5\" y=\"-1086\" font-family=\"monospace\" font-size=\"10.00\" fill=\"#000000\">CudnnBatchNormBackward0</text>\n</g>\n<!-- 140178788165328&#45;&gt;140178788165136 -->\n<g id=\"edge17\" class=\"edge\">\n<title>140178788165328&#45;&gt;140178788165136</title>\n<path fill=\"none\" stroke=\"#000000\" d=\"M2029.2287,-1078.7796C2040.3374,-1069.5731 2057.2422,-1055.563 2070.4833,-1044.5892\"/>\n<polygon fill=\"#000000\" stroke=\"#000000\" points=\"2073.0918,-1046.9732 2078.5579,-1037.8972 2068.625,-1041.5835 2073.0918,-1046.9732\"/>\n</g>\n<!-- 140178788165264 -->\n<g id=\"node20\" class=\"node\">\n<title>140178788165264</title>\n<polygon fill=\"#d3d3d3\" stroke=\"#000000\" points=\"1886,-1158.5 1791,-1158.5 1791,-1139.5 1886,-1139.5 1886,-1158.5\"/>\n<text text-anchor=\"middle\" x=\"1838.5\" y=\"-1146.5\" font-family=\"monospace\" font-size=\"10.00\" fill=\"#000000\">ReluBackward0</text>\n</g>\n<!-- 140178788165264&#45;&gt;140178788165328 -->\n<g id=\"edge18\" class=\"edge\">\n<title>140178788165264&#45;&gt;140178788165328</title>\n<path fill=\"none\" stroke=\"#000000\" d=\"M1866.8631,-1139.4136C1897.3691,-1129.1029 1946.0271,-1112.657 1979.7511,-1101.2587\"/>\n<polygon fill=\"#000000\" stroke=\"#000000\" points=\"1980.9168,-1104.5593 1989.2696,-1098.0416 1978.6754,-1097.9278 1980.9168,-1104.5593\"/>\n</g>\n<!-- 140178788165712 -->\n<g id=\"node21\" class=\"node\">\n<title>140178788165712</title>\n<polygon fill=\"#d3d3d3\" stroke=\"#000000\" points=\"1905,-1224.5 1738,-1224.5 1738,-1205.5 1905,-1205.5 1905,-1224.5\"/>\n<text text-anchor=\"middle\" x=\"1821.5\" y=\"-1212.5\" font-family=\"monospace\" font-size=\"10.00\" fill=\"#000000\">CudnnConvolutionBackward0</text>\n</g>\n<!-- 140178788165712&#45;&gt;140178788165264 -->\n<g id=\"edge19\" class=\"edge\">\n<title>140178788165712&#45;&gt;140178788165264</title>\n<path fill=\"none\" stroke=\"#000000\" d=\"M1824.0084,-1205.2615C1826.4692,-1195.7077 1830.2932,-1180.8615 1833.3953,-1168.8183\"/>\n<polygon fill=\"#000000\" stroke=\"#000000\" points=\"1836.8763,-1169.3354 1835.9813,-1158.7785 1830.0975,-1167.5894 1836.8763,-1169.3354\"/>\n</g>\n<!-- 140178788165904 -->\n<g id=\"node22\" class=\"node\">\n<title>140178788165904</title>\n<polygon fill=\"#d3d3d3\" stroke=\"#000000\" points=\"1811,-1285 1716,-1285 1716,-1266 1811,-1266 1811,-1285\"/>\n<text text-anchor=\"middle\" x=\"1763.5\" y=\"-1273\" font-family=\"monospace\" font-size=\"10.00\" fill=\"#000000\">ReluBackward0</text>\n</g>\n<!-- 140178788165904&#45;&gt;140178788165712 -->\n<g id=\"edge20\" class=\"edge\">\n<title>140178788165904&#45;&gt;140178788165712</title>\n<path fill=\"none\" stroke=\"#000000\" d=\"M1772.8187,-1265.7796C1781.4766,-1256.7485 1794.566,-1243.095 1804.9921,-1232.2195\"/>\n<polygon fill=\"#000000\" stroke=\"#000000\" points=\"1807.6179,-1234.538 1812.0117,-1224.8972 1802.5648,-1229.6938 1807.6179,-1234.538\"/>\n</g>\n<!-- 140178788165840 -->\n<g id=\"node23\" class=\"node\">\n<title>140178788165840</title>\n<polygon fill=\"#d3d3d3\" stroke=\"#000000\" points=\"1808,-1345.5 1719,-1345.5 1719,-1326.5 1808,-1326.5 1808,-1345.5\"/>\n<text text-anchor=\"middle\" x=\"1763.5\" y=\"-1333.5\" font-family=\"monospace\" font-size=\"10.00\" fill=\"#000000\">AddBackward0</text>\n</g>\n<!-- 140178788165840&#45;&gt;140178788165904 -->\n<g id=\"edge21\" class=\"edge\">\n<title>140178788165840&#45;&gt;140178788165904</title>\n<path fill=\"none\" stroke=\"#000000\" d=\"M1763.5,-1326.2796C1763.5,-1318.0376 1763.5,-1305.9457 1763.5,-1295.629\"/>\n<polygon fill=\"#000000\" stroke=\"#000000\" points=\"1767.0001,-1295.3972 1763.5,-1285.3972 1760.0001,-1295.3973 1767.0001,-1295.3972\"/>\n</g>\n<!-- 140178788166224 -->\n<g id=\"node24\" class=\"node\">\n<title>140178788166224</title>\n<polygon fill=\"#d3d3d3\" stroke=\"#000000\" points=\"1761,-1406 1594,-1406 1594,-1387 1761,-1387 1761,-1406\"/>\n<text text-anchor=\"middle\" x=\"1677.5\" y=\"-1394\" font-family=\"monospace\" font-size=\"10.00\" fill=\"#000000\">CudnnConvolutionBackward0</text>\n</g>\n<!-- 140178788166224&#45;&gt;140178788165840 -->\n<g id=\"edge22\" class=\"edge\">\n<title>140178788166224&#45;&gt;140178788165840</title>\n<path fill=\"none\" stroke=\"#000000\" d=\"M1691.3174,-1386.7796C1704.8583,-1377.2537 1725.7096,-1362.5851 1741.5263,-1351.4583\"/>\n<polygon fill=\"#000000\" stroke=\"#000000\" points=\"1743.5518,-1354.3127 1749.7169,-1345.6962 1739.5242,-1348.5874 1743.5518,-1354.3127\"/>\n</g>\n<!-- 140178788166096 -->\n<g id=\"node25\" class=\"node\">\n<title>140178788166096</title>\n<polygon fill=\"#d3d3d3\" stroke=\"#000000\" points=\"1582,-1461 1427,-1461 1427,-1442 1582,-1442 1582,-1461\"/>\n<text text-anchor=\"middle\" x=\"1504.5\" y=\"-1449\" font-family=\"monospace\" font-size=\"10.00\" fill=\"#000000\">CudnnBatchNormBackward0</text>\n</g>\n<!-- 140178788166096&#45;&gt;140178788166224 -->\n<g id=\"edge23\" class=\"edge\">\n<title>140178788166096&#45;&gt;140178788166224</title>\n<path fill=\"none\" stroke=\"#000000\" d=\"M1534.6343,-1441.9197C1563.1991,-1432.8384 1606.289,-1419.1393 1637.6754,-1409.161\"/>\n<polygon fill=\"#000000\" stroke=\"#000000\" points=\"1638.9517,-1412.4279 1647.4213,-1406.0626 1636.8309,-1405.7569 1638.9517,-1412.4279\"/>\n</g>\n<!-- 140178788166160 -->\n<g id=\"node26\" class=\"node\">\n<title>140178788166160</title>\n<polygon fill=\"#d3d3d3\" stroke=\"#000000\" points=\"1379,-1521.5 1284,-1521.5 1284,-1502.5 1379,-1502.5 1379,-1521.5\"/>\n<text text-anchor=\"middle\" x=\"1331.5\" y=\"-1509.5\" font-family=\"monospace\" font-size=\"10.00\" fill=\"#000000\">ReluBackward0</text>\n</g>\n<!-- 140178788166160&#45;&gt;140178788166096 -->\n<g id=\"edge24\" class=\"edge\">\n<title>140178788166160&#45;&gt;140178788166096</title>\n<path fill=\"none\" stroke=\"#000000\" d=\"M1358.9124,-1502.4136C1388.2693,-1492.1472 1435.0195,-1475.7981 1467.5959,-1464.4058\"/>\n<polygon fill=\"#000000\" stroke=\"#000000\" points=\"1468.9318,-1467.6465 1477.2159,-1461.0416 1466.621,-1461.0389 1468.9318,-1467.6465\"/>\n</g>\n<!-- 140178788166800 -->\n<g id=\"node27\" class=\"node\">\n<title>140178788166800</title>\n<polygon fill=\"#d3d3d3\" stroke=\"#000000\" points=\"1398,-1587.5 1231,-1587.5 1231,-1568.5 1398,-1568.5 1398,-1587.5\"/>\n<text text-anchor=\"middle\" x=\"1314.5\" y=\"-1575.5\" font-family=\"monospace\" font-size=\"10.00\" fill=\"#000000\">CudnnConvolutionBackward0</text>\n</g>\n<!-- 140178788166800&#45;&gt;140178788166160 -->\n<g id=\"edge25\" class=\"edge\">\n<title>140178788166800&#45;&gt;140178788166160</title>\n<path fill=\"none\" stroke=\"#000000\" d=\"M1317.0084,-1568.2615C1319.4692,-1558.7077 1323.2932,-1543.8615 1326.3953,-1531.8183\"/>\n<polygon fill=\"#000000\" stroke=\"#000000\" points=\"1329.8763,-1532.3354 1328.9813,-1521.7785 1323.0975,-1530.5894 1329.8763,-1532.3354\"/>\n</g>\n<!-- 140178788166992 -->\n<g id=\"node28\" class=\"node\">\n<title>140178788166992</title>\n<polygon fill=\"#d3d3d3\" stroke=\"#000000\" points=\"1321,-1648 1160,-1648 1160,-1629 1321,-1629 1321,-1648\"/>\n<text text-anchor=\"middle\" x=\"1240.5\" y=\"-1636\" font-family=\"monospace\" font-size=\"10.00\" fill=\"#000000\">ConvDepthwise2DBackward0</text>\n</g>\n<!-- 140178788166992&#45;&gt;140178788166800 -->\n<g id=\"edge26\" class=\"edge\">\n<title>140178788166992&#45;&gt;140178788166800</title>\n<path fill=\"none\" stroke=\"#000000\" d=\"M1252.3894,-1628.7796C1263.7575,-1619.4855 1281.1135,-1605.2957 1294.5916,-1594.2765\"/>\n<polygon fill=\"#000000\" stroke=\"#000000\" points=\"1296.8677,-1596.9365 1302.3943,-1587.8972 1292.437,-1591.5171 1296.8677,-1596.9365\"/>\n</g>\n<!-- 140178788166928 -->\n<g id=\"node29\" class=\"node\">\n<title>140178788166928</title>\n<polygon fill=\"#d3d3d3\" stroke=\"#000000\" points=\"1163,-1708.5 1008,-1708.5 1008,-1689.5 1163,-1689.5 1163,-1708.5\"/>\n<text text-anchor=\"middle\" x=\"1085.5\" y=\"-1696.5\" font-family=\"monospace\" font-size=\"10.00\" fill=\"#000000\">CudnnBatchNormBackward0</text>\n</g>\n<!-- 140178788166928&#45;&gt;140178788166992 -->\n<g id=\"edge27\" class=\"edge\">\n<title>140178788166928&#45;&gt;140178788166992</title>\n<path fill=\"none\" stroke=\"#000000\" d=\"M1110.0602,-1689.4136C1136.1359,-1679.2357 1177.5276,-1663.0795 1206.678,-1651.7015\"/>\n<polygon fill=\"#000000\" stroke=\"#000000\" points=\"1208.0118,-1654.9381 1216.0547,-1648.0416 1205.4665,-1648.4172 1208.0118,-1654.9381\"/>\n</g>\n<!-- 140178788167184 -->\n<g id=\"node30\" class=\"node\">\n<title>140178788167184</title>\n<polygon fill=\"#d3d3d3\" stroke=\"#000000\" points=\"955,-1774.5 860,-1774.5 860,-1755.5 955,-1755.5 955,-1774.5\"/>\n<text text-anchor=\"middle\" x=\"907.5\" y=\"-1762.5\" font-family=\"monospace\" font-size=\"10.00\" fill=\"#000000\">ReluBackward0</text>\n</g>\n<!-- 140178788167184&#45;&gt;140178788166928 -->\n<g id=\"edge28\" class=\"edge\">\n<title>140178788167184&#45;&gt;140178788166928</title>\n<path fill=\"none\" stroke=\"#000000\" d=\"M933.3827,-1755.403C964.186,-1743.9816 1015.7718,-1724.8543 1050.2131,-1712.0839\"/>\n<polygon fill=\"#000000\" stroke=\"#000000\" points=\"1051.7154,-1715.2598 1059.8748,-1708.5015 1049.2818,-1708.6964 1051.7154,-1715.2598\"/>\n</g>\n<!-- 140178788167568 -->\n<g id=\"node31\" class=\"node\">\n<title>140178788167568</title>\n<polygon fill=\"#d3d3d3\" stroke=\"#000000\" points=\"974,-1840.5 807,-1840.5 807,-1821.5 974,-1821.5 974,-1840.5\"/>\n<text text-anchor=\"middle\" x=\"890.5\" y=\"-1828.5\" font-family=\"monospace\" font-size=\"10.00\" fill=\"#000000\">CudnnConvolutionBackward0</text>\n</g>\n<!-- 140178788167568&#45;&gt;140178788167184 -->\n<g id=\"edge29\" class=\"edge\">\n<title>140178788167568&#45;&gt;140178788167184</title>\n<path fill=\"none\" stroke=\"#000000\" d=\"M893.0084,-1821.2615C895.4692,-1811.7077 899.2932,-1796.8615 902.3953,-1784.8183\"/>\n<polygon fill=\"#000000\" stroke=\"#000000\" points=\"905.8763,-1785.3354 904.9813,-1774.7785 899.0975,-1783.5894 905.8763,-1785.3354\"/>\n</g>\n<!-- 140184103403728 -->\n<g id=\"node32\" class=\"node\">\n<title>140184103403728</title>\n<polygon fill=\"#d3d3d3\" stroke=\"#000000\" points=\"880,-1901 785,-1901 785,-1882 880,-1882 880,-1901\"/>\n<text text-anchor=\"middle\" x=\"832.5\" y=\"-1889\" font-family=\"monospace\" font-size=\"10.00\" fill=\"#000000\">ReluBackward0</text>\n</g>\n<!-- 140184103403728&#45;&gt;140178788167568 -->\n<g id=\"edge30\" class=\"edge\">\n<title>140184103403728&#45;&gt;140178788167568</title>\n<path fill=\"none\" stroke=\"#000000\" d=\"M841.8187,-1881.7796C850.4766,-1872.7485 863.566,-1859.095 873.9921,-1848.2195\"/>\n<polygon fill=\"#000000\" stroke=\"#000000\" points=\"876.6179,-1850.538 881.0117,-1840.8972 871.5648,-1845.6938 876.6179,-1850.538\"/>\n</g>\n<!-- 140184103403664 -->\n<g id=\"node33\" class=\"node\">\n<title>140184103403664</title>\n<polygon fill=\"#d3d3d3\" stroke=\"#000000\" points=\"877,-1961.5 788,-1961.5 788,-1942.5 877,-1942.5 877,-1961.5\"/>\n<text text-anchor=\"middle\" x=\"832.5\" y=\"-1949.5\" font-family=\"monospace\" font-size=\"10.00\" fill=\"#000000\">AddBackward0</text>\n</g>\n<!-- 140184103403664&#45;&gt;140184103403728 -->\n<g id=\"edge31\" class=\"edge\">\n<title>140184103403664&#45;&gt;140184103403728</title>\n<path fill=\"none\" stroke=\"#000000\" d=\"M832.5,-1942.2796C832.5,-1934.0376 832.5,-1921.9457 832.5,-1911.629\"/>\n<polygon fill=\"#000000\" stroke=\"#000000\" points=\"836.0001,-1911.3972 832.5,-1901.3972 829.0001,-1911.3973 836.0001,-1911.3972\"/>\n</g>\n<!-- 140184103403984 -->\n<g id=\"node34\" class=\"node\">\n<title>140184103403984</title>\n<polygon fill=\"#d3d3d3\" stroke=\"#000000\" points=\"830,-2022 663,-2022 663,-2003 830,-2003 830,-2022\"/>\n<text text-anchor=\"middle\" x=\"746.5\" y=\"-2010\" font-family=\"monospace\" font-size=\"10.00\" fill=\"#000000\">CudnnConvolutionBackward0</text>\n</g>\n<!-- 140184103403984&#45;&gt;140184103403664 -->\n<g id=\"edge32\" class=\"edge\">\n<title>140184103403984&#45;&gt;140184103403664</title>\n<path fill=\"none\" stroke=\"#000000\" d=\"M760.3174,-2002.7796C773.8583,-1993.2537 794.7096,-1978.5851 810.5263,-1967.4583\"/>\n<polygon fill=\"#000000\" stroke=\"#000000\" points=\"812.5518,-1970.3127 818.7169,-1961.6962 808.5242,-1964.5874 812.5518,-1970.3127\"/>\n</g>\n<!-- 140184103403856 -->\n<g id=\"node35\" class=\"node\">\n<title>140184103403856</title>\n<polygon fill=\"#d3d3d3\" stroke=\"#000000\" points=\"651,-2077 496,-2077 496,-2058 651,-2058 651,-2077\"/>\n<text text-anchor=\"middle\" x=\"573.5\" y=\"-2065\" font-family=\"monospace\" font-size=\"10.00\" fill=\"#000000\">CudnnBatchNormBackward0</text>\n</g>\n<!-- 140184103403856&#45;&gt;140184103403984 -->\n<g id=\"edge33\" class=\"edge\">\n<title>140184103403856&#45;&gt;140184103403984</title>\n<path fill=\"none\" stroke=\"#000000\" d=\"M603.6343,-2057.9197C632.1991,-2048.8384 675.289,-2035.1393 706.6754,-2025.161\"/>\n<polygon fill=\"#000000\" stroke=\"#000000\" points=\"707.9517,-2028.4279 716.4213,-2022.0626 705.8309,-2021.7569 707.9517,-2028.4279\"/>\n</g>\n<!-- 140184103403920 -->\n<g id=\"node36\" class=\"node\">\n<title>140184103403920</title>\n<polygon fill=\"#d3d3d3\" stroke=\"#000000\" points=\"448,-2137.5 353,-2137.5 353,-2118.5 448,-2118.5 448,-2137.5\"/>\n<text text-anchor=\"middle\" x=\"400.5\" y=\"-2125.5\" font-family=\"monospace\" font-size=\"10.00\" fill=\"#000000\">ReluBackward0</text>\n</g>\n<!-- 140184103403920&#45;&gt;140184103403856 -->\n<g id=\"edge34\" class=\"edge\">\n<title>140184103403920&#45;&gt;140184103403856</title>\n<path fill=\"none\" stroke=\"#000000\" d=\"M427.9124,-2118.4136C457.2693,-2108.1472 504.0195,-2091.7981 536.5959,-2080.4058\"/>\n<polygon fill=\"#000000\" stroke=\"#000000\" points=\"537.9318,-2083.6465 546.2159,-2077.0416 535.621,-2077.0389 537.9318,-2083.6465\"/>\n</g>\n<!-- 140184103404560 -->\n<g id=\"node37\" class=\"node\">\n<title>140184103404560</title>\n<polygon fill=\"#d3d3d3\" stroke=\"#000000\" points=\"467,-2203.5 300,-2203.5 300,-2184.5 467,-2184.5 467,-2203.5\"/>\n<text text-anchor=\"middle\" x=\"383.5\" y=\"-2191.5\" font-family=\"monospace\" font-size=\"10.00\" fill=\"#000000\">CudnnConvolutionBackward0</text>\n</g>\n<!-- 140184103404560&#45;&gt;140184103403920 -->\n<g id=\"edge35\" class=\"edge\">\n<title>140184103404560&#45;&gt;140184103403920</title>\n<path fill=\"none\" stroke=\"#000000\" d=\"M386.0084,-2184.2615C388.4692,-2174.7077 392.2932,-2159.8615 395.3953,-2147.8183\"/>\n<polygon fill=\"#000000\" stroke=\"#000000\" points=\"398.8763,-2148.3354 397.9813,-2137.7785 392.0975,-2146.5894 398.8763,-2148.3354\"/>\n</g>\n<!-- 140184103404752 -->\n<g id=\"node38\" class=\"node\">\n<title>140184103404752</title>\n<polygon fill=\"#d3d3d3\" stroke=\"#000000\" points=\"388,-2264 233,-2264 233,-2245 388,-2245 388,-2264\"/>\n<text text-anchor=\"middle\" x=\"310.5\" y=\"-2252\" font-family=\"monospace\" font-size=\"10.00\" fill=\"#000000\">CudnnBatchNormBackward0</text>\n</g>\n<!-- 140184103404752&#45;&gt;140184103404560 -->\n<g id=\"edge36\" class=\"edge\">\n<title>140184103404752&#45;&gt;140184103404560</title>\n<path fill=\"none\" stroke=\"#000000\" d=\"M322.2287,-2244.7796C333.3374,-2235.5731 350.2422,-2221.563 363.4833,-2210.5892\"/>\n<polygon fill=\"#000000\" stroke=\"#000000\" points=\"366.0918,-2212.9732 371.5579,-2203.8972 361.625,-2207.5835 366.0918,-2212.9732\"/>\n</g>\n<!-- 140184103404688 -->\n<g id=\"node39\" class=\"node\">\n<title>140184103404688</title>\n<polygon fill=\"#d3d3d3\" stroke=\"#000000\" points=\"179,-2324.5 84,-2324.5 84,-2305.5 179,-2305.5 179,-2324.5\"/>\n<text text-anchor=\"middle\" x=\"131.5\" y=\"-2312.5\" font-family=\"monospace\" font-size=\"10.00\" fill=\"#000000\">ReluBackward0</text>\n</g>\n<!-- 140184103404688&#45;&gt;140184103404752 -->\n<g id=\"edge37\" class=\"edge\">\n<title>140184103404688&#45;&gt;140184103404752</title>\n<path fill=\"none\" stroke=\"#000000\" d=\"M159.8631,-2305.4136C190.3691,-2295.1029 239.0271,-2278.657 272.7511,-2267.2587\"/>\n<polygon fill=\"#000000\" stroke=\"#000000\" points=\"273.9168,-2270.5593 282.2696,-2264.0416 271.6754,-2263.9278 273.9168,-2270.5593\"/>\n</g>\n<!-- 140184103405136 -->\n<g id=\"node40\" class=\"node\">\n<title>140184103405136</title>\n<polygon fill=\"#d3d3d3\" stroke=\"#000000\" points=\"198,-2390.5 31,-2390.5 31,-2371.5 198,-2371.5 198,-2390.5\"/>\n<text text-anchor=\"middle\" x=\"114.5\" y=\"-2378.5\" font-family=\"monospace\" font-size=\"10.00\" fill=\"#000000\">CudnnConvolutionBackward0</text>\n</g>\n<!-- 140184103405136&#45;&gt;140184103404688 -->\n<g id=\"edge38\" class=\"edge\">\n<title>140184103405136&#45;&gt;140184103404688</title>\n<path fill=\"none\" stroke=\"#000000\" d=\"M117.0084,-2371.2615C119.4692,-2361.7077 123.2932,-2346.8615 126.3953,-2334.8183\"/>\n<polygon fill=\"#000000\" stroke=\"#000000\" points=\"129.8763,-2335.3354 128.9813,-2324.7785 123.0975,-2333.5894 129.8763,-2335.3354\"/>\n</g>\n<!-- 140184103405328 -->\n<g id=\"node41\" class=\"node\">\n<title>140184103405328</title>\n<polygon fill=\"#d3d3d3\" stroke=\"#000000\" points=\"107,-2451 0,-2451 0,-2432 107,-2432 107,-2451\"/>\n<text text-anchor=\"middle\" x=\"53.5\" y=\"-2439\" font-family=\"monospace\" font-size=\"10.00\" fill=\"#000000\">ToCopyBackward0</text>\n</g>\n<!-- 140184103405328&#45;&gt;140184103405136 -->\n<g id=\"edge39\" class=\"edge\">\n<title>140184103405328&#45;&gt;140184103405136</title>\n<path fill=\"none\" stroke=\"#000000\" d=\"M63.3007,-2431.7796C72.4065,-2422.7485 86.1728,-2409.095 97.1382,-2398.2195\"/>\n<polygon fill=\"#000000\" stroke=\"#000000\" points=\"99.8855,-2400.4242 104.521,-2390.8972 94.9562,-2395.4541 99.8855,-2400.4242\"/>\n</g>\n<!-- 140184103405264 -->\n<g id=\"node42\" class=\"node\">\n<title>140184103405264</title>\n<polygon fill=\"#d3d3d3\" stroke=\"#000000\" points=\"104,-2511.5 3,-2511.5 3,-2492.5 104,-2492.5 104,-2511.5\"/>\n<text text-anchor=\"middle\" x=\"53.5\" y=\"-2499.5\" font-family=\"monospace\" font-size=\"10.00\" fill=\"#000000\">AccumulateGrad</text>\n</g>\n<!-- 140184103405264&#45;&gt;140184103405328 -->\n<g id=\"edge40\" class=\"edge\">\n<title>140184103405264&#45;&gt;140184103405328</title>\n<path fill=\"none\" stroke=\"#000000\" d=\"M53.5,-2492.2796C53.5,-2484.0376 53.5,-2471.9457 53.5,-2461.629\"/>\n<polygon fill=\"#000000\" stroke=\"#000000\" points=\"57.0001,-2461.3972 53.5,-2451.3972 50.0001,-2461.3973 57.0001,-2461.3972\"/>\n</g>\n<!-- 140178788648336 -->\n<g id=\"node43\" class=\"node\">\n<title>140178788648336</title>\n<polygon fill=\"#add8e6\" stroke=\"#000000\" points=\"107,-2584 0,-2584 0,-2553 107,-2553 107,-2584\"/>\n<text text-anchor=\"middle\" x=\"53.5\" y=\"-2560\" font-family=\"monospace\" font-size=\"10.00\" fill=\"#000000\"> (1, 3, 32, 32)</text>\n</g>\n<!-- 140178788648336&#45;&gt;140184103405264 -->\n<g id=\"edge41\" class=\"edge\">\n<title>140178788648336&#45;&gt;140184103405264</title>\n<path fill=\"none\" stroke=\"#000000\" d=\"M53.5,-2552.7404C53.5,-2543.4757 53.5,-2531.6782 53.5,-2521.7909\"/>\n<polygon fill=\"#000000\" stroke=\"#000000\" points=\"57.0001,-2521.6763 53.5,-2511.6763 50.0001,-2521.6764 57.0001,-2521.6763\"/>\n</g>\n<!-- 140184103405456 -->\n<g id=\"node44\" class=\"node\">\n<title>140184103405456</title>\n<polygon fill=\"#d3d3d3\" stroke=\"#000000\" points=\"226,-2451 125,-2451 125,-2432 226,-2432 226,-2451\"/>\n<text text-anchor=\"middle\" x=\"175.5\" y=\"-2439\" font-family=\"monospace\" font-size=\"10.00\" fill=\"#000000\">AccumulateGrad</text>\n</g>\n<!-- 140184103405456&#45;&gt;140184103405136 -->\n<g id=\"edge42\" class=\"edge\">\n<title>140184103405456&#45;&gt;140184103405136</title>\n<path fill=\"none\" stroke=\"#000000\" d=\"M165.6993,-2431.7796C156.5935,-2422.7485 142.8272,-2409.095 131.8618,-2398.2195\"/>\n<polygon fill=\"#000000\" stroke=\"#000000\" points=\"134.0438,-2395.4541 124.479,-2390.8972 129.1145,-2400.4242 134.0438,-2395.4541\"/>\n</g>\n<!-- 140179185654000 -->\n<g id=\"node45\" class=\"node\">\n<title>140179185654000</title>\n<polygon fill=\"#add8e6\" stroke=\"#000000\" points=\"226,-2517 125,-2517 125,-2487 226,-2487 226,-2517\"/>\n<text text-anchor=\"middle\" x=\"175.5\" y=\"-2505\" font-family=\"monospace\" font-size=\"10.00\" fill=\"#000000\">conv1.0.weight</text>\n<text text-anchor=\"middle\" x=\"175.5\" y=\"-2494\" font-family=\"monospace\" font-size=\"10.00\" fill=\"#000000\"> (38, 3, 3, 3)</text>\n</g>\n<!-- 140179185654000&#45;&gt;140184103405456 -->\n<g id=\"edge43\" class=\"edge\">\n<title>140179185654000&#45;&gt;140184103405456</title>\n<path fill=\"none\" stroke=\"#000000\" d=\"M175.5,-2486.7333C175.5,-2479.0322 175.5,-2469.5977 175.5,-2461.3414\"/>\n<polygon fill=\"#000000\" stroke=\"#000000\" points=\"179.0001,-2461.0864 175.5,-2451.0864 172.0001,-2461.0864 179.0001,-2461.0864\"/>\n</g>\n<!-- 140184103405072 -->\n<g id=\"node46\" class=\"node\">\n<title>140184103405072</title>\n<polygon fill=\"#d3d3d3\" stroke=\"#000000\" points=\"314,-2324.5 213,-2324.5 213,-2305.5 314,-2305.5 314,-2324.5\"/>\n<text text-anchor=\"middle\" x=\"263.5\" y=\"-2312.5\" font-family=\"monospace\" font-size=\"10.00\" fill=\"#000000\">AccumulateGrad</text>\n</g>\n<!-- 140184103405072&#45;&gt;140184103404752 -->\n<g id=\"edge44\" class=\"edge\">\n<title>140184103405072&#45;&gt;140184103404752</title>\n<path fill=\"none\" stroke=\"#000000\" d=\"M271.0514,-2305.2796C277.9311,-2296.4239 288.2636,-2283.1235 296.6283,-2272.3561\"/>\n<polygon fill=\"#000000\" stroke=\"#000000\" points=\"299.4403,-2274.4415 302.8112,-2264.3972 293.9123,-2270.1471 299.4403,-2274.4415\"/>\n</g>\n<!-- 140179185653520 -->\n<g id=\"node47\" class=\"node\">\n<title>140179185653520</title>\n<polygon fill=\"#add8e6\" stroke=\"#000000\" points=\"317,-2396 216,-2396 216,-2366 317,-2366 317,-2396\"/>\n<text text-anchor=\"middle\" x=\"266.5\" y=\"-2384\" font-family=\"monospace\" font-size=\"10.00\" fill=\"#000000\">conv1.2.weight</text>\n<text text-anchor=\"middle\" x=\"266.5\" y=\"-2373\" font-family=\"monospace\" font-size=\"10.00\" fill=\"#000000\"> (38)</text>\n</g>\n<!-- 140179185653520&#45;&gt;140184103405072 -->\n<g id=\"edge45\" class=\"edge\">\n<title>140179185653520&#45;&gt;140184103405072</title>\n<path fill=\"none\" stroke=\"#000000\" d=\"M265.8042,-2365.6924C265.3867,-2356.5067 264.8511,-2344.7245 264.4014,-2334.8312\"/>\n<polygon fill=\"#000000\" stroke=\"#000000\" points=\"267.8916,-2334.5338 263.941,-2324.7031 260.8988,-2334.8517 267.8916,-2334.5338\"/>\n</g>\n<!-- 140184103405008 -->\n<g id=\"node48\" class=\"node\">\n<title>140184103405008</title>\n<polygon fill=\"#d3d3d3\" stroke=\"#000000\" points=\"433,-2324.5 332,-2324.5 332,-2305.5 433,-2305.5 433,-2324.5\"/>\n<text text-anchor=\"middle\" x=\"382.5\" y=\"-2312.5\" font-family=\"monospace\" font-size=\"10.00\" fill=\"#000000\">AccumulateGrad</text>\n</g>\n<!-- 140184103405008&#45;&gt;140184103404752 -->\n<g id=\"edge46\" class=\"edge\">\n<title>140184103405008&#45;&gt;140184103404752</title>\n<path fill=\"none\" stroke=\"#000000\" d=\"M370.932,-2305.2796C359.9755,-2296.0731 343.3023,-2282.063 330.2425,-2271.0892\"/>\n<polygon fill=\"#000000\" stroke=\"#000000\" points=\"332.1862,-2268.1508 322.2785,-2264.3972 327.6829,-2273.51 332.1862,-2268.1508\"/>\n</g>\n<!-- 140179185654192 -->\n<g id=\"node49\" class=\"node\">\n<title>140179185654192</title>\n<polygon fill=\"#add8e6\" stroke=\"#000000\" points=\"427,-2396 338,-2396 338,-2366 427,-2366 427,-2396\"/>\n<text text-anchor=\"middle\" x=\"382.5\" y=\"-2384\" font-family=\"monospace\" font-size=\"10.00\" fill=\"#000000\">conv1.2.bias</text>\n<text text-anchor=\"middle\" x=\"382.5\" y=\"-2373\" font-family=\"monospace\" font-size=\"10.00\" fill=\"#000000\"> (38)</text>\n</g>\n<!-- 140179185654192&#45;&gt;140184103405008 -->\n<g id=\"edge47\" class=\"edge\">\n<title>140179185654192&#45;&gt;140184103405008</title>\n<path fill=\"none\" stroke=\"#000000\" d=\"M382.5,-2365.6924C382.5,-2356.5067 382.5,-2344.7245 382.5,-2334.8312\"/>\n<polygon fill=\"#000000\" stroke=\"#000000\" points=\"386.0001,-2334.703 382.5,-2324.7031 379.0001,-2334.7031 386.0001,-2334.703\"/>\n</g>\n<!-- 140184103404880 -->\n<g id=\"node50\" class=\"node\">\n<title>140184103404880</title>\n<polygon fill=\"#d3d3d3\" stroke=\"#000000\" points=\"531,-2264 430,-2264 430,-2245 531,-2245 531,-2264\"/>\n<text text-anchor=\"middle\" x=\"480.5\" y=\"-2252\" font-family=\"monospace\" font-size=\"10.00\" fill=\"#000000\">AccumulateGrad</text>\n</g>\n<!-- 140184103404880&#45;&gt;140184103404560 -->\n<g id=\"edge48\" class=\"edge\">\n<title>140184103404880&#45;&gt;140184103404560</title>\n<path fill=\"none\" stroke=\"#000000\" d=\"M464.9153,-2244.7796C449.5009,-2235.1655 425.6878,-2220.313 407.7903,-2209.1501\"/>\n<polygon fill=\"#000000\" stroke=\"#000000\" points=\"409.3832,-2206.0187 399.0461,-2203.6962 405.6787,-2211.9581 409.3832,-2206.0187\"/>\n</g>\n<!-- 140179185654672 -->\n<g id=\"node51\" class=\"node\">\n<title>140179185654672</title>\n<polygon fill=\"#add8e6\" stroke=\"#000000\" points=\"558,-2330 451,-2330 451,-2300 558,-2300 558,-2330\"/>\n<text text-anchor=\"middle\" x=\"504.5\" y=\"-2318\" font-family=\"monospace\" font-size=\"10.00\" fill=\"#000000\">conv1.4.weight</text>\n<text text-anchor=\"middle\" x=\"504.5\" y=\"-2307\" font-family=\"monospace\" font-size=\"10.00\" fill=\"#000000\"> (64, 38, 3, 3)</text>\n</g>\n<!-- 140179185654672&#45;&gt;140184103404880 -->\n<g id=\"edge49\" class=\"edge\">\n<title>140179185654672&#45;&gt;140184103404880</title>\n<path fill=\"none\" stroke=\"#000000\" d=\"M498.4438,-2299.7333C495.2846,-2291.7696 491.3902,-2281.9524 488.0377,-2273.5012\"/>\n<polygon fill=\"#000000\" stroke=\"#000000\" points=\"491.2437,-2272.0911 484.3029,-2264.0864 484.737,-2274.6723 491.2437,-2272.0911\"/>\n</g>\n<!-- 140184103404496 -->\n<g id=\"node52\" class=\"node\">\n<title>140184103404496</title>\n<polygon fill=\"#d3d3d3\" stroke=\"#000000\" points=\"583,-2137.5 482,-2137.5 482,-2118.5 583,-2118.5 583,-2137.5\"/>\n<text text-anchor=\"middle\" x=\"532.5\" y=\"-2125.5\" font-family=\"monospace\" font-size=\"10.00\" fill=\"#000000\">AccumulateGrad</text>\n</g>\n<!-- 140184103404496&#45;&gt;140184103403856 -->\n<g id=\"edge50\" class=\"edge\">\n<title>140184103404496&#45;&gt;140184103403856</title>\n<path fill=\"none\" stroke=\"#000000\" d=\"M539.0874,-2118.2796C545.0294,-2109.5115 553.9241,-2096.3864 561.1819,-2085.6767\"/>\n<polygon fill=\"#000000\" stroke=\"#000000\" points=\"564.0801,-2087.6389 566.7928,-2077.3972 558.2854,-2083.7119 564.0801,-2087.6389\"/>\n</g>\n<!-- 140179185653904 -->\n<g id=\"node53\" class=\"node\">\n<title>140179185653904</title>\n<polygon fill=\"#add8e6\" stroke=\"#000000\" points=\"586,-2209 485,-2209 485,-2179 586,-2179 586,-2209\"/>\n<text text-anchor=\"middle\" x=\"535.5\" y=\"-2197\" font-family=\"monospace\" font-size=\"10.00\" fill=\"#000000\">conv1.6.weight</text>\n<text text-anchor=\"middle\" x=\"535.5\" y=\"-2186\" font-family=\"monospace\" font-size=\"10.00\" fill=\"#000000\"> (64)</text>\n</g>\n<!-- 140179185653904&#45;&gt;140184103404496 -->\n<g id=\"edge51\" class=\"edge\">\n<title>140179185653904&#45;&gt;140184103404496</title>\n<path fill=\"none\" stroke=\"#000000\" d=\"M534.8042,-2178.6924C534.3867,-2169.5067 533.8511,-2157.7245 533.4014,-2147.8312\"/>\n<polygon fill=\"#000000\" stroke=\"#000000\" points=\"536.8916,-2147.5338 532.941,-2137.7031 529.8988,-2147.8517 536.8916,-2147.5338\"/>\n</g>\n<!-- 140184103404432 -->\n<g id=\"node54\" class=\"node\">\n<title>140184103404432</title>\n<polygon fill=\"#d3d3d3\" stroke=\"#000000\" points=\"702,-2137.5 601,-2137.5 601,-2118.5 702,-2118.5 702,-2137.5\"/>\n<text text-anchor=\"middle\" x=\"651.5\" y=\"-2125.5\" font-family=\"monospace\" font-size=\"10.00\" fill=\"#000000\">AccumulateGrad</text>\n</g>\n<!-- 140184103404432&#45;&gt;140184103403856 -->\n<g id=\"edge52\" class=\"edge\">\n<title>140184103404432&#45;&gt;140184103403856</title>\n<path fill=\"none\" stroke=\"#000000\" d=\"M638.968,-2118.2796C626.9141,-2108.9301 608.4732,-2094.6266 594.2313,-2083.58\"/>\n<polygon fill=\"#000000\" stroke=\"#000000\" points=\"596.0478,-2080.5596 586.0009,-2077.1962 591.7575,-2086.0908 596.0478,-2080.5596\"/>\n</g>\n<!-- 140179185654480 -->\n<g id=\"node55\" class=\"node\">\n<title>140179185654480</title>\n<polygon fill=\"#add8e6\" stroke=\"#000000\" points=\"696,-2209 607,-2209 607,-2179 696,-2179 696,-2209\"/>\n<text text-anchor=\"middle\" x=\"651.5\" y=\"-2197\" font-family=\"monospace\" font-size=\"10.00\" fill=\"#000000\">conv1.6.bias</text>\n<text text-anchor=\"middle\" x=\"651.5\" y=\"-2186\" font-family=\"monospace\" font-size=\"10.00\" fill=\"#000000\"> (64)</text>\n</g>\n<!-- 140179185654480&#45;&gt;140184103404432 -->\n<g id=\"edge53\" class=\"edge\">\n<title>140179185654480&#45;&gt;140184103404432</title>\n<path fill=\"none\" stroke=\"#000000\" d=\"M651.5,-2178.6924C651.5,-2169.5067 651.5,-2157.7245 651.5,-2147.8312\"/>\n<polygon fill=\"#000000\" stroke=\"#000000\" points=\"655.0001,-2147.703 651.5,-2137.7031 648.0001,-2147.7031 655.0001,-2147.703\"/>\n</g>\n<!-- 140184103404304 -->\n<g id=\"node56\" class=\"node\">\n<title>140184103404304</title>\n<polygon fill=\"#d3d3d3\" stroke=\"#000000\" points=\"811,-2077 710,-2077 710,-2058 811,-2058 811,-2077\"/>\n<text text-anchor=\"middle\" x=\"760.5\" y=\"-2065\" font-family=\"monospace\" font-size=\"10.00\" fill=\"#000000\">AccumulateGrad</text>\n</g>\n<!-- 140184103404304&#45;&gt;140184103403984 -->\n<g id=\"edge54\" class=\"edge\">\n<title>140184103404304&#45;&gt;140184103403984</title>\n<path fill=\"none\" stroke=\"#000000\" d=\"M758.0614,-2057.9197C756.2568,-2050.8304 753.7359,-2040.9269 751.5085,-2032.1763\"/>\n<polygon fill=\"#000000\" stroke=\"#000000\" points=\"754.8636,-2031.1684 749.0049,-2022.3408 748.08,-2032.8952 754.8636,-2031.1684\"/>\n</g>\n<!-- 140179185655152 -->\n<g id=\"node57\" class=\"node\">\n<title>140179185655152</title>\n<polygon fill=\"#add8e6\" stroke=\"#000000\" points=\"827,-2143 720,-2143 720,-2113 827,-2113 827,-2143\"/>\n<text text-anchor=\"middle\" x=\"773.5\" y=\"-2131\" font-family=\"monospace\" font-size=\"10.00\" fill=\"#000000\">trans1.0.weight</text>\n<text text-anchor=\"middle\" x=\"773.5\" y=\"-2120\" font-family=\"monospace\" font-size=\"10.00\" fill=\"#000000\"> (32, 64, 1, 1)</text>\n</g>\n<!-- 140179185655152&#45;&gt;140184103404304 -->\n<g id=\"edge55\" class=\"edge\">\n<title>140179185655152&#45;&gt;140184103404304</title>\n<path fill=\"none\" stroke=\"#000000\" d=\"M770.2196,-2112.7333C768.546,-2104.9447 766.4914,-2095.3831 764.7031,-2087.0604\"/>\n<polygon fill=\"#000000\" stroke=\"#000000\" points=\"768.0827,-2086.1279 762.5599,-2077.0864 761.2389,-2087.5986 768.0827,-2086.1279\"/>\n</g>\n<!-- 140184103404176 -->\n<g id=\"node58\" class=\"node\">\n<title>140184103404176</title>\n<polygon fill=\"#d3d3d3\" stroke=\"#000000\" points=\"991,-2022 848,-2022 848,-2003 991,-2003 991,-2022\"/>\n<text text-anchor=\"middle\" x=\"919.5\" y=\"-2010\" font-family=\"monospace\" font-size=\"10.00\" fill=\"#000000\">ReshapeAliasBackward0</text>\n</g>\n<!-- 140184103404176&#45;&gt;140184103403664 -->\n<g id=\"edge56\" class=\"edge\">\n<title>140184103404176&#45;&gt;140184103403664</title>\n<path fill=\"none\" stroke=\"#000000\" d=\"M905.5219,-2002.7796C891.8235,-1993.2537 870.7298,-1978.5851 854.7293,-1967.4583\"/>\n<polygon fill=\"#000000\" stroke=\"#000000\" points=\"856.6517,-1964.532 846.4434,-1961.6962 852.6551,-1970.2791 856.6517,-1964.532\"/>\n</g>\n<!-- 140184103404240 -->\n<g id=\"node59\" class=\"node\">\n<title>140184103404240</title>\n<polygon fill=\"#d3d3d3\" stroke=\"#000000\" points=\"970,-2077 869,-2077 869,-2058 970,-2058 970,-2077\"/>\n<text text-anchor=\"middle\" x=\"919.5\" y=\"-2065\" font-family=\"monospace\" font-size=\"10.00\" fill=\"#000000\">AccumulateGrad</text>\n</g>\n<!-- 140184103404240&#45;&gt;140184103404176 -->\n<g id=\"edge57\" class=\"edge\">\n<title>140184103404240&#45;&gt;140184103404176</title>\n<path fill=\"none\" stroke=\"#000000\" d=\"M919.5,-2057.9197C919.5,-2050.9083 919.5,-2041.1442 919.5,-2032.4652\"/>\n<polygon fill=\"#000000\" stroke=\"#000000\" points=\"923.0001,-2032.3408 919.5,-2022.3408 916.0001,-2032.3409 923.0001,-2032.3408\"/>\n</g>\n<!-- 140179185655056 -->\n<g id=\"node60\" class=\"node\">\n<title>140179185655056</title>\n<polygon fill=\"#add8e6\" stroke=\"#000000\" points=\"967,-2143 872,-2143 872,-2113 967,-2113 967,-2143\"/>\n<text text-anchor=\"middle\" x=\"919.5\" y=\"-2131\" font-family=\"monospace\" font-size=\"10.00\" fill=\"#000000\">trans1.0.bias</text>\n<text text-anchor=\"middle\" x=\"919.5\" y=\"-2120\" font-family=\"monospace\" font-size=\"10.00\" fill=\"#000000\"> (32)</text>\n</g>\n<!-- 140179185655056&#45;&gt;140184103404240 -->\n<g id=\"edge58\" class=\"edge\">\n<title>140179185655056&#45;&gt;140184103404240</title>\n<path fill=\"none\" stroke=\"#000000\" d=\"M919.5,-2112.7333C919.5,-2105.0322 919.5,-2095.5977 919.5,-2087.3414\"/>\n<polygon fill=\"#000000\" stroke=\"#000000\" points=\"923.0001,-2087.0864 919.5,-2077.0864 916.0001,-2087.0864 923.0001,-2087.0864\"/>\n</g>\n<!-- 140184103403792 -->\n<g id=\"node61\" class=\"node\">\n<title>140184103403792</title>\n<polygon fill=\"#d3d3d3\" stroke=\"#000000\" points=\"999,-1901 898,-1901 898,-1882 999,-1882 999,-1901\"/>\n<text text-anchor=\"middle\" x=\"948.5\" y=\"-1889\" font-family=\"monospace\" font-size=\"10.00\" fill=\"#000000\">AccumulateGrad</text>\n</g>\n<!-- 140184103403792&#45;&gt;140178788167568 -->\n<g id=\"edge59\" class=\"edge\">\n<title>140184103403792&#45;&gt;140178788167568</title>\n<path fill=\"none\" stroke=\"#000000\" d=\"M939.1813,-1881.7796C930.5234,-1872.7485 917.434,-1859.095 907.0079,-1848.2195\"/>\n<polygon fill=\"#000000\" stroke=\"#000000\" points=\"909.4352,-1845.6938 899.9883,-1840.8972 904.3821,-1850.538 909.4352,-1845.6938\"/>\n</g>\n<!-- 140179185655440 -->\n<g id=\"node62\" class=\"node\">\n<title>140179185655440</title>\n<polygon fill=\"#add8e6\" stroke=\"#000000\" points=\"1002,-1967 895,-1967 895,-1937 1002,-1937 1002,-1967\"/>\n<text text-anchor=\"middle\" x=\"948.5\" y=\"-1955\" font-family=\"monospace\" font-size=\"10.00\" fill=\"#000000\">conv2.0.weight</text>\n<text text-anchor=\"middle\" x=\"948.5\" y=\"-1944\" font-family=\"monospace\" font-size=\"10.00\" fill=\"#000000\"> (32, 32, 3, 3)</text>\n</g>\n<!-- 140179185655440&#45;&gt;140184103403792 -->\n<g id=\"edge60\" class=\"edge\">\n<title>140179185655440&#45;&gt;140184103403792</title>\n<path fill=\"none\" stroke=\"#000000\" d=\"M948.5,-1936.7333C948.5,-1929.0322 948.5,-1919.5977 948.5,-1911.3414\"/>\n<polygon fill=\"#000000\" stroke=\"#000000\" points=\"952.0001,-1911.0864 948.5,-1901.0864 945.0001,-1911.0864 952.0001,-1911.0864\"/>\n</g>\n<!-- 140178788167504 -->\n<g id=\"node63\" class=\"node\">\n<title>140178788167504</title>\n<polygon fill=\"#d3d3d3\" stroke=\"#000000\" points=\"1090,-1774.5 989,-1774.5 989,-1755.5 1090,-1755.5 1090,-1774.5\"/>\n<text text-anchor=\"middle\" x=\"1039.5\" y=\"-1762.5\" font-family=\"monospace\" font-size=\"10.00\" fill=\"#000000\">AccumulateGrad</text>\n</g>\n<!-- 140178788167504&#45;&gt;140178788166928 -->\n<g id=\"edge61\" class=\"edge\">\n<title>140178788167504&#45;&gt;140178788166928</title>\n<path fill=\"none\" stroke=\"#000000\" d=\"M1046.2875,-1755.2615C1053.2859,-1745.2203 1064.3589,-1729.3329 1072.956,-1716.998\"/>\n<polygon fill=\"#000000\" stroke=\"#000000\" points=\"1075.8381,-1718.9838 1078.6847,-1708.7785 1070.0953,-1714.9812 1075.8381,-1718.9838\"/>\n</g>\n<!-- 140179185655248 -->\n<g id=\"node64\" class=\"node\">\n<title>140179185655248</title>\n<polygon fill=\"#add8e6\" stroke=\"#000000\" points=\"1093,-1846 992,-1846 992,-1816 1093,-1816 1093,-1846\"/>\n<text text-anchor=\"middle\" x=\"1042.5\" y=\"-1834\" font-family=\"monospace\" font-size=\"10.00\" fill=\"#000000\">conv2.2.weight</text>\n<text text-anchor=\"middle\" x=\"1042.5\" y=\"-1823\" font-family=\"monospace\" font-size=\"10.00\" fill=\"#000000\"> (32)</text>\n</g>\n<!-- 140179185655248&#45;&gt;140178788167504 -->\n<g id=\"edge62\" class=\"edge\">\n<title>140179185655248&#45;&gt;140178788167504</title>\n<path fill=\"none\" stroke=\"#000000\" d=\"M1041.8042,-1815.6924C1041.3867,-1806.5067 1040.8511,-1794.7245 1040.4014,-1784.8312\"/>\n<polygon fill=\"#000000\" stroke=\"#000000\" points=\"1043.8916,-1784.5338 1039.941,-1774.7031 1036.8988,-1784.8517 1043.8916,-1784.5338\"/>\n</g>\n<!-- 140178788167440 -->\n<g id=\"node65\" class=\"node\">\n<title>140178788167440</title>\n<polygon fill=\"#d3d3d3\" stroke=\"#000000\" points=\"1209,-1774.5 1108,-1774.5 1108,-1755.5 1209,-1755.5 1209,-1774.5\"/>\n<text text-anchor=\"middle\" x=\"1158.5\" y=\"-1762.5\" font-family=\"monospace\" font-size=\"10.00\" fill=\"#000000\">AccumulateGrad</text>\n</g>\n<!-- 140178788167440&#45;&gt;140178788166928 -->\n<g id=\"edge63\" class=\"edge\">\n<title>140178788167440&#45;&gt;140178788166928</title>\n<path fill=\"none\" stroke=\"#000000\" d=\"M1147.7286,-1755.2615C1136.1911,-1744.8303 1117.6754,-1728.0901 1103.8357,-1715.5775\"/>\n<polygon fill=\"#000000\" stroke=\"#000000\" points=\"1106.0807,-1712.8888 1096.3156,-1708.7785 1101.3861,-1718.0812 1106.0807,-1712.8888\"/>\n</g>\n<!-- 140179185654864 -->\n<g id=\"node66\" class=\"node\">\n<title>140179185654864</title>\n<polygon fill=\"#add8e6\" stroke=\"#000000\" points=\"1203,-1846 1114,-1846 1114,-1816 1203,-1816 1203,-1846\"/>\n<text text-anchor=\"middle\" x=\"1158.5\" y=\"-1834\" font-family=\"monospace\" font-size=\"10.00\" fill=\"#000000\">conv2.2.bias</text>\n<text text-anchor=\"middle\" x=\"1158.5\" y=\"-1823\" font-family=\"monospace\" font-size=\"10.00\" fill=\"#000000\"> (32)</text>\n</g>\n<!-- 140179185654864&#45;&gt;140178788167440 -->\n<g id=\"edge64\" class=\"edge\">\n<title>140179185654864&#45;&gt;140178788167440</title>\n<path fill=\"none\" stroke=\"#000000\" d=\"M1158.5,-1815.6924C1158.5,-1806.5067 1158.5,-1794.7245 1158.5,-1784.8312\"/>\n<polygon fill=\"#000000\" stroke=\"#000000\" points=\"1162.0001,-1784.703 1158.5,-1774.7031 1155.0001,-1784.7031 1162.0001,-1784.703\"/>\n</g>\n<!-- 140178788167312 -->\n<g id=\"node67\" class=\"node\">\n<title>140178788167312</title>\n<polygon fill=\"#d3d3d3\" stroke=\"#000000\" points=\"1305,-1708.5 1204,-1708.5 1204,-1689.5 1305,-1689.5 1305,-1708.5\"/>\n<text text-anchor=\"middle\" x=\"1254.5\" y=\"-1696.5\" font-family=\"monospace\" font-size=\"10.00\" fill=\"#000000\">AccumulateGrad</text>\n</g>\n<!-- 140178788167312&#45;&gt;140178788166992 -->\n<g id=\"edge65\" class=\"edge\">\n<title>140178788167312&#45;&gt;140178788166992</title>\n<path fill=\"none\" stroke=\"#000000\" d=\"M1252.2507,-1689.2796C1250.3231,-1680.9499 1247.4857,-1668.688 1245.0819,-1658.3004\"/>\n<polygon fill=\"#000000\" stroke=\"#000000\" points=\"1248.4547,-1657.3507 1242.7903,-1648.3972 1241.6349,-1658.9289 1248.4547,-1657.3507\"/>\n</g>\n<!-- 140179185553776 -->\n<g id=\"node68\" class=\"node\">\n<title>140179185553776</title>\n<polygon fill=\"#add8e6\" stroke=\"#000000\" points=\"1328,-1780 1227,-1780 1227,-1750 1328,-1750 1328,-1780\"/>\n<text text-anchor=\"middle\" x=\"1277.5\" y=\"-1768\" font-family=\"monospace\" font-size=\"10.00\" fill=\"#000000\">conv2.4.weight</text>\n<text text-anchor=\"middle\" x=\"1277.5\" y=\"-1757\" font-family=\"monospace\" font-size=\"10.00\" fill=\"#000000\"> (32, 1, 3, 3)</text>\n</g>\n<!-- 140179185553776&#45;&gt;140178788167312 -->\n<g id=\"edge66\" class=\"edge\">\n<title>140179185553776&#45;&gt;140178788167312</title>\n<path fill=\"none\" stroke=\"#000000\" d=\"M1272.1655,-1749.6924C1268.8956,-1740.3092 1264.6815,-1728.2165 1261.1894,-1718.1956\"/>\n<polygon fill=\"#000000\" stroke=\"#000000\" points=\"1264.4773,-1716.9943 1257.8814,-1708.7031 1257.8671,-1719.2979 1264.4773,-1716.9943\"/>\n</g>\n<!-- 140178788167120 -->\n<g id=\"node69\" class=\"node\">\n<title>140178788167120</title>\n<polygon fill=\"#d3d3d3\" stroke=\"#000000\" points=\"1440,-1648 1339,-1648 1339,-1629 1440,-1629 1440,-1648\"/>\n<text text-anchor=\"middle\" x=\"1389.5\" y=\"-1636\" font-family=\"monospace\" font-size=\"10.00\" fill=\"#000000\">AccumulateGrad</text>\n</g>\n<!-- 140178788167120&#45;&gt;140178788166800 -->\n<g id=\"edge67\" class=\"edge\">\n<title>140178788167120&#45;&gt;140178788166800</title>\n<path fill=\"none\" stroke=\"#000000\" d=\"M1377.45,-1628.7796C1365.9282,-1619.4855 1348.3377,-1605.2957 1334.6774,-1594.2765\"/>\n<polygon fill=\"#000000\" stroke=\"#000000\" points=\"1336.7501,-1591.4516 1326.7693,-1587.8972 1332.3551,-1596.9 1336.7501,-1591.4516\"/>\n</g>\n<!-- 140179185553968 -->\n<g id=\"node70\" class=\"node\">\n<title>140179185553968</title>\n<polygon fill=\"#add8e6\" stroke=\"#000000\" points=\"1443,-1714 1336,-1714 1336,-1684 1443,-1684 1443,-1714\"/>\n<text text-anchor=\"middle\" x=\"1389.5\" y=\"-1702\" font-family=\"monospace\" font-size=\"10.00\" fill=\"#000000\">conv2.5.weight</text>\n<text text-anchor=\"middle\" x=\"1389.5\" y=\"-1691\" font-family=\"monospace\" font-size=\"10.00\" fill=\"#000000\"> (64, 32, 1, 1)</text>\n</g>\n<!-- 140179185553968&#45;&gt;140178788167120 -->\n<g id=\"edge68\" class=\"edge\">\n<title>140179185553968&#45;&gt;140178788167120</title>\n<path fill=\"none\" stroke=\"#000000\" d=\"M1389.5,-1683.7333C1389.5,-1676.0322 1389.5,-1666.5977 1389.5,-1658.3414\"/>\n<polygon fill=\"#000000\" stroke=\"#000000\" points=\"1393.0001,-1658.0864 1389.5,-1648.0864 1386.0001,-1658.0864 1393.0001,-1658.0864\"/>\n</g>\n<!-- 140178788166736 -->\n<g id=\"node71\" class=\"node\">\n<title>140178788166736</title>\n<polygon fill=\"#d3d3d3\" stroke=\"#000000\" points=\"1514,-1521.5 1413,-1521.5 1413,-1502.5 1514,-1502.5 1514,-1521.5\"/>\n<text text-anchor=\"middle\" x=\"1463.5\" y=\"-1509.5\" font-family=\"monospace\" font-size=\"10.00\" fill=\"#000000\">AccumulateGrad</text>\n</g>\n<!-- 140178788166736&#45;&gt;140178788166096 -->\n<g id=\"edge69\" class=\"edge\">\n<title>140178788166736&#45;&gt;140178788166096</title>\n<path fill=\"none\" stroke=\"#000000\" d=\"M1470.0874,-1502.2796C1476.0294,-1493.5115 1484.9241,-1480.3864 1492.1819,-1469.6767\"/>\n<polygon fill=\"#000000\" stroke=\"#000000\" points=\"1495.0801,-1471.6389 1497.7928,-1461.3972 1489.2854,-1467.7119 1495.0801,-1471.6389\"/>\n</g>\n<!-- 140179185553872 -->\n<g id=\"node72\" class=\"node\">\n<title>140179185553872</title>\n<polygon fill=\"#add8e6\" stroke=\"#000000\" points=\"1517,-1593 1416,-1593 1416,-1563 1517,-1563 1517,-1593\"/>\n<text text-anchor=\"middle\" x=\"1466.5\" y=\"-1581\" font-family=\"monospace\" font-size=\"10.00\" fill=\"#000000\">conv2.7.weight</text>\n<text text-anchor=\"middle\" x=\"1466.5\" y=\"-1570\" font-family=\"monospace\" font-size=\"10.00\" fill=\"#000000\"> (64)</text>\n</g>\n<!-- 140179185553872&#45;&gt;140178788166736 -->\n<g id=\"edge70\" class=\"edge\">\n<title>140179185553872&#45;&gt;140178788166736</title>\n<path fill=\"none\" stroke=\"#000000\" d=\"M1465.8042,-1562.6924C1465.3867,-1553.5067 1464.8511,-1541.7245 1464.4014,-1531.8312\"/>\n<polygon fill=\"#000000\" stroke=\"#000000\" points=\"1467.8916,-1531.5338 1463.941,-1521.7031 1460.8988,-1531.8517 1467.8916,-1531.5338\"/>\n</g>\n<!-- 140178788166672 -->\n<g id=\"node73\" class=\"node\">\n<title>140178788166672</title>\n<polygon fill=\"#d3d3d3\" stroke=\"#000000\" points=\"1633,-1521.5 1532,-1521.5 1532,-1502.5 1633,-1502.5 1633,-1521.5\"/>\n<text text-anchor=\"middle\" x=\"1582.5\" y=\"-1509.5\" font-family=\"monospace\" font-size=\"10.00\" fill=\"#000000\">AccumulateGrad</text>\n</g>\n<!-- 140178788166672&#45;&gt;140178788166096 -->\n<g id=\"edge71\" class=\"edge\">\n<title>140178788166672&#45;&gt;140178788166096</title>\n<path fill=\"none\" stroke=\"#000000\" d=\"M1569.968,-1502.2796C1557.9141,-1492.9301 1539.4732,-1478.6266 1525.2313,-1467.58\"/>\n<polygon fill=\"#000000\" stroke=\"#000000\" points=\"1527.0478,-1464.5596 1517.0009,-1461.1962 1522.7575,-1470.0908 1527.0478,-1464.5596\"/>\n</g>\n<!-- 140179185553488 -->\n<g id=\"node74\" class=\"node\">\n<title>140179185553488</title>\n<polygon fill=\"#add8e6\" stroke=\"#000000\" points=\"1627,-1593 1538,-1593 1538,-1563 1627,-1563 1627,-1593\"/>\n<text text-anchor=\"middle\" x=\"1582.5\" y=\"-1581\" font-family=\"monospace\" font-size=\"10.00\" fill=\"#000000\">conv2.7.bias</text>\n<text text-anchor=\"middle\" x=\"1582.5\" y=\"-1570\" font-family=\"monospace\" font-size=\"10.00\" fill=\"#000000\"> (64)</text>\n</g>\n<!-- 140179185553488&#45;&gt;140178788166672 -->\n<g id=\"edge72\" class=\"edge\">\n<title>140179185553488&#45;&gt;140178788166672</title>\n<path fill=\"none\" stroke=\"#000000\" d=\"M1582.5,-1562.6924C1582.5,-1553.5067 1582.5,-1541.7245 1582.5,-1531.8312\"/>\n<polygon fill=\"#000000\" stroke=\"#000000\" points=\"1586.0001,-1531.703 1582.5,-1521.7031 1579.0001,-1531.7031 1586.0001,-1531.703\"/>\n</g>\n<!-- 140178788166544 -->\n<g id=\"node75\" class=\"node\">\n<title>140178788166544</title>\n<polygon fill=\"#d3d3d3\" stroke=\"#000000\" points=\"1742,-1461 1641,-1461 1641,-1442 1742,-1442 1742,-1461\"/>\n<text text-anchor=\"middle\" x=\"1691.5\" y=\"-1449\" font-family=\"monospace\" font-size=\"10.00\" fill=\"#000000\">AccumulateGrad</text>\n</g>\n<!-- 140178788166544&#45;&gt;140178788166224 -->\n<g id=\"edge73\" class=\"edge\">\n<title>140178788166544&#45;&gt;140178788166224</title>\n<path fill=\"none\" stroke=\"#000000\" d=\"M1689.0614,-1441.9197C1687.2568,-1434.8304 1684.7359,-1424.9269 1682.5085,-1416.1763\"/>\n<polygon fill=\"#000000\" stroke=\"#000000\" points=\"1685.8636,-1415.1684 1680.0049,-1406.3408 1679.08,-1416.8952 1685.8636,-1415.1684\"/>\n</g>\n<!-- 140179185554640 -->\n<g id=\"node76\" class=\"node\">\n<title>140179185554640</title>\n<polygon fill=\"#add8e6\" stroke=\"#000000\" points=\"1758,-1527 1651,-1527 1651,-1497 1758,-1497 1758,-1527\"/>\n<text text-anchor=\"middle\" x=\"1704.5\" y=\"-1515\" font-family=\"monospace\" font-size=\"10.00\" fill=\"#000000\">trans2.0.weight</text>\n<text text-anchor=\"middle\" x=\"1704.5\" y=\"-1504\" font-family=\"monospace\" font-size=\"10.00\" fill=\"#000000\"> (32, 64, 1, 1)</text>\n</g>\n<!-- 140179185554640&#45;&gt;140178788166544 -->\n<g id=\"edge74\" class=\"edge\">\n<title>140179185554640&#45;&gt;140178788166544</title>\n<path fill=\"none\" stroke=\"#000000\" d=\"M1701.2196,-1496.7333C1699.546,-1488.9447 1697.4914,-1479.3831 1695.7031,-1471.0604\"/>\n<polygon fill=\"#000000\" stroke=\"#000000\" points=\"1699.0827,-1470.1279 1693.5599,-1461.0864 1692.2389,-1471.5986 1699.0827,-1470.1279\"/>\n</g>\n<!-- 140178788166416 -->\n<g id=\"node77\" class=\"node\">\n<title>140178788166416</title>\n<polygon fill=\"#d3d3d3\" stroke=\"#000000\" points=\"1922,-1406 1779,-1406 1779,-1387 1922,-1387 1922,-1406\"/>\n<text text-anchor=\"middle\" x=\"1850.5\" y=\"-1394\" font-family=\"monospace\" font-size=\"10.00\" fill=\"#000000\">ReshapeAliasBackward0</text>\n</g>\n<!-- 140178788166416&#45;&gt;140178788165840 -->\n<g id=\"edge75\" class=\"edge\">\n<title>140178788166416&#45;&gt;140178788165840</title>\n<path fill=\"none\" stroke=\"#000000\" d=\"M1836.5219,-1386.7796C1822.8235,-1377.2537 1801.7298,-1362.5851 1785.7293,-1351.4583\"/>\n<polygon fill=\"#000000\" stroke=\"#000000\" points=\"1787.6517,-1348.532 1777.4434,-1345.6962 1783.6551,-1354.2791 1787.6517,-1348.532\"/>\n</g>\n<!-- 140178788166480 -->\n<g id=\"node78\" class=\"node\">\n<title>140178788166480</title>\n<polygon fill=\"#d3d3d3\" stroke=\"#000000\" points=\"1901,-1461 1800,-1461 1800,-1442 1901,-1442 1901,-1461\"/>\n<text text-anchor=\"middle\" x=\"1850.5\" y=\"-1449\" font-family=\"monospace\" font-size=\"10.00\" fill=\"#000000\">AccumulateGrad</text>\n</g>\n<!-- 140178788166480&#45;&gt;140178788166416 -->\n<g id=\"edge76\" class=\"edge\">\n<title>140178788166480&#45;&gt;140178788166416</title>\n<path fill=\"none\" stroke=\"#000000\" d=\"M1850.5,-1441.9197C1850.5,-1434.9083 1850.5,-1425.1442 1850.5,-1416.4652\"/>\n<polygon fill=\"#000000\" stroke=\"#000000\" points=\"1854.0001,-1416.3408 1850.5,-1406.3408 1847.0001,-1416.3409 1854.0001,-1416.3408\"/>\n</g>\n<!-- 140179185554544 -->\n<g id=\"node79\" class=\"node\">\n<title>140179185554544</title>\n<polygon fill=\"#add8e6\" stroke=\"#000000\" points=\"1898,-1527 1803,-1527 1803,-1497 1898,-1497 1898,-1527\"/>\n<text text-anchor=\"middle\" x=\"1850.5\" y=\"-1515\" font-family=\"monospace\" font-size=\"10.00\" fill=\"#000000\">trans2.0.bias</text>\n<text text-anchor=\"middle\" x=\"1850.5\" y=\"-1504\" font-family=\"monospace\" font-size=\"10.00\" fill=\"#000000\"> (32)</text>\n</g>\n<!-- 140179185554544&#45;&gt;140178788166480 -->\n<g id=\"edge77\" class=\"edge\">\n<title>140179185554544&#45;&gt;140178788166480</title>\n<path fill=\"none\" stroke=\"#000000\" d=\"M1850.5,-1496.7333C1850.5,-1489.0322 1850.5,-1479.5977 1850.5,-1471.3414\"/>\n<polygon fill=\"#000000\" stroke=\"#000000\" points=\"1854.0001,-1471.0864 1850.5,-1461.0864 1847.0001,-1471.0864 1854.0001,-1471.0864\"/>\n</g>\n<!-- 140178788166032 -->\n<g id=\"node80\" class=\"node\">\n<title>140178788166032</title>\n<polygon fill=\"#d3d3d3\" stroke=\"#000000\" points=\"1930,-1285 1829,-1285 1829,-1266 1930,-1266 1930,-1285\"/>\n<text text-anchor=\"middle\" x=\"1879.5\" y=\"-1273\" font-family=\"monospace\" font-size=\"10.00\" fill=\"#000000\">AccumulateGrad</text>\n</g>\n<!-- 140178788166032&#45;&gt;140178788165712 -->\n<g id=\"edge78\" class=\"edge\">\n<title>140178788166032&#45;&gt;140178788165712</title>\n<path fill=\"none\" stroke=\"#000000\" d=\"M1870.1813,-1265.7796C1861.5234,-1256.7485 1848.434,-1243.095 1838.0079,-1232.2195\"/>\n<polygon fill=\"#000000\" stroke=\"#000000\" points=\"1840.4352,-1229.6938 1830.9883,-1224.8972 1835.3821,-1234.538 1840.4352,-1229.6938\"/>\n</g>\n<!-- 140179185554928 -->\n<g id=\"node81\" class=\"node\">\n<title>140179185554928</title>\n<polygon fill=\"#add8e6\" stroke=\"#000000\" points=\"1933,-1351 1826,-1351 1826,-1321 1933,-1321 1933,-1351\"/>\n<text text-anchor=\"middle\" x=\"1879.5\" y=\"-1339\" font-family=\"monospace\" font-size=\"10.00\" fill=\"#000000\">conv3.0.weight</text>\n<text text-anchor=\"middle\" x=\"1879.5\" y=\"-1328\" font-family=\"monospace\" font-size=\"10.00\" fill=\"#000000\"> (64, 32, 3, 3)</text>\n</g>\n<!-- 140179185554928&#45;&gt;140178788166032 -->\n<g id=\"edge79\" class=\"edge\">\n<title>140179185554928&#45;&gt;140178788166032</title>\n<path fill=\"none\" stroke=\"#000000\" d=\"M1879.5,-1320.7333C1879.5,-1313.0322 1879.5,-1303.5977 1879.5,-1295.3414\"/>\n<polygon fill=\"#000000\" stroke=\"#000000\" points=\"1883.0001,-1295.0864 1879.5,-1285.0864 1876.0001,-1295.0864 1883.0001,-1295.0864\"/>\n</g>\n<!-- 140178788165648 -->\n<g id=\"node82\" class=\"node\">\n<title>140178788165648</title>\n<polygon fill=\"#d3d3d3\" stroke=\"#000000\" points=\"2021,-1158.5 1920,-1158.5 1920,-1139.5 2021,-1139.5 2021,-1158.5\"/>\n<text text-anchor=\"middle\" x=\"1970.5\" y=\"-1146.5\" font-family=\"monospace\" font-size=\"10.00\" fill=\"#000000\">AccumulateGrad</text>\n</g>\n<!-- 140178788165648&#45;&gt;140178788165328 -->\n<g id=\"edge80\" class=\"edge\">\n<title>140178788165648&#45;&gt;140178788165328</title>\n<path fill=\"none\" stroke=\"#000000\" d=\"M1978.0514,-1139.2796C1984.9311,-1130.4239 1995.2636,-1117.1235 2003.6283,-1106.3561\"/>\n<polygon fill=\"#000000\" stroke=\"#000000\" points=\"2006.4403,-1108.4415 2009.8112,-1098.3972 2000.9123,-1104.1471 2006.4403,-1108.4415\"/>\n</g>\n<!-- 140179185554736 -->\n<g id=\"node83\" class=\"node\">\n<title>140179185554736</title>\n<polygon fill=\"#add8e6\" stroke=\"#000000\" points=\"2024,-1230 1923,-1230 1923,-1200 2024,-1200 2024,-1230\"/>\n<text text-anchor=\"middle\" x=\"1973.5\" y=\"-1218\" font-family=\"monospace\" font-size=\"10.00\" fill=\"#000000\">conv3.2.weight</text>\n<text text-anchor=\"middle\" x=\"1973.5\" y=\"-1207\" font-family=\"monospace\" font-size=\"10.00\" fill=\"#000000\"> (64)</text>\n</g>\n<!-- 140179185554736&#45;&gt;140178788165648 -->\n<g id=\"edge81\" class=\"edge\">\n<title>140179185554736&#45;&gt;140178788165648</title>\n<path fill=\"none\" stroke=\"#000000\" d=\"M1972.8042,-1199.6924C1972.3867,-1190.5067 1971.8511,-1178.7245 1971.4014,-1168.8312\"/>\n<polygon fill=\"#000000\" stroke=\"#000000\" points=\"1974.8916,-1168.5338 1970.941,-1158.7031 1967.8988,-1168.8517 1974.8916,-1168.5338\"/>\n</g>\n<!-- 140178788165584 -->\n<g id=\"node84\" class=\"node\">\n<title>140178788165584</title>\n<polygon fill=\"#d3d3d3\" stroke=\"#000000\" points=\"2140,-1158.5 2039,-1158.5 2039,-1139.5 2140,-1139.5 2140,-1158.5\"/>\n<text text-anchor=\"middle\" x=\"2089.5\" y=\"-1146.5\" font-family=\"monospace\" font-size=\"10.00\" fill=\"#000000\">AccumulateGrad</text>\n</g>\n<!-- 140178788165584&#45;&gt;140178788165328 -->\n<g id=\"edge82\" class=\"edge\">\n<title>140178788165584&#45;&gt;140178788165328</title>\n<path fill=\"none\" stroke=\"#000000\" d=\"M2077.932,-1139.2796C2066.9755,-1130.0731 2050.3023,-1116.063 2037.2425,-1105.0892\"/>\n<polygon fill=\"#000000\" stroke=\"#000000\" points=\"2039.1862,-1102.1508 2029.2785,-1098.3972 2034.6829,-1107.51 2039.1862,-1102.1508\"/>\n</g>\n<!-- 140179185554448 -->\n<g id=\"node85\" class=\"node\">\n<title>140179185554448</title>\n<polygon fill=\"#add8e6\" stroke=\"#000000\" points=\"2134,-1230 2045,-1230 2045,-1200 2134,-1200 2134,-1230\"/>\n<text text-anchor=\"middle\" x=\"2089.5\" y=\"-1218\" font-family=\"monospace\" font-size=\"10.00\" fill=\"#000000\">conv3.2.bias</text>\n<text text-anchor=\"middle\" x=\"2089.5\" y=\"-1207\" font-family=\"monospace\" font-size=\"10.00\" fill=\"#000000\"> (64)</text>\n</g>\n<!-- 140179185554448&#45;&gt;140178788165584 -->\n<g id=\"edge83\" class=\"edge\">\n<title>140179185554448&#45;&gt;140178788165584</title>\n<path fill=\"none\" stroke=\"#000000\" d=\"M2089.5,-1199.6924C2089.5,-1190.5067 2089.5,-1178.7245 2089.5,-1168.8312\"/>\n<polygon fill=\"#000000\" stroke=\"#000000\" points=\"2093.0001,-1168.703 2089.5,-1158.7031 2086.0001,-1168.7031 2093.0001,-1168.703\"/>\n</g>\n<!-- 140178788165456 -->\n<g id=\"node86\" class=\"node\">\n<title>140178788165456</title>\n<polygon fill=\"#d3d3d3\" stroke=\"#000000\" points=\"2238,-1098 2137,-1098 2137,-1079 2238,-1079 2238,-1098\"/>\n<text text-anchor=\"middle\" x=\"2187.5\" y=\"-1086\" font-family=\"monospace\" font-size=\"10.00\" fill=\"#000000\">AccumulateGrad</text>\n</g>\n<!-- 140178788165456&#45;&gt;140178788165136 -->\n<g id=\"edge84\" class=\"edge\">\n<title>140178788165456&#45;&gt;140178788165136</title>\n<path fill=\"none\" stroke=\"#000000\" d=\"M2171.9153,-1078.7796C2156.5009,-1069.1655 2132.6878,-1054.313 2114.7903,-1043.1501\"/>\n<polygon fill=\"#000000\" stroke=\"#000000\" points=\"2116.3832,-1040.0187 2106.0461,-1037.6962 2112.6787,-1045.9581 2116.3832,-1040.0187\"/>\n</g>\n<!-- 140179185555600 -->\n<g id=\"node87\" class=\"node\">\n<title>140179185555600</title>\n<polygon fill=\"#add8e6\" stroke=\"#000000\" points=\"2265,-1164 2158,-1164 2158,-1134 2265,-1134 2265,-1164\"/>\n<text text-anchor=\"middle\" x=\"2211.5\" y=\"-1152\" font-family=\"monospace\" font-size=\"10.00\" fill=\"#000000\">conv3.4.weight</text>\n<text text-anchor=\"middle\" x=\"2211.5\" y=\"-1141\" font-family=\"monospace\" font-size=\"10.00\" fill=\"#000000\"> (64, 64, 3, 3)</text>\n</g>\n<!-- 140179185555600&#45;&gt;140178788165456 -->\n<g id=\"edge85\" class=\"edge\">\n<title>140179185555600&#45;&gt;140178788165456</title>\n<path fill=\"none\" stroke=\"#000000\" d=\"M2205.4438,-1133.7333C2202.2846,-1125.7696 2198.3902,-1115.9524 2195.0377,-1107.5012\"/>\n<polygon fill=\"#000000\" stroke=\"#000000\" points=\"2198.2437,-1106.0911 2191.3029,-1098.0864 2191.737,-1108.6723 2198.2437,-1106.0911\"/>\n</g>\n<!-- 140178788165072 -->\n<g id=\"node88\" class=\"node\">\n<title>140178788165072</title>\n<polygon fill=\"#d3d3d3\" stroke=\"#000000\" points=\"2290,-971.5 2189,-971.5 2189,-952.5 2290,-952.5 2290,-971.5\"/>\n<text text-anchor=\"middle\" x=\"2239.5\" y=\"-959.5\" font-family=\"monospace\" font-size=\"10.00\" fill=\"#000000\">AccumulateGrad</text>\n</g>\n<!-- 140178788165072&#45;&gt;140178788164688 -->\n<g id=\"edge86\" class=\"edge\">\n<title>140178788165072&#45;&gt;140178788164688</title>\n<path fill=\"none\" stroke=\"#000000\" d=\"M2246.0874,-952.2796C2252.0294,-943.5115 2260.9241,-930.3864 2268.1819,-919.6767\"/>\n<polygon fill=\"#000000\" stroke=\"#000000\" points=\"2271.0801,-921.6389 2273.7928,-911.3972 2265.2854,-917.7119 2271.0801,-921.6389\"/>\n</g>\n<!-- 140179185555504 -->\n<g id=\"node89\" class=\"node\">\n<title>140179185555504</title>\n<polygon fill=\"#add8e6\" stroke=\"#000000\" points=\"2293,-1043 2192,-1043 2192,-1013 2293,-1013 2293,-1043\"/>\n<text text-anchor=\"middle\" x=\"2242.5\" y=\"-1031\" font-family=\"monospace\" font-size=\"10.00\" fill=\"#000000\">conv3.6.weight</text>\n<text text-anchor=\"middle\" x=\"2242.5\" y=\"-1020\" font-family=\"monospace\" font-size=\"10.00\" fill=\"#000000\"> (64)</text>\n</g>\n<!-- 140179185555504&#45;&gt;140178788165072 -->\n<g id=\"edge87\" class=\"edge\">\n<title>140179185555504&#45;&gt;140178788165072</title>\n<path fill=\"none\" stroke=\"#000000\" d=\"M2241.8042,-1012.6924C2241.3867,-1003.5067 2240.8511,-991.7245 2240.4014,-981.8312\"/>\n<polygon fill=\"#000000\" stroke=\"#000000\" points=\"2243.8916,-981.5338 2239.941,-971.7031 2236.8988,-981.8517 2243.8916,-981.5338\"/>\n</g>\n<!-- 140178788165008 -->\n<g id=\"node90\" class=\"node\">\n<title>140178788165008</title>\n<polygon fill=\"#d3d3d3\" stroke=\"#000000\" points=\"2409,-971.5 2308,-971.5 2308,-952.5 2409,-952.5 2409,-971.5\"/>\n<text text-anchor=\"middle\" x=\"2358.5\" y=\"-959.5\" font-family=\"monospace\" font-size=\"10.00\" fill=\"#000000\">AccumulateGrad</text>\n</g>\n<!-- 140178788165008&#45;&gt;140178788164688 -->\n<g id=\"edge88\" class=\"edge\">\n<title>140178788165008&#45;&gt;140178788164688</title>\n<path fill=\"none\" stroke=\"#000000\" d=\"M2345.968,-952.2796C2333.9141,-942.9301 2315.4732,-928.6266 2301.2313,-917.58\"/>\n<polygon fill=\"#000000\" stroke=\"#000000\" points=\"2303.0478,-914.5596 2293.0009,-911.1962 2298.7575,-920.0908 2303.0478,-914.5596\"/>\n</g>\n<!-- 140179185555312 -->\n<g id=\"node91\" class=\"node\">\n<title>140179185555312</title>\n<polygon fill=\"#add8e6\" stroke=\"#000000\" points=\"2403,-1043 2314,-1043 2314,-1013 2403,-1013 2403,-1043\"/>\n<text text-anchor=\"middle\" x=\"2358.5\" y=\"-1031\" font-family=\"monospace\" font-size=\"10.00\" fill=\"#000000\">conv3.6.bias</text>\n<text text-anchor=\"middle\" x=\"2358.5\" y=\"-1020\" font-family=\"monospace\" font-size=\"10.00\" fill=\"#000000\"> (64)</text>\n</g>\n<!-- 140179185555312&#45;&gt;140178788165008 -->\n<g id=\"edge89\" class=\"edge\">\n<title>140179185555312&#45;&gt;140178788165008</title>\n<path fill=\"none\" stroke=\"#000000\" d=\"M2358.5,-1012.6924C2358.5,-1003.5067 2358.5,-991.7245 2358.5,-981.8312\"/>\n<polygon fill=\"#000000\" stroke=\"#000000\" points=\"2362.0001,-981.703 2358.5,-971.7031 2355.0001,-981.7031 2362.0001,-981.703\"/>\n</g>\n<!-- 140178788164880 -->\n<g id=\"node92\" class=\"node\">\n<title>140178788164880</title>\n<polygon fill=\"#d3d3d3\" stroke=\"#000000\" points=\"2518,-911 2417,-911 2417,-892 2518,-892 2518,-911\"/>\n<text text-anchor=\"middle\" x=\"2467.5\" y=\"-899\" font-family=\"monospace\" font-size=\"10.00\" fill=\"#000000\">AccumulateGrad</text>\n</g>\n<!-- 140178788164880&#45;&gt;140178794588176 -->\n<g id=\"edge90\" class=\"edge\">\n<title>140178788164880&#45;&gt;140178794588176</title>\n<path fill=\"none\" stroke=\"#000000\" d=\"M2465.0614,-891.9197C2463.2568,-884.8304 2460.7359,-874.9269 2458.5085,-866.1763\"/>\n<polygon fill=\"#000000\" stroke=\"#000000\" points=\"2461.8636,-865.1684 2456.0049,-856.3408 2455.08,-866.8952 2461.8636,-865.1684\"/>\n</g>\n<!-- 140179185556272 -->\n<g id=\"node93\" class=\"node\">\n<title>140179185556272</title>\n<polygon fill=\"#add8e6\" stroke=\"#000000\" points=\"2534,-977 2427,-977 2427,-947 2534,-947 2534,-977\"/>\n<text text-anchor=\"middle\" x=\"2480.5\" y=\"-965\" font-family=\"monospace\" font-size=\"10.00\" fill=\"#000000\">trans3.0.weight</text>\n<text text-anchor=\"middle\" x=\"2480.5\" y=\"-954\" font-family=\"monospace\" font-size=\"10.00\" fill=\"#000000\"> (16, 64, 1, 1)</text>\n</g>\n<!-- 140179185556272&#45;&gt;140178788164880 -->\n<g id=\"edge91\" class=\"edge\">\n<title>140179185556272&#45;&gt;140178788164880</title>\n<path fill=\"none\" stroke=\"#000000\" d=\"M2477.2196,-946.7333C2475.546,-938.9447 2473.4914,-929.3831 2471.7031,-921.0604\"/>\n<polygon fill=\"#000000\" stroke=\"#000000\" points=\"2475.0827,-920.1279 2469.5599,-911.0864 2468.2389,-921.5986 2475.0827,-920.1279\"/>\n</g>\n<!-- 140178794586448 -->\n<g id=\"node94\" class=\"node\">\n<title>140178794586448</title>\n<polygon fill=\"#d3d3d3\" stroke=\"#000000\" points=\"2698,-856 2555,-856 2555,-837 2698,-837 2698,-856\"/>\n<text text-anchor=\"middle\" x=\"2626.5\" y=\"-844\" font-family=\"monospace\" font-size=\"10.00\" fill=\"#000000\">ReshapeAliasBackward0</text>\n</g>\n<!-- 140178794586448&#45;&gt;140184103458000 -->\n<g id=\"edge92\" class=\"edge\">\n<title>140178794586448&#45;&gt;140184103458000</title>\n<path fill=\"none\" stroke=\"#000000\" d=\"M2612.5219,-836.7796C2598.8235,-827.2537 2577.7298,-812.5851 2561.7293,-801.4583\"/>\n<polygon fill=\"#000000\" stroke=\"#000000\" points=\"2563.6517,-798.532 2553.4434,-795.6962 2559.6551,-804.2791 2563.6517,-798.532\"/>\n</g>\n<!-- 140178788164816 -->\n<g id=\"node95\" class=\"node\">\n<title>140178788164816</title>\n<polygon fill=\"#d3d3d3\" stroke=\"#000000\" points=\"2677,-911 2576,-911 2576,-892 2677,-892 2677,-911\"/>\n<text text-anchor=\"middle\" x=\"2626.5\" y=\"-899\" font-family=\"monospace\" font-size=\"10.00\" fill=\"#000000\">AccumulateGrad</text>\n</g>\n<!-- 140178788164816&#45;&gt;140178794586448 -->\n<g id=\"edge93\" class=\"edge\">\n<title>140178788164816&#45;&gt;140178794586448</title>\n<path fill=\"none\" stroke=\"#000000\" d=\"M2626.5,-891.9197C2626.5,-884.9083 2626.5,-875.1442 2626.5,-866.4652\"/>\n<polygon fill=\"#000000\" stroke=\"#000000\" points=\"2630.0001,-866.3408 2626.5,-856.3408 2623.0001,-866.3409 2630.0001,-866.3408\"/>\n</g>\n<!-- 140179185556176 -->\n<g id=\"node96\" class=\"node\">\n<title>140179185556176</title>\n<polygon fill=\"#add8e6\" stroke=\"#000000\" points=\"2674,-977 2579,-977 2579,-947 2674,-947 2674,-977\"/>\n<text text-anchor=\"middle\" x=\"2626.5\" y=\"-965\" font-family=\"monospace\" font-size=\"10.00\" fill=\"#000000\">trans3.0.bias</text>\n<text text-anchor=\"middle\" x=\"2626.5\" y=\"-954\" font-family=\"monospace\" font-size=\"10.00\" fill=\"#000000\"> (16)</text>\n</g>\n<!-- 140179185556176&#45;&gt;140178788164816 -->\n<g id=\"edge94\" class=\"edge\">\n<title>140179185556176&#45;&gt;140178788164816</title>\n<path fill=\"none\" stroke=\"#000000\" d=\"M2626.5,-946.7333C2626.5,-939.0322 2626.5,-929.5977 2626.5,-921.3414\"/>\n<polygon fill=\"#000000\" stroke=\"#000000\" points=\"2630.0001,-921.0864 2626.5,-911.0864 2623.0001,-921.0864 2630.0001,-921.0864\"/>\n</g>\n<!-- 140178794587472 -->\n<g id=\"node97\" class=\"node\">\n<title>140178794587472</title>\n<polygon fill=\"#d3d3d3\" stroke=\"#000000\" points=\"2706,-735 2605,-735 2605,-716 2706,-716 2706,-735\"/>\n<text text-anchor=\"middle\" x=\"2655.5\" y=\"-723\" font-family=\"monospace\" font-size=\"10.00\" fill=\"#000000\">AccumulateGrad</text>\n</g>\n<!-- 140178794587472&#45;&gt;140178794587216 -->\n<g id=\"edge95\" class=\"edge\">\n<title>140178794587472&#45;&gt;140178794587216</title>\n<path fill=\"none\" stroke=\"#000000\" d=\"M2646.1813,-715.7796C2637.5234,-706.7485 2624.434,-693.095 2614.0079,-682.2195\"/>\n<polygon fill=\"#000000\" stroke=\"#000000\" points=\"2616.4352,-679.6938 2606.9883,-674.8972 2611.3821,-684.538 2616.4352,-679.6938\"/>\n</g>\n<!-- 140179185556560 -->\n<g id=\"node98\" class=\"node\">\n<title>140179185556560</title>\n<polygon fill=\"#add8e6\" stroke=\"#000000\" points=\"2709,-801 2602,-801 2602,-771 2709,-771 2709,-801\"/>\n<text text-anchor=\"middle\" x=\"2655.5\" y=\"-789\" font-family=\"monospace\" font-size=\"10.00\" fill=\"#000000\">conv4.0.weight</text>\n<text text-anchor=\"middle\" x=\"2655.5\" y=\"-778\" font-family=\"monospace\" font-size=\"10.00\" fill=\"#000000\"> (32, 16, 3, 3)</text>\n</g>\n<!-- 140179185556560&#45;&gt;140178794587472 -->\n<g id=\"edge96\" class=\"edge\">\n<title>140179185556560&#45;&gt;140178794587472</title>\n<path fill=\"none\" stroke=\"#000000\" d=\"M2655.5,-770.7333C2655.5,-763.0322 2655.5,-753.5977 2655.5,-745.3414\"/>\n<polygon fill=\"#000000\" stroke=\"#000000\" points=\"2659.0001,-745.0864 2655.5,-735.0864 2652.0001,-745.0864 2659.0001,-745.0864\"/>\n</g>\n<!-- 140178794587856 -->\n<g id=\"node99\" class=\"node\">\n<title>140178794587856</title>\n<polygon fill=\"#d3d3d3\" stroke=\"#000000\" points=\"2797,-608.5 2696,-608.5 2696,-589.5 2797,-589.5 2797,-608.5\"/>\n<text text-anchor=\"middle\" x=\"2746.5\" y=\"-596.5\" font-family=\"monospace\" font-size=\"10.00\" fill=\"#000000\">AccumulateGrad</text>\n</g>\n<!-- 140178794587856&#45;&gt;140178795737552 -->\n<g id=\"edge97\" class=\"edge\">\n<title>140178794587856&#45;&gt;140178795737552</title>\n<path fill=\"none\" stroke=\"#000000\" d=\"M2753.2875,-589.2615C2760.2859,-579.2203 2771.3589,-563.3329 2779.956,-550.998\"/>\n<polygon fill=\"#000000\" stroke=\"#000000\" points=\"2782.8381,-552.9838 2785.6847,-542.7785 2777.0953,-548.9812 2782.8381,-552.9838\"/>\n</g>\n<!-- 140179185556368 -->\n<g id=\"node100\" class=\"node\">\n<title>140179185556368</title>\n<polygon fill=\"#add8e6\" stroke=\"#000000\" points=\"2800,-680 2699,-680 2699,-650 2800,-650 2800,-680\"/>\n<text text-anchor=\"middle\" x=\"2749.5\" y=\"-668\" font-family=\"monospace\" font-size=\"10.00\" fill=\"#000000\">conv4.2.weight</text>\n<text text-anchor=\"middle\" x=\"2749.5\" y=\"-657\" font-family=\"monospace\" font-size=\"10.00\" fill=\"#000000\"> (32)</text>\n</g>\n<!-- 140179185556368&#45;&gt;140178794587856 -->\n<g id=\"edge98\" class=\"edge\">\n<title>140179185556368&#45;&gt;140178794587856</title>\n<path fill=\"none\" stroke=\"#000000\" d=\"M2748.8042,-649.6924C2748.3867,-640.5067 2747.8511,-628.7245 2747.4014,-618.8312\"/>\n<polygon fill=\"#000000\" stroke=\"#000000\" points=\"2750.8916,-618.5338 2746.941,-608.7031 2743.8988,-618.8517 2750.8916,-618.5338\"/>\n</g>\n<!-- 140178794586768 -->\n<g id=\"node101\" class=\"node\">\n<title>140178794586768</title>\n<polygon fill=\"#d3d3d3\" stroke=\"#000000\" points=\"2916,-608.5 2815,-608.5 2815,-589.5 2916,-589.5 2916,-608.5\"/>\n<text text-anchor=\"middle\" x=\"2865.5\" y=\"-596.5\" font-family=\"monospace\" font-size=\"10.00\" fill=\"#000000\">AccumulateGrad</text>\n</g>\n<!-- 140178794586768&#45;&gt;140178795737552 -->\n<g id=\"edge99\" class=\"edge\">\n<title>140178794586768&#45;&gt;140178795737552</title>\n<path fill=\"none\" stroke=\"#000000\" d=\"M2854.7286,-589.2615C2843.1911,-578.8303 2824.6754,-562.0901 2810.8357,-549.5775\"/>\n<polygon fill=\"#000000\" stroke=\"#000000\" points=\"2813.0807,-546.8888 2803.3156,-542.7785 2808.3861,-552.0812 2813.0807,-546.8888\"/>\n</g>\n<!-- 140179185555984 -->\n<g id=\"node102\" class=\"node\">\n<title>140179185555984</title>\n<polygon fill=\"#add8e6\" stroke=\"#000000\" points=\"2910,-680 2821,-680 2821,-650 2910,-650 2910,-680\"/>\n<text text-anchor=\"middle\" x=\"2865.5\" y=\"-668\" font-family=\"monospace\" font-size=\"10.00\" fill=\"#000000\">conv4.2.bias</text>\n<text text-anchor=\"middle\" x=\"2865.5\" y=\"-657\" font-family=\"monospace\" font-size=\"10.00\" fill=\"#000000\"> (32)</text>\n</g>\n<!-- 140179185555984&#45;&gt;140178794586768 -->\n<g id=\"edge100\" class=\"edge\">\n<title>140179185555984&#45;&gt;140178794586768</title>\n<path fill=\"none\" stroke=\"#000000\" d=\"M2865.5,-649.6924C2865.5,-640.5067 2865.5,-628.7245 2865.5,-618.8312\"/>\n<polygon fill=\"#000000\" stroke=\"#000000\" points=\"2869.0001,-618.703 2865.5,-608.7031 2862.0001,-618.7031 2869.0001,-618.703\"/>\n</g>\n<!-- 140178794586640 -->\n<g id=\"node103\" class=\"node\">\n<title>140178794586640</title>\n<polygon fill=\"#d3d3d3\" stroke=\"#000000\" points=\"3012,-542.5 2911,-542.5 2911,-523.5 3012,-523.5 3012,-542.5\"/>\n<text text-anchor=\"middle\" x=\"2961.5\" y=\"-530.5\" font-family=\"monospace\" font-size=\"10.00\" fill=\"#000000\">AccumulateGrad</text>\n</g>\n<!-- 140178794586640&#45;&gt;140178794587920 -->\n<g id=\"edge101\" class=\"edge\">\n<title>140178794586640&#45;&gt;140178794587920</title>\n<path fill=\"none\" stroke=\"#000000\" d=\"M2959.2507,-523.2796C2957.3231,-514.9499 2954.4857,-502.688 2952.0819,-492.3004\"/>\n<polygon fill=\"#000000\" stroke=\"#000000\" points=\"2955.4547,-491.3507 2949.7903,-482.3972 2948.6349,-492.9289 2955.4547,-491.3507\"/>\n</g>\n<!-- 140179185557232 -->\n<g id=\"node104\" class=\"node\">\n<title>140179185557232</title>\n<polygon fill=\"#add8e6\" stroke=\"#000000\" points=\"3035,-614 2934,-614 2934,-584 3035,-584 3035,-614\"/>\n<text text-anchor=\"middle\" x=\"2984.5\" y=\"-602\" font-family=\"monospace\" font-size=\"10.00\" fill=\"#000000\">conv4.4.weight</text>\n<text text-anchor=\"middle\" x=\"2984.5\" y=\"-591\" font-family=\"monospace\" font-size=\"10.00\" fill=\"#000000\"> (32, 1, 3, 3)</text>\n</g>\n<!-- 140179185557232&#45;&gt;140178794586640 -->\n<g id=\"edge102\" class=\"edge\">\n<title>140179185557232&#45;&gt;140178794586640</title>\n<path fill=\"none\" stroke=\"#000000\" d=\"M2979.1655,-583.6924C2975.8956,-574.3092 2971.6815,-562.2165 2968.1894,-552.1956\"/>\n<polygon fill=\"#000000\" stroke=\"#000000\" points=\"2971.4773,-550.9943 2964.8814,-542.7031 2964.8671,-553.2979 2971.4773,-550.9943\"/>\n</g>\n<!-- 140178794587728 -->\n<g id=\"node105\" class=\"node\">\n<title>140178794587728</title>\n<polygon fill=\"#d3d3d3\" stroke=\"#000000\" points=\"3147,-482 3046,-482 3046,-463 3147,-463 3147,-482\"/>\n<text text-anchor=\"middle\" x=\"3096.5\" y=\"-470\" font-family=\"monospace\" font-size=\"10.00\" fill=\"#000000\">AccumulateGrad</text>\n</g>\n<!-- 140178794587728&#45;&gt;140179144131536 -->\n<g id=\"edge103\" class=\"edge\">\n<title>140178794587728&#45;&gt;140179144131536</title>\n<path fill=\"none\" stroke=\"#000000\" d=\"M3084.45,-462.7796C3072.9282,-453.4855 3055.3377,-439.2957 3041.6774,-428.2765\"/>\n<polygon fill=\"#000000\" stroke=\"#000000\" points=\"3043.7501,-425.4516 3033.7693,-421.8972 3039.3551,-430.9 3043.7501,-425.4516\"/>\n</g>\n<!-- 140179185557424 -->\n<g id=\"node106\" class=\"node\">\n<title>140179185557424</title>\n<polygon fill=\"#add8e6\" stroke=\"#000000\" points=\"3150,-548 3043,-548 3043,-518 3150,-518 3150,-548\"/>\n<text text-anchor=\"middle\" x=\"3096.5\" y=\"-536\" font-family=\"monospace\" font-size=\"10.00\" fill=\"#000000\">conv4.5.weight</text>\n<text text-anchor=\"middle\" x=\"3096.5\" y=\"-525\" font-family=\"monospace\" font-size=\"10.00\" fill=\"#000000\"> (10, 32, 1, 1)</text>\n</g>\n<!-- 140179185557424&#45;&gt;140178794587728 -->\n<g id=\"edge104\" class=\"edge\">\n<title>140179185557424&#45;&gt;140178794587728</title>\n<path fill=\"none\" stroke=\"#000000\" d=\"M3096.5,-517.7333C3096.5,-510.0322 3096.5,-500.5977 3096.5,-492.3414\"/>\n<polygon fill=\"#000000\" stroke=\"#000000\" points=\"3100.0001,-492.0864 3096.5,-482.0864 3093.0001,-492.0864 3100.0001,-492.0864\"/>\n</g>\n<!-- 140179144131024 -->\n<g id=\"node107\" class=\"node\">\n<title>140179144131024</title>\n<polygon fill=\"#d3d3d3\" stroke=\"#000000\" points=\"3221,-361 3120,-361 3120,-342 3221,-342 3221,-361\"/>\n<text text-anchor=\"middle\" x=\"3170.5\" y=\"-349\" font-family=\"monospace\" font-size=\"10.00\" fill=\"#000000\">AccumulateGrad</text>\n</g>\n<!-- 140179144131024&#45;&gt;140179144107472 -->\n<g id=\"edge105\" class=\"edge\">\n<title>140179144131024&#45;&gt;140179144107472</title>\n<path fill=\"none\" stroke=\"#000000\" d=\"M3170.5,-341.9197C3170.5,-334.9083 3170.5,-325.1442 3170.5,-316.4652\"/>\n<polygon fill=\"#000000\" stroke=\"#000000\" points=\"3174.0001,-316.3408 3170.5,-306.3408 3167.0001,-316.3409 3174.0001,-316.3408\"/>\n</g>\n<!-- 140179185557328 -->\n<g id=\"node108\" class=\"node\">\n<title>140179185557328</title>\n<polygon fill=\"#add8e6\" stroke=\"#000000\" points=\"3224,-427 3123,-427 3123,-397 3224,-397 3224,-427\"/>\n<text text-anchor=\"middle\" x=\"3173.5\" y=\"-415\" font-family=\"monospace\" font-size=\"10.00\" fill=\"#000000\">conv4.7.weight</text>\n<text text-anchor=\"middle\" x=\"3173.5\" y=\"-404\" font-family=\"monospace\" font-size=\"10.00\" fill=\"#000000\"> (10)</text>\n</g>\n<!-- 140179185557328&#45;&gt;140179144131024 -->\n<g id=\"edge106\" class=\"edge\">\n<title>140179185557328&#45;&gt;140179144131024</title>\n<path fill=\"none\" stroke=\"#000000\" d=\"M3172.743,-396.7333C3172.3611,-389.0322 3171.8933,-379.5977 3171.4839,-371.3414\"/>\n<polygon fill=\"#000000\" stroke=\"#000000\" points=\"3174.9664,-370.9008 3170.9754,-361.0864 3167.975,-371.2475 3174.9664,-370.9008\"/>\n</g>\n<!-- 140179144130896 -->\n<g id=\"node109\" class=\"node\">\n<title>140179144130896</title>\n<polygon fill=\"#d3d3d3\" stroke=\"#000000\" points=\"3340,-361 3239,-361 3239,-342 3340,-342 3340,-361\"/>\n<text text-anchor=\"middle\" x=\"3289.5\" y=\"-349\" font-family=\"monospace\" font-size=\"10.00\" fill=\"#000000\">AccumulateGrad</text>\n</g>\n<!-- 140179144130896&#45;&gt;140179144107472 -->\n<g id=\"edge107\" class=\"edge\">\n<title>140179144130896&#45;&gt;140179144107472</title>\n<path fill=\"none\" stroke=\"#000000\" d=\"M3268.7718,-341.9197C3249.9465,-333.219 3221.9495,-320.2792 3200.6487,-310.4343\"/>\n<polygon fill=\"#000000\" stroke=\"#000000\" points=\"3201.9357,-307.1734 3191.39,-306.155 3198.9989,-313.5276 3201.9357,-307.1734\"/>\n</g>\n<!-- 140179185659984 -->\n<g id=\"node110\" class=\"node\">\n<title>140179185659984</title>\n<polygon fill=\"#add8e6\" stroke=\"#000000\" points=\"3334,-427 3245,-427 3245,-397 3334,-397 3334,-427\"/>\n<text text-anchor=\"middle\" x=\"3289.5\" y=\"-415\" font-family=\"monospace\" font-size=\"10.00\" fill=\"#000000\">conv4.7.bias</text>\n<text text-anchor=\"middle\" x=\"3289.5\" y=\"-404\" font-family=\"monospace\" font-size=\"10.00\" fill=\"#000000\"> (10)</text>\n</g>\n<!-- 140179185659984&#45;&gt;140179144130896 -->\n<g id=\"edge108\" class=\"edge\">\n<title>140179185659984&#45;&gt;140179144130896</title>\n<path fill=\"none\" stroke=\"#000000\" d=\"M3289.5,-396.7333C3289.5,-389.0322 3289.5,-379.5977 3289.5,-371.3414\"/>\n<polygon fill=\"#000000\" stroke=\"#000000\" points=\"3293.0001,-371.0864 3289.5,-361.0864 3286.0001,-371.0864 3293.0001,-371.0864\"/>\n</g>\n</g>\n</svg>\n"
          },
          "metadata": {},
          "execution_count": 44
        }
      ]
    }
  ]
}