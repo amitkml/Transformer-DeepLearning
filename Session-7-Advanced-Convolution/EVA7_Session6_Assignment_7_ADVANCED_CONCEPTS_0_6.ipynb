{
  "nbformat": 4,
  "nbformat_minor": 0,
  "metadata": {
    "kernelspec": {
      "name": "python3",
      "display_name": "Python 3"
    },
    "language_info": {
      "codemirror_mode": {
        "name": "ipython",
        "version": 3
      },
      "file_extension": ".py",
      "mimetype": "text/x-python",
      "name": "python",
      "nbconvert_exporter": "python",
      "pygments_lexer": "ipython3",
      "version": "3.6.6"
    },
    "colab": {
      "name": "EVA7_Session6_Assignment_7_ADVANCED_CONCEPTS_0_6.ipynb",
      "provenance": [],
      "collapsed_sections": []
    },
    "accelerator": "GPU"
  },
  "cells": [
    {
      "cell_type": "code",
      "metadata": {
        "colab": {
          "base_uri": "https://localhost:8080/"
        },
        "id": "jkM2_7KNnVRr",
        "outputId": "f1c2a799-b9b7-44fe-905a-c387238f12df"
      },
      "source": [
        "!pip install -U albumentations"
      ],
      "execution_count": 1,
      "outputs": [
        {
          "output_type": "stream",
          "name": "stdout",
          "text": [
            "Requirement already satisfied: albumentations in /usr/local/lib/python3.7/dist-packages (1.1.0)\n",
            "Requirement already satisfied: scikit-image>=0.16.1 in /usr/local/lib/python3.7/dist-packages (from albumentations) (0.16.2)\n",
            "Requirement already satisfied: qudida>=0.0.4 in /usr/local/lib/python3.7/dist-packages (from albumentations) (0.0.4)\n",
            "Requirement already satisfied: numpy>=1.11.1 in /usr/local/lib/python3.7/dist-packages (from albumentations) (1.19.5)\n",
            "Requirement already satisfied: scipy in /usr/local/lib/python3.7/dist-packages (from albumentations) (1.4.1)\n",
            "Requirement already satisfied: PyYAML in /usr/local/lib/python3.7/dist-packages (from albumentations) (3.13)\n",
            "Requirement already satisfied: opencv-python-headless>=4.1.1 in /usr/local/lib/python3.7/dist-packages (from albumentations) (4.5.4.58)\n",
            "Requirement already satisfied: typing-extensions in /usr/local/lib/python3.7/dist-packages (from qudida>=0.0.4->albumentations) (3.10.0.2)\n",
            "Requirement already satisfied: scikit-learn>=0.19.1 in /usr/local/lib/python3.7/dist-packages (from qudida>=0.0.4->albumentations) (0.22.2.post1)\n",
            "Requirement already satisfied: networkx>=2.0 in /usr/local/lib/python3.7/dist-packages (from scikit-image>=0.16.1->albumentations) (2.6.3)\n",
            "Requirement already satisfied: matplotlib!=3.0.0,>=2.0.0 in /usr/local/lib/python3.7/dist-packages (from scikit-image>=0.16.1->albumentations) (3.2.2)\n",
            "Requirement already satisfied: imageio>=2.3.0 in /usr/local/lib/python3.7/dist-packages (from scikit-image>=0.16.1->albumentations) (2.4.1)\n",
            "Requirement already satisfied: PyWavelets>=0.4.0 in /usr/local/lib/python3.7/dist-packages (from scikit-image>=0.16.1->albumentations) (1.2.0)\n",
            "Requirement already satisfied: pillow>=4.3.0 in /usr/local/lib/python3.7/dist-packages (from scikit-image>=0.16.1->albumentations) (7.1.2)\n",
            "Requirement already satisfied: pyparsing!=2.0.4,!=2.1.2,!=2.1.6,>=2.0.1 in /usr/local/lib/python3.7/dist-packages (from matplotlib!=3.0.0,>=2.0.0->scikit-image>=0.16.1->albumentations) (2.4.7)\n",
            "Requirement already satisfied: cycler>=0.10 in /usr/local/lib/python3.7/dist-packages (from matplotlib!=3.0.0,>=2.0.0->scikit-image>=0.16.1->albumentations) (0.11.0)\n",
            "Requirement already satisfied: python-dateutil>=2.1 in /usr/local/lib/python3.7/dist-packages (from matplotlib!=3.0.0,>=2.0.0->scikit-image>=0.16.1->albumentations) (2.8.2)\n",
            "Requirement already satisfied: kiwisolver>=1.0.1 in /usr/local/lib/python3.7/dist-packages (from matplotlib!=3.0.0,>=2.0.0->scikit-image>=0.16.1->albumentations) (1.3.2)\n",
            "Requirement already satisfied: six>=1.5 in /usr/local/lib/python3.7/dist-packages (from python-dateutil>=2.1->matplotlib!=3.0.0,>=2.0.0->scikit-image>=0.16.1->albumentations) (1.15.0)\n",
            "Requirement already satisfied: joblib>=0.11 in /usr/local/lib/python3.7/dist-packages (from scikit-learn>=0.19.1->qudida>=0.0.4->albumentations) (1.1.0)\n"
          ]
        }
      ]
    },
    {
      "cell_type": "code",
      "metadata": {
        "id": "QVbdg0z4poCc"
      },
      "source": [
        "%matplotlib inline"
      ],
      "execution_count": 2,
      "outputs": []
    },
    {
      "cell_type": "markdown",
      "metadata": {
        "id": "fPogbueepoCh"
      },
      "source": [
        "\n",
        "Training a Classifier\n",
        "=====================\n",
        "\n",
        "This is it. You have seen how to define neural networks, compute loss and make\n",
        "updates to the weights of the network.\n",
        "\n",
        "Now you might be thinking,\n",
        "\n",
        "What about data?\n",
        "----------------\n",
        "\n",
        "Generally, when you have to deal with image, text, audio or video data,\n",
        "you can use standard python packages that load data into a numpy array.\n",
        "Then you can convert this array into a ``torch.*Tensor``.\n",
        "\n",
        "-  For images, packages such as Pillow, OpenCV are useful\n",
        "-  For audio, packages such as scipy and librosa\n",
        "-  For text, either raw Python or Cython based loading, or NLTK and\n",
        "   SpaCy are useful\n",
        "\n",
        "Specifically for vision, we have created a package called\n",
        "``torchvision``, that has data loaders for common datasets such as\n",
        "Imagenet, CIFAR10, MNIST, etc. and data transformers for images, viz.,\n",
        "``torchvision.datasets`` and ``torch.utils.data.DataLoader``.\n",
        "\n",
        "This provides a huge convenience and avoids writing boilerplate code.\n",
        "\n",
        "For this tutorial, we will use the CIFAR10 dataset.\n",
        "It has the classes: ‘airplane’, ‘automobile’, ‘bird’, ‘cat’, ‘deer’,\n",
        "‘dog’, ‘frog’, ‘horse’, ‘ship’, ‘truck’. The images in CIFAR-10 are of\n",
        "size 3x32x32, i.e. 3-channel color images of 32x32 pixels in size.\n",
        "\n",
        ".. figure:: /_static/img/cifar10.png\n",
        "   :alt: cifar10\n",
        "\n",
        "   cifar10\n",
        "\n",
        "\n",
        "Training an image classifier\n",
        "----------------------------\n",
        "\n",
        "We will do the following steps in order:\n",
        "\n",
        "1. Load and normalizing the CIFAR10 training and test datasets using\n",
        "   ``torchvision``\n",
        "2. Define a Convolution Neural Network\n",
        "3. Define a loss function\n",
        "4. Train the network on the training data\n",
        "5. Test the network on the test data\n",
        "\n",
        "1. Loading and normalizing CIFAR10\n",
        "^^^^^^^^^^^^^^^^^^^^^^^^^^^^^^^^^^\n",
        "\n",
        "Using ``torchvision``, it’s extremely easy to load CIFAR10.\n",
        "\n"
      ]
    },
    {
      "cell_type": "code",
      "metadata": {
        "id": "-yVpodAMpoCi"
      },
      "source": [
        "import torch\n",
        "import torchvision\n",
        "import torchvision.transforms as transforms\n",
        "\n",
        "import albumentations as A\n",
        "from torch.utils.data import DataLoader, Dataset\n",
        "from PIL import Image\n",
        "\n"
      ],
      "execution_count": 3,
      "outputs": []
    },
    {
      "cell_type": "code",
      "metadata": {
        "id": "WlKu8ZgqfM6F"
      },
      "source": [
        "import matplotlib.pyplot as plt\n",
        "import numpy as np"
      ],
      "execution_count": 4,
      "outputs": []
    },
    {
      "cell_type": "code",
      "metadata": {
        "id": "qZGzIa1qaKM1"
      },
      "source": [
        "import torch\n",
        "# https://sparrow.dev/torchvision-transforms/\n",
        "\n",
        "class TopLeftCornerErase:\n",
        "    def __init__(self):\n",
        "        # self.n_pixels = n_pixels\n",
        "        # self.image_list = image_list\n",
        "        self.aug = A.Compose({\n",
        "        # A.RandomCrop(4, 4),\n",
        "        A.HorizontalFlip(p=0.1),\n",
        "        A.ShiftScaleRotate(0.1),\n",
        "        A.augmentations.transforms.CoarseDropout(max_holes=2, max_height=4, max_width=4, min_holes=None, \n",
        "                                                 min_height=None, min_width=None, \n",
        "                                                 fill_value=(0.5, 0.5, 0.5), \n",
        "                                                 mask_fill_value=None, \n",
        "                                                 always_apply=False, p=0.2)\n",
        "\n",
        "        # A.Normalize((0.5, 0.5, 0.5), (0.5, 0.5, 0.5)),\n",
        "        })\n",
        "    \n",
        "    def __call__(self, img: torch.Tensor) -> torch.Tensor:\n",
        "        self.image_np = np.array(img) # Convert PIL image to numpy array\n",
        "        self.image = self.aug(image=self.image_np)  # Apply transformations\n",
        "        self.final_image = Image.fromarray(self.image['image']) # Convert numpy array to PIL Image\n",
        "        return self.final_image"
      ],
      "execution_count": 5,
      "outputs": []
    },
    {
      "cell_type": "code",
      "metadata": {
        "id": "A5tOcP4HTlP2"
      },
      "source": [
        "# class AlbumentationImageDataset(object):\n",
        "#     def __call__(self, img):\n",
        "#         \"\"\"\n",
        "#         :param img: (PIL): Image \n",
        "\n",
        "#         :return: ycbr color space image (PIL)\n",
        "#         \"\"\"    \n",
        "        \n",
        "#         self.aug = A.Compose({\n",
        "#             A.RandomCrop(80, 80),\n",
        "#             A.HorizontalFlip(p=0.5),\n",
        "#             A.Rotate(limit=(-90, 90)),\n",
        "#             A.VerticalFlip(p=0.5),\n",
        "#             # A.Normalize((0.5, 0.5, 0.5), (0.5, 0.5, 0.5)),\n",
        "#             })\n",
        "#         self.image = self.aug(image=np.array(image))\n",
        "\n",
        "#         # t = torch.from_numpy(img)\n",
        "\n",
        "#         return Image.fromarray(self.image)\n",
        "\n",
        "#     def __repr__(self):\n",
        "#         return self.__class__.__name__+'()'"
      ],
      "execution_count": 6,
      "outputs": []
    },
    {
      "cell_type": "code",
      "metadata": {
        "id": "0xz3AcaI9Wkz"
      },
      "source": [
        "# # custom dataset class for albumentations library\n",
        "# class AlbumentationImageDataset(Dataset):\n",
        "#     def __init__(self, image_list):\n",
        "#         self.image_list = image_list\n",
        "#         self.aug = A.Compose({\n",
        "#         A.RandomCrop(80, 80),\n",
        "#         A.HorizontalFlip(p=0.5),\n",
        "#         A.Rotate(limit=(-90, 90)),\n",
        "#         A.VerticalFlip(p=0.5),\n",
        "#         A.Normalize((0.5, 0.5, 0.5), (0.5, 0.5, 0.5)),\n",
        "#         })\n",
        "         \n",
        "#     def __len__(self):\n",
        "#         return (len(self.image_list))\n",
        "    \n",
        "#     def __getitem__(self, i):\n",
        "#         image = plt.imread(self.image_list[i])\n",
        "#         image = Image.fromarray(image).convert('RGB')\n",
        "#         image = self.aug(image=np.array(image))['image']\n",
        "#         image = np.transpose(image, (2, 0, 1)).astype(np.float32)\n",
        "            \n",
        "#         return torch.tensor(image, dtype=torch.float)"
      ],
      "execution_count": 7,
      "outputs": []
    },
    {
      "cell_type": "markdown",
      "metadata": {
        "id": "5kjt4e2TpoCk"
      },
      "source": [
        "The output of torchvision datasets are PILImage images of range [0, 1].\n",
        "We transform them to Tensors of normalized range [-1, 1].\n",
        "\n"
      ]
    },
    {
      "cell_type": "code",
      "metadata": {
        "id": "D8Tjigo2poCl",
        "colab": {
          "base_uri": "https://localhost:8080/"
        },
        "outputId": "037be7a1-bbe2-4e54-eeee-58ee4fb6a476"
      },
      "source": [
        "transform = transforms.Compose(\n",
        "    [TopLeftCornerErase(),\n",
        "     transforms.ToTensor(),\n",
        "     transforms.Normalize((0.5, 0.5, 0.5), (0.5, 0.5, 0.5))])\n",
        "\n",
        "SEED = 1\n",
        "\n",
        "\n",
        "# CUDA?\n",
        "cuda = torch.cuda.is_available()\n",
        "print(\"CUDA Available?\", cuda)\n",
        "\n",
        "# For reproducibility\n",
        "torch.manual_seed(SEED)\n",
        "\n",
        "if cuda:\n",
        "    torch.cuda.manual_seed(SEED)\n",
        "\n",
        "Batch_size = 64\n",
        "if cuda:\n",
        "  Batch_size = 128\n",
        "  \n",
        "\n",
        "# dataloader arguments - something you'll fetch these from cmdprmt\n",
        "dataloader_args = dict(shuffle=True, batch_size=Batch_size, num_workers=2, pin_memory=True) if cuda else dict(shuffle=True, batch_size=Batch_size)\n",
        "\n",
        "trainset = torchvision.datasets.CIFAR10(root='./data', train=True,\n",
        "                                        download=True, transform=transform)\n",
        "trainloader = torch.utils.data.DataLoader(trainset, **dataloader_args)\n",
        "\n",
        "testset = torchvision.datasets.CIFAR10(root='./data', train=False,\n",
        "                                       download=True, transform=transform)\n",
        "testloader = torch.utils.data.DataLoader(testset, **dataloader_args)\n",
        "\n",
        "classes = ('plane', 'car', 'bird', 'cat',\n",
        "           'deer', 'dog', 'frog', 'horse', 'ship', 'truck')"
      ],
      "execution_count": 8,
      "outputs": [
        {
          "output_type": "stream",
          "name": "stdout",
          "text": [
            "CUDA Available? True\n",
            "Files already downloaded and verified\n",
            "Files already downloaded and verified\n"
          ]
        }
      ]
    },
    {
      "cell_type": "markdown",
      "metadata": {
        "id": "_cj433rtpoCn"
      },
      "source": [
        "Let us show some of the training images, for fun.\n",
        "\n"
      ]
    },
    {
      "cell_type": "code",
      "metadata": {
        "id": "D4SFB69Y5x8K",
        "colab": {
          "base_uri": "https://localhost:8080/"
        },
        "outputId": "47f96152-baed-4a31-dea6-a95eeb5c36c8"
      },
      "source": [
        "len(trainset)"
      ],
      "execution_count": 9,
      "outputs": [
        {
          "output_type": "execute_result",
          "data": {
            "text/plain": [
              "50000"
            ]
          },
          "metadata": {},
          "execution_count": 9
        }
      ]
    },
    {
      "cell_type": "code",
      "metadata": {
        "id": "_WiQ0wjJ56ca",
        "colab": {
          "base_uri": "https://localhost:8080/"
        },
        "outputId": "ad2731e2-73a2-4435-a168-3882ec036cfa"
      },
      "source": [
        "50000/128"
      ],
      "execution_count": 10,
      "outputs": [
        {
          "output_type": "execute_result",
          "data": {
            "text/plain": [
              "390.625"
            ]
          },
          "metadata": {},
          "execution_count": 10
        }
      ]
    },
    {
      "cell_type": "code",
      "metadata": {
        "id": "Kxs2OKcac1UH",
        "colab": {
          "base_uri": "https://localhost:8080/"
        },
        "outputId": "16aebf86-c8c8-4e21-fe17-1d55e6c44dc9"
      },
      "source": [
        "type(trainset.data)"
      ],
      "execution_count": 11,
      "outputs": [
        {
          "output_type": "execute_result",
          "data": {
            "text/plain": [
              "numpy.ndarray"
            ]
          },
          "metadata": {},
          "execution_count": 11
        }
      ]
    },
    {
      "cell_type": "code",
      "metadata": {
        "id": "OePfPWJUvNzQ",
        "colab": {
          "base_uri": "https://localhost:8080/"
        },
        "outputId": "e1f375f5-6b8e-418d-9d9d-3c1afb8197b0"
      },
      "source": [
        "len(testset)"
      ],
      "execution_count": 12,
      "outputs": [
        {
          "output_type": "execute_result",
          "data": {
            "text/plain": [
              "10000"
            ]
          },
          "metadata": {},
          "execution_count": 12
        }
      ]
    },
    {
      "cell_type": "code",
      "metadata": {
        "id": "q1RHOO45eVs7",
        "colab": {
          "base_uri": "https://localhost:8080/"
        },
        "outputId": "fbfbb076-8adb-499e-d422-5d18b524ab73"
      },
      "source": [
        "print(np.min(trainset.data))\n",
        "print(\"mean \",np.mean(trainset.data))"
      ],
      "execution_count": 13,
      "outputs": [
        {
          "output_type": "stream",
          "name": "stdout",
          "text": [
            "0\n",
            "mean  120.70756512369792\n"
          ]
        }
      ]
    },
    {
      "cell_type": "code",
      "metadata": {
        "id": "daA7bADhpoCo",
        "colab": {
          "base_uri": "https://localhost:8080/",
          "height": 302
        },
        "outputId": "793fd594-05b5-42ce-e01f-07cf7e399803"
      },
      "source": [
        "# functions to show an image\n",
        "def imshow(img):\n",
        "    img = img / 2 + 0.5     # unnormalize\n",
        "    npimg = img.numpy()\n",
        "    print(npimg.shape,(np.transpose(npimg, (1, 2, 0))).shape)\n",
        "    plt.imshow(np.transpose(npimg, (1, 2, 0)))\n",
        "\n",
        "\n",
        "# get some random training images\n",
        "dataiter = iter(trainloader)\n",
        "images, labels = dataiter.next()\n",
        "\n",
        "# show images\n",
        "imshow(torchvision.utils.make_grid(images))\n",
        "# print labels\n",
        "print(' '.join('%5s' % classes[labels[j]] for j in range(4)))"
      ],
      "execution_count": 14,
      "outputs": [
        {
          "output_type": "stream",
          "name": "stdout",
          "text": [
            "(3, 546, 274) (546, 274, 3)\n",
            " ship  bird   cat   dog\n"
          ]
        },
        {
          "output_type": "display_data",
          "data": {
            "image/png": "[encoded data removed]",
            "text/plain": [
              "<Figure size 432x288 with 1 Axes>"
            ]
          },
          "metadata": {
            "needs_background": "light"
          }
        }
      ]
    },
    {
      "cell_type": "markdown",
      "metadata": {
        "id": "28OpHA_LpoCq"
      },
      "source": [
        "2. Define a Convolution Neural Network\n",
        "^^^^^^^^^^^^^^^^^^^^^^^^^^^^^^^^^^^^^^\n",
        "Copy the neural network from the Neural Networks section before and modify it to\n",
        "take 3-channel images (instead of 1-channel images as it was defined).\n",
        "\n"
      ]
    },
    {
      "cell_type": "code",
      "metadata": {
        "id": "mEeKN2pm-DuM"
      },
      "source": [
        "import torch.nn as nn\n",
        "import torch.nn.functional as F\n",
        "\n",
        "\n",
        "class Net(nn.Module):\n",
        "    def __init__(self):\n",
        "        super(Net, self).__init__()\n",
        "                                                              #RF = rin+(k-1)*jin\n",
        "                                                              #jout = jin*s\n",
        "        self.convblock1 = nn.Sequential(\n",
        "            nn.Conv2d(in_channels=3, out_channels=16, kernel_size=(3, 3), padding=1, bias=False), #Rf = 3, j = 1\n",
        "            nn.ReLU(),\n",
        "            nn.BatchNorm2d(16),\n",
        "            nn.Dropout(p=0.15),\n",
        "\n",
        "            nn.Conv2d(in_channels=16, out_channels=32, kernel_size=(3, 3), padding=1, bias=False), #Rf = 3, j = 1\n",
        "            nn.ReLU(),\n",
        "            nn.BatchNorm2d(32),\n",
        "            nn.Dropout(p=0.15),\n",
        "\n",
        "            nn.Conv2d(in_channels=32, out_channels=64, kernel_size=(3, 3), padding=1, bias=False),#Rf = 5, , j = 1\n",
        "            nn.ReLU(),\n",
        "            nn.BatchNorm2d(64),\n",
        "            nn.Dropout(p=0.15),\n",
        "\n",
        "            nn.Conv2d(in_channels=64, out_channels=128, kernel_size=(3, 3), padding=1, bias=False), #Rf = , j = 1\n",
        "            nn.ReLU(),\n",
        "            nn.BatchNorm2d(128),\n",
        "            nn.Dropout(p=0.15),\n",
        "\n",
        "            nn.Conv2d(in_channels=128, out_channels=256, kernel_size=(3, 3), padding=1, bias=False), #Rf = 9, , j = 1\n",
        "            nn.ReLU(),\n",
        "            nn.BatchNorm2d(256),\n",
        "            nn.Dropout(p=0.15),\n",
        "            \n",
        "            )\n",
        "        self.convblock2 = nn.Sequential(\n",
        "           nn.Conv2d(in_channels=256, out_channels=64, kernel_size=(3, 3), padding=1,dilation=2, bias=False), #jin=jout=2, kernel_size = 5, rf = 10+(4)*2 = 18\n",
        "            nn.ReLU(),\n",
        "            nn.BatchNorm2d(64),\n",
        "            nn.Dropout(p=0.15),\n",
        "\n",
        "            nn.Conv2d(in_channels=64, out_channels=128, kernel_size=(3, 3), padding=1,dilation=2, bias=False), #jin=jout=2, kernel_size = 5, rf = 18+(2)*2 = 22\n",
        "            nn.ReLU(),\n",
        "            nn.BatchNorm2d(128),\n",
        "            nn.Dropout(p=0.15),\n",
        "\n",
        "            \n",
        "            )\n",
        "\n",
        "        self.convblock3 = nn.Sequential(\n",
        "            nn.Conv2d(in_channels=128, out_channels=16, kernel_size=(3, 3), padding=1, bias=False), #jin = jout = 4, rf = 32+(2)*4 = 40\n",
        "            nn.ReLU(),\n",
        "            nn.BatchNorm2d(16),\n",
        "            nn.Dropout(p=0.15),\n",
        "\n",
        "            nn.Conv2d(in_channels=16, out_channels=32, kernel_size=(3, 3), padding=1,groups=16, bias=False), #jin = jout = 4, rf = 40+(2)*4 = 48\n",
        "            nn.ReLU(),\n",
        "            nn.BatchNorm2d(32),\n",
        "            nn.Dropout(p=0.15),\n",
        "\n",
        "            nn.Conv2d(in_channels=32, out_channels=64, kernel_size=(3, 3), padding=1,groups=32, bias=False),#jin = jout = 4, rf = 48+(2)*4 = 56\n",
        "            nn.ReLU(),\n",
        "            nn.BatchNorm2d(64),\n",
        "            nn.Dropout(p=0.15),\n",
        "\n",
        "            nn.Conv2d(in_channels=64, out_channels=128, kernel_size=(3, 3), padding=1,groups=64, bias=False), #jin = jout = 4, rf = 56+(2)*4 = 64\n",
        "            nn.ReLU(),\n",
        "            nn.BatchNorm2d(128),\n",
        "            nn.Dropout(p=0.15),\n",
        "            \n",
        "            )\n",
        "        self.convblock4 = nn.Sequential(\n",
        "          nn.Conv2d(in_channels=128, out_channels=16, kernel_size=(3, 3), padding=1, bias=False), #jin = jout = 8, rf = 68+(2)*8 = 84\n",
        "            nn.ReLU(),\n",
        "            nn.BatchNorm2d(16),\n",
        "            nn.Dropout(p=0.15),\n",
        "\n",
        "            nn.Conv2d(in_channels=16, out_channels=32, kernel_size=(3, 3), padding=1, bias=False), #jin = jout = 8, rf = 84+(2)*8 = 100\n",
        "            nn.ReLU(),\n",
        "            nn.BatchNorm2d(32),\n",
        "            nn.Dropout(p=0.15),\n",
        "\n",
        "            nn.Conv2d(in_channels=32, out_channels=64, kernel_size=(3, 3), padding=1, bias=False), #jin = jout = 8, rf = 100+(2)*8 = 116\n",
        "            nn.ReLU(),\n",
        "            nn.BatchNorm2d(64),\n",
        "            nn.Dropout(p=0.15),\n",
        "\n",
        "            nn.Conv2d(in_channels=64, out_channels=128, kernel_size=(3, 3), padding=1, bias=False), #jin = jout = 8, rf = 116+(2)*8 = 132\n",
        "            nn.ReLU(),\n",
        "            nn.BatchNorm2d(128),\n",
        "            nn.Dropout(p=0.15), # i/p= 28 o/p=26 r=3\n",
        "\n",
        "            nn.AdaptiveAvgPool2d(1),\n",
        "\n",
        "\n",
        "\n",
        "            nn.Conv2d(in_channels=128, out_channels=10, kernel_size=(1, 1), padding=0, bias=False)#Op_size = 1, \n",
        "            \n",
        "\n",
        "            \n",
        "            )\n",
        "\n",
        "        self.pool = nn.MaxPool2d(2, 2)\n",
        "        self.pool1 = nn.Conv2d(in_channels=256, out_channels=256, kernel_size=(3, 3), padding=0, bias=False,stride=2)\n",
        "        self.pool2 = nn.Conv2d(in_channels=128, out_channels=128, kernel_size=(3, 3), padding=0, bias=False,stride=2)\n",
        "        self.pool3 = nn.Conv2d(in_channels=64, out_channels=64, kernel_size=(3, 3), padding=0, bias=False,stride=2)\n",
        "\n",
        "        self.gap = nn.AdaptiveAvgPool2d(4)\n",
        "\n",
        "        self.fc1 = nn.Linear(16 * 5 * 5, 120)\n",
        "        self.fc2 = nn.Linear(120, 84)\n",
        "        self.fc3 = nn.Linear(1, 256)\n",
        "\n",
        "    def forward(self, x):\n",
        "\n",
        "        x = self.convblock1(x) # i/p= 32 o/p=32 Rf = 9\n",
        "        x = self.pool(x) # jin = 1, Rf = 10 j out= 2\n",
        "        x = self.convblock2(x) # Rf = 30 jout = 2, \n",
        "        x = self.pool(x) # jout = 4, s =2, Rf = 30+1*2 = 32\n",
        "        x = self.convblock3(x) # jin = 4, s = 2 , jout = 8, Rf = 64+1*4 = 68\n",
        "        x = self.pool(x) # 4\n",
        "        x = self.convblock4(x)  # 4\n",
        "     \n",
        "        x = x.view(-1, 10)\n",
        "      \n",
        "        return x\n",
        "\n",
        "\n",
        "# net = Net()"
      ],
      "execution_count": 15,
      "outputs": []
    },
    {
      "cell_type": "code",
      "metadata": {
        "id": "c8xmU33aqgJX",
        "colab": {
          "base_uri": "https://localhost:8080/"
        },
        "outputId": "445f5a51-4789-4853-e7b1-144cc35e2a25"
      },
      "source": [
        "!pip install torchsummary\n",
        "from torchsummary import summary\n",
        "use_cuda = torch.cuda.is_available()\n",
        "device = torch.device(\"cuda\" if use_cuda else \"cpu\")\n",
        "print(device)\n",
        "net = Net().to(device)\n",
        "summary(net, input_size=(3, 32, 32))"
      ],
      "execution_count": 16,
      "outputs": [
        {
          "output_type": "stream",
          "name": "stdout",
          "text": [
            "Requirement already satisfied: torchsummary in /usr/local/lib/python3.7/dist-packages (1.5.1)\n",
            "cuda\n",
            "----------------------------------------------------------------\n",
            "        Layer (type)               Output Shape         Param #\n",
            "================================================================\n",
            "            Conv2d-1           [-1, 16, 32, 32]             432\n",
            "              ReLU-2           [-1, 16, 32, 32]               0\n",
            "       BatchNorm2d-3           [-1, 16, 32, 32]              32\n",
            "           Dropout-4           [-1, 16, 32, 32]               0\n",
            "            Conv2d-5           [-1, 32, 32, 32]           4,608\n",
            "              ReLU-6           [-1, 32, 32, 32]               0\n",
            "       BatchNorm2d-7           [-1, 32, 32, 32]              64\n",
            "           Dropout-8           [-1, 32, 32, 32]               0\n",
            "            Conv2d-9           [-1, 64, 32, 32]          18,432\n",
            "             ReLU-10           [-1, 64, 32, 32]               0\n",
            "      BatchNorm2d-11           [-1, 64, 32, 32]             128\n",
            "          Dropout-12           [-1, 64, 32, 32]               0\n",
            "           Conv2d-13          [-1, 128, 32, 32]          73,728\n",
            "             ReLU-14          [-1, 128, 32, 32]               0\n",
            "      BatchNorm2d-15          [-1, 128, 32, 32]             256\n",
            "          Dropout-16          [-1, 128, 32, 32]               0\n",
            "           Conv2d-17          [-1, 256, 32, 32]         294,912\n",
            "             ReLU-18          [-1, 256, 32, 32]               0\n",
            "      BatchNorm2d-19          [-1, 256, 32, 32]             512\n",
            "          Dropout-20          [-1, 256, 32, 32]               0\n",
            "        MaxPool2d-21          [-1, 256, 16, 16]               0\n",
            "           Conv2d-22           [-1, 64, 14, 14]         147,456\n",
            "             ReLU-23           [-1, 64, 14, 14]               0\n",
            "      BatchNorm2d-24           [-1, 64, 14, 14]             128\n",
            "          Dropout-25           [-1, 64, 14, 14]               0\n",
            "           Conv2d-26          [-1, 128, 12, 12]          73,728\n",
            "             ReLU-27          [-1, 128, 12, 12]               0\n",
            "      BatchNorm2d-28          [-1, 128, 12, 12]             256\n",
            "          Dropout-29          [-1, 128, 12, 12]               0\n",
            "        MaxPool2d-30            [-1, 128, 6, 6]               0\n",
            "           Conv2d-31             [-1, 16, 6, 6]          18,432\n",
            "             ReLU-32             [-1, 16, 6, 6]               0\n",
            "      BatchNorm2d-33             [-1, 16, 6, 6]              32\n",
            "          Dropout-34             [-1, 16, 6, 6]               0\n",
            "           Conv2d-35             [-1, 32, 6, 6]             288\n",
            "             ReLU-36             [-1, 32, 6, 6]               0\n",
            "      BatchNorm2d-37             [-1, 32, 6, 6]              64\n",
            "          Dropout-38             [-1, 32, 6, 6]               0\n",
            "           Conv2d-39             [-1, 64, 6, 6]             576\n",
            "             ReLU-40             [-1, 64, 6, 6]               0\n",
            "      BatchNorm2d-41             [-1, 64, 6, 6]             128\n",
            "          Dropout-42             [-1, 64, 6, 6]               0\n",
            "           Conv2d-43            [-1, 128, 6, 6]           1,152\n",
            "             ReLU-44            [-1, 128, 6, 6]               0\n",
            "      BatchNorm2d-45            [-1, 128, 6, 6]             256\n",
            "          Dropout-46            [-1, 128, 6, 6]               0\n",
            "        MaxPool2d-47            [-1, 128, 3, 3]               0\n",
            "           Conv2d-48             [-1, 16, 3, 3]          18,432\n",
            "             ReLU-49             [-1, 16, 3, 3]               0\n",
            "      BatchNorm2d-50             [-1, 16, 3, 3]              32\n",
            "          Dropout-51             [-1, 16, 3, 3]               0\n",
            "           Conv2d-52             [-1, 32, 3, 3]           4,608\n",
            "             ReLU-53             [-1, 32, 3, 3]               0\n",
            "      BatchNorm2d-54             [-1, 32, 3, 3]              64\n",
            "          Dropout-55             [-1, 32, 3, 3]               0\n",
            "           Conv2d-56             [-1, 64, 3, 3]          18,432\n",
            "             ReLU-57             [-1, 64, 3, 3]               0\n",
            "      BatchNorm2d-58             [-1, 64, 3, 3]             128\n",
            "          Dropout-59             [-1, 64, 3, 3]               0\n",
            "           Conv2d-60            [-1, 128, 3, 3]          73,728\n",
            "             ReLU-61            [-1, 128, 3, 3]               0\n",
            "      BatchNorm2d-62            [-1, 128, 3, 3]             256\n",
            "          Dropout-63            [-1, 128, 3, 3]               0\n",
            "AdaptiveAvgPool2d-64            [-1, 128, 1, 1]               0\n",
            "           Conv2d-65             [-1, 10, 1, 1]           1,280\n",
            "================================================================\n",
            "Total params: 752,560\n",
            "Trainable params: 752,560\n",
            "Non-trainable params: 0\n",
            "----------------------------------------------------------------\n",
            "Input size (MB): 0.01\n",
            "Forward/backward pass size (MB): 17.32\n",
            "Params size (MB): 2.87\n",
            "Estimated Total Size (MB): 20.20\n",
            "----------------------------------------------------------------\n"
          ]
        }
      ]
    },
    {
      "cell_type": "markdown",
      "metadata": {
        "id": "Wdw2NNCUpoCu"
      },
      "source": [
        "3. Define a Loss function and optimizer\n",
        "^^^^^^^^^^^^^^^^^^^^^^^^^^^^^^^^^^^^^^^\n",
        "Let's use a Classification Cross-Entropy loss and SGD with momentum.\n",
        "\n"
      ]
    },
    {
      "cell_type": "code",
      "metadata": {
        "id": "M4xBbDROpoCv"
      },
      "source": [
        "import torch.optim as optim\n",
        "\n",
        "criterion = nn.CrossEntropyLoss()\n",
        "optimizer = optim.SGD(net.parameters(), lr=0.001, momentum=0.9)"
      ],
      "execution_count": 17,
      "outputs": []
    },
    {
      "cell_type": "markdown",
      "metadata": {
        "id": "O-odOrhdpoC2"
      },
      "source": [
        "4. Train the network\n",
        "^^^^^^^^^^^^^^^^^^^^\n",
        "\n",
        "This is when things start to get interesting.\n",
        "We simply have to loop over our data iterator, and feed the inputs to the\n",
        "network and optimize.\n",
        "\n"
      ]
    },
    {
      "cell_type": "code",
      "metadata": {
        "id": "8GrBJsTG7wDy",
        "colab": {
          "base_uri": "https://localhost:8080/"
        },
        "outputId": "5986bb77-3904-450b-8ef1-acf057aa8b87"
      },
      "source": [
        "minibatches = int(len(trainset)/Batch_size)\n",
        "minibatches\n"
      ],
      "execution_count": 18,
      "outputs": [
        {
          "output_type": "execute_result",
          "data": {
            "text/plain": [
              "390"
            ]
          },
          "metadata": {},
          "execution_count": 18
        }
      ]
    },
    {
      "cell_type": "code",
      "metadata": {
        "id": "kkuRfo1IpoC3",
        "colab": {
          "base_uri": "https://localhost:8080/",
          "height": 1000
        },
        "outputId": "5b381208-e770-46fa-d4b1-579104e42671"
      },
      "source": [
        "for epoch in range(40):  # loop over the dataset multiple times\n",
        "\n",
        "    running_loss = 0.0\n",
        "    correct = 0\n",
        "    processed = 0\n",
        "    for i, data in enumerate(trainloader, 0):\n",
        "        # get the inputs\n",
        "        inputs, labels = data\n",
        "        inputs,labels = inputs.to(device), labels.to(device)\n",
        "\n",
        "        # zero the parameter gradients\n",
        "        optimizer.zero_grad()\n",
        "\n",
        "        # forward + backward + optimize\n",
        "        outputs = net(inputs)\n",
        "        loss = criterion(outputs, labels) # CrossEntropyLoss\n",
        "        loss.backward()\n",
        "        optimizer.step() # SGD\n",
        "\n",
        "        # print statistics\n",
        "        running_loss += loss.item()\n",
        "\n",
        "        pred = outputs.argmax(dim=1, keepdim=True)  # get the index of the max log-probability\n",
        "        correct += pred.eq(labels.view_as(pred)).sum().item()\n",
        "        processed += len(inputs)\n",
        "\n",
        "        if i == minibatches:    # print every  mini-batches\n",
        "            print('[%d, %5d] loss: %.3f Acc: %.3f' %(epoch + 1, i + 1, running_loss / 2000,100*correct/processed ))\n",
        "            running_loss = 0.0\n",
        "\n",
        "\n",
        "            outputs = net(images.to(device))\n",
        "            _, predicted = torch.max(outputs, 1)\n",
        "\n",
        "            #print('Predicted: ', ' '.join('%5s' % classes[predicted[j]]for j in range(4)))\n",
        "            correct = 0\n",
        "            total = 0\n",
        "            with torch.no_grad():\n",
        "                for data in testloader:\n",
        "                    images, labels = data\n",
        "                    images, labels = images.to(device), labels.to(device)\n",
        "                    outputs = net(images)\n",
        "                    _, predicted = torch.max(outputs.data, 1)\n",
        "                    total += labels.size(0)\n",
        "                    correct += (predicted == labels).sum().item()\n",
        "\n",
        "            print('Accuracy of the network on the 10000 test images: %.3f %%' % (\n",
        "                100 * correct / total))\n"
      ],
      "execution_count": 19,
      "outputs": [
        {
          "output_type": "stream",
          "name": "stdout",
          "text": [
            "[1,   391] loss: 0.393 Acc: 23.474\n",
            "Accuracy of the network on the 10000 test images: 32.430 %\n",
            "[2,   391] loss: 0.335 Acc: 36.636\n",
            "Accuracy of the network on the 10000 test images: 40.310 %\n",
            "[3,   391] loss: 0.305 Acc: 42.770\n",
            "Accuracy of the network on the 10000 test images: 44.570 %\n",
            "[4,   391] loss: 0.289 Acc: 46.004\n",
            "Accuracy of the network on the 10000 test images: 47.260 %\n",
            "[5,   391] loss: 0.276 Acc: 49.062\n",
            "Accuracy of the network on the 10000 test images: 50.000 %\n",
            "[6,   391] loss: 0.264 Acc: 51.152\n",
            "Accuracy of the network on the 10000 test images: 49.860 %\n",
            "[7,   391] loss: 0.255 Acc: 53.054\n",
            "Accuracy of the network on the 10000 test images: 53.900 %\n",
            "[8,   391] loss: 0.245 Acc: 55.264\n",
            "Accuracy of the network on the 10000 test images: 55.710 %\n",
            "[9,   391] loss: 0.238 Acc: 56.278\n",
            "Accuracy of the network on the 10000 test images: 56.710 %\n",
            "[10,   391] loss: 0.231 Acc: 57.678\n",
            "Accuracy of the network on the 10000 test images: 58.370 %\n",
            "[11,   391] loss: 0.225 Acc: 59.158\n",
            "Accuracy of the network on the 10000 test images: 58.890 %\n",
            "[12,   391] loss: 0.219 Acc: 60.492\n",
            "Accuracy of the network on the 10000 test images: 60.470 %\n",
            "[13,   391] loss: 0.214 Acc: 61.318\n",
            "Accuracy of the network on the 10000 test images: 61.490 %\n",
            "[14,   391] loss: 0.209 Acc: 62.114\n",
            "Accuracy of the network on the 10000 test images: 61.610 %\n",
            "[15,   391] loss: 0.203 Acc: 63.440\n",
            "Accuracy of the network on the 10000 test images: 62.210 %\n",
            "[16,   391] loss: 0.199 Acc: 64.172\n",
            "Accuracy of the network on the 10000 test images: 63.970 %\n",
            "[17,   391] loss: 0.196 Acc: 64.846\n",
            "Accuracy of the network on the 10000 test images: 63.660 %\n",
            "[18,   391] loss: 0.191 Acc: 65.786\n",
            "Accuracy of the network on the 10000 test images: 65.390 %\n",
            "[19,   391] loss: 0.189 Acc: 66.116\n",
            "Accuracy of the network on the 10000 test images: 64.940 %\n",
            "[20,   391] loss: 0.186 Acc: 66.764\n",
            "Accuracy of the network on the 10000 test images: 65.530 %\n",
            "[21,   391] loss: 0.182 Acc: 67.386\n",
            "Accuracy of the network on the 10000 test images: 66.210 %\n",
            "[22,   391] loss: 0.180 Acc: 68.226\n",
            "Accuracy of the network on the 10000 test images: 67.100 %\n",
            "[23,   391] loss: 0.178 Acc: 68.376\n",
            "Accuracy of the network on the 10000 test images: 67.700 %\n",
            "[24,   391] loss: 0.175 Acc: 69.068\n",
            "Accuracy of the network on the 10000 test images: 67.200 %\n",
            "[25,   391] loss: 0.172 Acc: 69.520\n",
            "Accuracy of the network on the 10000 test images: 67.630 %\n",
            "[26,   391] loss: 0.170 Acc: 69.650\n",
            "Accuracy of the network on the 10000 test images: 67.950 %\n",
            "[27,   391] loss: 0.169 Acc: 69.894\n",
            "Accuracy of the network on the 10000 test images: 68.750 %\n",
            "[28,   391] loss: 0.166 Acc: 70.396\n",
            "Accuracy of the network on the 10000 test images: 68.810 %\n",
            "[29,   391] loss: 0.164 Acc: 70.824\n",
            "Accuracy of the network on the 10000 test images: 68.530 %\n",
            "[30,   391] loss: 0.162 Acc: 71.166\n",
            "Accuracy of the network on the 10000 test images: 69.330 %\n"
          ]
        },
        {
          "output_type": "error",
          "ename": "KeyboardInterrupt",
          "evalue": "ignored",
          "traceback": [
            "\u001b[0;31m---------------------------------------------------------------------------\u001b[0m",
            "\u001b[0;31mKeyboardInterrupt\u001b[0m                         Traceback (most recent call last)",
            "\u001b[0;32m<ipython-input-19-80fe590d7253>\u001b[0m in \u001b[0;36m<module>\u001b[0;34m()\u001b[0m\n\u001b[1;32m     19\u001b[0m \u001b[0;34m\u001b[0m\u001b[0m\n\u001b[1;32m     20\u001b[0m         \u001b[0;31m# print statistics\u001b[0m\u001b[0;34m\u001b[0m\u001b[0;34m\u001b[0m\u001b[0;34m\u001b[0m\u001b[0m\n\u001b[0;32m---> 21\u001b[0;31m         \u001b[0mrunning_loss\u001b[0m \u001b[0;34m+=\u001b[0m \u001b[0mloss\u001b[0m\u001b[0;34m.\u001b[0m\u001b[0mitem\u001b[0m\u001b[0;34m(\u001b[0m\u001b[0;34m)\u001b[0m\u001b[0;34m\u001b[0m\u001b[0;34m\u001b[0m\u001b[0m\n\u001b[0m\u001b[1;32m     22\u001b[0m \u001b[0;34m\u001b[0m\u001b[0m\n\u001b[1;32m     23\u001b[0m         \u001b[0mpred\u001b[0m \u001b[0;34m=\u001b[0m \u001b[0moutputs\u001b[0m\u001b[0;34m.\u001b[0m\u001b[0margmax\u001b[0m\u001b[0;34m(\u001b[0m\u001b[0mdim\u001b[0m\u001b[0;34m=\u001b[0m\u001b[0;36m1\u001b[0m\u001b[0;34m,\u001b[0m \u001b[0mkeepdim\u001b[0m\u001b[0;34m=\u001b[0m\u001b[0;32mTrue\u001b[0m\u001b[0;34m)\u001b[0m  \u001b[0;31m# get the index of the max log-probability\u001b[0m\u001b[0;34m\u001b[0m\u001b[0;34m\u001b[0m\u001b[0m\n",
            "\u001b[0;31mKeyboardInterrupt\u001b[0m: "
          ]
        }
      ]
    },
    {
      "cell_type": "markdown",
      "metadata": {
        "id": "YLrvL_fHpoC5"
      },
      "source": [
        "5. Test the network on the test data\n",
        "^^^^^^^^^^^^^^^^^^^^^^^^^^^^^^^^^^^^\n",
        "\n",
        "We have trained the network for 2 passes over the training dataset.\n",
        "But we need to check if the network has learnt anything at all.\n",
        "\n",
        "We will check this by predicting the class label that the neural network\n",
        "outputs, and checking it against the ground-truth. If the prediction is\n",
        "correct, we add the sample to the list of correct predictions.\n",
        "\n",
        "Okay, first step. Let us display an image from the test set to get familiar.\n",
        "\n"
      ]
    },
    {
      "cell_type": "code",
      "metadata": {
        "id": "soXz-NA_l5dS"
      },
      "source": [
        "for epoch in range(40,50):  # loop over the dataset multiple times\n",
        "\n",
        "    running_loss = 0.0\n",
        "    correct = 0\n",
        "    processed = 0\n",
        "    for i, data in enumerate(trainloader, 0):\n",
        "        # get the inputs\n",
        "        inputs, labels = data\n",
        "        inputs,labels = inputs.to(device), labels.to(device)\n",
        "\n",
        "        # zero the parameter gradients\n",
        "        optimizer.zero_grad()\n",
        "\n",
        "        # forward + backward + optimize\n",
        "        outputs = net(inputs)\n",
        "        loss = criterion(outputs, labels) # CrossEntropyLoss\n",
        "        loss.backward()\n",
        "        optimizer.step() # SGD\n",
        "\n",
        "        # print statistics\n",
        "        running_loss += loss.item()\n",
        "\n",
        "        pred = outputs.argmax(dim=1, keepdim=True)  # get the index of the max log-probability\n",
        "        correct += pred.eq(labels.view_as(pred)).sum().item()\n",
        "        processed += len(inputs)\n",
        "\n",
        "        if i == minibatches:    # print every  mini-batches\n",
        "            print('[%d, %5d] loss: %.3f Acc: %.3f' %(epoch + 1, i + 1, running_loss / 2000,100*correct/processed ))\n",
        "            running_loss = 0.0\n",
        "\n",
        "\n",
        "            outputs = net(images.to(device))\n",
        "            _, predicted = torch.max(outputs, 1)\n",
        "\n",
        "            #print('Predicted: ', ' '.join('%5s' % classes[predicted[j]]for j in range(4)))\n",
        "            correct = 0\n",
        "            total = 0\n",
        "            with torch.no_grad():\n",
        "                for data in testloader:\n",
        "                    images, labels = data\n",
        "                    images, labels = images.to(device), labels.to(device)\n",
        "                    outputs = net(images)\n",
        "                    _, predicted = torch.max(outputs.data, 1)\n",
        "                    total += labels.size(0)\n",
        "                    correct += (predicted == labels).sum().item()\n",
        "\n",
        "            print('Accuracy of the network on the 10000 test images: %.3f %%' % (\n",
        "                100 * correct / total))"
      ],
      "execution_count": null,
      "outputs": []
    },
    {
      "cell_type": "code",
      "metadata": {
        "id": "nizbsvw9poC6"
      },
      "source": [
        "dataiter = iter(testloader)\n",
        "images, labels = dataiter.next()\n",
        "# print images\n",
        "imshow(torchvision.utils.make_grid(images))\n",
        "print('GroundTruth: ', ' '.join('%5s' % classes[labels[j]] for j in range(4)))"
      ],
      "execution_count": null,
      "outputs": []
    },
    {
      "cell_type": "markdown",
      "metadata": {
        "id": "DAx4QPHVpoC8"
      },
      "source": [
        "Okay, now let us see what the neural network thinks these examples above are:\n",
        "\n"
      ]
    },
    {
      "cell_type": "code",
      "metadata": {
        "id": "HVLjlssWpoC9"
      },
      "source": [
        "\n",
        "outputs = net(images.to(device))"
      ],
      "execution_count": null,
      "outputs": []
    },
    {
      "cell_type": "markdown",
      "metadata": {
        "id": "u8OTHZEApoC_"
      },
      "source": [
        "The outputs are energies for the 10 classes.\n",
        "Higher the energy for a class, the more the network\n",
        "thinks that the image is of the particular class.\n",
        "So, let's get the index of the highest energy:\n",
        "\n"
      ]
    },
    {
      "cell_type": "code",
      "metadata": {
        "id": "ABRIDW3lpoDA"
      },
      "source": [
        "_, predicted = torch.max(outputs, 1)\n",
        "\n",
        "print('Predicted: ', ' '.join('%5s' % classes[predicted[j]]\n",
        "                              for j in range(4)))"
      ],
      "execution_count": null,
      "outputs": []
    },
    {
      "cell_type": "markdown",
      "metadata": {
        "id": "2TV0TXL1poDC"
      },
      "source": [
        "The results seem pretty good.\n",
        "\n",
        "Let us look at how the network performs on the whole dataset.\n",
        "\n"
      ]
    },
    {
      "cell_type": "code",
      "metadata": {
        "id": "SZ4-5CESpoDD"
      },
      "source": [
        "correct = 0\n",
        "total = 0\n",
        "with torch.no_grad():\n",
        "    for data in testloader:\n",
        "        images, labels = data\n",
        "        images, labels = images.to(device), labels.to(device)\n",
        "        outputs = net(images)\n",
        "        _, predicted = torch.max(outputs.data, 1)\n",
        "        total += labels.size(0)\n",
        "        correct += (predicted == labels).sum().item()\n",
        "\n",
        "print('Accuracy of the network on the 10000 test images: %.3f %%' % (\n",
        "    100 * correct / total))"
      ],
      "execution_count": null,
      "outputs": []
    },
    {
      "cell_type": "markdown",
      "metadata": {
        "id": "eDdwPBl8poDF"
      },
      "source": [
        "That looks waaay better than chance, which is 10% accuracy (randomly picking\n",
        "a class out of 10 classes).\n",
        "Seems like the network learnt something.\n",
        "\n",
        "Hmmm, what are the classes that performed well, and the classes that did\n",
        "not perform well:\n",
        "\n"
      ]
    },
    {
      "cell_type": "code",
      "metadata": {
        "id": "pDNFuDEDpoDG"
      },
      "source": [
        "class_correct = list(0. for i in range(10))\n",
        "class_total = list(0. for i in range(10))\n",
        "with torch.no_grad():\n",
        "    for data in testloader:\n",
        "        images, labels = data\n",
        "        images, labels = images.to(device), labels.to(device)\n",
        "        outputs = net(images)\n",
        "        _, predicted = torch.max(outputs, 1)\n",
        "        c = (predicted == labels).squeeze()\n",
        "        for i in range(4):\n",
        "            label = labels[i]\n",
        "            class_correct[label] += c[i].item()\n",
        "            class_total[label] += 1\n",
        "\n",
        "\n",
        "for i in range(10):\n",
        "    print('Accuracy of %5s : %2d %%' % (\n",
        "        classes[i], 100 * class_correct[i] / class_total[i]))"
      ],
      "execution_count": null,
      "outputs": []
    },
    {
      "cell_type": "code",
      "metadata": {
        "id": "wLztDnaVIgFn"
      },
      "source": [
        ""
      ],
      "execution_count": null,
      "outputs": []
    }
  ]
}