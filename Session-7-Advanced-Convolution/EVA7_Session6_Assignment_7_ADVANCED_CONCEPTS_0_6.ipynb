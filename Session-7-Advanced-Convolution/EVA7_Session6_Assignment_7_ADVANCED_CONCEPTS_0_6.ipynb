{
  "nbformat": 4,
  "nbformat_minor": 0,
  "metadata": {
    "kernelspec": {
      "name": "python3",
      "display_name": "Python 3"
    },
    "language_info": {
      "codemirror_mode": {
        "name": "ipython",
        "version": 3
      },
      "file_extension": ".py",
      "mimetype": "text/x-python",
      "name": "python",
      "nbconvert_exporter": "python",
      "pygments_lexer": "ipython3",
      "version": "3.6.6"
    },
    "colab": {
      "name": "EVA7_Session6_Assignment_7_ADVANCED_CONCEPTS_0_6.ipynb",
      "provenance": [],
      "collapsed_sections": []
    },
    "accelerator": "GPU",
    "widgets": {
      "application/vnd.jupyter.widget-state+json": {
        "0e124d1b0f374478a5690b698b293907": {
          "model_module": "@jupyter-widgets/controls",
          "model_name": "HBoxModel",
          "model_module_version": "1.5.0",
          "state": {
            "_view_name": "HBoxView",
            "_dom_classes": [],
            "_model_name": "HBoxModel",
            "_view_module": "@jupyter-widgets/controls",
            "_model_module_version": "1.5.0",
            "_view_count": null,
            "_view_module_version": "1.5.0",
            "box_style": "",
            "layout": "IPY_MODEL_d8b38b3f6b0446d59abf68533cf50fe5",
            "_model_module": "@jupyter-widgets/controls",
            "children": [
              "IPY_MODEL_2ec4b07adc854c33aca6f251d31267a2",
              "IPY_MODEL_18d55b8f8e89454aa19e70448e2cbf6b",
              "IPY_MODEL_3a69f6b1c8394ef8b32c9c76621478b9"
            ]
          }
        },
        "d8b38b3f6b0446d59abf68533cf50fe5": {
          "model_module": "@jupyter-widgets/base",
          "model_name": "LayoutModel",
          "model_module_version": "1.2.0",
          "state": {
            "_view_name": "LayoutView",
            "grid_template_rows": null,
            "right": null,
            "justify_content": null,
            "_view_module": "@jupyter-widgets/base",
            "overflow": null,
            "_model_module_version": "1.2.0",
            "_view_count": null,
            "flex_flow": null,
            "width": null,
            "min_width": null,
            "border": null,
            "align_items": null,
            "bottom": null,
            "_model_module": "@jupyter-widgets/base",
            "top": null,
            "grid_column": null,
            "overflow_y": null,
            "overflow_x": null,
            "grid_auto_flow": null,
            "grid_area": null,
            "grid_template_columns": null,
            "flex": null,
            "_model_name": "LayoutModel",
            "justify_items": null,
            "grid_row": null,
            "max_height": null,
            "align_content": null,
            "visibility": null,
            "align_self": null,
            "height": null,
            "min_height": null,
            "padding": null,
            "grid_auto_rows": null,
            "grid_gap": null,
            "max_width": null,
            "order": null,
            "_view_module_version": "1.2.0",
            "grid_template_areas": null,
            "object_position": null,
            "object_fit": null,
            "grid_auto_columns": null,
            "margin": null,
            "display": null,
            "left": null
          }
        },
        "2ec4b07adc854c33aca6f251d31267a2": {
          "model_module": "@jupyter-widgets/controls",
          "model_name": "HTMLModel",
          "model_module_version": "1.5.0",
          "state": {
            "_view_name": "HTMLView",
            "style": "IPY_MODEL_b9610739a468492a9de83b06cd531c92",
            "_dom_classes": [],
            "description": "",
            "_model_name": "HTMLModel",
            "placeholder": "​",
            "_view_module": "@jupyter-widgets/controls",
            "_model_module_version": "1.5.0",
            "value": "",
            "_view_count": null,
            "_view_module_version": "1.5.0",
            "description_tooltip": null,
            "_model_module": "@jupyter-widgets/controls",
            "layout": "IPY_MODEL_9d30bcb2a853410da08a7112ced9ed8d"
          }
        },
        "18d55b8f8e89454aa19e70448e2cbf6b": {
          "model_module": "@jupyter-widgets/controls",
          "model_name": "FloatProgressModel",
          "model_module_version": "1.5.0",
          "state": {
            "_view_name": "ProgressView",
            "style": "IPY_MODEL_1805499f019d46cc86f2b51e1be544c0",
            "_dom_classes": [],
            "description": "",
            "_model_name": "FloatProgressModel",
            "bar_style": "success",
            "max": 170498071,
            "_view_module": "@jupyter-widgets/controls",
            "_model_module_version": "1.5.0",
            "value": 170498071,
            "_view_count": null,
            "_view_module_version": "1.5.0",
            "orientation": "horizontal",
            "min": 0,
            "description_tooltip": null,
            "_model_module": "@jupyter-widgets/controls",
            "layout": "IPY_MODEL_c1807e1f71fc45f6a3a0dc8f9afcc603"
          }
        },
        "3a69f6b1c8394ef8b32c9c76621478b9": {
          "model_module": "@jupyter-widgets/controls",
          "model_name": "HTMLModel",
          "model_module_version": "1.5.0",
          "state": {
            "_view_name": "HTMLView",
            "style": "IPY_MODEL_ce3173678cf3477b85ae6ccd993e7eb9",
            "_dom_classes": [],
            "description": "",
            "_model_name": "HTMLModel",
            "placeholder": "​",
            "_view_module": "@jupyter-widgets/controls",
            "_model_module_version": "1.5.0",
            "value": " 170499072/? [00:03&lt;00:00, 57603304.95it/s]",
            "_view_count": null,
            "_view_module_version": "1.5.0",
            "description_tooltip": null,
            "_model_module": "@jupyter-widgets/controls",
            "layout": "IPY_MODEL_cb9c6986434d403ca5b18379cd059bdd"
          }
        },
        "b9610739a468492a9de83b06cd531c92": {
          "model_module": "@jupyter-widgets/controls",
          "model_name": "DescriptionStyleModel",
          "model_module_version": "1.5.0",
          "state": {
            "_view_name": "StyleView",
            "_model_name": "DescriptionStyleModel",
            "description_width": "",
            "_view_module": "@jupyter-widgets/base",
            "_model_module_version": "1.5.0",
            "_view_count": null,
            "_view_module_version": "1.2.0",
            "_model_module": "@jupyter-widgets/controls"
          }
        },
        "9d30bcb2a853410da08a7112ced9ed8d": {
          "model_module": "@jupyter-widgets/base",
          "model_name": "LayoutModel",
          "model_module_version": "1.2.0",
          "state": {
            "_view_name": "LayoutView",
            "grid_template_rows": null,
            "right": null,
            "justify_content": null,
            "_view_module": "@jupyter-widgets/base",
            "overflow": null,
            "_model_module_version": "1.2.0",
            "_view_count": null,
            "flex_flow": null,
            "width": null,
            "min_width": null,
            "border": null,
            "align_items": null,
            "bottom": null,
            "_model_module": "@jupyter-widgets/base",
            "top": null,
            "grid_column": null,
            "overflow_y": null,
            "overflow_x": null,
            "grid_auto_flow": null,
            "grid_area": null,
            "grid_template_columns": null,
            "flex": null,
            "_model_name": "LayoutModel",
            "justify_items": null,
            "grid_row": null,
            "max_height": null,
            "align_content": null,
            "visibility": null,
            "align_self": null,
            "height": null,
            "min_height": null,
            "padding": null,
            "grid_auto_rows": null,
            "grid_gap": null,
            "max_width": null,
            "order": null,
            "_view_module_version": "1.2.0",
            "grid_template_areas": null,
            "object_position": null,
            "object_fit": null,
            "grid_auto_columns": null,
            "margin": null,
            "display": null,
            "left": null
          }
        },
        "1805499f019d46cc86f2b51e1be544c0": {
          "model_module": "@jupyter-widgets/controls",
          "model_name": "ProgressStyleModel",
          "model_module_version": "1.5.0",
          "state": {
            "_view_name": "StyleView",
            "_model_name": "ProgressStyleModel",
            "description_width": "",
            "_view_module": "@jupyter-widgets/base",
            "_model_module_version": "1.5.0",
            "_view_count": null,
            "_view_module_version": "1.2.0",
            "bar_color": null,
            "_model_module": "@jupyter-widgets/controls"
          }
        },
        "c1807e1f71fc45f6a3a0dc8f9afcc603": {
          "model_module": "@jupyter-widgets/base",
          "model_name": "LayoutModel",
          "model_module_version": "1.2.0",
          "state": {
            "_view_name": "LayoutView",
            "grid_template_rows": null,
            "right": null,
            "justify_content": null,
            "_view_module": "@jupyter-widgets/base",
            "overflow": null,
            "_model_module_version": "1.2.0",
            "_view_count": null,
            "flex_flow": null,
            "width": null,
            "min_width": null,
            "border": null,
            "align_items": null,
            "bottom": null,
            "_model_module": "@jupyter-widgets/base",
            "top": null,
            "grid_column": null,
            "overflow_y": null,
            "overflow_x": null,
            "grid_auto_flow": null,
            "grid_area": null,
            "grid_template_columns": null,
            "flex": null,
            "_model_name": "LayoutModel",
            "justify_items": null,
            "grid_row": null,
            "max_height": null,
            "align_content": null,
            "visibility": null,
            "align_self": null,
            "height": null,
            "min_height": null,
            "padding": null,
            "grid_auto_rows": null,
            "grid_gap": null,
            "max_width": null,
            "order": null,
            "_view_module_version": "1.2.0",
            "grid_template_areas": null,
            "object_position": null,
            "object_fit": null,
            "grid_auto_columns": null,
            "margin": null,
            "display": null,
            "left": null
          }
        },
        "ce3173678cf3477b85ae6ccd993e7eb9": {
          "model_module": "@jupyter-widgets/controls",
          "model_name": "DescriptionStyleModel",
          "model_module_version": "1.5.0",
          "state": {
            "_view_name": "StyleView",
            "_model_name": "DescriptionStyleModel",
            "description_width": "",
            "_view_module": "@jupyter-widgets/base",
            "_model_module_version": "1.5.0",
            "_view_count": null,
            "_view_module_version": "1.2.0",
            "_model_module": "@jupyter-widgets/controls"
          }
        },
        "cb9c6986434d403ca5b18379cd059bdd": {
          "model_module": "@jupyter-widgets/base",
          "model_name": "LayoutModel",
          "model_module_version": "1.2.0",
          "state": {
            "_view_name": "LayoutView",
            "grid_template_rows": null,
            "right": null,
            "justify_content": null,
            "_view_module": "@jupyter-widgets/base",
            "overflow": null,
            "_model_module_version": "1.2.0",
            "_view_count": null,
            "flex_flow": null,
            "width": null,
            "min_width": null,
            "border": null,
            "align_items": null,
            "bottom": null,
            "_model_module": "@jupyter-widgets/base",
            "top": null,
            "grid_column": null,
            "overflow_y": null,
            "overflow_x": null,
            "grid_auto_flow": null,
            "grid_area": null,
            "grid_template_columns": null,
            "flex": null,
            "_model_name": "LayoutModel",
            "justify_items": null,
            "grid_row": null,
            "max_height": null,
            "align_content": null,
            "visibility": null,
            "align_self": null,
            "height": null,
            "min_height": null,
            "padding": null,
            "grid_auto_rows": null,
            "grid_gap": null,
            "max_width": null,
            "order": null,
            "_view_module_version": "1.2.0",
            "grid_template_areas": null,
            "object_position": null,
            "object_fit": null,
            "grid_auto_columns": null,
            "margin": null,
            "display": null,
            "left": null
          }
        }
      }
    }
  },
  "cells": [
    {
      "cell_type": "code",
      "metadata": {
        "id": "QVbdg0z4poCc"
      },
      "source": [
        "%matplotlib inline"
      ],
      "execution_count": null,
      "outputs": []
    },
    {
      "cell_type": "markdown",
      "metadata": {
        "id": "fPogbueepoCh"
      },
      "source": [
        "\n",
        "Training a Classifier\n",
        "=====================\n",
        "\n",
        "This is it. You have seen how to define neural networks, compute loss and make\n",
        "updates to the weights of the network.\n",
        "\n",
        "Now you might be thinking,\n",
        "\n",
        "What about data?\n",
        "----------------\n",
        "\n",
        "Generally, when you have to deal with image, text, audio or video data,\n",
        "you can use standard python packages that load data into a numpy array.\n",
        "Then you can convert this array into a ``torch.*Tensor``.\n",
        "\n",
        "-  For images, packages such as Pillow, OpenCV are useful\n",
        "-  For audio, packages such as scipy and librosa\n",
        "-  For text, either raw Python or Cython based loading, or NLTK and\n",
        "   SpaCy are useful\n",
        "\n",
        "Specifically for vision, we have created a package called\n",
        "``torchvision``, that has data loaders for common datasets such as\n",
        "Imagenet, CIFAR10, MNIST, etc. and data transformers for images, viz.,\n",
        "``torchvision.datasets`` and ``torch.utils.data.DataLoader``.\n",
        "\n",
        "This provides a huge convenience and avoids writing boilerplate code.\n",
        "\n",
        "For this tutorial, we will use the CIFAR10 dataset.\n",
        "It has the classes: ‘airplane’, ‘automobile’, ‘bird’, ‘cat’, ‘deer’,\n",
        "‘dog’, ‘frog’, ‘horse’, ‘ship’, ‘truck’. The images in CIFAR-10 are of\n",
        "size 3x32x32, i.e. 3-channel color images of 32x32 pixels in size.\n",
        "\n",
        ".. figure:: /_static/img/cifar10.png\n",
        "   :alt: cifar10\n",
        "\n",
        "   cifar10\n",
        "\n",
        "\n",
        "Training an image classifier\n",
        "----------------------------\n",
        "\n",
        "We will do the following steps in order:\n",
        "\n",
        "1. Load and normalizing the CIFAR10 training and test datasets using\n",
        "   ``torchvision``\n",
        "2. Define a Convolution Neural Network\n",
        "3. Define a loss function\n",
        "4. Train the network on the training data\n",
        "5. Test the network on the test data\n",
        "\n",
        "1. Loading and normalizing CIFAR10\n",
        "^^^^^^^^^^^^^^^^^^^^^^^^^^^^^^^^^^\n",
        "\n",
        "Using ``torchvision``, it’s extremely easy to load CIFAR10.\n",
        "\n"
      ]
    },
    {
      "cell_type": "code",
      "metadata": {
        "id": "-yVpodAMpoCi"
      },
      "source": [
        "import torch\n",
        "import torchvision\n",
        "import torchvision.transforms as transforms"
      ],
      "execution_count": null,
      "outputs": []
    },
    {
      "cell_type": "code",
      "metadata": {
        "id": "WlKu8ZgqfM6F"
      },
      "source": [
        "import matplotlib.pyplot as plt\n",
        "import numpy as np"
      ],
      "execution_count": null,
      "outputs": []
    },
    {
      "cell_type": "code",
      "metadata": {
        "id": "0xz3AcaI9Wkz"
      },
      "source": [
        "# custom dataset class for albumentations library\n",
        "  class AlbumentationImageDataset(Dataset):\n",
        "    def __init__(self, image_list):\n",
        "        self.image_list = image_list\n",
        "        self.aug = A.Compose({\n",
        "        A.Resize(200, 300),\n",
        "        A.CenterCrop(100, 100),\n",
        "        A.RandomCrop(80, 80),\n",
        "        A.HorizontalFlip(p=0.5),\n",
        "        A.Rotate(limit=(-90, 90)),\n",
        "        A.VerticalFlip(p=0.5),\n",
        "        A.Normalize((0.5, 0.5, 0.5), (0.5, 0.5, 0.5)),\n",
        "        })\n",
        "         \n",
        "    def __len__(self):\n",
        "        return (len(self.image_list))\n",
        "    \n",
        "    def __getitem__(self, i):\n",
        "        image = plt.imread(self.image_list[i])\n",
        "        image = Image.fromarray(image).convert('RGB')\n",
        "        image = self.aug(image=np.array(image))['image']\n",
        "        image = np.transpose(image, (2, 0, 1)).astype(np.float32)\n",
        "            \n",
        "        return torch.tensor(image, dtype=torch.float)"
      ],
      "execution_count": null,
      "outputs": []
    },
    {
      "cell_type": "code",
      "metadata": {
        "id": "p1a3KuyIE8M4"
      },
      "source": [
        "# The following code initializes the dataset class and prepares the data loader.\n",
        "alb_dataset = AlbumentationImageDataset(image_list=image_list)\n",
        "alb_dataloader = DataLoader(dataset=alb_dataset, batch_size=16, shuffle=True)\n"
      ],
      "execution_count": null,
      "outputs": []
    },
    {
      "cell_type": "markdown",
      "metadata": {
        "id": "5kjt4e2TpoCk"
      },
      "source": [
        "The output of torchvision datasets are PILImage images of range [0, 1].\n",
        "We transform them to Tensors of normalized range [-1, 1].\n",
        "\n"
      ]
    },
    {
      "cell_type": "code",
      "metadata": {
        "id": "D8Tjigo2poCl",
        "colab": {
          "base_uri": "https://localhost:8080/",
          "height": 180,
          "referenced_widgets": [
            "0e124d1b0f374478a5690b698b293907",
            "d8b38b3f6b0446d59abf68533cf50fe5",
            "2ec4b07adc854c33aca6f251d31267a2",
            "18d55b8f8e89454aa19e70448e2cbf6b",
            "3a69f6b1c8394ef8b32c9c76621478b9",
            "b9610739a468492a9de83b06cd531c92",
            "9d30bcb2a853410da08a7112ced9ed8d",
            "1805499f019d46cc86f2b51e1be544c0",
            "c1807e1f71fc45f6a3a0dc8f9afcc603",
            "ce3173678cf3477b85ae6ccd993e7eb9",
            "cb9c6986434d403ca5b18379cd059bdd"
          ]
        },
        "outputId": "d382d2a9-694d-42aa-de7f-9db66a517768"
      },
      "source": [
        "transform = transforms.Compose(\n",
        "    [transforms.ToTensor(),\n",
        "     transforms.Normalize((0.5, 0.5, 0.5), (0.5, 0.5, 0.5))])\n",
        "\n",
        "SEED = 1\n",
        "\n",
        "\n",
        "# CUDA?\n",
        "cuda = torch.cuda.is_available()\n",
        "print(\"CUDA Available?\", cuda)\n",
        "\n",
        "# For reproducibility\n",
        "torch.manual_seed(SEED)\n",
        "\n",
        "if cuda:\n",
        "    torch.cuda.manual_seed(SEED)\n",
        "\n",
        "Batch_size = 64\n",
        "if cuda:\n",
        "  Batch_size = 128\n",
        "  \n",
        "\n",
        "# dataloader arguments - something you'll fetch these from cmdprmt\n",
        "dataloader_args = dict(shuffle=True, batch_size=Batch_size, num_workers=4, pin_memory=True) if cuda else dict(shuffle=True, batch_size=Batch_size)\n",
        "\n",
        "trainset = torchvision.datasets.CIFAR10(root='./data', train=True,\n",
        "                                        download=True)\n",
        "\n",
        "alb_trainset_dataset = AlbumentationImageDataset(image_list=trainset)\n",
        "\n",
        "trainloader = torch.utils.data.DataLoader(alb_trainset_dataset, **dataloader_args)\n",
        "\n",
        "testset = torchvision.datasets.CIFAR10(root='./data', train=False,\n",
        "alb_testset_dataset = AlbumentationImageDataset(image_list=testset)\n",
        "\n",
        "                                       download=True)\n",
        "testloader = torch.utils.data.DataLoader(alb_testset_dataset, **dataloader_args)\n",
        "\n",
        "classes = ('plane', 'car', 'bird', 'cat',\n",
        "           'deer', 'dog', 'frog', 'horse', 'ship', 'truck')"
      ],
      "execution_count": null,
      "outputs": [
        {
          "output_type": "stream",
          "name": "stdout",
          "text": [
            "CUDA Available? True\n",
            "Downloading https://www.cs.toronto.edu/~kriz/cifar-10-python.tar.gz to ./data/cifar-10-python.tar.gz\n"
          ]
        },
        {
          "output_type": "display_data",
          "data": {
            "application/vnd.jupyter.widget-view+json": {
              "model_id": "0e124d1b0f374478a5690b698b293907",
              "version_minor": 0,
              "version_major": 2
            },
            "text/plain": [
              "  0%|          | 0/170498071 [00:00<?, ?it/s]"
            ]
          },
          "metadata": {}
        },
        {
          "output_type": "stream",
          "name": "stdout",
          "text": [
            "Extracting ./data/cifar-10-python.tar.gz to ./data\n"
          ]
        },
        {
          "output_type": "stream",
          "name": "stderr",
          "text": [
            "/usr/local/lib/python3.7/dist-packages/torch/utils/data/dataloader.py:481: UserWarning: This DataLoader will create 4 worker processes in total. Our suggested max number of worker in current system is 2, which is smaller than what this DataLoader is going to create. Please be aware that excessive worker creation might get DataLoader running slow or even freeze, lower the worker number to avoid potential slowness/freeze if necessary.\n",
            "  cpuset_checked))\n"
          ]
        },
        {
          "output_type": "stream",
          "name": "stdout",
          "text": [
            "Files already downloaded and verified\n"
          ]
        }
      ]
    },
    {
      "cell_type": "markdown",
      "metadata": {
        "id": "_cj433rtpoCn"
      },
      "source": [
        "Let us show some of the training images, for fun.\n",
        "\n"
      ]
    },
    {
      "cell_type": "code",
      "metadata": {
        "id": "D4SFB69Y5x8K",
        "colab": {
          "base_uri": "https://localhost:8080/"
        },
        "outputId": "40f74ec0-f4e2-4cdd-b755-e8dbe0ee4700"
      },
      "source": [
        "len(trainset)"
      ],
      "execution_count": null,
      "outputs": [
        {
          "output_type": "execute_result",
          "data": {
            "text/plain": [
              "50000"
            ]
          },
          "metadata": {},
          "execution_count": 5
        }
      ]
    },
    {
      "cell_type": "code",
      "metadata": {
        "id": "_WiQ0wjJ56ca",
        "colab": {
          "base_uri": "https://localhost:8080/"
        },
        "outputId": "8b993bad-50ef-4f6b-c08f-707cbdf25b65"
      },
      "source": [
        "50000/128"
      ],
      "execution_count": null,
      "outputs": [
        {
          "output_type": "execute_result",
          "data": {
            "text/plain": [
              "390.625"
            ]
          },
          "metadata": {},
          "execution_count": 6
        }
      ]
    },
    {
      "cell_type": "code",
      "metadata": {
        "id": "Kxs2OKcac1UH",
        "colab": {
          "base_uri": "https://localhost:8080/"
        },
        "outputId": "1df46563-4412-40cc-b7d6-3720751f4b30"
      },
      "source": [
        "type(trainset.data)"
      ],
      "execution_count": null,
      "outputs": [
        {
          "output_type": "execute_result",
          "data": {
            "text/plain": [
              "numpy.ndarray"
            ]
          },
          "metadata": {},
          "execution_count": 7
        }
      ]
    },
    {
      "cell_type": "code",
      "metadata": {
        "id": "OePfPWJUvNzQ",
        "colab": {
          "base_uri": "https://localhost:8080/"
        },
        "outputId": "cdc85a96-2ab0-4f88-845b-55c5b72377c2"
      },
      "source": [
        "len(testset)"
      ],
      "execution_count": null,
      "outputs": [
        {
          "output_type": "execute_result",
          "data": {
            "text/plain": [
              "10000"
            ]
          },
          "metadata": {},
          "execution_count": 8
        }
      ]
    },
    {
      "cell_type": "code",
      "metadata": {
        "id": "q1RHOO45eVs7",
        "colab": {
          "base_uri": "https://localhost:8080/"
        },
        "outputId": "e626b44e-386c-4bbb-f235-a4c807a4a659"
      },
      "source": [
        "print(np.min(trainset.data))\n",
        "print(\"mean \",np.mean(trainset.data))"
      ],
      "execution_count": null,
      "outputs": [
        {
          "output_type": "stream",
          "name": "stdout",
          "text": [
            "0\n",
            "mean  120.70756512369792\n"
          ]
        }
      ]
    },
    {
      "cell_type": "code",
      "metadata": {
        "id": "daA7bADhpoCo",
        "colab": {
          "base_uri": "https://localhost:8080/",
          "height": 363
        },
        "outputId": "7340ac1b-d94b-49ca-97c2-f81dffd2872c"
      },
      "source": [
        "\n",
        "\n",
        "# functions to show an image\n",
        "\n",
        "\n",
        "def imshow(img):\n",
        "    img = img / 2 + 0.5     # unnormalize\n",
        "    npimg = img.numpy()\n",
        "    print(npimg.shape,(np.transpose(npimg, (1, 2, 0))).shape)\n",
        "    plt.imshow(np.transpose(npimg, (1, 2, 0)))\n",
        "\n",
        "\n",
        "# get some random training images\n",
        "dataiter = iter(trainloader)\n",
        "images, labels = dataiter.next()\n",
        "\n",
        "# show images\n",
        "imshow(torchvision.utils.make_grid(images))\n",
        "# print labels\n",
        "print(' '.join('%5s' % classes[labels[j]] for j in range(4)))"
      ],
      "execution_count": null,
      "outputs": [
        {
          "output_type": "stream",
          "name": "stderr",
          "text": [
            "/usr/local/lib/python3.7/dist-packages/torch/utils/data/dataloader.py:481: UserWarning: This DataLoader will create 4 worker processes in total. Our suggested max number of worker in current system is 2, which is smaller than what this DataLoader is going to create. Please be aware that excessive worker creation might get DataLoader running slow or even freeze, lower the worker number to avoid potential slowness/freeze if necessary.\n",
            "  cpuset_checked))\n"
          ]
        },
        {
          "output_type": "stream",
          "name": "stdout",
          "text": [
            "(3, 546, 274) (546, 274, 3)\n",
            " ship  bird   cat   dog\n"
          ]
        },
        {
          "output_type": "display_data",
          "data": {
            "image/png": "[encoded data removed]",
            "text/plain": [
              "<Figure size 432x288 with 1 Axes>"
            ]
          },
          "metadata": {
            "needs_background": "light"
          }
        }
      ]
    },
    {
      "cell_type": "markdown",
      "metadata": {
        "id": "28OpHA_LpoCq"
      },
      "source": [
        "2. Define a Convolution Neural Network\n",
        "^^^^^^^^^^^^^^^^^^^^^^^^^^^^^^^^^^^^^^\n",
        "Copy the neural network from the Neural Networks section before and modify it to\n",
        "take 3-channel images (instead of 1-channel images as it was defined).\n",
        "\n"
      ]
    },
    {
      "cell_type": "code",
      "metadata": {
        "id": "mEeKN2pm-DuM"
      },
      "source": [
        "import torch.nn as nn\n",
        "import torch.nn.functional as F\n",
        "\n",
        "\n",
        "class Net(nn.Module):\n",
        "    def __init__(self):\n",
        "        super(Net, self).__init__()\n",
        "                                                              #RF = rin+(k-1)*jin\n",
        "                                                              #jout = jin*s\n",
        "        self.convblock1 = nn.Sequential(\n",
        "            nn.Conv2d(in_channels=3, out_channels=16, kernel_size=(3, 3), padding=1, bias=False), #Rf = 3, j = 1\n",
        "            nn.ReLU(),\n",
        "            nn.BatchNorm2d(16),\n",
        "            nn.Dropout(p=0.15),\n",
        "\n",
        "            nn.Conv2d(in_channels=16, out_channels=32, kernel_size=(3, 3), padding=1, bias=False), #Rf = 3, j = 1\n",
        "            nn.ReLU(),\n",
        "            nn.BatchNorm2d(32),\n",
        "            nn.Dropout(p=0.15),\n",
        "\n",
        "            nn.Conv2d(in_channels=32, out_channels=64, kernel_size=(3, 3), padding=1, bias=False),#Rf = 5, , j = 1\n",
        "            nn.ReLU(),\n",
        "            nn.BatchNorm2d(64),\n",
        "            nn.Dropout(p=0.15),\n",
        "\n",
        "            nn.Conv2d(in_channels=64, out_channels=128, kernel_size=(3, 3), padding=1, bias=False), #Rf = , j = 1\n",
        "            nn.ReLU(),\n",
        "            nn.BatchNorm2d(128),\n",
        "            nn.Dropout(p=0.15),\n",
        "\n",
        "            nn.Conv2d(in_channels=128, out_channels=256, kernel_size=(3, 3), padding=1, bias=False), #Rf = 9, , j = 1\n",
        "            nn.ReLU(),\n",
        "            nn.BatchNorm2d(256),\n",
        "            nn.Dropout(p=0.15),\n",
        "            \n",
        "            )\n",
        "        self.convblock2 = nn.Sequential(\n",
        "           nn.Conv2d(in_channels=256, out_channels=64, kernel_size=(3, 3), padding=1,dilation=2, bias=False), #jin=jout=2, kernel_size = 5, rf = 10+(4)*2 = 18\n",
        "            nn.ReLU(),\n",
        "            nn.BatchNorm2d(64),\n",
        "            nn.Dropout(p=0.15),\n",
        "\n",
        "            nn.Conv2d(in_channels=64, out_channels=128, kernel_size=(3, 3), padding=1,dilation=2, bias=False), #jin=jout=2, kernel_size = 5, rf = 18+(2)*2 = 22\n",
        "            nn.ReLU(),\n",
        "            nn.BatchNorm2d(128),\n",
        "            nn.Dropout(p=0.15),\n",
        "\n",
        "            \n",
        "            )\n",
        "\n",
        "        self.convblock3 = nn.Sequential(\n",
        "            nn.Conv2d(in_channels=128, out_channels=16, kernel_size=(3, 3), padding=1, bias=False), #jin = jout = 4, rf = 32+(2)*4 = 40\n",
        "            nn.ReLU(),\n",
        "            nn.BatchNorm2d(16),\n",
        "            nn.Dropout(p=0.15),\n",
        "\n",
        "            nn.Conv2d(in_channels=16, out_channels=32, kernel_size=(3, 3), padding=1,groups=16, bias=False), #jin = jout = 4, rf = 40+(2)*4 = 48\n",
        "            nn.ReLU(),\n",
        "            nn.BatchNorm2d(32),\n",
        "            nn.Dropout(p=0.15),\n",
        "\n",
        "            nn.Conv2d(in_channels=32, out_channels=64, kernel_size=(3, 3), padding=1,groups=32, bias=False),#jin = jout = 4, rf = 48+(2)*4 = 56\n",
        "            nn.ReLU(),\n",
        "            nn.BatchNorm2d(64),\n",
        "            nn.Dropout(p=0.15),\n",
        "\n",
        "            nn.Conv2d(in_channels=64, out_channels=128, kernel_size=(3, 3), padding=1,groups=64, bias=False), #jin = jout = 4, rf = 56+(2)*4 = 64\n",
        "            nn.ReLU(),\n",
        "            nn.BatchNorm2d(128),\n",
        "            nn.Dropout(p=0.15),\n",
        "            \n",
        "            )\n",
        "        self.convblock4 = nn.Sequential(\n",
        "          nn.Conv2d(in_channels=128, out_channels=16, kernel_size=(3, 3), padding=1, bias=False), #jin = jout = 8, rf = 68+(2)*8 = 84\n",
        "            nn.ReLU(),\n",
        "            nn.BatchNorm2d(16),\n",
        "            nn.Dropout(p=0.15),\n",
        "\n",
        "            nn.Conv2d(in_channels=16, out_channels=32, kernel_size=(3, 3), padding=1, bias=False), #jin = jout = 8, rf = 84+(2)*8 = 100\n",
        "            nn.ReLU(),\n",
        "            nn.BatchNorm2d(32),\n",
        "            nn.Dropout(p=0.15),\n",
        "\n",
        "            nn.Conv2d(in_channels=32, out_channels=64, kernel_size=(3, 3), padding=1, bias=False), #jin = jout = 8, rf = 100+(2)*8 = 116\n",
        "            nn.ReLU(),\n",
        "            nn.BatchNorm2d(64),\n",
        "            nn.Dropout(p=0.15),\n",
        "\n",
        "            nn.Conv2d(in_channels=64, out_channels=128, kernel_size=(3, 3), padding=1, bias=False), #jin = jout = 8, rf = 116+(2)*8 = 132\n",
        "            nn.ReLU(),\n",
        "            nn.BatchNorm2d(128),\n",
        "            nn.Dropout(p=0.15), # i/p= 28 o/p=26 r=3\n",
        "\n",
        "            nn.AdaptiveAvgPool2d(1),\n",
        "\n",
        "\n",
        "\n",
        "            nn.Conv2d(in_channels=128, out_channels=10, kernel_size=(1, 1), padding=0, bias=False)#Op_size = 1, \n",
        "            \n",
        "\n",
        "            \n",
        "            )\n",
        "\n",
        "        self.pool = nn.MaxPool2d(2, 2)\n",
        "\n",
        "        self.gap = nn.AdaptiveAvgPool2d(4)\n",
        "\n",
        "        self.fc1 = nn.Linear(16 * 5 * 5, 120)\n",
        "        self.fc2 = nn.Linear(120, 84)\n",
        "        self.fc3 = nn.Linear(1, 256)\n",
        "\n",
        "    def forward(self, x):\n",
        "\n",
        "        x = self.convblock1(x) # i/p= 32 o/p=32 Rf = 9\n",
        "        x = self.pool(x) # jin = 1, Rf = 10 j out= 2\n",
        "        x = self.convblock2(x) # Rf = 30 jout = 2, \n",
        "        x = self.pool(x) # jout = 4, s =2, Rf = 30+1*2 = 32\n",
        "        x = self.convblock3(x) # jin = 4, s = 2 , jout = 8, Rf = 64+1*4 = 68\n",
        "        x = self.pool(x) # 4\n",
        "        x = self.convblock4(x)  # 4\n",
        "     \n",
        "        x = x.view(-1, 10)\n",
        "      \n",
        "        return x\n",
        "\n",
        "\n",
        "# net = Net()"
      ],
      "execution_count": null,
      "outputs": []
    },
    {
      "cell_type": "code",
      "metadata": {
        "id": "c8xmU33aqgJX",
        "colab": {
          "base_uri": "https://localhost:8080/"
        },
        "outputId": "85dea6c4-10b1-4749-f0bf-b08ee4f1cf1d"
      },
      "source": [
        "!pip install torchsummary\n",
        "from torchsummary import summary\n",
        "use_cuda = torch.cuda.is_available()\n",
        "device = torch.device(\"cuda\" if use_cuda else \"cpu\")\n",
        "print(device)\n",
        "net = Net().to(device)\n",
        "summary(net, input_size=(3, 32, 32))"
      ],
      "execution_count": null,
      "outputs": [
        {
          "output_type": "stream",
          "name": "stdout",
          "text": [
            "Requirement already satisfied: torchsummary in /usr/local/lib/python3.7/dist-packages (1.5.1)\n",
            "cuda\n",
            "----------------------------------------------------------------\n",
            "        Layer (type)               Output Shape         Param #\n",
            "================================================================\n",
            "            Conv2d-1           [-1, 16, 32, 32]             432\n",
            "              ReLU-2           [-1, 16, 32, 32]               0\n",
            "       BatchNorm2d-3           [-1, 16, 32, 32]              32\n",
            "           Dropout-4           [-1, 16, 32, 32]               0\n",
            "            Conv2d-5           [-1, 32, 32, 32]           4,608\n",
            "              ReLU-6           [-1, 32, 32, 32]               0\n",
            "       BatchNorm2d-7           [-1, 32, 32, 32]              64\n",
            "           Dropout-8           [-1, 32, 32, 32]               0\n",
            "            Conv2d-9           [-1, 64, 32, 32]          18,432\n",
            "             ReLU-10           [-1, 64, 32, 32]               0\n",
            "      BatchNorm2d-11           [-1, 64, 32, 32]             128\n",
            "          Dropout-12           [-1, 64, 32, 32]               0\n",
            "           Conv2d-13          [-1, 128, 32, 32]          73,728\n",
            "             ReLU-14          [-1, 128, 32, 32]               0\n",
            "      BatchNorm2d-15          [-1, 128, 32, 32]             256\n",
            "          Dropout-16          [-1, 128, 32, 32]               0\n",
            "           Conv2d-17          [-1, 256, 32, 32]         294,912\n",
            "             ReLU-18          [-1, 256, 32, 32]               0\n",
            "      BatchNorm2d-19          [-1, 256, 32, 32]             512\n",
            "          Dropout-20          [-1, 256, 32, 32]               0\n",
            "        MaxPool2d-21          [-1, 256, 16, 16]               0\n",
            "           Conv2d-22           [-1, 64, 14, 14]         147,456\n",
            "             ReLU-23           [-1, 64, 14, 14]               0\n",
            "      BatchNorm2d-24           [-1, 64, 14, 14]             128\n",
            "          Dropout-25           [-1, 64, 14, 14]               0\n",
            "           Conv2d-26          [-1, 128, 12, 12]          73,728\n",
            "             ReLU-27          [-1, 128, 12, 12]               0\n",
            "      BatchNorm2d-28          [-1, 128, 12, 12]             256\n",
            "          Dropout-29          [-1, 128, 12, 12]               0\n",
            "        MaxPool2d-30            [-1, 128, 6, 6]               0\n",
            "           Conv2d-31             [-1, 16, 6, 6]          18,432\n",
            "             ReLU-32             [-1, 16, 6, 6]               0\n",
            "      BatchNorm2d-33             [-1, 16, 6, 6]              32\n",
            "          Dropout-34             [-1, 16, 6, 6]               0\n",
            "           Conv2d-35             [-1, 32, 6, 6]             288\n",
            "             ReLU-36             [-1, 32, 6, 6]               0\n",
            "      BatchNorm2d-37             [-1, 32, 6, 6]              64\n",
            "          Dropout-38             [-1, 32, 6, 6]               0\n",
            "           Conv2d-39             [-1, 64, 6, 6]             576\n",
            "             ReLU-40             [-1, 64, 6, 6]               0\n",
            "      BatchNorm2d-41             [-1, 64, 6, 6]             128\n",
            "          Dropout-42             [-1, 64, 6, 6]               0\n",
            "           Conv2d-43            [-1, 128, 6, 6]           1,152\n",
            "             ReLU-44            [-1, 128, 6, 6]               0\n",
            "      BatchNorm2d-45            [-1, 128, 6, 6]             256\n",
            "          Dropout-46            [-1, 128, 6, 6]               0\n",
            "        MaxPool2d-47            [-1, 128, 3, 3]               0\n",
            "           Conv2d-48             [-1, 16, 3, 3]          18,432\n",
            "             ReLU-49             [-1, 16, 3, 3]               0\n",
            "      BatchNorm2d-50             [-1, 16, 3, 3]              32\n",
            "          Dropout-51             [-1, 16, 3, 3]               0\n",
            "           Conv2d-52             [-1, 32, 3, 3]           4,608\n",
            "             ReLU-53             [-1, 32, 3, 3]               0\n",
            "      BatchNorm2d-54             [-1, 32, 3, 3]              64\n",
            "          Dropout-55             [-1, 32, 3, 3]               0\n",
            "           Conv2d-56             [-1, 64, 3, 3]          18,432\n",
            "             ReLU-57             [-1, 64, 3, 3]               0\n",
            "      BatchNorm2d-58             [-1, 64, 3, 3]             128\n",
            "          Dropout-59             [-1, 64, 3, 3]               0\n",
            "           Conv2d-60            [-1, 128, 3, 3]          73,728\n",
            "             ReLU-61            [-1, 128, 3, 3]               0\n",
            "      BatchNorm2d-62            [-1, 128, 3, 3]             256\n",
            "          Dropout-63            [-1, 128, 3, 3]               0\n",
            "AdaptiveAvgPool2d-64            [-1, 128, 1, 1]               0\n",
            "           Conv2d-65             [-1, 10, 1, 1]           1,280\n",
            "================================================================\n",
            "Total params: 752,560\n",
            "Trainable params: 752,560\n",
            "Non-trainable params: 0\n",
            "----------------------------------------------------------------\n",
            "Input size (MB): 0.01\n",
            "Forward/backward pass size (MB): 17.32\n",
            "Params size (MB): 2.87\n",
            "Estimated Total Size (MB): 20.20\n",
            "----------------------------------------------------------------\n"
          ]
        }
      ]
    },
    {
      "cell_type": "markdown",
      "metadata": {
        "id": "Wdw2NNCUpoCu"
      },
      "source": [
        "3. Define a Loss function and optimizer\n",
        "^^^^^^^^^^^^^^^^^^^^^^^^^^^^^^^^^^^^^^^\n",
        "Let's use a Classification Cross-Entropy loss and SGD with momentum.\n",
        "\n"
      ]
    },
    {
      "cell_type": "code",
      "metadata": {
        "id": "M4xBbDROpoCv"
      },
      "source": [
        "import torch.optim as optim\n",
        "\n",
        "criterion = nn.CrossEntropyLoss()\n",
        "optimizer = optim.SGD(net.parameters(), lr=0.001, momentum=0.9)"
      ],
      "execution_count": null,
      "outputs": []
    },
    {
      "cell_type": "markdown",
      "metadata": {
        "id": "O-odOrhdpoC2"
      },
      "source": [
        "4. Train the network\n",
        "^^^^^^^^^^^^^^^^^^^^\n",
        "\n",
        "This is when things start to get interesting.\n",
        "We simply have to loop over our data iterator, and feed the inputs to the\n",
        "network and optimize.\n",
        "\n"
      ]
    },
    {
      "cell_type": "code",
      "metadata": {
        "id": "8GrBJsTG7wDy",
        "colab": {
          "base_uri": "https://localhost:8080/"
        },
        "outputId": "84ee87a9-84d4-445f-a181-bfa01779fb1a"
      },
      "source": [
        "minibatches = int(len(trainset)/Batch_size)\n",
        "minibatches\n"
      ],
      "execution_count": null,
      "outputs": [
        {
          "output_type": "execute_result",
          "data": {
            "text/plain": [
              "390"
            ]
          },
          "metadata": {},
          "execution_count": 14
        }
      ]
    },
    {
      "cell_type": "code",
      "metadata": {
        "id": "kkuRfo1IpoC3",
        "colab": {
          "base_uri": "https://localhost:8080/"
        },
        "outputId": "d8ee7726-1eb7-46db-e202-34b405bfc4d4"
      },
      "source": [
        "for epoch in range(40):  # loop over the dataset multiple times\n",
        "\n",
        "    running_loss = 0.0\n",
        "    correct = 0\n",
        "    processed = 0\n",
        "    for i, data in enumerate(trainloader, 0):\n",
        "        # get the inputs\n",
        "        inputs, labels = data\n",
        "        inputs,labels = inputs.to(device), labels.to(device)\n",
        "\n",
        "        # zero the parameter gradients\n",
        "        optimizer.zero_grad()\n",
        "\n",
        "        # forward + backward + optimize\n",
        "        outputs = net(inputs)\n",
        "        loss = criterion(outputs, labels) # CrossEntropyLoss\n",
        "        loss.backward()\n",
        "        optimizer.step() # SGD\n",
        "\n",
        "        # print statistics\n",
        "        running_loss += loss.item()\n",
        "\n",
        "        pred = outputs.argmax(dim=1, keepdim=True)  # get the index of the max log-probability\n",
        "        correct += pred.eq(labels.view_as(pred)).sum().item()\n",
        "        processed += len(inputs)\n",
        "\n",
        "        if i == minibatches:    # print every  mini-batches\n",
        "            print('[%d, %5d] loss: %.3f Acc: %.3f' %(epoch + 1, i + 1, running_loss / 2000,100*correct/processed ))\n",
        "            running_loss = 0.0\n",
        "\n",
        "\n",
        "            outputs = net(images.to(device))\n",
        "            _, predicted = torch.max(outputs, 1)\n",
        "\n",
        "            #print('Predicted: ', ' '.join('%5s' % classes[predicted[j]]for j in range(4)))\n",
        "            correct = 0\n",
        "            total = 0\n",
        "            with torch.no_grad():\n",
        "                for data in testloader:\n",
        "                    images, labels = data\n",
        "                    images, labels = images.to(device), labels.to(device)\n",
        "                    outputs = net(images)\n",
        "                    _, predicted = torch.max(outputs.data, 1)\n",
        "                    total += labels.size(0)\n",
        "                    correct += (predicted == labels).sum().item()\n",
        "\n",
        "            print('Accuracy of the network on the 10000 test images: %.3f %%' % (\n",
        "                100 * correct / total))\n"
      ],
      "execution_count": null,
      "outputs": [
        {
          "metadata": {
            "tags": null
          },
          "name": "stderr",
          "output_type": "stream",
          "text": [
            "/usr/local/lib/python3.7/dist-packages/torch/utils/data/dataloader.py:481: UserWarning: This DataLoader will create 4 worker processes in total. Our suggested max number of worker in current system is 2, which is smaller than what this DataLoader is going to create. Please be aware that excessive worker creation might get DataLoader running slow or even freeze, lower the worker number to avoid potential slowness/freeze if necessary.\n",
            "  cpuset_checked))\n"
          ]
        },
        {
          "output_type": "stream",
          "name": "stdout",
          "text": [
            "[1,   391] loss: 0.367 Acc: 29.176\n",
            "Accuracy of the network on the 10000 test images: 39.130 %\n",
            "[2,   391] loss: 0.290 Acc: 44.934\n",
            "Accuracy of the network on the 10000 test images: 51.070 %\n",
            "[3,   391] loss: 0.248 Acc: 54.028\n",
            "Accuracy of the network on the 10000 test images: 56.090 %\n",
            "[4,   391] loss: 0.220 Acc: 59.744\n",
            "Accuracy of the network on the 10000 test images: 60.930 %\n",
            "[5,   391] loss: 0.200 Acc: 63.390\n",
            "Accuracy of the network on the 10000 test images: 64.350 %\n",
            "[6,   391] loss: 0.185 Acc: 66.082\n",
            "Accuracy of the network on the 10000 test images: 66.210 %\n",
            "[7,   391] loss: 0.174 Acc: 68.702\n",
            "Accuracy of the network on the 10000 test images: 68.660 %\n",
            "[8,   391] loss: 0.162 Acc: 70.698\n",
            "Accuracy of the network on the 10000 test images: 69.610 %\n",
            "[9,   391] loss: 0.153 Acc: 72.748\n",
            "Accuracy of the network on the 10000 test images: 71.970 %\n",
            "[10,   391] loss: 0.146 Acc: 73.984\n",
            "Accuracy of the network on the 10000 test images: 73.220 %\n",
            "[11,   391] loss: 0.140 Acc: 75.368\n",
            "Accuracy of the network on the 10000 test images: 73.280 %\n",
            "[12,   391] loss: 0.133 Acc: 76.538\n",
            "Accuracy of the network on the 10000 test images: 74.630 %\n",
            "[13,   391] loss: 0.129 Acc: 77.408\n",
            "Accuracy of the network on the 10000 test images: 75.150 %\n",
            "[14,   391] loss: 0.123 Acc: 78.310\n",
            "Accuracy of the network on the 10000 test images: 75.340 %\n",
            "[15,   391] loss: 0.118 Acc: 79.388\n",
            "Accuracy of the network on the 10000 test images: 75.560 %\n",
            "[16,   391] loss: 0.115 Acc: 79.664\n",
            "Accuracy of the network on the 10000 test images: 76.110 %\n",
            "[17,   391] loss: 0.111 Acc: 80.584\n",
            "Accuracy of the network on the 10000 test images: 77.560 %\n",
            "[18,   391] loss: 0.108 Acc: 81.354\n",
            "Accuracy of the network on the 10000 test images: 77.510 %\n",
            "[19,   391] loss: 0.104 Acc: 81.858\n",
            "Accuracy of the network on the 10000 test images: 77.870 %\n",
            "[20,   391] loss: 0.102 Acc: 82.136\n",
            "Accuracy of the network on the 10000 test images: 78.350 %\n",
            "[21,   391] loss: 0.098 Acc: 82.844\n",
            "Accuracy of the network on the 10000 test images: 78.820 %\n",
            "[22,   391] loss: 0.096 Acc: 83.312\n",
            "Accuracy of the network on the 10000 test images: 78.770 %\n",
            "[23,   391] loss: 0.092 Acc: 84.050\n",
            "Accuracy of the network on the 10000 test images: 79.090 %\n",
            "[24,   391] loss: 0.091 Acc: 84.274\n",
            "Accuracy of the network on the 10000 test images: 79.060 %\n",
            "[25,   391] loss: 0.088 Acc: 84.700\n",
            "Accuracy of the network on the 10000 test images: 79.630 %\n",
            "[26,   391] loss: 0.085 Acc: 85.086\n",
            "Accuracy of the network on the 10000 test images: 79.540 %\n",
            "[27,   391] loss: 0.084 Acc: 85.224\n",
            "Accuracy of the network on the 10000 test images: 80.120 %\n",
            "[28,   391] loss: 0.081 Acc: 85.742\n",
            "Accuracy of the network on the 10000 test images: 80.500 %\n",
            "[29,   391] loss: 0.079 Acc: 86.368\n",
            "Accuracy of the network on the 10000 test images: 79.980 %\n",
            "[30,   391] loss: 0.077 Acc: 86.486\n",
            "Accuracy of the network on the 10000 test images: 80.440 %\n",
            "[31,   391] loss: 0.075 Acc: 86.882\n",
            "Accuracy of the network on the 10000 test images: 81.010 %\n",
            "[32,   391] loss: 0.074 Acc: 87.160\n",
            "Accuracy of the network on the 10000 test images: 80.540 %\n",
            "[33,   391] loss: 0.071 Acc: 87.640\n",
            "Accuracy of the network on the 10000 test images: 81.120 %\n",
            "[34,   391] loss: 0.071 Acc: 87.478\n",
            "Accuracy of the network on the 10000 test images: 80.900 %\n",
            "[35,   391] loss: 0.068 Acc: 88.088\n",
            "Accuracy of the network on the 10000 test images: 81.100 %\n",
            "[36,   391] loss: 0.068 Acc: 88.132\n",
            "Accuracy of the network on the 10000 test images: 81.270 %\n",
            "[37,   391] loss: 0.065 Acc: 88.544\n",
            "Accuracy of the network on the 10000 test images: 81.390 %\n",
            "[38,   391] loss: 0.065 Acc: 88.770\n",
            "Accuracy of the network on the 10000 test images: 81.760 %\n",
            "[39,   391] loss: 0.064 Acc: 88.754\n",
            "Accuracy of the network on the 10000 test images: 81.350 %\n",
            "[40,   391] loss: 0.062 Acc: 89.210\n",
            "Accuracy of the network on the 10000 test images: 81.720 %\n"
          ]
        }
      ]
    },
    {
      "cell_type": "markdown",
      "metadata": {
        "id": "YLrvL_fHpoC5"
      },
      "source": [
        "5. Test the network on the test data\n",
        "^^^^^^^^^^^^^^^^^^^^^^^^^^^^^^^^^^^^\n",
        "\n",
        "We have trained the network for 2 passes over the training dataset.\n",
        "But we need to check if the network has learnt anything at all.\n",
        "\n",
        "We will check this by predicting the class label that the neural network\n",
        "outputs, and checking it against the ground-truth. If the prediction is\n",
        "correct, we add the sample to the list of correct predictions.\n",
        "\n",
        "Okay, first step. Let us display an image from the test set to get familiar.\n",
        "\n"
      ]
    },
    {
      "cell_type": "code",
      "metadata": {
        "id": "soXz-NA_l5dS",
        "colab": {
          "base_uri": "https://localhost:8080/"
        },
        "outputId": "563e2296-ed4c-49a4-c350-e1055ee50004"
      },
      "source": [
        "for epoch in range(40,50):  # loop over the dataset multiple times\n",
        "\n",
        "    running_loss = 0.0\n",
        "    correct = 0\n",
        "    processed = 0\n",
        "    for i, data in enumerate(trainloader, 0):\n",
        "        # get the inputs\n",
        "        inputs, labels = data\n",
        "        inputs,labels = inputs.to(device), labels.to(device)\n",
        "\n",
        "        # zero the parameter gradients\n",
        "        optimizer.zero_grad()\n",
        "\n",
        "        # forward + backward + optimize\n",
        "        outputs = net(inputs)\n",
        "        loss = criterion(outputs, labels) # CrossEntropyLoss\n",
        "        loss.backward()\n",
        "        optimizer.step() # SGD\n",
        "\n",
        "        # print statistics\n",
        "        running_loss += loss.item()\n",
        "\n",
        "        pred = outputs.argmax(dim=1, keepdim=True)  # get the index of the max log-probability\n",
        "        correct += pred.eq(labels.view_as(pred)).sum().item()\n",
        "        processed += len(inputs)\n",
        "\n",
        "        if i == minibatches:    # print every  mini-batches\n",
        "            print('[%d, %5d] loss: %.3f Acc: %.3f' %(epoch + 1, i + 1, running_loss / 2000,100*correct/processed ))\n",
        "            running_loss = 0.0\n",
        "\n",
        "\n",
        "            outputs = net(images.to(device))\n",
        "            _, predicted = torch.max(outputs, 1)\n",
        "\n",
        "            #print('Predicted: ', ' '.join('%5s' % classes[predicted[j]]for j in range(4)))\n",
        "            correct = 0\n",
        "            total = 0\n",
        "            with torch.no_grad():\n",
        "                for data in testloader:\n",
        "                    images, labels = data\n",
        "                    images, labels = images.to(device), labels.to(device)\n",
        "                    outputs = net(images)\n",
        "                    _, predicted = torch.max(outputs.data, 1)\n",
        "                    total += labels.size(0)\n",
        "                    correct += (predicted == labels).sum().item()\n",
        "\n",
        "            print('Accuracy of the network on the 10000 test images: %.3f %%' % (\n",
        "                100 * correct / total))"
      ],
      "execution_count": null,
      "outputs": [
        {
          "output_type": "stream",
          "name": "stderr",
          "text": [
            "/usr/local/lib/python3.7/dist-packages/torch/utils/data/dataloader.py:481: UserWarning: This DataLoader will create 4 worker processes in total. Our suggested max number of worker in current system is 2, which is smaller than what this DataLoader is going to create. Please be aware that excessive worker creation might get DataLoader running slow or even freeze, lower the worker number to avoid potential slowness/freeze if necessary.\n",
            "  cpuset_checked))\n"
          ]
        },
        {
          "output_type": "stream",
          "name": "stdout",
          "text": [
            "[41,   391] loss: 0.060 Acc: 89.508\n",
            "Accuracy of the network on the 10000 test images: 81.470 %\n",
            "[42,   391] loss: 0.059 Acc: 89.664\n",
            "Accuracy of the network on the 10000 test images: 81.520 %\n"
          ]
        }
      ]
    },
    {
      "cell_type": "code",
      "metadata": {
        "id": "nizbsvw9poC6"
      },
      "source": [
        "dataiter = iter(testloader)\n",
        "images, labels = dataiter.next()\n",
        "# print images\n",
        "imshow(torchvision.utils.make_grid(images))\n",
        "print('GroundTruth: ', ' '.join('%5s' % classes[labels[j]] for j in range(4)))"
      ],
      "execution_count": null,
      "outputs": []
    },
    {
      "cell_type": "markdown",
      "metadata": {
        "id": "DAx4QPHVpoC8"
      },
      "source": [
        "Okay, now let us see what the neural network thinks these examples above are:\n",
        "\n"
      ]
    },
    {
      "cell_type": "code",
      "metadata": {
        "id": "HVLjlssWpoC9"
      },
      "source": [
        "\n",
        "outputs = net(images.to(device))"
      ],
      "execution_count": null,
      "outputs": []
    },
    {
      "cell_type": "markdown",
      "metadata": {
        "id": "u8OTHZEApoC_"
      },
      "source": [
        "The outputs are energies for the 10 classes.\n",
        "Higher the energy for a class, the more the network\n",
        "thinks that the image is of the particular class.\n",
        "So, let's get the index of the highest energy:\n",
        "\n"
      ]
    },
    {
      "cell_type": "code",
      "metadata": {
        "id": "ABRIDW3lpoDA"
      },
      "source": [
        "_, predicted = torch.max(outputs, 1)\n",
        "\n",
        "print('Predicted: ', ' '.join('%5s' % classes[predicted[j]]\n",
        "                              for j in range(4)))"
      ],
      "execution_count": null,
      "outputs": []
    },
    {
      "cell_type": "markdown",
      "metadata": {
        "id": "2TV0TXL1poDC"
      },
      "source": [
        "The results seem pretty good.\n",
        "\n",
        "Let us look at how the network performs on the whole dataset.\n",
        "\n"
      ]
    },
    {
      "cell_type": "code",
      "metadata": {
        "id": "SZ4-5CESpoDD"
      },
      "source": [
        "correct = 0\n",
        "total = 0\n",
        "with torch.no_grad():\n",
        "    for data in testloader:\n",
        "        images, labels = data\n",
        "        images, labels = images.to(device), labels.to(device)\n",
        "        outputs = net(images)\n",
        "        _, predicted = torch.max(outputs.data, 1)\n",
        "        total += labels.size(0)\n",
        "        correct += (predicted == labels).sum().item()\n",
        "\n",
        "print('Accuracy of the network on the 10000 test images: %.3f %%' % (\n",
        "    100 * correct / total))"
      ],
      "execution_count": null,
      "outputs": []
    },
    {
      "cell_type": "markdown",
      "metadata": {
        "id": "eDdwPBl8poDF"
      },
      "source": [
        "That looks waaay better than chance, which is 10% accuracy (randomly picking\n",
        "a class out of 10 classes).\n",
        "Seems like the network learnt something.\n",
        "\n",
        "Hmmm, what are the classes that performed well, and the classes that did\n",
        "not perform well:\n",
        "\n"
      ]
    },
    {
      "cell_type": "code",
      "metadata": {
        "id": "pDNFuDEDpoDG"
      },
      "source": [
        "class_correct = list(0. for i in range(10))\n",
        "class_total = list(0. for i in range(10))\n",
        "with torch.no_grad():\n",
        "    for data in testloader:\n",
        "        images, labels = data\n",
        "        images, labels = images.to(device), labels.to(device)\n",
        "        outputs = net(images)\n",
        "        _, predicted = torch.max(outputs, 1)\n",
        "        c = (predicted == labels).squeeze()\n",
        "        for i in range(4):\n",
        "            label = labels[i]\n",
        "            class_correct[label] += c[i].item()\n",
        "            class_total[label] += 1\n",
        "\n",
        "\n",
        "for i in range(10):\n",
        "    print('Accuracy of %5s : %2d %%' % (\n",
        "        classes[i], 100 * class_correct[i] / class_total[i]))"
      ],
      "execution_count": null,
      "outputs": []
    },
    {
      "cell_type": "code",
      "metadata": {
        "id": "wLztDnaVIgFn"
      },
      "source": [
        ""
      ],
      "execution_count": null,
      "outputs": []
    }
  ]
}