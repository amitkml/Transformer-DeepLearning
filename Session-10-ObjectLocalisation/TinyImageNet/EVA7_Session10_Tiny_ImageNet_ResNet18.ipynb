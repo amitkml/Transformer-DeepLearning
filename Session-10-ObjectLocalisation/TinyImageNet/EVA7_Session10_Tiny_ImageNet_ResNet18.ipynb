{
  "nbformat": 4,
  "nbformat_minor": 0,
  "metadata": {
    "colab": {
      "name": "EVA7_Session10_Tiny_ImageNet_ResNet18.ipynb",
      "provenance": [],
      "collapsed_sections": []
    },
    "kernelspec": {
      "name": "python3",
      "display_name": "Python 3"
    },
    "language_info": {
      "name": "python"
    },
    "accelerator": "GPU"
  },
  "cells": [
    {
      "cell_type": "markdown",
      "metadata": {
        "id": "RGn7Ub-BAV7y"
      },
      "source": [
        "# Tiny ImageNet - Resnet-18"
      ]
    },
    {
      "cell_type": "code",
      "metadata": {
        "colab": {
          "base_uri": "https://localhost:8080/"
        },
        "id": "kPbnvuEBFvl7",
        "outputId": "1171106d-f12d-4c57-dbf6-223f69baba14"
      },
      "source": [
        "!pip install -U albumentations\n",
        "!pip install gitpython"
      ],
      "execution_count": 1,
      "outputs": [
        {
          "output_type": "stream",
          "name": "stdout",
          "text": [
            "Requirement already satisfied: albumentations in /usr/local/lib/python3.7/dist-packages (0.1.12)\n",
            "Collecting albumentations\n",
            "  Downloading albumentations-1.1.0-py3-none-any.whl (102 kB)\n",
            "\u001b[K     |████████████████████████████████| 102 kB 5.4 MB/s \n",
            "\u001b[?25hRequirement already satisfied: scipy in /usr/local/lib/python3.7/dist-packages (from albumentations) (1.4.1)\n",
            "Collecting qudida>=0.0.4\n",
            "  Downloading qudida-0.0.4-py3-none-any.whl (3.5 kB)\n",
            "Requirement already satisfied: PyYAML in /usr/local/lib/python3.7/dist-packages (from albumentations) (3.13)\n",
            "Requirement already satisfied: numpy>=1.11.1 in /usr/local/lib/python3.7/dist-packages (from albumentations) (1.19.5)\n",
            "Collecting opencv-python-headless>=4.1.1\n",
            "  Downloading opencv_python_headless-4.5.4.60-cp37-cp37m-manylinux_2_17_x86_64.manylinux2014_x86_64.whl (47.6 MB)\n",
            "\u001b[K     |████████████████████████████████| 47.6 MB 2.4 MB/s \n",
            "\u001b[?25hRequirement already satisfied: scikit-image>=0.16.1 in /usr/local/lib/python3.7/dist-packages (from albumentations) (0.18.3)\n",
            "Requirement already satisfied: typing-extensions in /usr/local/lib/python3.7/dist-packages (from qudida>=0.0.4->albumentations) (3.10.0.2)\n",
            "Requirement already satisfied: scikit-learn>=0.19.1 in /usr/local/lib/python3.7/dist-packages (from qudida>=0.0.4->albumentations) (1.0.1)\n",
            "Requirement already satisfied: tifffile>=2019.7.26 in /usr/local/lib/python3.7/dist-packages (from scikit-image>=0.16.1->albumentations) (2021.11.2)\n",
            "Requirement already satisfied: PyWavelets>=1.1.1 in /usr/local/lib/python3.7/dist-packages (from scikit-image>=0.16.1->albumentations) (1.2.0)\n",
            "Requirement already satisfied: matplotlib!=3.0.0,>=2.0.0 in /usr/local/lib/python3.7/dist-packages (from scikit-image>=0.16.1->albumentations) (3.2.2)\n",
            "Requirement already satisfied: imageio>=2.3.0 in /usr/local/lib/python3.7/dist-packages (from scikit-image>=0.16.1->albumentations) (2.4.1)\n",
            "Requirement already satisfied: pillow!=7.1.0,!=7.1.1,>=4.3.0 in /usr/local/lib/python3.7/dist-packages (from scikit-image>=0.16.1->albumentations) (7.1.2)\n",
            "Requirement already satisfied: networkx>=2.0 in /usr/local/lib/python3.7/dist-packages (from scikit-image>=0.16.1->albumentations) (2.6.3)\n",
            "Requirement already satisfied: python-dateutil>=2.1 in /usr/local/lib/python3.7/dist-packages (from matplotlib!=3.0.0,>=2.0.0->scikit-image>=0.16.1->albumentations) (2.8.2)\n",
            "Requirement already satisfied: pyparsing!=2.0.4,!=2.1.2,!=2.1.6,>=2.0.1 in /usr/local/lib/python3.7/dist-packages (from matplotlib!=3.0.0,>=2.0.0->scikit-image>=0.16.1->albumentations) (3.0.6)\n",
            "Requirement already satisfied: cycler>=0.10 in /usr/local/lib/python3.7/dist-packages (from matplotlib!=3.0.0,>=2.0.0->scikit-image>=0.16.1->albumentations) (0.11.0)\n",
            "Requirement already satisfied: kiwisolver>=1.0.1 in /usr/local/lib/python3.7/dist-packages (from matplotlib!=3.0.0,>=2.0.0->scikit-image>=0.16.1->albumentations) (1.3.2)\n",
            "Requirement already satisfied: six>=1.5 in /usr/local/lib/python3.7/dist-packages (from python-dateutil>=2.1->matplotlib!=3.0.0,>=2.0.0->scikit-image>=0.16.1->albumentations) (1.15.0)\n",
            "Requirement already satisfied: threadpoolctl>=2.0.0 in /usr/local/lib/python3.7/dist-packages (from scikit-learn>=0.19.1->qudida>=0.0.4->albumentations) (3.0.0)\n",
            "Requirement already satisfied: joblib>=0.11 in /usr/local/lib/python3.7/dist-packages (from scikit-learn>=0.19.1->qudida>=0.0.4->albumentations) (1.1.0)\n",
            "Installing collected packages: opencv-python-headless, qudida, albumentations\n",
            "  Attempting uninstall: albumentations\n",
            "    Found existing installation: albumentations 0.1.12\n",
            "    Uninstalling albumentations-0.1.12:\n",
            "      Successfully uninstalled albumentations-0.1.12\n",
            "Successfully installed albumentations-1.1.0 opencv-python-headless-4.5.4.60 qudida-0.0.4\n",
            "Collecting gitpython\n",
            "  Downloading GitPython-3.1.24-py3-none-any.whl (180 kB)\n",
            "\u001b[K     |████████████████████████████████| 180 kB 5.2 MB/s \n",
            "\u001b[?25hCollecting gitdb<5,>=4.0.1\n",
            "  Downloading gitdb-4.0.9-py3-none-any.whl (63 kB)\n",
            "\u001b[K     |████████████████████████████████| 63 kB 1.9 MB/s \n",
            "\u001b[?25hRequirement already satisfied: typing-extensions>=3.7.4.3 in /usr/local/lib/python3.7/dist-packages (from gitpython) (3.10.0.2)\n",
            "Collecting smmap<6,>=3.0.1\n",
            "  Downloading smmap-5.0.0-py3-none-any.whl (24 kB)\n",
            "Installing collected packages: smmap, gitdb, gitpython\n",
            "Successfully installed gitdb-4.0.9 gitpython-3.1.24 smmap-5.0.0\n"
          ]
        }
      ]
    },
    {
      "cell_type": "code",
      "metadata": {
        "id": "mv0Sgq5SaCip"
      },
      "source": [
        "import git\n",
        "import os\n",
        "import albumentations as A\n",
        "from albumentations.pytorch.transforms import ToTensorV2"
      ],
      "execution_count": 2,
      "outputs": []
    },
    {
      "cell_type": "code",
      "metadata": {
        "id": "QDxdh3L7Ao8d"
      },
      "source": [
        "os.chdir(\"/content/\")"
      ],
      "execution_count": 3,
      "outputs": []
    },
    {
      "cell_type": "code",
      "metadata": {
        "id": "UMAOLjQJ8uUb"
      },
      "source": [
        "if os.path.isdir(\"/content/Transformer-DeepLearning\"):\n",
        "  !rm -rf \"/content/Transformer-DeepLearning\""
      ],
      "execution_count": 4,
      "outputs": []
    },
    {
      "cell_type": "code",
      "metadata": {
        "colab": {
          "base_uri": "https://localhost:8080/"
        },
        "id": "TF6F3bRtZxHx",
        "outputId": "5fc36405-0aea-4e14-cded-da6c2087b3b0"
      },
      "source": [
        "!git clone https://github.com/amitkml/Transformer-DeepLearning "
      ],
      "execution_count": 5,
      "outputs": [
        {
          "output_type": "stream",
          "name": "stdout",
          "text": [
            "Cloning into 'Transformer-DeepLearning'...\n",
            "remote: Enumerating objects: 1015, done.\u001b[K\n",
            "remote: Counting objects: 100% (1015/1015), done.\u001b[K\n",
            "remote: Compressing objects: 100% (721/721), done.\u001b[K\n",
            "remote: Total 1015 (delta 609), reused 636 (delta 278), pack-reused 0\u001b[K\n",
            "Receiving objects: 100% (1015/1015), 25.75 MiB | 26.58 MiB/s, done.\n",
            "Resolving deltas: 100% (609/609), done.\n"
          ]
        }
      ]
    },
    {
      "cell_type": "code",
      "source": [
        ""
      ],
      "metadata": {
        "id": "yUwnizcQG_aY"
      },
      "execution_count": 5,
      "outputs": []
    },
    {
      "cell_type": "code",
      "metadata": {
        "id": "ksdOJAo7bfnE"
      },
      "source": [
        "os.chdir(\"/content/Transformer-DeepLearning/ConvModelAdvancedTraining\")\n",
        "# import resnet as resnet\n",
        "# import resnet_ln as resnet_ln\n",
        "import data_engine as data_engine\n",
        "import data_transforms as data_transforms\n",
        "import prepare_tiny_imagenet_200 as  prepare_tiny_imagenet_200"
      ],
      "execution_count": 6,
      "outputs": []
    },
    {
      "cell_type": "code",
      "source": [
        "os.chdir(\"/content/Transformer-DeepLearning/ConvModelAdvancedTraining/models\")\n",
        "# import resnet as resnet\n",
        "# import resnet_ln as resnet_ln\n",
        "import resnet_tiny_imagenet as resnet_tiny_imagenet"
      ],
      "metadata": {
        "id": "U6T8NLa48XhC"
      },
      "execution_count": 7,
      "outputs": []
    },
    {
      "cell_type": "code",
      "metadata": {
        "colab": {
          "base_uri": "https://localhost:8080/"
        },
        "id": "0kF2_I2PEtJo",
        "outputId": "cea92a2d-a04a-4809-d1a4-b3a21bf395ef"
      },
      "source": [
        "!pip install torchsummary\n",
        "from torchsummary import summary"
      ],
      "execution_count": 8,
      "outputs": [
        {
          "output_type": "stream",
          "name": "stdout",
          "text": [
            "Requirement already satisfied: torchsummary in /usr/local/lib/python3.7/dist-packages (1.5.1)\n"
          ]
        }
      ]
    },
    {
      "cell_type": "code",
      "metadata": {
        "id": "c-_FQCzycW9f"
      },
      "source": [
        "os.chdir(\"/content/Transformer-DeepLearning/ConvModelAdvancedTraining\")\n",
        "# %tb\n",
        "import utils as utils\n",
        "import main as model_main\n",
        "import lr_finder as lr_finder\n",
        "# import prepare_tiny_imagenet_200 as prepare_tiny_imagenet_200\n",
        "import config as config\n",
        "# import data_engine as dataEngine\n",
        "from results import plot_images, plot_graph\n",
        "# import gradcam.final_gradcam as final_gradcam"
      ],
      "execution_count": 9,
      "outputs": []
    },
    {
      "cell_type": "code",
      "source": [
        "os.chdir(\"/content/Transformer-DeepLearning/ConvModelAdvancedTraining/gradcam/\")\n",
        "import visualize as  VisualizeCam\n",
        "import final_gradcam as show_final_gradcam"
      ],
      "metadata": {
        "id": "H5i96XNu2Xh_"
      },
      "execution_count": 10,
      "outputs": []
    },
    {
      "cell_type": "code",
      "source": [
        "os.chdir(\"/content\")"
      ],
      "metadata": {
        "id": "fDwlVyz7B27A"
      },
      "execution_count": 11,
      "outputs": []
    },
    {
      "cell_type": "markdown",
      "source": [
        "### Download TinyImageNet"
      ],
      "metadata": {
        "id": "GjUVKeMG_NCY"
      }
    },
    {
      "cell_type": "markdown",
      "source": [
        "If done correctly, you should see the folders appear on the Colab sidebar:\n",
        "\n",
        "![im](https://miro.medium.com/max/700/1*ckWn4JtTd6kGw5k5d44tLQ.png)"
      ],
      "metadata": {
        "id": "uBxoLYURHPzh"
      }
    },
    {
      "cell_type": "code",
      "source": [
        "prepare_tiny_imagenet_200.download_dataset()\n",
        "prepare_tiny_imagenet_200.unzip_data()"
      ],
      "metadata": {
        "colab": {
          "base_uri": "https://localhost:8080/"
        },
        "id": "NyRO86cR_QCo",
        "outputId": "7845c85a-204a-4d11-877d-44e69b312e2f"
      },
      "execution_count": 12,
      "outputs": [
        {
          "output_type": "stream",
          "name": "stdout",
          "text": [
            "Beginning dataset download with urllib2\n",
            "Dataset downloaded\n",
            "Extracting zip file: /content/tiny-imagenet-200.zip\n",
            "Extracted at: /content\n"
          ]
        }
      ]
    },
    {
      "cell_type": "markdown",
      "source": [
        "**Organize validation data folder**\n",
        "\n",
        "You will notice that the training folder meets the structure needed for ImageLoader but the validation folder does not.\n",
        "\n",
        "The images in the validation folder are all saved within a single folder, so we need to reorganize them into sub-folders based on their labels.\n",
        "\n",
        "The validation folder contains a val_annotations.txt file which comprises six tab-separated columns: filename, class label, and details of the bounding box (x,y coordinates, height, width).\n",
        "\n",
        "![im](https://miro.medium.com/max/700/1*OhbJEgbizRCU0Em0X03eeA.png)"
      ],
      "metadata": {
        "id": "b6NnFo5ePXao"
      }
    },
    {
      "cell_type": "code",
      "source": [
        "# prepare_tiny_imagenet_200.split_train_test()\n",
        "prepare_tiny_imagenet_200.format_val()"
      ],
      "metadata": {
        "colab": {
          "base_uri": "https://localhost:8080/"
        },
        "id": "8Pci68dIMbE0",
        "outputId": "7c1bc165-72b2-4fad-f1cf-69a1ec3f011d"
      },
      "execution_count": 13,
      "outputs": [
        {
          "output_type": "stream",
          "name": "stdout",
          "text": [
            "Formatting: /content/tiny-imagenet-200/val\n",
            "Cleaning up: /content/tiny-imagenet-200/val/images\n",
            "Formatting val done\n"
          ]
        }
      ]
    },
    {
      "cell_type": "markdown",
      "source": [
        "### Model Configuration and Set Seed"
      ],
      "metadata": {
        "id": "ZhaJ1uv7Ze5H"
      }
    },
    {
      "cell_type": "code",
      "source": [
        "# View model config\n",
        "model_config_data = config.ModelConfig()\n",
        "model_config_data.print_config()\n",
        "# print()\n",
        "# Set seed\n",
        "utils.init_seed(model_config_data)"
      ],
      "metadata": {
        "colab": {
          "base_uri": "https://localhost:8080/"
        },
        "id": "753qM_fgZiDv",
        "outputId": "993e4162-c455-40cb-d023-d4694ab0a913"
      },
      "execution_count": 14,
      "outputs": [
        {
          "output_type": "stream",
          "name": "stdout",
          "text": [
            "Model Parameters:\n",
            "{ 'batch_size_cpu': 128,\n",
            "  'batch_size_cuda': 256,\n",
            "  'dropout': 0,\n",
            "  'epochs': 15,\n",
            "  'final_test_data_path': '/content/tiny-imagenet-200/new_val',\n",
            "  'l1_decay': 0,\n",
            "  'l2_decay': 0.005,\n",
            "  'lr': 0.001,\n",
            "  'momentum': 0.9,\n",
            "  'num_workers': 4,\n",
            "  'seed': 1,\n",
            "  'test_data_path': '/content/tiny-imagenet-200/val',\n",
            "  'train_data_path': '/content/tiny-imagenet-200/train'}\n",
            "CUDA Available\n"
          ]
        }
      ]
    },
    {
      "cell_type": "markdown",
      "source": [
        "### Data Loading and Visualization"
      ],
      "metadata": {
        "id": "CBqfIspz4JQJ"
      }
    },
    {
      "cell_type": "code",
      "source": [
        "# from data.data_transforms import albumentations_transforms, torch_transforms\n",
        "# from utils import has_cuda, imshow, unnormalize\n",
        "import torch.nn as nn\n",
        "import torch.nn.init as init\n",
        "import matplotlib.pyplot as plt\n",
        "import seaborn as sns\n",
        "import numpy as np\n",
        "import os\n",
        "import torch\n",
        "import torchvision\n",
        "\n",
        "# class TinyDataEngine(object):\n",
        "\n",
        "# \tclasses = [\"%s\" % i for i in range(200)]\n",
        "\n",
        "# \tdef __init__(self, args):\n",
        "# \t\tsuper(TinyDataEngine, self).__init__()\n",
        "# \t\tself.batch_size_cuda = args.batch_size_cuda\n",
        "# \t\tself.batch_size_cpu = args.batch_size_cpu\n",
        "# \t\tself.num_workers = args.num_workers\n",
        "# \t\tself.train_data_path = args.train_data_path\n",
        "# \t\tself.test_data_path = args.test_data_path\n",
        "# \t\tself.load()\n",
        "\n",
        "# \tdef _transforms(self):\n",
        "# \t\t# Data Transformations\n",
        "# \t\ttrain_transform = albumentations_transforms(p=1.0, is_train=True)\n",
        "# \t\ttest_transform = albumentations_transforms(p=1.0, is_train=False)\n",
        "# \t\treturn train_transform, test_transform\n",
        "\n",
        "# \tdef _dataset(self):\n",
        "# \t\t# Get data transforms\n",
        "# \t\ttrain_transform, test_transform = self._transforms()\n",
        "\n",
        "# \t\t# Dataset and Creating Train/Test Split\n",
        "# \t\ttrain_set = torchvision.datasets.ImageFolder(root=self.train_data_path,\n",
        "# \t\t\ttransform=train_transform)\n",
        "# \t\ttest_set = torchvision.datasets.ImageFolder(root=self.test_data_path,\n",
        "# \t\t\ttransform=test_transform)\n",
        "# \t\treturn train_set, test_set\n",
        "\n",
        "# \tdef load(self):\n",
        "# \t\t# Get Train and Test Data\n",
        "# \t\ttrain_set, test_set = self._dataset()\n",
        "\n",
        "# \t\t# Dataloader Arguments & Test/Train Dataloaders\n",
        "# \t\tdataloader_args = dict(\n",
        "# \t\t\tshuffle= True,\n",
        "# \t\t\tbatch_size= self.batch_size_cpu)\n",
        "# \t\tif has_cuda():\n",
        "# \t\t\tdataloader_args.update(\n",
        "# \t\t\t\tbatch_size= self.batch_size_cuda,\n",
        "# \t\t\t\tnum_workers= self.num_workers,\n",
        "# \t\t\t\tpin_memory= True)\n",
        "\n",
        "# \t\tself.train_loader = torch.utils.data.DataLoader(train_set, **dataloader_args)\n",
        "# \t\tself.test_loader = torch.utils.data.DataLoader(test_set, **dataloader_args)\n",
        "\n",
        "# \tdef show_samples(self):\n",
        "# \t\t# get some random training images\n",
        "# \t\tdataiter = iter(self.train_loader)\n",
        "# \t\timages, labels = dataiter.next()\n",
        "# \t\tindex = []\n",
        "# \t\tnum_img = min(len(self.classes), 10)\n",
        "# \t\tfor i in range(num_img):\n",
        "# \t\t\tfor j in range(len(labels)):\n",
        "# \t\t\t\tif labels[j] == i:\n",
        "# \t\t\t\t\tindex.append(j)\n",
        "# \t\t\t\t\tbreak\n",
        "# \t\tif len(index) < num_img:\n",
        "# \t\t\tfor j in range(len(labels)):\n",
        "# \t\t\t\tif len(index) == num_img:\n",
        "# \t\t\t\t\tbreak\n",
        "# \t\t\t\tif j not in index:\n",
        "# \t\t\t\t\tindex.append(j)\n",
        "# \t\timshow_detais(torchvision.utils.make_grid(images[index],\n",
        "# \t\t\t\tnrow=num_img, scale_each=True), \"Sample train data\")"
      ],
      "metadata": {
        "id": "km8DJ3QsHChY"
      },
      "execution_count": 15,
      "outputs": []
    },
    {
      "cell_type": "code",
      "source": [
        "# def imshow_detais(img, title, numpy_conversion=True):\n",
        "# \timg = unnormalize(img)\n",
        "# \tnpimg = img.numpy()\n",
        "# \tfig = plt.figure(figsize=(15,7))\n",
        "# \tplt.imshow(np.transpose(img, (1, 2, 0)))\n",
        "# \tplt.title(title)"
      ],
      "metadata": {
        "id": "OTSLcdjvHxyb"
      },
      "execution_count": 16,
      "outputs": []
    },
    {
      "cell_type": "code",
      "source": [
        "data = data_engine.DataEngine(model_config_data)"
      ],
      "metadata": {
        "colab": {
          "base_uri": "https://localhost:8080/"
        },
        "id": "bRsj8bZIHO_j",
        "outputId": "8f4faefa-2baa-409d-c9bb-ed1e94c69a13"
      },
      "execution_count": 17,
      "outputs": [
        {
          "output_type": "stream",
          "name": "stderr",
          "text": [
            "/usr/local/lib/python3.7/dist-packages/torch/utils/data/dataloader.py:481: UserWarning: This DataLoader will create 4 worker processes in total. Our suggested max number of worker in current system is 2, which is smaller than what this DataLoader is going to create. Please be aware that excessive worker creation might get DataLoader running slow or even freeze, lower the worker number to avoid potential slowness/freeze if necessary.\n",
            "  cpuset_checked))\n"
          ]
        }
      ]
    },
    {
      "cell_type": "code",
      "source": [
        "# dataiter = iter(data.train_loader)\n",
        "# images, labels = dataiter.next()"
      ],
      "metadata": {
        "id": "-I9yx-sgIcun"
      },
      "execution_count": 18,
      "outputs": []
    },
    {
      "cell_type": "code",
      "source": [
        "# type(img)"
      ],
      "metadata": {
        "id": "S7Xo00CQJowj"
      },
      "execution_count": 19,
      "outputs": []
    },
    {
      "cell_type": "code",
      "source": [
        "# # images[0]\n",
        "# img = unnormalize(images[0])\n",
        "# plt.imshow(np.transpose(img, (1, 2, 0)))\n",
        "# plt.title(title)"
      ],
      "metadata": {
        "id": "nVjDQGRvIqTO"
      },
      "execution_count": 20,
      "outputs": []
    },
    {
      "cell_type": "code",
      "source": [
        "# data = data_engine.DataEngine(model_config_data)\n",
        "# data.show_samples()"
      ],
      "metadata": {
        "id": "nTUDfmkM4KgT"
      },
      "execution_count": 21,
      "outputs": []
    },
    {
      "cell_type": "markdown",
      "metadata": {
        "id": "psxyXRDbOlBB"
      },
      "source": [
        "### LR finder"
      ]
    },
    {
      "cell_type": "code",
      "metadata": {
        "id": "QjmEegDYmZaE",
        "colab": {
          "base_uri": "https://localhost:8080/"
        },
        "outputId": "a11f197d-1ac0-43f4-d5e5-619a59f92fba"
      },
      "source": [
        "%tb\n",
        "# max_lr = lr_finder.lr_finder_ls()"
      ],
      "execution_count": 22,
      "outputs": [
        {
          "output_type": "stream",
          "name": "stderr",
          "text": [
            "No traceback available to show.\n"
          ]
        }
      ]
    },
    {
      "cell_type": "code",
      "metadata": {
        "id": "Y0po6z2p_Hp4"
      },
      "source": [
        "# start_lr = 1e-3\n",
        "# print(f\"Max LR forund from LR Finder:{start_lr}\")\n",
        "# max_lr = max_lr[-1]/10\n"
      ],
      "execution_count": 23,
      "outputs": []
    },
    {
      "cell_type": "code",
      "metadata": {
        "id": "pn6tqMdFEo40"
      },
      "source": [
        "start_lr = 1e-3\n",
        "# max_lr = 0.0172685370741483 (Working with 87%)\n",
        "max_lr = 0.272685370741483  # 0.009746555323590814"
      ],
      "execution_count": 24,
      "outputs": []
    },
    {
      "cell_type": "markdown",
      "metadata": {
        "id": "eCJ_UVz0tLeX"
      },
      "source": [
        "### Visualize Network Architecture\n"
      ]
    },
    {
      "cell_type": "code",
      "metadata": {
        "id": "ez3SKaeawf2Y"
      },
      "source": [
        "import torch\n",
        "import torch.backends.cudnn as cudnn\n",
        "import torch.nn as nn\n",
        "import torch.nn.functional as F\n",
        "import torch.optim as optim\n",
        "import torchvision\n",
        "import torchvision.transforms as transforms"
      ],
      "execution_count": 25,
      "outputs": []
    },
    {
      "cell_type": "code",
      "metadata": {
        "id": "t7CYIHAGtawQ"
      },
      "source": [
        "use_cuda = torch.cuda.is_available()\n",
        "device = torch.device(\"cuda\" if use_cuda else \"cpu\")"
      ],
      "execution_count": 26,
      "outputs": []
    },
    {
      "cell_type": "code",
      "metadata": {
        "colab": {
          "base_uri": "https://localhost:8080/"
        },
        "id": "JXVC0PCQtSdI",
        "outputId": "d5a63813-a51d-4f0f-f754-c30f8e8cc785"
      },
      "source": [
        "# my_model = model_main.get_model(type = \"resnet18\")\n",
        "device = utils.which_device()\n",
        "model = resnet_tiny_imagenet.TinyImageNetResNet18(num_classes=200).to(device)\n",
        "utils.show_model_summary(model, (3,64,64))\n"
      ],
      "execution_count": 27,
      "outputs": [
        {
          "output_type": "stream",
          "name": "stdout",
          "text": [
            "----------------------------------------------------------------\n",
            "        Layer (type)               Output Shape         Param #\n",
            "================================================================\n",
            "            Conv2d-1           [-1, 64, 64, 64]           1,728\n",
            "       BatchNorm2d-2           [-1, 64, 64, 64]             128\n",
            "            Conv2d-3           [-1, 64, 64, 64]          36,864\n",
            "       BatchNorm2d-4           [-1, 64, 64, 64]             128\n",
            "            Conv2d-5           [-1, 64, 64, 64]          36,864\n",
            "       BatchNorm2d-6           [-1, 64, 64, 64]             128\n",
            "        BasicBlock-7           [-1, 64, 64, 64]               0\n",
            "            Conv2d-8           [-1, 64, 64, 64]          36,864\n",
            "       BatchNorm2d-9           [-1, 64, 64, 64]             128\n",
            "           Conv2d-10           [-1, 64, 64, 64]          36,864\n",
            "      BatchNorm2d-11           [-1, 64, 64, 64]             128\n",
            "       BasicBlock-12           [-1, 64, 64, 64]               0\n",
            "           Conv2d-13          [-1, 128, 32, 32]          73,728\n",
            "      BatchNorm2d-14          [-1, 128, 32, 32]             256\n",
            "           Conv2d-15          [-1, 128, 32, 32]         147,456\n",
            "      BatchNorm2d-16          [-1, 128, 32, 32]             256\n",
            "           Conv2d-17          [-1, 128, 32, 32]           8,192\n",
            "      BatchNorm2d-18          [-1, 128, 32, 32]             256\n",
            "       BasicBlock-19          [-1, 128, 32, 32]               0\n",
            "           Conv2d-20          [-1, 128, 32, 32]         147,456\n",
            "      BatchNorm2d-21          [-1, 128, 32, 32]             256\n",
            "           Conv2d-22          [-1, 128, 32, 32]         147,456\n",
            "      BatchNorm2d-23          [-1, 128, 32, 32]             256\n",
            "       BasicBlock-24          [-1, 128, 32, 32]               0\n",
            "           Conv2d-25          [-1, 256, 16, 16]         294,912\n",
            "      BatchNorm2d-26          [-1, 256, 16, 16]             512\n",
            "           Conv2d-27          [-1, 256, 16, 16]         589,824\n",
            "      BatchNorm2d-28          [-1, 256, 16, 16]             512\n",
            "           Conv2d-29          [-1, 256, 16, 16]          32,768\n",
            "      BatchNorm2d-30          [-1, 256, 16, 16]             512\n",
            "       BasicBlock-31          [-1, 256, 16, 16]               0\n",
            "           Conv2d-32          [-1, 256, 16, 16]         589,824\n",
            "      BatchNorm2d-33          [-1, 256, 16, 16]             512\n",
            "           Conv2d-34          [-1, 256, 16, 16]         589,824\n",
            "      BatchNorm2d-35          [-1, 256, 16, 16]             512\n",
            "       BasicBlock-36          [-1, 256, 16, 16]               0\n",
            "           Conv2d-37            [-1, 512, 8, 8]       1,179,648\n",
            "      BatchNorm2d-38            [-1, 512, 8, 8]           1,024\n",
            "           Conv2d-39            [-1, 512, 8, 8]       2,359,296\n",
            "      BatchNorm2d-40            [-1, 512, 8, 8]           1,024\n",
            "           Conv2d-41            [-1, 512, 8, 8]         131,072\n",
            "      BatchNorm2d-42            [-1, 512, 8, 8]           1,024\n",
            "       BasicBlock-43            [-1, 512, 8, 8]               0\n",
            "           Conv2d-44            [-1, 512, 8, 8]       2,359,296\n",
            "      BatchNorm2d-45            [-1, 512, 8, 8]           1,024\n",
            "           Conv2d-46            [-1, 512, 8, 8]       2,359,296\n",
            "      BatchNorm2d-47            [-1, 512, 8, 8]           1,024\n",
            "       BasicBlock-48            [-1, 512, 8, 8]               0\n",
            "           Linear-49                  [-1, 200]         102,600\n",
            "================================================================\n",
            "Total params: 11,271,432\n",
            "Trainable params: 11,271,432\n",
            "Non-trainable params: 0\n",
            "----------------------------------------------------------------\n",
            "Input size (MB): 0.05\n",
            "Forward/backward pass size (MB): 45.00\n",
            "Params size (MB): 43.00\n",
            "Estimated Total Size (MB): 88.05\n",
            "----------------------------------------------------------------\n",
            "None\n"
          ]
        }
      ]
    },
    {
      "cell_type": "code",
      "metadata": {
        "colab": {
          "base_uri": "https://localhost:8080/"
        },
        "id": "GJHHyIwlwnff",
        "outputId": "7f87946b-0705-42bc-d454-eec46a968886"
      },
      "source": [
        "!pip install hiddenlayer"
      ],
      "execution_count": 28,
      "outputs": [
        {
          "output_type": "stream",
          "name": "stdout",
          "text": [
            "Collecting hiddenlayer\n",
            "  Downloading hiddenlayer-0.3-py3-none-any.whl (19 kB)\n",
            "Installing collected packages: hiddenlayer\n",
            "Successfully installed hiddenlayer-0.3\n"
          ]
        }
      ]
    },
    {
      "cell_type": "code",
      "metadata": {
        "colab": {
          "base_uri": "https://localhost:8080/",
          "height": 360
        },
        "id": "T52xytrJtK56",
        "outputId": "b38c52ba-7883-4225-8a49-ab27c0ec6706"
      },
      "source": [
        "import hiddenlayer as hl\n",
        "input = torch.zeros([1, 3, 64, 64])\n",
        "hl.build_graph(model, input.to(device))"
      ],
      "execution_count": 29,
      "outputs": [
        {
          "output_type": "stream",
          "name": "stderr",
          "text": [
            "/usr/local/lib/python3.7/dist-packages/torch/onnx/symbolic_opset9.py:1630: UserWarning: Dropout is a training op and should not be exported in inference mode. For inference, make sure to call eval() on the model and to export it with param training=False.\n",
            "  warnings.warn(\"Dropout is a training op and should not be exported in inference mode. \"\n"
          ]
        },
        {
          "output_type": "execute_result",
          "data": {
            "text/plain": [
              "<hiddenlayer.graph.Graph at 0x7f4d609fef90>"
            ],
            "image/svg+xml": "<?xml version=\"1.0\" encoding=\"UTF-8\" standalone=\"no\"?>\n<!DOCTYPE svg PUBLIC \"-//W3C//DTD SVG 1.1//EN\"\n \"http://www.w3.org/Graphics/SVG/1.1/DTD/svg11.dtd\">\n<!-- Generated by graphviz version 2.40.1 (20161225.0304)\n -->\n<!-- Title: %3 Pages: 1 -->\n<svg width=\"7408pt\" height=\"212pt\"\n viewBox=\"0.00 0.00 7408.00 212.00\" xmlns=\"http://www.w3.org/2000/svg\" xmlns:xlink=\"http://www.w3.org/1999/xlink\">\n<g id=\"graph0\" class=\"graph\" transform=\"scale(1 1) rotate(0) translate(72 176)\">\n<title>%3</title>\n<polygon fill=\"#ffffff\" stroke=\"transparent\" points=\"-72,36 -72,-176 7336,-176 7336,36 -72,36\"/>\n<!-- /outputs/130/131 -->\n<g id=\"node1\" class=\"node\">\n<title>/outputs/130/131</title>\n<polygon fill=\"#e8e8e8\" stroke=\"#000000\" points=\"230,-63 176,-63 176,-27 230,-27 230,-63\"/>\n<text text-anchor=\"start\" x=\"186\" y=\"-42\" font-family=\"Times\" font-size=\"10.00\" fill=\"#000000\">Dropout</text>\n</g>\n<!-- /outputs/149 -->\n<g id=\"node4\" class=\"node\">\n<title>/outputs/149</title>\n<polygon fill=\"#e8e8e8\" stroke=\"#000000\" points=\"823,-63 769,-63 769,-27 823,-27 823,-63\"/>\n<text text-anchor=\"start\" x=\"787\" y=\"-42\" font-family=\"Times\" font-size=\"10.00\" fill=\"#000000\">Add</text>\n</g>\n<!-- /outputs/130/131&#45;&gt;/outputs/149 -->\n<g id=\"edge1\" class=\"edge\">\n<title>/outputs/130/131&#45;&gt;/outputs/149</title>\n<path fill=\"none\" stroke=\"#000000\" d=\"M230.1209,-48.9016C278.1575,-55.4636 381.3931,-68 469,-68 469,-68 469,-68 587.5,-68 647.7624,-68 717.2347,-58.3901 758.8314,-51.5938\"/>\n<polygon fill=\"#000000\" stroke=\"#000000\" points=\"759.4956,-55.0314 768.7836,-49.9341 758.3441,-48.1268 759.4956,-55.0314\"/>\n</g>\n<!-- 9549680188316521732 -->\n<g id=\"node53\" class=\"node\">\n<title>9549680188316521732</title>\n<polygon fill=\"#e8e8e8\" stroke=\"#000000\" points=\"406,-40 266,-40 266,-4 406,-4 406,-40\"/>\n<text text-anchor=\"start\" x=\"274\" y=\"-19\" font-family=\"Times\" font-size=\"10.00\" fill=\"#000000\">Conv3x3 &gt; BatchNorm &gt; Relu</text>\n</g>\n<!-- /outputs/130/131&#45;&gt;9549680188316521732 -->\n<g id=\"edge42\" class=\"edge\">\n<title>/outputs/130/131&#45;&gt;9549680188316521732</title>\n<path fill=\"none\" stroke=\"#000000\" d=\"M230.2355,-40.2901C237.9374,-38.9582 246.7341,-37.437 255.8904,-35.8535\"/>\n<polygon fill=\"#000000\" stroke=\"#000000\" points=\"256.675,-39.2699 265.9323,-34.117 255.4821,-32.3723 256.675,-39.2699\"/>\n</g>\n<!-- /outputs/139/140 -->\n<g id=\"node2\" class=\"node\">\n<title>/outputs/139/140</title>\n<polygon fill=\"#e8e8e8\" stroke=\"#000000\" points=\"496,-40 442,-40 442,-4 496,-4 496,-40\"/>\n<text text-anchor=\"start\" x=\"452\" y=\"-19\" font-family=\"Times\" font-size=\"10.00\" fill=\"#000000\">Dropout</text>\n</g>\n<!-- 5372675753081858281 -->\n<g id=\"node61\" class=\"node\">\n<title>5372675753081858281</title>\n<polygon fill=\"#e8e8e8\" stroke=\"#000000\" points=\"643,-40 532,-40 532,-4 643,-4 643,-40\"/>\n<text text-anchor=\"start\" x=\"540.5\" y=\"-19\" font-family=\"Times\" font-size=\"10.00\" fill=\"#000000\">Conv3x3 &gt; BatchNorm</text>\n</g>\n<!-- /outputs/139/140&#45;&gt;5372675753081858281 -->\n<g id=\"edge58\" class=\"edge\">\n<title>/outputs/139/140&#45;&gt;5372675753081858281</title>\n<path fill=\"none\" stroke=\"#000000\" d=\"M496.1863,-22C503.9311,-22 512.7219,-22 521.7161,-22\"/>\n<polygon fill=\"#000000\" stroke=\"#000000\" points=\"521.9122,-25.5001 531.9122,-22 521.9121,-18.5001 521.9122,-25.5001\"/>\n</g>\n<!-- /outputs/147/148 -->\n<g id=\"node3\" class=\"node\">\n<title>/outputs/147/148</title>\n<polygon fill=\"#e8e8e8\" stroke=\"#000000\" points=\"733,-40 679,-40 679,-4 733,-4 733,-40\"/>\n<text text-anchor=\"start\" x=\"689\" y=\"-19\" font-family=\"Times\" font-size=\"10.00\" fill=\"#000000\">Dropout</text>\n</g>\n<!-- /outputs/147/148&#45;&gt;/outputs/149 -->\n<g id=\"edge2\" class=\"edge\">\n<title>/outputs/147/148&#45;&gt;/outputs/149</title>\n<path fill=\"none\" stroke=\"#000000\" d=\"M733.003,-28.9008C741.1158,-30.9741 750.1631,-33.2861 758.8131,-35.4967\"/>\n<polygon fill=\"#000000\" stroke=\"#000000\" points=\"758.1498,-38.9396 768.705,-38.0246 759.883,-32.1575 758.1498,-38.9396\"/>\n</g>\n<!-- /outputs/150 -->\n<g id=\"node5\" class=\"node\">\n<title>/outputs/150</title>\n<polygon fill=\"#e8e8e8\" stroke=\"#000000\" points=\"913,-63 859,-63 859,-27 913,-27 913,-63\"/>\n<text text-anchor=\"start\" x=\"876\" y=\"-42\" font-family=\"Times\" font-size=\"10.00\" fill=\"#000000\">Relu</text>\n</g>\n<!-- /outputs/149&#45;&gt;/outputs/150 -->\n<g id=\"edge3\" class=\"edge\">\n<title>/outputs/149&#45;&gt;/outputs/150</title>\n<path fill=\"none\" stroke=\"#000000\" d=\"M823.003,-45C831.0277,-45 839.9665,-45 848.5309,-45\"/>\n<polygon fill=\"#000000\" stroke=\"#000000\" points=\"848.7051,-48.5001 858.705,-45 848.705,-41.5001 848.7051,-48.5001\"/>\n</g>\n<!-- /outputs/151/152 -->\n<g id=\"node6\" class=\"node\">\n<title>/outputs/151/152</title>\n<polygon fill=\"#e8e8e8\" stroke=\"#000000\" points=\"1003,-63 949,-63 949,-27 1003,-27 1003,-63\"/>\n<text text-anchor=\"start\" x=\"959\" y=\"-42\" font-family=\"Times\" font-size=\"10.00\" fill=\"#000000\">Dropout</text>\n</g>\n<!-- /outputs/150&#45;&gt;/outputs/151/152 -->\n<g id=\"edge4\" class=\"edge\">\n<title>/outputs/150&#45;&gt;/outputs/151/152</title>\n<path fill=\"none\" stroke=\"#000000\" d=\"M913.003,-45C921.0277,-45 929.9665,-45 938.5309,-45\"/>\n<polygon fill=\"#000000\" stroke=\"#000000\" points=\"938.7051,-48.5001 948.705,-45 938.705,-41.5001 938.7051,-48.5001\"/>\n</g>\n<!-- /outputs/170 -->\n<g id=\"node9\" class=\"node\">\n<title>/outputs/170</title>\n<polygon fill=\"#e8e8e8\" stroke=\"#000000\" points=\"1596,-63 1542,-63 1542,-27 1596,-27 1596,-63\"/>\n<text text-anchor=\"start\" x=\"1560\" y=\"-42\" font-family=\"Times\" font-size=\"10.00\" fill=\"#000000\">Add</text>\n</g>\n<!-- /outputs/151/152&#45;&gt;/outputs/170 -->\n<g id=\"edge5\" class=\"edge\">\n<title>/outputs/151/152&#45;&gt;/outputs/170</title>\n<path fill=\"none\" stroke=\"#000000\" d=\"M1003.1209,-48.9016C1051.1575,-55.4636 1154.3931,-68 1242,-68 1242,-68 1242,-68 1360.5,-68 1420.7624,-68 1490.2347,-58.3901 1531.8314,-51.5938\"/>\n<polygon fill=\"#000000\" stroke=\"#000000\" points=\"1532.4956,-55.0314 1541.7836,-49.9341 1531.3441,-48.1268 1532.4956,-55.0314\"/>\n</g>\n<!-- 13596195565340105828 -->\n<g id=\"node54\" class=\"node\">\n<title>13596195565340105828</title>\n<polygon fill=\"#e8e8e8\" stroke=\"#000000\" points=\"1179,-40 1039,-40 1039,-4 1179,-4 1179,-40\"/>\n<text text-anchor=\"start\" x=\"1047\" y=\"-19\" font-family=\"Times\" font-size=\"10.00\" fill=\"#000000\">Conv3x3 &gt; BatchNorm &gt; Relu</text>\n</g>\n<!-- /outputs/151/152&#45;&gt;13596195565340105828 -->\n<g id=\"edge44\" class=\"edge\">\n<title>/outputs/151/152&#45;&gt;13596195565340105828</title>\n<path fill=\"none\" stroke=\"#000000\" d=\"M1003.2355,-40.2901C1010.9374,-38.9582 1019.7341,-37.437 1028.8904,-35.8535\"/>\n<polygon fill=\"#000000\" stroke=\"#000000\" points=\"1029.675,-39.2699 1038.9323,-34.117 1028.4821,-32.3723 1029.675,-39.2699\"/>\n</g>\n<!-- /outputs/160/161 -->\n<g id=\"node7\" class=\"node\">\n<title>/outputs/160/161</title>\n<polygon fill=\"#e8e8e8\" stroke=\"#000000\" points=\"1269,-40 1215,-40 1215,-4 1269,-4 1269,-40\"/>\n<text text-anchor=\"start\" x=\"1225\" y=\"-19\" font-family=\"Times\" font-size=\"10.00\" fill=\"#000000\">Dropout</text>\n</g>\n<!-- 11616065633855626800 -->\n<g id=\"node62\" class=\"node\">\n<title>11616065633855626800</title>\n<polygon fill=\"#e8e8e8\" stroke=\"#000000\" points=\"1416,-40 1305,-40 1305,-4 1416,-4 1416,-40\"/>\n<text text-anchor=\"start\" x=\"1313.5\" y=\"-19\" font-family=\"Times\" font-size=\"10.00\" fill=\"#000000\">Conv3x3 &gt; BatchNorm</text>\n</g>\n<!-- /outputs/160/161&#45;&gt;11616065633855626800 -->\n<g id=\"edge60\" class=\"edge\">\n<title>/outputs/160/161&#45;&gt;11616065633855626800</title>\n<path fill=\"none\" stroke=\"#000000\" d=\"M1269.1863,-22C1276.9311,-22 1285.7219,-22 1294.7161,-22\"/>\n<polygon fill=\"#000000\" stroke=\"#000000\" points=\"1294.9122,-25.5001 1304.9122,-22 1294.9121,-18.5001 1294.9122,-25.5001\"/>\n</g>\n<!-- /outputs/168/169 -->\n<g id=\"node8\" class=\"node\">\n<title>/outputs/168/169</title>\n<polygon fill=\"#e8e8e8\" stroke=\"#000000\" points=\"1506,-40 1452,-40 1452,-4 1506,-4 1506,-40\"/>\n<text text-anchor=\"start\" x=\"1462\" y=\"-19\" font-family=\"Times\" font-size=\"10.00\" fill=\"#000000\">Dropout</text>\n</g>\n<!-- /outputs/168/169&#45;&gt;/outputs/170 -->\n<g id=\"edge6\" class=\"edge\">\n<title>/outputs/168/169&#45;&gt;/outputs/170</title>\n<path fill=\"none\" stroke=\"#000000\" d=\"M1506.003,-28.9008C1514.1158,-30.9741 1523.1631,-33.2861 1531.8131,-35.4967\"/>\n<polygon fill=\"#000000\" stroke=\"#000000\" points=\"1531.1498,-38.9396 1541.705,-38.0246 1532.883,-32.1575 1531.1498,-38.9396\"/>\n</g>\n<!-- /outputs/171 -->\n<g id=\"node10\" class=\"node\">\n<title>/outputs/171</title>\n<polygon fill=\"#e8e8e8\" stroke=\"#000000\" points=\"1686,-63 1632,-63 1632,-27 1686,-27 1686,-63\"/>\n<text text-anchor=\"start\" x=\"1649\" y=\"-42\" font-family=\"Times\" font-size=\"10.00\" fill=\"#000000\">Relu</text>\n</g>\n<!-- /outputs/170&#45;&gt;/outputs/171 -->\n<g id=\"edge7\" class=\"edge\">\n<title>/outputs/170&#45;&gt;/outputs/171</title>\n<path fill=\"none\" stroke=\"#000000\" d=\"M1596.003,-45C1604.0277,-45 1612.9665,-45 1621.5309,-45\"/>\n<polygon fill=\"#000000\" stroke=\"#000000\" points=\"1621.7051,-48.5001 1631.705,-45 1621.705,-41.5001 1621.7051,-48.5001\"/>\n</g>\n<!-- /outputs/172/173 -->\n<g id=\"node11\" class=\"node\">\n<title>/outputs/172/173</title>\n<polygon fill=\"#e8e8e8\" stroke=\"#000000\" points=\"1776,-63 1722,-63 1722,-27 1776,-27 1776,-63\"/>\n<text text-anchor=\"start\" x=\"1732\" y=\"-42\" font-family=\"Times\" font-size=\"10.00\" fill=\"#000000\">Dropout</text>\n</g>\n<!-- /outputs/171&#45;&gt;/outputs/172/173 -->\n<g id=\"edge8\" class=\"edge\">\n<title>/outputs/171&#45;&gt;/outputs/172/173</title>\n<path fill=\"none\" stroke=\"#000000\" d=\"M1686.003,-45C1694.0277,-45 1702.9665,-45 1711.5309,-45\"/>\n<polygon fill=\"#000000\" stroke=\"#000000\" points=\"1711.7051,-48.5001 1721.705,-45 1711.705,-41.5001 1711.7051,-48.5001\"/>\n</g>\n<!-- 7781879626480138629 -->\n<g id=\"node55\" class=\"node\">\n<title>7781879626480138629</title>\n<polygon fill=\"#e8e8e8\" stroke=\"#000000\" points=\"1952,-88 1812,-88 1812,-52 1952,-52 1952,-88\"/>\n<text text-anchor=\"start\" x=\"1820\" y=\"-67\" font-family=\"Times\" font-size=\"10.00\" fill=\"#000000\">Conv3x3 &gt; BatchNorm &gt; Relu</text>\n</g>\n<!-- /outputs/172/173&#45;&gt;7781879626480138629 -->\n<g id=\"edge46\" class=\"edge\">\n<title>/outputs/172/173&#45;&gt;7781879626480138629</title>\n<path fill=\"none\" stroke=\"#000000\" d=\"M1776.2355,-50.1195C1783.9374,-51.5672 1792.7341,-53.2207 1801.8904,-54.9418\"/>\n<polygon fill=\"#000000\" stroke=\"#000000\" points=\"1801.4578,-58.4217 1811.9323,-56.8294 1802.751,-51.5422 1801.4578,-58.4217\"/>\n</g>\n<!-- 10947172672882271378 -->\n<g id=\"node64\" class=\"node\">\n<title>10947172672882271378</title>\n<polygon fill=\"#e8e8e8\" stroke=\"#000000\" points=\"2099,-36 1988,-36 1988,0 2099,0 2099,-36\"/>\n<text text-anchor=\"start\" x=\"1996.5\" y=\"-15\" font-family=\"Times\" font-size=\"10.00\" fill=\"#000000\">Conv1x1 &gt; BatchNorm</text>\n</g>\n<!-- /outputs/172/173&#45;&gt;10947172672882271378 -->\n<g id=\"edge64\" class=\"edge\">\n<title>/outputs/172/173&#45;&gt;10947172672882271378</title>\n<path fill=\"none\" stroke=\"#000000\" d=\"M1776.178,-42.5083C1821.6344,-38.3408 1914.327,-29.8427 1977.6821,-24.0342\"/>\n<polygon fill=\"#000000\" stroke=\"#000000\" points=\"1978.3384,-27.4888 1987.9771,-23.0904 1977.6992,-20.5181 1978.3384,-27.4888\"/>\n</g>\n<!-- /outputs/181/182 -->\n<g id=\"node12\" class=\"node\">\n<title>/outputs/181/182</title>\n<polygon fill=\"#e8e8e8\" stroke=\"#000000\" points=\"2070.5,-90 2016.5,-90 2016.5,-54 2070.5,-54 2070.5,-90\"/>\n<text text-anchor=\"start\" x=\"2026.5\" y=\"-69\" font-family=\"Times\" font-size=\"10.00\" fill=\"#000000\">Dropout</text>\n</g>\n<!-- 8014290251504932869 -->\n<g id=\"node63\" class=\"node\">\n<title>8014290251504932869</title>\n<polygon fill=\"#e8e8e8\" stroke=\"#000000\" points=\"2246,-89 2135,-89 2135,-53 2246,-53 2246,-89\"/>\n<text text-anchor=\"start\" x=\"2143.5\" y=\"-68\" font-family=\"Times\" font-size=\"10.00\" fill=\"#000000\">Conv3x3 &gt; BatchNorm</text>\n</g>\n<!-- /outputs/181/182&#45;&gt;8014290251504932869 -->\n<g id=\"edge62\" class=\"edge\">\n<title>/outputs/181/182&#45;&gt;8014290251504932869</title>\n<path fill=\"none\" stroke=\"#000000\" d=\"M2070.8051,-71.8143C2086.0073,-71.7108 2105.6435,-71.5773 2124.5984,-71.4483\"/>\n<polygon fill=\"#000000\" stroke=\"#000000\" points=\"2124.7466,-74.9475 2134.7226,-71.3794 2124.6989,-67.9476 2124.7466,-74.9475\"/>\n</g>\n<!-- /outputs/189/190 -->\n<g id=\"node13\" class=\"node\">\n<title>/outputs/189/190</title>\n<polygon fill=\"#e8e8e8\" stroke=\"#000000\" points=\"2336,-88 2282,-88 2282,-52 2336,-52 2336,-88\"/>\n<text text-anchor=\"start\" x=\"2292\" y=\"-67\" font-family=\"Times\" font-size=\"10.00\" fill=\"#000000\">Dropout</text>\n</g>\n<!-- /outputs/197 -->\n<g id=\"node14\" class=\"node\">\n<title>/outputs/197</title>\n<polygon fill=\"#e8e8e8\" stroke=\"#000000\" points=\"2426,-63 2372,-63 2372,-27 2426,-27 2426,-63\"/>\n<text text-anchor=\"start\" x=\"2390\" y=\"-42\" font-family=\"Times\" font-size=\"10.00\" fill=\"#000000\">Add</text>\n</g>\n<!-- /outputs/189/190&#45;&gt;/outputs/197 -->\n<g id=\"edge9\" class=\"edge\">\n<title>/outputs/189/190&#45;&gt;/outputs/197</title>\n<path fill=\"none\" stroke=\"#000000\" d=\"M2336.003,-62.4992C2344.1158,-60.2456 2353.1631,-57.7325 2361.8131,-55.3297\"/>\n<polygon fill=\"#000000\" stroke=\"#000000\" points=\"2363.0066,-58.6308 2371.705,-52.5819 2361.1331,-51.8861 2363.0066,-58.6308\"/>\n</g>\n<!-- /outputs/198 -->\n<g id=\"node15\" class=\"node\">\n<title>/outputs/198</title>\n<polygon fill=\"#e8e8e8\" stroke=\"#000000\" points=\"2516,-63 2462,-63 2462,-27 2516,-27 2516,-63\"/>\n<text text-anchor=\"start\" x=\"2479\" y=\"-42\" font-family=\"Times\" font-size=\"10.00\" fill=\"#000000\">Relu</text>\n</g>\n<!-- /outputs/197&#45;&gt;/outputs/198 -->\n<g id=\"edge10\" class=\"edge\">\n<title>/outputs/197&#45;&gt;/outputs/198</title>\n<path fill=\"none\" stroke=\"#000000\" d=\"M2426.003,-45C2434.0277,-45 2442.9665,-45 2451.5309,-45\"/>\n<polygon fill=\"#000000\" stroke=\"#000000\" points=\"2451.7051,-48.5001 2461.705,-45 2451.705,-41.5001 2451.7051,-48.5001\"/>\n</g>\n<!-- /outputs/199/200 -->\n<g id=\"node16\" class=\"node\">\n<title>/outputs/199/200</title>\n<polygon fill=\"#e8e8e8\" stroke=\"#000000\" points=\"2606,-63 2552,-63 2552,-27 2606,-27 2606,-63\"/>\n<text text-anchor=\"start\" x=\"2562\" y=\"-42\" font-family=\"Times\" font-size=\"10.00\" fill=\"#000000\">Dropout</text>\n</g>\n<!-- /outputs/198&#45;&gt;/outputs/199/200 -->\n<g id=\"edge11\" class=\"edge\">\n<title>/outputs/198&#45;&gt;/outputs/199/200</title>\n<path fill=\"none\" stroke=\"#000000\" d=\"M2516.003,-45C2524.0277,-45 2532.9665,-45 2541.5309,-45\"/>\n<polygon fill=\"#000000\" stroke=\"#000000\" points=\"2541.7051,-48.5001 2551.705,-45 2541.705,-41.5001 2541.7051,-48.5001\"/>\n</g>\n<!-- /outputs/218 -->\n<g id=\"node19\" class=\"node\">\n<title>/outputs/218</title>\n<polygon fill=\"#e8e8e8\" stroke=\"#000000\" points=\"3199,-63 3145,-63 3145,-27 3199,-27 3199,-63\"/>\n<text text-anchor=\"start\" x=\"3163\" y=\"-42\" font-family=\"Times\" font-size=\"10.00\" fill=\"#000000\">Add</text>\n</g>\n<!-- /outputs/199/200&#45;&gt;/outputs/218 -->\n<g id=\"edge12\" class=\"edge\">\n<title>/outputs/199/200&#45;&gt;/outputs/218</title>\n<path fill=\"none\" stroke=\"#000000\" d=\"M2606.1209,-48.9016C2654.1575,-55.4636 2757.3931,-68 2845,-68 2845,-68 2845,-68 2963.5,-68 3023.7624,-68 3093.2347,-58.3901 3134.8314,-51.5938\"/>\n<polygon fill=\"#000000\" stroke=\"#000000\" points=\"3135.4956,-55.0314 3144.7836,-49.9341 3134.3441,-48.1268 3135.4956,-55.0314\"/>\n</g>\n<!-- 8135425047835306171 -->\n<g id=\"node56\" class=\"node\">\n<title>8135425047835306171</title>\n<polygon fill=\"#e8e8e8\" stroke=\"#000000\" points=\"2782,-40 2642,-40 2642,-4 2782,-4 2782,-40\"/>\n<text text-anchor=\"start\" x=\"2650\" y=\"-19\" font-family=\"Times\" font-size=\"10.00\" fill=\"#000000\">Conv3x3 &gt; BatchNorm &gt; Relu</text>\n</g>\n<!-- /outputs/199/200&#45;&gt;8135425047835306171 -->\n<g id=\"edge48\" class=\"edge\">\n<title>/outputs/199/200&#45;&gt;8135425047835306171</title>\n<path fill=\"none\" stroke=\"#000000\" d=\"M2606.2355,-40.2901C2613.9374,-38.9582 2622.7341,-37.437 2631.8904,-35.8535\"/>\n<polygon fill=\"#000000\" stroke=\"#000000\" points=\"2632.675,-39.2699 2641.9323,-34.117 2631.4821,-32.3723 2632.675,-39.2699\"/>\n</g>\n<!-- /outputs/208/209 -->\n<g id=\"node17\" class=\"node\">\n<title>/outputs/208/209</title>\n<polygon fill=\"#e8e8e8\" stroke=\"#000000\" points=\"2872,-40 2818,-40 2818,-4 2872,-4 2872,-40\"/>\n<text text-anchor=\"start\" x=\"2828\" y=\"-19\" font-family=\"Times\" font-size=\"10.00\" fill=\"#000000\">Dropout</text>\n</g>\n<!-- 14423773214979182961 -->\n<g id=\"node65\" class=\"node\">\n<title>14423773214979182961</title>\n<polygon fill=\"#e8e8e8\" stroke=\"#000000\" points=\"3019,-40 2908,-40 2908,-4 3019,-4 3019,-40\"/>\n<text text-anchor=\"start\" x=\"2916.5\" y=\"-19\" font-family=\"Times\" font-size=\"10.00\" fill=\"#000000\">Conv3x3 &gt; BatchNorm</text>\n</g>\n<!-- /outputs/208/209&#45;&gt;14423773214979182961 -->\n<g id=\"edge66\" class=\"edge\">\n<title>/outputs/208/209&#45;&gt;14423773214979182961</title>\n<path fill=\"none\" stroke=\"#000000\" d=\"M2872.1863,-22C2879.9311,-22 2888.7219,-22 2897.7161,-22\"/>\n<polygon fill=\"#000000\" stroke=\"#000000\" points=\"2897.9122,-25.5001 2907.9122,-22 2897.9121,-18.5001 2897.9122,-25.5001\"/>\n</g>\n<!-- /outputs/216/217 -->\n<g id=\"node18\" class=\"node\">\n<title>/outputs/216/217</title>\n<polygon fill=\"#e8e8e8\" stroke=\"#000000\" points=\"3109,-40 3055,-40 3055,-4 3109,-4 3109,-40\"/>\n<text text-anchor=\"start\" x=\"3065\" y=\"-19\" font-family=\"Times\" font-size=\"10.00\" fill=\"#000000\">Dropout</text>\n</g>\n<!-- /outputs/216/217&#45;&gt;/outputs/218 -->\n<g id=\"edge13\" class=\"edge\">\n<title>/outputs/216/217&#45;&gt;/outputs/218</title>\n<path fill=\"none\" stroke=\"#000000\" d=\"M3109.003,-28.9008C3117.1158,-30.9741 3126.1631,-33.2861 3134.8131,-35.4967\"/>\n<polygon fill=\"#000000\" stroke=\"#000000\" points=\"3134.1498,-38.9396 3144.705,-38.0246 3135.883,-32.1575 3134.1498,-38.9396\"/>\n</g>\n<!-- /outputs/219 -->\n<g id=\"node20\" class=\"node\">\n<title>/outputs/219</title>\n<polygon fill=\"#e8e8e8\" stroke=\"#000000\" points=\"3289,-63 3235,-63 3235,-27 3289,-27 3289,-63\"/>\n<text text-anchor=\"start\" x=\"3252\" y=\"-42\" font-family=\"Times\" font-size=\"10.00\" fill=\"#000000\">Relu</text>\n</g>\n<!-- /outputs/218&#45;&gt;/outputs/219 -->\n<g id=\"edge14\" class=\"edge\">\n<title>/outputs/218&#45;&gt;/outputs/219</title>\n<path fill=\"none\" stroke=\"#000000\" d=\"M3199.003,-45C3207.0277,-45 3215.9665,-45 3224.5309,-45\"/>\n<polygon fill=\"#000000\" stroke=\"#000000\" points=\"3224.7051,-48.5001 3234.705,-45 3224.705,-41.5001 3224.7051,-48.5001\"/>\n</g>\n<!-- /outputs/220/221 -->\n<g id=\"node21\" class=\"node\">\n<title>/outputs/220/221</title>\n<polygon fill=\"#e8e8e8\" stroke=\"#000000\" points=\"3379,-63 3325,-63 3325,-27 3379,-27 3379,-63\"/>\n<text text-anchor=\"start\" x=\"3335\" y=\"-42\" font-family=\"Times\" font-size=\"10.00\" fill=\"#000000\">Dropout</text>\n</g>\n<!-- /outputs/219&#45;&gt;/outputs/220/221 -->\n<g id=\"edge15\" class=\"edge\">\n<title>/outputs/219&#45;&gt;/outputs/220/221</title>\n<path fill=\"none\" stroke=\"#000000\" d=\"M3289.003,-45C3297.0277,-45 3305.9665,-45 3314.5309,-45\"/>\n<polygon fill=\"#000000\" stroke=\"#000000\" points=\"3314.7051,-48.5001 3324.705,-45 3314.705,-41.5001 3314.7051,-48.5001\"/>\n</g>\n<!-- 8395550254105287487 -->\n<g id=\"node57\" class=\"node\">\n<title>8395550254105287487</title>\n<polygon fill=\"#e8e8e8\" stroke=\"#000000\" points=\"3555,-88 3415,-88 3415,-52 3555,-52 3555,-88\"/>\n<text text-anchor=\"start\" x=\"3423\" y=\"-67\" font-family=\"Times\" font-size=\"10.00\" fill=\"#000000\">Conv3x3 &gt; BatchNorm &gt; Relu</text>\n</g>\n<!-- /outputs/220/221&#45;&gt;8395550254105287487 -->\n<g id=\"edge50\" class=\"edge\">\n<title>/outputs/220/221&#45;&gt;8395550254105287487</title>\n<path fill=\"none\" stroke=\"#000000\" d=\"M3379.2355,-50.1195C3386.9374,-51.5672 3395.7341,-53.2207 3404.8904,-54.9418\"/>\n<polygon fill=\"#000000\" stroke=\"#000000\" points=\"3404.4578,-58.4217 3414.9323,-56.8294 3405.751,-51.5422 3404.4578,-58.4217\"/>\n</g>\n<!-- 13864167348690772333 -->\n<g id=\"node67\" class=\"node\">\n<title>13864167348690772333</title>\n<polygon fill=\"#e8e8e8\" stroke=\"#000000\" points=\"3702,-36 3591,-36 3591,0 3702,0 3702,-36\"/>\n<text text-anchor=\"start\" x=\"3599.5\" y=\"-15\" font-family=\"Times\" font-size=\"10.00\" fill=\"#000000\">Conv1x1 &gt; BatchNorm</text>\n</g>\n<!-- /outputs/220/221&#45;&gt;13864167348690772333 -->\n<g id=\"edge70\" class=\"edge\">\n<title>/outputs/220/221&#45;&gt;13864167348690772333</title>\n<path fill=\"none\" stroke=\"#000000\" d=\"M3379.178,-42.5083C3424.6344,-38.3408 3517.327,-29.8427 3580.6821,-24.0342\"/>\n<polygon fill=\"#000000\" stroke=\"#000000\" points=\"3581.3384,-27.4888 3590.9771,-23.0904 3580.6992,-20.5181 3581.3384,-27.4888\"/>\n</g>\n<!-- /outputs/229/230 -->\n<g id=\"node22\" class=\"node\">\n<title>/outputs/229/230</title>\n<polygon fill=\"#e8e8e8\" stroke=\"#000000\" points=\"3673.5,-90 3619.5,-90 3619.5,-54 3673.5,-54 3673.5,-90\"/>\n<text text-anchor=\"start\" x=\"3629.5\" y=\"-69\" font-family=\"Times\" font-size=\"10.00\" fill=\"#000000\">Dropout</text>\n</g>\n<!-- 16511751770136310089 -->\n<g id=\"node66\" class=\"node\">\n<title>16511751770136310089</title>\n<polygon fill=\"#e8e8e8\" stroke=\"#000000\" points=\"3849,-89 3738,-89 3738,-53 3849,-53 3849,-89\"/>\n<text text-anchor=\"start\" x=\"3746.5\" y=\"-68\" font-family=\"Times\" font-size=\"10.00\" fill=\"#000000\">Conv3x3 &gt; BatchNorm</text>\n</g>\n<!-- /outputs/229/230&#45;&gt;16511751770136310089 -->\n<g id=\"edge68\" class=\"edge\">\n<title>/outputs/229/230&#45;&gt;16511751770136310089</title>\n<path fill=\"none\" stroke=\"#000000\" d=\"M3673.8051,-71.8143C3689.0073,-71.7108 3708.6435,-71.5773 3727.5984,-71.4483\"/>\n<polygon fill=\"#000000\" stroke=\"#000000\" points=\"3727.7466,-74.9475 3737.7226,-71.3794 3727.6989,-67.9476 3727.7466,-74.9475\"/>\n</g>\n<!-- /outputs/237/238 -->\n<g id=\"node23\" class=\"node\">\n<title>/outputs/237/238</title>\n<polygon fill=\"#e8e8e8\" stroke=\"#000000\" points=\"3939,-88 3885,-88 3885,-52 3939,-52 3939,-88\"/>\n<text text-anchor=\"start\" x=\"3895\" y=\"-67\" font-family=\"Times\" font-size=\"10.00\" fill=\"#000000\">Dropout</text>\n</g>\n<!-- /outputs/245 -->\n<g id=\"node24\" class=\"node\">\n<title>/outputs/245</title>\n<polygon fill=\"#e8e8e8\" stroke=\"#000000\" points=\"4029,-63 3975,-63 3975,-27 4029,-27 4029,-63\"/>\n<text text-anchor=\"start\" x=\"3993\" y=\"-42\" font-family=\"Times\" font-size=\"10.00\" fill=\"#000000\">Add</text>\n</g>\n<!-- /outputs/237/238&#45;&gt;/outputs/245 -->\n<g id=\"edge16\" class=\"edge\">\n<title>/outputs/237/238&#45;&gt;/outputs/245</title>\n<path fill=\"none\" stroke=\"#000000\" d=\"M3939.003,-62.4992C3947.1158,-60.2456 3956.1631,-57.7325 3964.8131,-55.3297\"/>\n<polygon fill=\"#000000\" stroke=\"#000000\" points=\"3966.0066,-58.6308 3974.705,-52.5819 3964.1331,-51.8861 3966.0066,-58.6308\"/>\n</g>\n<!-- /outputs/246 -->\n<g id=\"node25\" class=\"node\">\n<title>/outputs/246</title>\n<polygon fill=\"#e8e8e8\" stroke=\"#000000\" points=\"4119,-63 4065,-63 4065,-27 4119,-27 4119,-63\"/>\n<text text-anchor=\"start\" x=\"4082\" y=\"-42\" font-family=\"Times\" font-size=\"10.00\" fill=\"#000000\">Relu</text>\n</g>\n<!-- /outputs/245&#45;&gt;/outputs/246 -->\n<g id=\"edge17\" class=\"edge\">\n<title>/outputs/245&#45;&gt;/outputs/246</title>\n<path fill=\"none\" stroke=\"#000000\" d=\"M4029.003,-45C4037.0277,-45 4045.9665,-45 4054.5309,-45\"/>\n<polygon fill=\"#000000\" stroke=\"#000000\" points=\"4054.7051,-48.5001 4064.705,-45 4054.705,-41.5001 4054.7051,-48.5001\"/>\n</g>\n<!-- /outputs/247/248 -->\n<g id=\"node26\" class=\"node\">\n<title>/outputs/247/248</title>\n<polygon fill=\"#e8e8e8\" stroke=\"#000000\" points=\"4209,-63 4155,-63 4155,-27 4209,-27 4209,-63\"/>\n<text text-anchor=\"start\" x=\"4165\" y=\"-42\" font-family=\"Times\" font-size=\"10.00\" fill=\"#000000\">Dropout</text>\n</g>\n<!-- /outputs/246&#45;&gt;/outputs/247/248 -->\n<g id=\"edge18\" class=\"edge\">\n<title>/outputs/246&#45;&gt;/outputs/247/248</title>\n<path fill=\"none\" stroke=\"#000000\" d=\"M4119.003,-45C4127.0277,-45 4135.9665,-45 4144.5309,-45\"/>\n<polygon fill=\"#000000\" stroke=\"#000000\" points=\"4144.7051,-48.5001 4154.705,-45 4144.705,-41.5001 4144.7051,-48.5001\"/>\n</g>\n<!-- /outputs/266 -->\n<g id=\"node29\" class=\"node\">\n<title>/outputs/266</title>\n<polygon fill=\"#e8e8e8\" stroke=\"#000000\" points=\"4802,-63 4748,-63 4748,-27 4802,-27 4802,-63\"/>\n<text text-anchor=\"start\" x=\"4766\" y=\"-42\" font-family=\"Times\" font-size=\"10.00\" fill=\"#000000\">Add</text>\n</g>\n<!-- /outputs/247/248&#45;&gt;/outputs/266 -->\n<g id=\"edge19\" class=\"edge\">\n<title>/outputs/247/248&#45;&gt;/outputs/266</title>\n<path fill=\"none\" stroke=\"#000000\" d=\"M4209.1209,-48.9016C4257.1575,-55.4636 4360.3931,-68 4448,-68 4448,-68 4448,-68 4566.5,-68 4626.7624,-68 4696.2347,-58.3901 4737.8314,-51.5938\"/>\n<polygon fill=\"#000000\" stroke=\"#000000\" points=\"4738.4956,-55.0314 4747.7836,-49.9341 4737.3441,-48.1268 4738.4956,-55.0314\"/>\n</g>\n<!-- 12351324084915385884 -->\n<g id=\"node58\" class=\"node\">\n<title>12351324084915385884</title>\n<polygon fill=\"#e8e8e8\" stroke=\"#000000\" points=\"4385,-40 4245,-40 4245,-4 4385,-4 4385,-40\"/>\n<text text-anchor=\"start\" x=\"4253\" y=\"-19\" font-family=\"Times\" font-size=\"10.00\" fill=\"#000000\">Conv3x3 &gt; BatchNorm &gt; Relu</text>\n</g>\n<!-- /outputs/247/248&#45;&gt;12351324084915385884 -->\n<g id=\"edge52\" class=\"edge\">\n<title>/outputs/247/248&#45;&gt;12351324084915385884</title>\n<path fill=\"none\" stroke=\"#000000\" d=\"M4209.2355,-40.2901C4216.9374,-38.9582 4225.7341,-37.437 4234.8904,-35.8535\"/>\n<polygon fill=\"#000000\" stroke=\"#000000\" points=\"4235.675,-39.2699 4244.9323,-34.117 4234.4821,-32.3723 4235.675,-39.2699\"/>\n</g>\n<!-- /outputs/256/257 -->\n<g id=\"node27\" class=\"node\">\n<title>/outputs/256/257</title>\n<polygon fill=\"#e8e8e8\" stroke=\"#000000\" points=\"4475,-40 4421,-40 4421,-4 4475,-4 4475,-40\"/>\n<text text-anchor=\"start\" x=\"4431\" y=\"-19\" font-family=\"Times\" font-size=\"10.00\" fill=\"#000000\">Dropout</text>\n</g>\n<!-- 8885703437396441600 -->\n<g id=\"node68\" class=\"node\">\n<title>8885703437396441600</title>\n<polygon fill=\"#e8e8e8\" stroke=\"#000000\" points=\"4622,-40 4511,-40 4511,-4 4622,-4 4622,-40\"/>\n<text text-anchor=\"start\" x=\"4519.5\" y=\"-19\" font-family=\"Times\" font-size=\"10.00\" fill=\"#000000\">Conv3x3 &gt; BatchNorm</text>\n</g>\n<!-- /outputs/256/257&#45;&gt;8885703437396441600 -->\n<g id=\"edge72\" class=\"edge\">\n<title>/outputs/256/257&#45;&gt;8885703437396441600</title>\n<path fill=\"none\" stroke=\"#000000\" d=\"M4475.1863,-22C4482.9311,-22 4491.7219,-22 4500.7161,-22\"/>\n<polygon fill=\"#000000\" stroke=\"#000000\" points=\"4500.9122,-25.5001 4510.9122,-22 4500.9121,-18.5001 4500.9122,-25.5001\"/>\n</g>\n<!-- /outputs/264/265 -->\n<g id=\"node28\" class=\"node\">\n<title>/outputs/264/265</title>\n<polygon fill=\"#e8e8e8\" stroke=\"#000000\" points=\"4712,-40 4658,-40 4658,-4 4712,-4 4712,-40\"/>\n<text text-anchor=\"start\" x=\"4668\" y=\"-19\" font-family=\"Times\" font-size=\"10.00\" fill=\"#000000\">Dropout</text>\n</g>\n<!-- /outputs/264/265&#45;&gt;/outputs/266 -->\n<g id=\"edge20\" class=\"edge\">\n<title>/outputs/264/265&#45;&gt;/outputs/266</title>\n<path fill=\"none\" stroke=\"#000000\" d=\"M4712.003,-28.9008C4720.1158,-30.9741 4729.1631,-33.2861 4737.8131,-35.4967\"/>\n<polygon fill=\"#000000\" stroke=\"#000000\" points=\"4737.1498,-38.9396 4747.705,-38.0246 4738.883,-32.1575 4737.1498,-38.9396\"/>\n</g>\n<!-- /outputs/267 -->\n<g id=\"node30\" class=\"node\">\n<title>/outputs/267</title>\n<polygon fill=\"#e8e8e8\" stroke=\"#000000\" points=\"4892,-63 4838,-63 4838,-27 4892,-27 4892,-63\"/>\n<text text-anchor=\"start\" x=\"4855\" y=\"-42\" font-family=\"Times\" font-size=\"10.00\" fill=\"#000000\">Relu</text>\n</g>\n<!-- /outputs/266&#45;&gt;/outputs/267 -->\n<g id=\"edge21\" class=\"edge\">\n<title>/outputs/266&#45;&gt;/outputs/267</title>\n<path fill=\"none\" stroke=\"#000000\" d=\"M4802.003,-45C4810.0277,-45 4818.9665,-45 4827.5309,-45\"/>\n<polygon fill=\"#000000\" stroke=\"#000000\" points=\"4827.7051,-48.5001 4837.705,-45 4827.705,-41.5001 4827.7051,-48.5001\"/>\n</g>\n<!-- /outputs/268/269 -->\n<g id=\"node31\" class=\"node\">\n<title>/outputs/268/269</title>\n<polygon fill=\"#e8e8e8\" stroke=\"#000000\" points=\"4982,-63 4928,-63 4928,-27 4982,-27 4982,-63\"/>\n<text text-anchor=\"start\" x=\"4938\" y=\"-42\" font-family=\"Times\" font-size=\"10.00\" fill=\"#000000\">Dropout</text>\n</g>\n<!-- /outputs/267&#45;&gt;/outputs/268/269 -->\n<g id=\"edge22\" class=\"edge\">\n<title>/outputs/267&#45;&gt;/outputs/268/269</title>\n<path fill=\"none\" stroke=\"#000000\" d=\"M4892.003,-45C4900.0277,-45 4908.9665,-45 4917.5309,-45\"/>\n<polygon fill=\"#000000\" stroke=\"#000000\" points=\"4917.7051,-48.5001 4927.705,-45 4917.705,-41.5001 4917.7051,-48.5001\"/>\n</g>\n<!-- 561293334295388426 -->\n<g id=\"node59\" class=\"node\">\n<title>561293334295388426</title>\n<polygon fill=\"#e8e8e8\" stroke=\"#000000\" points=\"5158,-88 5018,-88 5018,-52 5158,-52 5158,-88\"/>\n<text text-anchor=\"start\" x=\"5026\" y=\"-67\" font-family=\"Times\" font-size=\"10.00\" fill=\"#000000\">Conv3x3 &gt; BatchNorm &gt; Relu</text>\n</g>\n<!-- /outputs/268/269&#45;&gt;561293334295388426 -->\n<g id=\"edge54\" class=\"edge\">\n<title>/outputs/268/269&#45;&gt;561293334295388426</title>\n<path fill=\"none\" stroke=\"#000000\" d=\"M4982.2355,-50.1195C4989.9374,-51.5672 4998.7341,-53.2207 5007.8904,-54.9418\"/>\n<polygon fill=\"#000000\" stroke=\"#000000\" points=\"5007.4578,-58.4217 5017.9323,-56.8294 5008.751,-51.5422 5007.4578,-58.4217\"/>\n</g>\n<!-- 10057333675533700743 -->\n<g id=\"node70\" class=\"node\">\n<title>10057333675533700743</title>\n<polygon fill=\"#e8e8e8\" stroke=\"#000000\" points=\"5305,-36 5194,-36 5194,0 5305,0 5305,-36\"/>\n<text text-anchor=\"start\" x=\"5202.5\" y=\"-15\" font-family=\"Times\" font-size=\"10.00\" fill=\"#000000\">Conv1x1 &gt; BatchNorm</text>\n</g>\n<!-- /outputs/268/269&#45;&gt;10057333675533700743 -->\n<g id=\"edge76\" class=\"edge\">\n<title>/outputs/268/269&#45;&gt;10057333675533700743</title>\n<path fill=\"none\" stroke=\"#000000\" d=\"M4982.178,-42.5083C5027.6344,-38.3408 5120.327,-29.8427 5183.6821,-24.0342\"/>\n<polygon fill=\"#000000\" stroke=\"#000000\" points=\"5184.3384,-27.4888 5193.9771,-23.0904 5183.6992,-20.5181 5184.3384,-27.4888\"/>\n</g>\n<!-- /outputs/277/278 -->\n<g id=\"node32\" class=\"node\">\n<title>/outputs/277/278</title>\n<polygon fill=\"#e8e8e8\" stroke=\"#000000\" points=\"5276.5,-90 5222.5,-90 5222.5,-54 5276.5,-54 5276.5,-90\"/>\n<text text-anchor=\"start\" x=\"5232.5\" y=\"-69\" font-family=\"Times\" font-size=\"10.00\" fill=\"#000000\">Dropout</text>\n</g>\n<!-- 17499755213678651787 -->\n<g id=\"node69\" class=\"node\">\n<title>17499755213678651787</title>\n<polygon fill=\"#e8e8e8\" stroke=\"#000000\" points=\"5452,-89 5341,-89 5341,-53 5452,-53 5452,-89\"/>\n<text text-anchor=\"start\" x=\"5349.5\" y=\"-68\" font-family=\"Times\" font-size=\"10.00\" fill=\"#000000\">Conv3x3 &gt; BatchNorm</text>\n</g>\n<!-- /outputs/277/278&#45;&gt;17499755213678651787 -->\n<g id=\"edge74\" class=\"edge\">\n<title>/outputs/277/278&#45;&gt;17499755213678651787</title>\n<path fill=\"none\" stroke=\"#000000\" d=\"M5276.8051,-71.8143C5292.0073,-71.7108 5311.6435,-71.5773 5330.5984,-71.4483\"/>\n<polygon fill=\"#000000\" stroke=\"#000000\" points=\"5330.7466,-74.9475 5340.7226,-71.3794 5330.6989,-67.9476 5330.7466,-74.9475\"/>\n</g>\n<!-- /outputs/285/286 -->\n<g id=\"node33\" class=\"node\">\n<title>/outputs/285/286</title>\n<polygon fill=\"#e8e8e8\" stroke=\"#000000\" points=\"5542,-88 5488,-88 5488,-52 5542,-52 5542,-88\"/>\n<text text-anchor=\"start\" x=\"5498\" y=\"-67\" font-family=\"Times\" font-size=\"10.00\" fill=\"#000000\">Dropout</text>\n</g>\n<!-- /outputs/293 -->\n<g id=\"node34\" class=\"node\">\n<title>/outputs/293</title>\n<polygon fill=\"#e8e8e8\" stroke=\"#000000\" points=\"5632,-63 5578,-63 5578,-27 5632,-27 5632,-63\"/>\n<text text-anchor=\"start\" x=\"5596\" y=\"-42\" font-family=\"Times\" font-size=\"10.00\" fill=\"#000000\">Add</text>\n</g>\n<!-- /outputs/285/286&#45;&gt;/outputs/293 -->\n<g id=\"edge23\" class=\"edge\">\n<title>/outputs/285/286&#45;&gt;/outputs/293</title>\n<path fill=\"none\" stroke=\"#000000\" d=\"M5542.003,-62.4992C5550.1158,-60.2456 5559.1631,-57.7325 5567.8131,-55.3297\"/>\n<polygon fill=\"#000000\" stroke=\"#000000\" points=\"5569.0066,-58.6308 5577.705,-52.5819 5567.1331,-51.8861 5569.0066,-58.6308\"/>\n</g>\n<!-- /outputs/294 -->\n<g id=\"node35\" class=\"node\">\n<title>/outputs/294</title>\n<polygon fill=\"#e8e8e8\" stroke=\"#000000\" points=\"5722,-63 5668,-63 5668,-27 5722,-27 5722,-63\"/>\n<text text-anchor=\"start\" x=\"5685\" y=\"-42\" font-family=\"Times\" font-size=\"10.00\" fill=\"#000000\">Relu</text>\n</g>\n<!-- /outputs/293&#45;&gt;/outputs/294 -->\n<g id=\"edge24\" class=\"edge\">\n<title>/outputs/293&#45;&gt;/outputs/294</title>\n<path fill=\"none\" stroke=\"#000000\" d=\"M5632.003,-45C5640.0277,-45 5648.9665,-45 5657.5309,-45\"/>\n<polygon fill=\"#000000\" stroke=\"#000000\" points=\"5657.7051,-48.5001 5667.705,-45 5657.705,-41.5001 5657.7051,-48.5001\"/>\n</g>\n<!-- /outputs/295/296 -->\n<g id=\"node36\" class=\"node\">\n<title>/outputs/295/296</title>\n<polygon fill=\"#e8e8e8\" stroke=\"#000000\" points=\"5812,-63 5758,-63 5758,-27 5812,-27 5812,-63\"/>\n<text text-anchor=\"start\" x=\"5768\" y=\"-42\" font-family=\"Times\" font-size=\"10.00\" fill=\"#000000\">Dropout</text>\n</g>\n<!-- /outputs/294&#45;&gt;/outputs/295/296 -->\n<g id=\"edge25\" class=\"edge\">\n<title>/outputs/294&#45;&gt;/outputs/295/296</title>\n<path fill=\"none\" stroke=\"#000000\" d=\"M5722.003,-45C5730.0277,-45 5738.9665,-45 5747.5309,-45\"/>\n<polygon fill=\"#000000\" stroke=\"#000000\" points=\"5747.7051,-48.5001 5757.705,-45 5747.705,-41.5001 5747.7051,-48.5001\"/>\n</g>\n<!-- /outputs/314 -->\n<g id=\"node39\" class=\"node\">\n<title>/outputs/314</title>\n<polygon fill=\"#e8e8e8\" stroke=\"#000000\" points=\"6405,-63 6351,-63 6351,-27 6405,-27 6405,-63\"/>\n<text text-anchor=\"start\" x=\"6369\" y=\"-42\" font-family=\"Times\" font-size=\"10.00\" fill=\"#000000\">Add</text>\n</g>\n<!-- /outputs/295/296&#45;&gt;/outputs/314 -->\n<g id=\"edge26\" class=\"edge\">\n<title>/outputs/295/296&#45;&gt;/outputs/314</title>\n<path fill=\"none\" stroke=\"#000000\" d=\"M5812.1209,-48.9016C5860.1575,-55.4636 5963.3931,-68 6051,-68 6051,-68 6051,-68 6169.5,-68 6229.7624,-68 6299.2347,-58.3901 6340.8314,-51.5938\"/>\n<polygon fill=\"#000000\" stroke=\"#000000\" points=\"6341.4956,-55.0314 6350.7836,-49.9341 6340.3441,-48.1268 6341.4956,-55.0314\"/>\n</g>\n<!-- 4165771798578711516 -->\n<g id=\"node60\" class=\"node\">\n<title>4165771798578711516</title>\n<polygon fill=\"#e8e8e8\" stroke=\"#000000\" points=\"5988,-40 5848,-40 5848,-4 5988,-4 5988,-40\"/>\n<text text-anchor=\"start\" x=\"5856\" y=\"-19\" font-family=\"Times\" font-size=\"10.00\" fill=\"#000000\">Conv3x3 &gt; BatchNorm &gt; Relu</text>\n</g>\n<!-- /outputs/295/296&#45;&gt;4165771798578711516 -->\n<g id=\"edge56\" class=\"edge\">\n<title>/outputs/295/296&#45;&gt;4165771798578711516</title>\n<path fill=\"none\" stroke=\"#000000\" d=\"M5812.2355,-40.2901C5819.9374,-38.9582 5828.7341,-37.437 5837.8904,-35.8535\"/>\n<polygon fill=\"#000000\" stroke=\"#000000\" points=\"5838.675,-39.2699 5847.9323,-34.117 5837.4821,-32.3723 5838.675,-39.2699\"/>\n</g>\n<!-- /outputs/304/305 -->\n<g id=\"node37\" class=\"node\">\n<title>/outputs/304/305</title>\n<polygon fill=\"#e8e8e8\" stroke=\"#000000\" points=\"6078,-40 6024,-40 6024,-4 6078,-4 6078,-40\"/>\n<text text-anchor=\"start\" x=\"6034\" y=\"-19\" font-family=\"Times\" font-size=\"10.00\" fill=\"#000000\">Dropout</text>\n</g>\n<!-- 12633739853041974842 -->\n<g id=\"node71\" class=\"node\">\n<title>12633739853041974842</title>\n<polygon fill=\"#e8e8e8\" stroke=\"#000000\" points=\"6225,-40 6114,-40 6114,-4 6225,-4 6225,-40\"/>\n<text text-anchor=\"start\" x=\"6122.5\" y=\"-19\" font-family=\"Times\" font-size=\"10.00\" fill=\"#000000\">Conv3x3 &gt; BatchNorm</text>\n</g>\n<!-- /outputs/304/305&#45;&gt;12633739853041974842 -->\n<g id=\"edge78\" class=\"edge\">\n<title>/outputs/304/305&#45;&gt;12633739853041974842</title>\n<path fill=\"none\" stroke=\"#000000\" d=\"M6078.1863,-22C6085.9311,-22 6094.7219,-22 6103.7161,-22\"/>\n<polygon fill=\"#000000\" stroke=\"#000000\" points=\"6103.9122,-25.5001 6113.9122,-22 6103.9121,-18.5001 6103.9122,-25.5001\"/>\n</g>\n<!-- /outputs/312/313 -->\n<g id=\"node38\" class=\"node\">\n<title>/outputs/312/313</title>\n<polygon fill=\"#e8e8e8\" stroke=\"#000000\" points=\"6315,-40 6261,-40 6261,-4 6315,-4 6315,-40\"/>\n<text text-anchor=\"start\" x=\"6271\" y=\"-19\" font-family=\"Times\" font-size=\"10.00\" fill=\"#000000\">Dropout</text>\n</g>\n<!-- /outputs/312/313&#45;&gt;/outputs/314 -->\n<g id=\"edge27\" class=\"edge\">\n<title>/outputs/312/313&#45;&gt;/outputs/314</title>\n<path fill=\"none\" stroke=\"#000000\" d=\"M6315.003,-28.9008C6323.1158,-30.9741 6332.1631,-33.2861 6340.8131,-35.4967\"/>\n<polygon fill=\"#000000\" stroke=\"#000000\" points=\"6340.1498,-38.9396 6350.705,-38.0246 6341.883,-32.1575 6340.1498,-38.9396\"/>\n</g>\n<!-- /outputs/315 -->\n<g id=\"node40\" class=\"node\">\n<title>/outputs/315</title>\n<polygon fill=\"#e8e8e8\" stroke=\"#000000\" points=\"6495,-63 6441,-63 6441,-27 6495,-27 6495,-63\"/>\n<text text-anchor=\"start\" x=\"6458\" y=\"-42\" font-family=\"Times\" font-size=\"10.00\" fill=\"#000000\">Relu</text>\n</g>\n<!-- /outputs/314&#45;&gt;/outputs/315 -->\n<g id=\"edge28\" class=\"edge\">\n<title>/outputs/314&#45;&gt;/outputs/315</title>\n<path fill=\"none\" stroke=\"#000000\" d=\"M6405.003,-45C6413.0277,-45 6421.9665,-45 6430.5309,-45\"/>\n<polygon fill=\"#000000\" stroke=\"#000000\" points=\"6430.7051,-48.5001 6440.705,-45 6430.705,-41.5001 6430.7051,-48.5001\"/>\n</g>\n<!-- /outputs/316/317 -->\n<g id=\"node41\" class=\"node\">\n<title>/outputs/316/317</title>\n<polygon fill=\"#e8e8e8\" stroke=\"#000000\" points=\"6585,-63 6531,-63 6531,-27 6585,-27 6585,-63\"/>\n<text text-anchor=\"start\" x=\"6541\" y=\"-42\" font-family=\"Times\" font-size=\"10.00\" fill=\"#000000\">Dropout</text>\n</g>\n<!-- /outputs/315&#45;&gt;/outputs/316/317 -->\n<g id=\"edge29\" class=\"edge\">\n<title>/outputs/315&#45;&gt;/outputs/316/317</title>\n<path fill=\"none\" stroke=\"#000000\" d=\"M6495.003,-45C6503.0277,-45 6511.9665,-45 6520.5309,-45\"/>\n<polygon fill=\"#000000\" stroke=\"#000000\" points=\"6520.7051,-48.5001 6530.705,-45 6520.705,-41.5001 6520.7051,-48.5001\"/>\n</g>\n<!-- /outputs/318 -->\n<g id=\"node42\" class=\"node\">\n<title>/outputs/318</title>\n<polygon fill=\"#e8e8e8\" stroke=\"#000000\" points=\"6717,-63 6621,-63 6621,-27 6717,-27 6717,-63\"/>\n<text text-anchor=\"start\" x=\"6629\" y=\"-42\" font-family=\"Times\" font-size=\"10.00\" fill=\"#000000\">GlobalAveragePool</text>\n</g>\n<!-- /outputs/316/317&#45;&gt;/outputs/318 -->\n<g id=\"edge30\" class=\"edge\">\n<title>/outputs/316/317&#45;&gt;/outputs/318</title>\n<path fill=\"none\" stroke=\"#000000\" d=\"M6585.1537,-45C6592.9879,-45 6601.8523,-45 6610.8103,-45\"/>\n<polygon fill=\"#000000\" stroke=\"#000000\" points=\"6610.914,-48.5001 6620.914,-45 6610.914,-41.5001 6610.914,-48.5001\"/>\n</g>\n<!-- /outputs/319 -->\n<g id=\"node43\" class=\"node\">\n<title>/outputs/319</title>\n<polygon fill=\"#e8e8e8\" stroke=\"#000000\" points=\"6807,-86 6753,-86 6753,-50 6807,-50 6807,-86\"/>\n<text text-anchor=\"start\" x=\"6768\" y=\"-65\" font-family=\"Times\" font-size=\"10.00\" fill=\"#000000\">Shape</text>\n</g>\n<!-- /outputs/318&#45;&gt;/outputs/319 -->\n<g id=\"edge31\" class=\"edge\">\n<title>/outputs/318&#45;&gt;/outputs/319</title>\n<path fill=\"none\" stroke=\"#000000\" d=\"M6717.0406,-54.9544C6725.7882,-56.7669 6734.7876,-58.6317 6743.1481,-60.364\"/>\n<polygon fill=\"#000000\" stroke=\"#000000\" points=\"6742.4673,-63.7972 6752.9694,-62.3991 6743.8876,-56.9428 6742.4673,-63.7972\"/>\n</g>\n<!-- /outputs/326 -->\n<g id=\"node50\" class=\"node\">\n<title>/outputs/326</title>\n<polygon fill=\"#e8e8e8\" stroke=\"#000000\" points=\"7174,-63 7120,-63 7120,-27 7174,-27 7174,-63\"/>\n<text text-anchor=\"start\" x=\"7130\" y=\"-42\" font-family=\"Times\" font-size=\"10.00\" fill=\"#000000\">Reshape</text>\n</g>\n<!-- /outputs/318&#45;&gt;/outputs/326 -->\n<g id=\"edge32\" class=\"edge\">\n<title>/outputs/318&#45;&gt;/outputs/326</title>\n<path fill=\"none\" stroke=\"#000000\" d=\"M6717.1534,-36.3702C6757.7617,-29.8439 6817.4903,-22 6870,-22 6870,-22 6870,-22 6963.5,-22 7014.3468,-22 7072.5079,-30.8019 7109.475,-37.5157\"/>\n<polygon fill=\"#000000\" stroke=\"#000000\" points=\"7109.3038,-41.0438 7119.7753,-39.4323 7110.5844,-34.162 7109.3038,-41.0438\"/>\n</g>\n<!-- /outputs/321 -->\n<g id=\"node45\" class=\"node\">\n<title>/outputs/321</title>\n<polygon fill=\"#e8e8e8\" stroke=\"#000000\" points=\"6897,-86 6843,-86 6843,-50 6897,-50 6897,-86\"/>\n<text text-anchor=\"start\" x=\"6856\" y=\"-65\" font-family=\"Times\" font-size=\"10.00\" fill=\"#000000\">Gather</text>\n</g>\n<!-- /outputs/319&#45;&gt;/outputs/321 -->\n<g id=\"edge33\" class=\"edge\">\n<title>/outputs/319&#45;&gt;/outputs/321</title>\n<path fill=\"none\" stroke=\"#000000\" d=\"M6807.003,-68C6815.0277,-68 6823.9665,-68 6832.5309,-68\"/>\n<polygon fill=\"#000000\" stroke=\"#000000\" points=\"6832.7051,-71.5001 6842.705,-68 6832.705,-64.5001 6832.7051,-71.5001\"/>\n</g>\n<!-- /outputs/320 -->\n<g id=\"node44\" class=\"node\">\n<title>/outputs/320</title>\n<polygon fill=\"#e8e8e8\" stroke=\"#000000\" points=\"6807,-140 6753,-140 6753,-104 6807,-104 6807,-140\"/>\n<text text-anchor=\"start\" x=\"6762\" y=\"-119\" font-family=\"Times\" font-size=\"10.00\" fill=\"#000000\">Constant</text>\n</g>\n<!-- /outputs/320&#45;&gt;/outputs/321 -->\n<g id=\"edge34\" class=\"edge\">\n<title>/outputs/320&#45;&gt;/outputs/321</title>\n<path fill=\"none\" stroke=\"#000000\" d=\"M6807.003,-105.7982C6815.4686,-100.7188 6824.9516,-95.029 6833.9389,-89.6366\"/>\n<polygon fill=\"#000000\" stroke=\"#000000\" points=\"6835.9308,-92.5232 6842.705,-84.377 6832.3293,-86.5208 6835.9308,-92.5232\"/>\n</g>\n<!-- /outputs/323 -->\n<g id=\"node47\" class=\"node\">\n<title>/outputs/323</title>\n<polygon fill=\"#e8e8e8\" stroke=\"#000000\" points=\"6994,-86 6933,-86 6933,-50 6994,-50 6994,-86\"/>\n<text text-anchor=\"start\" x=\"6941.5\" y=\"-65\" font-family=\"Times\" font-size=\"10.00\" fill=\"#000000\">Unsqueeze</text>\n</g>\n<!-- /outputs/321&#45;&gt;/outputs/323 -->\n<g id=\"edge35\" class=\"edge\">\n<title>/outputs/321&#45;&gt;/outputs/323</title>\n<path fill=\"none\" stroke=\"#000000\" d=\"M6897.0441,-68C6905.1072,-68 6914.1275,-68 6922.8587,-68\"/>\n<polygon fill=\"#000000\" stroke=\"#000000\" points=\"6922.9008,-71.5001 6932.9008,-68 6922.9007,-64.5001 6922.9008,-71.5001\"/>\n</g>\n<!-- /outputs/322 -->\n<g id=\"node46\" class=\"node\">\n<title>/outputs/322</title>\n<polygon fill=\"#e8e8e8\" stroke=\"#000000\" points=\"6897,-140 6843,-140 6843,-104 6897,-104 6897,-140\"/>\n<text text-anchor=\"start\" x=\"6852\" y=\"-119\" font-family=\"Times\" font-size=\"10.00\" fill=\"#000000\">Constant</text>\n</g>\n<!-- /outputs/324 -->\n<g id=\"node48\" class=\"node\">\n<title>/outputs/324</title>\n<polygon fill=\"#e8e8e8\" stroke=\"#000000\" points=\"6994,-140 6933,-140 6933,-104 6994,-104 6994,-140\"/>\n<text text-anchor=\"start\" x=\"6941.5\" y=\"-119\" font-family=\"Times\" font-size=\"10.00\" fill=\"#000000\">Unsqueeze</text>\n</g>\n<!-- /outputs/322&#45;&gt;/outputs/324 -->\n<g id=\"edge36\" class=\"edge\">\n<title>/outputs/322&#45;&gt;/outputs/324</title>\n<path fill=\"none\" stroke=\"#000000\" d=\"M6897.0441,-122C6905.1072,-122 6914.1275,-122 6922.8587,-122\"/>\n<polygon fill=\"#000000\" stroke=\"#000000\" points=\"6922.9008,-125.5001 6932.9008,-122 6922.9007,-118.5001 6922.9008,-125.5001\"/>\n</g>\n<!-- /outputs/325 -->\n<g id=\"node49\" class=\"node\">\n<title>/outputs/325</title>\n<polygon fill=\"#e8e8e8\" stroke=\"#000000\" points=\"7084,-86 7030,-86 7030,-50 7084,-50 7084,-86\"/>\n<text text-anchor=\"start\" x=\"7042\" y=\"-65\" font-family=\"Times\" font-size=\"10.00\" fill=\"#000000\">Concat</text>\n</g>\n<!-- /outputs/323&#45;&gt;/outputs/325 -->\n<g id=\"edge37\" class=\"edge\">\n<title>/outputs/323&#45;&gt;/outputs/325</title>\n<path fill=\"none\" stroke=\"#000000\" d=\"M6994.1154,-68C7002.294,-68 7011.2234,-68 7019.7177,-68\"/>\n<polygon fill=\"#000000\" stroke=\"#000000\" points=\"7019.7832,-71.5001 7029.7832,-68 7019.7832,-64.5001 7019.7832,-71.5001\"/>\n</g>\n<!-- /outputs/324&#45;&gt;/outputs/325 -->\n<g id=\"edge38\" class=\"edge\">\n<title>/outputs/324&#45;&gt;/outputs/325</title>\n<path fill=\"none\" stroke=\"#000000\" d=\"M6994.1154,-104.3184C7002.7433,-99.3354 7012.207,-93.8698 7021.1137,-88.7258\"/>\n<polygon fill=\"#000000\" stroke=\"#000000\" points=\"7022.8741,-91.7509 7029.7832,-83.7188 7019.3732,-85.6892 7022.8741,-91.7509\"/>\n</g>\n<!-- /outputs/325&#45;&gt;/outputs/326 -->\n<g id=\"edge39\" class=\"edge\">\n<title>/outputs/325&#45;&gt;/outputs/326</title>\n<path fill=\"none\" stroke=\"#000000\" d=\"M7084.003,-61.0992C7092.1158,-59.0259 7101.1631,-56.7139 7109.8131,-54.5033\"/>\n<polygon fill=\"#000000\" stroke=\"#000000\" points=\"7110.883,-57.8425 7119.705,-51.9754 7109.1498,-51.0604 7110.883,-57.8425\"/>\n</g>\n<!-- /outputs/327 -->\n<g id=\"node51\" class=\"node\">\n<title>/outputs/327</title>\n<polygon fill=\"#e8e8e8\" stroke=\"#000000\" points=\"7264,-63 7210,-63 7210,-27 7264,-27 7264,-63\"/>\n<text text-anchor=\"start\" x=\"7224\" y=\"-42\" font-family=\"Times\" font-size=\"10.00\" fill=\"#000000\">Linear</text>\n</g>\n<!-- /outputs/326&#45;&gt;/outputs/327 -->\n<g id=\"edge40\" class=\"edge\">\n<title>/outputs/326&#45;&gt;/outputs/327</title>\n<path fill=\"none\" stroke=\"#000000\" d=\"M7174.003,-45C7182.0277,-45 7190.9665,-45 7199.5309,-45\"/>\n<polygon fill=\"#000000\" stroke=\"#000000\" points=\"7199.7051,-48.5001 7209.705,-45 7199.705,-41.5001 7199.7051,-48.5001\"/>\n</g>\n<!-- 1889690925700771413 -->\n<g id=\"node52\" class=\"node\">\n<title>1889690925700771413</title>\n<polygon fill=\"#e8e8e8\" stroke=\"#000000\" points=\"140,-63 0,-63 0,-27 140,-27 140,-63\"/>\n<text text-anchor=\"start\" x=\"8\" y=\"-42\" font-family=\"Times\" font-size=\"10.00\" fill=\"#000000\">Conv3x3 &gt; BatchNorm &gt; Relu</text>\n</g>\n<!-- 1889690925700771413&#45;&gt;/outputs/130/131 -->\n<g id=\"edge41\" class=\"edge\">\n<title>1889690925700771413&#45;&gt;/outputs/130/131</title>\n<path fill=\"none\" stroke=\"#000000\" d=\"M140.0054,-45C148.8821,-45 157.6753,-45 165.7499,-45\"/>\n<polygon fill=\"#000000\" stroke=\"#000000\" points=\"165.8976,-48.5001 175.8976,-45 165.8975,-41.5001 165.8976,-48.5001\"/>\n</g>\n<!-- 9549680188316521732&#45;&gt;/outputs/139/140 -->\n<g id=\"edge43\" class=\"edge\">\n<title>9549680188316521732&#45;&gt;/outputs/139/140</title>\n<path fill=\"none\" stroke=\"#000000\" d=\"M406.0054,-22C414.8821,-22 423.6753,-22 431.7499,-22\"/>\n<polygon fill=\"#000000\" stroke=\"#000000\" points=\"431.8976,-25.5001 441.8976,-22 431.8975,-18.5001 431.8976,-25.5001\"/>\n</g>\n<!-- 13596195565340105828&#45;&gt;/outputs/160/161 -->\n<g id=\"edge45\" class=\"edge\">\n<title>13596195565340105828&#45;&gt;/outputs/160/161</title>\n<path fill=\"none\" stroke=\"#000000\" d=\"M1179.0054,-22C1187.8821,-22 1196.6753,-22 1204.7499,-22\"/>\n<polygon fill=\"#000000\" stroke=\"#000000\" points=\"1204.8976,-25.5001 1214.8976,-22 1204.8975,-18.5001 1204.8976,-25.5001\"/>\n</g>\n<!-- 7781879626480138629&#45;&gt;/outputs/181/182 -->\n<g id=\"edge47\" class=\"edge\">\n<title>7781879626480138629&#45;&gt;/outputs/181/182</title>\n<path fill=\"none\" stroke=\"#000000\" d=\"M1952.3664,-70.8714C1970.9141,-71.1011 1990.2049,-71.34 2006.2367,-71.5385\"/>\n<polygon fill=\"#000000\" stroke=\"#000000\" points=\"2006.2181,-75.0385 2016.2607,-71.6627 2006.3048,-68.039 2006.2181,-75.0385\"/>\n</g>\n<!-- 8135425047835306171&#45;&gt;/outputs/208/209 -->\n<g id=\"edge49\" class=\"edge\">\n<title>8135425047835306171&#45;&gt;/outputs/208/209</title>\n<path fill=\"none\" stroke=\"#000000\" d=\"M2782.0054,-22C2790.8821,-22 2799.6753,-22 2807.7499,-22\"/>\n<polygon fill=\"#000000\" stroke=\"#000000\" points=\"2807.8976,-25.5001 2817.8976,-22 2807.8975,-18.5001 2807.8976,-25.5001\"/>\n</g>\n<!-- 8395550254105287487&#45;&gt;/outputs/229/230 -->\n<g id=\"edge51\" class=\"edge\">\n<title>8395550254105287487&#45;&gt;/outputs/229/230</title>\n<path fill=\"none\" stroke=\"#000000\" d=\"M3555.3664,-70.8714C3573.9141,-71.1011 3593.2049,-71.34 3609.2367,-71.5385\"/>\n<polygon fill=\"#000000\" stroke=\"#000000\" points=\"3609.2181,-75.0385 3619.2607,-71.6627 3609.3048,-68.039 3609.2181,-75.0385\"/>\n</g>\n<!-- 12351324084915385884&#45;&gt;/outputs/256/257 -->\n<g id=\"edge53\" class=\"edge\">\n<title>12351324084915385884&#45;&gt;/outputs/256/257</title>\n<path fill=\"none\" stroke=\"#000000\" d=\"M4385.0054,-22C4393.8821,-22 4402.6753,-22 4410.7499,-22\"/>\n<polygon fill=\"#000000\" stroke=\"#000000\" points=\"4410.8976,-25.5001 4420.8976,-22 4410.8975,-18.5001 4410.8976,-25.5001\"/>\n</g>\n<!-- 561293334295388426&#45;&gt;/outputs/277/278 -->\n<g id=\"edge55\" class=\"edge\">\n<title>561293334295388426&#45;&gt;/outputs/277/278</title>\n<path fill=\"none\" stroke=\"#000000\" d=\"M5158.3664,-70.8714C5176.9141,-71.1011 5196.2049,-71.34 5212.2367,-71.5385\"/>\n<polygon fill=\"#000000\" stroke=\"#000000\" points=\"5212.2181,-75.0385 5222.2607,-71.6627 5212.3048,-68.039 5212.2181,-75.0385\"/>\n</g>\n<!-- 4165771798578711516&#45;&gt;/outputs/304/305 -->\n<g id=\"edge57\" class=\"edge\">\n<title>4165771798578711516&#45;&gt;/outputs/304/305</title>\n<path fill=\"none\" stroke=\"#000000\" d=\"M5988.0054,-22C5996.8821,-22 6005.6753,-22 6013.7499,-22\"/>\n<polygon fill=\"#000000\" stroke=\"#000000\" points=\"6013.8976,-25.5001 6023.8976,-22 6013.8975,-18.5001 6013.8976,-25.5001\"/>\n</g>\n<!-- 5372675753081858281&#45;&gt;/outputs/147/148 -->\n<g id=\"edge59\" class=\"edge\">\n<title>5372675753081858281&#45;&gt;/outputs/147/148</title>\n<path fill=\"none\" stroke=\"#000000\" d=\"M643.2801,-22C651.8784,-22 660.5745,-22 668.6408,-22\"/>\n<polygon fill=\"#000000\" stroke=\"#000000\" points=\"668.8207,-25.5001 678.8207,-22 668.8206,-18.5001 668.8207,-25.5001\"/>\n</g>\n<!-- 11616065633855626800&#45;&gt;/outputs/168/169 -->\n<g id=\"edge61\" class=\"edge\">\n<title>11616065633855626800&#45;&gt;/outputs/168/169</title>\n<path fill=\"none\" stroke=\"#000000\" d=\"M1416.2801,-22C1424.8784,-22 1433.5745,-22 1441.6408,-22\"/>\n<polygon fill=\"#000000\" stroke=\"#000000\" points=\"1441.8207,-25.5001 1451.8207,-22 1441.8206,-18.5001 1441.8207,-25.5001\"/>\n</g>\n<!-- 8014290251504932869&#45;&gt;/outputs/189/190 -->\n<g id=\"edge63\" class=\"edge\">\n<title>8014290251504932869&#45;&gt;/outputs/189/190</title>\n<path fill=\"none\" stroke=\"#000000\" d=\"M2246.2801,-70.5293C2254.8784,-70.4567 2263.5745,-70.3833 2271.6408,-70.3153\"/>\n<polygon fill=\"#000000\" stroke=\"#000000\" points=\"2271.8506,-73.8137 2281.8207,-70.2294 2271.7915,-66.814 2271.8506,-73.8137\"/>\n</g>\n<!-- 10947172672882271378&#45;&gt;/outputs/197 -->\n<g id=\"edge65\" class=\"edge\">\n<title>10947172672882271378&#45;&gt;/outputs/197</title>\n<path fill=\"none\" stroke=\"#000000\" d=\"M2099.0469,-22.2188C2172.1495,-27.7708 2298.7003,-37.3823 2361.4649,-42.1492\"/>\n<polygon fill=\"#000000\" stroke=\"#000000\" points=\"2361.4584,-45.6587 2371.6948,-42.9262 2361.9886,-38.6788 2361.4584,-45.6587\"/>\n</g>\n<!-- 14423773214979182961&#45;&gt;/outputs/216/217 -->\n<g id=\"edge67\" class=\"edge\">\n<title>14423773214979182961&#45;&gt;/outputs/216/217</title>\n<path fill=\"none\" stroke=\"#000000\" d=\"M3019.2801,-22C3027.8784,-22 3036.5745,-22 3044.6408,-22\"/>\n<polygon fill=\"#000000\" stroke=\"#000000\" points=\"3044.8207,-25.5001 3054.8207,-22 3044.8206,-18.5001 3044.8207,-25.5001\"/>\n</g>\n<!-- 16511751770136310089&#45;&gt;/outputs/237/238 -->\n<g id=\"edge69\" class=\"edge\">\n<title>16511751770136310089&#45;&gt;/outputs/237/238</title>\n<path fill=\"none\" stroke=\"#000000\" d=\"M3849.2801,-70.5293C3857.8784,-70.4567 3866.5745,-70.3833 3874.6408,-70.3153\"/>\n<polygon fill=\"#000000\" stroke=\"#000000\" points=\"3874.8506,-73.8137 3884.8207,-70.2294 3874.7915,-66.814 3874.8506,-73.8137\"/>\n</g>\n<!-- 13864167348690772333&#45;&gt;/outputs/245 -->\n<g id=\"edge71\" class=\"edge\">\n<title>13864167348690772333&#45;&gt;/outputs/245</title>\n<path fill=\"none\" stroke=\"#000000\" d=\"M3702.0469,-22.2188C3775.1495,-27.7708 3901.7003,-37.3823 3964.4649,-42.1492\"/>\n<polygon fill=\"#000000\" stroke=\"#000000\" points=\"3964.4584,-45.6587 3974.6948,-42.9262 3964.9886,-38.6788 3964.4584,-45.6587\"/>\n</g>\n<!-- 8885703437396441600&#45;&gt;/outputs/264/265 -->\n<g id=\"edge73\" class=\"edge\">\n<title>8885703437396441600&#45;&gt;/outputs/264/265</title>\n<path fill=\"none\" stroke=\"#000000\" d=\"M4622.2801,-22C4630.8784,-22 4639.5745,-22 4647.6408,-22\"/>\n<polygon fill=\"#000000\" stroke=\"#000000\" points=\"4647.8207,-25.5001 4657.8207,-22 4647.8206,-18.5001 4647.8207,-25.5001\"/>\n</g>\n<!-- 17499755213678651787&#45;&gt;/outputs/285/286 -->\n<g id=\"edge75\" class=\"edge\">\n<title>17499755213678651787&#45;&gt;/outputs/285/286</title>\n<path fill=\"none\" stroke=\"#000000\" d=\"M5452.2801,-70.5293C5460.8784,-70.4567 5469.5745,-70.3833 5477.6408,-70.3153\"/>\n<polygon fill=\"#000000\" stroke=\"#000000\" points=\"5477.8506,-73.8137 5487.8207,-70.2294 5477.7915,-66.814 5477.8506,-73.8137\"/>\n</g>\n<!-- 10057333675533700743&#45;&gt;/outputs/293 -->\n<g id=\"edge77\" class=\"edge\">\n<title>10057333675533700743&#45;&gt;/outputs/293</title>\n<path fill=\"none\" stroke=\"#000000\" d=\"M5305.0469,-22.2188C5378.1495,-27.7708 5504.7003,-37.3823 5567.4649,-42.1492\"/>\n<polygon fill=\"#000000\" stroke=\"#000000\" points=\"5567.4584,-45.6587 5577.6948,-42.9262 5567.9886,-38.6788 5567.4584,-45.6587\"/>\n</g>\n<!-- 12633739853041974842&#45;&gt;/outputs/312/313 -->\n<g id=\"edge79\" class=\"edge\">\n<title>12633739853041974842&#45;&gt;/outputs/312/313</title>\n<path fill=\"none\" stroke=\"#000000\" d=\"M6225.2801,-22C6233.8784,-22 6242.5745,-22 6250.6408,-22\"/>\n<polygon fill=\"#000000\" stroke=\"#000000\" points=\"6250.8207,-25.5001 6260.8207,-22 6250.8206,-18.5001 6250.8207,-25.5001\"/>\n</g>\n</g>\n</svg>\n"
          },
          "metadata": {},
          "execution_count": 29
        }
      ]
    },
    {
      "cell_type": "markdown",
      "metadata": {
        "id": "yNtnM-LiBiWQ"
      },
      "source": [
        "## Final Model - Training"
      ]
    },
    {
      "cell_type": "code",
      "metadata": {
        "id": "JakooyTvBiWR"
      },
      "source": [
        "# start_lr = 0.015\n",
        "# # max_lr = 0.0172685370741483 \n",
        "# max_lr = 0.018272685370741483\n",
        "# start_lr = max_lr/5"
      ],
      "execution_count": 30,
      "outputs": []
    },
    {
      "cell_type": "code",
      "metadata": {
        "id": "MKkBDrnaBiWS"
      },
      "source": [
        "# import torch\n",
        "# from tqdm import tqdm\n",
        "\n",
        "# def train(model, device, train_loader, criterion, optimizer, epoch,\n",
        "#           l1_decay, l2_decay, train_losses, train_accs, scheduler=None):\n",
        "#   model.train()\n",
        "#   pbar = tqdm(train_loader)\n",
        "#   correct = 0\n",
        "#   processed = 0\n",
        "#   avg_loss = 0\n",
        "#   for batch_idx, (data, target) in enumerate(pbar):\n",
        "#     # get samples\n",
        "#     data, target = data.to(device), target.to(device)\n",
        "\n",
        "#     # Init\n",
        "#     optimizer.zero_grad()\n",
        "#     # In PyTorch, we need to set the gradients to zero before starting to do backpropragation because PyTorch accumulates the gradients on subsequent backward passes. \n",
        "#     # Because of this, when you start your training loop, ideally you should zero out the gradients so that you do the parameter update correctly.\n",
        "\n",
        "#     # Predict\n",
        "#     y_pred = model(data)\n",
        "\n",
        "#     # Calculate loss\n",
        "#     loss = criterion(y_pred, target)\n",
        "#     if l1_decay > 0:\n",
        "#       l1_loss = 0\n",
        "#       for param in model.parameters():\n",
        "#         l1_loss += torch.norm(param,1)\n",
        "#       loss += l1_decay * l1_loss\n",
        "#     if l2_decay > 0:\n",
        "#       l2_loss = 0\n",
        "#       for param in model.parameters():\n",
        "#         l2_loss += torch.norm(param,2)\n",
        "#       loss += l2_decay * l2_loss\n",
        "\n",
        "#     # Backpropagation\n",
        "#     loss.backward()\n",
        "#     optimizer.step()\n",
        "#     if scheduler:\n",
        "#       scheduler.step()\n",
        "\n",
        "#     # Update pbar-tqdm\n",
        "#     pred = y_pred.argmax(dim=1, keepdim=True)  # get the index of the max log-probability\n",
        "#     correct += pred.eq(target.view_as(pred)).sum().item()\n",
        "#     processed += len(data)\n",
        "#     avg_loss += loss.item()\n",
        "\n",
        "#     pbar_str = f'Loss={loss.item():0.5f} Batch_id={batch_idx} Accuracy={100*correct/processed:0.2f}'\n",
        "#     if l1_decay > 0:\n",
        "#       pbar_str = f'L1_loss={l1_loss.item():0.3f} %s' % (pbar_str)\n",
        "#     if l2_decay > 0:\n",
        "#       pbar_str = f'L2_loss={l2_loss.item():0.3f} %s' % (pbar_str)\n",
        "\n",
        "#     pbar.set_description(desc= pbar_str)\n",
        "\n",
        "#   avg_loss /= len(train_loader)\n",
        "#   avg_acc = 100*correct/processed\n",
        "#   train_accs.append(avg_acc)\n",
        "#   train_losses.append(avg_loss)"
      ],
      "execution_count": 31,
      "outputs": []
    },
    {
      "cell_type": "code",
      "source": [
        "# import torch\n",
        "\n",
        "# def test(model, device, test_loader, criterion, classes, test_losses, test_accs,\n",
        "#          misclassified_imgs, correct_imgs, is_last_epoch):\n",
        "#     model.eval()\n",
        "#     test_loss = 0\n",
        "#     correct = 0\n",
        "#     with torch.no_grad():\n",
        "#         for data, target in test_loader:\n",
        "#             data, target = data.to(device), target.to(device)\n",
        "#             output = model(data)\n",
        "#             test_loss +=criterion(output, target).item()  # sum up batch loss\n",
        "#             pred = output.argmax(dim=1, keepdim=True)  # get the index of the max log-probability\n",
        "#             is_correct = pred.eq(target.view_as(pred))\n",
        "#             if is_last_epoch:\n",
        "#               misclassified_inds = (is_correct==0).nonzero()[:,0]\n",
        "#               for mis_ind in misclassified_inds:\n",
        "#                 if len(misclassified_imgs) == 25:\n",
        "#                   break\n",
        "#                 misclassified_imgs.append({\n",
        "#                     \"target\": target[mis_ind].cpu().numpy(),\n",
        "#                     \"pred\": pred[mis_ind][0].cpu().numpy(),\n",
        "#                     \"img\": data[mis_ind]\n",
        "#                 })\n",
        "              \n",
        "#               correct_inds = (is_correct==1).nonzero()[:,0]\n",
        "#               for ind in correct_inds:\n",
        "#                 if len(correct_imgs) == 25:\n",
        "#                   break\n",
        "#                 correct_imgs.append({\n",
        "#                     \"target\": target[ind].cpu().numpy(),\n",
        "#                     \"pred\": pred[ind][0].cpu().numpy(),\n",
        "#                     \"img\": data[ind]\n",
        "#                 })\n",
        "#             correct += is_correct.sum().item()\n",
        "\n",
        "#     test_loss /= len(test_loader)\n",
        "#     test_losses.append(test_loss)\n",
        "    \n",
        "#     test_acc = 100. * correct / len(test_loader.dataset)\n",
        "#     test_accs.append(test_acc)\n",
        "\n",
        "#     if test_acc >= 90.0:\n",
        "#         classwise_acc(model, device, test_loader, classes)\n",
        "\n",
        "#     print('Test set: Average loss: {:.4f}, Accuracy: {}/{} ({:.2f}%)\\n'.format(\n",
        "#         test_loss, correct, len(test_loader.dataset), test_acc))\n",
        "\n",
        "# def classwise_acc(model, device, test_loader, classes):\n",
        "#     class_correct = list(0. for i in range(10))\n",
        "#     class_total = list(0. for i in range(10))\n",
        "#     with torch.no_grad():\n",
        "#         for images, labels in test_loader:\n",
        "#             images, labels = images.to(device), labels.to(device)\n",
        "#             outputs = model(images)\n",
        "#             _, predicted = torch.max(outputs, 1)\n",
        "#             c = (predicted == labels).squeeze()\n",
        "#             for i in range(4):\n",
        "#                 label = labels[i]\n",
        "#                 class_correct[label] += c[i].item()\n",
        "#                 class_total[label] += 1\n",
        "    \n",
        "#     # print class-wise test accuracies\n",
        "#     print()\n",
        "#     for i in range(10):\n",
        "#       print('Accuracy of %5s : %2d %%' % (\n",
        "#           classes[i], 100 * class_correct[i] / class_total[i]))\n",
        "#     print()"
      ],
      "metadata": {
        "id": "MJCNX4V1SKCX"
      },
      "execution_count": 32,
      "outputs": []
    },
    {
      "cell_type": "code",
      "source": [
        "from torch.optim.lr_scheduler import ReduceLROnPlateau\n",
        "from torch.optim.lr_scheduler import StepLR,OneCycleLR\n",
        "import torch.optim as optim"
      ],
      "metadata": {
        "id": "8LrxZ5omSZwF"
      },
      "execution_count": 33,
      "outputs": []
    },
    {
      "cell_type": "code",
      "source": [
        "# def train_model(model,\n",
        "#                 data,\n",
        "#                 device,\n",
        "#                 model_config_data,\n",
        "#                 criterion = nn.CrossEntropyLoss(),\n",
        "#                 lr = 0.01,\n",
        "#                 max_lr = 0.02,\n",
        "#                 epochs = 30\n",
        "#                 ):\n",
        "#   l1_decay = model_config_data.l1_decay\n",
        "#   l2_decay = model_config_data.l2_decay\n",
        "#   criterion = criterion\n",
        "#   optimizer = optim.SGD(model.parameters(), lr=0.01, momentum=model_config_data.momentum)\n",
        "#   scheduler = OneCycleLR(optimizer, max_lr=0.02, steps_per_epoch=len(data.train_loader),\n",
        "#                        epochs=epochs, div_factor=10, final_div_factor=10,\n",
        "#                        pct_start=10/epochs)\n",
        "#   test_losses, train_losses, test_accs, train_accs = [], [], [], []\n",
        "#   misclassified_imgs, correct_imgs = [], []\n",
        "#   lr_trend = []\n",
        "#   for epoch in range(epochs):\n",
        "#     lr_trend.append(optimizer.param_groups[0]['lr'])\n",
        "#     print(f\"EPOCH: {epoch+1} (LR: {lr_trend[-1]:0.6f})\")\n",
        "#     train(model, device, data.train_loader, criterion, optimizer, epoch,\n",
        "#             l1_decay,l2_decay, train_losses, train_accs, scheduler)\n",
        "#     test(model, device, data.test_loader, criterion, data.classes, test_losses,\n",
        "#            test_accs, misclassified_imgs, correct_imgs, False)"
      ],
      "metadata": {
        "id": "Ksvy0yTeVPmC"
      },
      "execution_count": 34,
      "outputs": []
    },
    {
      "cell_type": "code",
      "source": [
        "def train_model_validate(model,\n",
        "                data,\n",
        "                device,\n",
        "                model_config_data,\n",
        "                lr = 0.01,\n",
        "                max_lr = 0.02,\n",
        "                epochs = 30,\n",
        "                criterion = nn.CrossEntropyLoss()\n",
        "                ):\n",
        "  \n",
        "  l1_decay = model_config_data.l1_decay\n",
        "  l2_decay = model_config_data.l2_decay\n",
        "  criterion = criterion\n",
        "  optimizer = optim.SGD(model.parameters(), lr=lr, momentum=model_config_data.momentum)\n",
        "  scheduler = OneCycleLR(optimizer, max_lr=max_lr, steps_per_epoch=len(data.train_loader),\n",
        "                       epochs=epochs, div_factor=10, final_div_factor=10,\n",
        "                       pct_start=10/epochs)\n",
        "  test_losses, train_losses, test_accs, train_accs = [], [], [], []\n",
        "  misclassified_imgs, correct_imgs = [], []\n",
        "  lr_trend = []  \n",
        "  for epoch in range(epochs):\n",
        "          lr_trend.append(optimizer.param_groups[0]['lr'])\n",
        "          print(f\"EPOCH: {epoch+1} (LR: {lr_trend[-1]:0.6f})\")\n",
        "          train_model(model, device, data.train_loader, criterion, optimizer, epoch,l1_decay,l2_decay, train_losses, train_accs, scheduler)\n",
        "          test_model(model, epoch, device, data.test_loader, criterion, data.classes, test_losses, test_accs, misclassified_imgs, correct_imgs, False)\n",
        "                          \n",
        "  return test_losses, train_losses, test_accs, train_accs, misclassified_imgs, correct_imgs, lr_trend"
      ],
      "metadata": {
        "id": "KnPm8lRuuVrT"
      },
      "execution_count": 35,
      "outputs": []
    },
    {
      "cell_type": "code",
      "source": [
        "test_losses, train_losses, test_accs, train_accs, misclassified_imgs, correct_imgs, lr_trend = model_main.train_model_validate(model = model,\n",
        "                                                                                                                               data = data,\n",
        "                                                                                                                               device = device,\n",
        "                                                                                                                               model_config_data = model_config_data,\n",
        "                                                                                                                               lr = 0.1,\n",
        "                                                                                                                               max_lr = 0.02,\n",
        "                                                                                                                               epochs = 30,\n",
        "                                                                                                                               criterion=nn.CrossEntropyLoss())"
      ],
      "metadata": {
        "colab": {
          "base_uri": "https://localhost:8080/"
        },
        "id": "YxkDf_ktKtvD",
        "outputId": "19ba105a-1cd3-499a-92d3-a67dcf65d68e"
      },
      "execution_count": null,
      "outputs": [
        {
          "output_type": "stream",
          "name": "stdout",
          "text": [
            "EPOCH: 1 (LR: 0.002000)\n"
          ]
        },
        {
          "output_type": "stream",
          "name": "stderr",
          "text": [
            "\r  0%|          | 0/391 [00:00<?, ?it/s]/usr/local/lib/python3.7/dist-packages/torch/utils/data/dataloader.py:481: UserWarning: This DataLoader will create 4 worker processes in total. Our suggested max number of worker in current system is 2, which is smaller than what this DataLoader is going to create. Please be aware that excessive worker creation might get DataLoader running slow or even freeze, lower the worker number to avoid potential slowness/freeze if necessary.\n",
            "  cpuset_checked))\n",
            "L2_loss=462.929 Loss=6.41543 Batch_id=390 Accuracy=6.18: 100%|██████████| 391/391 [15:36<00:00,  2.39s/it]\n"
          ]
        },
        {
          "output_type": "stream",
          "name": "stdout",
          "text": [
            "Saving..\n",
            "Test set: Average loss: 4.1612, Accuracy: 1108/10000 (11.08%)\n",
            "\n",
            "EPOCH: 2 (LR: 0.002441)\n"
          ]
        },
        {
          "output_type": "stream",
          "name": "stderr",
          "text": [
            "L2_loss=460.465 Loss=5.81366 Batch_id=390 Accuracy=15.27: 100%|██████████| 391/391 [15:36<00:00,  2.40s/it]\n"
          ]
        },
        {
          "output_type": "stream",
          "name": "stdout",
          "text": [
            "Saving..\n",
            "Test set: Average loss: 3.6775, Accuracy: 1829/10000 (18.29%)\n",
            "\n",
            "EPOCH: 3 (LR: 0.003720)\n"
          ]
        },
        {
          "output_type": "stream",
          "name": "stderr",
          "text": [
            "L2_loss=457.614 Loss=5.63500 Batch_id=390 Accuracy=22.20: 100%|██████████| 391/391 [15:36<00:00,  2.40s/it]\n"
          ]
        },
        {
          "output_type": "stream",
          "name": "stdout",
          "text": [
            "Saving..\n",
            "Test set: Average loss: 3.4026, Accuracy: 2232/10000 (22.32%)\n",
            "\n",
            "EPOCH: 4 (LR: 0.005712)\n"
          ]
        },
        {
          "output_type": "stream",
          "name": "stderr",
          "text": [
            "L2_loss=454.443 Loss=5.28439 Batch_id=390 Accuracy=27.68: 100%|██████████| 391/391 [15:37<00:00,  2.40s/it]\n"
          ]
        },
        {
          "output_type": "stream",
          "name": "stdout",
          "text": [
            "Saving..\n",
            "Test set: Average loss: 3.2784, Accuracy: 2538/10000 (25.38%)\n",
            "\n",
            "EPOCH: 5 (LR: 0.008222)\n"
          ]
        },
        {
          "output_type": "stream",
          "name": "stderr",
          "text": [
            "L2_loss=450.908 Loss=4.99314 Batch_id=390 Accuracy=32.90: 100%|██████████| 391/391 [15:33<00:00,  2.39s/it]\n"
          ]
        },
        {
          "output_type": "stream",
          "name": "stdout",
          "text": [
            "Saving..\n",
            "Test set: Average loss: 3.0239, Accuracy: 2979/10000 (29.79%)\n",
            "\n",
            "EPOCH: 6 (LR: 0.011004)\n"
          ]
        },
        {
          "output_type": "stream",
          "name": "stderr",
          "text": [
            "L2_loss=447.033 Loss=4.56506 Batch_id=390 Accuracy=36.79: 100%|██████████| 391/391 [15:33<00:00,  2.39s/it]\n"
          ]
        },
        {
          "output_type": "stream",
          "name": "stdout",
          "text": [
            "Saving..\n",
            "Test set: Average loss: 2.7988, Accuracy: 3387/10000 (33.87%)\n",
            "\n",
            "EPOCH: 7 (LR: 0.013785)\n"
          ]
        },
        {
          "output_type": "stream",
          "name": "stderr",
          "text": [
            "L2_loss=442.875 Loss=4.70448 Batch_id=390 Accuracy=40.16: 100%|██████████| 391/391 [15:33<00:00,  2.39s/it]\n"
          ]
        },
        {
          "output_type": "stream",
          "name": "stdout",
          "text": [
            "Test set: Average loss: 2.9356, Accuracy: 3217/10000 (32.17%)\n",
            "\n",
            "EPOCH: 8 (LR: 0.016294)\n"
          ]
        },
        {
          "output_type": "stream",
          "name": "stderr",
          "text": [
            "L2_loss=438.546 Loss=4.24444 Batch_id=390 Accuracy=43.31: 100%|██████████| 391/391 [15:33<00:00,  2.39s/it]\n"
          ]
        },
        {
          "output_type": "stream",
          "name": "stdout",
          "text": [
            "Test set: Average loss: 3.0994, Accuracy: 3086/10000 (30.86%)\n",
            "\n",
            "EPOCH: 9 (LR: 0.018285)\n"
          ]
        },
        {
          "output_type": "stream",
          "name": "stderr",
          "text": [
            "L2_loss=434.101 Loss=4.40979 Batch_id=390 Accuracy=46.20: 100%|██████████| 391/391 [15:35<00:00,  2.39s/it]\n"
          ]
        },
        {
          "output_type": "stream",
          "name": "stdout",
          "text": [
            "Saving..\n",
            "Test set: Average loss: 2.6355, Accuracy: 3875/10000 (38.75%)\n",
            "\n",
            "EPOCH: 10 (LR: 0.019562)\n"
          ]
        },
        {
          "output_type": "stream",
          "name": "stderr",
          "text": [
            "L2_loss=429.582 Loss=4.58842 Batch_id=390 Accuracy=48.48: 100%|██████████| 391/391 [15:34<00:00,  2.39s/it]\n"
          ]
        },
        {
          "output_type": "stream",
          "name": "stdout",
          "text": [
            "Saving..\n",
            "Test set: Average loss: 2.4197, Accuracy: 4236/10000 (42.36%)\n",
            "\n",
            "EPOCH: 11 (LR: 0.020000)\n"
          ]
        },
        {
          "output_type": "stream",
          "name": "stderr",
          "text": [
            "L2_loss=425.015 Loss=3.96372 Batch_id=390 Accuracy=50.69: 100%|██████████| 391/391 [15:33<00:00,  2.39s/it]\n"
          ]
        },
        {
          "output_type": "stream",
          "name": "stdout",
          "text": [
            "Saving..\n",
            "Test set: Average loss: 2.3959, Accuracy: 4292/10000 (42.92%)\n",
            "\n",
            "EPOCH: 12 (LR: 0.019877)\n"
          ]
        },
        {
          "output_type": "stream",
          "name": "stderr",
          "text": [
            "L2_loss=420.525 Loss=4.21451 Batch_id=390 Accuracy=52.86: 100%|██████████| 391/391 [15:34<00:00,  2.39s/it]\n"
          ]
        },
        {
          "output_type": "stream",
          "name": "stdout",
          "text": [
            "Saving..\n",
            "Test set: Average loss: 2.3542, Accuracy: 4327/10000 (43.27%)\n",
            "\n",
            "EPOCH: 13 (LR: 0.019514)\n"
          ]
        },
        {
          "output_type": "stream",
          "name": "stderr",
          "text": [
            "L2_loss=417.633 Loss=3.84777 Batch_id=258 Accuracy=54.85:  66%|██████▌   | 258/391 [10:19<05:16,  2.38s/it]"
          ]
        }
      ]
    },
    {
      "cell_type": "code",
      "source": [
        "# test_losses, train_losses, test_accs, train_accs, misclassified_imgs, correct_imgs, lr_trend = model_main.train_model(model,\n",
        "#                                                                                                                       data,\n",
        "#                                                                                                                       device,\n",
        "#                                                                                                                       model_config_data)"
      ],
      "metadata": {
        "id": "zYgCP76xi0NA"
      },
      "execution_count": null,
      "outputs": []
    },
    {
      "cell_type": "markdown",
      "source": [
        "### Plot Learning Rate Schedule"
      ],
      "metadata": {
        "id": "0f6czbXYoHFv"
      }
    },
    {
      "cell_type": "code",
      "source": [
        "# Plot the change in learning rate vs epochs\n",
        "plt_data = {\n",
        "    \"lr\": lr_trend,\n",
        "}\n",
        "plot_graph(plt_data, \"LR\")"
      ],
      "metadata": {
        "id": "JEavHdQ1oISm"
      },
      "execution_count": null,
      "outputs": []
    },
    {
      "cell_type": "markdown",
      "source": [
        "### Plot Validation Loss\n",
        "\n",
        "Plot the change in validation loss vs epochs\n"
      ],
      "metadata": {
        "id": "V38MHe3ipFnc"
      }
    },
    {
      "cell_type": "code",
      "source": [
        "plt_data = {\n",
        "    \"val\": test_losses,\n",
        "}\n",
        "plot_graph(plt_data, \"Loss\")"
      ],
      "metadata": {
        "id": "WpvEVJnjpIGJ"
      },
      "execution_count": null,
      "outputs": []
    },
    {
      "cell_type": "markdown",
      "source": [
        "### Plot Validation Accuracy\n",
        "\n",
        "Plot the change in validation accracy vs epochs\n"
      ],
      "metadata": {
        "id": "FBO5y3d-pOhV"
      }
    },
    {
      "cell_type": "code",
      "source": [
        "plt_data = {\n",
        "    \"train\": train_accs,\n",
        "    \"val\": test_accs\n",
        "}\n",
        "plot_graph(plt_data, \"Accuracy\")"
      ],
      "metadata": {
        "id": "PW9_jiBWpRpQ"
      },
      "execution_count": null,
      "outputs": []
    },
    {
      "cell_type": "markdown",
      "source": [
        "### Visualize GradCAM"
      ],
      "metadata": {
        "id": "plD53yq6rTZB"
      }
    },
    {
      "cell_type": "code",
      "source": [
        "# final_gradcam.show_final_gradcam(viz_cam = VisualizeCam(model,data.classes, target_layers))\n",
        "viz_cam = VisualizeCam(model,data.classes, target_layers)"
      ],
      "metadata": {
        "id": "iNCrVK3IrUjW"
      },
      "execution_count": null,
      "outputs": []
    }
  ]
}