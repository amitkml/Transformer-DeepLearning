{
  "nbformat": 4,
  "nbformat_minor": 0,
  "metadata": {
    "colab": {
      "name": "EVA7_Session_2_With_explanations.ipynb",
      "provenance": [],
      "collapsed_sections": []
    },
    "kernelspec": {
      "name": "python3",
      "display_name": "Python 3"
    },
    "accelerator": "GPU"
  },
  "cells": [
    {
      "cell_type": "markdown",
      "metadata": {
        "id": "view-in-github"
      },
      "source": [
        "<a href=\"https://colab.research.google.com/github/anilbhatt1/EVA4_Phase1/blob/master/EVA4_Session_2_With_explanations.ipynb\" target=\"_parent\"><img src=\"https://colab.research.google.com/assets/colab-badge.svg\" alt=\"Open In Colab\"/></a>"
      ]
    },
    {
      "cell_type": "code",
      "metadata": {
        "id": "0m2JWFliFfKT"
      },
      "source": [
        "from __future__ import print_function\n",
        "import torch\n",
        "import torch.nn as nn\n",
        "import torch.nn.functional as F\n",
        "import torch.optim as optim\n",
        "from torchvision import datasets, transforms"
      ],
      "execution_count": 1,
      "outputs": []
    },
    {
      "cell_type": "code",
      "metadata": {
        "id": "6xPaB2StVSC_"
      },
      "source": [
        "# # [filter size, stride, padding]\n",
        "# #Assume the two dimensions are the same\n",
        "# #Each kernel requires the following parameters:\n",
        "# # - k_i: kernel size\n",
        "# # - s_i: stride\n",
        "# # - p_i: padding (if padding is uneven, right padding will higher than left padding; \"SAME\" option in tensorflow)\n",
        "# # \n",
        "# #Each layer i requires the following parameters to be fully represented: \n",
        "# # - n_i: number of feature (data layer has n_1 = imagesize )\n",
        "# # - j_i: distance (projected to image pixel distance) between center of two adjacent features\n",
        "# # - r_i: receptive field of a feature in layer i\n",
        "# # - start_i: position of the first feature's receptive field in layer i (idx start from 0, negative means the center fall into padding)\n",
        "\n",
        "# import math\n",
        "# convnet =   [[11,4,0],[3,2,0],[5,1,2],[3,2,0],[3,1,1],[3,1,1],[3,1,1],[3,2,0],[6,1,0], [1, 1, 0]]\n",
        "# layer_names = ['conv1','pool1','conv2','pool2','conv3','conv4','conv5','pool5','fc6-conv', 'fc7-conv']\n",
        "# imsize = 227\n",
        "\n",
        "# def outFromIn(conv, layerIn):\n",
        "#   n_in = layerIn[0]\n",
        "#   j_in = layerIn[1]\n",
        "#   r_in = layerIn[2]\n",
        "#   start_in = layerIn[3]\n",
        "#   k = conv[0]\n",
        "#   s = conv[1]\n",
        "#   p = conv[2]\n",
        "  \n",
        "#   n_out = math.floor((n_in - k + 2*p)/s) + 1\n",
        "#   actualP = (n_out-1)*s - n_in + k \n",
        "#   pR = math.ceil(actualP/2)\n",
        "#   pL = math.floor(actualP/2)\n",
        "  \n",
        "#   j_out = j_in * s\n",
        "#   r_out = r_in + (k - 1)*j_in\n",
        "#   start_out = start_in + ((k-1)/2 - pL)*j_in\n",
        "#   return n_out, j_out, r_out, start_out\n",
        "  \n",
        "# def printLayer(layer, layer_name):\n",
        "#   print(layer_name + \":\")\n",
        "#   print(\"\\t n features: %s \\n \\t jump: %s \\n \\t receptive size: %s \\t start: %s \" % (layer[0], layer[1], layer[2], layer[3]))\n",
        " \n",
        "# layerInfos = []\n",
        "# if __name__ == '__main__':\n",
        "# #first layer is the data layer (image) with n_0 = image size; j_0 = 1; r_0 = 1; and start_0 = 0.5\n",
        "#   print (\"-------Net summary------\")\n",
        "#   currentLayer = [imsize, 1, 1, 0.5]\n",
        "#   printLayer(currentLayer, \"input image\")\n",
        "#   for i in range(len(convnet)):\n",
        "#     currentLayer = outFromIn(convnet[i], currentLayer)\n",
        "#     layerInfos.append(currentLayer)\n",
        "#     printLayer(currentLayer, layer_names[i])\n",
        "#   print (\"------------------------\")\n",
        "#   layer_name = raw_input (\"Layer name where the feature in: \")\n",
        "#   layer_idx = layer_names.index(layer_name)\n",
        "#   idx_x = int(raw_input (\"index of the feature in x dimension (from 0)\"))\n",
        "#   idx_y = int(raw_input (\"index of the feature in y dimension (from 0)\"))\n",
        "  \n",
        "#   n = layerInfos[layer_idx][0]\n",
        "#   j = layerInfos[layer_idx][1]\n",
        "#   r = layerInfos[layer_idx][2]\n",
        "#   start = layerInfos[layer_idx][3]\n",
        "#   assert(idx_x < n)\n",
        "#   assert(idx_y < n)\n",
        "  \n",
        "#   print (\"receptive field: (%s, %s)\" % (r, r))\n",
        "#   print (\"center: (%s, %s)\" % (start+idx_x*j, start+idx_y*j))"
      ],
      "execution_count": 7,
      "outputs": []
    },
    {
      "cell_type": "code",
      "metadata": {
        "id": "h_Cx9q2QFgM7"
      },
      "source": [
        "class Net(nn.Module):\n",
        "    def __init__(self):\n",
        "        # super(Net, self).__init__()\n",
        "        # self.conv1 = nn.Conv2d(1, 32, 3, padding=1) #input - 28x28x1  Output - 28x28x32 : RF -> 3\n",
        "        # self.conv2 = nn.Conv2d(32, 64, 3, padding=1) # i/p - 28x28x32 o/p - 28x28x64 : RF -> 5\n",
        "        # self.pool1 = nn.MaxPool2d(2, 2) # i/p - 28x28x64 o/p 14x14x64 : RF -> 6\n",
        "        # self.conv3 = nn.Conv2d(64, 128, 3, padding=1) # i/p 14x14x64 o/p 14x14x128 : RF -> 10\n",
        "        # self.conv4 = nn.Conv2d(128, 256, 3, padding=1) # i/p 14x14x128 o/p 14x14x256 : RF -> 14\n",
        "        # self.pool2 = nn.MaxPool2d(2, 2)  # i/p 14x14x256 o/p 7x7x256   : RF -> 16\n",
        "        # self.conv5 = nn.Conv2d(256, 512, 3)  # i/p 7x7x256 o/p 5x5x512 -> RF 24\n",
        "        # self.conv6 = nn.Conv2d(512, 10, 5) # i/p 5x5x512 o/p 1x1x10 -> RF 40\n",
        "        # self.conv7 = nn.Conv2d(1024, 10, 3)  # i/p 3x3x1024 o/p 1x1x10 -> RF 40\n",
        "        super(Net, self).__init__()\n",
        "        self.conv1 = nn.Conv2d(1, 32, 3, padding=1) #input -? OUtput? RF  #input - 28x28x1  Output - 28x28x32 : RF -> 3\n",
        "        self.conv2 = nn.Conv2d(32, 64, 3, padding=1)  # i/p - 28x28x32 o/p - 28x28x64 : RF -> 5\n",
        "        self.pool1 = nn.MaxPool2d(2, 2)  # i/p - 28x28x64 o/p 14x14x64 : RF -> 6\n",
        "        self.conv3 = nn.Conv2d(64, 128, 3, padding=1) # i/p 14x14x64 o/p 14x14x128 : RF -> 10\n",
        "        self.conv4 = nn.Conv2d(128, 256, 3, padding=1)  # i/p 14x14x128 o/p 14x14x256 : RF -> 14\n",
        "        self.pool2 = nn.MaxPool2d(2, 2) ## i/p 14x14x256 o/p 7x7x256   : RF -> 16\n",
        "        self.conv5 = nn.Conv2d(256, 512, 3) ## i/p 7x7x256 o/p 5x5x512 -> RF 24\n",
        "        self.conv6 = nn.Conv2d(512, 1024, 3) ## i/p 5x5x512 o/p 3x3x1024 -> RF 26\n",
        "        self.conv7 = nn.Conv2d(1024, 10, 3)   ## i/p 3x3x1024 o/p 1x1x10 -> RF 28     \n",
        "\n",
        "    def forward(self, x):\n",
        "      x = self.pool1(F.relu(self.conv2(F.relu(self.conv1(x)))))\n",
        "      x = self.pool2(F.relu(self.conv4(F.relu(self.conv3(x)))))\n",
        "      x = F.relu(self.conv6(F.relu(self.conv5(x))))\n",
        "      # x = F.relu(self.conv7(x))  ## THIS IS THE ONLY CHANGE I HAD TO COMMENT TO IMPROVE PERFORMANCE FROM 28% TO 98%\n",
        "      x = self.conv7(x)  ## ## THIS IS THE ONLY CHANGE I HAD TO ADD TO IMPROVE PERFORMANCE FROM 28% TO 98%\n",
        "      x = x.view(-1, 10)\n",
        "        # x = self.pool1(F.relu(self.conv2(F.relu(self.conv1(x)))))\n",
        "        # x = self.pool2(F.relu(self.conv4(F.relu(self.conv3(x)))))\n",
        "        # x = F.relu(self.conv6(F.relu(self.conv5(x))))\n",
        "        # x = F.relu(self.conv5(x))\n",
        "        # x = F.relu(self.conv7(x))\n",
        "        # x = self.conv7(x)\n",
        "        # x = self.conv6(x)\n",
        "        # x = x.view(-1, 10)\n",
        "      return F.log_softmax(x)"
      ],
      "execution_count": 13,
      "outputs": []
    },
    {
      "cell_type": "code",
      "metadata": {
        "id": "xdydjYTZFyi3",
        "colab": {
          "base_uri": "https://localhost:8080/"
        },
        "outputId": "b86fdf25-41fb-4942-c8c3-9b61f1a7bcde"
      },
      "source": [
        "!pip install torchsummary\n",
        "from torchsummary import summary\n",
        "use_cuda = torch.cuda.is_available()\n",
        "device = torch.device(\"cuda\" if use_cuda else \"cpu\")\n",
        "model = Net().to(device)\n",
        "summary(model, input_size=(1, 28, 28))"
      ],
      "execution_count": 14,
      "outputs": [
        {
          "output_type": "stream",
          "name": "stdout",
          "text": [
            "Requirement already satisfied: torchsummary in /usr/local/lib/python3.7/dist-packages (1.5.1)\n",
            "----------------------------------------------------------------\n",
            "        Layer (type)               Output Shape         Param #\n",
            "================================================================\n",
            "            Conv2d-1           [-1, 32, 28, 28]             320\n",
            "            Conv2d-2           [-1, 64, 28, 28]          18,496\n",
            "         MaxPool2d-3           [-1, 64, 14, 14]               0\n",
            "            Conv2d-4          [-1, 128, 14, 14]          73,856\n",
            "            Conv2d-5          [-1, 256, 14, 14]         295,168\n",
            "         MaxPool2d-6            [-1, 256, 7, 7]               0\n",
            "            Conv2d-7            [-1, 512, 5, 5]       1,180,160\n",
            "            Conv2d-8           [-1, 1024, 3, 3]       4,719,616\n",
            "            Conv2d-9             [-1, 10, 1, 1]          92,170\n",
            "================================================================\n",
            "Total params: 6,379,786\n",
            "Trainable params: 6,379,786\n",
            "Non-trainable params: 0\n",
            "----------------------------------------------------------------\n",
            "Input size (MB): 0.00\n",
            "Forward/backward pass size (MB): 1.51\n",
            "Params size (MB): 24.34\n",
            "Estimated Total Size (MB): 25.85\n",
            "----------------------------------------------------------------\n"
          ]
        },
        {
          "output_type": "stream",
          "name": "stderr",
          "text": [
            "/usr/local/lib/python3.7/dist-packages/ipykernel_launcher.py:39: UserWarning: Implicit dimension choice for log_softmax has been deprecated. Change the call to include dim=X as an argument.\n"
          ]
        }
      ]
    },
    {
      "cell_type": "code",
      "metadata": {
        "id": "DqTWLaM5GHgH"
      },
      "source": [
        "torch.manual_seed(1)  # This is to generate random numbers\n",
        "batch_size = 128\n",
        "\n",
        "# num_workers -> which denotes the number of processes that generate batches in parallel. A high enough number of workers assures that \n",
        "# CPU computations are efficiently managed. 0 means data will be loaded in the main process.\n",
        "# pin_memory -> If you load your samples in the Dataset on CPU and would like to push it during training to the GPU, you can speed up \n",
        "# the host to device transfer by enabling pin_memory . This lets your DataLoader allocate the samples in page-locked memory, which \n",
        "# speeds-up the transfer. \n",
        "\n",
        "kwargs = {'num_workers': 1, 'pin_memory': True} if use_cuda else {}\n",
        "train_loader = torch.utils.data.DataLoader(\n",
        "    datasets.MNIST('../data', train=True, download=True,\n",
        "                    transform=transforms.Compose([\n",
        "                        transforms.ToTensor(), # Will transform (H,W,C) to (C,W,H) and scale between 0-1 # Converts a PIL Image or numpy.ndarray (H x W x C) in the range [0, 255] to a torch.FloatTensor of shape (C x H x W) in the range [0.0, 1\n",
        "                        transforms.Normalize((0.1307,), (0.3081,))    # 0.1307 - MNIST mean, 0.3081 - MNIST std\n",
        "                    ])),\n",
        "    batch_size=batch_size, shuffle=True, **kwargs)\n",
        "test_loader = torch.utils.data.DataLoader(\n",
        "    datasets.MNIST('../data', train=False, transform=transforms.Compose([\n",
        "                        transforms.ToTensor(),\n",
        "                        transforms.Normalize((0.1307,), (0.3081,))\n",
        "                    ])),\n",
        "    batch_size=batch_size, shuffle=True, **kwargs)\n"
      ],
      "execution_count": 15,
      "outputs": []
    },
    {
      "cell_type": "code",
      "metadata": {
        "id": "8fDefDhaFlwH"
      },
      "source": [
        "from tqdm import tqdm  \n",
        "\n",
        "# Instantly make your loops show a smart progress meter - just wrap any iterable with tqdm(iterable), and you're done!\n",
        "\n",
        "def train(model, device, train_loader, optimizer, epoch):\n",
        "    model.train()\n",
        "    pbar = tqdm(train_loader)\n",
        "    for batch_idx, (data, target) in enumerate(pbar):\n",
        "        data, target = data.to(device), target.to(device)\n",
        "        optimizer.zero_grad()\n",
        "        # In PyTorch, we need to set the gradients to zero before starting to do backpropragation because PyTorch accumulates \n",
        "        # the gradients on subsequent backward passes\n",
        "        output_train = model(data)\n",
        "        loss = F.nll_loss(output_train, target)  # Negative log likehood. Loss calculated between prediction from model & input target\n",
        "        loss.backward()  # Operation that calculates gradient (back-prop)\n",
        "        optimizer.step() # Operation that updates the weights (back-prop)\n",
        "        pbar.set_description(desc= f'ding loss={loss.item()} batch_id={batch_idx}')\n",
        "\n",
        "\n",
        "def test(model, device, test_loader):\n",
        "    model.eval()\n",
        "    test_loss = 0\n",
        "    correct = 0\n",
        "    with torch.no_grad():  # We are disabling gradient calculation as we are dealing with test data\n",
        "        for data, target in test_loader:\n",
        "            data, target = data.to(device), target.to(device)\n",
        "            output_test = model(data)\n",
        "            test_loss += F.nll_loss(output_test, target, reduction='sum').item()  # sum up batch loss\n",
        "            pred = output_test.argmax(dim=1, keepdim=True)  # get the index of the max log-probability\n",
        "            correct += pred.eq(target.view_as(pred)).sum().item()\n",
        "            # .eq -> Computes element-wise equality between values in pred and target. \n",
        "            # To enable comparison we are changing target to same shape as pred using target.view_as(pred)\n",
        "            # Output of pred.eq(target.view_as(pred)) will be 1 (True) or 0(False)\n",
        "            # We will sum-up this with 'correct' for each of test row\n",
        "            # item() will help to convert output of pred.eq(target.view_as(pred)).sum() to a proper number\n",
        "            # Basically we are trying to get count of correctly predicted records from test dataset\n",
        "            # We will use this 'correct' to predict accuracy i.e. accuracy = correct/len(test_loader.dataset)\n",
        "\n",
        "    test_loss /= len(test_loader.dataset)\n",
        "\n",
        "    print('\\nTest set: Average loss: {:.4f}, Accuracy: {}/{} ({:.0f}%)\\n'.format(\n",
        "        test_loss, correct, len(test_loader.dataset),\n",
        "        100. * correct / len(test_loader.dataset)))"
      ],
      "execution_count": 16,
      "outputs": []
    },
    {
      "cell_type": "code",
      "metadata": {
        "id": "MMWbLWO6FuHb",
        "colab": {
          "base_uri": "https://localhost:8080/"
        },
        "outputId": "b647bf8b-2189-4131-bd88-5b62ea2252c2"
      },
      "source": [
        "\n",
        "model = Net().to(device)\n",
        "optimizer = optim.SGD(model.parameters(), lr=0.01, momentum=0.9)\n",
        "\n",
        "for epoch in range(1, 2):\n",
        "    train(model, device, train_loader, optimizer, epoch)\n",
        "    test(model, device, test_loader)"
      ],
      "execution_count": 17,
      "outputs": [
        {
          "output_type": "stream",
          "name": "stderr",
          "text": [
            "  0%|          | 0/469 [00:00<?, ?it/s]/usr/local/lib/python3.7/dist-packages/ipykernel_launcher.py:39: UserWarning: Implicit dimension choice for log_softmax has been deprecated. Change the call to include dim=X as an argument.\n",
            "ding loss=0.07875696569681168 batch_id=468: 100%|██████████| 469/469 [00:39<00:00, 11.76it/s]\n"
          ]
        },
        {
          "output_type": "stream",
          "name": "stdout",
          "text": [
            "\n",
            "Test set: Average loss: 0.0658, Accuracy: 9791/10000 (98%)\n",
            "\n"
          ]
        }
      ]
    },
    {
      "cell_type": "code",
      "metadata": {
        "id": "So5uk4EkHW6R"
      },
      "source": [
        ""
      ],
      "execution_count": 17,
      "outputs": []
    }
  ]
}