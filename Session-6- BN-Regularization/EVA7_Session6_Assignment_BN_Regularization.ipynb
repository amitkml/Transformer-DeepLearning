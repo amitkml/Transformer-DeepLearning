{
  "nbformat": 4,
  "nbformat_minor": 0,
  "metadata": {
    "accelerator": "GPU",
    "colab": {
      "name": "EVA7_Session6_Assignment_BN_Regularization.ipynb",
      "provenance": [],
      "collapsed_sections": [
        "o7VP3UG4Q0WE",
        "oz5N2g8mLGph",
        "gsrVgrvWRb1k",
        "ub9qfto4aWrf"
      ]
    },
    "kernelspec": {
      "display_name": "Python 3",
      "name": "python3"
    }
  },
  "cells": [
    {
      "cell_type": "markdown",
      "metadata": {
        "id": "UKeFoQ_c4g5J"
      },
      "source": [
        "# Assignment"
      ]
    },
    {
      "cell_type": "markdown",
      "metadata": {
        "id": "RvyH8ObX4akm"
      },
      "source": [
        "**Target**:\n",
        "\n",
        "You are making 3 versions of your 5th assignment's best model (or pick one from best assignments):\n",
        "- Network with Group Normalization\n",
        "- Network with Layer Normalization\n",
        "- Network with L1 + BN\n"
      ]
    },
    {
      "cell_type": "markdown",
      "metadata": {
        "id": "5paAWhPSLuB3"
      },
      "source": [
        "**Benefits of Normalization**\n",
        "\n",
        "![im](https://i.ibb.co/0p0r6VW/Capture.png)\n"
      ]
    },
    {
      "cell_type": "markdown",
      "metadata": {
        "id": "tRHJaeZq4jZy"
      },
      "source": [
        "# Solution"
      ]
    },
    {
      "cell_type": "markdown",
      "metadata": {
        "id": "BlVNOkt2rJha"
      },
      "source": [
        "## Function for Misclassified Image"
      ]
    },
    {
      "cell_type": "code",
      "metadata": {
        "id": "axCid3Eg1mPY"
      },
      "source": [
        "from matplotlib import pyplot as plt\n",
        "%matplotlib inline\n",
        "import numpy as np"
      ],
      "execution_count": 99,
      "outputs": []
    },
    {
      "cell_type": "code",
      "metadata": {
        "id": "eXlilkwIrNvu"
      },
      "source": [
        "def display_errors(model,\n",
        "                   val_loader,\n",
        "                   misclassified_image_row = 2,\n",
        "                   misclassified_image_col = 5):\n",
        "    \"\"\" This function shows 10 images with their predicted and real labels\"\"\"\n",
        "    incorrect_examples = []\n",
        "    model.eval()\n",
        "    with torch.no_grad():\n",
        "      for data, target in test_loader:\n",
        "        data, target = data.to(device), target.to(device)\n",
        "        output = model(data)\n",
        "        _, pred = torch.max(output,1)\n",
        "        # correct += pred.eq(target.view_as(pred)).sum().item()\n",
        "        idxs_mask = ((pred == target) == False).nonzero()\n",
        "        # idxs_mask = (pred - target != 0)\n",
        "        match = idxs_mask.cpu().numpy()\n",
        "        \n",
        "        \n",
        "        if (idxs_mask.shape[0] > 0 ):\n",
        "          mydata = list(match.reshape(-1))\n",
        "          for i in range(len(mydata)-1):\n",
        "            incorrect_examples.append(data[i].cpu())\n",
        "            # if (len(incorrect_examples) > 20):\n",
        "            #   break\n",
        "            \n",
        "            # print(f\"mydata:{mydata[i]}\")\n",
        "          # print(f\"idxs_mask:{idxs_mask}\")\n",
        "          # print(type(match))\n",
        "          # print(f\"idxs_mask reshaped:{type(match.reshape(-1))})\")\n",
        "          # print(f\"idxs_mask list:{list(match.reshape(-1))}\")\n",
        "          # print(f\"match:{match[0]}, length:{len(match)}\")\n",
        "          # incorrect_examples.append(data[mydata].cpu())\n",
        "        # if (len(incorrect_examples) > 20):\n",
        "        #   break ## this is done to ensure we dont store too many images and to save memory\n",
        "    \n",
        "    print(f\"Number of misclassified Image:{len(incorrect_examples)}\")\n",
        "    n = 0\n",
        "    nrows = misclassified_image_row\n",
        "    ncols = misclassified_image_col\n",
        "    fig, ax = plt.subplots(nrows,ncols,sharex=True,sharey=True)\n",
        "\n",
        "    for row in range(nrows):\n",
        "      for col in range(ncols):\n",
        "        # print(incorrect_examples[n])\n",
        "        img = incorrect_examples[n]\n",
        "        # print(img)\n",
        "        img = img/2 + 0.5\n",
        "        img = np.clip(img, 0, 1)\n",
        "        ax[row,col].imshow(img.reshape(28,28))\n",
        "        # print('\\n')\n",
        "        n += 1\n",
        "    "
      ],
      "execution_count": 100,
      "outputs": []
    },
    {
      "cell_type": "code",
      "metadata": {
        "id": "Cyvx5NMhFZM8"
      },
      "source": [
        "# display_errors(model,test_loader)"
      ],
      "execution_count": 101,
      "outputs": []
    },
    {
      "cell_type": "markdown",
      "metadata": {
        "id": "o7VP3UG4Q0WE"
      },
      "source": [
        "## Network with Group Normalization"
      ]
    },
    {
      "cell_type": "markdown",
      "metadata": {
        "id": "oz5N2g8mLGph"
      },
      "source": [
        "### What is Group Normalization?"
      ]
    },
    {
      "cell_type": "markdown",
      "metadata": {
        "id": "ndLTJRJ7LOl8"
      },
      "source": [
        "GN takes away the dependance on batch size for normalization and in doing so mitigates the problem suffered by BN. Let’s look at how GN compares to BN for training accross various batch sizes keeping all else same. ![im](https://amaarora.github.io/images/BN_batch_size.png)\n",
        "\n",
        "Let’s consider that we have a batch of dimension (N, C, H, W) that needs to be normalized.\n",
        "\n",
        "Here,\n",
        "\n",
        "N: Batch Size\n",
        "C: Number of Channels\n",
        "H: Height of the feature map\n",
        "W: Width of the feature map\n",
        "![im](https://amaarora.github.io/images/GN_BN_LN_IN.png)\n",
        "\n",
        "Finally, for group norm, the batch is first divided into groups (32 by default, discussed later). The batch with dimension (N, C, W, H) is first reshaped to (N, G, C//G, H, W) dimensions where G represents the number of groups. Finally, the mean and std deviation are calculated along the groups, that is (H, W) and along C//G channels. This is also illustrated very well in fig-4.\n",
        "\n",
        "One key thing to note here, if C == G, that is the number of groups are set to be equal to the number of channels (one channel per group), then GN becomes IN.\n",
        "\n",
        "And if, G == 1, that is number of groups is set to 1, GN becomes LN.\n",
        "![im](https://amaarora.github.io/images/gn_explained.jpg)"
      ]
    },
    {
      "cell_type": "markdown",
      "metadata": {
        "id": "rIK2tk94RQ1U"
      },
      "source": [
        "### GroupNorm Network and Performance"
      ]
    },
    {
      "cell_type": "code",
      "metadata": {
        "id": "0m2JWFliFfKT"
      },
      "source": [
        "from __future__ import print_function\n",
        "import torch\n",
        "import torch.nn as nn\n",
        "import torch.nn.functional as F\n",
        "import torch.optim as optim\n",
        "from torchvision import datasets, transforms"
      ],
      "execution_count": 102,
      "outputs": []
    },
    {
      "cell_type": "code",
      "metadata": {
        "id": "Y4VzOzROw8xb"
      },
      "source": [
        "class GroupNormNet(nn.Module):\n",
        "    def __init__(self):\n",
        "        super(GroupNormNet, self).__init__()\n",
        "        # Input Block\n",
        "        self.convblock1 = nn.Sequential(\n",
        "            nn.Conv2d(in_channels=1, out_channels=8, kernel_size=(3, 3), padding=0, bias=False),\n",
        "            # nn.BatchNorm2d(8),\n",
        "            nn.ReLU(),\n",
        "            nn.GroupNorm(2, 8)\n",
        "\n",
        "        ) # output_size = 26\n",
        "\n",
        "\n",
        "        # CONVOLUTION BLOCK 1\n",
        "        self.convblock2 = nn.Sequential(\n",
        "            nn.Conv2d(in_channels=8, out_channels=10, kernel_size=(3, 3), padding=0, bias=False),\n",
        "            # nn.BatchNorm2d(10),\n",
        "            nn.ReLU(),\n",
        "            nn.GroupNorm(2, 10)\n",
        "        ) # output_size = 24\n",
        "        self.convblock3 = nn.Sequential(\n",
        "            nn.Conv2d(in_channels=10, out_channels=20, kernel_size=(3, 3), padding=0, bias=False),\n",
        "            # nn.BatchNorm2d(20),\n",
        "            nn.ReLU(),\n",
        "            nn.GroupNorm(4, 20)\n",
        "        ) # output_size = 22\n",
        "\n",
        "        # TRANSITION BLOCK 1\n",
        "        self.pool1 = nn.MaxPool2d(2, 2) # output_size = 11\n",
        "        self.convblock4 = nn.Sequential(\n",
        "            nn.Conv2d(in_channels=20, out_channels=10, kernel_size=(1, 1), padding=0, bias=False),\n",
        "            # nn.BatchNorm2d(10),\n",
        "            nn.ReLU(),\n",
        "            nn.GroupNorm(2, 10)\n",
        "        ) # output_size = 11\n",
        "\n",
        "        # CONVOLUTION BLOCK 2\n",
        "        self.convblock5 = nn.Sequential(\n",
        "            nn.Conv2d(in_channels=10, out_channels=10, kernel_size=(3, 3), padding=0, bias=False),\n",
        "            # nn.BatchNorm2d(10),\n",
        "            nn.ReLU(),\n",
        "            nn.GroupNorm(2, 10),\n",
        "        ) # output_size = 9\n",
        "        self.convblock6 = nn.Sequential(\n",
        "            nn.Conv2d(in_channels=10, out_channels=20, kernel_size=(3, 3), padding=0, bias=False),\n",
        "            # nn.BatchNorm2d(20),\n",
        "            nn.ReLU(),\n",
        "            nn.GroupNorm(4, 20),\n",
        "        ) # output_size = 7\n",
        "\n",
        "        # OUTPUT BLOCK\n",
        "        self.convblock7 = nn.Sequential(\n",
        "            nn.Conv2d(in_channels=20, out_channels=12, kernel_size=(1, 1), padding=0, bias=False),\n",
        "            # nn.BatchNorm2d(12),\n",
        "            nn.GroupNorm(4, 12),\n",
        "            nn.ReLU()\n",
        "        ) # output_size = 7\n",
        "        # self.convblock8 = nn.Sequential(\n",
        "        #     nn.Conv2d(in_channels=10, out_channels=10, kernel_size=(7, 7), padding=0, bias=False),\n",
        "        #     # nn.BatchNorm2d(10), NEVER\n",
        "        #     # nn.ReLU() NEVER!\n",
        "        # ) # output_size = 1\n",
        "        self.convblock8 = nn.Sequential(\n",
        "            nn.Conv2d(in_channels=12, out_channels=15, kernel_size=(3, 3), padding=0, bias=False),\n",
        "            # nn.BatchNorm2d(15),\n",
        "            nn.GroupNorm(3, 15),\n",
        "            nn.ReLU()\n",
        "        ) # output_size = 5\n",
        "        self.dropout = nn.Dropout(0.07)\n",
        "        # OUTPUT BLOCK\n",
        "        self.gap = nn.Sequential(\n",
        "            nn.AvgPool2d(kernel_size=1)\n",
        "        ) # output_size = 1\n",
        "\n",
        "        self.convblock9 = nn.Sequential(\n",
        "            nn.Conv2d(in_channels=15, out_channels=10, kernel_size=(1, 1), padding=0, bias=False),\n",
        "            # nn.BatchNorm2d(10),\n",
        "            # nn.ReLU(),\n",
        "            # nn.Dropout(dropout_value)\n",
        "        ) \n",
        "\n",
        "    def forward(self, x):\n",
        "        x = self.convblock1(x)\n",
        "        x = self.dropout(x)\n",
        "        x = self.convblock2(x)\n",
        "        # x = self.dropout(x)\n",
        "        x = self.convblock3(x)\n",
        "        x = self.dropout(x)\n",
        "        x = self.pool1(x)\n",
        "        x = self.convblock4(x)\n",
        "        # x = self.dropout(x)\n",
        "        x = self.convblock5(x)\n",
        "        x = self.dropout(x)\n",
        "        x = self.convblock6(x)\n",
        "        # x = self.dropout(x)\n",
        "        x = self.convblock7(x)\n",
        "        x = self.pool1(x)\n",
        "        x = self.convblock8(x)\n",
        "        x = self.gap(x)\n",
        "        x = self.convblock9(x)\n",
        "        x = x.view(-1, 10)\n",
        "        return F.log_softmax(x, dim=-1)"
      ],
      "execution_count": 103,
      "outputs": []
    },
    {
      "cell_type": "code",
      "metadata": {
        "id": "oN2uM0Irgr0g"
      },
      "source": [
        "def weight_init(m):\n",
        "    if isinstance(m, nn.Conv2d) or isinstance(m, nn.Linear):\n",
        "        nn.init.xavier_uniform_(m.weight, gain=nn.init.calculate_gain('relu'))\n",
        "        # nn.init.kaiming_uniform_(m.weight, mode='fan_in', nonlinearity='leaky_relu')\n",
        "        \n",
        "        # nn.init.zeros_(m.bias)"
      ],
      "execution_count": 104,
      "outputs": []
    },
    {
      "cell_type": "code",
      "metadata": {
        "colab": {
          "base_uri": "https://localhost:8080/"
        },
        "id": "xdydjYTZFyi3",
        "outputId": "c0a59ce2-8054-4736-b4b4-bd3a71472ef6"
      },
      "source": [
        "!pip install torchsummary\n",
        "from torchsummary import summary\n",
        "use_cuda = torch.cuda.is_available()\n",
        "device = torch.device(\"cuda\" if use_cuda else \"cpu\")\n",
        "model = GroupNormNet().to(device)\n",
        "# model.apply(weight_init)\n",
        "\n",
        "summary(model, input_size=(1, 28, 28))"
      ],
      "execution_count": 105,
      "outputs": [
        {
          "output_type": "stream",
          "name": "stdout",
          "text": [
            "Requirement already satisfied: torchsummary in /usr/local/lib/python3.7/dist-packages (1.5.1)\n",
            "----------------------------------------------------------------\n",
            "        Layer (type)               Output Shape         Param #\n",
            "================================================================\n",
            "            Conv2d-1            [-1, 8, 26, 26]              72\n",
            "              ReLU-2            [-1, 8, 26, 26]               0\n",
            "         GroupNorm-3            [-1, 8, 26, 26]              16\n",
            "           Dropout-4            [-1, 8, 26, 26]               0\n",
            "            Conv2d-5           [-1, 10, 24, 24]             720\n",
            "              ReLU-6           [-1, 10, 24, 24]               0\n",
            "         GroupNorm-7           [-1, 10, 24, 24]              20\n",
            "            Conv2d-8           [-1, 20, 22, 22]           1,800\n",
            "              ReLU-9           [-1, 20, 22, 22]               0\n",
            "        GroupNorm-10           [-1, 20, 22, 22]              40\n",
            "          Dropout-11           [-1, 20, 22, 22]               0\n",
            "        MaxPool2d-12           [-1, 20, 11, 11]               0\n",
            "           Conv2d-13           [-1, 10, 11, 11]             200\n",
            "             ReLU-14           [-1, 10, 11, 11]               0\n",
            "        GroupNorm-15           [-1, 10, 11, 11]              20\n",
            "           Conv2d-16             [-1, 10, 9, 9]             900\n",
            "             ReLU-17             [-1, 10, 9, 9]               0\n",
            "        GroupNorm-18             [-1, 10, 9, 9]              20\n",
            "          Dropout-19             [-1, 10, 9, 9]               0\n",
            "           Conv2d-20             [-1, 20, 7, 7]           1,800\n",
            "             ReLU-21             [-1, 20, 7, 7]               0\n",
            "        GroupNorm-22             [-1, 20, 7, 7]              40\n",
            "           Conv2d-23             [-1, 12, 7, 7]             240\n",
            "        GroupNorm-24             [-1, 12, 7, 7]              24\n",
            "             ReLU-25             [-1, 12, 7, 7]               0\n",
            "        MaxPool2d-26             [-1, 12, 3, 3]               0\n",
            "           Conv2d-27             [-1, 15, 1, 1]           1,620\n",
            "        GroupNorm-28             [-1, 15, 1, 1]              30\n",
            "             ReLU-29             [-1, 15, 1, 1]               0\n",
            "        AvgPool2d-30             [-1, 15, 1, 1]               0\n",
            "           Conv2d-31             [-1, 10, 1, 1]             150\n",
            "================================================================\n",
            "Total params: 7,712\n",
            "Trainable params: 7,712\n",
            "Non-trainable params: 0\n",
            "----------------------------------------------------------------\n",
            "Input size (MB): 0.00\n",
            "Forward/backward pass size (MB): 0.70\n",
            "Params size (MB): 0.03\n",
            "Estimated Total Size (MB): 0.73\n",
            "----------------------------------------------------------------\n"
          ]
        }
      ]
    },
    {
      "cell_type": "code",
      "metadata": {
        "id": "DqTWLaM5GHgH"
      },
      "source": [
        "torch.manual_seed(1)\n",
        "batch_size = 128\n",
        "\n",
        "kwargs = {'num_workers': 1, 'pin_memory': True} if use_cuda else {}\n",
        "train_loader = torch.utils.data.DataLoader(\n",
        "    datasets.MNIST('../data', train=True, download=True,\n",
        "                    transform=transforms.Compose([\n",
        "                        # transforms.RandomHorizontalFlip(p=0.2),\n",
        "                        # transforms.ColorJitter(brightness=0.01, contrast=0.01),\n",
        "                        transforms.RandomRotation((-4.0, 4.0), fill=(1,)),\n",
        "                        transforms.ToTensor(),\n",
        "                        transforms.Normalize((0.1307,), (0.3081,)) # The mean and std have to be sequences (e.g., tuples), therefore you should add a comma after the values. \n",
        "                    ])),\n",
        "    batch_size=batch_size, shuffle=True, **kwargs)\n",
        "test_loader = torch.utils.data.DataLoader(\n",
        "    datasets.MNIST('../data', train=False, transform=transforms.Compose([\n",
        "                        transforms.ToTensor(),\n",
        "                        transforms.Normalize((0.1307,), (0.3081,)) # The mean and std have to be sequences (e.g., tuples), therefore you should add a comma after the values. \n",
        "                    ])),\n",
        "    batch_size=batch_size, shuffle=True, **kwargs)\n"
      ],
      "execution_count": 106,
      "outputs": []
    },
    {
      "cell_type": "code",
      "metadata": {
        "id": "8fDefDhaFlwH"
      },
      "source": [
        "from tqdm import tqdm\n",
        "\n",
        "train_losses = []\n",
        "test_losses = []\n",
        "train_acc = []\n",
        "test_acc = []\n",
        "\n",
        "def train(model, device, train_loader, optimizer, epoch):\n",
        "    correct = 0\n",
        "    processed = 1\n",
        "    model.train()\n",
        "    pbar = tqdm(train_loader)\n",
        "\n",
        "    for batch_idx, (data, target) in enumerate(pbar):\n",
        "        # print(len(data))\n",
        "        data, target = data.to(device), target.to(device)\n",
        "        optimizer.zero_grad()\n",
        "        output = model(data)\n",
        "        loss = F.nll_loss(output, target)\n",
        "        loss.backward()\n",
        "        train_losses.append(loss)\n",
        "        optimizer.step()\n",
        "        scheduler.step()\n",
        "        pbar.set_description(desc= f'loss={loss.item()} batch_id={batch_idx} Accuracy={100*correct/processed:0.2f}')\n",
        "        pred = output.argmax(dim=1, keepdim=True)  # get the index of the max log-probability\n",
        "        correct += pred.eq(target.view_as(pred)).sum().item()\n",
        "        # print(correct)\n",
        "        processed += len(data)\n",
        "        train_acc.append(100*correct/processed)\n",
        "\n",
        "\n",
        "def test(model, device, test_loader):\n",
        "    model.eval()\n",
        "    test_loss = 0\n",
        "    correct = 0\n",
        "    with torch.no_grad():\n",
        "        for data, target in test_loader:\n",
        "            data, target = data.to(device), target.to(device)\n",
        "            output = model(data)\n",
        "            test_loss += F.nll_loss(output, target, reduction='sum').item()  # sum up batch loss\n",
        "            pred = output.argmax(dim=1, keepdim=True)  # get the index of the max log-probability\n",
        "            correct += pred.eq(target.view_as(pred)).sum().item()\n",
        "\n",
        "    test_loss /= len(test_loader.dataset)\n",
        "    test_losses.append(test_loss)\n",
        "\n",
        "    print('\\nTest set: Average loss: {:.4f}, Accuracy: {}/{} ({:.4f}%)\\n'.format(\n",
        "        test_loss, correct, len(test_loader.dataset),\n",
        "        100. * correct / len(test_loader.dataset)))\n",
        "    test_acc.append(100. * correct / len(test_loader.dataset))"
      ],
      "execution_count": 107,
      "outputs": []
    },
    {
      "cell_type": "code",
      "metadata": {
        "id": "FNM8D7dePewb"
      },
      "source": [
        "model = GroupNormNet().to(device)"
      ],
      "execution_count": 108,
      "outputs": []
    },
    {
      "cell_type": "code",
      "metadata": {
        "id": "wvO7lw6mPdW4"
      },
      "source": [
        "optimizer = optim.SGD(model.parameters(), lr=0.02, momentum=0.9)\n",
        "# scheduler = torch.optim.lr_scheduler.CyclicLR(optimizer, \n",
        "#                                               base_lr=0.01,\n",
        "#                                               max_lr=0.1)\n",
        "\n",
        "from torch.optim.lr_scheduler import StepLR, MultiStepLR\n",
        "scheduler = StepLR(optimizer, step_size=4500, gamma=0.1)\n",
        "# scheduler = MultiStepLR(optimizer, milestones=[10,12,14], gamma=0.1)"
      ],
      "execution_count": 109,
      "outputs": []
    },
    {
      "cell_type": "code",
      "metadata": {
        "colab": {
          "base_uri": "https://localhost:8080/"
        },
        "id": "MMWbLWO6FuHb",
        "outputId": "0d90a037-21b6-4be2-d083-3b4b8c6a31ff"
      },
      "source": [
        "for epoch in range(1, 15):\n",
        "    train(model, device, train_loader, optimizer, epoch)\n",
        "    test(model, device, test_loader)"
      ],
      "execution_count": 110,
      "outputs": [
        {
          "output_type": "stream",
          "name": "stderr",
          "text": [
            "loss=0.09605670720338821 batch_id=468 Accuracy=89.54: 100%|██████████| 469/469 [00:27<00:00, 16.91it/s]\n"
          ]
        },
        {
          "output_type": "stream",
          "name": "stdout",
          "text": [
            "\n",
            "Test set: Average loss: 0.0854, Accuracy: 9750/10000 (97.5000%)\n",
            "\n"
          ]
        },
        {
          "output_type": "stream",
          "name": "stderr",
          "text": [
            "loss=0.022158225998282433 batch_id=468 Accuracy=97.38: 100%|██████████| 469/469 [00:27<00:00, 16.87it/s]\n"
          ]
        },
        {
          "output_type": "stream",
          "name": "stdout",
          "text": [
            "\n",
            "Test set: Average loss: 0.0593, Accuracy: 9826/10000 (98.2600%)\n",
            "\n"
          ]
        },
        {
          "output_type": "stream",
          "name": "stderr",
          "text": [
            "loss=0.02948947809636593 batch_id=468 Accuracy=97.96: 100%|██████████| 469/469 [00:27<00:00, 16.88it/s]\n"
          ]
        },
        {
          "output_type": "stream",
          "name": "stdout",
          "text": [
            "\n",
            "Test set: Average loss: 0.0499, Accuracy: 9846/10000 (98.4600%)\n",
            "\n"
          ]
        },
        {
          "output_type": "stream",
          "name": "stderr",
          "text": [
            "loss=0.009798918850719929 batch_id=468 Accuracy=98.24: 100%|██████████| 469/469 [00:27<00:00, 16.84it/s]\n"
          ]
        },
        {
          "output_type": "stream",
          "name": "stdout",
          "text": [
            "\n",
            "Test set: Average loss: 0.0444, Accuracy: 9856/10000 (98.5600%)\n",
            "\n"
          ]
        },
        {
          "output_type": "stream",
          "name": "stderr",
          "text": [
            "loss=0.00971316359937191 batch_id=468 Accuracy=98.41: 100%|██████████| 469/469 [00:27<00:00, 17.01it/s]\n"
          ]
        },
        {
          "output_type": "stream",
          "name": "stdout",
          "text": [
            "\n",
            "Test set: Average loss: 0.0413, Accuracy: 9879/10000 (98.7900%)\n",
            "\n"
          ]
        },
        {
          "output_type": "stream",
          "name": "stderr",
          "text": [
            "loss=0.05467833951115608 batch_id=468 Accuracy=98.66: 100%|██████████| 469/469 [00:28<00:00, 16.71it/s]\n"
          ]
        },
        {
          "output_type": "stream",
          "name": "stdout",
          "text": [
            "\n",
            "Test set: Average loss: 0.0343, Accuracy: 9886/10000 (98.8600%)\n",
            "\n"
          ]
        },
        {
          "output_type": "stream",
          "name": "stderr",
          "text": [
            "loss=0.009098737500607967 batch_id=468 Accuracy=98.70: 100%|██████████| 469/469 [00:28<00:00, 16.68it/s]\n"
          ]
        },
        {
          "output_type": "stream",
          "name": "stdout",
          "text": [
            "\n",
            "Test set: Average loss: 0.0347, Accuracy: 9896/10000 (98.9600%)\n",
            "\n"
          ]
        },
        {
          "output_type": "stream",
          "name": "stderr",
          "text": [
            "loss=0.008118023164570332 batch_id=468 Accuracy=98.86: 100%|██████████| 469/469 [00:27<00:00, 16.98it/s]\n"
          ]
        },
        {
          "output_type": "stream",
          "name": "stdout",
          "text": [
            "\n",
            "Test set: Average loss: 0.0370, Accuracy: 9882/10000 (98.8200%)\n",
            "\n"
          ]
        },
        {
          "output_type": "stream",
          "name": "stderr",
          "text": [
            "loss=0.0038330331444740295 batch_id=468 Accuracy=98.89: 100%|██████████| 469/469 [00:27<00:00, 17.18it/s]\n"
          ]
        },
        {
          "output_type": "stream",
          "name": "stdout",
          "text": [
            "\n",
            "Test set: Average loss: 0.0339, Accuracy: 9902/10000 (99.0200%)\n",
            "\n"
          ]
        },
        {
          "output_type": "stream",
          "name": "stderr",
          "text": [
            "loss=0.001985121052712202 batch_id=468 Accuracy=99.01: 100%|██████████| 469/469 [00:27<00:00, 17.07it/s]\n"
          ]
        },
        {
          "output_type": "stream",
          "name": "stdout",
          "text": [
            "\n",
            "Test set: Average loss: 0.0292, Accuracy: 9914/10000 (99.1400%)\n",
            "\n"
          ]
        },
        {
          "output_type": "stream",
          "name": "stderr",
          "text": [
            "loss=0.007966526784002781 batch_id=468 Accuracy=99.30: 100%|██████████| 469/469 [00:27<00:00, 16.91it/s]\n"
          ]
        },
        {
          "output_type": "stream",
          "name": "stdout",
          "text": [
            "\n",
            "Test set: Average loss: 0.0286, Accuracy: 9918/10000 (99.1800%)\n",
            "\n"
          ]
        },
        {
          "output_type": "stream",
          "name": "stderr",
          "text": [
            "loss=0.005035224370658398 batch_id=468 Accuracy=99.36: 100%|██████████| 469/469 [00:27<00:00, 16.86it/s]\n"
          ]
        },
        {
          "output_type": "stream",
          "name": "stdout",
          "text": [
            "\n",
            "Test set: Average loss: 0.0270, Accuracy: 9917/10000 (99.1700%)\n",
            "\n"
          ]
        },
        {
          "output_type": "stream",
          "name": "stderr",
          "text": [
            "loss=0.03719397634267807 batch_id=468 Accuracy=99.33: 100%|██████████| 469/469 [00:27<00:00, 17.03it/s]\n"
          ]
        },
        {
          "output_type": "stream",
          "name": "stdout",
          "text": [
            "\n",
            "Test set: Average loss: 0.0272, Accuracy: 9917/10000 (99.1700%)\n",
            "\n"
          ]
        },
        {
          "output_type": "stream",
          "name": "stderr",
          "text": [
            "loss=0.01501393597573042 batch_id=468 Accuracy=99.36: 100%|██████████| 469/469 [00:27<00:00, 16.94it/s]\n"
          ]
        },
        {
          "output_type": "stream",
          "name": "stdout",
          "text": [
            "\n",
            "Test set: Average loss: 0.0269, Accuracy: 9921/10000 (99.2100%)\n",
            "\n"
          ]
        }
      ]
    },
    {
      "cell_type": "code",
      "metadata": {
        "id": "R6OOX-dsAcMS"
      },
      "source": [
        "%matplotlib inline\n",
        "import matplotlib.pyplot as plt"
      ],
      "execution_count": 111,
      "outputs": []
    },
    {
      "cell_type": "code",
      "metadata": {
        "id": "VAQcyk1s-1FU",
        "colab": {
          "base_uri": "https://localhost:8080/",
          "height": 625
        },
        "outputId": "012796c4-2262-4077-b6c5-d668ac877fef"
      },
      "source": [
        "fig, axs = plt.subplots(2,2,figsize=(15,10))\n",
        "axs[0, 0].plot(train_losses)\n",
        "axs[0, 0].set_title(\"Training Loss\")\n",
        "axs[1, 0].plot(train_acc[4000:])\n",
        "axs[1, 0].set_title(\"Training Accuracy\")\n",
        "axs[0, 1].plot(test_losses)\n",
        "axs[0, 1].set_title(\"Test Loss\")\n",
        "axs[1, 1].plot(test_acc)\n",
        "axs[1, 1].set_title(\"Test Accuracy\")"
      ],
      "execution_count": 112,
      "outputs": [
        {
          "output_type": "execute_result",
          "data": {
            "text/plain": [
              "Text(0.5, 1.0, 'Test Accuracy')"
            ]
          },
          "metadata": {},
          "execution_count": 112
        },
        {
          "output_type": "display_data",
          "data": {
            "image/png": "[encoded data removed]",
            "text/plain": [
              "<Figure size 1080x720 with 4 Axes>"
            ]
          },
          "metadata": {
            "needs_background": "light"
          }
        }
      ]
    },
    {
      "cell_type": "code",
      "metadata": {
        "colab": {
          "base_uri": "https://localhost:8080/",
          "height": 245
        },
        "id": "iu9Zn3OT8Nv9",
        "outputId": "4abb8ef3-9e5b-4a0f-da6f-75359c4fda18"
      },
      "source": [
        "display_errors(model,test_loader)"
      ],
      "execution_count": 113,
      "outputs": [
        {
          "output_type": "stream",
          "name": "stdout",
          "text": [
            "Number of misclassified Image:28\n"
          ]
        },
        {
          "output_type": "display_data",
          "data": {
            "image/png": "[encoded data removed]",
            "text/plain": [
              "<Figure size 432x288 with 10 Axes>"
            ]
          },
          "metadata": {
            "needs_background": "light"
          }
        }
      ]
    },
    {
      "cell_type": "markdown",
      "metadata": {
        "id": "_9yg0t-pRbMS"
      },
      "source": [
        ""
      ]
    },
    {
      "cell_type": "markdown",
      "metadata": {
        "id": "eZSw6dzHRb1j"
      },
      "source": [
        "## Network with Layer Normalization"
      ]
    },
    {
      "cell_type": "markdown",
      "metadata": {
        "id": "gsrVgrvWRb1k"
      },
      "source": [
        "### What is Layer Normalization?"
      ]
    },
    {
      "cell_type": "markdown",
      "metadata": {
        "id": "olmpy4wRRb1k"
      },
      "source": [
        "To understand layer normalization, recall that a mini-batch consists of multiple examples with the same number of features. Mini-batches are matrices - or tensors if each input is multi-dimensional - where one axis corresponds to the batch and the other axis - or axes - correspond to the feature dimensions.\n",
        "Batch normalization normalizes the input features across the batch dimension. The key feature of layer normalization is that it normalizes the inputs across the features.\n",
        "\n",
        "![im](https://www.googleapis.com/download/storage/v1/b/kaggle-forum-message-attachments/o/inbox%2F4374082%2F38fb84accef269b0bce2e75996e6d8e0%2Fz.png?generation=1599644663003667&alt=media)\n",
        "\n",
        "In the layer norm, we take the average and variance from all of the features of a single sentence. Let’s see what it means using the same two sentences:\n",
        "\n",
        "![im](https://i.ibb.co/BfgTjGQ/Picture1.png)"
      ]
    },
    {
      "cell_type": "markdown",
      "metadata": {
        "id": "eFMUgfj9Rb1k"
      },
      "source": [
        "### LayerNorm Network and Performance"
      ]
    },
    {
      "cell_type": "code",
      "metadata": {
        "id": "STDfsmoxRb1k"
      },
      "source": [
        "from __future__ import print_function\n",
        "import torch\n",
        "import torch.nn as nn\n",
        "import torch.nn.functional as F\n",
        "import torch.optim as optim\n",
        "from torchvision import datasets, transforms"
      ],
      "execution_count": 114,
      "outputs": []
    },
    {
      "cell_type": "code",
      "metadata": {
        "id": "X3UgjjL8Rb1k"
      },
      "source": [
        "class LayerNormNet(nn.Module):\n",
        "    def __init__(self):\n",
        "        super(LayerNormNet, self).__init__()\n",
        "        # Input Block\n",
        "        self.convblock1 = nn.Sequential(\n",
        "            nn.Conv2d(in_channels=1, out_channels=8, kernel_size=(3, 3), padding=0, bias=False),\n",
        "            nn.LayerNorm(torch.tensor([8, 26,26])),\n",
        "            nn.ReLU()           \n",
        "\n",
        "        ) # output_size = 26\n",
        "\n",
        "\n",
        "        # CONVOLUTION BLOCK 1\n",
        "        self.convblock2 = nn.Sequential(\n",
        "            nn.Conv2d(in_channels=8, out_channels=10, kernel_size=(3, 3), padding=0, bias=False),\n",
        "            nn.LayerNorm(torch.tensor([10, 24, 24])),\n",
        "            nn.ReLU()\n",
        "            # nn.GroupNorm(2, 10)\n",
        "        ) # output_size = 24\n",
        "        self.convblock3 = nn.Sequential(\n",
        "            nn.Conv2d(in_channels=10, out_channels=20, kernel_size=(3, 3), padding=0, bias=False),\n",
        "            nn.LayerNorm(torch.tensor([20, 22, 22])),\n",
        "            nn.ReLU()\n",
        "            # nn.GroupNorm(4, 20)\n",
        "        ) # output_size = 22\n",
        "\n",
        "        # TRANSITION BLOCK 1\n",
        "        self.pool1 = nn.MaxPool2d(2, 2) # output_size = 11\n",
        "        self.convblock4 = nn.Sequential(\n",
        "            nn.Conv2d(in_channels=20, out_channels=10, kernel_size=(1, 1), padding=0, bias=False),\n",
        "            nn.LayerNorm(torch.tensor([10, 11, 11])),\n",
        "            nn.ReLU()\n",
        "            # nn.GroupNorm(2, 10)\n",
        "        ) # output_size = 11\n",
        "\n",
        "        # CONVOLUTION BLOCK 2\n",
        "        self.convblock5 = nn.Sequential(\n",
        "            nn.Conv2d(in_channels=10, out_channels=10, kernel_size=(3, 3), padding=0, bias=False),\n",
        "            nn.LayerNorm(torch.tensor([10, 9, 9])),\n",
        "            nn.ReLU()\n",
        "            # nn.GroupNorm(2, 10)\n",
        "        ) # output_size = 9\n",
        "        self.convblock6 = nn.Sequential(\n",
        "            nn.Conv2d(in_channels=10, out_channels=20, kernel_size=(3, 3), padding=0, bias=False),\n",
        "            nn.LayerNorm(torch.tensor([20, 7, 7])),\n",
        "            nn.ReLU()\n",
        "            # nn.GroupNorm(4, 20)\n",
        "        ) # output_size = 7\n",
        "\n",
        "        # OUTPUT BLOCK\n",
        "        self.convblock7 = nn.Sequential(\n",
        "            nn.Conv2d(in_channels=20, out_channels=12, kernel_size=(1, 1), padding=0, bias=False),\n",
        "            nn.LayerNorm(torch.tensor([12, 7, 7])),\n",
        "            nn.ReLU()\n",
        "        ) # output_size = 7\n",
        "        # self.convblock8 = nn.Sequential(\n",
        "        #     nn.Conv2d(in_channels=10, out_channels=10, kernel_size=(7, 7), padding=0, bias=False),\n",
        "        #     # nn.BatchNorm2d(10), NEVER\n",
        "        #     # nn.ReLU() NEVER!\n",
        "        # ) # output_size = 1\n",
        "        self.convblock8 = nn.Sequential(\n",
        "            nn.Conv2d(in_channels=12, out_channels=15, kernel_size=(3, 3), padding=0, bias=False),\n",
        "            nn.LayerNorm(torch.tensor([15, 1, 1])),\n",
        "            nn.ReLU()\n",
        "        ) # output_size = 5\n",
        "        self.dropout = nn.Dropout(0.07)\n",
        "        # OUTPUT BLOCK\n",
        "        self.gap = nn.Sequential(\n",
        "            nn.AvgPool2d(kernel_size=1)\n",
        "        ) # output_size = 1\n",
        "\n",
        "        self.convblock9 = nn.Sequential(\n",
        "            nn.Conv2d(in_channels=15, out_channels=10, kernel_size=(1, 1), padding=0, bias=False),\n",
        "            # nn.BatchNorm2d(10),\n",
        "            # nn.ReLU(),\n",
        "            # nn.Dropout(dropout_value)\n",
        "        ) \n",
        "\n",
        "    def forward(self, x):\n",
        "        x = self.convblock1(x)\n",
        "        # normalized_shape = torch.tensor(x.size()).index_select(0, indices)\n",
        "        # x = nn.LayerNorm(x.size()[1:])\n",
        "        x = self.dropout(x)\n",
        "\n",
        "        x = self.convblock2(x)\n",
        "        # x = self.dropout(x)\n",
        "\n",
        "        x = self.convblock3(x)\n",
        "        x = self.dropout(x)\n",
        "\n",
        "        x = self.pool1(x)\n",
        "\n",
        "        x = self.convblock4(x)\n",
        "        # x = self.dropout(x)\n",
        "\n",
        "        x = self.convblock5(x)\n",
        "        x = self.dropout(x)\n",
        "\n",
        "        x = self.convblock6(x)\n",
        "        # x = self.dropout(x)\n",
        "\n",
        "        x = self.convblock7(x)\n",
        "\n",
        "        x = self.pool1(x)\n",
        "\n",
        "        x = self.convblock8(x)\n",
        "\n",
        "        x = self.gap(x)\n",
        "\n",
        "        x = self.convblock9(x)\n",
        "\n",
        "        x = x.view(-1, 10)\n",
        "        return F.log_softmax(x, dim=-1)"
      ],
      "execution_count": 156,
      "outputs": []
    },
    {
      "cell_type": "code",
      "metadata": {
        "id": "xtf-5M0kRb1l"
      },
      "source": [
        "def weight_init(m):\n",
        "    if isinstance(m, nn.Conv2d) or isinstance(m, nn.Linear):\n",
        "        nn.init.xavier_uniform_(m.weight, gain=nn.init.calculate_gain('relu'))\n",
        "        # nn.init.kaiming_uniform_(m.weight, mode='fan_in', nonlinearity='leaky_relu')\n",
        "        \n",
        "        # nn.init.zeros_(m.bias)"
      ],
      "execution_count": 116,
      "outputs": []
    },
    {
      "cell_type": "code",
      "metadata": {
        "colab": {
          "base_uri": "https://localhost:8080/"
        },
        "id": "8OUE9GfPRb1l",
        "outputId": "37f33e7f-b79e-4978-a683-6cb8953caa82"
      },
      "source": [
        "!pip install torchsummary\n",
        "from torchsummary import summary\n",
        "use_cuda = torch.cuda.is_available()\n",
        "device = torch.device(\"cuda\" if use_cuda else \"cpu\")\n",
        "model = LayerNormNet().to(device)\n",
        "# model.apply(weight_init)\n",
        "\n",
        "model"
      ],
      "execution_count": 157,
      "outputs": [
        {
          "output_type": "stream",
          "name": "stdout",
          "text": [
            "Requirement already satisfied: torchsummary in /usr/local/lib/python3.7/dist-packages (1.5.1)\n"
          ]
        },
        {
          "output_type": "execute_result",
          "data": {
            "text/plain": [
              "LayerNormNet(\n",
              "  (convblock1): Sequential(\n",
              "    (0): Conv2d(1, 8, kernel_size=(3, 3), stride=(1, 1), bias=False)\n",
              "    (1): LayerNorm((tensor(8), tensor(26), tensor(26)), eps=1e-05, elementwise_affine=True)\n",
              "    (2): ReLU()\n",
              "  )\n",
              "  (convblock2): Sequential(\n",
              "    (0): Conv2d(8, 10, kernel_size=(3, 3), stride=(1, 1), bias=False)\n",
              "    (1): LayerNorm((tensor(10), tensor(24), tensor(24)), eps=1e-05, elementwise_affine=True)\n",
              "    (2): ReLU()\n",
              "  )\n",
              "  (convblock3): Sequential(\n",
              "    (0): Conv2d(10, 20, kernel_size=(3, 3), stride=(1, 1), bias=False)\n",
              "    (1): LayerNorm((tensor(20), tensor(22), tensor(22)), eps=1e-05, elementwise_affine=True)\n",
              "    (2): ReLU()\n",
              "  )\n",
              "  (pool1): MaxPool2d(kernel_size=2, stride=2, padding=0, dilation=1, ceil_mode=False)\n",
              "  (convblock4): Sequential(\n",
              "    (0): Conv2d(20, 10, kernel_size=(1, 1), stride=(1, 1), bias=False)\n",
              "    (1): LayerNorm((tensor(10), tensor(11), tensor(11)), eps=1e-05, elementwise_affine=True)\n",
              "    (2): ReLU()\n",
              "  )\n",
              "  (convblock5): Sequential(\n",
              "    (0): Conv2d(10, 10, kernel_size=(3, 3), stride=(1, 1), bias=False)\n",
              "    (1): LayerNorm((tensor(10), tensor(9), tensor(9)), eps=1e-05, elementwise_affine=True)\n",
              "    (2): ReLU()\n",
              "  )\n",
              "  (convblock6): Sequential(\n",
              "    (0): Conv2d(10, 20, kernel_size=(3, 3), stride=(1, 1), bias=False)\n",
              "    (1): LayerNorm((tensor(20), tensor(7), tensor(7)), eps=1e-05, elementwise_affine=True)\n",
              "    (2): ReLU()\n",
              "  )\n",
              "  (convblock7): Sequential(\n",
              "    (0): Conv2d(20, 12, kernel_size=(1, 1), stride=(1, 1), bias=False)\n",
              "    (1): LayerNorm((tensor(12), tensor(7), tensor(7)), eps=1e-05, elementwise_affine=True)\n",
              "    (2): ReLU()\n",
              "  )\n",
              "  (convblock8): Sequential(\n",
              "    (0): Conv2d(12, 15, kernel_size=(3, 3), stride=(1, 1), bias=False)\n",
              "    (1): LayerNorm((tensor(15), tensor(1), tensor(1)), eps=1e-05, elementwise_affine=True)\n",
              "    (2): ReLU()\n",
              "  )\n",
              "  (dropout): Dropout(p=0.07, inplace=False)\n",
              "  (gap): Sequential(\n",
              "    (0): AvgPool2d(kernel_size=1, stride=1, padding=0)\n",
              "  )\n",
              "  (convblock9): Sequential(\n",
              "    (0): Conv2d(15, 10, kernel_size=(1, 1), stride=(1, 1), bias=False)\n",
              "  )\n",
              ")"
            ]
          },
          "metadata": {},
          "execution_count": 157
        }
      ]
    },
    {
      "cell_type": "code",
      "metadata": {
        "id": "3K5Pgs6jRb1m"
      },
      "source": [
        "torch.manual_seed(1)\n",
        "batch_size = 128\n",
        "\n",
        "kwargs = {'num_workers': 1, 'pin_memory': True} if use_cuda else {}\n",
        "train_loader = torch.utils.data.DataLoader(\n",
        "    datasets.MNIST('../data', train=True, download=True,\n",
        "                    transform=transforms.Compose([\n",
        "                        # transforms.RandomHorizontalFlip(p=0.2),\n",
        "                        # transforms.ColorJitter(brightness=0.01, contrast=0.01),\n",
        "                        transforms.RandomRotation((-4.0, 4.0), fill=(1,)),\n",
        "                        transforms.ToTensor(),\n",
        "                        transforms.Normalize((0.1307,), (0.3081,)) # The mean and std have to be sequences (e.g., tuples), therefore you should add a comma after the values. \n",
        "                    ])),\n",
        "    batch_size=batch_size, shuffle=True, **kwargs)\n",
        "test_loader = torch.utils.data.DataLoader(\n",
        "    datasets.MNIST('../data', train=False, transform=transforms.Compose([\n",
        "                        transforms.ToTensor(),\n",
        "                        transforms.Normalize((0.1307,), (0.3081,)) # The mean and std have to be sequences (e.g., tuples), therefore you should add a comma after the values. \n",
        "                    ])),\n",
        "    batch_size=batch_size, shuffle=True, **kwargs)\n"
      ],
      "execution_count": 153,
      "outputs": []
    },
    {
      "cell_type": "code",
      "metadata": {
        "id": "YQEQUnqORb1m"
      },
      "source": [
        "from tqdm import tqdm\n",
        "\n",
        "train_losses = []\n",
        "test_losses = []\n",
        "train_acc = []\n",
        "test_acc = []\n",
        "\n",
        "def train(model, device, train_loader, optimizer, epoch):\n",
        "    correct = 0\n",
        "    processed = 1\n",
        "    model.train()\n",
        "    pbar = tqdm(train_loader)\n",
        "\n",
        "    for batch_idx, (data, target) in enumerate(pbar):\n",
        "        # print(len(data))\n",
        "        data, target = data.to(device), target.to(device)\n",
        "        optimizer.zero_grad()\n",
        "        output = model(data)\n",
        "        loss = F.nll_loss(output, target)\n",
        "        loss.backward()\n",
        "        train_losses.append(loss)\n",
        "        optimizer.step()\n",
        "        scheduler.step()\n",
        "        pbar.set_description(desc= f'loss={loss.item()} batch_id={batch_idx} Accuracy={100*correct/processed:0.2f}')\n",
        "        pred = output.argmax(dim=1, keepdim=True)  # get the index of the max log-probability\n",
        "        correct += pred.eq(target.view_as(pred)).sum().item()\n",
        "        # print(correct)\n",
        "        processed += len(data)\n",
        "        train_acc.append(100*correct/processed)\n",
        "\n",
        "\n",
        "def test(model, device, test_loader):\n",
        "    model.eval()\n",
        "    test_loss = 0\n",
        "    correct = 0\n",
        "    with torch.no_grad():\n",
        "        for data, target in test_loader:\n",
        "            data, target = data.to(device), target.to(device)\n",
        "            output = model(data)\n",
        "            test_loss += F.nll_loss(output, target, reduction='sum').item()  # sum up batch loss\n",
        "            pred = output.argmax(dim=1, keepdim=True)  # get the index of the max log-probability\n",
        "            correct += pred.eq(target.view_as(pred)).sum().item()\n",
        "\n",
        "    test_loss /= len(test_loader.dataset)\n",
        "    test_losses.append(test_loss)\n",
        "\n",
        "    print('\\nTest set: Average loss: {:.4f}, Accuracy: {}/{} ({:.4f}%)\\n'.format(\n",
        "        test_loss, correct, len(test_loader.dataset),\n",
        "        100. * correct / len(test_loader.dataset)))\n",
        "    test_acc.append(100. * correct / len(test_loader.dataset))"
      ],
      "execution_count": 143,
      "outputs": []
    },
    {
      "cell_type": "code",
      "metadata": {
        "id": "W_Mj0OClRb1m"
      },
      "source": [
        "# model = Net().to(device)"
      ],
      "execution_count": 122,
      "outputs": []
    },
    {
      "cell_type": "code",
      "metadata": {
        "id": "CdftreUeRb1n"
      },
      "source": [
        "optimizer = optim.SGD(model.parameters(), lr=0.02, momentum=0.9)\n",
        "# scheduler = torch.optim.lr_scheduler.CyclicLR(optimizer, \n",
        "#                                               base_lr=0.01,\n",
        "#                                               max_lr=0.1)\n",
        "\n",
        "from torch.optim.lr_scheduler import StepLR, MultiStepLR\n",
        "scheduler = StepLR(optimizer, step_size=4500, gamma=0.1)\n",
        "# scheduler = MultiStepLR(optimizer, milestones=[10,12,14], gamma=0.1)"
      ],
      "execution_count": 158,
      "outputs": []
    },
    {
      "cell_type": "code",
      "metadata": {
        "colab": {
          "base_uri": "https://localhost:8080/"
        },
        "id": "SLQJSAecRb1p",
        "outputId": "7c4cf75b-38ee-4769-efda-8db794f28fca"
      },
      "source": [
        "for epoch in range(1, 15):\n",
        "    train(model, device, train_loader, optimizer, epoch)\n",
        "    test(model, device, test_loader)"
      ],
      "execution_count": 159,
      "outputs": [
        {
          "output_type": "stream",
          "name": "stderr",
          "text": [
            "loss=0.10950135439634323 batch_id=468 Accuracy=89.43: 100%|██████████| 469/469 [00:26<00:00, 17.40it/s]\n"
          ]
        },
        {
          "output_type": "stream",
          "name": "stdout",
          "text": [
            "\n",
            "Test set: Average loss: 0.1104, Accuracy: 9680/10000 (96.8000%)\n",
            "\n"
          ]
        },
        {
          "output_type": "stream",
          "name": "stderr",
          "text": [
            "loss=0.12666599452495575 batch_id=468 Accuracy=96.84: 100%|██████████| 469/469 [00:26<00:00, 17.54it/s]\n"
          ]
        },
        {
          "output_type": "stream",
          "name": "stdout",
          "text": [
            "\n",
            "Test set: Average loss: 0.0686, Accuracy: 9787/10000 (97.8700%)\n",
            "\n"
          ]
        },
        {
          "output_type": "stream",
          "name": "stderr",
          "text": [
            "loss=0.23204433917999268 batch_id=468 Accuracy=97.62: 100%|██████████| 469/469 [00:26<00:00, 17.56it/s]\n"
          ]
        },
        {
          "output_type": "stream",
          "name": "stdout",
          "text": [
            "\n",
            "Test set: Average loss: 0.0549, Accuracy: 9835/10000 (98.3500%)\n",
            "\n"
          ]
        },
        {
          "output_type": "stream",
          "name": "stderr",
          "text": [
            "loss=0.015910595655441284 batch_id=468 Accuracy=98.10: 100%|██████████| 469/469 [00:26<00:00, 17.45it/s]\n"
          ]
        },
        {
          "output_type": "stream",
          "name": "stdout",
          "text": [
            "\n",
            "Test set: Average loss: 0.0461, Accuracy: 9857/10000 (98.5700%)\n",
            "\n"
          ]
        },
        {
          "output_type": "stream",
          "name": "stderr",
          "text": [
            "loss=0.05970229580998421 batch_id=468 Accuracy=98.21: 100%|██████████| 469/469 [00:27<00:00, 17.35it/s]\n"
          ]
        },
        {
          "output_type": "stream",
          "name": "stdout",
          "text": [
            "\n",
            "Test set: Average loss: 0.0395, Accuracy: 9875/10000 (98.7500%)\n",
            "\n"
          ]
        },
        {
          "output_type": "stream",
          "name": "stderr",
          "text": [
            "loss=0.0926366075873375 batch_id=468 Accuracy=98.55: 100%|██████████| 469/469 [00:26<00:00, 17.61it/s]\n"
          ]
        },
        {
          "output_type": "stream",
          "name": "stdout",
          "text": [
            "\n",
            "Test set: Average loss: 0.0435, Accuracy: 9858/10000 (98.5800%)\n",
            "\n"
          ]
        },
        {
          "output_type": "stream",
          "name": "stderr",
          "text": [
            "loss=0.0461777001619339 batch_id=468 Accuracy=98.59: 100%|██████████| 469/469 [00:26<00:00, 17.49it/s]\n"
          ]
        },
        {
          "output_type": "stream",
          "name": "stdout",
          "text": [
            "\n",
            "Test set: Average loss: 0.0351, Accuracy: 9892/10000 (98.9200%)\n",
            "\n"
          ]
        },
        {
          "output_type": "stream",
          "name": "stderr",
          "text": [
            "loss=0.039033301174640656 batch_id=468 Accuracy=98.62: 100%|██████████| 469/469 [00:26<00:00, 17.60it/s]\n"
          ]
        },
        {
          "output_type": "stream",
          "name": "stdout",
          "text": [
            "\n",
            "Test set: Average loss: 0.0368, Accuracy: 9886/10000 (98.8600%)\n",
            "\n"
          ]
        },
        {
          "output_type": "stream",
          "name": "stderr",
          "text": [
            "loss=0.010392270050942898 batch_id=468 Accuracy=98.78: 100%|██████████| 469/469 [00:26<00:00, 17.47it/s]\n"
          ]
        },
        {
          "output_type": "stream",
          "name": "stdout",
          "text": [
            "\n",
            "Test set: Average loss: 0.0335, Accuracy: 9896/10000 (98.9600%)\n",
            "\n"
          ]
        },
        {
          "output_type": "stream",
          "name": "stderr",
          "text": [
            "loss=0.038157105445861816 batch_id=468 Accuracy=98.95: 100%|██████████| 469/469 [00:26<00:00, 17.44it/s]\n"
          ]
        },
        {
          "output_type": "stream",
          "name": "stdout",
          "text": [
            "\n",
            "Test set: Average loss: 0.0280, Accuracy: 9919/10000 (99.1900%)\n",
            "\n"
          ]
        },
        {
          "output_type": "stream",
          "name": "stderr",
          "text": [
            "loss=0.016893481835722923 batch_id=468 Accuracy=99.19: 100%|██████████| 469/469 [00:27<00:00, 17.23it/s]\n"
          ]
        },
        {
          "output_type": "stream",
          "name": "stdout",
          "text": [
            "\n",
            "Test set: Average loss: 0.0269, Accuracy: 9917/10000 (99.1700%)\n",
            "\n"
          ]
        },
        {
          "output_type": "stream",
          "name": "stderr",
          "text": [
            "loss=0.005991610232740641 batch_id=468 Accuracy=99.20: 100%|██████████| 469/469 [00:27<00:00, 17.36it/s]\n"
          ]
        },
        {
          "output_type": "stream",
          "name": "stdout",
          "text": [
            "\n",
            "Test set: Average loss: 0.0269, Accuracy: 9915/10000 (99.1500%)\n",
            "\n"
          ]
        },
        {
          "output_type": "stream",
          "name": "stderr",
          "text": [
            "loss=0.005208579357713461 batch_id=468 Accuracy=99.25: 100%|██████████| 469/469 [00:26<00:00, 17.48it/s]\n"
          ]
        },
        {
          "output_type": "stream",
          "name": "stdout",
          "text": [
            "\n",
            "Test set: Average loss: 0.0264, Accuracy: 9917/10000 (99.1700%)\n",
            "\n"
          ]
        },
        {
          "output_type": "stream",
          "name": "stderr",
          "text": [
            "loss=0.05329231917858124 batch_id=468 Accuracy=99.28: 100%|██████████| 469/469 [00:27<00:00, 17.21it/s]\n"
          ]
        },
        {
          "output_type": "stream",
          "name": "stdout",
          "text": [
            "\n",
            "Test set: Average loss: 0.0262, Accuracy: 9913/10000 (99.1300%)\n",
            "\n"
          ]
        }
      ]
    },
    {
      "cell_type": "code",
      "metadata": {
        "id": "rvy49JK8Rb1p"
      },
      "source": [
        "%matplotlib inline\n",
        "import matplotlib.pyplot as plt"
      ],
      "execution_count": 160,
      "outputs": []
    },
    {
      "cell_type": "code",
      "metadata": {
        "colab": {
          "base_uri": "https://localhost:8080/",
          "height": 625
        },
        "id": "3InImx-ARb1p",
        "outputId": "88e82252-c495-4bd9-add2-5d8f038ddbab"
      },
      "source": [
        "fig, axs = plt.subplots(2,2,figsize=(15,10))\n",
        "axs[0, 0].plot(train_losses)\n",
        "axs[0, 0].set_title(\"Training Loss\")\n",
        "axs[1, 0].plot(train_acc[4000:])\n",
        "axs[1, 0].set_title(\"Training Accuracy\")\n",
        "axs[0, 1].plot(test_losses)\n",
        "axs[0, 1].set_title(\"Test Loss\")\n",
        "axs[1, 1].plot(test_acc)\n",
        "axs[1, 1].set_title(\"Test Accuracy\")"
      ],
      "execution_count": 161,
      "outputs": [
        {
          "output_type": "execute_result",
          "data": {
            "text/plain": [
              "Text(0.5, 1.0, 'Test Accuracy')"
            ]
          },
          "metadata": {},
          "execution_count": 161
        },
        {
          "output_type": "display_data",
          "data": {
            "image/png": "[encoded data removed]",
            "text/plain": [
              "<Figure size 1080x720 with 4 Axes>"
            ]
          },
          "metadata": {
            "needs_background": "light"
          }
        }
      ]
    },
    {
      "cell_type": "code",
      "metadata": {
        "id": "WIqZcqRDRb1q",
        "colab": {
          "base_uri": "https://localhost:8080/",
          "height": 245
        },
        "outputId": "11e2b4d9-0389-456a-ce6d-2d82247a06d6"
      },
      "source": [
        "display_errors(model,test_loader)"
      ],
      "execution_count": 162,
      "outputs": [
        {
          "output_type": "stream",
          "name": "stdout",
          "text": [
            "Number of misclassified Image:34\n"
          ]
        },
        {
          "output_type": "display_data",
          "data": {
            "image/png": "[encoded data removed]",
            "text/plain": [
              "<Figure size 432x288 with 10 Axes>"
            ]
          },
          "metadata": {
            "needs_background": "light"
          }
        }
      ]
    },
    {
      "cell_type": "markdown",
      "metadata": {
        "id": "kElUabYZaWT6"
      },
      "source": [
        ""
      ]
    },
    {
      "cell_type": "markdown",
      "metadata": {
        "id": "ub9qfto4aWrf"
      },
      "source": [
        "## Network with L1 + BN"
      ]
    },
    {
      "cell_type": "markdown",
      "metadata": {
        "id": "tYHrSe8GaWrf"
      },
      "source": [
        "### What is Layer Normalization?"
      ]
    },
    {
      "cell_type": "code",
      "metadata": {
        "id": "VdN_ayKfaWrf"
      },
      "source": [
        "from __future__ import print_function\n",
        "import torch\n",
        "import torch.nn as nn\n",
        "import torch.nn.functional as F\n",
        "import torch.optim as optim\n",
        "from torchvision import datasets, transforms"
      ],
      "execution_count": 125,
      "outputs": []
    },
    {
      "cell_type": "code",
      "metadata": {
        "id": "NHLP2RdtaWrf"
      },
      "source": [
        "class BNNorml1Net(nn.Module):\n",
        "    def __init__(self):\n",
        "        super(BNNorml1Net, self).__init__()\n",
        "        # Input Block\n",
        "        self.convblock1 = nn.Sequential(\n",
        "            nn.Conv2d(in_channels=1, out_channels=8, kernel_size=(3, 3), padding=0, bias=False),\n",
        "            nn.BatchNorm2d(8),\n",
        "            nn.ReLU(),\n",
        "            \n",
        "\n",
        "        ) # output_size = 26\n",
        "\n",
        "\n",
        "        # CONVOLUTION BLOCK 1\n",
        "        self.convblock2 = nn.Sequential(\n",
        "            nn.Conv2d(in_channels=8, out_channels=10, kernel_size=(3, 3), padding=0, bias=False),\n",
        "            nn.BatchNorm2d(10),\n",
        "            nn.ReLU(),\n",
        "            # nn.GroupNorm(2, 10)\n",
        "        ) # output_size = 24\n",
        "        self.convblock3 = nn.Sequential(\n",
        "            nn.Conv2d(in_channels=10, out_channels=20, kernel_size=(3, 3), padding=0, bias=False),\n",
        "            nn.BatchNorm2d(20),\n",
        "            nn.ReLU(),\n",
        "            # nn.GroupNorm(4, 20)\n",
        "        ) # output_size = 22\n",
        "\n",
        "        # TRANSITION BLOCK 1\n",
        "        self.pool1 = nn.MaxPool2d(2, 2) # output_size = 11\n",
        "        self.convblock4 = nn.Sequential(\n",
        "            nn.Conv2d(in_channels=20, out_channels=10, kernel_size=(1, 1), padding=0, bias=False),\n",
        "            nn.BatchNorm2d(10),\n",
        "            nn.ReLU(),\n",
        "            # nn.GroupNorm(2, 10)\n",
        "        ) # output_size = 11\n",
        "\n",
        "        # CONVOLUTION BLOCK 2\n",
        "        self.convblock5 = nn.Sequential(\n",
        "            nn.Conv2d(in_channels=10, out_channels=10, kernel_size=(3, 3), padding=0, bias=False),\n",
        "            nn.BatchNorm2d(10),\n",
        "            nn.ReLU(),\n",
        "            # nn.GroupNorm(2, 10)\n",
        "        ) # output_size = 9\n",
        "        self.convblock6 = nn.Sequential(\n",
        "            nn.Conv2d(in_channels=10, out_channels=20, kernel_size=(3, 3), padding=0, bias=False),\n",
        "            nn.BatchNorm2d(20),\n",
        "            nn.ReLU(),\n",
        "            # nn.GroupNorm(4, 20)\n",
        "        ) # output_size = 7\n",
        "\n",
        "        # OUTPUT BLOCK\n",
        "        self.convblock7 = nn.Sequential(\n",
        "            nn.Conv2d(in_channels=20, out_channels=12, kernel_size=(1, 1), padding=0, bias=False),\n",
        "            nn.BatchNorm2d(12),\n",
        "            nn.ReLU()\n",
        "        ) # output_size = 7\n",
        "        # self.convblock8 = nn.Sequential(\n",
        "        #     nn.Conv2d(in_channels=10, out_channels=10, kernel_size=(7, 7), padding=0, bias=False),\n",
        "        #     # nn.BatchNorm2d(10), NEVER\n",
        "        #     # nn.ReLU() NEVER!\n",
        "        # ) # output_size = 1\n",
        "        self.convblock8 = nn.Sequential(\n",
        "            nn.Conv2d(in_channels=12, out_channels=15, kernel_size=(3, 3), padding=0, bias=False),\n",
        "            nn.BatchNorm2d(15),\n",
        "            nn.ReLU()\n",
        "        ) # output_size = 5\n",
        "        self.dropout = nn.Dropout(0.07)\n",
        "        # OUTPUT BLOCK\n",
        "        self.gap = nn.Sequential(\n",
        "            nn.AvgPool2d(kernel_size=1)\n",
        "        ) # output_size = 1\n",
        "\n",
        "        self.convblock9 = nn.Sequential(\n",
        "            nn.Conv2d(in_channels=15, out_channels=10, kernel_size=(1, 1), padding=0, bias=False),\n",
        "            # nn.BatchNorm2d(10),\n",
        "            # nn.ReLU(),\n",
        "            # nn.Dropout(dropout_value)\n",
        "        ) \n",
        "\n",
        "    def forward(self, x):\n",
        "        x = self.convblock1(x)\n",
        "        x = self.dropout(x)\n",
        "\n",
        "        x = self.convblock2(x)\n",
        "        x = self.dropout(x)\n",
        "\n",
        "        x = self.convblock3(x)\n",
        "        x = self.dropout(x)\n",
        "\n",
        "        x = self.pool1(x)\n",
        "\n",
        "        x = self.convblock4(x)\n",
        "        x = self.dropout(x)\n",
        "\n",
        "        x = self.convblock5(x)\n",
        "        x = self.dropout(x)\n",
        "\n",
        "        x = self.convblock6(x)\n",
        "        x = self.dropout(x)\n",
        "\n",
        "        x = self.convblock7(x)\n",
        "\n",
        "        x = self.pool1(x)\n",
        "\n",
        "        x = self.convblock8(x)\n",
        "\n",
        "        x = self.gap(x)\n",
        "\n",
        "        x = self.convblock9(x)\n",
        "\n",
        "        x = x.view(-1, 10)\n",
        "        return F.log_softmax(x, dim=-1)"
      ],
      "execution_count": 126,
      "outputs": []
    },
    {
      "cell_type": "code",
      "metadata": {
        "id": "u-wmWvtwaWrg"
      },
      "source": [
        "def weight_init(m):\n",
        "    if isinstance(m, nn.Conv2d) or isinstance(m, nn.Linear):\n",
        "        nn.init.xavier_uniform_(m.weight, gain=nn.init.calculate_gain('relu'))\n",
        "        # nn.init.kaiming_uniform_(m.weight, mode='fan_in', nonlinearity='leaky_relu')\n",
        "        \n",
        "        # nn.init.zeros_(m.bias)"
      ],
      "execution_count": 127,
      "outputs": []
    },
    {
      "cell_type": "code",
      "metadata": {
        "colab": {
          "base_uri": "https://localhost:8080/"
        },
        "id": "gBdg0vfmaWrg",
        "outputId": "f6d2589b-0473-451a-8cf1-4d48df8a1ad5"
      },
      "source": [
        "!pip install torchsummary\n",
        "from torchsummary import summary\n",
        "use_cuda = torch.cuda.is_available()\n",
        "device = torch.device(\"cuda\" if use_cuda else \"cpu\")\n",
        "model = BNNorml1Net().to(device)\n",
        "# model.apply(weight_init)\n",
        "\n",
        "summary(model, input_size=(1, 28, 28))"
      ],
      "execution_count": 128,
      "outputs": [
        {
          "output_type": "stream",
          "name": "stdout",
          "text": [
            "Requirement already satisfied: torchsummary in /usr/local/lib/python3.7/dist-packages (1.5.1)\n",
            "----------------------------------------------------------------\n",
            "        Layer (type)               Output Shape         Param #\n",
            "================================================================\n",
            "            Conv2d-1            [-1, 8, 26, 26]              72\n",
            "       BatchNorm2d-2            [-1, 8, 26, 26]              16\n",
            "              ReLU-3            [-1, 8, 26, 26]               0\n",
            "           Dropout-4            [-1, 8, 26, 26]               0\n",
            "            Conv2d-5           [-1, 10, 24, 24]             720\n",
            "       BatchNorm2d-6           [-1, 10, 24, 24]              20\n",
            "              ReLU-7           [-1, 10, 24, 24]               0\n",
            "           Dropout-8           [-1, 10, 24, 24]               0\n",
            "            Conv2d-9           [-1, 20, 22, 22]           1,800\n",
            "      BatchNorm2d-10           [-1, 20, 22, 22]              40\n",
            "             ReLU-11           [-1, 20, 22, 22]               0\n",
            "          Dropout-12           [-1, 20, 22, 22]               0\n",
            "        MaxPool2d-13           [-1, 20, 11, 11]               0\n",
            "           Conv2d-14           [-1, 10, 11, 11]             200\n",
            "      BatchNorm2d-15           [-1, 10, 11, 11]              20\n",
            "             ReLU-16           [-1, 10, 11, 11]               0\n",
            "          Dropout-17           [-1, 10, 11, 11]               0\n",
            "           Conv2d-18             [-1, 10, 9, 9]             900\n",
            "      BatchNorm2d-19             [-1, 10, 9, 9]              20\n",
            "             ReLU-20             [-1, 10, 9, 9]               0\n",
            "          Dropout-21             [-1, 10, 9, 9]               0\n",
            "           Conv2d-22             [-1, 20, 7, 7]           1,800\n",
            "      BatchNorm2d-23             [-1, 20, 7, 7]              40\n",
            "             ReLU-24             [-1, 20, 7, 7]               0\n",
            "          Dropout-25             [-1, 20, 7, 7]               0\n",
            "           Conv2d-26             [-1, 12, 7, 7]             240\n",
            "      BatchNorm2d-27             [-1, 12, 7, 7]              24\n",
            "             ReLU-28             [-1, 12, 7, 7]               0\n",
            "        MaxPool2d-29             [-1, 12, 3, 3]               0\n",
            "           Conv2d-30             [-1, 15, 1, 1]           1,620\n",
            "      BatchNorm2d-31             [-1, 15, 1, 1]              30\n",
            "             ReLU-32             [-1, 15, 1, 1]               0\n",
            "        AvgPool2d-33             [-1, 15, 1, 1]               0\n",
            "           Conv2d-34             [-1, 10, 1, 1]             150\n",
            "================================================================\n",
            "Total params: 7,712\n",
            "Trainable params: 7,712\n",
            "Non-trainable params: 0\n",
            "----------------------------------------------------------------\n",
            "Input size (MB): 0.00\n",
            "Forward/backward pass size (MB): 0.76\n",
            "Params size (MB): 0.03\n",
            "Estimated Total Size (MB): 0.79\n",
            "----------------------------------------------------------------\n"
          ]
        }
      ]
    },
    {
      "cell_type": "markdown",
      "metadata": {
        "id": "XhLoh1lAcUiS"
      },
      "source": [
        "There is no analogous argument for L1, however this is straightforward to implement manually:\n",
        "\n"
      ]
    },
    {
      "cell_type": "code",
      "metadata": {
        "id": "gCzQk-DtaWrg"
      },
      "source": [
        "torch.manual_seed(1)\n",
        "batch_size = 128\n",
        "\n",
        "kwargs = {'num_workers': 1, 'pin_memory': True} if use_cuda else {}\n",
        "train_loader = torch.utils.data.DataLoader(\n",
        "    datasets.MNIST('../data', train=True, download=True,\n",
        "                    transform=transforms.Compose([\n",
        "                        # transforms.RandomHorizontalFlip(p=0.2),\n",
        "                        # transforms.ColorJitter(brightness=0.01, contrast=0.01),\n",
        "                        transforms.RandomRotation((-4.0, 4.0), fill=(1,)),\n",
        "                        transforms.ToTensor(),\n",
        "                        transforms.Normalize((0.1307,), (0.3081,)) # The mean and std have to be sequences (e.g., tuples), therefore you should add a comma after the values. \n",
        "                    ])),\n",
        "    batch_size=batch_size, shuffle=True, **kwargs)\n",
        "test_loader = torch.utils.data.DataLoader(\n",
        "    datasets.MNIST('../data', train=False, transform=transforms.Compose([\n",
        "                        transforms.ToTensor(),\n",
        "                        transforms.Normalize((0.1307,), (0.3081,)) # The mean and std have to be sequences (e.g., tuples), therefore you should add a comma after the values. \n",
        "                    ])),\n",
        "    batch_size=batch_size, shuffle=True, **kwargs)\n"
      ],
      "execution_count": 129,
      "outputs": []
    },
    {
      "cell_type": "code",
      "metadata": {
        "id": "qnfPPPWedbfI"
      },
      "source": [
        "def l1_penalty(params, l1_lambda=0.001):\n",
        "  # This is taken from https://stackoverflow.com/questions/44641976/pytorch-how-to-add-l1-regularizer-to-activations\n",
        "    \"\"\"Returns the L1 penalty of the params.\"\"\"\n",
        "    l1_norm = sum(p.abs().sum() for p in params)\n",
        "    return l1_lambda*l1_norm\n",
        "\n",
        "# loss = loss_fn(outputs, labels) + l1_penalty(my_layer.parameters())"
      ],
      "execution_count": 130,
      "outputs": []
    },
    {
      "cell_type": "code",
      "metadata": {
        "id": "H4hptAtIaWrh"
      },
      "source": [
        "from tqdm import tqdm\n",
        "\n",
        "train_losses = []\n",
        "test_losses = []\n",
        "train_acc = []\n",
        "test_acc = []\n",
        "\n",
        "def train(model, device, train_loader, optimizer, epoch):\n",
        "    correct = 0\n",
        "    processed = 1\n",
        "    model.train()\n",
        "    pbar = tqdm(train_loader)\n",
        "    ## l1 regularization https://stackoverflow.com/questions/42704283/adding-l1-l2-regularization-in-pytorch\n",
        "    # l1_lambda = 0.001\n",
        "    # l1_norm = sum(p.abs().sum() for p in model.parameters())\n",
        "    \n",
        "    for batch_idx, (data, target) in enumerate(pbar):\n",
        "        # print(len(data))\n",
        "        data, target = data.to(device), target.to(device)\n",
        "        optimizer.zero_grad()\n",
        "        output = model(data)\n",
        "        loss = F.nll_loss(output, target)\n",
        "\n",
        "        loss = loss + l1_penalty(model.parameters())\n",
        "        loss.backward()\n",
        "        train_losses.append(loss)\n",
        "        optimizer.step()\n",
        "        scheduler.step()\n",
        "        pbar.set_description(desc= f'loss={loss.item()} batch_id={batch_idx} Accuracy={100*correct/processed:0.2f}')\n",
        "        pred = output.argmax(dim=1, keepdim=True)  # get the index of the max log-probability\n",
        "        correct += pred.eq(target.view_as(pred)).sum().item()\n",
        "        # print(correct)\n",
        "        processed += len(data)\n",
        "        train_acc.append(100*correct/processed)\n",
        "\n",
        "\n",
        "def test(model, device, test_loader):\n",
        "    model.eval()\n",
        "    test_loss = 0\n",
        "    correct = 0\n",
        "    with torch.no_grad():\n",
        "        for data, target in test_loader:\n",
        "            data, target = data.to(device), target.to(device)\n",
        "            output = model(data)\n",
        "            test_loss += F.nll_loss(output, target, reduction='sum').item()  # sum up batch loss\n",
        "            pred = output.argmax(dim=1, keepdim=True)  # get the index of the max log-probability\n",
        "            correct += pred.eq(target.view_as(pred)).sum().item()\n",
        "\n",
        "    test_loss /= len(test_loader.dataset)\n",
        "    test_losses.append(test_loss)\n",
        "\n",
        "    print('\\nTest set: Average loss: {:.4f}, Accuracy: {}/{} ({:.4f}%)\\n'.format(\n",
        "        test_loss, correct, len(test_loader.dataset),\n",
        "        100. * correct / len(test_loader.dataset)))\n",
        "    test_acc.append(100. * correct / len(test_loader.dataset))"
      ],
      "execution_count": 133,
      "outputs": []
    },
    {
      "cell_type": "code",
      "metadata": {
        "id": "Y3JDxA3MaWrh"
      },
      "source": [
        "# model = Net().to(device)"
      ],
      "execution_count": 134,
      "outputs": []
    },
    {
      "cell_type": "code",
      "metadata": {
        "id": "lvzaftmtaWrh"
      },
      "source": [
        "optimizer = optim.SGD(model.parameters(), lr=0.02, momentum=0.9)\n",
        "# scheduler = torch.optim.lr_scheduler.CyclicLR(optimizer, \n",
        "#                                               base_lr=0.01,\n",
        "#                                               max_lr=0.1)\n",
        "\n",
        "from torch.optim.lr_scheduler import StepLR, MultiStepLR\n",
        "scheduler = StepLR(optimizer, step_size=4500, gamma=0.1)\n",
        "# scheduler = MultiStepLR(optimizer, milestones=[10,12,14], gamma=0.1)"
      ],
      "execution_count": 135,
      "outputs": []
    },
    {
      "cell_type": "code",
      "metadata": {
        "colab": {
          "base_uri": "https://localhost:8080/"
        },
        "id": "pQFp5ilKaWrh",
        "outputId": "23967e88-f7ef-4e89-8765-aaab21185cdc"
      },
      "source": [
        "for epoch in range(1, 15):\n",
        "    train(model, device, train_loader, optimizer, epoch)\n",
        "    test(model, device, test_loader)"
      ],
      "execution_count": 136,
      "outputs": [
        {
          "output_type": "stream",
          "name": "stderr",
          "text": [
            "loss=0.5134201049804688 batch_id=468 Accuracy=91.32: 100%|██████████| 469/469 [00:28<00:00, 16.31it/s]\n"
          ]
        },
        {
          "output_type": "stream",
          "name": "stdout",
          "text": [
            "\n",
            "Test set: Average loss: 0.1114, Accuracy: 9695/10000 (96.9500%)\n",
            "\n"
          ]
        },
        {
          "output_type": "stream",
          "name": "stderr",
          "text": [
            "loss=0.4319475591182709 batch_id=468 Accuracy=96.57: 100%|██████████| 469/469 [00:29<00:00, 16.03it/s]\n"
          ]
        },
        {
          "output_type": "stream",
          "name": "stdout",
          "text": [
            "\n",
            "Test set: Average loss: 0.1908, Accuracy: 9399/10000 (93.9900%)\n",
            "\n"
          ]
        },
        {
          "output_type": "stream",
          "name": "stderr",
          "text": [
            "loss=0.4139091670513153 batch_id=468 Accuracy=96.85: 100%|██████████| 469/469 [00:28<00:00, 16.24it/s]\n"
          ]
        },
        {
          "output_type": "stream",
          "name": "stdout",
          "text": [
            "\n",
            "Test set: Average loss: 0.0862, Accuracy: 9754/10000 (97.5400%)\n",
            "\n"
          ]
        },
        {
          "output_type": "stream",
          "name": "stderr",
          "text": [
            "loss=0.32580140233039856 batch_id=468 Accuracy=96.97: 100%|██████████| 469/469 [00:28<00:00, 16.32it/s]\n"
          ]
        },
        {
          "output_type": "stream",
          "name": "stdout",
          "text": [
            "\n",
            "Test set: Average loss: 0.0772, Accuracy: 9772/10000 (97.7200%)\n",
            "\n"
          ]
        },
        {
          "output_type": "stream",
          "name": "stderr",
          "text": [
            "loss=0.3968324065208435 batch_id=468 Accuracy=97.01: 100%|██████████| 469/469 [00:29<00:00, 16.05it/s]\n"
          ]
        },
        {
          "output_type": "stream",
          "name": "stdout",
          "text": [
            "\n",
            "Test set: Average loss: 0.0843, Accuracy: 9735/10000 (97.3500%)\n",
            "\n"
          ]
        },
        {
          "output_type": "stream",
          "name": "stderr",
          "text": [
            "loss=0.4228363633155823 batch_id=468 Accuracy=97.08: 100%|██████████| 469/469 [00:29<00:00, 16.17it/s]\n"
          ]
        },
        {
          "output_type": "stream",
          "name": "stdout",
          "text": [
            "\n",
            "Test set: Average loss: 0.1408, Accuracy: 9558/10000 (95.5800%)\n",
            "\n"
          ]
        },
        {
          "output_type": "stream",
          "name": "stderr",
          "text": [
            "loss=0.3680722117424011 batch_id=468 Accuracy=97.02: 100%|██████████| 469/469 [00:29<00:00, 16.10it/s]\n"
          ]
        },
        {
          "output_type": "stream",
          "name": "stdout",
          "text": [
            "\n",
            "Test set: Average loss: 0.0881, Accuracy: 9755/10000 (97.5500%)\n",
            "\n"
          ]
        },
        {
          "output_type": "stream",
          "name": "stderr",
          "text": [
            "loss=0.44757556915283203 batch_id=468 Accuracy=96.93: 100%|██████████| 469/469 [00:29<00:00, 16.06it/s]\n"
          ]
        },
        {
          "output_type": "stream",
          "name": "stdout",
          "text": [
            "\n",
            "Test set: Average loss: 0.0891, Accuracy: 9742/10000 (97.4200%)\n",
            "\n"
          ]
        },
        {
          "output_type": "stream",
          "name": "stderr",
          "text": [
            "loss=0.3679051399230957 batch_id=468 Accuracy=97.13: 100%|██████████| 469/469 [00:29<00:00, 16.01it/s]\n"
          ]
        },
        {
          "output_type": "stream",
          "name": "stdout",
          "text": [
            "\n",
            "Test set: Average loss: 0.0830, Accuracy: 9757/10000 (97.5700%)\n",
            "\n"
          ]
        },
        {
          "output_type": "stream",
          "name": "stderr",
          "text": [
            "loss=0.2642269730567932 batch_id=468 Accuracy=97.34: 100%|██████████| 469/469 [00:29<00:00, 16.05it/s]\n"
          ]
        },
        {
          "output_type": "stream",
          "name": "stdout",
          "text": [
            "\n",
            "Test set: Average loss: 0.0422, Accuracy: 9885/10000 (98.8500%)\n",
            "\n"
          ]
        },
        {
          "output_type": "stream",
          "name": "stderr",
          "text": [
            "loss=0.22317172586917877 batch_id=468 Accuracy=98.32: 100%|██████████| 469/469 [00:28<00:00, 16.23it/s]\n"
          ]
        },
        {
          "output_type": "stream",
          "name": "stdout",
          "text": [
            "\n",
            "Test set: Average loss: 0.0370, Accuracy: 9898/10000 (98.9800%)\n",
            "\n"
          ]
        },
        {
          "output_type": "stream",
          "name": "stderr",
          "text": [
            "loss=0.2241540551185608 batch_id=468 Accuracy=98.41: 100%|██████████| 469/469 [00:29<00:00, 16.09it/s]\n"
          ]
        },
        {
          "output_type": "stream",
          "name": "stdout",
          "text": [
            "\n",
            "Test set: Average loss: 0.0357, Accuracy: 9894/10000 (98.9400%)\n",
            "\n"
          ]
        },
        {
          "output_type": "stream",
          "name": "stderr",
          "text": [
            "loss=0.17798301577568054 batch_id=468 Accuracy=98.35: 100%|██████████| 469/469 [00:29<00:00, 16.13it/s]\n"
          ]
        },
        {
          "output_type": "stream",
          "name": "stdout",
          "text": [
            "\n",
            "Test set: Average loss: 0.0457, Accuracy: 9874/10000 (98.7400%)\n",
            "\n"
          ]
        },
        {
          "output_type": "stream",
          "name": "stderr",
          "text": [
            "loss=0.25676387548446655 batch_id=468 Accuracy=98.34: 100%|██████████| 469/469 [00:29<00:00, 15.98it/s]\n"
          ]
        },
        {
          "output_type": "stream",
          "name": "stdout",
          "text": [
            "\n",
            "Test set: Average loss: 0.0392, Accuracy: 9892/10000 (98.9200%)\n",
            "\n"
          ]
        }
      ]
    },
    {
      "cell_type": "code",
      "metadata": {
        "id": "MjrqlBEEaWrh"
      },
      "source": [
        "%matplotlib inline\n",
        "import matplotlib.pyplot as plt"
      ],
      "execution_count": 137,
      "outputs": []
    },
    {
      "cell_type": "code",
      "metadata": {
        "colab": {
          "base_uri": "https://localhost:8080/",
          "height": 625
        },
        "id": "ofCI_051aWrh",
        "outputId": "340d1148-f460-439a-f99a-0db77b28287f"
      },
      "source": [
        "fig, axs = plt.subplots(2,2,figsize=(15,10))\n",
        "axs[0, 0].plot(train_losses)\n",
        "axs[0, 0].set_title(\"Training Loss\")\n",
        "axs[1, 0].plot(train_acc[4000:])\n",
        "axs[1, 0].set_title(\"Training Accuracy\")\n",
        "axs[0, 1].plot(test_losses)\n",
        "axs[0, 1].set_title(\"Test Loss\")\n",
        "axs[1, 1].plot(test_acc)\n",
        "axs[1, 1].set_title(\"Test Accuracy\")"
      ],
      "execution_count": 138,
      "outputs": [
        {
          "output_type": "execute_result",
          "data": {
            "text/plain": [
              "Text(0.5, 1.0, 'Test Accuracy')"
            ]
          },
          "metadata": {},
          "execution_count": 138
        },
        {
          "output_type": "display_data",
          "data": {
            "image/png": "[encoded data removed]",
            "text/plain": [
              "<Figure size 1080x720 with 4 Axes>"
            ]
          },
          "metadata": {
            "needs_background": "light"
          }
        }
      ]
    },
    {
      "cell_type": "code",
      "metadata": {
        "id": "msw444DBaWrh",
        "colab": {
          "base_uri": "https://localhost:8080/",
          "height": 245
        },
        "outputId": "83083327-e836-4efc-a876-e8b4bdfccda7"
      },
      "source": [
        "display_errors(model,test_loader)"
      ],
      "execution_count": 139,
      "outputs": [
        {
          "output_type": "stream",
          "name": "stdout",
          "text": [
            "Number of misclassified Image:49\n"
          ]
        },
        {
          "output_type": "display_data",
          "data": {
            "image/png": "[encoded data removed]",
            "text/plain": [
              "<Figure size 432x288 with 10 Axes>"
            ]
          },
          "metadata": {
            "needs_background": "light"
          }
        }
      ]
    }
  ]
}