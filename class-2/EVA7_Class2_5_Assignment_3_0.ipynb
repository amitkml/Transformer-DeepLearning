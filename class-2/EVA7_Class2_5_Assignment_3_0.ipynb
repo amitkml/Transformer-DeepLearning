{
  "nbformat": 4,
  "nbformat_minor": 0,
  "metadata": {
    "colab": {
      "name": "EVA7_Class2.5_Assignment_3.0.ipynb",
      "provenance": [],
      "collapsed_sections": [
        "FEp7p544B0Sh"
      ]
    },
    "kernelspec": {
      "name": "python3",
      "display_name": "Python 3"
    },
    "language_info": {
      "name": "python"
    },
    "accelerator": "GPU"
  },
  "cells": [
    {
      "cell_type": "markdown",
      "metadata": {
        "id": "HpCW09XbCjyu"
      },
      "source": [
        "# MNIST - Random Number Sum - Pytorch Network"
      ]
    },
    {
      "cell_type": "markdown",
      "metadata": {
        "id": "iKjZdwYIHNJP"
      },
      "source": [
        "## Assignment"
      ]
    },
    {
      "cell_type": "markdown",
      "metadata": {
        "id": "IM0jGAwfHSJu"
      },
      "source": [
        "- Write a neural network that can:\n",
        "    - take 2 inputs:\n",
        "      - an image from the MNIST dataset (say 5), and\n",
        "      - a random number between 0 and 9, (say 7)\n",
        "    - and gives two outputs:\n",
        "      - the \"number\" that was represented by the MNIST image (predict 5), and\n",
        "      - the \"sum\" of this number with the random number and the input image to  the network (predict 5 + 7 = 12)\n",
        "      ![im](https://canvas.instructure.com/courses/2734471/files/155148058/preview)\n",
        "- you can mix fully connected layers and convolution layers\n",
        "- you can use one-hot encoding to represent the random number input as well as the \"summed\" output.\n",
        "    - Random number (7) can be represented as 0 0 0 0 0 0 0 1 0 0\n",
        "    - Sum (13) can be represented as:\n",
        "0 0 0 0 0 0 0 0 0 0 0 0 0 1 0 0 0 0 0\n",
        "0b1101 (remember that 4 digits in binary can at max represent 15, so we may need to go for 5 digits. i.e. 10010\n",
        "- Your code MUST be:\n",
        "  - well documented (via readme file on GitHub and comments in the code)\n",
        "  - must mention the data representation\n",
        "  - must mention your data generation strategy (basically the class/method you are using for random number generation)\n",
        "  - must mention how you have combined the two inputs (basically which layer you are combining)\n",
        "  - must mention how you are evaluating your results \n",
        "  - must mention \"what\" results you finally got and how did you evaluate your results\n",
        "  - must mention what loss function you picked and why!\n",
        "  - training MUST happen on the GPU"
      ]
    },
    {
      "cell_type": "markdown",
      "metadata": {
        "id": "zweHAH7ECtwr"
      },
      "source": [
        "## Import Libs"
      ]
    },
    {
      "cell_type": "code",
      "metadata": {
        "id": "x4YGwgXmCgFy"
      },
      "source": [
        "import torch\n",
        "import torchvision # provide access to datasets, models, transforms, utils, etc\n",
        "import torchvision.transforms as transforms\n",
        "from torch.utils.data import Dataset\n",
        "import torch.nn as nn\n",
        "import torch.nn.functional as F\n",
        "import torch.optim as optim"
      ],
      "execution_count": null,
      "outputs": []
    },
    {
      "cell_type": "code",
      "metadata": {
        "id": "OtTVuDW3NK-2"
      },
      "source": [
        "import pandas as pd\n",
        "from skimage import io, transform\n",
        "import numpy as np\n",
        "import matplotlib.pyplot as plt\n",
        "from torch.utils.data import Dataset, DataLoader\n",
        "from torchvision import transforms, utils\n",
        "import matplotlib.pyplot as plt"
      ],
      "execution_count": null,
      "outputs": []
    },
    {
      "cell_type": "markdown",
      "metadata": {
        "id": "Uh8KpYje04U3"
      },
      "source": [
        "## Batch Parameters"
      ]
    },
    {
      "cell_type": "code",
      "metadata": {
        "id": "hRTEID5RQQG2"
      },
      "source": [
        "batch_size_train = 64\n",
        "batch_size_test = batch_size_train"
      ],
      "execution_count": null,
      "outputs": []
    },
    {
      "cell_type": "markdown",
      "metadata": {
        "id": "Yl-LNEJ2XDkG"
      },
      "source": [
        "## Some experiments with unsqeeze"
      ]
    },
    {
      "cell_type": "code",
      "metadata": {
        "colab": {
          "base_uri": "https://localhost:8080/"
        },
        "id": "xgAejUhlWE1-",
        "outputId": "d0eb6764-a919-4756-f39c-648998719e8f"
      },
      "source": [
        "a = torch.randn(4)\n",
        "b = torch.randn(4, 1)\n",
        "a"
      ],
      "execution_count": null,
      "outputs": [
        {
          "output_type": "execute_result",
          "data": {
            "text/plain": [
              "tensor([ 0.5847, -0.4203, -0.4538,  1.2107])"
            ]
          },
          "metadata": {},
          "execution_count": 86
        }
      ]
    },
    {
      "cell_type": "code",
      "metadata": {
        "id": "uyFj-CdMWqDZ"
      },
      "source": [
        "m = torch.unsqueeze(a,dim=1)"
      ],
      "execution_count": null,
      "outputs": []
    },
    {
      "cell_type": "code",
      "metadata": {
        "colab": {
          "base_uri": "https://localhost:8080/"
        },
        "id": "XyvARapFWShP",
        "outputId": "92279ffa-1987-460d-d089-05fa91c73b3e"
      },
      "source": [
        "b"
      ],
      "execution_count": null,
      "outputs": [
        {
          "output_type": "execute_result",
          "data": {
            "text/plain": [
              "tensor([[ 0.9125],\n",
              "        [ 0.1052],\n",
              "        [-1.3628],\n",
              "        [-0.1293]])"
            ]
          },
          "metadata": {},
          "execution_count": 88
        }
      ]
    },
    {
      "cell_type": "code",
      "metadata": {
        "colab": {
          "base_uri": "https://localhost:8080/"
        },
        "id": "nqoT_XTBWYxG",
        "outputId": "d42029e7-f28c-449c-fba9-ad50bf35782c"
      },
      "source": [
        "torch.add(a, b, alpha=10)"
      ],
      "execution_count": null,
      "outputs": [
        {
          "output_type": "execute_result",
          "data": {
            "text/plain": [
              "tensor([[  9.7094,   8.7044,   8.6709,  10.3354],\n",
              "        [  1.6367,   0.6317,   0.5982,   2.2627],\n",
              "        [-13.0433, -14.0483, -14.0818, -12.4173],\n",
              "        [ -0.7081,  -1.7131,  -1.7466,  -0.0821]])"
            ]
          },
          "metadata": {},
          "execution_count": 89
        }
      ]
    },
    {
      "cell_type": "code",
      "metadata": {
        "colab": {
          "base_uri": "https://localhost:8080/"
        },
        "id": "7fUfvxudW9En",
        "outputId": "5fad4369-9b60-44f0-be4e-8cf6fb471159"
      },
      "source": [
        "torch.add(m, b, alpha=10)"
      ],
      "execution_count": null,
      "outputs": [
        {
          "output_type": "execute_result",
          "data": {
            "text/plain": [
              "tensor([[  9.7094],\n",
              "        [  0.6317],\n",
              "        [-14.0818],\n",
              "        [ -0.0821]])"
            ]
          },
          "metadata": {},
          "execution_count": 90
        }
      ]
    },
    {
      "cell_type": "markdown",
      "metadata": {
        "id": "LYDx2nyC0p0r"
      },
      "source": [
        "## Random Number generation"
      ]
    },
    {
      "cell_type": "markdown",
      "metadata": {
        "id": "X3wnwXo52Gzu"
      },
      "source": [
        "This logic generates random number between loq and high number. I have kept dimension as equal to training batch size.\n"
      ]
    },
    {
      "cell_type": "code",
      "metadata": {
        "colab": {
          "base_uri": "https://localhost:8080/"
        },
        "id": "00P28Tuj0seg",
        "outputId": "193beb71-2b1b-4477-901b-f01088f47554"
      },
      "source": [
        "# N is batch size; D_in is input dimension;\n",
        "# H is hidden dimension; D_out is output dimension.\n",
        "N = batch_size_train\n",
        "D_in = 1\n",
        "D_out = 1\n",
        "# Create random Tensors to hold inputs and outputs\n",
        "\n",
        "# x = torch.randn(N, D_in)\n",
        "\n",
        "x_rand_trn_1 = torch.randint(low=0,\n",
        "                       high = 20,\n",
        "                       size =(N,),)\n",
        "# x_rand_trn\n",
        "x_rand_trn_1 = x_rand_trn.type(torch.float32)\n",
        "x_rand_trn_1"
      ],
      "execution_count": null,
      "outputs": [
        {
          "output_type": "execute_result",
          "data": {
            "text/plain": [
              "tensor([18., 19., 13.,  5., 17.,  7., 10.,  4.,  6.,  1., 10., 14., 14., 17.,\n",
              "         0.,  4., 11., 16.,  0., 10., 14., 12., 16., 19.,  9.,  9., 12., 19.,\n",
              "        11., 14.,  8.,  0., 16., 14., 19., 19.,  2.,  5.,  6., 17., 10.,  7.,\n",
              "        11., 18.,  8.,  8.,  3., 15.,  5., 13.,  7., 19.,  7., 15.,  1., 10.,\n",
              "        17., 13.,  9., 18.,  0., 11., 16.,  8.])"
            ]
          },
          "metadata": {},
          "execution_count": 91
        }
      ]
    },
    {
      "cell_type": "code",
      "metadata": {
        "id": "9WWG59SU2WPp"
      },
      "source": [
        "N = batch_size_test\n",
        "\n",
        "x_rand_test_1 = torch.randint(low=0,\n",
        "                       high = 20,\n",
        "                       size =(N,))\n",
        "x_rand_test_1 = x_rand_test.type(torch.float32)\n"
      ],
      "execution_count": null,
      "outputs": []
    },
    {
      "cell_type": "markdown",
      "metadata": {
        "id": "Qq7YQiCyD-of"
      },
      "source": [
        "## Dataloader and data analysis"
      ]
    },
    {
      "cell_type": "markdown",
      "metadata": {
        "id": "woAdxAHVh4hH"
      },
      "source": [
        "TorchVision let's use load the MNIST dataset in a handy way. We'll use a batch_size of 64 for training and size 1000 for testing on this dataset. The values 0.1307 and 0.3081 used for the Normalize() transformation below are the global mean and standard deviation of the MNIST dataset.\n"
      ]
    },
    {
      "cell_type": "code",
      "metadata": {
        "id": "55u2G7GaM2wn"
      },
      "source": [
        "class mnist_dataloader(Dataset):\n",
        "  def __init__(self,\n",
        "               batch_size_train,\n",
        "               batch_size_test):\n",
        "    self.random_seed = 19\n",
        "    torch.manual_seed(self.random_seed)\n",
        "    self.batch_size_train = batch_size_train\n",
        "    self.batch_size_test = batch_size_test\n",
        "    self.train_loader = torch.utils.data.DataLoader(torchvision.datasets.MNIST('/files/', train=True, download=True,\n",
        "                                                                               transform=torchvision.transforms.Compose([torchvision.transforms.ToTensor(),\n",
        "                                                                                                                         torchvision.transforms.Normalize((0.1307,), (0.3081,))])),\n",
        "                                                    batch_size=batch_size_train, shuffle=True, pin_memory=True)\n",
        "\n",
        "    self.test_loader = torch.utils.data.DataLoader(torchvision.datasets.MNIST('/files/', train=False, download=True,\n",
        "                                                                               transform=torchvision.transforms.Compose([torchvision.transforms.ToTensor(),\n",
        "                                                                                                                         torchvision.transforms.Normalize((0.1307,), (0.3081,))])),\n",
        "                                                    batch_size=batch_size_test, shuffle=True, pin_memory=True)\n",
        "    \n",
        "    self.train_loader_len = len(self.train_loader.dataset)\n",
        "    self.test_loader_len = len(self.test_loader.dataset)"
      ],
      "execution_count": null,
      "outputs": []
    },
    {
      "cell_type": "code",
      "metadata": {
        "id": "Ppc8RIdyQTvP"
      },
      "source": [
        "mnist_dataloader = mnist_dataloader(batch_size_train,batch_size_test)\n",
        "examples = enumerate(mnist_dataloader.test_loader)"
      ],
      "execution_count": null,
      "outputs": []
    },
    {
      "cell_type": "markdown",
      "metadata": {
        "id": "L4-zOsQWSWrP"
      },
      "source": [
        "So one test data batch is a  tensor of shape: . This means we have 32 examples of 28x28 pixels in grayscale (i.e. no rgb channels, hence the one). We can plot some of them using matplotlib"
      ]
    },
    {
      "cell_type": "code",
      "metadata": {
        "colab": {
          "base_uri": "https://localhost:8080/"
        },
        "id": "RcdsEnkWRAsP",
        "outputId": "121cd7ae-13a7-4495-a340-92b8ef0f6aa3"
      },
      "source": [
        "batch_idx, (example_data, example_targets) = next(examples)\n",
        "batch_idx, example_targets, example_data.shape"
      ],
      "execution_count": null,
      "outputs": [
        {
          "output_type": "execute_result",
          "data": {
            "text/plain": [
              "(0,\n",
              " tensor([0, 4, 7, 4, 0, 2, 4, 7, 9, 0, 0, 9, 8, 8, 9, 3, 6, 8, 4, 7, 4, 9, 6, 8,\n",
              "         2, 4, 2, 1, 6, 7, 9, 7, 1, 2, 4, 9, 6, 1, 8, 8, 7, 7, 6, 4, 8, 8, 4, 8,\n",
              "         4, 8, 5, 5, 7, 7, 3, 9, 6, 3, 7, 6, 6, 8, 4, 8]),\n",
              " torch.Size([64, 1, 28, 28]))"
            ]
          },
          "metadata": {},
          "execution_count": 95
        }
      ]
    },
    {
      "cell_type": "markdown",
      "metadata": {
        "id": "8vouHgcsSfnw"
      },
      "source": [
        "So one test data batch is a  tensor of shape: . This means we have 1000 examples of 28x28 pixels in grayscale (i.e. no rgb channels, hence the one). We can plot some of them using matplotlib."
      ]
    },
    {
      "cell_type": "code",
      "metadata": {
        "colab": {
          "base_uri": "https://localhost:8080/",
          "height": 551
        },
        "id": "Rggc3e7ySiAM",
        "outputId": "17e93fec-a149-4667-ae23-9db0358ce87a"
      },
      "source": [
        "fig = plt.figure()\n",
        "for i in range(6):\n",
        "  plt.subplot(2,3,i+1)\n",
        "  plt.tight_layout()\n",
        "  plt.imshow(example_data[i][0], cmap='gray', interpolation='none')\n",
        "  plt.title(\"Ground Truth: {}\".format(example_targets[i]))\n",
        "  plt.xticks([])\n",
        "  plt.yticks([])\n",
        "fig"
      ],
      "execution_count": null,
      "outputs": [
        {
          "output_type": "execute_result",
          "data": {
            "image/png": "[encoded data removed]",
            "text/plain": [
              "<Figure size 432x288 with 6 Axes>"
            ]
          },
          "metadata": {},
          "execution_count": 96
        },
        {
          "output_type": "display_data",
          "data": {
            "image/png": "[encoded data removed]",
            "text/plain": [
              "<Figure size 432x288 with 6 Axes>"
            ]
          },
          "metadata": {}
        }
      ]
    },
    {
      "cell_type": "markdown",
      "metadata": {
        "id": "va-B1rbHSrpm"
      },
      "source": [
        "## Network Design"
      ]
    },
    {
      "cell_type": "markdown",
      "metadata": {
        "id": "Zh5wu3liU4hU"
      },
      "source": [
        "- The forward() pass defines the way we compute our output using the given layers and function\n",
        "- torch.nn layers as which contain trainable parameters while torch.nn.functional are purely functional. \n",
        "- The forward() pass defines the way we compute our output using the given layers and functions"
      ]
    },
    {
      "cell_type": "code",
      "metadata": {
        "id": "ZgrYeAkdVWxg"
      },
      "source": [
        "learning_rate = 0.01\n",
        "momentum = 0.5\n",
        "log_interval = 10\n",
        "n_epochs = 3\n"
      ],
      "execution_count": null,
      "outputs": []
    },
    {
      "cell_type": "markdown",
      "metadata": {
        "id": "-HszvWh0E1Rp"
      },
      "source": [
        "- Forward function acceting inout of input image and random number which is generated during training.\n",
        "- Then i am adding predicted number and random number into forward function as below.\n",
        "---\n",
        "    mnist_rand_sum = torch.add(pred_x, torch.unsqueeze(input_random_org,dim=1))  ## adding two numbers\n",
        "---\n",
        "- my forward function returning input, random number, predicted number and sum as shared below.\n",
        "\n",
        "\n",
        "---\n",
        "    mnist_rand_sum = torch.add(pred_x, torch.unsqueeze(input_random_org,dim=1))  ## adding two numbers\n",
        "---\n",
        "\n",
        "\n"
      ]
    },
    {
      "cell_type": "code",
      "metadata": {
        "id": "oyQibZFJD_3l"
      },
      "source": [
        "class mnist_network(nn.Module):\n",
        "  def __init__(self):\n",
        "    super().__init__()\n",
        "    self.conv_b1_1 = nn.Conv2d(in_channels=1, out_channels=6, kernel_size=5)\n",
        "    self.conv_b1_2 = nn.Conv2d(in_channels=6, out_channels=12, kernel_size=5)\n",
        "    self.conv_b1_drop = nn.Dropout2d()\n",
        "    self.conv_b1_3 = nn.Conv2d(in_channels=12, out_channels=24, kernel_size=5)\n",
        "    self.fc1 = nn.Linear(in_features=24 * 6 * 6, out_features=120)\n",
        "    self.fc2 = nn.Linear(in_features=120, out_features=10)\n",
        "    # self.out_prev = nn.Linear(in_features=60, out_features=10)\n",
        "    # self.fc_size = fc_size\n",
        "    # self.rand_dim = rand_dim\n",
        "\n",
        "    # self.ln4 = torch.nn.Linear(in_features=self.rand_dim, out_features=fc_size)\n",
        "    # self.ln5 = torch.nn.Linear(in_features=self.fc_size, out_features=10)\n",
        "\n",
        "\n",
        "  def forward(self, input_image, input_random):\n",
        "    # input layer\n",
        "    x = input_image\n",
        "\n",
        "    input_random_org = input_random.type(torch.float32)\n",
        "\n",
        "\n",
        "    ### mninst image handling logic\n",
        "\n",
        "    # conv1 layer\n",
        "    x = self.conv_b1_1(x)\n",
        "    x = F.relu(x)\n",
        "    # x = F.max_pool2d(x, kernel_size=2, stride=2) # 32, 6, 13, 13\n",
        "    # print(x.shape)\n",
        "    \n",
        "    x =self.conv_b1_drop(x)\n",
        "\n",
        "    # conv2 layer\n",
        "    x = self.conv_b1_2(x)\n",
        "    x = F.relu(x)\n",
        "    x = F.max_pool2d(x, kernel_size=2, stride=2) # 32, 12, 5, 5\n",
        "    # print(x.shape)\n",
        "\n",
        "\n",
        "    # conv3 layer\n",
        "    x = self.conv_b1_3(x)  # 32, 24, 6, 6\n",
        "    x = F.relu(x)\n",
        "    # print(x.shape)  \n",
        "\n",
        "    # reshapre\n",
        "    x = x.reshape(-1, 24 * 6 * 6)\n",
        "\n",
        "    # fc1 layer\n",
        "    x = self.fc1(x)\n",
        "    # x = F.relu(x)\n",
        "\n",
        "    x = F.dropout(x, training=self.training)\n",
        "    \n",
        "    # fc2 layer\n",
        "    x = self.fc2(x)\n",
        "\n",
        "\n",
        "    ### random number handling logic\n",
        "    # print(y.shape)\n",
        "    # y = self.ln4(y)\n",
        "    # y = F.relu(y)\n",
        "    # y = self.ln5(y)\n",
        "\n",
        "    x = F.log_softmax(x)\n",
        "    \n",
        "    pred_x = x.data.max(1, keepdim=True)[1]\n",
        "\n",
        "    # print(pred_x.shape)\n",
        "    # print(input_random_org.shape)  \n",
        "\n",
        "    mnist_rand_sum = torch.add(pred_x, torch.unsqueeze(input_random_org,dim=1))  ## adding two numbers\n",
        "    # print(pred_x.shape)  ## torch.Size([64, 1])\n",
        "    # print(input_random_org.shape) ## torch.Size([64])\n",
        "    # print(mnist_rand_sum.shape) ## torch.Size([64])\n",
        "    return x, mnist_rand_sum, input_random_org"
      ],
      "execution_count": null,
      "outputs": []
    },
    {
      "cell_type": "markdown",
      "metadata": {
        "id": "Yi9_DaFAXMaH"
      },
      "source": [
        "## Network Training"
      ]
    },
    {
      "cell_type": "markdown",
      "metadata": {
        "id": "S68jcXxjVH2c"
      },
      "source": [
        "Now let's initialize the network and the optimizer."
      ]
    },
    {
      "cell_type": "code",
      "metadata": {
        "colab": {
          "base_uri": "https://localhost:8080/"
        },
        "id": "90g9ZiXDMNTA",
        "outputId": "58541e45-4c04-48be-cf1d-8984a742f30b"
      },
      "source": [
        "network = mnist_network()\n",
        "print(network)"
      ],
      "execution_count": null,
      "outputs": [
        {
          "output_type": "stream",
          "name": "stdout",
          "text": [
            "mnist_network(\n",
            "  (conv_b1_1): Conv2d(1, 6, kernel_size=(5, 5), stride=(1, 1))\n",
            "  (conv_b1_2): Conv2d(6, 12, kernel_size=(5, 5), stride=(1, 1))\n",
            "  (conv_b1_drop): Dropout2d(p=0.5, inplace=False)\n",
            "  (conv_b1_3): Conv2d(12, 24, kernel_size=(5, 5), stride=(1, 1))\n",
            "  (fc1): Linear(in_features=864, out_features=120, bias=True)\n",
            "  (fc2): Linear(in_features=120, out_features=10, bias=True)\n",
            ")\n"
          ]
        }
      ]
    },
    {
      "cell_type": "markdown",
      "metadata": {
        "id": "8PjuCOpSP2qp"
      },
      "source": [
        "I have used SGD here with momentum. SGD is being used as my loss function is only looking at MNIST number prediction and i am not looking for loss calculation of sum value."
      ]
    },
    {
      "cell_type": "code",
      "metadata": {
        "id": "eozg-RLVVLLs"
      },
      "source": [
        "optimizer = optim.SGD(network.parameters(), lr=learning_rate,\n",
        "                      momentum=momentum)"
      ],
      "execution_count": null,
      "outputs": []
    },
    {
      "cell_type": "markdown",
      "metadata": {
        "id": "3yTyyfJ6VkSu"
      },
      "source": [
        "## Model Training"
      ]
    },
    {
      "cell_type": "markdown",
      "metadata": {
        "id": "gNQuYLArVpH0"
      },
      "source": [
        "- First we want to make sure our network is in training mode.\n",
        "- Then we iterate over all training data once per epoch.\n",
        "- Loading the individual batches is handled by the DataLoader\n",
        "- First we need to manually set the gradients to zero using optimizer.zero_grad() since PyTorch by default accumulates gradients. \n",
        "- We then produce the output of our network (forward pass) and compute a negative log-likelihodd loss between the output and the ground truth label\n",
        "- The backward() call we now collect a new set of gradients which we propagate back into each of the network's parameters using optimizer.step()"
      ]
    },
    {
      "cell_type": "markdown",
      "metadata": {
        "id": "AgC9BPeSWDRn"
      },
      "source": [
        "We'll also keep track of the progress with some printouts. In order to create a nice training curve later on we also create two lists for saving training and testing losses. On the x-axis we want to display the number of training examples the network has seen during training."
      ]
    },
    {
      "cell_type": "code",
      "metadata": {
        "id": "q6MEZyweVl1t"
      },
      "source": [
        "train_losses = []\n",
        "train_counter = []\n",
        "test_losses = []\n",
        "test_counter = [i*len(mnist_dataloader.train_loader.dataset) for i in range(n_epochs + 1)]"
      ],
      "execution_count": null,
      "outputs": []
    },
    {
      "cell_type": "code",
      "metadata": {
        "id": "NhFMDzSGbKsK"
      },
      "source": [
        "import os\n",
        "os.makedirs(\"results\",exist_ok=True)"
      ],
      "execution_count": null,
      "outputs": []
    },
    {
      "cell_type": "markdown",
      "metadata": {
        "id": "olfok5BfXD0p"
      },
      "source": [
        "- Neural network modules as well as optimizers have the ability to save and load their internal state using .state_dict(). \n",
        "- With this we can continue training from previously saved state dicts if needed - we'd just need to call .load_state_dict(state_dict). "
      ]
    },
    {
      "cell_type": "markdown",
      "metadata": {
        "id": "JtRic6cWACdp"
      },
      "source": [
        "***My standard network output and target are when network is only predicting MNIST image:***\n",
        "\n",
        "- **output**: tensor([[-2.2538, -2.2690, -2.2902, -2.2833, -2.3939, -2.3869, -2.2615, -2.3000,-2.4056, -2.2025]], grad_fn=<LogSoftmaxBackward>)\n",
        "\n",
        "- **target**: tensor([3])"
      ]
    },
    {
      "cell_type": "markdown",
      "metadata": {
        "id": "50XyBEp1hVmu"
      },
      "source": [
        "Neural network modules as well as optimizers have the ability to save and load their internal state using .state_dict(). With this we can continue training from previously saved state dicts if needed - we'd just need to call .load_state_dict(state_dict). "
      ]
    },
    {
      "cell_type": "code",
      "metadata": {
        "id": "FmnKugmMW3gh"
      },
      "source": [
        "def train(epoch):\n",
        "  network.train()\n",
        "  for batch_idx, (data, target) in enumerate(mnist_dataloader.train_loader):\n",
        "    x_rand_trn = torch.randint(low=0,\n",
        "                       high = 20,\n",
        "                       size =(len(data),),)\n",
        "    # x_rand_trn\n",
        "    x_rand_trn = x_rand_trn.type(torch.float32)\n",
        "\n",
        "    optimizer.zero_grad()\n",
        "    output,mnist_rand_sum,mnist_rand = network(data,x_rand_trn) ## passing input image and random number. both having same batch size\n",
        "    # print(f\"output:{output}\")\n",
        "    # print(f\"target:{target}\")\n",
        "\n",
        "    loss = F.nll_loss(output, target)\n",
        "    loss.backward()\n",
        "    optimizer.step()\n",
        "    if batch_idx % log_interval == 0:\n",
        "      print('Train Epoch: {} [{}/{} ({:.0f}%)]\\tLoss: {:.6f}'.format(\n",
        "        epoch, batch_idx * len(data), mnist_dataloader.train_loader_len,\n",
        "        100. * batch_idx / len(mnist_dataloader.train_loader), loss.item()))\n",
        "      train_losses.append(loss.item())\n",
        "      train_counter.append(\n",
        "        (batch_idx*64) + ((epoch-1)*mnist_dataloader.train_loader_len))\n",
        "      torch.save(network.state_dict(), '/content/results/mnist-model.pth')\n",
        "      torch.save(optimizer.state_dict(), '/content/results/mnist-optimizer.pth')"
      ],
      "execution_count": null,
      "outputs": []
    },
    {
      "cell_type": "markdown",
      "metadata": {
        "id": "Ofk5g6PQXJYG"
      },
      "source": [
        "Now for our test loop. Here we sum up the test loss and keep track of correctly classified digits to compute the accuracy of the network. "
      ]
    },
    {
      "cell_type": "code",
      "metadata": {
        "colab": {
          "base_uri": "https://localhost:8080/"
        },
        "id": "oK9pbdPaZ1z8",
        "outputId": "1c658efb-fe7a-4962-caf8-4213bc890ef2"
      },
      "source": [
        "!pwd"
      ],
      "execution_count": null,
      "outputs": [
        {
          "output_type": "stream",
          "name": "stdout",
          "text": [
            "/content\n"
          ]
        }
      ]
    },
    {
      "cell_type": "markdown",
      "metadata": {
        "id": "Scbnif_AhLxw"
      },
      "source": [
        "Now for our test loop. Here we sum up the test loss and keep track of correctly classified digits to compute the accuracy of the network. "
      ]
    },
    {
      "cell_type": "code",
      "metadata": {
        "id": "tz3Vo5QBXJ4W"
      },
      "source": [
        "def test():\n",
        "  network.eval()\n",
        "  test_loss = 0\n",
        "  correct = 0\n",
        "  with torch.no_grad():\n",
        "    for data, target in mnist_dataloader.test_loader:\n",
        "      # print(f\"lengh:{len(data)}\")\n",
        "      x_rand_test = torch.randint(low=0,\n",
        "                                  high = 20,\n",
        "                                  size =(len(data),),)\n",
        "    # x_rand_trn\n",
        "      x_rand_test = x_rand_test.type(torch.float32)      \n",
        "      output,mnist_rand_sum, mnist_rand = network(data,x_rand_test)\n",
        "      test_loss += F.nll_loss(output, target, size_average=False).item()\n",
        "      pred = output.data.max(1, keepdim=True)[1]\n",
        "      correct += pred.eq(target.data.view_as(pred)).sum()\n",
        "  test_loss /= mnist_dataloader.test_loader_len\n",
        "  \n",
        "  test_losses.append(test_loss)\n",
        "\n",
        "  print('\\nTest set: Avg. loss: {:.4f}, Accuracy: {}/{} ({:.0f}%)\\n'.format(\n",
        "    test_loss, correct, mnist_dataloader.test_loader_len,\n",
        "    100. * correct / mnist_dataloader.test_loader_len))"
      ],
      "execution_count": null,
      "outputs": []
    },
    {
      "cell_type": "code",
      "metadata": {
        "colab": {
          "base_uri": "https://localhost:8080/"
        },
        "id": "KdoH7oLuXsPX",
        "outputId": "acf1bded-6bab-47bc-ad34-0a9a20517d35"
      },
      "source": [
        "test()\n",
        "for epoch in range(1, n_epochs + 1):\n",
        "  train(epoch)\n",
        "  test()"
      ],
      "execution_count": null,
      "outputs": [
        {
          "output_type": "stream",
          "name": "stderr",
          "text": [
            "/usr/local/lib/python3.7/dist-packages/ipykernel_launcher.py:66: UserWarning: Implicit dimension choice for log_softmax has been deprecated. Change the call to include dim=X as an argument.\n",
            "/usr/local/lib/python3.7/dist-packages/torch/nn/_reduction.py:42: UserWarning: size_average and reduce args will be deprecated, please use reduction='sum' instead.\n",
            "  warnings.warn(warning.format(ret))\n"
          ]
        },
        {
          "output_type": "stream",
          "name": "stdout",
          "text": [
            "\n",
            "Test set: Avg. loss: 2.3072, Accuracy: 1110/10000 (11%)\n",
            "\n",
            "Train Epoch: 1 [0/60000 (0%)]\tLoss: 2.308383\n",
            "Train Epoch: 1 [640/60000 (1%)]\tLoss: 2.310192\n",
            "Train Epoch: 1 [1280/60000 (2%)]\tLoss: 2.293060\n",
            "Train Epoch: 1 [1920/60000 (3%)]\tLoss: 2.274329\n",
            "Train Epoch: 1 [2560/60000 (4%)]\tLoss: 2.288037\n",
            "Train Epoch: 1 [3200/60000 (5%)]\tLoss: 2.285798\n",
            "Train Epoch: 1 [3840/60000 (6%)]\tLoss: 2.263713\n",
            "Train Epoch: 1 [4480/60000 (7%)]\tLoss: 2.251025\n",
            "Train Epoch: 1 [5120/60000 (9%)]\tLoss: 2.253286\n",
            "Train Epoch: 1 [5760/60000 (10%)]\tLoss: 2.204738\n",
            "Train Epoch: 1 [6400/60000 (11%)]\tLoss: 2.133570\n",
            "Train Epoch: 1 [7040/60000 (12%)]\tLoss: 2.046288\n",
            "Train Epoch: 1 [7680/60000 (13%)]\tLoss: 1.618983\n",
            "Train Epoch: 1 [8320/60000 (14%)]\tLoss: 1.453925\n",
            "Train Epoch: 1 [8960/60000 (15%)]\tLoss: 1.147109\n",
            "Train Epoch: 1 [9600/60000 (16%)]\tLoss: 0.898455\n",
            "Train Epoch: 1 [10240/60000 (17%)]\tLoss: 0.856337\n",
            "Train Epoch: 1 [10880/60000 (18%)]\tLoss: 0.918861\n",
            "Train Epoch: 1 [11520/60000 (19%)]\tLoss: 0.651475\n",
            "Train Epoch: 1 [12160/60000 (20%)]\tLoss: 0.897561\n",
            "Train Epoch: 1 [12800/60000 (21%)]\tLoss: 0.579376\n",
            "Train Epoch: 1 [13440/60000 (22%)]\tLoss: 0.851848\n",
            "Train Epoch: 1 [14080/60000 (23%)]\tLoss: 0.721473\n",
            "Train Epoch: 1 [14720/60000 (25%)]\tLoss: 0.530455\n",
            "Train Epoch: 1 [15360/60000 (26%)]\tLoss: 0.601496\n",
            "Train Epoch: 1 [16000/60000 (27%)]\tLoss: 0.905740\n",
            "Train Epoch: 1 [16640/60000 (28%)]\tLoss: 0.749485\n",
            "Train Epoch: 1 [17280/60000 (29%)]\tLoss: 0.854803\n",
            "Train Epoch: 1 [17920/60000 (30%)]\tLoss: 0.665698\n",
            "Train Epoch: 1 [18560/60000 (31%)]\tLoss: 0.677264\n",
            "Train Epoch: 1 [19200/60000 (32%)]\tLoss: 0.431477\n",
            "Train Epoch: 1 [19840/60000 (33%)]\tLoss: 0.764341\n",
            "Train Epoch: 1 [20480/60000 (34%)]\tLoss: 0.693712\n",
            "Train Epoch: 1 [21120/60000 (35%)]\tLoss: 0.750022\n",
            "Train Epoch: 1 [21760/60000 (36%)]\tLoss: 0.749102\n",
            "Train Epoch: 1 [22400/60000 (37%)]\tLoss: 0.533354\n",
            "Train Epoch: 1 [23040/60000 (38%)]\tLoss: 0.451555\n",
            "Train Epoch: 1 [23680/60000 (39%)]\tLoss: 0.424665\n",
            "Train Epoch: 1 [24320/60000 (41%)]\tLoss: 0.658196\n",
            "Train Epoch: 1 [24960/60000 (42%)]\tLoss: 0.614043\n",
            "Train Epoch: 1 [25600/60000 (43%)]\tLoss: 0.719853\n",
            "Train Epoch: 1 [26240/60000 (44%)]\tLoss: 0.330175\n",
            "Train Epoch: 1 [26880/60000 (45%)]\tLoss: 0.402121\n",
            "Train Epoch: 1 [27520/60000 (46%)]\tLoss: 0.437398\n",
            "Train Epoch: 1 [28160/60000 (47%)]\tLoss: 0.367952\n",
            "Train Epoch: 1 [28800/60000 (48%)]\tLoss: 0.433275\n",
            "Train Epoch: 1 [29440/60000 (49%)]\tLoss: 0.660267\n",
            "Train Epoch: 1 [30080/60000 (50%)]\tLoss: 0.470273\n",
            "Train Epoch: 1 [30720/60000 (51%)]\tLoss: 0.741625\n",
            "Train Epoch: 1 [31360/60000 (52%)]\tLoss: 0.676518\n",
            "Train Epoch: 1 [32000/60000 (53%)]\tLoss: 0.282849\n",
            "Train Epoch: 1 [32640/60000 (54%)]\tLoss: 0.282628\n",
            "Train Epoch: 1 [33280/60000 (55%)]\tLoss: 0.500469\n",
            "Train Epoch: 1 [33920/60000 (57%)]\tLoss: 0.243350\n",
            "Train Epoch: 1 [34560/60000 (58%)]\tLoss: 0.313930\n",
            "Train Epoch: 1 [35200/60000 (59%)]\tLoss: 0.891542\n",
            "Train Epoch: 1 [35840/60000 (60%)]\tLoss: 0.348013\n",
            "Train Epoch: 1 [36480/60000 (61%)]\tLoss: 0.660020\n",
            "Train Epoch: 1 [37120/60000 (62%)]\tLoss: 0.536946\n",
            "Train Epoch: 1 [37760/60000 (63%)]\tLoss: 0.471192\n",
            "Train Epoch: 1 [38400/60000 (64%)]\tLoss: 0.391710\n",
            "Train Epoch: 1 [39040/60000 (65%)]\tLoss: 0.367860\n",
            "Train Epoch: 1 [39680/60000 (66%)]\tLoss: 0.326909\n",
            "Train Epoch: 1 [40320/60000 (67%)]\tLoss: 0.464428\n",
            "Train Epoch: 1 [40960/60000 (68%)]\tLoss: 0.258677\n",
            "Train Epoch: 1 [41600/60000 (69%)]\tLoss: 0.239572\n",
            "Train Epoch: 1 [42240/60000 (70%)]\tLoss: 0.216849\n",
            "Train Epoch: 1 [42880/60000 (71%)]\tLoss: 0.417677\n",
            "Train Epoch: 1 [43520/60000 (72%)]\tLoss: 0.382677\n",
            "Train Epoch: 1 [44160/60000 (74%)]\tLoss: 0.294750\n",
            "Train Epoch: 1 [44800/60000 (75%)]\tLoss: 0.280540\n",
            "Train Epoch: 1 [45440/60000 (76%)]\tLoss: 0.237570\n",
            "Train Epoch: 1 [46080/60000 (77%)]\tLoss: 0.295069\n",
            "Train Epoch: 1 [46720/60000 (78%)]\tLoss: 0.544531\n",
            "Train Epoch: 1 [47360/60000 (79%)]\tLoss: 0.304629\n",
            "Train Epoch: 1 [48000/60000 (80%)]\tLoss: 0.301356\n",
            "Train Epoch: 1 [48640/60000 (81%)]\tLoss: 0.283874\n",
            "Train Epoch: 1 [49280/60000 (82%)]\tLoss: 0.312440\n",
            "Train Epoch: 1 [49920/60000 (83%)]\tLoss: 0.248730\n",
            "Train Epoch: 1 [50560/60000 (84%)]\tLoss: 0.227366\n",
            "Train Epoch: 1 [51200/60000 (85%)]\tLoss: 0.213443\n",
            "Train Epoch: 1 [51840/60000 (86%)]\tLoss: 0.198088\n",
            "Train Epoch: 1 [52480/60000 (87%)]\tLoss: 0.455670\n",
            "Train Epoch: 1 [53120/60000 (88%)]\tLoss: 0.180053\n",
            "Train Epoch: 1 [53760/60000 (90%)]\tLoss: 0.311541\n",
            "Train Epoch: 1 [54400/60000 (91%)]\tLoss: 0.237455\n",
            "Train Epoch: 1 [55040/60000 (92%)]\tLoss: 0.416413\n",
            "Train Epoch: 1 [55680/60000 (93%)]\tLoss: 0.264704\n",
            "Train Epoch: 1 [56320/60000 (94%)]\tLoss: 0.182968\n",
            "Train Epoch: 1 [56960/60000 (95%)]\tLoss: 0.455384\n",
            "Train Epoch: 1 [57600/60000 (96%)]\tLoss: 0.254990\n",
            "Train Epoch: 1 [58240/60000 (97%)]\tLoss: 0.382746\n",
            "Train Epoch: 1 [58880/60000 (98%)]\tLoss: 0.501192\n",
            "Train Epoch: 1 [59520/60000 (99%)]\tLoss: 0.173629\n",
            "\n",
            "Test set: Avg. loss: 0.1574, Accuracy: 9508/10000 (95%)\n",
            "\n",
            "Train Epoch: 2 [0/60000 (0%)]\tLoss: 0.232186\n",
            "Train Epoch: 2 [640/60000 (1%)]\tLoss: 0.229126\n",
            "Train Epoch: 2 [1280/60000 (2%)]\tLoss: 0.363159\n",
            "Train Epoch: 2 [1920/60000 (3%)]\tLoss: 0.199877\n",
            "Train Epoch: 2 [2560/60000 (4%)]\tLoss: 0.235210\n",
            "Train Epoch: 2 [3200/60000 (5%)]\tLoss: 0.321126\n",
            "Train Epoch: 2 [3840/60000 (6%)]\tLoss: 0.443914\n",
            "Train Epoch: 2 [4480/60000 (7%)]\tLoss: 0.181147\n",
            "Train Epoch: 2 [5120/60000 (9%)]\tLoss: 0.330016\n",
            "Train Epoch: 2 [5760/60000 (10%)]\tLoss: 0.282348\n",
            "Train Epoch: 2 [6400/60000 (11%)]\tLoss: 0.161066\n",
            "Train Epoch: 2 [7040/60000 (12%)]\tLoss: 0.105714\n",
            "Train Epoch: 2 [7680/60000 (13%)]\tLoss: 0.280961\n",
            "Train Epoch: 2 [8320/60000 (14%)]\tLoss: 0.262988\n",
            "Train Epoch: 2 [8960/60000 (15%)]\tLoss: 0.244343\n",
            "Train Epoch: 2 [9600/60000 (16%)]\tLoss: 0.280135\n",
            "Train Epoch: 2 [10240/60000 (17%)]\tLoss: 0.138108\n",
            "Train Epoch: 2 [10880/60000 (18%)]\tLoss: 0.290898\n",
            "Train Epoch: 2 [11520/60000 (19%)]\tLoss: 0.183653\n",
            "Train Epoch: 2 [12160/60000 (20%)]\tLoss: 0.229720\n",
            "Train Epoch: 2 [12800/60000 (21%)]\tLoss: 0.309133\n",
            "Train Epoch: 2 [13440/60000 (22%)]\tLoss: 0.350202\n",
            "Train Epoch: 2 [14080/60000 (23%)]\tLoss: 0.384396\n",
            "Train Epoch: 2 [14720/60000 (25%)]\tLoss: 0.196918\n",
            "Train Epoch: 2 [15360/60000 (26%)]\tLoss: 0.152126\n",
            "Train Epoch: 2 [16000/60000 (27%)]\tLoss: 0.293374\n",
            "Train Epoch: 2 [16640/60000 (28%)]\tLoss: 0.171283\n",
            "Train Epoch: 2 [17280/60000 (29%)]\tLoss: 0.397023\n",
            "Train Epoch: 2 [17920/60000 (30%)]\tLoss: 0.137691\n",
            "Train Epoch: 2 [18560/60000 (31%)]\tLoss: 0.354693\n",
            "Train Epoch: 2 [19200/60000 (32%)]\tLoss: 0.280696\n",
            "Train Epoch: 2 [19840/60000 (33%)]\tLoss: 0.258504\n",
            "Train Epoch: 2 [20480/60000 (34%)]\tLoss: 0.134152\n",
            "Train Epoch: 2 [21120/60000 (35%)]\tLoss: 0.269836\n",
            "Train Epoch: 2 [21760/60000 (36%)]\tLoss: 0.295002\n",
            "Train Epoch: 2 [22400/60000 (37%)]\tLoss: 0.366046\n",
            "Train Epoch: 2 [23040/60000 (38%)]\tLoss: 0.288011\n",
            "Train Epoch: 2 [23680/60000 (39%)]\tLoss: 0.169313\n",
            "Train Epoch: 2 [24320/60000 (41%)]\tLoss: 0.239494\n",
            "Train Epoch: 2 [24960/60000 (42%)]\tLoss: 0.185455\n",
            "Train Epoch: 2 [25600/60000 (43%)]\tLoss: 0.194577\n",
            "Train Epoch: 2 [26240/60000 (44%)]\tLoss: 0.155594\n",
            "Train Epoch: 2 [26880/60000 (45%)]\tLoss: 0.201440\n",
            "Train Epoch: 2 [27520/60000 (46%)]\tLoss: 0.205766\n",
            "Train Epoch: 2 [28160/60000 (47%)]\tLoss: 0.134400\n",
            "Train Epoch: 2 [28800/60000 (48%)]\tLoss: 0.215424\n",
            "Train Epoch: 2 [29440/60000 (49%)]\tLoss: 0.217165\n",
            "Train Epoch: 2 [30080/60000 (50%)]\tLoss: 0.210960\n",
            "Train Epoch: 2 [30720/60000 (51%)]\tLoss: 0.145822\n",
            "Train Epoch: 2 [31360/60000 (52%)]\tLoss: 0.075516\n",
            "Train Epoch: 2 [32000/60000 (53%)]\tLoss: 0.156566\n",
            "Train Epoch: 2 [32640/60000 (54%)]\tLoss: 0.255787\n",
            "Train Epoch: 2 [33280/60000 (55%)]\tLoss: 0.253503\n",
            "Train Epoch: 2 [33920/60000 (57%)]\tLoss: 0.354456\n",
            "Train Epoch: 2 [34560/60000 (58%)]\tLoss: 0.304528\n",
            "Train Epoch: 2 [35200/60000 (59%)]\tLoss: 0.205827\n",
            "Train Epoch: 2 [35840/60000 (60%)]\tLoss: 0.199398\n",
            "Train Epoch: 2 [36480/60000 (61%)]\tLoss: 0.146250\n",
            "Train Epoch: 2 [37120/60000 (62%)]\tLoss: 0.111353\n",
            "Train Epoch: 2 [37760/60000 (63%)]\tLoss: 0.165628\n",
            "Train Epoch: 2 [38400/60000 (64%)]\tLoss: 0.271851\n",
            "Train Epoch: 2 [39040/60000 (65%)]\tLoss: 0.180936\n",
            "Train Epoch: 2 [39680/60000 (66%)]\tLoss: 0.135094\n",
            "Train Epoch: 2 [40320/60000 (67%)]\tLoss: 0.230814\n",
            "Train Epoch: 2 [40960/60000 (68%)]\tLoss: 0.209723\n",
            "Train Epoch: 2 [41600/60000 (69%)]\tLoss: 0.065978\n",
            "Train Epoch: 2 [42240/60000 (70%)]\tLoss: 0.249991\n",
            "Train Epoch: 2 [42880/60000 (71%)]\tLoss: 0.233860\n",
            "Train Epoch: 2 [43520/60000 (72%)]\tLoss: 0.234831\n",
            "Train Epoch: 2 [44160/60000 (74%)]\tLoss: 0.099989\n",
            "Train Epoch: 2 [44800/60000 (75%)]\tLoss: 0.247536\n",
            "Train Epoch: 2 [45440/60000 (76%)]\tLoss: 0.325648\n",
            "Train Epoch: 2 [46080/60000 (77%)]\tLoss: 0.200508\n",
            "Train Epoch: 2 [46720/60000 (78%)]\tLoss: 0.107369\n",
            "Train Epoch: 2 [47360/60000 (79%)]\tLoss: 0.204334\n",
            "Train Epoch: 2 [48000/60000 (80%)]\tLoss: 0.082969\n",
            "Train Epoch: 2 [48640/60000 (81%)]\tLoss: 0.150873\n",
            "Train Epoch: 2 [49280/60000 (82%)]\tLoss: 0.152246\n",
            "Train Epoch: 2 [49920/60000 (83%)]\tLoss: 0.293441\n",
            "Train Epoch: 2 [50560/60000 (84%)]\tLoss: 0.054647\n",
            "Train Epoch: 2 [51200/60000 (85%)]\tLoss: 0.233656\n",
            "Train Epoch: 2 [51840/60000 (86%)]\tLoss: 0.113822\n",
            "Train Epoch: 2 [52480/60000 (87%)]\tLoss: 0.182256\n",
            "Train Epoch: 2 [53120/60000 (88%)]\tLoss: 0.236332\n",
            "Train Epoch: 2 [53760/60000 (90%)]\tLoss: 0.137302\n",
            "Train Epoch: 2 [54400/60000 (91%)]\tLoss: 0.277315\n",
            "Train Epoch: 2 [55040/60000 (92%)]\tLoss: 0.167667\n",
            "Train Epoch: 2 [55680/60000 (93%)]\tLoss: 0.116008\n",
            "Train Epoch: 2 [56320/60000 (94%)]\tLoss: 0.089791\n",
            "Train Epoch: 2 [56960/60000 (95%)]\tLoss: 0.118934\n",
            "Train Epoch: 2 [57600/60000 (96%)]\tLoss: 0.217101\n",
            "Train Epoch: 2 [58240/60000 (97%)]\tLoss: 0.100815\n",
            "Train Epoch: 2 [58880/60000 (98%)]\tLoss: 0.175545\n",
            "Train Epoch: 2 [59520/60000 (99%)]\tLoss: 0.132878\n",
            "\n",
            "Test set: Avg. loss: 0.0755, Accuracy: 9755/10000 (98%)\n",
            "\n",
            "Train Epoch: 3 [0/60000 (0%)]\tLoss: 0.099359\n",
            "Train Epoch: 3 [640/60000 (1%)]\tLoss: 0.119976\n",
            "Train Epoch: 3 [1280/60000 (2%)]\tLoss: 0.109336\n",
            "Train Epoch: 3 [1920/60000 (3%)]\tLoss: 0.310894\n",
            "Train Epoch: 3 [2560/60000 (4%)]\tLoss: 0.189996\n",
            "Train Epoch: 3 [3200/60000 (5%)]\tLoss: 0.087060\n",
            "Train Epoch: 3 [3840/60000 (6%)]\tLoss: 0.168573\n",
            "Train Epoch: 3 [4480/60000 (7%)]\tLoss: 0.109686\n",
            "Train Epoch: 3 [5120/60000 (9%)]\tLoss: 0.185162\n",
            "Train Epoch: 3 [5760/60000 (10%)]\tLoss: 0.294218\n",
            "Train Epoch: 3 [6400/60000 (11%)]\tLoss: 0.254325\n",
            "Train Epoch: 3 [7040/60000 (12%)]\tLoss: 0.153712\n",
            "Train Epoch: 3 [7680/60000 (13%)]\tLoss: 0.360580\n",
            "Train Epoch: 3 [8320/60000 (14%)]\tLoss: 0.158423\n",
            "Train Epoch: 3 [8960/60000 (15%)]\tLoss: 0.185303\n",
            "Train Epoch: 3 [9600/60000 (16%)]\tLoss: 0.112644\n",
            "Train Epoch: 3 [10240/60000 (17%)]\tLoss: 0.148236\n",
            "Train Epoch: 3 [10880/60000 (18%)]\tLoss: 0.101123\n",
            "Train Epoch: 3 [11520/60000 (19%)]\tLoss: 0.090055\n",
            "Train Epoch: 3 [12160/60000 (20%)]\tLoss: 0.224404\n",
            "Train Epoch: 3 [12800/60000 (21%)]\tLoss: 0.377445\n",
            "Train Epoch: 3 [13440/60000 (22%)]\tLoss: 0.192831\n",
            "Train Epoch: 3 [14080/60000 (23%)]\tLoss: 0.171705\n",
            "Train Epoch: 3 [14720/60000 (25%)]\tLoss: 0.154525\n",
            "Train Epoch: 3 [15360/60000 (26%)]\tLoss: 0.174377\n",
            "Train Epoch: 3 [16000/60000 (27%)]\tLoss: 0.229947\n",
            "Train Epoch: 3 [16640/60000 (28%)]\tLoss: 0.254559\n",
            "Train Epoch: 3 [17280/60000 (29%)]\tLoss: 0.123267\n",
            "Train Epoch: 3 [17920/60000 (30%)]\tLoss: 0.232038\n",
            "Train Epoch: 3 [18560/60000 (31%)]\tLoss: 0.364219\n",
            "Train Epoch: 3 [19200/60000 (32%)]\tLoss: 0.284862\n",
            "Train Epoch: 3 [19840/60000 (33%)]\tLoss: 0.111114\n",
            "Train Epoch: 3 [20480/60000 (34%)]\tLoss: 0.142210\n",
            "Train Epoch: 3 [21120/60000 (35%)]\tLoss: 0.202080\n",
            "Train Epoch: 3 [21760/60000 (36%)]\tLoss: 0.140229\n",
            "Train Epoch: 3 [22400/60000 (37%)]\tLoss: 0.195704\n",
            "Train Epoch: 3 [23040/60000 (38%)]\tLoss: 0.331430\n",
            "Train Epoch: 3 [23680/60000 (39%)]\tLoss: 0.133644\n",
            "Train Epoch: 3 [24320/60000 (41%)]\tLoss: 0.101400\n",
            "Train Epoch: 3 [24960/60000 (42%)]\tLoss: 0.140223\n",
            "Train Epoch: 3 [25600/60000 (43%)]\tLoss: 0.275296\n",
            "Train Epoch: 3 [26240/60000 (44%)]\tLoss: 0.090543\n",
            "Train Epoch: 3 [26880/60000 (45%)]\tLoss: 0.140876\n",
            "Train Epoch: 3 [27520/60000 (46%)]\tLoss: 0.201091\n",
            "Train Epoch: 3 [28160/60000 (47%)]\tLoss: 0.111967\n",
            "Train Epoch: 3 [28800/60000 (48%)]\tLoss: 0.081309\n",
            "Train Epoch: 3 [29440/60000 (49%)]\tLoss: 0.099816\n",
            "Train Epoch: 3 [30080/60000 (50%)]\tLoss: 0.065747\n",
            "Train Epoch: 3 [30720/60000 (51%)]\tLoss: 0.111002\n",
            "Train Epoch: 3 [31360/60000 (52%)]\tLoss: 0.214689\n",
            "Train Epoch: 3 [32000/60000 (53%)]\tLoss: 0.055765\n",
            "Train Epoch: 3 [32640/60000 (54%)]\tLoss: 0.098562\n",
            "Train Epoch: 3 [33280/60000 (55%)]\tLoss: 0.249470\n",
            "Train Epoch: 3 [33920/60000 (57%)]\tLoss: 0.090898\n",
            "Train Epoch: 3 [34560/60000 (58%)]\tLoss: 0.162890\n",
            "Train Epoch: 3 [35200/60000 (59%)]\tLoss: 0.188552\n",
            "Train Epoch: 3 [35840/60000 (60%)]\tLoss: 0.195051\n",
            "Train Epoch: 3 [36480/60000 (61%)]\tLoss: 0.110803\n",
            "Train Epoch: 3 [37120/60000 (62%)]\tLoss: 0.214891\n",
            "Train Epoch: 3 [37760/60000 (63%)]\tLoss: 0.350683\n",
            "Train Epoch: 3 [38400/60000 (64%)]\tLoss: 0.159218\n",
            "Train Epoch: 3 [39040/60000 (65%)]\tLoss: 0.213174\n",
            "Train Epoch: 3 [39680/60000 (66%)]\tLoss: 0.164575\n",
            "Train Epoch: 3 [40320/60000 (67%)]\tLoss: 0.138938\n",
            "Train Epoch: 3 [40960/60000 (68%)]\tLoss: 0.046750\n",
            "Train Epoch: 3 [41600/60000 (69%)]\tLoss: 0.375724\n",
            "Train Epoch: 3 [42240/60000 (70%)]\tLoss: 0.125548\n",
            "Train Epoch: 3 [42880/60000 (71%)]\tLoss: 0.230186\n",
            "Train Epoch: 3 [43520/60000 (72%)]\tLoss: 0.087542\n",
            "Train Epoch: 3 [44160/60000 (74%)]\tLoss: 0.123750\n",
            "Train Epoch: 3 [44800/60000 (75%)]\tLoss: 0.197126\n",
            "Train Epoch: 3 [45440/60000 (76%)]\tLoss: 0.095662\n",
            "Train Epoch: 3 [46080/60000 (77%)]\tLoss: 0.277210\n",
            "Train Epoch: 3 [46720/60000 (78%)]\tLoss: 0.128528\n",
            "Train Epoch: 3 [47360/60000 (79%)]\tLoss: 0.165587\n",
            "Train Epoch: 3 [48000/60000 (80%)]\tLoss: 0.145595\n",
            "Train Epoch: 3 [48640/60000 (81%)]\tLoss: 0.109647\n",
            "Train Epoch: 3 [49280/60000 (82%)]\tLoss: 0.166814\n",
            "Train Epoch: 3 [49920/60000 (83%)]\tLoss: 0.153422\n",
            "Train Epoch: 3 [50560/60000 (84%)]\tLoss: 0.056184\n",
            "Train Epoch: 3 [51200/60000 (85%)]\tLoss: 0.067029\n",
            "Train Epoch: 3 [51840/60000 (86%)]\tLoss: 0.259974\n",
            "Train Epoch: 3 [52480/60000 (87%)]\tLoss: 0.161985\n",
            "Train Epoch: 3 [53120/60000 (88%)]\tLoss: 0.106582\n",
            "Train Epoch: 3 [53760/60000 (90%)]\tLoss: 0.105688\n",
            "Train Epoch: 3 [54400/60000 (91%)]\tLoss: 0.124062\n",
            "Train Epoch: 3 [55040/60000 (92%)]\tLoss: 0.155764\n",
            "Train Epoch: 3 [55680/60000 (93%)]\tLoss: 0.256857\n",
            "Train Epoch: 3 [56320/60000 (94%)]\tLoss: 0.168465\n",
            "Train Epoch: 3 [56960/60000 (95%)]\tLoss: 0.192001\n",
            "Train Epoch: 3 [57600/60000 (96%)]\tLoss: 0.159685\n",
            "Train Epoch: 3 [58240/60000 (97%)]\tLoss: 0.129784\n",
            "Train Epoch: 3 [58880/60000 (98%)]\tLoss: 0.268377\n",
            "Train Epoch: 3 [59520/60000 (99%)]\tLoss: 0.155245\n",
            "\n",
            "Test set: Avg. loss: 0.0536, Accuracy: 9824/10000 (98%)\n",
            "\n"
          ]
        }
      ]
    },
    {
      "cell_type": "code",
      "metadata": {
        "colab": {
          "base_uri": "https://localhost:8080/"
        },
        "id": "PjcexidGYf5P",
        "outputId": "d82a549d-2e37-4461-f8ce-b710c9456a12"
      },
      "source": [
        "len(example_data)"
      ],
      "execution_count": null,
      "outputs": [
        {
          "output_type": "execute_result",
          "data": {
            "text/plain": [
              "64"
            ]
          },
          "metadata": {},
          "execution_count": 107
        }
      ]
    },
    {
      "cell_type": "markdown",
      "metadata": {
        "id": "1U75xaT0PCj9"
      },
      "source": [
        "## Evaluating the Model's Performance"
      ]
    },
    {
      "cell_type": "markdown",
      "metadata": {
        "id": "U6dbN1kKPI3F"
      },
      "source": [
        "Within just 3 epochs of training we already managed to achieve 97% accuracy on the test set! We started out with randomly initialized parameters and as expected only got about 10% accuracy on the test set before starting the training.\n",
        "\n",
        "Let's plot our training curve."
      ]
    },
    {
      "cell_type": "code",
      "metadata": {
        "colab": {
          "base_uri": "https://localhost:8080/",
          "height": 541
        },
        "id": "HSa9a3yaPDll",
        "outputId": "ca504b7f-02d4-42f2-e6f9-ba8698840139"
      },
      "source": [
        "fig = plt.figure()\n",
        "plt.plot(train_counter, train_losses, color='blue')\n",
        "plt.scatter(test_counter, test_losses, color='red')\n",
        "plt.legend(['Train Loss', 'Test Loss'], loc='upper right')\n",
        "plt.xlabel('number of training examples seen')\n",
        "plt.ylabel('negative log likelihood loss')\n",
        "fig\n"
      ],
      "execution_count": null,
      "outputs": [
        {
          "output_type": "execute_result",
          "data": {
            "image/png": "[encoded data removed]",
            "text/plain": [
              "<Figure size 432x288 with 1 Axes>"
            ]
          },
          "metadata": {},
          "execution_count": 108
        },
        {
          "output_type": "display_data",
          "data": {
            "image/png": "[encoded data removed]",
            "text/plain": [
              "<Figure size 432x288 with 1 Axes>"
            ]
          },
          "metadata": {
            "needs_background": "light"
          }
        }
      ]
    },
    {
      "cell_type": "markdown",
      "metadata": {
        "id": "3Bdsie5xPWBN"
      },
      "source": [
        "## prediction for manual validation of predicted number and sum"
      ]
    },
    {
      "cell_type": "markdown",
      "metadata": {
        "id": "Iz8BPrZbPY6F"
      },
      "source": [
        "let's again look at a few examples as we did earlier and compare the model's output."
      ]
    },
    {
      "cell_type": "code",
      "metadata": {
        "colab": {
          "base_uri": "https://localhost:8080/"
        },
        "id": "c0OT3buIPord",
        "outputId": "c8248720-04ec-48c8-f4d4-8cd0a78ded31"
      },
      "source": [
        "x_rand_trn = torch.randint(low=0,\n",
        "                       high = 20,\n",
        "                       size =(len(example_data),),)\n",
        "# x_rand_trn\n",
        "x_rand_trn = x_rand_trn.type(torch.float32)\n",
        "x_rand_trn"
      ],
      "execution_count": null,
      "outputs": [
        {
          "output_type": "execute_result",
          "data": {
            "text/plain": [
              "tensor([17., 18.,  8., 14.,  0.,  2., 10.,  1., 13.,  1., 12.,  1., 19.,  4.,\n",
              "         3.,  1., 16.,  2.,  7., 11., 14.,  7., 12., 19., 15.,  1.,  8.,  9.,\n",
              "        13.,  7., 10.,  2., 16., 11.,  3., 11.,  3.,  2., 11., 12.,  8.,  5.,\n",
              "         3.,  0., 17., 10., 11., 13., 15., 13.,  3., 18., 14., 12.,  2.,  9.,\n",
              "        11.,  7.,  8., 16.,  4., 15., 12., 15.])"
            ]
          },
          "metadata": {},
          "execution_count": 109
        }
      ]
    },
    {
      "cell_type": "code",
      "metadata": {
        "colab": {
          "base_uri": "https://localhost:8080/"
        },
        "id": "HWEQCfjIPZb9",
        "outputId": "d93df6b8-7d78-4721-a462-aa99b098cb77"
      },
      "source": [
        "with torch.no_grad():\n",
        "  output,mnist_rand_sum,mnist_rand = network(example_data,x_rand_trn)"
      ],
      "execution_count": null,
      "outputs": [
        {
          "output_type": "stream",
          "name": "stderr",
          "text": [
            "/usr/local/lib/python3.7/dist-packages/ipykernel_launcher.py:66: UserWarning: Implicit dimension choice for log_softmax has been deprecated. Change the call to include dim=X as an argument.\n"
          ]
        }
      ]
    },
    {
      "cell_type": "code",
      "metadata": {
        "colab": {
          "base_uri": "https://localhost:8080/"
        },
        "id": "LmTJx5nDTNEu",
        "outputId": "97b5fc59-79c3-4b23-dd08-ba2a27f69e23"
      },
      "source": [
        "output[6].shape"
      ],
      "execution_count": null,
      "outputs": [
        {
          "output_type": "execute_result",
          "data": {
            "text/plain": [
              "torch.Size([10])"
            ]
          },
          "metadata": {},
          "execution_count": 111
        }
      ]
    },
    {
      "cell_type": "code",
      "metadata": {
        "colab": {
          "base_uri": "https://localhost:8080/"
        },
        "id": "Vr28pOH4gLC-",
        "outputId": "12cbffb3-a462-4c70-8755-65d3fd9e6621"
      },
      "source": [
        "mnist_rand[22]"
      ],
      "execution_count": null,
      "outputs": [
        {
          "output_type": "execute_result",
          "data": {
            "text/plain": [
              "tensor(12.)"
            ]
          },
          "metadata": {},
          "execution_count": 119
        }
      ]
    },
    {
      "cell_type": "code",
      "metadata": {
        "colab": {
          "base_uri": "https://localhost:8080/"
        },
        "id": "U4zyJQuUQRLm",
        "outputId": "bc91b8b3-d737-4c76-e06f-027b8b1697c5"
      },
      "source": [
        "mnist_rand_sum.shape"
      ],
      "execution_count": null,
      "outputs": [
        {
          "output_type": "execute_result",
          "data": {
            "text/plain": [
              "torch.Size([64, 1])"
            ]
          },
          "metadata": {},
          "execution_count": 115
        }
      ]
    },
    {
      "cell_type": "code",
      "metadata": {
        "colab": {
          "base_uri": "https://localhost:8080/"
        },
        "id": "-9vldcXSf-_2",
        "outputId": "023e2ddb-f8af-401c-f8b4-ad502b1f8f41"
      },
      "source": [
        "mnist_rand_sum[1].item()"
      ],
      "execution_count": null,
      "outputs": [
        {
          "output_type": "execute_result",
          "data": {
            "text/plain": [
              "22.0"
            ]
          },
          "metadata": {},
          "execution_count": 122
        }
      ]
    },
    {
      "cell_type": "code",
      "metadata": {
        "colab": {
          "base_uri": "https://localhost:8080/"
        },
        "id": "_o-l9qklUAYW",
        "outputId": "aa9c496d-965c-401c-fb33-2e8d47f00e86"
      },
      "source": [
        "output.shape"
      ],
      "execution_count": null,
      "outputs": [
        {
          "output_type": "execute_result",
          "data": {
            "text/plain": [
              "torch.Size([64, 10])"
            ]
          },
          "metadata": {},
          "execution_count": 116
        }
      ]
    },
    {
      "cell_type": "markdown",
      "metadata": {
        "id": "j1smlFBaNTGk"
      },
      "source": [
        "Here I have displayed\n",
        "- random input number\n",
        "- Predicted MNIST number\n",
        "- Sum of random number and predicted MNIST number"
      ]
    },
    {
      "cell_type": "code",
      "metadata": {
        "colab": {
          "base_uri": "https://localhost:8080/",
          "height": 1000
        },
        "id": "gqebVkqIPvy4",
        "outputId": "58576aae-61d8-4ac3-b39f-6f460856eb65"
      },
      "source": [
        "fig = plt.figure(figsize=(10,10))\n",
        "for i in range(6):\n",
        "  plt.subplot(2,3,i+1)\n",
        "  plt.tight_layout()\n",
        "  plt.imshow(example_data[i][0], cmap='gray', interpolation='none')\n",
        "  plt.title(\"Rand: {}\".format(mnist_rand[i]) + \", Sum: {}\".format(mnist_rand_sum[i].item()) + \", Prd: {}\".format(\n",
        "    output.data.max(1, keepdim=True)[1][i].item()))\n",
        "  plt.xticks([])\n",
        "  plt.yticks([])\n",
        "fig\n"
      ],
      "execution_count": null,
      "outputs": [
        {
          "output_type": "execute_result",
          "data": {
            "image/png": "[encoded data removed]",
            "text/plain": [
              "<Figure size 720x720 with 5 Axes>"
            ]
          },
          "metadata": {},
          "execution_count": 123
        },
        {
          "output_type": "display_data",
          "data": {
            "image/png": "[encoded data removed]",
            "text/plain": [
              "<Figure size 720x720 with 5 Axes>"
            ]
          },
          "metadata": {}
        }
      ]
    },
    {
      "cell_type": "markdown",
      "metadata": {
        "id": "FEp7p544B0Sh"
      },
      "source": [
        "## References"
      ]
    },
    {
      "cell_type": "markdown",
      "metadata": {
        "id": "DUH423kmBTkD"
      },
      "source": [
        "Following articles been referred for this notebook developments\n",
        "\n",
        "- Multiple Input handling in NN - Pytorch\n",
        "  - https://stackoverflow.com/questions/53980894/neural-network-using-both-images-and-numerical-inputs\n",
        "  - https://stackoverflow.com/questions/51700729/how-to-construct-a-network-with-two-inputs-in-pytorch\n",
        "  - https://rosenfelder.ai/multi-input-neural-network-pytorch/\n",
        "  - https://discuss.pytorch.org/t/nn-module-with-multiple-inputs/237/2\n",
        "\n",
        "- Multiple Output handling in NN - Pytorch\n",
        "    - [A model with multiple outputs](https://discuss.pytorch.org/t/a-model-with-multiple-outputs/10440/10)"
      ]
    }
  ]
}