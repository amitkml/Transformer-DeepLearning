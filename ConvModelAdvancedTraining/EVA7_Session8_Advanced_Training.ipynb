{
  "nbformat": 4,
  "nbformat_minor": 0,
  "metadata": {
    "colab": {
      "name": "EVA7_Session8_Advanced_Training.ipynb",
      "provenance": [],
      "collapsed_sections": []
    },
    "kernelspec": {
      "name": "python3",
      "display_name": "Python 3"
    },
    "language_info": {
      "name": "python"
    },
    "accelerator": "GPU"
  },
  "cells": [
    {
      "cell_type": "code",
      "metadata": {
        "colab": {
          "base_uri": "https://localhost:8080/"
        },
        "id": "mv0Sgq5SaCip",
        "outputId": "712bf8cb-b73d-498d-9a88-11e125f18879"
      },
      "source": [
        "!pip install gitpython\n",
        "import git\n",
        "import os"
      ],
      "execution_count": 1,
      "outputs": [
        {
          "output_type": "stream",
          "name": "stdout",
          "text": [
            "Collecting gitpython\n",
            "  Downloading GitPython-3.1.24-py3-none-any.whl (180 kB)\n",
            "\u001b[?25l\r\u001b[K     |█▉                              | 10 kB 19.2 MB/s eta 0:00:01\r\u001b[K     |███▋                            | 20 kB 21.3 MB/s eta 0:00:01\r\u001b[K     |█████▌                          | 30 kB 25.7 MB/s eta 0:00:01\r\u001b[K     |███████▎                        | 40 kB 20.6 MB/s eta 0:00:01\r\u001b[K     |█████████                       | 51 kB 8.1 MB/s eta 0:00:01\r\u001b[K     |███████████                     | 61 kB 9.4 MB/s eta 0:00:01\r\u001b[K     |████████████▊                   | 71 kB 8.5 MB/s eta 0:00:01\r\u001b[K     |██████████████▌                 | 81 kB 9.4 MB/s eta 0:00:01\r\u001b[K     |████████████████▍               | 92 kB 10.1 MB/s eta 0:00:01\r\u001b[K     |██████████████████▏             | 102 kB 7.7 MB/s eta 0:00:01\r\u001b[K     |████████████████████            | 112 kB 7.7 MB/s eta 0:00:01\r\u001b[K     |█████████████████████▉          | 122 kB 7.7 MB/s eta 0:00:01\r\u001b[K     |███████████████████████▋        | 133 kB 7.7 MB/s eta 0:00:01\r\u001b[K     |█████████████████████████▌      | 143 kB 7.7 MB/s eta 0:00:01\r\u001b[K     |███████████████████████████▎    | 153 kB 7.7 MB/s eta 0:00:01\r\u001b[K     |█████████████████████████████   | 163 kB 7.7 MB/s eta 0:00:01\r\u001b[K     |███████████████████████████████ | 174 kB 7.7 MB/s eta 0:00:01\r\u001b[K     |████████████████████████████████| 180 kB 7.7 MB/s \n",
            "\u001b[?25hCollecting gitdb<5,>=4.0.1\n",
            "  Downloading gitdb-4.0.9-py3-none-any.whl (63 kB)\n",
            "\u001b[?25l\r\u001b[K     |█████▏                          | 10 kB 29.0 MB/s eta 0:00:01\r\u001b[K     |██████████▍                     | 20 kB 33.9 MB/s eta 0:00:01\r\u001b[K     |███████████████▋                | 30 kB 40.2 MB/s eta 0:00:01\r\u001b[K     |████████████████████▊           | 40 kB 43.8 MB/s eta 0:00:01\r\u001b[K     |██████████████████████████      | 51 kB 46.5 MB/s eta 0:00:01\r\u001b[K     |███████████████████████████████▏| 61 kB 50.0 MB/s eta 0:00:01\r\u001b[K     |████████████████████████████████| 63 kB 1.7 MB/s \n",
            "\u001b[?25hRequirement already satisfied: typing-extensions>=3.7.4.3 in /usr/local/lib/python3.7/dist-packages (from gitpython) (3.10.0.2)\n",
            "Collecting smmap<6,>=3.0.1\n",
            "  Downloading smmap-5.0.0-py3-none-any.whl (24 kB)\n",
            "Installing collected packages: smmap, gitdb, gitpython\n",
            "Successfully installed gitdb-4.0.9 gitpython-3.1.24 smmap-5.0.0\n"
          ]
        }
      ]
    },
    {
      "cell_type": "code",
      "metadata": {
        "id": "QDxdh3L7Ao8d"
      },
      "source": [
        "os.chdir(\"/content/\")"
      ],
      "execution_count": 2,
      "outputs": []
    },
    {
      "cell_type": "code",
      "metadata": {
        "id": "UMAOLjQJ8uUb"
      },
      "source": [
        "if os.path.isdir(\"/content/Transformer-DeepLearning\"):\n",
        "  !rm -rf \"/content/Transformer-DeepLearning\""
      ],
      "execution_count": 3,
      "outputs": []
    },
    {
      "cell_type": "code",
      "metadata": {
        "colab": {
          "base_uri": "https://localhost:8080/"
        },
        "id": "TF6F3bRtZxHx",
        "outputId": "994a94c4-6b16-4167-e070-d434c9c6bc47"
      },
      "source": [
        "!git clone https://github.com/amitkml/Transformer-DeepLearning "
      ],
      "execution_count": 4,
      "outputs": [
        {
          "output_type": "stream",
          "name": "stdout",
          "text": [
            "Cloning into 'Transformer-DeepLearning'...\n",
            "remote: Enumerating objects: 342, done.\u001b[K\n",
            "remote: Counting objects: 100% (342/342), done.\u001b[K\n",
            "remote: Compressing objects: 100% (270/270), done.\u001b[K\n",
            "remote: Total 342 (delta 170), reused 196 (delta 61), pack-reused 0\u001b[K\n",
            "Receiving objects: 100% (342/342), 18.14 MiB | 12.64 MiB/s, done.\n",
            "Resolving deltas: 100% (170/170), done.\n"
          ]
        }
      ]
    },
    {
      "cell_type": "code",
      "metadata": {
        "id": "ksdOJAo7bfnE"
      },
      "source": [
        "os.chdir(\"/content/Transformer-DeepLearning/Session-8-AdvancedTraining/models\")\n",
        "import resnet as resnet"
      ],
      "execution_count": 5,
      "outputs": []
    },
    {
      "cell_type": "code",
      "metadata": {
        "colab": {
          "base_uri": "https://localhost:8080/"
        },
        "id": "0kF2_I2PEtJo",
        "outputId": "7f0a94f0-3363-4ef8-f8d7-78300346721a"
      },
      "source": [
        "!pip install torchsummary\n",
        "from torchsummary import summary\n"
      ],
      "execution_count": 6,
      "outputs": [
        {
          "output_type": "stream",
          "name": "stdout",
          "text": [
            "Requirement already satisfied: torchsummary in /usr/local/lib/python3.7/dist-packages (1.5.1)\n"
          ]
        }
      ]
    },
    {
      "cell_type": "code",
      "metadata": {
        "id": "c-_FQCzycW9f",
        "colab": {
          "base_uri": "https://localhost:8080/"
        },
        "outputId": "84fe8402-cade-4dc9-ab6f-46511fd39b14"
      },
      "source": [
        "os.chdir(\"/content/Transformer-DeepLearning/Session-8-AdvancedTraining\")\n",
        "%tb\n",
        "import utils as utils\n",
        "import main as model_main"
      ],
      "execution_count": 7,
      "outputs": [
        {
          "output_type": "stream",
          "name": "stderr",
          "text": [
            "No traceback available to show.\n"
          ]
        }
      ]
    },
    {
      "cell_type": "code",
      "metadata": {
        "id": "GTN5t17j3Mec"
      },
      "source": [
        ""
      ],
      "execution_count": 7,
      "outputs": []
    }
  ]
}