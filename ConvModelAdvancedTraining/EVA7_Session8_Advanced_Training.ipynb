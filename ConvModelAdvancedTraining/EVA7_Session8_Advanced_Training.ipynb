{
  "nbformat": 4,
  "nbformat_minor": 0,
  "metadata": {
    "colab": {
      "name": "EVA7_Session8_Advanced_Training.ipynb",
      "provenance": [],
      "collapsed_sections": []
    },
    "kernelspec": {
      "name": "python3",
      "display_name": "Python 3"
    },
    "language_info": {
      "name": "python"
    },
    "accelerator": "GPU",
    "widgets": {
      "application/vnd.jupyter.widget-state+json": {
        "0931beeaf81e4e87bedc08306e2ff2ed": {
          "model_module": "@jupyter-widgets/controls",
          "model_name": "HBoxModel",
          "model_module_version": "1.5.0",
          "state": {
            "_view_name": "HBoxView",
            "_dom_classes": [],
            "_model_name": "HBoxModel",
            "_view_module": "@jupyter-widgets/controls",
            "_model_module_version": "1.5.0",
            "_view_count": null,
            "_view_module_version": "1.5.0",
            "box_style": "",
            "layout": "IPY_MODEL_2a393159992c42319794a7527ccaa97e",
            "_model_module": "@jupyter-widgets/controls",
            "children": [
              "IPY_MODEL_e05376b040dc4cd19dbedfe11526ab16",
              "IPY_MODEL_1fc31fc9ee9f46f7bd35c802892e2ea0",
              "IPY_MODEL_07c4bb37484744a7b8541c7c5777d9c6"
            ]
          }
        },
        "2a393159992c42319794a7527ccaa97e": {
          "model_module": "@jupyter-widgets/base",
          "model_name": "LayoutModel",
          "model_module_version": "1.2.0",
          "state": {
            "_view_name": "LayoutView",
            "grid_template_rows": null,
            "right": null,
            "justify_content": null,
            "_view_module": "@jupyter-widgets/base",
            "overflow": null,
            "_model_module_version": "1.2.0",
            "_view_count": null,
            "flex_flow": null,
            "width": null,
            "min_width": null,
            "border": null,
            "align_items": null,
            "bottom": null,
            "_model_module": "@jupyter-widgets/base",
            "top": null,
            "grid_column": null,
            "overflow_y": null,
            "overflow_x": null,
            "grid_auto_flow": null,
            "grid_area": null,
            "grid_template_columns": null,
            "flex": null,
            "_model_name": "LayoutModel",
            "justify_items": null,
            "grid_row": null,
            "max_height": null,
            "align_content": null,
            "visibility": null,
            "align_self": null,
            "height": null,
            "min_height": null,
            "padding": null,
            "grid_auto_rows": null,
            "grid_gap": null,
            "max_width": null,
            "order": null,
            "_view_module_version": "1.2.0",
            "grid_template_areas": null,
            "object_position": null,
            "object_fit": null,
            "grid_auto_columns": null,
            "margin": null,
            "display": null,
            "left": null
          }
        },
        "e05376b040dc4cd19dbedfe11526ab16": {
          "model_module": "@jupyter-widgets/controls",
          "model_name": "HTMLModel",
          "model_module_version": "1.5.0",
          "state": {
            "_view_name": "HTMLView",
            "style": "IPY_MODEL_2d9efa82c5244272b117dfdb084dd668",
            "_dom_classes": [],
            "description": "",
            "_model_name": "HTMLModel",
            "placeholder": "​",
            "_view_module": "@jupyter-widgets/controls",
            "_model_module_version": "1.5.0",
            "value": "",
            "_view_count": null,
            "_view_module_version": "1.5.0",
            "description_tooltip": null,
            "_model_module": "@jupyter-widgets/controls",
            "layout": "IPY_MODEL_6eac3dd804e34dc4a3036fb40c0fd8f6"
          }
        },
        "1fc31fc9ee9f46f7bd35c802892e2ea0": {
          "model_module": "@jupyter-widgets/controls",
          "model_name": "FloatProgressModel",
          "model_module_version": "1.5.0",
          "state": {
            "_view_name": "ProgressView",
            "style": "IPY_MODEL_67ab85f7d8254e119e7de2bb0e6a66cc",
            "_dom_classes": [],
            "description": "",
            "_model_name": "FloatProgressModel",
            "bar_style": "success",
            "max": 170498071,
            "_view_module": "@jupyter-widgets/controls",
            "_model_module_version": "1.5.0",
            "value": 170498071,
            "_view_count": null,
            "_view_module_version": "1.5.0",
            "orientation": "horizontal",
            "min": 0,
            "description_tooltip": null,
            "_model_module": "@jupyter-widgets/controls",
            "layout": "IPY_MODEL_0488b7997081479ab4b7c73b552042af"
          }
        },
        "07c4bb37484744a7b8541c7c5777d9c6": {
          "model_module": "@jupyter-widgets/controls",
          "model_name": "HTMLModel",
          "model_module_version": "1.5.0",
          "state": {
            "_view_name": "HTMLView",
            "style": "IPY_MODEL_d713eec023794011865e6363e70343f3",
            "_dom_classes": [],
            "description": "",
            "_model_name": "HTMLModel",
            "placeholder": "​",
            "_view_module": "@jupyter-widgets/controls",
            "_model_module_version": "1.5.0",
            "value": " 170499072/? [00:03&lt;00:00, 55633507.01it/s]",
            "_view_count": null,
            "_view_module_version": "1.5.0",
            "description_tooltip": null,
            "_model_module": "@jupyter-widgets/controls",
            "layout": "IPY_MODEL_9f26c0bfcf15480fb1e69476f79f2998"
          }
        },
        "2d9efa82c5244272b117dfdb084dd668": {
          "model_module": "@jupyter-widgets/controls",
          "model_name": "DescriptionStyleModel",
          "model_module_version": "1.5.0",
          "state": {
            "_view_name": "StyleView",
            "_model_name": "DescriptionStyleModel",
            "description_width": "",
            "_view_module": "@jupyter-widgets/base",
            "_model_module_version": "1.5.0",
            "_view_count": null,
            "_view_module_version": "1.2.0",
            "_model_module": "@jupyter-widgets/controls"
          }
        },
        "6eac3dd804e34dc4a3036fb40c0fd8f6": {
          "model_module": "@jupyter-widgets/base",
          "model_name": "LayoutModel",
          "model_module_version": "1.2.0",
          "state": {
            "_view_name": "LayoutView",
            "grid_template_rows": null,
            "right": null,
            "justify_content": null,
            "_view_module": "@jupyter-widgets/base",
            "overflow": null,
            "_model_module_version": "1.2.0",
            "_view_count": null,
            "flex_flow": null,
            "width": null,
            "min_width": null,
            "border": null,
            "align_items": null,
            "bottom": null,
            "_model_module": "@jupyter-widgets/base",
            "top": null,
            "grid_column": null,
            "overflow_y": null,
            "overflow_x": null,
            "grid_auto_flow": null,
            "grid_area": null,
            "grid_template_columns": null,
            "flex": null,
            "_model_name": "LayoutModel",
            "justify_items": null,
            "grid_row": null,
            "max_height": null,
            "align_content": null,
            "visibility": null,
            "align_self": null,
            "height": null,
            "min_height": null,
            "padding": null,
            "grid_auto_rows": null,
            "grid_gap": null,
            "max_width": null,
            "order": null,
            "_view_module_version": "1.2.0",
            "grid_template_areas": null,
            "object_position": null,
            "object_fit": null,
            "grid_auto_columns": null,
            "margin": null,
            "display": null,
            "left": null
          }
        },
        "67ab85f7d8254e119e7de2bb0e6a66cc": {
          "model_module": "@jupyter-widgets/controls",
          "model_name": "ProgressStyleModel",
          "model_module_version": "1.5.0",
          "state": {
            "_view_name": "StyleView",
            "_model_name": "ProgressStyleModel",
            "description_width": "",
            "_view_module": "@jupyter-widgets/base",
            "_model_module_version": "1.5.0",
            "_view_count": null,
            "_view_module_version": "1.2.0",
            "bar_color": null,
            "_model_module": "@jupyter-widgets/controls"
          }
        },
        "0488b7997081479ab4b7c73b552042af": {
          "model_module": "@jupyter-widgets/base",
          "model_name": "LayoutModel",
          "model_module_version": "1.2.0",
          "state": {
            "_view_name": "LayoutView",
            "grid_template_rows": null,
            "right": null,
            "justify_content": null,
            "_view_module": "@jupyter-widgets/base",
            "overflow": null,
            "_model_module_version": "1.2.0",
            "_view_count": null,
            "flex_flow": null,
            "width": null,
            "min_width": null,
            "border": null,
            "align_items": null,
            "bottom": null,
            "_model_module": "@jupyter-widgets/base",
            "top": null,
            "grid_column": null,
            "overflow_y": null,
            "overflow_x": null,
            "grid_auto_flow": null,
            "grid_area": null,
            "grid_template_columns": null,
            "flex": null,
            "_model_name": "LayoutModel",
            "justify_items": null,
            "grid_row": null,
            "max_height": null,
            "align_content": null,
            "visibility": null,
            "align_self": null,
            "height": null,
            "min_height": null,
            "padding": null,
            "grid_auto_rows": null,
            "grid_gap": null,
            "max_width": null,
            "order": null,
            "_view_module_version": "1.2.0",
            "grid_template_areas": null,
            "object_position": null,
            "object_fit": null,
            "grid_auto_columns": null,
            "margin": null,
            "display": null,
            "left": null
          }
        },
        "d713eec023794011865e6363e70343f3": {
          "model_module": "@jupyter-widgets/controls",
          "model_name": "DescriptionStyleModel",
          "model_module_version": "1.5.0",
          "state": {
            "_view_name": "StyleView",
            "_model_name": "DescriptionStyleModel",
            "description_width": "",
            "_view_module": "@jupyter-widgets/base",
            "_model_module_version": "1.5.0",
            "_view_count": null,
            "_view_module_version": "1.2.0",
            "_model_module": "@jupyter-widgets/controls"
          }
        },
        "9f26c0bfcf15480fb1e69476f79f2998": {
          "model_module": "@jupyter-widgets/base",
          "model_name": "LayoutModel",
          "model_module_version": "1.2.0",
          "state": {
            "_view_name": "LayoutView",
            "grid_template_rows": null,
            "right": null,
            "justify_content": null,
            "_view_module": "@jupyter-widgets/base",
            "overflow": null,
            "_model_module_version": "1.2.0",
            "_view_count": null,
            "flex_flow": null,
            "width": null,
            "min_width": null,
            "border": null,
            "align_items": null,
            "bottom": null,
            "_model_module": "@jupyter-widgets/base",
            "top": null,
            "grid_column": null,
            "overflow_y": null,
            "overflow_x": null,
            "grid_auto_flow": null,
            "grid_area": null,
            "grid_template_columns": null,
            "flex": null,
            "_model_name": "LayoutModel",
            "justify_items": null,
            "grid_row": null,
            "max_height": null,
            "align_content": null,
            "visibility": null,
            "align_self": null,
            "height": null,
            "min_height": null,
            "padding": null,
            "grid_auto_rows": null,
            "grid_gap": null,
            "max_width": null,
            "order": null,
            "_view_module_version": "1.2.0",
            "grid_template_areas": null,
            "object_position": null,
            "object_fit": null,
            "grid_auto_columns": null,
            "margin": null,
            "display": null,
            "left": null
          }
        }
      }
    }
  },
  "cells": [
    {
      "cell_type": "code",
      "metadata": {
        "colab": {
          "base_uri": "https://localhost:8080/"
        },
        "id": "mv0Sgq5SaCip",
        "outputId": "a8fb3246-3760-4852-b21f-35bb838d6aef"
      },
      "source": [
        "!pip install gitpython\n",
        "import git\n",
        "import os"
      ],
      "execution_count": 1,
      "outputs": [
        {
          "output_type": "stream",
          "name": "stdout",
          "text": [
            "Collecting gitpython\n",
            "  Downloading GitPython-3.1.24-py3-none-any.whl (180 kB)\n",
            "\u001b[?25l\r\u001b[K     |█▉                              | 10 kB 16.6 MB/s eta 0:00:01\r\u001b[K     |███▋                            | 20 kB 10.5 MB/s eta 0:00:01\r\u001b[K     |█████▌                          | 30 kB 8.5 MB/s eta 0:00:01\r\u001b[K     |███████▎                        | 40 kB 7.6 MB/s eta 0:00:01\r\u001b[K     |█████████                       | 51 kB 5.5 MB/s eta 0:00:01\r\u001b[K     |███████████                     | 61 kB 5.6 MB/s eta 0:00:01\r\u001b[K     |████████████▊                   | 71 kB 5.3 MB/s eta 0:00:01\r\u001b[K     |██████████████▌                 | 81 kB 5.9 MB/s eta 0:00:01\r\u001b[K     |████████████████▍               | 92 kB 6.0 MB/s eta 0:00:01\r\u001b[K     |██████████████████▏             | 102 kB 5.3 MB/s eta 0:00:01\r\u001b[K     |████████████████████            | 112 kB 5.3 MB/s eta 0:00:01\r\u001b[K     |█████████████████████▉          | 122 kB 5.3 MB/s eta 0:00:01\r\u001b[K     |███████████████████████▋        | 133 kB 5.3 MB/s eta 0:00:01\r\u001b[K     |█████████████████████████▌      | 143 kB 5.3 MB/s eta 0:00:01\r\u001b[K     |███████████████████████████▎    | 153 kB 5.3 MB/s eta 0:00:01\r\u001b[K     |█████████████████████████████   | 163 kB 5.3 MB/s eta 0:00:01\r\u001b[K     |███████████████████████████████ | 174 kB 5.3 MB/s eta 0:00:01\r\u001b[K     |████████████████████████████████| 180 kB 5.3 MB/s \n",
            "\u001b[?25hRequirement already satisfied: typing-extensions>=3.7.4.3 in /usr/local/lib/python3.7/dist-packages (from gitpython) (3.10.0.2)\n",
            "Collecting gitdb<5,>=4.0.1\n",
            "  Downloading gitdb-4.0.9-py3-none-any.whl (63 kB)\n",
            "\u001b[K     |████████████████████████████████| 63 kB 1.1 MB/s \n",
            "\u001b[?25hCollecting smmap<6,>=3.0.1\n",
            "  Downloading smmap-5.0.0-py3-none-any.whl (24 kB)\n",
            "Installing collected packages: smmap, gitdb, gitpython\n",
            "Successfully installed gitdb-4.0.9 gitpython-3.1.24 smmap-5.0.0\n"
          ]
        }
      ]
    },
    {
      "cell_type": "code",
      "metadata": {
        "id": "QDxdh3L7Ao8d"
      },
      "source": [
        "os.chdir(\"/content/\")"
      ],
      "execution_count": 2,
      "outputs": []
    },
    {
      "cell_type": "code",
      "metadata": {
        "id": "UMAOLjQJ8uUb"
      },
      "source": [
        "if os.path.isdir(\"/content/Transformer-DeepLearning\"):\n",
        "  !rm -rf \"/content/Transformer-DeepLearning\""
      ],
      "execution_count": 3,
      "outputs": []
    },
    {
      "cell_type": "code",
      "metadata": {
        "colab": {
          "base_uri": "https://localhost:8080/"
        },
        "id": "TF6F3bRtZxHx",
        "outputId": "81504332-8224-420f-cc54-7f11ccdded00"
      },
      "source": [
        "!git clone https://github.com/amitkml/Transformer-DeepLearning "
      ],
      "execution_count": 4,
      "outputs": [
        {
          "output_type": "stream",
          "name": "stdout",
          "text": [
            "Cloning into 'Transformer-DeepLearning'...\n",
            "remote: Enumerating objects: 411, done.\u001b[K\n",
            "remote: Counting objects: 100% (411/411), done.\u001b[K\n",
            "remote: Compressing objects: 100% (316/316), done.\u001b[K\n",
            "remote: Total 411 (delta 217), reused 241 (delta 84), pack-reused 0\u001b[K\n",
            "Receiving objects: 100% (411/411), 18.15 MiB | 23.64 MiB/s, done.\n",
            "Resolving deltas: 100% (217/217), done.\n"
          ]
        }
      ]
    },
    {
      "cell_type": "code",
      "metadata": {
        "id": "ksdOJAo7bfnE"
      },
      "source": [
        "os.chdir(\"/content/Transformer-DeepLearning/ConvModelAdvancedTraining/models\")\n",
        "import resnet as resnet"
      ],
      "execution_count": 5,
      "outputs": []
    },
    {
      "cell_type": "code",
      "metadata": {
        "colab": {
          "base_uri": "https://localhost:8080/"
        },
        "id": "0kF2_I2PEtJo",
        "outputId": "17b1718b-c483-4d34-f166-ead02c858c19"
      },
      "source": [
        "!pip install torchsummary\n",
        "from torchsummary import summary\n"
      ],
      "execution_count": 6,
      "outputs": [
        {
          "output_type": "stream",
          "name": "stdout",
          "text": [
            "Requirement already satisfied: torchsummary in /usr/local/lib/python3.7/dist-packages (1.5.1)\n"
          ]
        }
      ]
    },
    {
      "cell_type": "code",
      "metadata": {
        "id": "c-_FQCzycW9f"
      },
      "source": [
        "os.chdir(\"/content/Transformer-DeepLearning/ConvModelAdvancedTraining\")\n",
        "# %tb\n",
        "import utils as utils\n",
        "import main as model_main"
      ],
      "execution_count": 7,
      "outputs": []
    },
    {
      "cell_type": "code",
      "metadata": {
        "id": "sYMuX6M0uEz3"
      },
      "source": [
        "utils.model_summary()"
      ],
      "execution_count": null,
      "outputs": []
    },
    {
      "cell_type": "code",
      "metadata": {
        "id": "GTN5t17j3Mec",
        "colab": {
          "base_uri": "https://localhost:8080/",
          "height": 1000,
          "referenced_widgets": [
            "0931beeaf81e4e87bedc08306e2ff2ed",
            "2a393159992c42319794a7527ccaa97e",
            "e05376b040dc4cd19dbedfe11526ab16",
            "1fc31fc9ee9f46f7bd35c802892e2ea0",
            "07c4bb37484744a7b8541c7c5777d9c6",
            "2d9efa82c5244272b117dfdb084dd668",
            "6eac3dd804e34dc4a3036fb40c0fd8f6",
            "67ab85f7d8254e119e7de2bb0e6a66cc",
            "0488b7997081479ab4b7c73b552042af",
            "d713eec023794011865e6363e70343f3",
            "9f26c0bfcf15480fb1e69476f79f2998"
          ]
        },
        "outputId": "f2e38d06-498b-4dc5-958e-922f3a44d9ac"
      },
      "source": [
        "model_main.run_experiments()"
      ],
      "execution_count": 8,
      "outputs": [
        {
          "output_type": "stream",
          "name": "stdout",
          "text": [
            "Got all parser argument\n",
            "==> Preparing data..\n",
            "Downloading https://www.cs.toronto.edu/~kriz/cifar-10-python.tar.gz to ./data/cifar-10-python.tar.gz\n"
          ]
        },
        {
          "output_type": "display_data",
          "data": {
            "application/vnd.jupyter.widget-view+json": {
              "model_id": "0931beeaf81e4e87bedc08306e2ff2ed",
              "version_minor": 0,
              "version_major": 2
            },
            "text/plain": [
              "  0%|          | 0/170498071 [00:00<?, ?it/s]"
            ]
          },
          "metadata": {}
        },
        {
          "output_type": "stream",
          "name": "stdout",
          "text": [
            "Extracting ./data/cifar-10-python.tar.gz to ./data\n",
            "Files already downloaded and verified\n",
            "==> Building model..\n",
            "\n",
            "Epoch: 0\n"
          ]
        },
        {
          "output_type": "stream",
          "name": "stderr",
          "text": [
            "Loss=1.822692632675171 Batch_id=390  LR=0.10000 Accuracy=30.18: 100%|██████████| 391/391 [02:23<00:00,  2.73it/s]\n",
            "Loss=1.5027329921722412 Batch_id=99 LR=0.10000 Accuracy=40.52: 100%|██████████| 100/100 [00:08<00:00, 11.32it/s]\n"
          ]
        },
        {
          "output_type": "stream",
          "name": "stdout",
          "text": [
            "Saving..\n",
            "\n",
            "Epoch: 1\n"
          ]
        },
        {
          "output_type": "stream",
          "name": "stderr",
          "text": [
            "Loss=1.2078001499176025 Batch_id=390  LR=0.09999 Accuracy=46.45: 100%|██████████| 391/391 [02:23<00:00,  2.73it/s]\n",
            "Loss=1.3457646369934082 Batch_id=99 LR=0.09999 Accuracy=53.55: 100%|██████████| 100/100 [00:08<00:00, 11.29it/s]\n"
          ]
        },
        {
          "output_type": "stream",
          "name": "stdout",
          "text": [
            "Saving..\n",
            "\n",
            "Epoch: 2\n"
          ]
        },
        {
          "output_type": "stream",
          "name": "stderr",
          "text": [
            "Loss=0.9801132082939148 Batch_id=390  LR=0.09998 Accuracy=57.07: 100%|██████████| 391/391 [02:23<00:00,  2.73it/s]\n",
            "Loss=1.1294060945510864 Batch_id=99 LR=0.09998 Accuracy=62.72: 100%|██████████| 100/100 [00:08<00:00, 11.30it/s]\n"
          ]
        },
        {
          "output_type": "stream",
          "name": "stdout",
          "text": [
            "Saving..\n",
            "\n",
            "Epoch: 3\n"
          ]
        },
        {
          "output_type": "stream",
          "name": "stderr",
          "text": [
            "Loss=0.9999400973320007 Batch_id=390  LR=0.09994 Accuracy=65.17: 100%|██████████| 391/391 [02:23<00:00,  2.73it/s]\n",
            "Loss=1.1611448526382446 Batch_id=99 LR=0.09994 Accuracy=64.29: 100%|██████████| 100/100 [00:08<00:00, 11.31it/s]\n"
          ]
        },
        {
          "output_type": "stream",
          "name": "stdout",
          "text": [
            "Saving..\n",
            "\n",
            "Epoch: 4\n"
          ]
        },
        {
          "output_type": "stream",
          "name": "stderr",
          "text": [
            "Loss=0.7173115611076355 Batch_id=390  LR=0.09990 Accuracy=70.75: 100%|██████████| 391/391 [02:23<00:00,  2.73it/s]\n",
            "Loss=1.007441520690918 Batch_id=99 LR=0.09990 Accuracy=65.20: 100%|██████████| 100/100 [00:08<00:00, 11.30it/s]\n"
          ]
        },
        {
          "output_type": "stream",
          "name": "stdout",
          "text": [
            "Saving..\n",
            "\n",
            "Epoch: 5\n"
          ]
        },
        {
          "output_type": "stream",
          "name": "stderr",
          "text": [
            "Loss=0.8317079544067383 Batch_id=390  LR=0.09985 Accuracy=75.33: 100%|██████████| 391/391 [02:22<00:00,  2.73it/s]\n",
            "Loss=0.8096479773521423 Batch_id=99 LR=0.09985 Accuracy=74.95: 100%|██████████| 100/100 [00:08<00:00, 11.34it/s]\n"
          ]
        },
        {
          "output_type": "stream",
          "name": "stdout",
          "text": [
            "Saving..\n",
            "\n",
            "Epoch: 6\n"
          ]
        },
        {
          "output_type": "stream",
          "name": "stderr",
          "text": [
            "Loss=0.784713625907898 Batch_id=390  LR=0.09978 Accuracy=77.78: 100%|██████████| 391/391 [02:22<00:00,  2.74it/s]\n",
            "Loss=0.6997663378715515 Batch_id=99 LR=0.09978 Accuracy=76.90: 100%|██████████| 100/100 [00:08<00:00, 11.34it/s]\n"
          ]
        },
        {
          "output_type": "stream",
          "name": "stdout",
          "text": [
            "Saving..\n",
            "\n",
            "Epoch: 7\n"
          ]
        },
        {
          "output_type": "stream",
          "name": "stderr",
          "text": [
            "Loss=0.7346183657646179 Batch_id=390  LR=0.09970 Accuracy=79.91: 100%|██████████| 391/391 [02:23<00:00,  2.73it/s]\n",
            "Loss=0.8036746978759766 Batch_id=99 LR=0.09970 Accuracy=75.41: 100%|██████████| 100/100 [00:08<00:00, 11.33it/s]\n"
          ]
        },
        {
          "output_type": "stream",
          "name": "stdout",
          "text": [
            "\n",
            "Epoch: 8\n"
          ]
        },
        {
          "output_type": "stream",
          "name": "stderr",
          "text": [
            "Loss=0.45026835799217224 Batch_id=390  LR=0.09961 Accuracy=81.08: 100%|██████████| 391/391 [02:23<00:00,  2.73it/s]\n",
            "Loss=0.5803176760673523 Batch_id=99 LR=0.09961 Accuracy=81.12: 100%|██████████| 100/100 [00:08<00:00, 11.30it/s]\n"
          ]
        },
        {
          "output_type": "stream",
          "name": "stdout",
          "text": [
            "Saving..\n",
            "\n",
            "Epoch: 9\n"
          ]
        },
        {
          "output_type": "stream",
          "name": "stderr",
          "text": [
            "Loss=0.615038275718689 Batch_id=390  LR=0.09950 Accuracy=81.84: 100%|██████████| 391/391 [02:23<00:00,  2.73it/s]\n",
            "Loss=0.7829039096832275 Batch_id=99 LR=0.09950 Accuracy=76.61: 100%|██████████| 100/100 [00:08<00:00, 11.32it/s]\n"
          ]
        },
        {
          "output_type": "stream",
          "name": "stdout",
          "text": [
            "\n",
            "Epoch: 10\n"
          ]
        },
        {
          "output_type": "stream",
          "name": "stderr",
          "text": [
            "Loss=0.49417930841445923 Batch_id=390  LR=0.09938 Accuracy=82.56: 100%|██████████| 391/391 [02:22<00:00,  2.74it/s]\n",
            "Loss=0.4576350450515747 Batch_id=99 LR=0.09938 Accuracy=80.29: 100%|██████████| 100/100 [00:08<00:00, 11.26it/s]\n"
          ]
        },
        {
          "output_type": "stream",
          "name": "stdout",
          "text": [
            "\n",
            "Epoch: 11\n"
          ]
        },
        {
          "output_type": "stream",
          "name": "stderr",
          "text": [
            "Loss=0.6146243810653687 Batch_id=390  LR=0.09926 Accuracy=83.54: 100%|██████████| 391/391 [02:22<00:00,  2.74it/s]\n",
            "Loss=0.7042148113250732 Batch_id=99 LR=0.09926 Accuracy=78.49: 100%|██████████| 100/100 [00:08<00:00, 11.23it/s]\n"
          ]
        },
        {
          "output_type": "stream",
          "name": "stdout",
          "text": [
            "\n",
            "Epoch: 12\n"
          ]
        },
        {
          "output_type": "stream",
          "name": "stderr",
          "text": [
            "Loss=0.38654792308807373 Batch_id=390  LR=0.09911 Accuracy=83.93: 100%|██████████| 391/391 [02:22<00:00,  2.74it/s]\n",
            "Loss=0.5599842071533203 Batch_id=99 LR=0.09911 Accuracy=81.83: 100%|██████████| 100/100 [00:08<00:00, 11.32it/s]\n"
          ]
        },
        {
          "output_type": "stream",
          "name": "stdout",
          "text": [
            "Saving..\n",
            "\n",
            "Epoch: 13\n"
          ]
        },
        {
          "output_type": "stream",
          "name": "stderr",
          "text": [
            "Loss=0.37359970808029175 Batch_id=390  LR=0.09896 Accuracy=84.44: 100%|██████████| 391/391 [02:23<00:00,  2.73it/s]\n",
            "Loss=0.4873242974281311 Batch_id=99 LR=0.09896 Accuracy=79.31: 100%|██████████| 100/100 [00:08<00:00, 11.31it/s]\n"
          ]
        },
        {
          "output_type": "stream",
          "name": "stdout",
          "text": [
            "\n",
            "Epoch: 14\n"
          ]
        },
        {
          "output_type": "stream",
          "name": "stderr",
          "text": [
            "Loss=0.6663651466369629 Batch_id=390  LR=0.09880 Accuracy=85.04: 100%|██████████| 391/391 [02:23<00:00,  2.73it/s]\n",
            "Loss=0.9227311015129089 Batch_id=99 LR=0.09880 Accuracy=74.61: 100%|██████████| 100/100 [00:08<00:00, 11.33it/s]\n"
          ]
        },
        {
          "output_type": "stream",
          "name": "stdout",
          "text": [
            "\n",
            "Epoch: 15\n"
          ]
        },
        {
          "output_type": "stream",
          "name": "stderr",
          "text": [
            "Loss=0.47410982847213745 Batch_id=390  LR=0.09862 Accuracy=85.29: 100%|██████████| 391/391 [02:22<00:00,  2.74it/s]\n",
            "Loss=0.5545033812522888 Batch_id=99 LR=0.09862 Accuracy=82.11: 100%|██████████| 100/100 [00:08<00:00, 11.28it/s]\n"
          ]
        },
        {
          "output_type": "stream",
          "name": "stdout",
          "text": [
            "Saving..\n",
            "\n",
            "Epoch: 16\n"
          ]
        },
        {
          "output_type": "stream",
          "name": "stderr",
          "text": [
            "Loss=0.5211223363876343 Batch_id=390  LR=0.09843 Accuracy=85.43: 100%|██████████| 391/391 [02:23<00:00,  2.73it/s]\n",
            "Loss=0.5152594447135925 Batch_id=99 LR=0.09843 Accuracy=79.19: 100%|██████████| 100/100 [00:08<00:00, 11.28it/s]\n"
          ]
        },
        {
          "output_type": "stream",
          "name": "stdout",
          "text": [
            "\n",
            "Epoch: 17\n"
          ]
        },
        {
          "output_type": "stream",
          "name": "stderr",
          "text": [
            "Loss=0.4830412268638611 Batch_id=390  LR=0.09823 Accuracy=86.14: 100%|██████████| 391/391 [02:22<00:00,  2.73it/s]\n",
            "Loss=0.5180501937866211 Batch_id=99 LR=0.09823 Accuracy=83.52: 100%|██████████| 100/100 [00:08<00:00, 11.29it/s]\n"
          ]
        },
        {
          "output_type": "stream",
          "name": "stdout",
          "text": [
            "Saving..\n",
            "\n",
            "Epoch: 18\n"
          ]
        },
        {
          "output_type": "stream",
          "name": "stderr",
          "text": [
            "Loss=0.4320986866950989 Batch_id=390  LR=0.09801 Accuracy=86.27: 100%|██████████| 391/391 [02:23<00:00,  2.73it/s]\n",
            "Loss=0.4483875036239624 Batch_id=99 LR=0.09801 Accuracy=76.91: 100%|██████████| 100/100 [00:08<00:00, 11.33it/s]\n"
          ]
        },
        {
          "output_type": "stream",
          "name": "stdout",
          "text": [
            "\n",
            "Epoch: 19\n"
          ]
        },
        {
          "output_type": "stream",
          "name": "stderr",
          "text": [
            "Loss=0.326930433511734 Batch_id=390  LR=0.09779 Accuracy=86.34: 100%|██████████| 391/391 [02:23<00:00,  2.73it/s]\n",
            "Loss=0.46663105487823486 Batch_id=99 LR=0.09779 Accuracy=82.95: 100%|██████████| 100/100 [00:08<00:00, 11.31it/s]\n"
          ]
        }
      ]
    }
  ]
}