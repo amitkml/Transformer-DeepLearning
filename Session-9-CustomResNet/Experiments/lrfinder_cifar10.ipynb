{
  "nbformat": 4,
  "nbformat_minor": 0,
  "metadata": {
    "kernelspec": {
      "name": "python3",
      "display_name": "Python 3"
    },
    "colab": {
      "name": "lrfinder_cifar10.ipynb",
      "provenance": [],
      "collapsed_sections": []
    },
    "language_info": {
      "name": "python"
    },
    "accelerator": "GPU",
    "widgets": {
      "application/vnd.jupyter.widget-state+json": {
        "517c85458a99420dbb69e1afd8db2aa3": {
          "model_module": "@jupyter-widgets/controls",
          "model_name": "HBoxModel",
          "model_module_version": "1.5.0",
          "state": {
            "_view_name": "HBoxView",
            "_dom_classes": [],
            "_model_name": "HBoxModel",
            "_view_module": "@jupyter-widgets/controls",
            "_model_module_version": "1.5.0",
            "_view_count": null,
            "_view_module_version": "1.5.0",
            "box_style": "",
            "layout": "IPY_MODEL_715208665a5442dd830a4aeaeef8e383",
            "_model_module": "@jupyter-widgets/controls",
            "children": [
              "IPY_MODEL_af110a95c2004af195770668e12fb539",
              "IPY_MODEL_12acefd0ef184cdc9d143f9435af5410",
              "IPY_MODEL_517012d4c06a4aa7ab358a07588a584e"
            ]
          }
        },
        "715208665a5442dd830a4aeaeef8e383": {
          "model_module": "@jupyter-widgets/base",
          "model_name": "LayoutModel",
          "model_module_version": "1.2.0",
          "state": {
            "_view_name": "LayoutView",
            "grid_template_rows": null,
            "right": null,
            "justify_content": null,
            "_view_module": "@jupyter-widgets/base",
            "overflow": null,
            "_model_module_version": "1.2.0",
            "_view_count": null,
            "flex_flow": null,
            "width": null,
            "min_width": null,
            "border": null,
            "align_items": null,
            "bottom": null,
            "_model_module": "@jupyter-widgets/base",
            "top": null,
            "grid_column": null,
            "overflow_y": null,
            "overflow_x": null,
            "grid_auto_flow": null,
            "grid_area": null,
            "grid_template_columns": null,
            "flex": null,
            "_model_name": "LayoutModel",
            "justify_items": null,
            "grid_row": null,
            "max_height": null,
            "align_content": null,
            "visibility": null,
            "align_self": null,
            "height": null,
            "min_height": null,
            "padding": null,
            "grid_auto_rows": null,
            "grid_gap": null,
            "max_width": null,
            "order": null,
            "_view_module_version": "1.2.0",
            "grid_template_areas": null,
            "object_position": null,
            "object_fit": null,
            "grid_auto_columns": null,
            "margin": null,
            "display": null,
            "left": null
          }
        },
        "af110a95c2004af195770668e12fb539": {
          "model_module": "@jupyter-widgets/controls",
          "model_name": "HTMLModel",
          "model_module_version": "1.5.0",
          "state": {
            "_view_name": "HTMLView",
            "style": "IPY_MODEL_14108a9f254c46778cffd888100aa5a2",
            "_dom_classes": [],
            "description": "",
            "_model_name": "HTMLModel",
            "placeholder": "​",
            "_view_module": "@jupyter-widgets/controls",
            "_model_module_version": "1.5.0",
            "value": " 84%",
            "_view_count": null,
            "_view_module_version": "1.5.0",
            "description_tooltip": null,
            "_model_module": "@jupyter-widgets/controls",
            "layout": "IPY_MODEL_9ff63c7f608e4eea81b4c70b3b0e73cb"
          }
        },
        "12acefd0ef184cdc9d143f9435af5410": {
          "model_module": "@jupyter-widgets/controls",
          "model_name": "FloatProgressModel",
          "model_module_version": "1.5.0",
          "state": {
            "_view_name": "ProgressView",
            "style": "IPY_MODEL_2bbface1e40140d39e66e64390747f20",
            "_dom_classes": [],
            "description": "",
            "_model_name": "FloatProgressModel",
            "bar_style": "danger",
            "max": 100,
            "_view_module": "@jupyter-widgets/controls",
            "_model_module_version": "1.5.0",
            "value": 84,
            "_view_count": null,
            "_view_module_version": "1.5.0",
            "orientation": "horizontal",
            "min": 0,
            "description_tooltip": null,
            "_model_module": "@jupyter-widgets/controls",
            "layout": "IPY_MODEL_b34c0fd730124974adacf8424b82b556"
          }
        },
        "517012d4c06a4aa7ab358a07588a584e": {
          "model_module": "@jupyter-widgets/controls",
          "model_name": "HTMLModel",
          "model_module_version": "1.5.0",
          "state": {
            "_view_name": "HTMLView",
            "style": "IPY_MODEL_51cba23196124e13a6e2a9692ac53198",
            "_dom_classes": [],
            "description": "",
            "_model_name": "HTMLModel",
            "placeholder": "​",
            "_view_module": "@jupyter-widgets/controls",
            "_model_module_version": "1.5.0",
            "value": " 84/100 [00:44&lt;00:08,  1.94it/s]",
            "_view_count": null,
            "_view_module_version": "1.5.0",
            "description_tooltip": null,
            "_model_module": "@jupyter-widgets/controls",
            "layout": "IPY_MODEL_267b28ad836f46ac8ac81c8985584e32"
          }
        },
        "14108a9f254c46778cffd888100aa5a2": {
          "model_module": "@jupyter-widgets/controls",
          "model_name": "DescriptionStyleModel",
          "model_module_version": "1.5.0",
          "state": {
            "_view_name": "StyleView",
            "_model_name": "DescriptionStyleModel",
            "description_width": "",
            "_view_module": "@jupyter-widgets/base",
            "_model_module_version": "1.5.0",
            "_view_count": null,
            "_view_module_version": "1.2.0",
            "_model_module": "@jupyter-widgets/controls"
          }
        },
        "9ff63c7f608e4eea81b4c70b3b0e73cb": {
          "model_module": "@jupyter-widgets/base",
          "model_name": "LayoutModel",
          "model_module_version": "1.2.0",
          "state": {
            "_view_name": "LayoutView",
            "grid_template_rows": null,
            "right": null,
            "justify_content": null,
            "_view_module": "@jupyter-widgets/base",
            "overflow": null,
            "_model_module_version": "1.2.0",
            "_view_count": null,
            "flex_flow": null,
            "width": null,
            "min_width": null,
            "border": null,
            "align_items": null,
            "bottom": null,
            "_model_module": "@jupyter-widgets/base",
            "top": null,
            "grid_column": null,
            "overflow_y": null,
            "overflow_x": null,
            "grid_auto_flow": null,
            "grid_area": null,
            "grid_template_columns": null,
            "flex": null,
            "_model_name": "LayoutModel",
            "justify_items": null,
            "grid_row": null,
            "max_height": null,
            "align_content": null,
            "visibility": null,
            "align_self": null,
            "height": null,
            "min_height": null,
            "padding": null,
            "grid_auto_rows": null,
            "grid_gap": null,
            "max_width": null,
            "order": null,
            "_view_module_version": "1.2.0",
            "grid_template_areas": null,
            "object_position": null,
            "object_fit": null,
            "grid_auto_columns": null,
            "margin": null,
            "display": null,
            "left": null
          }
        },
        "2bbface1e40140d39e66e64390747f20": {
          "model_module": "@jupyter-widgets/controls",
          "model_name": "ProgressStyleModel",
          "model_module_version": "1.5.0",
          "state": {
            "_view_name": "StyleView",
            "_model_name": "ProgressStyleModel",
            "description_width": "",
            "_view_module": "@jupyter-widgets/base",
            "_model_module_version": "1.5.0",
            "_view_count": null,
            "_view_module_version": "1.2.0",
            "bar_color": null,
            "_model_module": "@jupyter-widgets/controls"
          }
        },
        "b34c0fd730124974adacf8424b82b556": {
          "model_module": "@jupyter-widgets/base",
          "model_name": "LayoutModel",
          "model_module_version": "1.2.0",
          "state": {
            "_view_name": "LayoutView",
            "grid_template_rows": null,
            "right": null,
            "justify_content": null,
            "_view_module": "@jupyter-widgets/base",
            "overflow": null,
            "_model_module_version": "1.2.0",
            "_view_count": null,
            "flex_flow": null,
            "width": null,
            "min_width": null,
            "border": null,
            "align_items": null,
            "bottom": null,
            "_model_module": "@jupyter-widgets/base",
            "top": null,
            "grid_column": null,
            "overflow_y": null,
            "overflow_x": null,
            "grid_auto_flow": null,
            "grid_area": null,
            "grid_template_columns": null,
            "flex": null,
            "_model_name": "LayoutModel",
            "justify_items": null,
            "grid_row": null,
            "max_height": null,
            "align_content": null,
            "visibility": null,
            "align_self": null,
            "height": null,
            "min_height": null,
            "padding": null,
            "grid_auto_rows": null,
            "grid_gap": null,
            "max_width": null,
            "order": null,
            "_view_module_version": "1.2.0",
            "grid_template_areas": null,
            "object_position": null,
            "object_fit": null,
            "grid_auto_columns": null,
            "margin": null,
            "display": null,
            "left": null
          }
        },
        "51cba23196124e13a6e2a9692ac53198": {
          "model_module": "@jupyter-widgets/controls",
          "model_name": "DescriptionStyleModel",
          "model_module_version": "1.5.0",
          "state": {
            "_view_name": "StyleView",
            "_model_name": "DescriptionStyleModel",
            "description_width": "",
            "_view_module": "@jupyter-widgets/base",
            "_model_module_version": "1.5.0",
            "_view_count": null,
            "_view_module_version": "1.2.0",
            "_model_module": "@jupyter-widgets/controls"
          }
        },
        "267b28ad836f46ac8ac81c8985584e32": {
          "model_module": "@jupyter-widgets/base",
          "model_name": "LayoutModel",
          "model_module_version": "1.2.0",
          "state": {
            "_view_name": "LayoutView",
            "grid_template_rows": null,
            "right": null,
            "justify_content": null,
            "_view_module": "@jupyter-widgets/base",
            "overflow": null,
            "_model_module_version": "1.2.0",
            "_view_count": null,
            "flex_flow": null,
            "width": null,
            "min_width": null,
            "border": null,
            "align_items": null,
            "bottom": null,
            "_model_module": "@jupyter-widgets/base",
            "top": null,
            "grid_column": null,
            "overflow_y": null,
            "overflow_x": null,
            "grid_auto_flow": null,
            "grid_area": null,
            "grid_template_columns": null,
            "flex": null,
            "_model_name": "LayoutModel",
            "justify_items": null,
            "grid_row": null,
            "max_height": null,
            "align_content": null,
            "visibility": null,
            "align_self": null,
            "height": null,
            "min_height": null,
            "padding": null,
            "grid_auto_rows": null,
            "grid_gap": null,
            "max_width": null,
            "order": null,
            "_view_module_version": "1.2.0",
            "grid_template_areas": null,
            "object_position": null,
            "object_fit": null,
            "grid_auto_columns": null,
            "margin": null,
            "display": null,
            "left": null
          }
        }
      }
    }
  },
  "cells": [
    {
      "cell_type": "markdown",
      "metadata": {
        "id": "zFGRDSplN7nU"
      },
      "source": [
        "# CIFAR10 example with ResNet56\n",
        "\n",
        "This example demonstrates the usage of `LRFinder` with a ResNet56 on the Cifar10 dataset."
      ]
    },
    {
      "cell_type": "code",
      "metadata": {
        "id": "hOLtH-J9P1t4"
      },
      "source": [
        "import os"
      ],
      "execution_count": 18,
      "outputs": []
    },
    {
      "cell_type": "code",
      "metadata": {
        "id": "B-1lLqOBOe6o"
      },
      "source": [
        "os.system('pip install torch-lr-finder')\n",
        "from torch_lr_finder import LRFinder"
      ],
      "execution_count": 19,
      "outputs": []
    },
    {
      "cell_type": "code",
      "metadata": {
        "id": "rxOxLHkeOwQT"
      },
      "source": [
        "import torch.nn as nn\n",
        "\n",
        "\n",
        "__all__ = [\"Cifar10ResNet\", \"resnet20\", \"resnet32\", \"resnet44\", \"resnet56\", \"resnet101\"]\n",
        "\n",
        "\n",
        "def conv3x3(in_planes, out_planes, stride=1):\n",
        "    \"\"\"3x3 convolution with padding\"\"\"\n",
        "    return nn.Conv2d(\n",
        "        in_planes, out_planes, kernel_size=3, stride=stride, padding=1, bias=False\n",
        "    )\n",
        "\n",
        "\n",
        "def conv1x1(in_planes, out_planes, stride=1):\n",
        "    \"\"\"1x1 convolution\"\"\"\n",
        "    return nn.Conv2d(in_planes, out_planes, kernel_size=1, stride=stride, bias=False)\n",
        "\n",
        "\n",
        "class BasicBlock(nn.Module):\n",
        "    expansion = 1\n",
        "\n",
        "    def __init__(self, inplanes, planes, stride=1, downsample=None):\n",
        "        super(BasicBlock, self).__init__()\n",
        "        self.conv1 = conv3x3(inplanes, planes, stride)\n",
        "        self.bn1 = nn.BatchNorm2d(planes)\n",
        "        self.relu = nn.ReLU(inplace=True)\n",
        "        self.conv2 = conv3x3(planes, planes)\n",
        "        self.bn2 = nn.BatchNorm2d(planes)\n",
        "        self.downsample = downsample\n",
        "        self.stride = stride\n",
        "\n",
        "    def forward(self, x):\n",
        "        residual = x\n",
        "\n",
        "        out = self.conv1(x)\n",
        "        out = self.bn1(out)\n",
        "        out = self.relu(out)\n",
        "\n",
        "        out = self.conv2(out)\n",
        "        out = self.bn2(out)\n",
        "\n",
        "        if self.downsample is not None:\n",
        "            residual = self.downsample(x)\n",
        "\n",
        "        out += residual\n",
        "        out = self.relu(out)\n",
        "\n",
        "        return out\n",
        "\n",
        "\n",
        "class Cifar10ResNet(nn.Module):\n",
        "    def __init__(self, block, layers, num_classes=10, ch_width=2):\n",
        "        super(Cifar10ResNet, self).__init__()\n",
        "        width = [16, 16 * ch_width, 16 * ch_width * ch_width]\n",
        "        self.inplanes = 16\n",
        "        self.conv1 = nn.Conv2d(\n",
        "            3, width[0], kernel_size=3, stride=1, padding=1, bias=False\n",
        "        )\n",
        "        self.bn1 = nn.BatchNorm2d(width[0])\n",
        "        self.relu = nn.ReLU(inplace=True)\n",
        "        self.layer1 = self._make_layer(block, width[0], layers[0])\n",
        "        self.layer2 = self._make_layer(block, width[1], layers[1], stride=2)\n",
        "        self.layer3 = self._make_layer(block, width[2], layers[2], stride=2)\n",
        "        self.avgpool = nn.AdaptiveAvgPool2d((1, 1))\n",
        "        self.fc = nn.Linear(width[2] * block.expansion, num_classes)\n",
        "\n",
        "        for m in self.modules():\n",
        "            if isinstance(m, nn.Conv2d):\n",
        "                nn.init.kaiming_normal_(m.weight, mode=\"fan_out\", nonlinearity=\"relu\")\n",
        "            elif isinstance(m, nn.BatchNorm2d):\n",
        "                nn.init.constant_(m.weight, 1)\n",
        "                nn.init.constant_(m.bias, 0)\n",
        "\n",
        "    def _make_layer(self, block, planes, blocks, stride=1):\n",
        "        downsample = None\n",
        "        if stride != 1 or self.inplanes != planes * block.expansion:\n",
        "            downsample = nn.Sequential(\n",
        "                conv1x1(self.inplanes, planes * block.expansion, stride),\n",
        "                nn.BatchNorm2d(planes * block.expansion),\n",
        "            )\n",
        "\n",
        "        layers = []\n",
        "        layers.append(block(self.inplanes, planes, stride, downsample))\n",
        "        self.inplanes = planes * block.expansion\n",
        "        for _ in range(1, blocks):\n",
        "            layers.append(block(self.inplanes, planes))\n",
        "\n",
        "        return nn.Sequential(*layers)\n",
        "\n",
        "    def forward(self, x):\n",
        "        x = self.conv1(x)\n",
        "        x = self.bn1(x)\n",
        "        x = self.relu(x)\n",
        "\n",
        "        x = self.layer1(x)\n",
        "        x = self.layer2(x)\n",
        "        x = self.layer3(x)\n",
        "\n",
        "        x = self.avgpool(x)\n",
        "        x = x.view(x.size(0), -1)\n",
        "        x = self.fc(x)\n",
        "\n",
        "        return x\n",
        "\n",
        "\n",
        "def resnet20(num_classes=10, ch_width=2):\n",
        "    \"\"\"Constructs a ResNet-20 model.\n",
        "    \"\"\"\n",
        "    return Cifar10ResNet(\n",
        "        BasicBlock, [3, 3, 3], num_classes=num_classes, ch_width=ch_width\n",
        "    )\n",
        "\n",
        "\n",
        "def resnet32(num_classes=10, ch_width=2):\n",
        "    \"\"\"Constructs a ResNet-32 model.\n",
        "    \"\"\"\n",
        "    return Cifar10ResNet(\n",
        "        BasicBlock, [5, 5, 5], num_classes=num_classes, ch_width=ch_width\n",
        "    )\n",
        "\n",
        "\n",
        "def resnet44(num_classes=10, ch_width=2):\n",
        "    \"\"\"Constructs a ResNet-44 model.\n",
        "    \"\"\"\n",
        "    return Cifar10ResNet(\n",
        "        BasicBlock, [7, 7, 7], num_classes=num_classes, ch_width=ch_width\n",
        "    )\n",
        "\n",
        "\n",
        "def resnet56(num_classes=10, ch_width=2):\n",
        "    \"\"\"Constructs a ResNet-56 model.\n",
        "    \"\"\"\n",
        "    return Cifar10ResNet(\n",
        "        BasicBlock, [9, 9, 9], num_classes=num_classes, ch_width=ch_width\n",
        "    )\n",
        "\n",
        "\n",
        "def resnet101(num_classes=10, ch_width=2):\n",
        "    \"\"\"Constructs a ResNet-101 model.\n",
        "    \"\"\"\n",
        "    return Cifar10ResNet(\n",
        "        BasicBlock, [18, 18, 18], num_classes=num_classes, ch_width=ch_width\n",
        "    )"
      ],
      "execution_count": 20,
      "outputs": []
    },
    {
      "cell_type": "code",
      "metadata": {
        "id": "Ef9PyMOlN7nm"
      },
      "source": [
        "%matplotlib inline\n",
        "\n",
        "import torch.nn as nn\n",
        "import torch.optim as optim\n",
        "import torchvision.transforms as transforms\n",
        "from torch.utils.data import DataLoader\n",
        "from torchvision.datasets import CIFAR10\n",
        "# import cifar10_resnet as rc10\n",
        "from torch_lr_finder import LRFinder\n"
      ],
      "execution_count": 21,
      "outputs": []
    },
    {
      "cell_type": "markdown",
      "metadata": {
        "id": "iwMTQj3nN7n0"
      },
      "source": [
        "## Loading CIFAR10"
      ]
    },
    {
      "cell_type": "code",
      "metadata": {
        "id": "NaBgSjCDN7n6"
      },
      "source": [
        "cifar_pwd = \"../data\"\n",
        "batch_size= 256"
      ],
      "execution_count": 22,
      "outputs": []
    },
    {
      "cell_type": "code",
      "metadata": {
        "id": "_4k2k_OMN7n-",
        "colab": {
          "base_uri": "https://localhost:8080/"
        },
        "outputId": "380e2274-b295-475a-9114-d902ffd30342"
      },
      "source": [
        "transform = transforms.Compose([transforms.ToTensor(), transforms.Normalize((0.5, 0.5, 0.5), (0.5, 0.5, 0.5))])\n",
        "\n",
        "trainset = CIFAR10(root=cifar_pwd, train=True, download=True, transform=transform)\n",
        "trainloader = DataLoader(trainset, batch_size=batch_size, shuffle=True, num_workers=0)\n",
        "\n",
        "testset = CIFAR10(root=cifar_pwd, train=False, download=True, transform=transform)\n",
        "testloader = DataLoader(testset, batch_size=batch_size * 2, shuffle=False, num_workers=0)"
      ],
      "execution_count": 23,
      "outputs": [
        {
          "output_type": "stream",
          "name": "stdout",
          "text": [
            "Files already downloaded and verified\n",
            "Files already downloaded and verified\n"
          ]
        }
      ]
    },
    {
      "cell_type": "markdown",
      "metadata": {
        "id": "3Md5fULlN7oB"
      },
      "source": [
        "## Model"
      ]
    },
    {
      "cell_type": "code",
      "metadata": {
        "id": "NXYEp70qN7oG"
      },
      "source": [
        "model = resnet56()"
      ],
      "execution_count": 24,
      "outputs": []
    },
    {
      "cell_type": "markdown",
      "metadata": {
        "id": "3XfkUSeLN7oW"
      },
      "source": [
        "## Training loss (fastai)\n",
        "\n",
        "This learning rate test range follows the same procedure used by fastai. The model is trained for `num_iter` iterations while the learning rate is increased from its initial value specified by the optimizer algorithm to `end_lr`. The increase can be linear (`step_mode=\"linear\"`) or exponential (`step_mode=\"exp\"`); linear provides good results for small ranges while exponential is recommended for larger ranges."
      ]
    },
    {
      "cell_type": "code",
      "metadata": {
        "id": "gxZoMMTgN7of",
        "colab": {
          "base_uri": "https://localhost:8080/",
          "height": 85,
          "referenced_widgets": [
            "517c85458a99420dbb69e1afd8db2aa3",
            "715208665a5442dd830a4aeaeef8e383",
            "af110a95c2004af195770668e12fb539",
            "12acefd0ef184cdc9d143f9435af5410",
            "517012d4c06a4aa7ab358a07588a584e",
            "14108a9f254c46778cffd888100aa5a2",
            "9ff63c7f608e4eea81b4c70b3b0e73cb",
            "2bbface1e40140d39e66e64390747f20",
            "b34c0fd730124974adacf8424b82b556",
            "51cba23196124e13a6e2a9692ac53198",
            "267b28ad836f46ac8ac81c8985584e32"
          ]
        },
        "outputId": "32f12b9c-111d-4f8d-a7b3-8c006f0b761d"
      },
      "source": [
        "criterion = nn.CrossEntropyLoss()\n",
        "optimizer = optim.Adam(model.parameters(), lr=1e-7, weight_decay=1e-2)\n",
        "lr_finder = LRFinder(model, optimizer, criterion, device=\"cuda\")\n",
        "lr_finder.range_test(trainloader, end_lr=100, num_iter=100, step_mode=\"exp\")"
      ],
      "execution_count": 25,
      "outputs": [
        {
          "output_type": "display_data",
          "data": {
            "application/vnd.jupyter.widget-view+json": {
              "model_id": "517c85458a99420dbb69e1afd8db2aa3",
              "version_minor": 0,
              "version_major": 2
            },
            "text/plain": [
              "  0%|          | 0/100 [00:00<?, ?it/s]"
            ]
          },
          "metadata": {}
        },
        {
          "output_type": "stream",
          "name": "stdout",
          "text": [
            "Stopping early, the loss has diverged\n",
            "Learning rate search finished. See the graph with {finder_name}.plot()\n"
          ]
        }
      ]
    },
    {
      "cell_type": "markdown",
      "metadata": {
        "id": "yEiIfNGfN7ou"
      },
      "source": [
        "Note that the loss in the loss vs. learning rate plot is the **training** loss."
      ]
    },
    {
      "cell_type": "code",
      "metadata": {
        "scrolled": false,
        "id": "lmj-s5FzN7ox",
        "colab": {
          "base_uri": "https://localhost:8080/",
          "height": 356
        },
        "outputId": "65dc4f0e-5d17-44e7-8e34-1adb0176eb0e"
      },
      "source": [
        "lr_finder.plot()"
      ],
      "execution_count": 26,
      "outputs": [
        {
          "output_type": "stream",
          "name": "stdout",
          "text": [
            "LR suggestion: steepest gradient\n",
            "Suggested LR: 1.00E-03\n"
          ]
        },
        {
          "output_type": "display_data",
          "data": {
            "image/png": "[encoded data removed]",
            "text/plain": [
              "<Figure size 432x288 with 1 Axes>"
            ]
          },
          "metadata": {
            "needs_background": "light"
          }
        },
        {
          "output_type": "execute_result",
          "data": {
            "text/plain": [
              "(<matplotlib.axes._subplots.AxesSubplot at 0x7f866671c150>,\n",
              " 0.0009999999999999994)"
            ]
          },
          "metadata": {},
          "execution_count": 26
        }
      ]
    },
    {
      "cell_type": "code",
      "metadata": {
        "colab": {
          "base_uri": "https://localhost:8080/"
        },
        "id": "qzgY4k7kVBJq",
        "outputId": "d2b2c529-9f0b-4eaa-d964-f5c90f54e958"
      },
      "source": [
        "lr_finder.history['lr'][lr_finder.history['loss'].index(lr_finder.best_loss)]"
      ],
      "execution_count": 28,
      "outputs": [
        {
          "output_type": "execute_result",
          "data": {
            "text/plain": [
              "0.3511191734215133"
            ]
          },
          "metadata": {},
          "execution_count": 28
        }
      ]
    },
    {
      "cell_type": "code",
      "metadata": {
        "id": "-Emr_Jijr8qY"
      },
      "source": [
        "# loss = [lr_finder.history['loss']\n",
        "# lr = [lr_finder.history['loss']\n",
        "# value = 0\n",
        "# initial_value = 0\n",
        "# first_record = True\n",
        "# start\n",
        "# starting\n",
        "# for value in loss:\n",
        "#   if first_record:\n",
        "#     initial_value = value\n",
        "#     first_record = False\n",
        "#   else:\n",
        "#     if value < initial_value:\n",
        "\n",
        "#   if value > initial_value:\n",
        "    \n"
      ],
      "execution_count": null,
      "outputs": []
    },
    {
      "cell_type": "code",
      "metadata": {
        "colab": {
          "base_uri": "https://localhost:8080/"
        },
        "id": "xHSpkDxfqgFg",
        "outputId": "39a66ffc-ee8d-4be0-ce0c-5b1884b35a7b"
      },
      "source": [
        "lr_finder.history['loss']"
      ],
      "execution_count": 78,
      "outputs": [
        {
          "output_type": "execute_result",
          "data": {
            "text/plain": [
              "[3.1798477172851562,\n",
              " 3.1784368991851806,\n",
              " 3.1856140184402464,\n",
              " 3.1866610739231107,\n",
              " 3.190772682321071,\n",
              " 3.1879642828279726,\n",
              " 3.1952443781271866,\n",
              " 3.193056085669649,\n",
              " 3.1951687018230257,\n",
              " 3.199441510056154,\n",
              " 3.194943835073671,\n",
              " 3.1958933882388103,\n",
              " 3.1998566510129964,\n",
              " 3.2093165214614614,\n",
              " 3.216863219039511,\n",
              " 3.2167235740940052,\n",
              " 3.21130246544622,\n",
              " 3.2158972232888687,\n",
              " 3.209947635619146,\n",
              " 3.2064902895628284,\n",
              " 3.2100237000228886,\n",
              " 3.212153537951889,\n",
              " 3.211340525437229,\n",
              " 3.2263833738907093,\n",
              " 3.221509541538032,\n",
              " 3.2148276420368136,\n",
              " 3.2206797519660704,\n",
              " 3.2139611764122917,\n",
              " 3.214797748843966,\n",
              " 3.2138289342663,\n",
              " 3.212881285332068,\n",
              " 3.2069027507934003,\n",
              " 3.207413323760169,\n",
              " 3.2045381681503162,\n",
              " 3.1960455760918296,\n",
              " 3.184205867477668,\n",
              " 3.175880548106622,\n",
              " 3.1585942535694853,\n",
              " 3.14064235365804,\n",
              " 3.1186596267679842,\n",
              " 3.091128568609211,\n",
              " 3.064442521057199,\n",
              " 3.0362241500969596,\n",
              " 3.00803218907496,\n",
              " 2.974474625737087,\n",
              " 2.9453485082617252,\n",
              " 2.9133726425448363,\n",
              " 2.883449638297691,\n",
              " 2.8593209705650877,\n",
              " 2.8319750106141037,\n",
              " 2.8036448262149904,\n",
              " 2.7814090785298813,\n",
              " 2.7620915561982358,\n",
              " 2.733355970240131,\n",
              " 2.7059358919696708,\n",
              " 2.6817837115908527,\n",
              " 2.6613869765346863,\n",
              " 2.6340687606730397,\n",
              " 2.6175477223891437,\n",
              " 2.5940413089030483,\n",
              " 2.5700238218766276,\n",
              " 2.548043617339803,\n",
              " 2.5351004384907876,\n",
              " 2.5236938271726324,\n",
              " 2.5068688889458675,\n",
              " 2.484881603231942,\n",
              " 2.4641193999204725,\n",
              " 2.446192386814555,\n",
              " 2.4295848815790517,\n",
              " 2.4175329107735672,\n",
              " 2.4015863799809827,\n",
              " 2.396696887470428,\n",
              " 2.3925082027458022,\n",
              " 2.3951862546370157,\n",
              " 2.4007551370002274,\n",
              " 2.4816812349399497,\n",
              " 2.532712937334035,\n",
              " 2.5530968317309135,\n",
              " 2.584591207749958,\n",
              " 2.632578868622531,\n",
              " 2.7021963298392313,\n",
              " 2.8290624454685465,\n",
              " 3.297333558729787,\n",
              " 5.409297172541344,\n",
              " 16.939297706980682]"
            ]
          },
          "metadata": {},
          "execution_count": 78
        }
      ]
    },
    {
      "cell_type": "markdown",
      "metadata": {
        "id": "_NkvNv0GiYgB"
      },
      "source": [
        "**the author advises the point at which the loss starts descending and the point at which the loss stops descending or becomes ragged for start_lr and end_lr** "
      ]
    },
    {
      "cell_type": "code",
      "metadata": {
        "id": "4a21Id54h6kX"
      },
      "source": [
        "import pandas as pd \n",
        "# Calling DataFrame constructor on list\n",
        "lr_finder_data_df = pd.DataFrame(list(zip(lr_finder.history['lr'], lr_finder.history['loss'])))\n",
        "lr_finder_data_df.columns =['ls', 'loss']"
      ],
      "execution_count": 76,
      "outputs": []
    },
    {
      "cell_type": "code",
      "metadata": {
        "colab": {
          "base_uri": "https://localhost:8080/",
          "height": 206
        },
        "id": "-vrgpoJCoyBF",
        "outputId": "c9e125af-935b-42e5-9058-28d4e6023917"
      },
      "source": [
        "lr_finder_data_df.head()"
      ],
      "execution_count": 77,
      "outputs": [
        {
          "output_type": "execute_result",
          "data": {
            "text/html": [
              "<div>\n",
              "<style scoped>\n",
              "    .dataframe tbody tr th:only-of-type {\n",
              "        vertical-align: middle;\n",
              "    }\n",
              "\n",
              "    .dataframe tbody tr th {\n",
              "        vertical-align: top;\n",
              "    }\n",
              "\n",
              "    .dataframe thead th {\n",
              "        text-align: right;\n",
              "    }\n",
              "</style>\n",
              "<table border=\"1\" class=\"dataframe\">\n",
              "  <thead>\n",
              "    <tr style=\"text-align: right;\">\n",
              "      <th></th>\n",
              "      <th>ls</th>\n",
              "      <th>loss</th>\n",
              "    </tr>\n",
              "  </thead>\n",
              "  <tbody>\n",
              "    <tr>\n",
              "      <th>0</th>\n",
              "      <td>1.000000e-07</td>\n",
              "      <td>3.179848</td>\n",
              "    </tr>\n",
              "    <tr>\n",
              "      <th>1</th>\n",
              "      <td>1.232847e-07</td>\n",
              "      <td>3.178437</td>\n",
              "    </tr>\n",
              "    <tr>\n",
              "      <th>2</th>\n",
              "      <td>1.519911e-07</td>\n",
              "      <td>3.185614</td>\n",
              "    </tr>\n",
              "    <tr>\n",
              "      <th>3</th>\n",
              "      <td>1.873817e-07</td>\n",
              "      <td>3.186661</td>\n",
              "    </tr>\n",
              "    <tr>\n",
              "      <th>4</th>\n",
              "      <td>2.310130e-07</td>\n",
              "      <td>3.190773</td>\n",
              "    </tr>\n",
              "  </tbody>\n",
              "</table>\n",
              "</div>"
            ],
            "text/plain": [
              "             ls      loss\n",
              "0  1.000000e-07  3.179848\n",
              "1  1.232847e-07  3.178437\n",
              "2  1.519911e-07  3.185614\n",
              "3  1.873817e-07  3.186661\n",
              "4  2.310130e-07  3.190773"
            ]
          },
          "metadata": {},
          "execution_count": 77
        }
      ]
    },
    {
      "cell_type": "markdown",
      "metadata": {
        "id": "dZ1GcmDzN7oz"
      },
      "source": [
        "To restore the model and optimizer to their initial state use the `reset()` method."
      ]
    },
    {
      "cell_type": "code",
      "metadata": {
        "id": "YfRsPuokN7o6"
      },
      "source": [
        "lr_finder.reset()"
      ],
      "execution_count": null,
      "outputs": []
    },
    {
      "cell_type": "code",
      "metadata": {
        "colab": {
          "base_uri": "https://localhost:8080/"
        },
        "id": "18EDY0a_U-cf",
        "outputId": "25d7b707-fe16-4bde-a51c-18f47951e62d"
      },
      "source": [
        "lr_finder.history['lr']"
      ],
      "execution_count": 15,
      "outputs": [
        {
          "output_type": "execute_result",
          "data": {
            "text/plain": [
              "[]"
            ]
          },
          "metadata": {},
          "execution_count": 15
        }
      ]
    },
    {
      "cell_type": "code",
      "metadata": {
        "colab": {
          "base_uri": "https://localhost:8080/",
          "height": 171
        },
        "id": "awjucn40UWmI",
        "outputId": "56a76902-a737-4276-ea8a-29a97c3b4f65"
      },
      "source": [
        ""
      ],
      "execution_count": 14,
      "outputs": [
        {
          "output_type": "error",
          "ename": "ValueError",
          "evalue": "ignored",
          "traceback": [
            "\u001b[0;31m---------------------------------------------------------------------------\u001b[0m",
            "\u001b[0;31mValueError\u001b[0m                                Traceback (most recent call last)",
            "\u001b[0;32m<ipython-input-14-3abb902e0c92>\u001b[0m in \u001b[0;36m<module>\u001b[0;34m()\u001b[0m\n\u001b[0;32m----> 1\u001b[0;31m \u001b[0mlr_finder\u001b[0m\u001b[0;34m.\u001b[0m\u001b[0mhistory\u001b[0m\u001b[0;34m[\u001b[0m\u001b[0;34m'lr'\u001b[0m\u001b[0;34m]\u001b[0m\u001b[0;34m[\u001b[0m\u001b[0mlr_finder\u001b[0m\u001b[0;34m.\u001b[0m\u001b[0mhistory\u001b[0m\u001b[0;34m[\u001b[0m\u001b[0;34m'loss'\u001b[0m\u001b[0;34m]\u001b[0m\u001b[0;34m.\u001b[0m\u001b[0mindex\u001b[0m\u001b[0;34m(\u001b[0m\u001b[0mlr_finder\u001b[0m\u001b[0;34m.\u001b[0m\u001b[0mbest_loss\u001b[0m\u001b[0;34m)\u001b[0m\u001b[0;34m]\u001b[0m\u001b[0;34m\u001b[0m\u001b[0;34m\u001b[0m\u001b[0m\n\u001b[0m",
            "\u001b[0;31mValueError\u001b[0m: None is not in list"
          ]
        }
      ]
    },
    {
      "cell_type": "markdown",
      "metadata": {
        "id": "L8Im99uZN7pA"
      },
      "source": [
        "## Validation loss (Leslie N. Smith)\n",
        "\n",
        "If a dataloader is passed to `LRFinder.range_test()` through the `val_loader` parameter the model is evaluated on that dataset after each iteration. The evaluation loss is more sensitive to instability therefore it provides a more precise view of when the divergence occurs. The disadvantage is that it takes significantly longer to run.\n",
        "\n",
        "This version of the learning rate range test is described in [Cyclical Learning Rates for Training Neural Networks by Leslie N. Smith](https://arxiv.org/abs/1506.01186)."
      ]
    },
    {
      "cell_type": "code",
      "metadata": {
        "id": "q6V3y4lxN7pE",
        "colab": {
          "base_uri": "https://localhost:8080/",
          "height": 323
        },
        "outputId": "57a0ace7-9809-4b43-f421-d77b2290369a"
      },
      "source": [
        "lr_finder.range_test(trainloader, val_loader=testloader, end_lr=100, num_iter=100, step_mode=\"exp\")"
      ],
      "execution_count": 11,
      "outputs": [
        {
          "output_type": "error",
          "ename": "RuntimeError",
          "evalue": "ignored",
          "traceback": [
            "\u001b[0;31m---------------------------------------------------------------------------\u001b[0m",
            "\u001b[0;31mRuntimeError\u001b[0m                              Traceback (most recent call last)",
            "\u001b[0;32m<ipython-input-11-3ceae5e6d833>\u001b[0m in \u001b[0;36m<module>\u001b[0;34m()\u001b[0m\n\u001b[0;32m----> 1\u001b[0;31m \u001b[0mlr_finder\u001b[0m\u001b[0;34m.\u001b[0m\u001b[0mrange_test\u001b[0m\u001b[0;34m(\u001b[0m\u001b[0mtrainloader\u001b[0m\u001b[0;34m,\u001b[0m \u001b[0mval_loader\u001b[0m\u001b[0;34m=\u001b[0m\u001b[0mtestloader\u001b[0m\u001b[0;34m,\u001b[0m \u001b[0mend_lr\u001b[0m\u001b[0;34m=\u001b[0m\u001b[0;36m100\u001b[0m\u001b[0;34m,\u001b[0m \u001b[0mnum_iter\u001b[0m\u001b[0;34m=\u001b[0m\u001b[0;36m100\u001b[0m\u001b[0;34m,\u001b[0m \u001b[0mstep_mode\u001b[0m\u001b[0;34m=\u001b[0m\u001b[0;34m\"exp\"\u001b[0m\u001b[0;34m)\u001b[0m\u001b[0;34m\u001b[0m\u001b[0;34m\u001b[0m\u001b[0m\n\u001b[0m",
            "\u001b[0;32m/usr/local/lib/python3.7/dist-packages/torch_lr_finder/lr_finder.py\u001b[0m in \u001b[0;36mrange_test\u001b[0;34m(self, train_loader, val_loader, start_lr, end_lr, num_iter, step_mode, smooth_f, diverge_th, accumulation_steps, non_blocking_transfer)\u001b[0m\n\u001b[1;32m    272\u001b[0m \u001b[0;34m\u001b[0m\u001b[0m\n\u001b[1;32m    273\u001b[0m         \u001b[0;31m# Check if the optimizer is already attached to a scheduler\u001b[0m\u001b[0;34m\u001b[0m\u001b[0;34m\u001b[0m\u001b[0;34m\u001b[0m\u001b[0m\n\u001b[0;32m--> 274\u001b[0;31m         \u001b[0mself\u001b[0m\u001b[0;34m.\u001b[0m\u001b[0m_check_for_scheduler\u001b[0m\u001b[0;34m(\u001b[0m\u001b[0;34m)\u001b[0m\u001b[0;34m\u001b[0m\u001b[0;34m\u001b[0m\u001b[0m\n\u001b[0m\u001b[1;32m    275\u001b[0m \u001b[0;34m\u001b[0m\u001b[0m\n\u001b[1;32m    276\u001b[0m         \u001b[0;31m# Set the starting learning rate\u001b[0m\u001b[0;34m\u001b[0m\u001b[0;34m\u001b[0m\u001b[0;34m\u001b[0m\u001b[0m\n",
            "\u001b[0;32m/usr/local/lib/python3.7/dist-packages/torch_lr_finder/lr_finder.py\u001b[0m in \u001b[0;36m_check_for_scheduler\u001b[0;34m(self)\u001b[0m\n\u001b[1;32m    361\u001b[0m         \u001b[0;32mfor\u001b[0m \u001b[0mparam_group\u001b[0m \u001b[0;32min\u001b[0m \u001b[0mself\u001b[0m\u001b[0;34m.\u001b[0m\u001b[0moptimizer\u001b[0m\u001b[0;34m.\u001b[0m\u001b[0mparam_groups\u001b[0m\u001b[0;34m:\u001b[0m\u001b[0;34m\u001b[0m\u001b[0;34m\u001b[0m\u001b[0m\n\u001b[1;32m    362\u001b[0m             \u001b[0;32mif\u001b[0m \u001b[0;34m\"initial_lr\"\u001b[0m \u001b[0;32min\u001b[0m \u001b[0mparam_group\u001b[0m\u001b[0;34m:\u001b[0m\u001b[0;34m\u001b[0m\u001b[0;34m\u001b[0m\u001b[0m\n\u001b[0;32m--> 363\u001b[0;31m                 \u001b[0;32mraise\u001b[0m \u001b[0mRuntimeError\u001b[0m\u001b[0;34m(\u001b[0m\u001b[0;34m\"Optimizer already has a scheduler attached to it\"\u001b[0m\u001b[0;34m)\u001b[0m\u001b[0;34m\u001b[0m\u001b[0;34m\u001b[0m\u001b[0m\n\u001b[0m\u001b[1;32m    364\u001b[0m \u001b[0;34m\u001b[0m\u001b[0m\n\u001b[1;32m    365\u001b[0m     \u001b[0;32mdef\u001b[0m \u001b[0m_train_batch\u001b[0m\u001b[0;34m(\u001b[0m\u001b[0mself\u001b[0m\u001b[0;34m,\u001b[0m \u001b[0mtrain_iter\u001b[0m\u001b[0;34m,\u001b[0m \u001b[0maccumulation_steps\u001b[0m\u001b[0;34m,\u001b[0m \u001b[0mnon_blocking_transfer\u001b[0m\u001b[0;34m=\u001b[0m\u001b[0;32mTrue\u001b[0m\u001b[0;34m)\u001b[0m\u001b[0;34m:\u001b[0m\u001b[0;34m\u001b[0m\u001b[0;34m\u001b[0m\u001b[0m\n",
            "\u001b[0;31mRuntimeError\u001b[0m: Optimizer already has a scheduler attached to it"
          ]
        }
      ]
    },
    {
      "cell_type": "markdown",
      "metadata": {
        "id": "s6wViy0PN7pE"
      },
      "source": [
        "Note that the loss in the loss vs. learning rate plot is the **evaluation** loss."
      ]
    },
    {
      "cell_type": "code",
      "metadata": {
        "scrolled": false,
        "id": "jThLIvHwN7pH",
        "outputId": "7cbcab57-25b0-490e-ff5b-d3ef4553a46a"
      },
      "source": [
        "lr_finder.plot(skip_end=0)"
      ],
      "execution_count": null,
      "outputs": [
        {
          "data": {
            "image/png": "[encoded data removed]",
            "text/plain": [
              "<Figure size 432x288 with 1 Axes>"
            ]
          },
          "metadata": {
            "needs_background": "light"
          },
          "output_type": "display_data"
        }
      ]
    },
    {
      "cell_type": "markdown",
      "metadata": {
        "id": "QaSbsODIN7pI"
      },
      "source": [
        "To restore the model and optimizer to their initial state use the `reset()` method."
      ]
    },
    {
      "cell_type": "code",
      "metadata": {
        "id": "PGJ-Qx0GN7pL"
      },
      "source": [
        "lr_finder.reset()"
      ],
      "execution_count": null,
      "outputs": []
    },
    {
      "cell_type": "code",
      "metadata": {
        "id": "fKsi_SjyN7pO"
      },
      "source": [
        ""
      ],
      "execution_count": null,
      "outputs": []
    }
  ]
}