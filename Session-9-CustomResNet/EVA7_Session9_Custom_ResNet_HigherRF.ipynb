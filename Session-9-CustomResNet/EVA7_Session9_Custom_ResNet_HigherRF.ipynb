{
  "nbformat": 4,
  "nbformat_minor": 0,
  "metadata": {
    "colab": {
      "name": "EVA7_Session9_Custom_ResNet_HigherRF.ipynb",
      "provenance": [],
      "collapsed_sections": [
        "psxyXRDbOlBB",
        "NT47G0lmHQiM"
      ]
    },
    "kernelspec": {
      "name": "python3",
      "display_name": "Python 3"
    },
    "language_info": {
      "name": "python"
    },
    "accelerator": "GPU",
    "widgets": {
      "application/vnd.jupyter.widget-state+json": {
        "cd31a30a959b46e382e0dde95f5e20ea": {
          "model_module": "@jupyter-widgets/controls",
          "model_name": "HBoxModel",
          "model_module_version": "1.5.0",
          "state": {
            "_view_name": "HBoxView",
            "_dom_classes": [],
            "_model_name": "HBoxModel",
            "_view_module": "@jupyter-widgets/controls",
            "_model_module_version": "1.5.0",
            "_view_count": null,
            "_view_module_version": "1.5.0",
            "box_style": "",
            "layout": "IPY_MODEL_763a702f3e7a4a808a2866b71b5020b5",
            "_model_module": "@jupyter-widgets/controls",
            "children": [
              "IPY_MODEL_e9feeda4e62e40e39a56f662a8c028f5",
              "IPY_MODEL_bf67d70bdd8b484786d8e5c8539f6b12",
              "IPY_MODEL_ce232a742172403abe096a191a604d6c"
            ]
          }
        },
        "763a702f3e7a4a808a2866b71b5020b5": {
          "model_module": "@jupyter-widgets/base",
          "model_name": "LayoutModel",
          "model_module_version": "1.2.0",
          "state": {
            "_view_name": "LayoutView",
            "grid_template_rows": null,
            "right": null,
            "justify_content": null,
            "_view_module": "@jupyter-widgets/base",
            "overflow": null,
            "_model_module_version": "1.2.0",
            "_view_count": null,
            "flex_flow": null,
            "width": null,
            "min_width": null,
            "border": null,
            "align_items": null,
            "bottom": null,
            "_model_module": "@jupyter-widgets/base",
            "top": null,
            "grid_column": null,
            "overflow_y": null,
            "overflow_x": null,
            "grid_auto_flow": null,
            "grid_area": null,
            "grid_template_columns": null,
            "flex": null,
            "_model_name": "LayoutModel",
            "justify_items": null,
            "grid_row": null,
            "max_height": null,
            "align_content": null,
            "visibility": null,
            "align_self": null,
            "height": null,
            "min_height": null,
            "padding": null,
            "grid_auto_rows": null,
            "grid_gap": null,
            "max_width": null,
            "order": null,
            "_view_module_version": "1.2.0",
            "grid_template_areas": null,
            "object_position": null,
            "object_fit": null,
            "grid_auto_columns": null,
            "margin": null,
            "display": null,
            "left": null
          }
        },
        "e9feeda4e62e40e39a56f662a8c028f5": {
          "model_module": "@jupyter-widgets/controls",
          "model_name": "HTMLModel",
          "model_module_version": "1.5.0",
          "state": {
            "_view_name": "HTMLView",
            "style": "IPY_MODEL_feb53c6c738a4b4d978e30f7627a6cba",
            "_dom_classes": [],
            "description": "",
            "_model_name": "HTMLModel",
            "placeholder": "​",
            "_view_module": "@jupyter-widgets/controls",
            "_model_module_version": "1.5.0",
            "value": "",
            "_view_count": null,
            "_view_module_version": "1.5.0",
            "description_tooltip": null,
            "_model_module": "@jupyter-widgets/controls",
            "layout": "IPY_MODEL_2b166b37ee264269b4ba156b9e67896f"
          }
        },
        "bf67d70bdd8b484786d8e5c8539f6b12": {
          "model_module": "@jupyter-widgets/controls",
          "model_name": "FloatProgressModel",
          "model_module_version": "1.5.0",
          "state": {
            "_view_name": "ProgressView",
            "style": "IPY_MODEL_fbd585aaa62f4844b1996de9cea6b9a2",
            "_dom_classes": [],
            "description": "",
            "_model_name": "FloatProgressModel",
            "bar_style": "success",
            "max": 170498071,
            "_view_module": "@jupyter-widgets/controls",
            "_model_module_version": "1.5.0",
            "value": 170498071,
            "_view_count": null,
            "_view_module_version": "1.5.0",
            "orientation": "horizontal",
            "min": 0,
            "description_tooltip": null,
            "_model_module": "@jupyter-widgets/controls",
            "layout": "IPY_MODEL_d87ab1fa83e34a74bef8581df65d4b24"
          }
        },
        "ce232a742172403abe096a191a604d6c": {
          "model_module": "@jupyter-widgets/controls",
          "model_name": "HTMLModel",
          "model_module_version": "1.5.0",
          "state": {
            "_view_name": "HTMLView",
            "style": "IPY_MODEL_77acfff1c58e43119208902a2adf3bd0",
            "_dom_classes": [],
            "description": "",
            "_model_name": "HTMLModel",
            "placeholder": "​",
            "_view_module": "@jupyter-widgets/controls",
            "_model_module_version": "1.5.0",
            "value": " 170499072/? [00:03&lt;00:00, 60232279.44it/s]",
            "_view_count": null,
            "_view_module_version": "1.5.0",
            "description_tooltip": null,
            "_model_module": "@jupyter-widgets/controls",
            "layout": "IPY_MODEL_047c85cca76042c28657baf885962cfc"
          }
        },
        "feb53c6c738a4b4d978e30f7627a6cba": {
          "model_module": "@jupyter-widgets/controls",
          "model_name": "DescriptionStyleModel",
          "model_module_version": "1.5.0",
          "state": {
            "_view_name": "StyleView",
            "_model_name": "DescriptionStyleModel",
            "description_width": "",
            "_view_module": "@jupyter-widgets/base",
            "_model_module_version": "1.5.0",
            "_view_count": null,
            "_view_module_version": "1.2.0",
            "_model_module": "@jupyter-widgets/controls"
          }
        },
        "2b166b37ee264269b4ba156b9e67896f": {
          "model_module": "@jupyter-widgets/base",
          "model_name": "LayoutModel",
          "model_module_version": "1.2.0",
          "state": {
            "_view_name": "LayoutView",
            "grid_template_rows": null,
            "right": null,
            "justify_content": null,
            "_view_module": "@jupyter-widgets/base",
            "overflow": null,
            "_model_module_version": "1.2.0",
            "_view_count": null,
            "flex_flow": null,
            "width": null,
            "min_width": null,
            "border": null,
            "align_items": null,
            "bottom": null,
            "_model_module": "@jupyter-widgets/base",
            "top": null,
            "grid_column": null,
            "overflow_y": null,
            "overflow_x": null,
            "grid_auto_flow": null,
            "grid_area": null,
            "grid_template_columns": null,
            "flex": null,
            "_model_name": "LayoutModel",
            "justify_items": null,
            "grid_row": null,
            "max_height": null,
            "align_content": null,
            "visibility": null,
            "align_self": null,
            "height": null,
            "min_height": null,
            "padding": null,
            "grid_auto_rows": null,
            "grid_gap": null,
            "max_width": null,
            "order": null,
            "_view_module_version": "1.2.0",
            "grid_template_areas": null,
            "object_position": null,
            "object_fit": null,
            "grid_auto_columns": null,
            "margin": null,
            "display": null,
            "left": null
          }
        },
        "fbd585aaa62f4844b1996de9cea6b9a2": {
          "model_module": "@jupyter-widgets/controls",
          "model_name": "ProgressStyleModel",
          "model_module_version": "1.5.0",
          "state": {
            "_view_name": "StyleView",
            "_model_name": "ProgressStyleModel",
            "description_width": "",
            "_view_module": "@jupyter-widgets/base",
            "_model_module_version": "1.5.0",
            "_view_count": null,
            "_view_module_version": "1.2.0",
            "bar_color": null,
            "_model_module": "@jupyter-widgets/controls"
          }
        },
        "d87ab1fa83e34a74bef8581df65d4b24": {
          "model_module": "@jupyter-widgets/base",
          "model_name": "LayoutModel",
          "model_module_version": "1.2.0",
          "state": {
            "_view_name": "LayoutView",
            "grid_template_rows": null,
            "right": null,
            "justify_content": null,
            "_view_module": "@jupyter-widgets/base",
            "overflow": null,
            "_model_module_version": "1.2.0",
            "_view_count": null,
            "flex_flow": null,
            "width": null,
            "min_width": null,
            "border": null,
            "align_items": null,
            "bottom": null,
            "_model_module": "@jupyter-widgets/base",
            "top": null,
            "grid_column": null,
            "overflow_y": null,
            "overflow_x": null,
            "grid_auto_flow": null,
            "grid_area": null,
            "grid_template_columns": null,
            "flex": null,
            "_model_name": "LayoutModel",
            "justify_items": null,
            "grid_row": null,
            "max_height": null,
            "align_content": null,
            "visibility": null,
            "align_self": null,
            "height": null,
            "min_height": null,
            "padding": null,
            "grid_auto_rows": null,
            "grid_gap": null,
            "max_width": null,
            "order": null,
            "_view_module_version": "1.2.0",
            "grid_template_areas": null,
            "object_position": null,
            "object_fit": null,
            "grid_auto_columns": null,
            "margin": null,
            "display": null,
            "left": null
          }
        },
        "77acfff1c58e43119208902a2adf3bd0": {
          "model_module": "@jupyter-widgets/controls",
          "model_name": "DescriptionStyleModel",
          "model_module_version": "1.5.0",
          "state": {
            "_view_name": "StyleView",
            "_model_name": "DescriptionStyleModel",
            "description_width": "",
            "_view_module": "@jupyter-widgets/base",
            "_model_module_version": "1.5.0",
            "_view_count": null,
            "_view_module_version": "1.2.0",
            "_model_module": "@jupyter-widgets/controls"
          }
        },
        "047c85cca76042c28657baf885962cfc": {
          "model_module": "@jupyter-widgets/base",
          "model_name": "LayoutModel",
          "model_module_version": "1.2.0",
          "state": {
            "_view_name": "LayoutView",
            "grid_template_rows": null,
            "right": null,
            "justify_content": null,
            "_view_module": "@jupyter-widgets/base",
            "overflow": null,
            "_model_module_version": "1.2.0",
            "_view_count": null,
            "flex_flow": null,
            "width": null,
            "min_width": null,
            "border": null,
            "align_items": null,
            "bottom": null,
            "_model_module": "@jupyter-widgets/base",
            "top": null,
            "grid_column": null,
            "overflow_y": null,
            "overflow_x": null,
            "grid_auto_flow": null,
            "grid_area": null,
            "grid_template_columns": null,
            "flex": null,
            "_model_name": "LayoutModel",
            "justify_items": null,
            "grid_row": null,
            "max_height": null,
            "align_content": null,
            "visibility": null,
            "align_self": null,
            "height": null,
            "min_height": null,
            "padding": null,
            "grid_auto_rows": null,
            "grid_gap": null,
            "max_width": null,
            "order": null,
            "_view_module_version": "1.2.0",
            "grid_template_areas": null,
            "object_position": null,
            "object_fit": null,
            "grid_auto_columns": null,
            "margin": null,
            "display": null,
            "left": null
          }
        },
        "6f610c27c91741f0844ff7382d963845": {
          "model_module": "@jupyter-widgets/controls",
          "model_name": "HBoxModel",
          "model_module_version": "1.5.0",
          "state": {
            "_view_name": "HBoxView",
            "_dom_classes": [],
            "_model_name": "HBoxModel",
            "_view_module": "@jupyter-widgets/controls",
            "_model_module_version": "1.5.0",
            "_view_count": null,
            "_view_module_version": "1.5.0",
            "box_style": "",
            "layout": "IPY_MODEL_4b37f33d7cd143ddb57775ec9ec22315",
            "_model_module": "@jupyter-widgets/controls",
            "children": [
              "IPY_MODEL_96163479c6554a5ca73563303084ca5b",
              "IPY_MODEL_6a677733be8041489dd04a004da65dbc",
              "IPY_MODEL_1a85a36c82af4ce895f3489b602ed806"
            ]
          }
        },
        "4b37f33d7cd143ddb57775ec9ec22315": {
          "model_module": "@jupyter-widgets/base",
          "model_name": "LayoutModel",
          "model_module_version": "1.2.0",
          "state": {
            "_view_name": "LayoutView",
            "grid_template_rows": null,
            "right": null,
            "justify_content": null,
            "_view_module": "@jupyter-widgets/base",
            "overflow": null,
            "_model_module_version": "1.2.0",
            "_view_count": null,
            "flex_flow": null,
            "width": null,
            "min_width": null,
            "border": null,
            "align_items": null,
            "bottom": null,
            "_model_module": "@jupyter-widgets/base",
            "top": null,
            "grid_column": null,
            "overflow_y": null,
            "overflow_x": null,
            "grid_auto_flow": null,
            "grid_area": null,
            "grid_template_columns": null,
            "flex": null,
            "_model_name": "LayoutModel",
            "justify_items": null,
            "grid_row": null,
            "max_height": null,
            "align_content": null,
            "visibility": null,
            "align_self": null,
            "height": null,
            "min_height": null,
            "padding": null,
            "grid_auto_rows": null,
            "grid_gap": null,
            "max_width": null,
            "order": null,
            "_view_module_version": "1.2.0",
            "grid_template_areas": null,
            "object_position": null,
            "object_fit": null,
            "grid_auto_columns": null,
            "margin": null,
            "display": null,
            "left": null
          }
        },
        "96163479c6554a5ca73563303084ca5b": {
          "model_module": "@jupyter-widgets/controls",
          "model_name": "HTMLModel",
          "model_module_version": "1.5.0",
          "state": {
            "_view_name": "HTMLView",
            "style": "IPY_MODEL_cfb496be53d345f4ac848b4cc783de9c",
            "_dom_classes": [],
            "description": "",
            "_model_name": "HTMLModel",
            "placeholder": "​",
            "_view_module": "@jupyter-widgets/controls",
            "_model_module_version": "1.5.0",
            "value": "100%",
            "_view_count": null,
            "_view_module_version": "1.5.0",
            "description_tooltip": null,
            "_model_module": "@jupyter-widgets/controls",
            "layout": "IPY_MODEL_eec3519f9d0c433b92c59a98d8b45382"
          }
        },
        "6a677733be8041489dd04a004da65dbc": {
          "model_module": "@jupyter-widgets/controls",
          "model_name": "FloatProgressModel",
          "model_module_version": "1.5.0",
          "state": {
            "_view_name": "ProgressView",
            "style": "IPY_MODEL_156db4b2fc6e4cf7b15e709fba8cf208",
            "_dom_classes": [],
            "description": "",
            "_model_name": "FloatProgressModel",
            "bar_style": "success",
            "max": 480,
            "_view_module": "@jupyter-widgets/controls",
            "_model_module_version": "1.5.0",
            "value": 480,
            "_view_count": null,
            "_view_module_version": "1.5.0",
            "orientation": "horizontal",
            "min": 0,
            "description_tooltip": null,
            "_model_module": "@jupyter-widgets/controls",
            "layout": "IPY_MODEL_7a41f2897e4b469c89170878e2f8d17b"
          }
        },
        "1a85a36c82af4ce895f3489b602ed806": {
          "model_module": "@jupyter-widgets/controls",
          "model_name": "HTMLModel",
          "model_module_version": "1.5.0",
          "state": {
            "_view_name": "HTMLView",
            "style": "IPY_MODEL_4f43447e54d342c0965731eea447f9e1",
            "_dom_classes": [],
            "description": "",
            "_model_name": "HTMLModel",
            "placeholder": "​",
            "_view_module": "@jupyter-widgets/controls",
            "_model_module_version": "1.5.0",
            "value": " 480/480 [35:47&lt;00:00,  4.47s/it]",
            "_view_count": null,
            "_view_module_version": "1.5.0",
            "description_tooltip": null,
            "_model_module": "@jupyter-widgets/controls",
            "layout": "IPY_MODEL_aaac3e0080344749b2b0a8459e31cce3"
          }
        },
        "cfb496be53d345f4ac848b4cc783de9c": {
          "model_module": "@jupyter-widgets/controls",
          "model_name": "DescriptionStyleModel",
          "model_module_version": "1.5.0",
          "state": {
            "_view_name": "StyleView",
            "_model_name": "DescriptionStyleModel",
            "description_width": "",
            "_view_module": "@jupyter-widgets/base",
            "_model_module_version": "1.5.0",
            "_view_count": null,
            "_view_module_version": "1.2.0",
            "_model_module": "@jupyter-widgets/controls"
          }
        },
        "eec3519f9d0c433b92c59a98d8b45382": {
          "model_module": "@jupyter-widgets/base",
          "model_name": "LayoutModel",
          "model_module_version": "1.2.0",
          "state": {
            "_view_name": "LayoutView",
            "grid_template_rows": null,
            "right": null,
            "justify_content": null,
            "_view_module": "@jupyter-widgets/base",
            "overflow": null,
            "_model_module_version": "1.2.0",
            "_view_count": null,
            "flex_flow": null,
            "width": null,
            "min_width": null,
            "border": null,
            "align_items": null,
            "bottom": null,
            "_model_module": "@jupyter-widgets/base",
            "top": null,
            "grid_column": null,
            "overflow_y": null,
            "overflow_x": null,
            "grid_auto_flow": null,
            "grid_area": null,
            "grid_template_columns": null,
            "flex": null,
            "_model_name": "LayoutModel",
            "justify_items": null,
            "grid_row": null,
            "max_height": null,
            "align_content": null,
            "visibility": null,
            "align_self": null,
            "height": null,
            "min_height": null,
            "padding": null,
            "grid_auto_rows": null,
            "grid_gap": null,
            "max_width": null,
            "order": null,
            "_view_module_version": "1.2.0",
            "grid_template_areas": null,
            "object_position": null,
            "object_fit": null,
            "grid_auto_columns": null,
            "margin": null,
            "display": null,
            "left": null
          }
        },
        "156db4b2fc6e4cf7b15e709fba8cf208": {
          "model_module": "@jupyter-widgets/controls",
          "model_name": "ProgressStyleModel",
          "model_module_version": "1.5.0",
          "state": {
            "_view_name": "StyleView",
            "_model_name": "ProgressStyleModel",
            "description_width": "",
            "_view_module": "@jupyter-widgets/base",
            "_model_module_version": "1.5.0",
            "_view_count": null,
            "_view_module_version": "1.2.0",
            "bar_color": null,
            "_model_module": "@jupyter-widgets/controls"
          }
        },
        "7a41f2897e4b469c89170878e2f8d17b": {
          "model_module": "@jupyter-widgets/base",
          "model_name": "LayoutModel",
          "model_module_version": "1.2.0",
          "state": {
            "_view_name": "LayoutView",
            "grid_template_rows": null,
            "right": null,
            "justify_content": null,
            "_view_module": "@jupyter-widgets/base",
            "overflow": null,
            "_model_module_version": "1.2.0",
            "_view_count": null,
            "flex_flow": null,
            "width": null,
            "min_width": null,
            "border": null,
            "align_items": null,
            "bottom": null,
            "_model_module": "@jupyter-widgets/base",
            "top": null,
            "grid_column": null,
            "overflow_y": null,
            "overflow_x": null,
            "grid_auto_flow": null,
            "grid_area": null,
            "grid_template_columns": null,
            "flex": null,
            "_model_name": "LayoutModel",
            "justify_items": null,
            "grid_row": null,
            "max_height": null,
            "align_content": null,
            "visibility": null,
            "align_self": null,
            "height": null,
            "min_height": null,
            "padding": null,
            "grid_auto_rows": null,
            "grid_gap": null,
            "max_width": null,
            "order": null,
            "_view_module_version": "1.2.0",
            "grid_template_areas": null,
            "object_position": null,
            "object_fit": null,
            "grid_auto_columns": null,
            "margin": null,
            "display": null,
            "left": null
          }
        },
        "4f43447e54d342c0965731eea447f9e1": {
          "model_module": "@jupyter-widgets/controls",
          "model_name": "DescriptionStyleModel",
          "model_module_version": "1.5.0",
          "state": {
            "_view_name": "StyleView",
            "_model_name": "DescriptionStyleModel",
            "description_width": "",
            "_view_module": "@jupyter-widgets/base",
            "_model_module_version": "1.5.0",
            "_view_count": null,
            "_view_module_version": "1.2.0",
            "_model_module": "@jupyter-widgets/controls"
          }
        },
        "aaac3e0080344749b2b0a8459e31cce3": {
          "model_module": "@jupyter-widgets/base",
          "model_name": "LayoutModel",
          "model_module_version": "1.2.0",
          "state": {
            "_view_name": "LayoutView",
            "grid_template_rows": null,
            "right": null,
            "justify_content": null,
            "_view_module": "@jupyter-widgets/base",
            "overflow": null,
            "_model_module_version": "1.2.0",
            "_view_count": null,
            "flex_flow": null,
            "width": null,
            "min_width": null,
            "border": null,
            "align_items": null,
            "bottom": null,
            "_model_module": "@jupyter-widgets/base",
            "top": null,
            "grid_column": null,
            "overflow_y": null,
            "overflow_x": null,
            "grid_auto_flow": null,
            "grid_area": null,
            "grid_template_columns": null,
            "flex": null,
            "_model_name": "LayoutModel",
            "justify_items": null,
            "grid_row": null,
            "max_height": null,
            "align_content": null,
            "visibility": null,
            "align_self": null,
            "height": null,
            "min_height": null,
            "padding": null,
            "grid_auto_rows": null,
            "grid_gap": null,
            "max_width": null,
            "order": null,
            "_view_module_version": "1.2.0",
            "grid_template_areas": null,
            "object_position": null,
            "object_fit": null,
            "grid_auto_columns": null,
            "margin": null,
            "display": null,
            "left": null
          }
        },
        "c0fd8819e5b7487190973a2c183b5624": {
          "model_module": "@jupyter-widgets/controls",
          "model_name": "HBoxModel",
          "model_module_version": "1.5.0",
          "state": {
            "_view_name": "HBoxView",
            "_dom_classes": [],
            "_model_name": "HBoxModel",
            "_view_module": "@jupyter-widgets/controls",
            "_model_module_version": "1.5.0",
            "_view_count": null,
            "_view_module_version": "1.5.0",
            "box_style": "",
            "layout": "IPY_MODEL_6b01bf322ba94f73892703347d85b494",
            "_model_module": "@jupyter-widgets/controls",
            "children": [
              "IPY_MODEL_815d69b4a01f436ba2bc1c69101f4081",
              "IPY_MODEL_10a7a56f732243b58a00017cdf5191d0",
              "IPY_MODEL_66e197feb6284e6488e5cfe6da5a0f4a"
            ]
          }
        },
        "6b01bf322ba94f73892703347d85b494": {
          "model_module": "@jupyter-widgets/base",
          "model_name": "LayoutModel",
          "model_module_version": "1.2.0",
          "state": {
            "_view_name": "LayoutView",
            "grid_template_rows": null,
            "right": null,
            "justify_content": null,
            "_view_module": "@jupyter-widgets/base",
            "overflow": null,
            "_model_module_version": "1.2.0",
            "_view_count": null,
            "flex_flow": null,
            "width": null,
            "min_width": null,
            "border": null,
            "align_items": null,
            "bottom": null,
            "_model_module": "@jupyter-widgets/base",
            "top": null,
            "grid_column": null,
            "overflow_y": null,
            "overflow_x": null,
            "grid_auto_flow": null,
            "grid_area": null,
            "grid_template_columns": null,
            "flex": null,
            "_model_name": "LayoutModel",
            "justify_items": null,
            "grid_row": null,
            "max_height": null,
            "align_content": null,
            "visibility": null,
            "align_self": null,
            "height": null,
            "min_height": null,
            "padding": null,
            "grid_auto_rows": null,
            "grid_gap": null,
            "max_width": null,
            "order": null,
            "_view_module_version": "1.2.0",
            "grid_template_areas": null,
            "object_position": null,
            "object_fit": null,
            "grid_auto_columns": null,
            "margin": null,
            "display": null,
            "left": null
          }
        },
        "815d69b4a01f436ba2bc1c69101f4081": {
          "model_module": "@jupyter-widgets/controls",
          "model_name": "HTMLModel",
          "model_module_version": "1.5.0",
          "state": {
            "_view_name": "HTMLView",
            "style": "IPY_MODEL_d14d68ddafd24ec0a739933e5ba3e639",
            "_dom_classes": [],
            "description": "",
            "_model_name": "HTMLModel",
            "placeholder": "​",
            "_view_module": "@jupyter-widgets/controls",
            "_model_module_version": "1.5.0",
            "value": "",
            "_view_count": null,
            "_view_module_version": "1.5.0",
            "description_tooltip": null,
            "_model_module": "@jupyter-widgets/controls",
            "layout": "IPY_MODEL_98d8d1dd81cd4dfe94ac38dfabf0ca1c"
          }
        },
        "10a7a56f732243b58a00017cdf5191d0": {
          "model_module": "@jupyter-widgets/controls",
          "model_name": "FloatProgressModel",
          "model_module_version": "1.5.0",
          "state": {
            "_view_name": "ProgressView",
            "style": "IPY_MODEL_029dfaa8d093492a91ad9ec32cd63039",
            "_dom_classes": [],
            "description": "",
            "_model_name": "FloatProgressModel",
            "bar_style": "success",
            "max": 170498071,
            "_view_module": "@jupyter-widgets/controls",
            "_model_module_version": "1.5.0",
            "value": 170498071,
            "_view_count": null,
            "_view_module_version": "1.5.0",
            "orientation": "horizontal",
            "min": 0,
            "description_tooltip": null,
            "_model_module": "@jupyter-widgets/controls",
            "layout": "IPY_MODEL_bdfb41905c524cdf9971cff30b509b5a"
          }
        },
        "66e197feb6284e6488e5cfe6da5a0f4a": {
          "model_module": "@jupyter-widgets/controls",
          "model_name": "HTMLModel",
          "model_module_version": "1.5.0",
          "state": {
            "_view_name": "HTMLView",
            "style": "IPY_MODEL_72de205c20764c8c9351dff9b99a6d38",
            "_dom_classes": [],
            "description": "",
            "_model_name": "HTMLModel",
            "placeholder": "​",
            "_view_module": "@jupyter-widgets/controls",
            "_model_module_version": "1.5.0",
            "value": " 170499072/? [00:04&lt;00:00, 40627845.08it/s]",
            "_view_count": null,
            "_view_module_version": "1.5.0",
            "description_tooltip": null,
            "_model_module": "@jupyter-widgets/controls",
            "layout": "IPY_MODEL_cf35689ad1814c63a17b6859fa4c2f19"
          }
        },
        "d14d68ddafd24ec0a739933e5ba3e639": {
          "model_module": "@jupyter-widgets/controls",
          "model_name": "DescriptionStyleModel",
          "model_module_version": "1.5.0",
          "state": {
            "_view_name": "StyleView",
            "_model_name": "DescriptionStyleModel",
            "description_width": "",
            "_view_module": "@jupyter-widgets/base",
            "_model_module_version": "1.5.0",
            "_view_count": null,
            "_view_module_version": "1.2.0",
            "_model_module": "@jupyter-widgets/controls"
          }
        },
        "98d8d1dd81cd4dfe94ac38dfabf0ca1c": {
          "model_module": "@jupyter-widgets/base",
          "model_name": "LayoutModel",
          "model_module_version": "1.2.0",
          "state": {
            "_view_name": "LayoutView",
            "grid_template_rows": null,
            "right": null,
            "justify_content": null,
            "_view_module": "@jupyter-widgets/base",
            "overflow": null,
            "_model_module_version": "1.2.0",
            "_view_count": null,
            "flex_flow": null,
            "width": null,
            "min_width": null,
            "border": null,
            "align_items": null,
            "bottom": null,
            "_model_module": "@jupyter-widgets/base",
            "top": null,
            "grid_column": null,
            "overflow_y": null,
            "overflow_x": null,
            "grid_auto_flow": null,
            "grid_area": null,
            "grid_template_columns": null,
            "flex": null,
            "_model_name": "LayoutModel",
            "justify_items": null,
            "grid_row": null,
            "max_height": null,
            "align_content": null,
            "visibility": null,
            "align_self": null,
            "height": null,
            "min_height": null,
            "padding": null,
            "grid_auto_rows": null,
            "grid_gap": null,
            "max_width": null,
            "order": null,
            "_view_module_version": "1.2.0",
            "grid_template_areas": null,
            "object_position": null,
            "object_fit": null,
            "grid_auto_columns": null,
            "margin": null,
            "display": null,
            "left": null
          }
        },
        "029dfaa8d093492a91ad9ec32cd63039": {
          "model_module": "@jupyter-widgets/controls",
          "model_name": "ProgressStyleModel",
          "model_module_version": "1.5.0",
          "state": {
            "_view_name": "StyleView",
            "_model_name": "ProgressStyleModel",
            "description_width": "",
            "_view_module": "@jupyter-widgets/base",
            "_model_module_version": "1.5.0",
            "_view_count": null,
            "_view_module_version": "1.2.0",
            "bar_color": null,
            "_model_module": "@jupyter-widgets/controls"
          }
        },
        "bdfb41905c524cdf9971cff30b509b5a": {
          "model_module": "@jupyter-widgets/base",
          "model_name": "LayoutModel",
          "model_module_version": "1.2.0",
          "state": {
            "_view_name": "LayoutView",
            "grid_template_rows": null,
            "right": null,
            "justify_content": null,
            "_view_module": "@jupyter-widgets/base",
            "overflow": null,
            "_model_module_version": "1.2.0",
            "_view_count": null,
            "flex_flow": null,
            "width": null,
            "min_width": null,
            "border": null,
            "align_items": null,
            "bottom": null,
            "_model_module": "@jupyter-widgets/base",
            "top": null,
            "grid_column": null,
            "overflow_y": null,
            "overflow_x": null,
            "grid_auto_flow": null,
            "grid_area": null,
            "grid_template_columns": null,
            "flex": null,
            "_model_name": "LayoutModel",
            "justify_items": null,
            "grid_row": null,
            "max_height": null,
            "align_content": null,
            "visibility": null,
            "align_self": null,
            "height": null,
            "min_height": null,
            "padding": null,
            "grid_auto_rows": null,
            "grid_gap": null,
            "max_width": null,
            "order": null,
            "_view_module_version": "1.2.0",
            "grid_template_areas": null,
            "object_position": null,
            "object_fit": null,
            "grid_auto_columns": null,
            "margin": null,
            "display": null,
            "left": null
          }
        },
        "72de205c20764c8c9351dff9b99a6d38": {
          "model_module": "@jupyter-widgets/controls",
          "model_name": "DescriptionStyleModel",
          "model_module_version": "1.5.0",
          "state": {
            "_view_name": "StyleView",
            "_model_name": "DescriptionStyleModel",
            "description_width": "",
            "_view_module": "@jupyter-widgets/base",
            "_model_module_version": "1.5.0",
            "_view_count": null,
            "_view_module_version": "1.2.0",
            "_model_module": "@jupyter-widgets/controls"
          }
        },
        "cf35689ad1814c63a17b6859fa4c2f19": {
          "model_module": "@jupyter-widgets/base",
          "model_name": "LayoutModel",
          "model_module_version": "1.2.0",
          "state": {
            "_view_name": "LayoutView",
            "grid_template_rows": null,
            "right": null,
            "justify_content": null,
            "_view_module": "@jupyter-widgets/base",
            "overflow": null,
            "_model_module_version": "1.2.0",
            "_view_count": null,
            "flex_flow": null,
            "width": null,
            "min_width": null,
            "border": null,
            "align_items": null,
            "bottom": null,
            "_model_module": "@jupyter-widgets/base",
            "top": null,
            "grid_column": null,
            "overflow_y": null,
            "overflow_x": null,
            "grid_auto_flow": null,
            "grid_area": null,
            "grid_template_columns": null,
            "flex": null,
            "_model_name": "LayoutModel",
            "justify_items": null,
            "grid_row": null,
            "max_height": null,
            "align_content": null,
            "visibility": null,
            "align_self": null,
            "height": null,
            "min_height": null,
            "padding": null,
            "grid_auto_rows": null,
            "grid_gap": null,
            "max_width": null,
            "order": null,
            "_view_module_version": "1.2.0",
            "grid_template_areas": null,
            "object_position": null,
            "object_fit": null,
            "grid_auto_columns": null,
            "margin": null,
            "display": null,
            "left": null
          }
        }
      }
    }
  },
  "cells": [
    {
      "cell_type": "code",
      "metadata": {
        "colab": {
          "base_uri": "https://localhost:8080/"
        },
        "id": "kPbnvuEBFvl7",
        "outputId": "e45939f7-78f4-4eeb-d75d-258667bb637a"
      },
      "source": [
        "!pip install -U albumentations\n",
        "!pip install gitpython"
      ],
      "execution_count": 1,
      "outputs": [
        {
          "output_type": "stream",
          "name": "stdout",
          "text": [
            "Requirement already satisfied: albumentations in /usr/local/lib/python3.7/dist-packages (0.1.12)\n",
            "Collecting albumentations\n",
            "  Downloading albumentations-1.1.0-py3-none-any.whl (102 kB)\n",
            "\u001b[K     |████████████████████████████████| 102 kB 5.5 MB/s \n",
            "\u001b[?25hRequirement already satisfied: PyYAML in /usr/local/lib/python3.7/dist-packages (from albumentations) (3.13)\n",
            "Requirement already satisfied: numpy>=1.11.1 in /usr/local/lib/python3.7/dist-packages (from albumentations) (1.19.5)\n",
            "Collecting qudida>=0.0.4\n",
            "  Downloading qudida-0.0.4-py3-none-any.whl (3.5 kB)\n",
            "Collecting opencv-python-headless>=4.1.1\n",
            "  Downloading opencv_python_headless-4.5.4.60-cp37-cp37m-manylinux_2_17_x86_64.manylinux2014_x86_64.whl (47.6 MB)\n",
            "\u001b[K     |████████████████████████████████| 47.6 MB 3.6 MB/s \n",
            "\u001b[?25hRequirement already satisfied: scipy in /usr/local/lib/python3.7/dist-packages (from albumentations) (1.4.1)\n",
            "Requirement already satisfied: scikit-image>=0.16.1 in /usr/local/lib/python3.7/dist-packages (from albumentations) (0.18.3)\n",
            "Requirement already satisfied: typing-extensions in /usr/local/lib/python3.7/dist-packages (from qudida>=0.0.4->albumentations) (3.10.0.2)\n",
            "Requirement already satisfied: scikit-learn>=0.19.1 in /usr/local/lib/python3.7/dist-packages (from qudida>=0.0.4->albumentations) (1.0.1)\n",
            "Requirement already satisfied: networkx>=2.0 in /usr/local/lib/python3.7/dist-packages (from scikit-image>=0.16.1->albumentations) (2.6.3)\n",
            "Requirement already satisfied: tifffile>=2019.7.26 in /usr/local/lib/python3.7/dist-packages (from scikit-image>=0.16.1->albumentations) (2021.11.2)\n",
            "Requirement already satisfied: matplotlib!=3.0.0,>=2.0.0 in /usr/local/lib/python3.7/dist-packages (from scikit-image>=0.16.1->albumentations) (3.2.2)\n",
            "Requirement already satisfied: PyWavelets>=1.1.1 in /usr/local/lib/python3.7/dist-packages (from scikit-image>=0.16.1->albumentations) (1.2.0)\n",
            "Requirement already satisfied: imageio>=2.3.0 in /usr/local/lib/python3.7/dist-packages (from scikit-image>=0.16.1->albumentations) (2.4.1)\n",
            "Requirement already satisfied: pillow!=7.1.0,!=7.1.1,>=4.3.0 in /usr/local/lib/python3.7/dist-packages (from scikit-image>=0.16.1->albumentations) (7.1.2)\n",
            "Requirement already satisfied: cycler>=0.10 in /usr/local/lib/python3.7/dist-packages (from matplotlib!=3.0.0,>=2.0.0->scikit-image>=0.16.1->albumentations) (0.11.0)\n",
            "Requirement already satisfied: pyparsing!=2.0.4,!=2.1.2,!=2.1.6,>=2.0.1 in /usr/local/lib/python3.7/dist-packages (from matplotlib!=3.0.0,>=2.0.0->scikit-image>=0.16.1->albumentations) (3.0.6)\n",
            "Requirement already satisfied: python-dateutil>=2.1 in /usr/local/lib/python3.7/dist-packages (from matplotlib!=3.0.0,>=2.0.0->scikit-image>=0.16.1->albumentations) (2.8.2)\n",
            "Requirement already satisfied: kiwisolver>=1.0.1 in /usr/local/lib/python3.7/dist-packages (from matplotlib!=3.0.0,>=2.0.0->scikit-image>=0.16.1->albumentations) (1.3.2)\n",
            "Requirement already satisfied: six>=1.5 in /usr/local/lib/python3.7/dist-packages (from python-dateutil>=2.1->matplotlib!=3.0.0,>=2.0.0->scikit-image>=0.16.1->albumentations) (1.15.0)\n",
            "Requirement already satisfied: joblib>=0.11 in /usr/local/lib/python3.7/dist-packages (from scikit-learn>=0.19.1->qudida>=0.0.4->albumentations) (1.1.0)\n",
            "Requirement already satisfied: threadpoolctl>=2.0.0 in /usr/local/lib/python3.7/dist-packages (from scikit-learn>=0.19.1->qudida>=0.0.4->albumentations) (3.0.0)\n",
            "Installing collected packages: opencv-python-headless, qudida, albumentations\n",
            "  Attempting uninstall: albumentations\n",
            "    Found existing installation: albumentations 0.1.12\n",
            "    Uninstalling albumentations-0.1.12:\n",
            "      Successfully uninstalled albumentations-0.1.12\n",
            "Successfully installed albumentations-1.1.0 opencv-python-headless-4.5.4.60 qudida-0.0.4\n",
            "Collecting gitpython\n",
            "  Downloading GitPython-3.1.24-py3-none-any.whl (180 kB)\n",
            "\u001b[K     |████████████████████████████████| 180 kB 5.2 MB/s \n",
            "\u001b[?25hRequirement already satisfied: typing-extensions>=3.7.4.3 in /usr/local/lib/python3.7/dist-packages (from gitpython) (3.10.0.2)\n",
            "Collecting gitdb<5,>=4.0.1\n",
            "  Downloading gitdb-4.0.9-py3-none-any.whl (63 kB)\n",
            "\u001b[K     |████████████████████████████████| 63 kB 1.8 MB/s \n",
            "\u001b[?25hCollecting smmap<6,>=3.0.1\n",
            "  Downloading smmap-5.0.0-py3-none-any.whl (24 kB)\n",
            "Installing collected packages: smmap, gitdb, gitpython\n",
            "Successfully installed gitdb-4.0.9 gitpython-3.1.24 smmap-5.0.0\n"
          ]
        }
      ]
    },
    {
      "cell_type": "code",
      "metadata": {
        "id": "mv0Sgq5SaCip"
      },
      "source": [
        "import git\n",
        "import os\n",
        "import albumentations as A\n",
        "from albumentations.pytorch.transforms import ToTensorV2"
      ],
      "execution_count": 2,
      "outputs": []
    },
    {
      "cell_type": "code",
      "metadata": {
        "id": "QDxdh3L7Ao8d"
      },
      "source": [
        "os.chdir(\"/content/\")"
      ],
      "execution_count": 3,
      "outputs": []
    },
    {
      "cell_type": "code",
      "metadata": {
        "id": "UMAOLjQJ8uUb"
      },
      "source": [
        "if os.path.isdir(\"/content/Transformer-DeepLearning\"):\n",
        "  !rm -rf \"/content/Transformer-DeepLearning\""
      ],
      "execution_count": 4,
      "outputs": []
    },
    {
      "cell_type": "code",
      "metadata": {
        "colab": {
          "base_uri": "https://localhost:8080/"
        },
        "id": "TF6F3bRtZxHx",
        "outputId": "9390d060-2b92-40d8-e603-124c43692aba"
      },
      "source": [
        "!git clone https://github.com/amitkml/Transformer-DeepLearning "
      ],
      "execution_count": 5,
      "outputs": [
        {
          "output_type": "stream",
          "name": "stdout",
          "text": [
            "Cloning into 'Transformer-DeepLearning'...\n",
            "remote: Enumerating objects: 747, done.\u001b[K\n",
            "remote: Counting objects: 100% (747/747), done.\u001b[K\n",
            "remote: Compressing objects: 100% (548/548), done.\u001b[K\n",
            "remote: Total 747 (delta 425), reused 468 (delta 185), pack-reused 0\u001b[K\n",
            "Receiving objects: 100% (747/747), 21.79 MiB | 27.35 MiB/s, done.\n",
            "Resolving deltas: 100% (425/425), done.\n"
          ]
        }
      ]
    },
    {
      "cell_type": "code",
      "metadata": {
        "id": "ksdOJAo7bfnE"
      },
      "source": [
        "os.chdir(\"/content/Transformer-DeepLearning/ConvModelAdvancedTraining/models\")\n",
        "# import resnet as resnet\n",
        "# import resnet_ln as resnet_ln\n",
        "import resnet_custom as resnet_custom"
      ],
      "execution_count": 6,
      "outputs": []
    },
    {
      "cell_type": "code",
      "metadata": {
        "colab": {
          "base_uri": "https://localhost:8080/"
        },
        "id": "0kF2_I2PEtJo",
        "outputId": "e14cd1ba-5b7e-480b-d96b-4f36d5c58733"
      },
      "source": [
        "!pip install torchsummary\n",
        "from torchsummary import summary"
      ],
      "execution_count": 7,
      "outputs": [
        {
          "output_type": "stream",
          "name": "stdout",
          "text": [
            "Requirement already satisfied: torchsummary in /usr/local/lib/python3.7/dist-packages (1.5.1)\n"
          ]
        }
      ]
    },
    {
      "cell_type": "code",
      "metadata": {
        "id": "c-_FQCzycW9f"
      },
      "source": [
        "os.chdir(\"/content/Transformer-DeepLearning/ConvModelAdvancedTraining\")\n",
        "# %tb\n",
        "import utils as utils\n",
        "import main as model_main\n",
        "import lr_finder as lr_finder"
      ],
      "execution_count": 8,
      "outputs": []
    },
    {
      "cell_type": "markdown",
      "metadata": {
        "id": "psxyXRDbOlBB"
      },
      "source": [
        "### LR finder"
      ]
    },
    {
      "cell_type": "code",
      "metadata": {
        "id": "QjmEegDYmZaE",
        "colab": {
          "base_uri": "https://localhost:8080/",
          "height": 1000,
          "referenced_widgets": [
            "cd31a30a959b46e382e0dde95f5e20ea",
            "763a702f3e7a4a808a2866b71b5020b5",
            "e9feeda4e62e40e39a56f662a8c028f5",
            "bf67d70bdd8b484786d8e5c8539f6b12",
            "ce232a742172403abe096a191a604d6c",
            "feb53c6c738a4b4d978e30f7627a6cba",
            "2b166b37ee264269b4ba156b9e67896f",
            "fbd585aaa62f4844b1996de9cea6b9a2",
            "d87ab1fa83e34a74bef8581df65d4b24",
            "77acfff1c58e43119208902a2adf3bd0",
            "047c85cca76042c28657baf885962cfc",
            "6f610c27c91741f0844ff7382d963845",
            "4b37f33d7cd143ddb57775ec9ec22315",
            "96163479c6554a5ca73563303084ca5b",
            "6a677733be8041489dd04a004da65dbc",
            "1a85a36c82af4ce895f3489b602ed806",
            "cfb496be53d345f4ac848b4cc783de9c",
            "eec3519f9d0c433b92c59a98d8b45382",
            "156db4b2fc6e4cf7b15e709fba8cf208",
            "7a41f2897e4b469c89170878e2f8d17b",
            "4f43447e54d342c0965731eea447f9e1",
            "aaac3e0080344749b2b0a8459e31cce3"
          ]
        },
        "outputId": "16619974-bbf1-47e3-f0a8-7747816baed3"
      },
      "source": [
        "%tb\n",
        "max_lr = lr_finder.lr_finder_ls()"
      ],
      "execution_count": 9,
      "outputs": [
        {
          "output_type": "stream",
          "name": "stdout",
          "text": [
            "Got all parser argument\n",
            "================================================> Preparing data................\n",
            "Downloading https://www.cs.toronto.edu/~kriz/cifar-10-python.tar.gz to ./data/cifar-10-python.tar.gz\n"
          ]
        },
        {
          "output_type": "stream",
          "name": "stderr",
          "text": [
            "No traceback available to show.\n"
          ]
        },
        {
          "output_type": "display_data",
          "data": {
            "application/vnd.jupyter.widget-view+json": {
              "model_id": "cd31a30a959b46e382e0dde95f5e20ea",
              "version_minor": 0,
              "version_major": 2
            },
            "text/plain": [
              "  0%|          | 0/170498071 [00:00<?, ?it/s]"
            ]
          },
          "metadata": {}
        },
        {
          "output_type": "stream",
          "name": "stdout",
          "text": [
            "Extracting ./data/cifar-10-python.tar.gz to ./data\n",
            "Files already downloaded and verified\n",
            "Files already downloaded and verified\n",
            "===========================================================> Building model Custom resnet...............\n",
            "CustomResNet(\n",
            "  (prep_layer): Sequential(\n",
            "    (0): Conv2d(3, 64, kernel_size=(3, 3), stride=(1, 1), padding=(1, 1), bias=False)\n",
            "    (1): BatchNorm2d(64, eps=1e-05, momentum=0.1, affine=True, track_running_stats=True)\n",
            "    (2): ReLU()\n",
            "  )\n",
            "  (layer1): Sequential(\n",
            "    (0): Conv2d(64, 128, kernel_size=(3, 3), stride=(1, 1), padding=(1, 1), bias=False)\n",
            "    (1): MaxPool2d(kernel_size=2, stride=2, padding=0, dilation=1, ceil_mode=False)\n",
            "    (2): BatchNorm2d(128, eps=1e-05, momentum=0.1, affine=True, track_running_stats=True)\n",
            "    (3): ReLU()\n",
            "  )\n",
            "  (resblock1): BasicBlock(\n",
            "    (conv1): Conv2d(128, 128, kernel_size=(3, 3), stride=(1, 1), padding=(1, 1), bias=False)\n",
            "    (bn1): BatchNorm2d(128, eps=1e-05, momentum=0.1, affine=True, track_running_stats=True)\n",
            "    (conv2): Conv2d(128, 128, kernel_size=(3, 3), stride=(1, 1), padding=(1, 1), bias=False)\n",
            "    (bn2): BatchNorm2d(128, eps=1e-05, momentum=0.1, affine=True, track_running_stats=True)\n",
            "    (relu): ReLU()\n",
            "  )\n",
            "  (dp1): Dropout2d(p=0.15, inplace=False)\n",
            "  (layer2): Sequential(\n",
            "    (0): Conv2d(128, 256, kernel_size=(3, 3), stride=(1, 1), padding=(1, 1), bias=False)\n",
            "    (1): MaxPool2d(kernel_size=2, stride=2, padding=0, dilation=1, ceil_mode=False)\n",
            "    (2): BatchNorm2d(256, eps=1e-05, momentum=0.1, affine=True, track_running_stats=True)\n",
            "    (3): ReLU()\n",
            "  )\n",
            "  (layer3): Sequential(\n",
            "    (0): Conv2d(256, 512, kernel_size=(3, 3), stride=(1, 1), padding=(1, 1), bias=False)\n",
            "    (1): MaxPool2d(kernel_size=2, stride=2, padding=0, dilation=1, ceil_mode=False)\n",
            "    (2): BatchNorm2d(512, eps=1e-05, momentum=0.1, affine=True, track_running_stats=True)\n",
            "    (3): ReLU()\n",
            "  )\n",
            "  (resblock2): BasicBlock(\n",
            "    (conv1): Conv2d(512, 512, kernel_size=(3, 3), stride=(1, 1), padding=(1, 1), bias=False)\n",
            "    (bn1): BatchNorm2d(512, eps=1e-05, momentum=0.1, affine=True, track_running_stats=True)\n",
            "    (conv2): Conv2d(512, 512, kernel_size=(3, 3), stride=(1, 1), padding=(1, 1), bias=False)\n",
            "    (bn2): BatchNorm2d(512, eps=1e-05, momentum=0.1, affine=True, track_running_stats=True)\n",
            "    (relu): ReLU()\n",
            "  )\n",
            "  (dp2): Dropout2d(p=0.15, inplace=False)\n",
            "  (pool): MaxPool2d(kernel_size=4, stride=4, padding=0, dilation=1, ceil_mode=False)\n",
            "  (linear_1): Linear(in_features=512, out_features=128, bias=False)\n",
            "  (bn1d_1): BatchNorm1d(128, eps=1e-05, momentum=0.1, affine=True, track_running_stats=True)\n",
            "  (linear_2): Linear(in_features=128, out_features=32, bias=False)\n",
            "  (linear): Linear(in_features=32, out_features=10, bias=False)\n",
            ")\n",
            "----------------------------------------------------------------\n",
            "        Layer (type)               Output Shape         Param #\n",
            "================================================================\n",
            "            Conv2d-1           [-1, 64, 32, 32]           1,728\n",
            "       BatchNorm2d-2           [-1, 64, 32, 32]             128\n",
            "              ReLU-3           [-1, 64, 32, 32]               0\n",
            "            Conv2d-4          [-1, 128, 32, 32]          73,728\n",
            "         MaxPool2d-5          [-1, 128, 16, 16]               0\n",
            "       BatchNorm2d-6          [-1, 128, 16, 16]             256\n",
            "              ReLU-7          [-1, 128, 16, 16]               0\n",
            "         Dropout2d-8          [-1, 128, 16, 16]               0\n",
            "            Conv2d-9          [-1, 128, 16, 16]         147,456\n",
            "      BatchNorm2d-10          [-1, 128, 16, 16]             256\n",
            "             ReLU-11          [-1, 128, 16, 16]               0\n",
            "           Conv2d-12          [-1, 128, 16, 16]         147,456\n",
            "      BatchNorm2d-13          [-1, 128, 16, 16]             256\n",
            "             ReLU-14          [-1, 128, 16, 16]               0\n",
            "       BasicBlock-15          [-1, 128, 16, 16]               0\n",
            "           Conv2d-16          [-1, 256, 16, 16]         294,912\n",
            "        MaxPool2d-17            [-1, 256, 8, 8]               0\n",
            "      BatchNorm2d-18            [-1, 256, 8, 8]             512\n",
            "             ReLU-19            [-1, 256, 8, 8]               0\n",
            "        Dropout2d-20            [-1, 256, 8, 8]               0\n",
            "           Conv2d-21            [-1, 512, 8, 8]       1,179,648\n",
            "        MaxPool2d-22            [-1, 512, 4, 4]               0\n",
            "      BatchNorm2d-23            [-1, 512, 4, 4]           1,024\n",
            "             ReLU-24            [-1, 512, 4, 4]               0\n",
            "        Dropout2d-25            [-1, 512, 4, 4]               0\n",
            "           Conv2d-26            [-1, 512, 4, 4]       2,359,296\n",
            "      BatchNorm2d-27            [-1, 512, 4, 4]           1,024\n",
            "             ReLU-28            [-1, 512, 4, 4]               0\n",
            "           Conv2d-29            [-1, 512, 4, 4]       2,359,296\n",
            "      BatchNorm2d-30            [-1, 512, 4, 4]           1,024\n",
            "             ReLU-31            [-1, 512, 4, 4]               0\n",
            "       BasicBlock-32            [-1, 512, 4, 4]               0\n",
            "        MaxPool2d-33            [-1, 512, 1, 1]               0\n",
            "           Linear-34                  [-1, 128]          65,536\n",
            "      BatchNorm1d-35                  [-1, 128]             256\n",
            "           Linear-36                   [-1, 32]           4,096\n",
            "           Linear-37                   [-1, 10]             320\n",
            "================================================================\n",
            "Total params: 6,638,208\n",
            "Trainable params: 6,638,208\n",
            "Non-trainable params: 0\n",
            "----------------------------------------------------------------\n",
            "Input size (MB): 0.01\n",
            "Forward/backward pass size (MB): 7.19\n",
            "Params size (MB): 25.32\n",
            "Estimated Total Size (MB): 32.53\n",
            "----------------------------------------------------------------\n",
            "/n ================================================================================================== /n\n",
            "/n ================================================================================================== /n\n",
            "--------------------------------Starting LR Finder Test-----------------------------------------\n"
          ]
        },
        {
          "output_type": "display_data",
          "data": {
            "application/vnd.jupyter.widget-view+json": {
              "model_id": "6f610c27c91741f0844ff7382d963845",
              "version_minor": 0,
              "version_major": 2
            },
            "text/plain": [
              "  0%|          | 0/480 [00:00<?, ?it/s]"
            ]
          },
          "metadata": {}
        },
        {
          "output_type": "stream",
          "name": "stdout",
          "text": [
            "Learning rate search finished. See the graph with {finder_name}.plot()\n",
            "LR suggestion: steepest gradient\n",
            "Suggested LR: 4.64E-01\n"
          ]
        },
        {
          "output_type": "display_data",
          "data": {
            "image/png": "[encoded data removed]",
            "text/plain": [
              "<Figure size 432x288 with 1 Axes>"
            ]
          },
          "metadata": {
            "needs_background": "light"
          }
        }
      ]
    },
    {
      "cell_type": "code",
      "metadata": {
        "id": "Y0po6z2p_Hp4",
        "colab": {
          "base_uri": "https://localhost:8080/"
        },
        "outputId": "ca3fd37a-53a1-4540-a848-1c73ef88a274"
      },
      "source": [
        "start_lr = 1e-3\n",
        "print(f\"Max LR forund from LR Finder:{start_lr}\")\n",
        "max_lr = max_lr[-1]/10\n"
      ],
      "execution_count": 11,
      "outputs": [
        {
          "output_type": "stream",
          "name": "stdout",
          "text": [
            "Max LR forund from LR Finder:0.001\n"
          ]
        }
      ]
    },
    {
      "cell_type": "code",
      "metadata": {
        "id": "pn6tqMdFEo40"
      },
      "source": [
        "start_lr = 1e-3\n",
        "# max_lr = 0.0172685370741483 (Working with 87%)\n",
        "max_lr = 0.272685370741483  # 0.009746555323590814"
      ],
      "execution_count": 11,
      "outputs": []
    },
    {
      "cell_type": "markdown",
      "metadata": {
        "id": "NT47G0lmHQiM"
      },
      "source": [
        "### Experimenting with SGD"
      ]
    },
    {
      "cell_type": "code",
      "metadata": {
        "id": "GTN5t17j3Mec",
        "colab": {
          "base_uri": "https://localhost:8080/",
          "height": 1000
        },
        "outputId": "0fb90f0a-fffc-442e-fbc9-aaa2c540f603"
      },
      "source": [
        "model_main.run_experiments_custom_resnet(start_lr = start_lr, lrmax = max_lr)"
      ],
      "execution_count": 14,
      "outputs": [
        {
          "output_type": "stream",
          "name": "stdout",
          "text": [
            "Got all parser argument\n",
            "================================================> Preparing data................\n",
            "Files already downloaded and verified\n",
            "Files already downloaded and verified\n",
            "Files already downloaded and verified\n",
            "===========================================================> Building model Custom resnet.=========================================..............\n",
            "CustomResNet(\n",
            "  (prep_layer): Sequential(\n",
            "    (0): Conv2d(3, 64, kernel_size=(3, 3), stride=(1, 1), padding=(1, 1), bias=False)\n",
            "    (1): BatchNorm2d(64, eps=1e-05, momentum=0.1, affine=True, track_running_stats=True)\n",
            "    (2): ReLU()\n",
            "  )\n",
            "  (layer1): Sequential(\n",
            "    (0): Conv2d(64, 128, kernel_size=(3, 3), stride=(1, 1), padding=(1, 1), bias=False)\n",
            "    (1): MaxPool2d(kernel_size=2, stride=2, padding=0, dilation=1, ceil_mode=False)\n",
            "    (2): BatchNorm2d(128, eps=1e-05, momentum=0.1, affine=True, track_running_stats=True)\n",
            "    (3): ReLU()\n",
            "  )\n",
            "  (resblock1): BasicBlock(\n",
            "    (conv1): Conv2d(128, 128, kernel_size=(3, 3), stride=(1, 1), padding=(1, 1), bias=False)\n",
            "    (bn1): BatchNorm2d(128, eps=1e-05, momentum=0.1, affine=True, track_running_stats=True)\n",
            "    (conv2): Conv2d(128, 128, kernel_size=(3, 3), stride=(1, 1), padding=(1, 1), bias=False)\n",
            "    (bn2): BatchNorm2d(128, eps=1e-05, momentum=0.1, affine=True, track_running_stats=True)\n",
            "    (relu): ReLU()\n",
            "  )\n",
            "  (dp1): Dropout2d(p=0.15, inplace=False)\n",
            "  (layer2): Sequential(\n",
            "    (0): Conv2d(128, 256, kernel_size=(3, 3), stride=(1, 1), padding=(1, 1), bias=False)\n",
            "    (1): MaxPool2d(kernel_size=2, stride=2, padding=0, dilation=1, ceil_mode=False)\n",
            "    (2): BatchNorm2d(256, eps=1e-05, momentum=0.1, affine=True, track_running_stats=True)\n",
            "    (3): ReLU()\n",
            "  )\n",
            "  (layer3): Sequential(\n",
            "    (0): Conv2d(256, 512, kernel_size=(3, 3), stride=(1, 1), padding=(1, 1), bias=False)\n",
            "    (1): MaxPool2d(kernel_size=2, stride=2, padding=0, dilation=1, ceil_mode=False)\n",
            "    (2): BatchNorm2d(512, eps=1e-05, momentum=0.1, affine=True, track_running_stats=True)\n",
            "    (3): ReLU()\n",
            "  )\n",
            "  (resblock2): BasicBlock(\n",
            "    (conv1): Conv2d(512, 512, kernel_size=(3, 3), stride=(1, 1), padding=(1, 1), bias=False)\n",
            "    (bn1): BatchNorm2d(512, eps=1e-05, momentum=0.1, affine=True, track_running_stats=True)\n",
            "    (conv2): Conv2d(512, 512, kernel_size=(3, 3), stride=(1, 1), padding=(1, 1), bias=False)\n",
            "    (bn2): BatchNorm2d(512, eps=1e-05, momentum=0.1, affine=True, track_running_stats=True)\n",
            "    (relu): ReLU()\n",
            "  )\n",
            "  (dp2): Dropout2d(p=0.15, inplace=False)\n",
            "  (pool): MaxPool2d(kernel_size=4, stride=4, padding=0, dilation=1, ceil_mode=False)\n",
            "  (linear_1): Linear(in_features=512, out_features=128, bias=False)\n",
            "  (bn1d_1): BatchNorm1d(128, eps=1e-05, momentum=0.1, affine=True, track_running_stats=True)\n",
            "  (linear_2): Linear(in_features=128, out_features=32, bias=False)\n",
            "  (linear): Linear(in_features=32, out_features=10, bias=False)\n",
            ")\n",
            "----------------------------------------------------------------\n",
            "        Layer (type)               Output Shape         Param #\n",
            "================================================================\n",
            "            Conv2d-1           [-1, 64, 32, 32]           1,728\n",
            "       BatchNorm2d-2           [-1, 64, 32, 32]             128\n",
            "              ReLU-3           [-1, 64, 32, 32]               0\n",
            "            Conv2d-4          [-1, 128, 32, 32]          73,728\n",
            "         MaxPool2d-5          [-1, 128, 16, 16]               0\n",
            "       BatchNorm2d-6          [-1, 128, 16, 16]             256\n",
            "              ReLU-7          [-1, 128, 16, 16]               0\n",
            "         Dropout2d-8          [-1, 128, 16, 16]               0\n",
            "            Conv2d-9          [-1, 128, 16, 16]         147,456\n",
            "      BatchNorm2d-10          [-1, 128, 16, 16]             256\n",
            "             ReLU-11          [-1, 128, 16, 16]               0\n",
            "           Conv2d-12          [-1, 128, 16, 16]         147,456\n",
            "      BatchNorm2d-13          [-1, 128, 16, 16]             256\n",
            "             ReLU-14          [-1, 128, 16, 16]               0\n",
            "       BasicBlock-15          [-1, 128, 16, 16]               0\n",
            "           Conv2d-16          [-1, 256, 16, 16]         294,912\n",
            "        MaxPool2d-17            [-1, 256, 8, 8]               0\n",
            "      BatchNorm2d-18            [-1, 256, 8, 8]             512\n",
            "             ReLU-19            [-1, 256, 8, 8]               0\n",
            "        Dropout2d-20            [-1, 256, 8, 8]               0\n",
            "           Conv2d-21            [-1, 512, 8, 8]       1,179,648\n",
            "        MaxPool2d-22            [-1, 512, 4, 4]               0\n",
            "      BatchNorm2d-23            [-1, 512, 4, 4]           1,024\n",
            "             ReLU-24            [-1, 512, 4, 4]               0\n",
            "        Dropout2d-25            [-1, 512, 4, 4]               0\n",
            "           Conv2d-26            [-1, 512, 4, 4]       2,359,296\n",
            "      BatchNorm2d-27            [-1, 512, 4, 4]           1,024\n",
            "             ReLU-28            [-1, 512, 4, 4]               0\n",
            "           Conv2d-29            [-1, 512, 4, 4]       2,359,296\n",
            "      BatchNorm2d-30            [-1, 512, 4, 4]           1,024\n",
            "             ReLU-31            [-1, 512, 4, 4]               0\n",
            "       BasicBlock-32            [-1, 512, 4, 4]               0\n",
            "        MaxPool2d-33            [-1, 512, 1, 1]               0\n",
            "           Linear-34                  [-1, 128]          65,536\n",
            "      BatchNorm1d-35                  [-1, 128]             256\n",
            "           Linear-36                   [-1, 32]           4,096\n",
            "           Linear-37                   [-1, 10]             320\n",
            "================================================================\n",
            "Total params: 6,638,208\n",
            "Trainable params: 6,638,208\n",
            "Non-trainable params: 0\n",
            "----------------------------------------------------------------\n",
            "Input size (MB): 0.01\n",
            "Forward/backward pass size (MB): 7.19\n",
            "Params size (MB): 25.32\n",
            "Estimated Total Size (MB): 32.53\n",
            "----------------------------------------------------------------\n",
            "/n =============================================================================================================================================== /n\n",
            "/n =============================================================================================================================================== /n\n",
            "Adjusting learning rate of group 0 to 1.3634e-02.\n",
            "\n",
            "Epoch: 0\n"
          ]
        },
        {
          "output_type": "stream",
          "name": "stderr",
          "text": [
            "Loss=1.3286055326461792 Batch_id=97  LR=0.01363 Accuracy=38.46: 100%|██████████| 98/98 [00:52<00:00,  1.88it/s]\n",
            "Loss=1.3642845153808594 Batch_id=19 LR=0.01363 Accuracy=54.59: 100%|██████████| 20/20 [00:04<00:00,  4.97it/s]\n"
          ]
        },
        {
          "output_type": "stream",
          "name": "stdout",
          "text": [
            "Saving..\n",
            "Adjusting learning rate of group 0 to 1.3637e-02.\n",
            "\n",
            "Epoch: 1\n"
          ]
        },
        {
          "output_type": "stream",
          "name": "stderr",
          "text": [
            "Loss=0.9819514155387878 Batch_id=97  LR=0.01364 Accuracy=58.24: 100%|██████████| 98/98 [00:52<00:00,  1.87it/s]\n",
            "Loss=1.11630380153656 Batch_id=19 LR=0.01364 Accuracy=64.11: 100%|██████████| 20/20 [00:04<00:00,  4.98it/s]\n"
          ]
        },
        {
          "output_type": "stream",
          "name": "stdout",
          "text": [
            "Saving..\n",
            "Adjusting learning rate of group 0 to 1.3645e-02.\n",
            "\n",
            "Epoch: 2\n"
          ]
        },
        {
          "output_type": "stream",
          "name": "stderr",
          "text": [
            "Loss=0.7288237810134888 Batch_id=97  LR=0.01364 Accuracy=68.19: 100%|██████████| 98/98 [00:52<00:00,  1.87it/s]\n",
            "Loss=0.8754950165748596 Batch_id=19 LR=0.01364 Accuracy=73.33: 100%|██████████| 20/20 [00:04<00:00,  4.94it/s]\n"
          ]
        },
        {
          "output_type": "stream",
          "name": "stdout",
          "text": [
            "Saving..\n",
            "Adjusting learning rate of group 0 to 1.3658e-02.\n",
            "\n",
            "Epoch: 3\n"
          ]
        },
        {
          "output_type": "stream",
          "name": "stderr",
          "text": [
            "Loss=0.751386821269989 Batch_id=97  LR=0.01366 Accuracy=73.73: 100%|██████████| 98/98 [00:52<00:00,  1.87it/s]\n",
            "Loss=0.6895487308502197 Batch_id=19 LR=0.01366 Accuracy=77.54: 100%|██████████| 20/20 [00:04<00:00,  4.95it/s]\n"
          ]
        },
        {
          "output_type": "stream",
          "name": "stdout",
          "text": [
            "Saving..\n",
            "Adjusting learning rate of group 0 to 1.3677e-02.\n",
            "\n",
            "Epoch: 4\n"
          ]
        },
        {
          "output_type": "stream",
          "name": "stderr",
          "text": [
            "Loss=0.6116072535514832 Batch_id=97  LR=0.01368 Accuracy=77.35: 100%|██████████| 98/98 [00:52<00:00,  1.87it/s]\n",
            "Loss=0.6312600374221802 Batch_id=19 LR=0.01368 Accuracy=80.79: 100%|██████████| 20/20 [00:04<00:00,  4.99it/s]\n"
          ]
        },
        {
          "output_type": "stream",
          "name": "stdout",
          "text": [
            "Saving..\n",
            "Adjusting learning rate of group 0 to 1.3701e-02.\n",
            "\n",
            "Epoch: 5\n"
          ]
        },
        {
          "output_type": "stream",
          "name": "stderr",
          "text": [
            "Loss=0.6062972545623779 Batch_id=97  LR=0.01370 Accuracy=79.71: 100%|██████████| 98/98 [00:52<00:00,  1.87it/s]\n",
            "Loss=0.4955826997756958 Batch_id=19 LR=0.01370 Accuracy=82.57: 100%|██████████| 20/20 [00:04<00:00,  4.83it/s]\n"
          ]
        },
        {
          "output_type": "stream",
          "name": "stdout",
          "text": [
            "Saving..\n",
            "Adjusting learning rate of group 0 to 1.3730e-02.\n",
            "\n",
            "Epoch: 6\n"
          ]
        },
        {
          "output_type": "stream",
          "name": "stderr",
          "text": [
            "Loss=0.5350529551506042 Batch_id=97  LR=0.01373 Accuracy=81.68: 100%|██████████| 98/98 [00:52<00:00,  1.87it/s]\n",
            "Loss=0.4979308545589447 Batch_id=19 LR=0.01373 Accuracy=82.83: 100%|██████████| 20/20 [00:03<00:00,  5.02it/s]\n"
          ]
        },
        {
          "output_type": "stream",
          "name": "stdout",
          "text": [
            "Saving..\n",
            "Adjusting learning rate of group 0 to 1.3765e-02.\n",
            "\n",
            "Epoch: 7\n"
          ]
        },
        {
          "output_type": "stream",
          "name": "stderr",
          "text": [
            "Loss=0.486337810754776 Batch_id=97  LR=0.01377 Accuracy=83.01: 100%|██████████| 98/98 [00:52<00:00,  1.87it/s]\n",
            "Loss=0.4732119143009186 Batch_id=19 LR=0.01377 Accuracy=85.07: 100%|██████████| 20/20 [00:04<00:00,  4.99it/s]\n"
          ]
        },
        {
          "output_type": "stream",
          "name": "stdout",
          "text": [
            "Saving..\n",
            "Adjusting learning rate of group 0 to 1.3805e-02.\n",
            "\n",
            "Epoch: 8\n"
          ]
        },
        {
          "output_type": "stream",
          "name": "stderr",
          "text": [
            "Loss=0.44058114290237427 Batch_id=97  LR=0.01381 Accuracy=84.34: 100%|██████████| 98/98 [00:52<00:00,  1.87it/s]\n",
            "Loss=0.4738975465297699 Batch_id=19 LR=0.01381 Accuracy=85.42: 100%|██████████| 20/20 [00:04<00:00,  4.95it/s]\n"
          ]
        },
        {
          "output_type": "stream",
          "name": "stdout",
          "text": [
            "Saving..\n",
            "Adjusting learning rate of group 0 to 1.3851e-02.\n",
            "\n",
            "Epoch: 9\n"
          ]
        },
        {
          "output_type": "stream",
          "name": "stderr",
          "text": [
            "Loss=0.3530585467815399 Batch_id=97  LR=0.01385 Accuracy=85.59: 100%|██████████| 98/98 [00:52<00:00,  1.87it/s]\n",
            "Loss=0.44279834628105164 Batch_id=19 LR=0.01385 Accuracy=85.89: 100%|██████████| 20/20 [00:03<00:00,  5.02it/s]\n"
          ]
        },
        {
          "output_type": "stream",
          "name": "stdout",
          "text": [
            "Saving..\n",
            "Adjusting learning rate of group 0 to 1.3901e-02.\n",
            "\n",
            "Epoch: 10\n"
          ]
        },
        {
          "output_type": "stream",
          "name": "stderr",
          "text": [
            "Loss=0.4318418502807617 Batch_id=97  LR=0.01390 Accuracy=86.26: 100%|██████████| 98/98 [00:52<00:00,  1.87it/s]\n",
            "Loss=0.40436437726020813 Batch_id=19 LR=0.01390 Accuracy=86.45: 100%|██████████| 20/20 [00:04<00:00,  4.94it/s]\n"
          ]
        },
        {
          "output_type": "stream",
          "name": "stdout",
          "text": [
            "Saving..\n",
            "Adjusting learning rate of group 0 to 1.3958e-02.\n",
            "\n",
            "Epoch: 11\n"
          ]
        },
        {
          "output_type": "stream",
          "name": "stderr",
          "text": [
            "Loss=0.4453912377357483 Batch_id=97  LR=0.01396 Accuracy=87.23: 100%|██████████| 98/98 [00:52<00:00,  1.87it/s]\n",
            "Loss=0.43796873092651367 Batch_id=19 LR=0.01396 Accuracy=85.54: 100%|██████████| 20/20 [00:03<00:00,  5.03it/s]\n"
          ]
        },
        {
          "output_type": "stream",
          "name": "stdout",
          "text": [
            "Adjusting learning rate of group 0 to 1.4019e-02.\n",
            "\n",
            "Epoch: 12\n"
          ]
        },
        {
          "output_type": "stream",
          "name": "stderr",
          "text": [
            "Loss=0.3700789511203766 Batch_id=97  LR=0.01402 Accuracy=87.85: 100%|██████████| 98/98 [00:52<00:00,  1.87it/s]\n",
            "Loss=0.3744039833545685 Batch_id=19 LR=0.01402 Accuracy=86.94: 100%|██████████| 20/20 [00:04<00:00,  5.00it/s]\n"
          ]
        },
        {
          "output_type": "stream",
          "name": "stdout",
          "text": [
            "Saving..\n",
            "Adjusting learning rate of group 0 to 1.4086e-02.\n",
            "\n",
            "Epoch: 13\n"
          ]
        },
        {
          "output_type": "stream",
          "name": "stderr",
          "text": [
            "Loss=0.3238861560821533 Batch_id=97  LR=0.01409 Accuracy=88.27: 100%|██████████| 98/98 [00:52<00:00,  1.87it/s]\n",
            "Loss=0.4022725522518158 Batch_id=19 LR=0.01409 Accuracy=87.78: 100%|██████████| 20/20 [00:04<00:00,  4.96it/s]\n"
          ]
        },
        {
          "output_type": "stream",
          "name": "stdout",
          "text": [
            "Saving..\n",
            "Adjusting learning rate of group 0 to 1.4158e-02.\n",
            "\n",
            "Epoch: 14\n"
          ]
        },
        {
          "output_type": "stream",
          "name": "stderr",
          "text": [
            "Loss=0.3269023299217224 Batch_id=97  LR=0.01416 Accuracy=88.99: 100%|██████████| 98/98 [00:52<00:00,  1.87it/s]\n",
            "Loss=0.4087802767753601 Batch_id=19 LR=0.01416 Accuracy=87.15: 100%|██████████| 20/20 [00:04<00:00,  4.99it/s]\n"
          ]
        },
        {
          "output_type": "stream",
          "name": "stdout",
          "text": [
            "Adjusting learning rate of group 0 to 1.4235e-02.\n",
            "\n",
            "Epoch: 15\n"
          ]
        },
        {
          "output_type": "stream",
          "name": "stderr",
          "text": [
            "Loss=0.3360343277454376 Batch_id=97  LR=0.01424 Accuracy=89.48: 100%|██████████| 98/98 [00:52<00:00,  1.87it/s]\n",
            "Loss=0.37537717819213867 Batch_id=19 LR=0.01424 Accuracy=87.55: 100%|██████████| 20/20 [00:04<00:00,  4.97it/s]\n"
          ]
        },
        {
          "output_type": "stream",
          "name": "stdout",
          "text": [
            "Adjusting learning rate of group 0 to 1.4318e-02.\n",
            "\n",
            "Epoch: 16\n"
          ]
        },
        {
          "output_type": "stream",
          "name": "stderr",
          "text": [
            "Loss=0.30777907371520996 Batch_id=97  LR=0.01432 Accuracy=89.70: 100%|██████████| 98/98 [00:52<00:00,  1.87it/s]\n",
            "Loss=0.40739285945892334 Batch_id=19 LR=0.01432 Accuracy=88.05: 100%|██████████| 20/20 [00:04<00:00,  4.88it/s]\n"
          ]
        },
        {
          "output_type": "stream",
          "name": "stdout",
          "text": [
            "Saving..\n",
            "Adjusting learning rate of group 0 to 1.4406e-02.\n",
            "\n",
            "Epoch: 17\n"
          ]
        },
        {
          "output_type": "stream",
          "name": "stderr",
          "text": [
            "Loss=0.30210551619529724 Batch_id=97  LR=0.01441 Accuracy=90.28: 100%|██████████| 98/98 [00:52<00:00,  1.87it/s]\n",
            "Loss=0.40365567803382874 Batch_id=19 LR=0.01441 Accuracy=88.17: 100%|██████████| 20/20 [00:04<00:00,  4.93it/s]\n"
          ]
        },
        {
          "output_type": "stream",
          "name": "stdout",
          "text": [
            "Saving..\n",
            "Adjusting learning rate of group 0 to 1.4499e-02.\n",
            "\n",
            "Epoch: 18\n"
          ]
        },
        {
          "output_type": "stream",
          "name": "stderr",
          "text": [
            "Loss=0.24850666522979736 Batch_id=97  LR=0.01450 Accuracy=90.84: 100%|██████████| 98/98 [00:52<00:00,  1.87it/s]\n",
            "Loss=0.36792969703674316 Batch_id=19 LR=0.01450 Accuracy=88.45: 100%|██████████| 20/20 [00:04<00:00,  4.97it/s]\n"
          ]
        },
        {
          "output_type": "stream",
          "name": "stdout",
          "text": [
            "Saving..\n",
            "Adjusting learning rate of group 0 to 1.4598e-02.\n",
            "\n",
            "Epoch: 19\n"
          ]
        },
        {
          "output_type": "stream",
          "name": "stderr",
          "text": [
            "Loss=0.286437064409256 Batch_id=97  LR=0.01460 Accuracy=91.10: 100%|██████████| 98/98 [00:52<00:00,  1.87it/s]\n",
            "Loss=0.394625723361969 Batch_id=19 LR=0.01460 Accuracy=88.47: 100%|██████████| 20/20 [00:04<00:00,  4.91it/s]\n"
          ]
        },
        {
          "output_type": "stream",
          "name": "stdout",
          "text": [
            "Saving..\n",
            "Adjusting learning rate of group 0 to 1.4702e-02.\n",
            "\n",
            "Epoch: 20\n"
          ]
        },
        {
          "output_type": "stream",
          "name": "stderr",
          "text": [
            "Loss=0.2809191644191742 Batch_id=97  LR=0.01470 Accuracy=91.39: 100%|██████████| 98/98 [00:52<00:00,  1.87it/s]\n",
            "Loss=0.3442245423793793 Batch_id=19 LR=0.01470 Accuracy=88.96: 100%|██████████| 20/20 [00:04<00:00,  4.98it/s]\n"
          ]
        },
        {
          "output_type": "stream",
          "name": "stdout",
          "text": [
            "Saving..\n",
            "Adjusting learning rate of group 0 to 1.4811e-02.\n",
            "\n",
            "Epoch: 21\n"
          ]
        },
        {
          "output_type": "stream",
          "name": "stderr",
          "text": [
            "Loss=0.2648541033267975 Batch_id=97  LR=0.01481 Accuracy=91.71: 100%|██████████| 98/98 [00:52<00:00,  1.87it/s]\n",
            "Loss=0.34203609824180603 Batch_id=19 LR=0.01481 Accuracy=88.60: 100%|██████████| 20/20 [00:04<00:00,  4.97it/s]\n"
          ]
        },
        {
          "output_type": "stream",
          "name": "stdout",
          "text": [
            "Adjusting learning rate of group 0 to 1.4926e-02.\n",
            "\n",
            "Epoch: 22\n"
          ]
        },
        {
          "output_type": "stream",
          "name": "stderr",
          "text": [
            "Loss=0.2702557146549225 Batch_id=97  LR=0.01493 Accuracy=91.94: 100%|██████████| 98/98 [00:52<00:00,  1.86it/s]\n",
            "Loss=0.34372588992118835 Batch_id=19 LR=0.01493 Accuracy=88.97: 100%|██████████| 20/20 [00:04<00:00,  4.93it/s]\n"
          ]
        },
        {
          "output_type": "stream",
          "name": "stdout",
          "text": [
            "Saving..\n",
            "Adjusting learning rate of group 0 to 1.5046e-02.\n",
            "\n",
            "Epoch: 23\n"
          ]
        },
        {
          "output_type": "stream",
          "name": "stderr",
          "text": [
            "Loss=0.2633213400840759 Batch_id=97  LR=0.01505 Accuracy=92.20: 100%|██████████| 98/98 [00:52<00:00,  1.86it/s]\n",
            "Loss=0.3801964521408081 Batch_id=19 LR=0.01505 Accuracy=89.04: 100%|██████████| 20/20 [00:04<00:00,  4.98it/s]\n"
          ]
        },
        {
          "output_type": "stream",
          "name": "stdout",
          "text": [
            "Saving..\n",
            "Adjusting learning rate of group 0 to 1.5171e-02.\n",
            "============================================================ Training and Testing Performance ==============================================================\n",
            "============================================================================================================================================================\n"
          ]
        },
        {
          "output_type": "display_data",
          "data": {
            "image/png": "[encoded data removed]",
            "text/plain": [
              "<Figure size 1800x432 with 2 Axes>"
            ]
          },
          "metadata": {}
        },
        {
          "output_type": "stream",
          "name": "stdout",
          "text": [
            "============================================================= Class Level Accuracy =========================================================================\n",
            "=========================================================================================================================================================== \n",
            "Accuracy of airplane : 85 %\n",
            "Accuracy of automobile : 100 %\n",
            "Accuracy of  bird : 100 %\n",
            "Accuracy of   cat : 50 %\n",
            "Accuracy of  deer : 100 %\n",
            "Accuracy of   dog : 66 %\n",
            "Accuracy of  frog : 81 %\n",
            "Accuracy of horse : 100 %\n",
            "Accuracy of  ship : 91 %\n",
            "Accuracy of truck : 100 %\n",
            "============================================== Random Misclassified Images ================================================================================\n"
          ]
        },
        {
          "output_type": "stream",
          "name": "stderr",
          "text": [
            "Clipping input data to the valid range for imshow with RGB data ([0..1] for floats or [0..255] for integers).\n",
            "Clipping input data to the valid range for imshow with RGB data ([0..1] for floats or [0..255] for integers).\n",
            "Clipping input data to the valid range for imshow with RGB data ([0..1] for floats or [0..255] for integers).\n",
            "Clipping input data to the valid range for imshow with RGB data ([0..1] for floats or [0..255] for integers).\n",
            "Clipping input data to the valid range for imshow with RGB data ([0..1] for floats or [0..255] for integers).\n",
            "Clipping input data to the valid range for imshow with RGB data ([0..1] for floats or [0..255] for integers).\n",
            "Clipping input data to the valid range for imshow with RGB data ([0..1] for floats or [0..255] for integers).\n",
            "Clipping input data to the valid range for imshow with RGB data ([0..1] for floats or [0..255] for integers).\n",
            "Clipping input data to the valid range for imshow with RGB data ([0..1] for floats or [0..255] for integers).\n"
          ]
        },
        {
          "output_type": "stream",
          "name": "stdout",
          "text": [
            "Total wrong predictions are 1096\n"
          ]
        },
        {
          "output_type": "stream",
          "name": "stderr",
          "text": [
            "Clipping input data to the valid range for imshow with RGB data ([0..1] for floats or [0..255] for integers).\n"
          ]
        },
        {
          "output_type": "display_data",
          "data": {
            "image/png": "[encoded data removed]",
            "text/plain": [
              "<Figure size 1296x1440 with 10 Axes>"
            ]
          },
          "metadata": {}
        },
        {
          "output_type": "stream",
          "name": "stdout",
          "text": [
            "==========================================================================================================================================================\n",
            "============================================== Grdadcam Misclassified Images =============================================================================\n",
            "torch.Size([20, 10])\n",
            "Generating Grad-CAM @conv_layer_1\n"
          ]
        },
        {
          "output_type": "error",
          "ename": "ValueError",
          "evalue": "ignored",
          "traceback": [
            "\u001b[0;31m---------------------------------------------------------------------------\u001b[0m",
            "\u001b[0;31mValueError\u001b[0m                                Traceback (most recent call last)",
            "\u001b[0;32m<ipython-input-14-3201a0223e7a>\u001b[0m in \u001b[0;36m<module>\u001b[0;34m()\u001b[0m\n\u001b[0;32m----> 1\u001b[0;31m \u001b[0mmodel_main\u001b[0m\u001b[0;34m.\u001b[0m\u001b[0mrun_experiments_custom_resnet\u001b[0m\u001b[0;34m(\u001b[0m\u001b[0mstart_lr\u001b[0m \u001b[0;34m=\u001b[0m \u001b[0mstart_lr\u001b[0m\u001b[0;34m,\u001b[0m \u001b[0mlrmax\u001b[0m \u001b[0;34m=\u001b[0m \u001b[0mmax_lr\u001b[0m\u001b[0;34m)\u001b[0m\u001b[0;34m\u001b[0m\u001b[0;34m\u001b[0m\u001b[0m\n\u001b[0m",
            "\u001b[0;32m/content/Transformer-DeepLearning/ConvModelAdvancedTraining/main.py\u001b[0m in \u001b[0;36mrun_experiments_custom_resnet\u001b[0;34m(start_lr, lrmax, resume, description, epochs, max_at_epoch)\u001b[0m\n\u001b[1;32m    428\u001b[0m   \u001b[0mclasses\u001b[0m \u001b[0;34m=\u001b[0m \u001b[0;34m[\u001b[0m\u001b[0;34m'plane'\u001b[0m\u001b[0;34m,\u001b[0m \u001b[0;34m'car'\u001b[0m\u001b[0;34m,\u001b[0m \u001b[0;34m'bird'\u001b[0m\u001b[0;34m,\u001b[0m \u001b[0;34m'cat'\u001b[0m\u001b[0;34m,\u001b[0m \u001b[0;34m'deer'\u001b[0m\u001b[0;34m,\u001b[0m \u001b[0;34m'dog'\u001b[0m\u001b[0;34m,\u001b[0m \u001b[0;34m'frog'\u001b[0m\u001b[0;34m,\u001b[0m \u001b[0;34m'horse'\u001b[0m\u001b[0;34m,\u001b[0m \u001b[0;34m'ship'\u001b[0m\u001b[0;34m,\u001b[0m \u001b[0;34m'truck'\u001b[0m\u001b[0;34m]\u001b[0m\u001b[0;34m\u001b[0m\u001b[0;34m\u001b[0m\u001b[0m\n\u001b[1;32m    429\u001b[0m   \u001b[0mtarget_layers\u001b[0m \u001b[0;34m=\u001b[0m \u001b[0;34m[\u001b[0m\u001b[0;34m\"conv_layer_1\"\u001b[0m\u001b[0;34m,\u001b[0m\u001b[0;34m\"conv_layer_2\"\u001b[0m\u001b[0;34m,\u001b[0m\u001b[0;34m\"conv_layer_3\"\u001b[0m\u001b[0;34m]\u001b[0m\u001b[0;34m\u001b[0m\u001b[0;34m\u001b[0m\u001b[0m\n\u001b[0;32m--> 430\u001b[0;31m   \u001b[0mgradcam_output\u001b[0m\u001b[0;34m,\u001b[0m \u001b[0mprobs\u001b[0m\u001b[0;34m,\u001b[0m \u001b[0mpredicted_classes\u001b[0m \u001b[0;34m=\u001b[0m \u001b[0mgenerate_gradcam\u001b[0m\u001b[0;34m(\u001b[0m\u001b[0mwrong_images\u001b[0m\u001b[0;34m[\u001b[0m\u001b[0;34m:\u001b[0m\u001b[0;36m20\u001b[0m\u001b[0;34m]\u001b[0m\u001b[0;34m,\u001b[0m \u001b[0mnet\u001b[0m\u001b[0;34m,\u001b[0m \u001b[0mtarget_layers\u001b[0m\u001b[0;34m,\u001b[0m\u001b[0mdevice\u001b[0m\u001b[0;34m)\u001b[0m\u001b[0;34m\u001b[0m\u001b[0;34m\u001b[0m\u001b[0m\n\u001b[0m\u001b[1;32m    431\u001b[0m   \u001b[0mplot_gradcam\u001b[0m\u001b[0;34m(\u001b[0m\u001b[0mgradcam_output\u001b[0m\u001b[0;34m,\u001b[0m \u001b[0mtarget_layers\u001b[0m\u001b[0;34m,\u001b[0m \u001b[0mclasses\u001b[0m\u001b[0;34m,\u001b[0m \u001b[0;34m(\u001b[0m\u001b[0;36m3\u001b[0m\u001b[0;34m,\u001b[0m \u001b[0;36m32\u001b[0m\u001b[0;34m,\u001b[0m \u001b[0;36m32\u001b[0m\u001b[0;34m)\u001b[0m\u001b[0;34m,\u001b[0m\u001b[0mpredicted_classes\u001b[0m\u001b[0;34m,\u001b[0m \u001b[0mwrong_images\u001b[0m\u001b[0;34m[\u001b[0m\u001b[0;34m:\u001b[0m\u001b[0;36m20\u001b[0m\u001b[0;34m]\u001b[0m\u001b[0;34m)\u001b[0m\u001b[0;34m\u001b[0m\u001b[0;34m\u001b[0m\u001b[0m\n\u001b[1;32m    432\u001b[0m   \u001b[0mprint\u001b[0m\u001b[0;34m(\u001b[0m\u001b[0;34m'==========================================================================================================================================================='\u001b[0m\u001b[0;34m)\u001b[0m\u001b[0;34m\u001b[0m\u001b[0;34m\u001b[0m\u001b[0m\n",
            "\u001b[0;32m/content/Transformer-DeepLearning/ConvModelAdvancedTraining/gradcam.py\u001b[0m in \u001b[0;36mgenerate_gradcam\u001b[0;34m(misclassified_images, model, target_layers, device)\u001b[0m\n\u001b[1;32m    140\u001b[0m         \u001b[0mprint\u001b[0m\u001b[0;34m(\u001b[0m\u001b[0;34m\"Generating Grad-CAM @{}\"\u001b[0m\u001b[0;34m.\u001b[0m\u001b[0mformat\u001b[0m\u001b[0;34m(\u001b[0m\u001b[0mtarget_layer\u001b[0m\u001b[0;34m)\u001b[0m\u001b[0;34m)\u001b[0m\u001b[0;34m\u001b[0m\u001b[0;34m\u001b[0m\u001b[0m\n\u001b[1;32m    141\u001b[0m         \u001b[0;31m# Grad-CAM\u001b[0m\u001b[0;34m\u001b[0m\u001b[0;34m\u001b[0m\u001b[0;34m\u001b[0m\u001b[0m\n\u001b[0;32m--> 142\u001b[0;31m         \u001b[0mlayers\u001b[0m\u001b[0;34m.\u001b[0m\u001b[0mappend\u001b[0m\u001b[0;34m(\u001b[0m\u001b[0mgcam\u001b[0m\u001b[0;34m.\u001b[0m\u001b[0mgenerate\u001b[0m\u001b[0;34m(\u001b[0m\u001b[0mtarget_layer\u001b[0m\u001b[0;34m=\u001b[0m\u001b[0mtarget_layer\u001b[0m\u001b[0;34m)\u001b[0m\u001b[0;34m)\u001b[0m\u001b[0;34m\u001b[0m\u001b[0;34m\u001b[0m\u001b[0m\n\u001b[0m\u001b[1;32m    143\u001b[0m \u001b[0;34m\u001b[0m\u001b[0m\n\u001b[1;32m    144\u001b[0m     \u001b[0;31m# remove hooks when done\u001b[0m\u001b[0;34m\u001b[0m\u001b[0;34m\u001b[0m\u001b[0;34m\u001b[0m\u001b[0m\n",
            "\u001b[0;32m/content/Transformer-DeepLearning/ConvModelAdvancedTraining/gradcam.py\u001b[0m in \u001b[0;36mgenerate\u001b[0;34m(self, target_layer)\u001b[0m\n\u001b[1;32m     92\u001b[0m \u001b[0;34m\u001b[0m\u001b[0m\n\u001b[1;32m     93\u001b[0m     \u001b[0;32mdef\u001b[0m \u001b[0mgenerate\u001b[0m\u001b[0;34m(\u001b[0m\u001b[0mself\u001b[0m\u001b[0;34m,\u001b[0m \u001b[0mtarget_layer\u001b[0m\u001b[0;34m)\u001b[0m\u001b[0;34m:\u001b[0m\u001b[0;34m\u001b[0m\u001b[0;34m\u001b[0m\u001b[0m\n\u001b[0;32m---> 94\u001b[0;31m         \u001b[0mfmaps\u001b[0m \u001b[0;34m=\u001b[0m \u001b[0mself\u001b[0m\u001b[0;34m.\u001b[0m\u001b[0m_find\u001b[0m\u001b[0;34m(\u001b[0m\u001b[0mself\u001b[0m\u001b[0;34m.\u001b[0m\u001b[0mfmap_pool\u001b[0m\u001b[0;34m,\u001b[0m \u001b[0mtarget_layer\u001b[0m\u001b[0;34m)\u001b[0m\u001b[0;34m\u001b[0m\u001b[0;34m\u001b[0m\u001b[0m\n\u001b[0m\u001b[1;32m     95\u001b[0m         \u001b[0mgrads\u001b[0m \u001b[0;34m=\u001b[0m \u001b[0mself\u001b[0m\u001b[0;34m.\u001b[0m\u001b[0m_find\u001b[0m\u001b[0;34m(\u001b[0m\u001b[0mself\u001b[0m\u001b[0;34m.\u001b[0m\u001b[0mgrad_pool\u001b[0m\u001b[0;34m,\u001b[0m \u001b[0mtarget_layer\u001b[0m\u001b[0;34m)\u001b[0m\u001b[0;34m\u001b[0m\u001b[0;34m\u001b[0m\u001b[0m\n\u001b[1;32m     96\u001b[0m         \u001b[0mweights\u001b[0m \u001b[0;34m=\u001b[0m \u001b[0mF\u001b[0m\u001b[0;34m.\u001b[0m\u001b[0madaptive_avg_pool2d\u001b[0m\u001b[0;34m(\u001b[0m\u001b[0mgrads\u001b[0m\u001b[0;34m,\u001b[0m \u001b[0;36m1\u001b[0m\u001b[0;34m)\u001b[0m\u001b[0;34m\u001b[0m\u001b[0;34m\u001b[0m\u001b[0m\n",
            "\u001b[0;32m/content/Transformer-DeepLearning/ConvModelAdvancedTraining/gradcam.py\u001b[0m in \u001b[0;36m_find\u001b[0;34m(self, pool, target_layer)\u001b[0m\n\u001b[1;32m     89\u001b[0m             \u001b[0;32mreturn\u001b[0m \u001b[0mpool\u001b[0m\u001b[0;34m[\u001b[0m\u001b[0mtarget_layer\u001b[0m\u001b[0;34m]\u001b[0m\u001b[0;34m\u001b[0m\u001b[0;34m\u001b[0m\u001b[0m\n\u001b[1;32m     90\u001b[0m         \u001b[0;32melse\u001b[0m\u001b[0;34m:\u001b[0m\u001b[0;34m\u001b[0m\u001b[0;34m\u001b[0m\u001b[0m\n\u001b[0;32m---> 91\u001b[0;31m             \u001b[0;32mraise\u001b[0m \u001b[0mValueError\u001b[0m\u001b[0;34m(\u001b[0m\u001b[0;34m\"Invalid layer name: {}\"\u001b[0m\u001b[0;34m.\u001b[0m\u001b[0mformat\u001b[0m\u001b[0;34m(\u001b[0m\u001b[0mtarget_layer\u001b[0m\u001b[0;34m)\u001b[0m\u001b[0;34m)\u001b[0m\u001b[0;34m\u001b[0m\u001b[0;34m\u001b[0m\u001b[0m\n\u001b[0m\u001b[1;32m     92\u001b[0m \u001b[0;34m\u001b[0m\u001b[0m\n\u001b[1;32m     93\u001b[0m     \u001b[0;32mdef\u001b[0m \u001b[0mgenerate\u001b[0m\u001b[0;34m(\u001b[0m\u001b[0mself\u001b[0m\u001b[0;34m,\u001b[0m \u001b[0mtarget_layer\u001b[0m\u001b[0;34m)\u001b[0m\u001b[0;34m:\u001b[0m\u001b[0;34m\u001b[0m\u001b[0;34m\u001b[0m\u001b[0m\n",
            "\u001b[0;31mValueError\u001b[0m: Invalid layer name: conv_layer_1"
          ]
        }
      ]
    },
    {
      "cell_type": "markdown",
      "metadata": {
        "id": "_VterG1FHLkM"
      },
      "source": [
        "### Experimenting with Adam"
      ]
    },
    {
      "cell_type": "code",
      "metadata": {
        "id": "OvBP6iGiZlIb"
      },
      "source": [
        "start_lr = 1e-3\n",
        "# max_lr = 0.0172685370741483 (Working with 87%)\n",
        "max_lr = 0.012272685370741483  # 0.009746555323590814"
      ],
      "execution_count": 9,
      "outputs": []
    },
    {
      "cell_type": "code",
      "metadata": {
        "colab": {
          "base_uri": "https://localhost:8080/",
          "height": 1000,
          "referenced_widgets": [
            "c0fd8819e5b7487190973a2c183b5624",
            "6b01bf322ba94f73892703347d85b494",
            "815d69b4a01f436ba2bc1c69101f4081",
            "10a7a56f732243b58a00017cdf5191d0",
            "66e197feb6284e6488e5cfe6da5a0f4a",
            "d14d68ddafd24ec0a739933e5ba3e639",
            "98d8d1dd81cd4dfe94ac38dfabf0ca1c",
            "029dfaa8d093492a91ad9ec32cd63039",
            "bdfb41905c524cdf9971cff30b509b5a",
            "72de205c20764c8c9351dff9b99a6d38",
            "cf35689ad1814c63a17b6859fa4c2f19"
          ]
        },
        "id": "wYrRVRWxG7dZ",
        "outputId": "db3ee392-ac6c-46eb-f27c-58fe00f61aa3"
      },
      "source": [
        "model_main.run_experiments_custom_resnet(start_lr = start_lr, \n",
        "                                         lrmax = max_lr,\n",
        "                                         IsSGD= False)"
      ],
      "execution_count": 10,
      "outputs": [
        {
          "output_type": "stream",
          "name": "stdout",
          "text": [
            "Got all parser argument\n",
            "================================================> Preparing data................\n",
            "Downloading https://www.cs.toronto.edu/~kriz/cifar-10-python.tar.gz to ./data/cifar-10-python.tar.gz\n"
          ]
        },
        {
          "output_type": "display_data",
          "data": {
            "application/vnd.jupyter.widget-view+json": {
              "model_id": "c0fd8819e5b7487190973a2c183b5624",
              "version_minor": 0,
              "version_major": 2
            },
            "text/plain": [
              "  0%|          | 0/170498071 [00:00<?, ?it/s]"
            ]
          },
          "metadata": {}
        },
        {
          "output_type": "stream",
          "name": "stdout",
          "text": [
            "Extracting ./data/cifar-10-python.tar.gz to ./data\n",
            "Files already downloaded and verified\n",
            "Files already downloaded and verified\n",
            "===========================================================> Building model Custom resnet.=========================================..............\n",
            "CustomResNet(\n",
            "  (prep_layer): Sequential(\n",
            "    (0): Conv2d(3, 64, kernel_size=(3, 3), stride=(1, 1), padding=(1, 1), bias=False)\n",
            "    (1): BatchNorm2d(64, eps=1e-05, momentum=0.1, affine=True, track_running_stats=True)\n",
            "    (2): ReLU()\n",
            "  )\n",
            "  (layer1): Sequential(\n",
            "    (0): Conv2d(64, 128, kernel_size=(3, 3), stride=(1, 1), padding=(1, 1), bias=False)\n",
            "    (1): MaxPool2d(kernel_size=2, stride=2, padding=0, dilation=1, ceil_mode=False)\n",
            "    (2): BatchNorm2d(128, eps=1e-05, momentum=0.1, affine=True, track_running_stats=True)\n",
            "    (3): ReLU()\n",
            "  )\n",
            "  (resblock1): BasicBlock(\n",
            "    (conv1): Conv2d(128, 128, kernel_size=(3, 3), stride=(1, 1), padding=(1, 1), bias=False)\n",
            "    (bn1): BatchNorm2d(128, eps=1e-05, momentum=0.1, affine=True, track_running_stats=True)\n",
            "    (conv2): Conv2d(128, 128, kernel_size=(3, 3), stride=(1, 1), padding=(1, 1), bias=False)\n",
            "    (bn2): BatchNorm2d(128, eps=1e-05, momentum=0.1, affine=True, track_running_stats=True)\n",
            "    (relu): ReLU()\n",
            "  )\n",
            "  (dp1): Dropout2d(p=0.15, inplace=False)\n",
            "  (layer2): Sequential(\n",
            "    (0): Conv2d(128, 256, kernel_size=(3, 3), stride=(1, 1), padding=(1, 1), bias=False)\n",
            "    (1): MaxPool2d(kernel_size=2, stride=2, padding=0, dilation=1, ceil_mode=False)\n",
            "    (2): BatchNorm2d(256, eps=1e-05, momentum=0.1, affine=True, track_running_stats=True)\n",
            "    (3): ReLU()\n",
            "  )\n",
            "  (layer3): Sequential(\n",
            "    (0): Conv2d(256, 512, kernel_size=(3, 3), stride=(1, 1), padding=(1, 1), bias=False)\n",
            "    (1): MaxPool2d(kernel_size=2, stride=2, padding=0, dilation=1, ceil_mode=False)\n",
            "    (2): BatchNorm2d(512, eps=1e-05, momentum=0.1, affine=True, track_running_stats=True)\n",
            "    (3): ReLU()\n",
            "  )\n",
            "  (resblock2): BasicBlock(\n",
            "    (conv1): Conv2d(512, 512, kernel_size=(3, 3), stride=(1, 1), padding=(1, 1), bias=False)\n",
            "    (bn1): BatchNorm2d(512, eps=1e-05, momentum=0.1, affine=True, track_running_stats=True)\n",
            "    (conv2): Conv2d(512, 512, kernel_size=(3, 3), stride=(1, 1), padding=(1, 1), bias=False)\n",
            "    (bn2): BatchNorm2d(512, eps=1e-05, momentum=0.1, affine=True, track_running_stats=True)\n",
            "    (relu): ReLU()\n",
            "  )\n",
            "  (dp2): Dropout2d(p=0.15, inplace=False)\n",
            "  (pool): MaxPool2d(kernel_size=4, stride=4, padding=0, dilation=1, ceil_mode=False)\n",
            "  (linear_1): Linear(in_features=512, out_features=128, bias=False)\n",
            "  (bn1d_1): BatchNorm1d(128, eps=1e-05, momentum=0.1, affine=True, track_running_stats=True)\n",
            "  (linear_2): Linear(in_features=128, out_features=32, bias=False)\n",
            "  (linear): Linear(in_features=32, out_features=10, bias=False)\n",
            ")\n",
            "----------------------------------------------------------------\n",
            "        Layer (type)               Output Shape         Param #\n",
            "================================================================\n",
            "            Conv2d-1           [-1, 64, 32, 32]           1,728\n",
            "       BatchNorm2d-2           [-1, 64, 32, 32]             128\n",
            "              ReLU-3           [-1, 64, 32, 32]               0\n",
            "            Conv2d-4          [-1, 128, 32, 32]          73,728\n",
            "         MaxPool2d-5          [-1, 128, 16, 16]               0\n",
            "       BatchNorm2d-6          [-1, 128, 16, 16]             256\n",
            "              ReLU-7          [-1, 128, 16, 16]               0\n",
            "         Dropout2d-8          [-1, 128, 16, 16]               0\n",
            "            Conv2d-9          [-1, 128, 16, 16]         147,456\n",
            "      BatchNorm2d-10          [-1, 128, 16, 16]             256\n",
            "             ReLU-11          [-1, 128, 16, 16]               0\n",
            "           Conv2d-12          [-1, 128, 16, 16]         147,456\n",
            "      BatchNorm2d-13          [-1, 128, 16, 16]             256\n",
            "             ReLU-14          [-1, 128, 16, 16]               0\n",
            "       BasicBlock-15          [-1, 128, 16, 16]               0\n",
            "           Conv2d-16          [-1, 256, 16, 16]         294,912\n",
            "        MaxPool2d-17            [-1, 256, 8, 8]               0\n",
            "      BatchNorm2d-18            [-1, 256, 8, 8]             512\n",
            "             ReLU-19            [-1, 256, 8, 8]               0\n",
            "        Dropout2d-20            [-1, 256, 8, 8]               0\n",
            "           Conv2d-21            [-1, 512, 8, 8]       1,179,648\n",
            "        MaxPool2d-22            [-1, 512, 4, 4]               0\n",
            "      BatchNorm2d-23            [-1, 512, 4, 4]           1,024\n",
            "             ReLU-24            [-1, 512, 4, 4]               0\n",
            "        Dropout2d-25            [-1, 512, 4, 4]               0\n",
            "           Conv2d-26            [-1, 512, 4, 4]       2,359,296\n",
            "      BatchNorm2d-27            [-1, 512, 4, 4]           1,024\n",
            "             ReLU-28            [-1, 512, 4, 4]               0\n",
            "           Conv2d-29            [-1, 512, 4, 4]       2,359,296\n",
            "      BatchNorm2d-30            [-1, 512, 4, 4]           1,024\n",
            "             ReLU-31            [-1, 512, 4, 4]               0\n",
            "       BasicBlock-32            [-1, 512, 4, 4]               0\n",
            "        MaxPool2d-33            [-1, 512, 1, 1]               0\n",
            "           Linear-34                  [-1, 128]          65,536\n",
            "      BatchNorm1d-35                  [-1, 128]             256\n",
            "           Linear-36                   [-1, 32]           4,096\n",
            "           Linear-37                   [-1, 10]             320\n",
            "================================================================\n",
            "Total params: 6,638,208\n",
            "Trainable params: 6,638,208\n",
            "Non-trainable params: 0\n",
            "----------------------------------------------------------------\n",
            "Input size (MB): 0.01\n",
            "Forward/backward pass size (MB): 7.19\n",
            "Params size (MB): 25.32\n",
            "Estimated Total Size (MB): 32.53\n",
            "----------------------------------------------------------------\n",
            "/n =============================================================================================================================================== /n\n",
            "/n =============================================================================================================================================== /n\n",
            "Adjusting learning rate of group 0 to 6.1363e-04.\n",
            "\n",
            "Epoch: 0\n"
          ]
        },
        {
          "output_type": "stream",
          "name": "stderr",
          "text": [
            "Loss=1.210721492767334 Batch_id=97  LR=0.00061 Accuracy=42.94: 100%|██████████| 98/98 [00:57<00:00,  1.72it/s]\n",
            "Loss=1.3274480104446411 Batch_id=19 LR=0.00061 Accuracy=56.74: 100%|██████████| 20/20 [00:04<00:00,  4.64it/s]\n"
          ]
        },
        {
          "output_type": "stream",
          "name": "stdout",
          "text": [
            "Saving..\n",
            "Adjusting learning rate of group 0 to 6.1375e-04.\n",
            "\n",
            "Epoch: 1\n"
          ]
        },
        {
          "output_type": "stream",
          "name": "stderr",
          "text": [
            "Loss=0.943604052066803 Batch_id=97  LR=0.00061 Accuracy=61.83: 100%|██████████| 98/98 [00:57<00:00,  1.70it/s]\n",
            "Loss=0.9330930709838867 Batch_id=19 LR=0.00061 Accuracy=70.14: 100%|██████████| 20/20 [00:04<00:00,  4.64it/s]\n"
          ]
        },
        {
          "output_type": "stream",
          "name": "stdout",
          "text": [
            "Saving..\n",
            "Adjusting learning rate of group 0 to 6.1412e-04.\n",
            "\n",
            "Epoch: 2\n"
          ]
        },
        {
          "output_type": "stream",
          "name": "stderr",
          "text": [
            "Loss=0.7590773701667786 Batch_id=97  LR=0.00061 Accuracy=71.12: 100%|██████████| 98/98 [00:57<00:00,  1.70it/s]\n",
            "Loss=0.8019246459007263 Batch_id=19 LR=0.00061 Accuracy=75.64: 100%|██████████| 20/20 [00:04<00:00,  4.69it/s]\n"
          ]
        },
        {
          "output_type": "stream",
          "name": "stdout",
          "text": [
            "Saving..\n",
            "Adjusting learning rate of group 0 to 6.1472e-04.\n",
            "\n",
            "Epoch: 3\n"
          ]
        },
        {
          "output_type": "stream",
          "name": "stderr",
          "text": [
            "Loss=0.6863560676574707 Batch_id=97  LR=0.00061 Accuracy=76.41: 100%|██████████| 98/98 [00:57<00:00,  1.69it/s]\n",
            "Loss=0.6486554145812988 Batch_id=19 LR=0.00061 Accuracy=80.54: 100%|██████████| 20/20 [00:04<00:00,  4.63it/s]\n"
          ]
        },
        {
          "output_type": "stream",
          "name": "stdout",
          "text": [
            "Saving..\n",
            "Adjusting learning rate of group 0 to 6.1556e-04.\n",
            "\n",
            "Epoch: 4\n"
          ]
        },
        {
          "output_type": "stream",
          "name": "stderr",
          "text": [
            "Loss=0.6380743980407715 Batch_id=97  LR=0.00062 Accuracy=79.24: 100%|██████████| 98/98 [00:58<00:00,  1.68it/s]\n",
            "Loss=0.5703731775283813 Batch_id=19 LR=0.00062 Accuracy=83.28: 100%|██████████| 20/20 [00:04<00:00,  4.64it/s]\n"
          ]
        },
        {
          "output_type": "stream",
          "name": "stdout",
          "text": [
            "Saving..\n",
            "Adjusting learning rate of group 0 to 6.1664e-04.\n",
            "\n",
            "Epoch: 5\n"
          ]
        },
        {
          "output_type": "stream",
          "name": "stderr",
          "text": [
            "Loss=0.5276772379875183 Batch_id=97  LR=0.00062 Accuracy=81.48: 100%|██████████| 98/98 [00:58<00:00,  1.68it/s]\n",
            "Loss=0.5457762479782104 Batch_id=19 LR=0.00062 Accuracy=83.52: 100%|██████████| 20/20 [00:04<00:00,  4.62it/s]\n"
          ]
        },
        {
          "output_type": "stream",
          "name": "stdout",
          "text": [
            "Saving..\n",
            "Adjusting learning rate of group 0 to 6.1796e-04.\n",
            "\n",
            "Epoch: 6\n"
          ]
        },
        {
          "output_type": "stream",
          "name": "stderr",
          "text": [
            "Loss=0.5289353728294373 Batch_id=97  LR=0.00062 Accuracy=82.81: 100%|██████████| 98/98 [00:58<00:00,  1.68it/s]\n",
            "Loss=0.5101906657218933 Batch_id=19 LR=0.00062 Accuracy=82.51: 100%|██████████| 20/20 [00:04<00:00,  4.62it/s]\n"
          ]
        },
        {
          "output_type": "stream",
          "name": "stdout",
          "text": [
            "Adjusting learning rate of group 0 to 6.1953e-04.\n",
            "\n",
            "Epoch: 7\n"
          ]
        },
        {
          "output_type": "stream",
          "name": "stderr",
          "text": [
            "Loss=0.4238527715206146 Batch_id=97  LR=0.00062 Accuracy=83.86: 100%|██████████| 98/98 [00:58<00:00,  1.68it/s]\n",
            "Loss=0.49774664640426636 Batch_id=19 LR=0.00062 Accuracy=85.65: 100%|██████████| 20/20 [00:04<00:00,  4.61it/s]\n"
          ]
        },
        {
          "output_type": "stream",
          "name": "stdout",
          "text": [
            "Saving..\n",
            "Adjusting learning rate of group 0 to 6.2133e-04.\n",
            "\n",
            "Epoch: 8\n"
          ]
        },
        {
          "output_type": "stream",
          "name": "stderr",
          "text": [
            "Loss=0.3538345396518707 Batch_id=97  LR=0.00062 Accuracy=84.92: 100%|██████████| 98/98 [00:58<00:00,  1.68it/s]\n",
            "Loss=0.4683462083339691 Batch_id=19 LR=0.00062 Accuracy=85.94: 100%|██████████| 20/20 [00:04<00:00,  4.63it/s]\n"
          ]
        },
        {
          "output_type": "stream",
          "name": "stdout",
          "text": [
            "Saving..\n",
            "Adjusting learning rate of group 0 to 6.2338e-04.\n",
            "\n",
            "Epoch: 9\n"
          ]
        },
        {
          "output_type": "stream",
          "name": "stderr",
          "text": [
            "Loss=0.44597887992858887 Batch_id=97  LR=0.00062 Accuracy=85.86: 100%|██████████| 98/98 [00:58<00:00,  1.68it/s]\n",
            "Loss=0.44656211137771606 Batch_id=19 LR=0.00062 Accuracy=87.00: 100%|██████████| 20/20 [00:04<00:00,  4.64it/s]\n"
          ]
        },
        {
          "output_type": "stream",
          "name": "stdout",
          "text": [
            "Saving..\n",
            "Adjusting learning rate of group 0 to 6.2566e-04.\n",
            "\n",
            "Epoch: 10\n"
          ]
        },
        {
          "output_type": "stream",
          "name": "stderr",
          "text": [
            "Loss=0.4157552123069763 Batch_id=97  LR=0.00063 Accuracy=86.58: 100%|██████████| 98/98 [00:58<00:00,  1.68it/s]\n",
            "Loss=0.40032172203063965 Batch_id=19 LR=0.00063 Accuracy=86.83: 100%|██████████| 20/20 [00:04<00:00,  4.60it/s]\n"
          ]
        },
        {
          "output_type": "stream",
          "name": "stdout",
          "text": [
            "Adjusting learning rate of group 0 to 6.2819e-04.\n",
            "\n",
            "Epoch: 11\n"
          ]
        },
        {
          "output_type": "stream",
          "name": "stderr",
          "text": [
            "Loss=0.3033781945705414 Batch_id=97  LR=0.00063 Accuracy=86.90: 100%|██████████| 98/98 [00:58<00:00,  1.68it/s]\n",
            "Loss=0.4779168963432312 Batch_id=19 LR=0.00063 Accuracy=87.75: 100%|██████████| 20/20 [00:04<00:00,  4.59it/s]\n"
          ]
        },
        {
          "output_type": "stream",
          "name": "stdout",
          "text": [
            "Saving..\n",
            "Adjusting learning rate of group 0 to 6.3095e-04.\n",
            "\n",
            "Epoch: 12\n"
          ]
        },
        {
          "output_type": "stream",
          "name": "stderr",
          "text": [
            "Loss=0.4121357500553131 Batch_id=97  LR=0.00063 Accuracy=87.29: 100%|██████████| 98/98 [00:58<00:00,  1.68it/s]\n",
            "Loss=0.42474475502967834 Batch_id=19 LR=0.00063 Accuracy=88.25: 100%|██████████| 20/20 [00:04<00:00,  4.60it/s]\n"
          ]
        },
        {
          "output_type": "stream",
          "name": "stdout",
          "text": [
            "Saving..\n",
            "Adjusting learning rate of group 0 to 6.3395e-04.\n",
            "\n",
            "Epoch: 13\n"
          ]
        },
        {
          "output_type": "stream",
          "name": "stderr",
          "text": [
            "Loss=0.3986794054508209 Batch_id=97  LR=0.00063 Accuracy=88.12: 100%|██████████| 98/98 [00:58<00:00,  1.68it/s]\n",
            "Loss=0.4056990146636963 Batch_id=19 LR=0.00063 Accuracy=88.06: 100%|██████████| 20/20 [00:04<00:00,  4.61it/s]\n"
          ]
        },
        {
          "output_type": "stream",
          "name": "stdout",
          "text": [
            "Adjusting learning rate of group 0 to 6.3720e-04.\n",
            "\n",
            "Epoch: 14\n"
          ]
        },
        {
          "output_type": "stream",
          "name": "stderr",
          "text": [
            "Loss=0.3590635657310486 Batch_id=97  LR=0.00064 Accuracy=88.33: 100%|██████████| 98/98 [00:58<00:00,  1.68it/s]\n",
            "Loss=0.41077467799186707 Batch_id=19 LR=0.00064 Accuracy=87.66: 100%|██████████| 20/20 [00:04<00:00,  4.62it/s]\n"
          ]
        },
        {
          "output_type": "stream",
          "name": "stdout",
          "text": [
            "Adjusting learning rate of group 0 to 6.4068e-04.\n",
            "\n",
            "Epoch: 15\n"
          ]
        },
        {
          "output_type": "stream",
          "name": "stderr",
          "text": [
            "Loss=0.3451331555843353 Batch_id=97  LR=0.00064 Accuracy=88.67: 100%|██████████| 98/98 [00:57<00:00,  1.70it/s]\n",
            "Loss=0.3571842312812805 Batch_id=19 LR=0.00064 Accuracy=89.00: 100%|██████████| 20/20 [00:04<00:00,  4.63it/s]\n"
          ]
        },
        {
          "output_type": "stream",
          "name": "stdout",
          "text": [
            "Saving..\n",
            "Adjusting learning rate of group 0 to 6.4441e-04.\n",
            "\n",
            "Epoch: 16\n"
          ]
        },
        {
          "output_type": "stream",
          "name": "stderr",
          "text": [
            "Loss=0.278984397649765 Batch_id=97  LR=0.00064 Accuracy=89.01: 100%|██████████| 98/98 [00:57<00:00,  1.70it/s]\n",
            "Loss=0.3821813464164734 Batch_id=19 LR=0.00064 Accuracy=88.03: 100%|██████████| 20/20 [00:04<00:00,  4.66it/s]\n"
          ]
        },
        {
          "output_type": "stream",
          "name": "stdout",
          "text": [
            "Adjusting learning rate of group 0 to 6.4837e-04.\n",
            "\n",
            "Epoch: 17\n"
          ]
        },
        {
          "output_type": "stream",
          "name": "stderr",
          "text": [
            "Loss=0.36955344676971436 Batch_id=97  LR=0.00065 Accuracy=89.49: 100%|██████████| 98/98 [00:57<00:00,  1.70it/s]\n",
            "Loss=0.42285558581352234 Batch_id=19 LR=0.00065 Accuracy=86.89: 100%|██████████| 20/20 [00:04<00:00,  4.66it/s]\n"
          ]
        },
        {
          "output_type": "stream",
          "name": "stdout",
          "text": [
            "Adjusting learning rate of group 0 to 6.5257e-04.\n",
            "\n",
            "Epoch: 18\n"
          ]
        },
        {
          "output_type": "stream",
          "name": "stderr",
          "text": [
            "Loss=0.28045058250427246 Batch_id=97  LR=0.00065 Accuracy=89.46: 100%|██████████| 98/98 [00:57<00:00,  1.70it/s]\n",
            "Loss=0.3942261338233948 Batch_id=19 LR=0.00065 Accuracy=87.75: 100%|██████████| 20/20 [00:04<00:00,  4.65it/s]\n"
          ]
        },
        {
          "output_type": "stream",
          "name": "stdout",
          "text": [
            "Adjusting learning rate of group 0 to 6.5701e-04.\n",
            "\n",
            "Epoch: 19\n"
          ]
        },
        {
          "output_type": "stream",
          "name": "stderr",
          "text": [
            "Loss=0.31233713030815125 Batch_id=97  LR=0.00066 Accuracy=89.78: 100%|██████████| 98/98 [00:57<00:00,  1.70it/s]\n",
            "Loss=0.33402642607688904 Batch_id=19 LR=0.00066 Accuracy=89.15: 100%|██████████| 20/20 [00:04<00:00,  4.65it/s]\n"
          ]
        },
        {
          "output_type": "stream",
          "name": "stdout",
          "text": [
            "Saving..\n",
            "Adjusting learning rate of group 0 to 6.6169e-04.\n",
            "\n",
            "Epoch: 20\n"
          ]
        },
        {
          "output_type": "stream",
          "name": "stderr",
          "text": [
            "Loss=0.2341454178094864 Batch_id=97  LR=0.00066 Accuracy=89.91: 100%|██████████| 98/98 [00:57<00:00,  1.70it/s]\n",
            "Loss=0.35892853140830994 Batch_id=19 LR=0.00066 Accuracy=89.22: 100%|██████████| 20/20 [00:04<00:00,  4.64it/s]\n"
          ]
        },
        {
          "output_type": "stream",
          "name": "stdout",
          "text": [
            "Saving..\n",
            "Adjusting learning rate of group 0 to 6.6661e-04.\n",
            "\n",
            "Epoch: 21\n"
          ]
        },
        {
          "output_type": "stream",
          "name": "stderr",
          "text": [
            "Loss=0.335405170917511 Batch_id=97  LR=0.00067 Accuracy=90.31: 100%|██████████| 98/98 [00:57<00:00,  1.70it/s]\n",
            "Loss=0.3393045961856842 Batch_id=19 LR=0.00067 Accuracy=89.07: 100%|██████████| 20/20 [00:04<00:00,  4.66it/s]\n"
          ]
        },
        {
          "output_type": "stream",
          "name": "stdout",
          "text": [
            "Adjusting learning rate of group 0 to 6.7177e-04.\n",
            "\n",
            "Epoch: 22\n"
          ]
        },
        {
          "output_type": "stream",
          "name": "stderr",
          "text": [
            "Loss=0.2988474369049072 Batch_id=97  LR=0.00067 Accuracy=90.18: 100%|██████████| 98/98 [00:57<00:00,  1.70it/s]\n",
            "Loss=0.305076003074646 Batch_id=19 LR=0.00067 Accuracy=90.00: 100%|██████████| 20/20 [00:04<00:00,  4.68it/s]\n"
          ]
        },
        {
          "output_type": "stream",
          "name": "stdout",
          "text": [
            "Saving..\n",
            "Adjusting learning rate of group 0 to 6.7716e-04.\n",
            "\n",
            "Epoch: 23\n"
          ]
        },
        {
          "output_type": "stream",
          "name": "stderr",
          "text": [
            "Loss=0.3170669972896576 Batch_id=97  LR=0.00068 Accuracy=90.57: 100%|██████████| 98/98 [00:57<00:00,  1.70it/s]\n",
            "Loss=0.34307682514190674 Batch_id=19 LR=0.00068 Accuracy=89.59: 100%|██████████| 20/20 [00:04<00:00,  4.63it/s]\n"
          ]
        },
        {
          "output_type": "stream",
          "name": "stdout",
          "text": [
            "Adjusting learning rate of group 0 to 6.8279e-04.\n",
            "============================================================ Training and Testing Performance ==============================================================\n",
            "============================================================================================================================================================\n"
          ]
        },
        {
          "output_type": "display_data",
          "data": {
            "image/png": "[encoded data removed]",
            "text/plain": [
              "<Figure size 1800x432 with 2 Axes>"
            ]
          },
          "metadata": {}
        },
        {
          "output_type": "stream",
          "name": "stdout",
          "text": [
            "============================================================= Class Level Accuracy =========================================================================\n",
            "=========================================================================================================================================================== \n",
            "Accuracy of airplane : 85 %\n",
            "Accuracy of automobile : 100 %\n",
            "Accuracy of  bird : 100 %\n",
            "Accuracy of   cat : 58 %\n",
            "Accuracy of  deer : 100 %\n",
            "Accuracy of   dog : 66 %\n",
            "Accuracy of  frog : 100 %\n",
            "Accuracy of horse : 83 %\n",
            "Accuracy of  ship : 100 %\n",
            "Accuracy of truck : 100 %\n",
            "============================================== Random Misclassified Images ================================================================================\n"
          ]
        },
        {
          "output_type": "stream",
          "name": "stderr",
          "text": [
            "Clipping input data to the valid range for imshow with RGB data ([0..1] for floats or [0..255] for integers).\n",
            "Clipping input data to the valid range for imshow with RGB data ([0..1] for floats or [0..255] for integers).\n",
            "Clipping input data to the valid range for imshow with RGB data ([0..1] for floats or [0..255] for integers).\n",
            "Clipping input data to the valid range for imshow with RGB data ([0..1] for floats or [0..255] for integers).\n",
            "Clipping input data to the valid range for imshow with RGB data ([0..1] for floats or [0..255] for integers).\n",
            "Clipping input data to the valid range for imshow with RGB data ([0..1] for floats or [0..255] for integers).\n",
            "Clipping input data to the valid range for imshow with RGB data ([0..1] for floats or [0..255] for integers).\n",
            "Clipping input data to the valid range for imshow with RGB data ([0..1] for floats or [0..255] for integers).\n"
          ]
        },
        {
          "output_type": "stream",
          "name": "stdout",
          "text": [
            "Total wrong predictions are 1041\n"
          ]
        },
        {
          "output_type": "stream",
          "name": "stderr",
          "text": [
            "Clipping input data to the valid range for imshow with RGB data ([0..1] for floats or [0..255] for integers).\n",
            "Clipping input data to the valid range for imshow with RGB data ([0..1] for floats or [0..255] for integers).\n"
          ]
        },
        {
          "output_type": "display_data",
          "data": {
            "image/png": "[encoded data removed]",
            "text/plain": [
              "<Figure size 1296x1440 with 10 Axes>"
            ]
          },
          "metadata": {}
        },
        {
          "output_type": "stream",
          "name": "stdout",
          "text": [
            "==========================================================================================================================================================\n",
            "============================================== Grdadcam Misclassified Images =============================================================================\n",
            "torch.Size([20, 10])\n",
            "Generating Grad-CAM @ReLU()\n"
          ]
        },
        {
          "output_type": "error",
          "ename": "ValueError",
          "evalue": "ignored",
          "traceback": [
            "\u001b[0;31m---------------------------------------------------------------------------\u001b[0m",
            "\u001b[0;31mValueError\u001b[0m                                Traceback (most recent call last)",
            "\u001b[0;32m<ipython-input-10-56561c360151>\u001b[0m in \u001b[0;36m<module>\u001b[0;34m()\u001b[0m\n\u001b[1;32m      1\u001b[0m model_main.run_experiments_custom_resnet(start_lr = start_lr, \n\u001b[1;32m      2\u001b[0m                                          \u001b[0mlrmax\u001b[0m \u001b[0;34m=\u001b[0m \u001b[0mmax_lr\u001b[0m\u001b[0;34m,\u001b[0m\u001b[0;34m\u001b[0m\u001b[0;34m\u001b[0m\u001b[0m\n\u001b[0;32m----> 3\u001b[0;31m                                          IsSGD= False)\n\u001b[0m",
            "\u001b[0;32m/content/Transformer-DeepLearning/ConvModelAdvancedTraining/main.py\u001b[0m in \u001b[0;36mrun_experiments_custom_resnet\u001b[0;34m(start_lr, lrmax, resume, description, epochs, max_at_epoch, IsSGD)\u001b[0m\n\u001b[1;32m    438\u001b[0m \u001b[0;34m\u001b[0m\u001b[0m\n\u001b[1;32m    439\u001b[0m   \u001b[0mtarget_layers\u001b[0m \u001b[0;34m=\u001b[0m \u001b[0;34m[\u001b[0m\u001b[0mlayer1\u001b[0m\u001b[0;34m,\u001b[0m\u001b[0mlayer2\u001b[0m\u001b[0;34m,\u001b[0m\u001b[0mlayer3\u001b[0m\u001b[0;34m]\u001b[0m\u001b[0;34m\u001b[0m\u001b[0;34m\u001b[0m\u001b[0m\n\u001b[0;32m--> 440\u001b[0;31m   \u001b[0mgradcam_output\u001b[0m\u001b[0;34m,\u001b[0m \u001b[0mprobs\u001b[0m\u001b[0;34m,\u001b[0m \u001b[0mpredicted_classes\u001b[0m \u001b[0;34m=\u001b[0m \u001b[0mgenerate_gradcam\u001b[0m\u001b[0;34m(\u001b[0m\u001b[0mwrong_images\u001b[0m\u001b[0;34m[\u001b[0m\u001b[0;34m:\u001b[0m\u001b[0;36m20\u001b[0m\u001b[0;34m]\u001b[0m\u001b[0;34m,\u001b[0m \u001b[0mnet\u001b[0m\u001b[0;34m,\u001b[0m \u001b[0mtarget_layers\u001b[0m\u001b[0;34m,\u001b[0m\u001b[0mdevice\u001b[0m\u001b[0;34m)\u001b[0m\u001b[0;34m\u001b[0m\u001b[0;34m\u001b[0m\u001b[0m\n\u001b[0m\u001b[1;32m    441\u001b[0m   \u001b[0mplot_gradcam\u001b[0m\u001b[0;34m(\u001b[0m\u001b[0mgradcam_output\u001b[0m\u001b[0;34m,\u001b[0m \u001b[0mtarget_layers\u001b[0m\u001b[0;34m,\u001b[0m \u001b[0mclasses\u001b[0m\u001b[0;34m,\u001b[0m \u001b[0;34m(\u001b[0m\u001b[0;36m3\u001b[0m\u001b[0;34m,\u001b[0m \u001b[0;36m32\u001b[0m\u001b[0;34m,\u001b[0m \u001b[0;36m32\u001b[0m\u001b[0;34m)\u001b[0m\u001b[0;34m,\u001b[0m\u001b[0mpredicted_classes\u001b[0m\u001b[0;34m,\u001b[0m \u001b[0mwrong_images\u001b[0m\u001b[0;34m[\u001b[0m\u001b[0;34m:\u001b[0m\u001b[0;36m20\u001b[0m\u001b[0;34m]\u001b[0m\u001b[0;34m)\u001b[0m\u001b[0;34m\u001b[0m\u001b[0;34m\u001b[0m\u001b[0m\n\u001b[1;32m    442\u001b[0m   \u001b[0mprint\u001b[0m\u001b[0;34m(\u001b[0m\u001b[0;34m'==========================================================================================================================================================='\u001b[0m\u001b[0;34m)\u001b[0m\u001b[0;34m\u001b[0m\u001b[0;34m\u001b[0m\u001b[0m\n",
            "\u001b[0;32m/content/Transformer-DeepLearning/ConvModelAdvancedTraining/gradcam.py\u001b[0m in \u001b[0;36mgenerate_gradcam\u001b[0;34m(misclassified_images, model, target_layers, device)\u001b[0m\n\u001b[1;32m    140\u001b[0m         \u001b[0mprint\u001b[0m\u001b[0;34m(\u001b[0m\u001b[0;34m\"Generating Grad-CAM @{}\"\u001b[0m\u001b[0;34m.\u001b[0m\u001b[0mformat\u001b[0m\u001b[0;34m(\u001b[0m\u001b[0mtarget_layer\u001b[0m\u001b[0;34m)\u001b[0m\u001b[0;34m)\u001b[0m\u001b[0;34m\u001b[0m\u001b[0;34m\u001b[0m\u001b[0m\n\u001b[1;32m    141\u001b[0m         \u001b[0;31m# Grad-CAM\u001b[0m\u001b[0;34m\u001b[0m\u001b[0;34m\u001b[0m\u001b[0;34m\u001b[0m\u001b[0m\n\u001b[0;32m--> 142\u001b[0;31m         \u001b[0mlayers\u001b[0m\u001b[0;34m.\u001b[0m\u001b[0mappend\u001b[0m\u001b[0;34m(\u001b[0m\u001b[0mgcam\u001b[0m\u001b[0;34m.\u001b[0m\u001b[0mgenerate\u001b[0m\u001b[0;34m(\u001b[0m\u001b[0mtarget_layer\u001b[0m\u001b[0;34m=\u001b[0m\u001b[0mtarget_layer\u001b[0m\u001b[0;34m)\u001b[0m\u001b[0;34m)\u001b[0m\u001b[0;34m\u001b[0m\u001b[0;34m\u001b[0m\u001b[0m\n\u001b[0m\u001b[1;32m    143\u001b[0m \u001b[0;34m\u001b[0m\u001b[0m\n\u001b[1;32m    144\u001b[0m     \u001b[0;31m# remove hooks when done\u001b[0m\u001b[0;34m\u001b[0m\u001b[0;34m\u001b[0m\u001b[0;34m\u001b[0m\u001b[0m\n",
            "\u001b[0;32m/content/Transformer-DeepLearning/ConvModelAdvancedTraining/gradcam.py\u001b[0m in \u001b[0;36mgenerate\u001b[0;34m(self, target_layer)\u001b[0m\n\u001b[1;32m     92\u001b[0m \u001b[0;34m\u001b[0m\u001b[0m\n\u001b[1;32m     93\u001b[0m     \u001b[0;32mdef\u001b[0m \u001b[0mgenerate\u001b[0m\u001b[0;34m(\u001b[0m\u001b[0mself\u001b[0m\u001b[0;34m,\u001b[0m \u001b[0mtarget_layer\u001b[0m\u001b[0;34m)\u001b[0m\u001b[0;34m:\u001b[0m\u001b[0;34m\u001b[0m\u001b[0;34m\u001b[0m\u001b[0m\n\u001b[0;32m---> 94\u001b[0;31m         \u001b[0mfmaps\u001b[0m \u001b[0;34m=\u001b[0m \u001b[0mself\u001b[0m\u001b[0;34m.\u001b[0m\u001b[0m_find\u001b[0m\u001b[0;34m(\u001b[0m\u001b[0mself\u001b[0m\u001b[0;34m.\u001b[0m\u001b[0mfmap_pool\u001b[0m\u001b[0;34m,\u001b[0m \u001b[0mtarget_layer\u001b[0m\u001b[0;34m)\u001b[0m\u001b[0;34m\u001b[0m\u001b[0;34m\u001b[0m\u001b[0m\n\u001b[0m\u001b[1;32m     95\u001b[0m         \u001b[0mgrads\u001b[0m \u001b[0;34m=\u001b[0m \u001b[0mself\u001b[0m\u001b[0;34m.\u001b[0m\u001b[0m_find\u001b[0m\u001b[0;34m(\u001b[0m\u001b[0mself\u001b[0m\u001b[0;34m.\u001b[0m\u001b[0mgrad_pool\u001b[0m\u001b[0;34m,\u001b[0m \u001b[0mtarget_layer\u001b[0m\u001b[0;34m)\u001b[0m\u001b[0;34m\u001b[0m\u001b[0;34m\u001b[0m\u001b[0m\n\u001b[1;32m     96\u001b[0m         \u001b[0mweights\u001b[0m \u001b[0;34m=\u001b[0m \u001b[0mF\u001b[0m\u001b[0;34m.\u001b[0m\u001b[0madaptive_avg_pool2d\u001b[0m\u001b[0;34m(\u001b[0m\u001b[0mgrads\u001b[0m\u001b[0;34m,\u001b[0m \u001b[0;36m1\u001b[0m\u001b[0;34m)\u001b[0m\u001b[0;34m\u001b[0m\u001b[0;34m\u001b[0m\u001b[0m\n",
            "\u001b[0;32m/content/Transformer-DeepLearning/ConvModelAdvancedTraining/gradcam.py\u001b[0m in \u001b[0;36m_find\u001b[0;34m(self, pool, target_layer)\u001b[0m\n\u001b[1;32m     89\u001b[0m             \u001b[0;32mreturn\u001b[0m \u001b[0mpool\u001b[0m\u001b[0;34m[\u001b[0m\u001b[0mtarget_layer\u001b[0m\u001b[0;34m]\u001b[0m\u001b[0;34m\u001b[0m\u001b[0;34m\u001b[0m\u001b[0m\n\u001b[1;32m     90\u001b[0m         \u001b[0;32melse\u001b[0m\u001b[0;34m:\u001b[0m\u001b[0;34m\u001b[0m\u001b[0;34m\u001b[0m\u001b[0m\n\u001b[0;32m---> 91\u001b[0;31m             \u001b[0;32mraise\u001b[0m \u001b[0mValueError\u001b[0m\u001b[0;34m(\u001b[0m\u001b[0;34m\"Invalid layer name: {}\"\u001b[0m\u001b[0;34m.\u001b[0m\u001b[0mformat\u001b[0m\u001b[0;34m(\u001b[0m\u001b[0mtarget_layer\u001b[0m\u001b[0;34m)\u001b[0m\u001b[0;34m)\u001b[0m\u001b[0;34m\u001b[0m\u001b[0;34m\u001b[0m\u001b[0m\n\u001b[0m\u001b[1;32m     92\u001b[0m \u001b[0;34m\u001b[0m\u001b[0m\n\u001b[1;32m     93\u001b[0m     \u001b[0;32mdef\u001b[0m \u001b[0mgenerate\u001b[0m\u001b[0;34m(\u001b[0m\u001b[0mself\u001b[0m\u001b[0;34m,\u001b[0m \u001b[0mtarget_layer\u001b[0m\u001b[0;34m)\u001b[0m\u001b[0;34m:\u001b[0m\u001b[0;34m\u001b[0m\u001b[0;34m\u001b[0m\u001b[0m\n",
            "\u001b[0;31mValueError\u001b[0m: Invalid layer name: ReLU()"
          ]
        }
      ]
    },
    {
      "cell_type": "code",
      "metadata": {
        "id": "vLtM9A23goeY"
      },
      "source": [
        "start_lr = 1e-3\n",
        "# max_lr = 0.0172685370741483 (Working with 87%)\n",
        "max_lr = 0.022272685370741483  # 0.009746555323590814"
      ],
      "execution_count": 11,
      "outputs": []
    },
    {
      "cell_type": "code",
      "metadata": {
        "colab": {
          "base_uri": "https://localhost:8080/",
          "height": 1000
        },
        "id": "UQbIGfcJgv16",
        "outputId": "784022ac-e337-4370-949b-514f7ab08000"
      },
      "source": [
        "model_main.run_experiments_custom_resnet(start_lr = start_lr, \n",
        "                                         lrmax = max_lr,\n",
        "                                         IsSGD= False)"
      ],
      "execution_count": 12,
      "outputs": [
        {
          "output_type": "stream",
          "name": "stdout",
          "text": [
            "Got all parser argument\n",
            "================================================> Preparing data................\n",
            "Files already downloaded and verified\n",
            "Files already downloaded and verified\n",
            "Files already downloaded and verified\n",
            "===========================================================> Building model Custom resnet.=========================================..............\n",
            "CustomResNet(\n",
            "  (prep_layer): Sequential(\n",
            "    (0): Conv2d(3, 64, kernel_size=(3, 3), stride=(1, 1), padding=(1, 1), bias=False)\n",
            "    (1): BatchNorm2d(64, eps=1e-05, momentum=0.1, affine=True, track_running_stats=True)\n",
            "    (2): ReLU()\n",
            "  )\n",
            "  (layer1): Sequential(\n",
            "    (0): Conv2d(64, 128, kernel_size=(3, 3), stride=(1, 1), padding=(1, 1), bias=False)\n",
            "    (1): MaxPool2d(kernel_size=2, stride=2, padding=0, dilation=1, ceil_mode=False)\n",
            "    (2): BatchNorm2d(128, eps=1e-05, momentum=0.1, affine=True, track_running_stats=True)\n",
            "    (3): ReLU()\n",
            "  )\n",
            "  (resblock1): BasicBlock(\n",
            "    (conv1): Conv2d(128, 128, kernel_size=(3, 3), stride=(1, 1), padding=(1, 1), bias=False)\n",
            "    (bn1): BatchNorm2d(128, eps=1e-05, momentum=0.1, affine=True, track_running_stats=True)\n",
            "    (conv2): Conv2d(128, 128, kernel_size=(3, 3), stride=(1, 1), padding=(1, 1), bias=False)\n",
            "    (bn2): BatchNorm2d(128, eps=1e-05, momentum=0.1, affine=True, track_running_stats=True)\n",
            "    (relu): ReLU()\n",
            "  )\n",
            "  (dp1): Dropout2d(p=0.15, inplace=False)\n",
            "  (layer2): Sequential(\n",
            "    (0): Conv2d(128, 256, kernel_size=(3, 3), stride=(1, 1), padding=(1, 1), bias=False)\n",
            "    (1): MaxPool2d(kernel_size=2, stride=2, padding=0, dilation=1, ceil_mode=False)\n",
            "    (2): BatchNorm2d(256, eps=1e-05, momentum=0.1, affine=True, track_running_stats=True)\n",
            "    (3): ReLU()\n",
            "  )\n",
            "  (layer3): Sequential(\n",
            "    (0): Conv2d(256, 512, kernel_size=(3, 3), stride=(1, 1), padding=(1, 1), bias=False)\n",
            "    (1): MaxPool2d(kernel_size=2, stride=2, padding=0, dilation=1, ceil_mode=False)\n",
            "    (2): BatchNorm2d(512, eps=1e-05, momentum=0.1, affine=True, track_running_stats=True)\n",
            "    (3): ReLU()\n",
            "  )\n",
            "  (resblock2): BasicBlock(\n",
            "    (conv1): Conv2d(512, 512, kernel_size=(3, 3), stride=(1, 1), padding=(1, 1), bias=False)\n",
            "    (bn1): BatchNorm2d(512, eps=1e-05, momentum=0.1, affine=True, track_running_stats=True)\n",
            "    (conv2): Conv2d(512, 512, kernel_size=(3, 3), stride=(1, 1), padding=(1, 1), bias=False)\n",
            "    (bn2): BatchNorm2d(512, eps=1e-05, momentum=0.1, affine=True, track_running_stats=True)\n",
            "    (relu): ReLU()\n",
            "  )\n",
            "  (dp2): Dropout2d(p=0.15, inplace=False)\n",
            "  (pool): MaxPool2d(kernel_size=4, stride=4, padding=0, dilation=1, ceil_mode=False)\n",
            "  (linear_1): Linear(in_features=512, out_features=128, bias=False)\n",
            "  (bn1d_1): BatchNorm1d(128, eps=1e-05, momentum=0.1, affine=True, track_running_stats=True)\n",
            "  (linear_2): Linear(in_features=128, out_features=32, bias=False)\n",
            "  (linear): Linear(in_features=32, out_features=10, bias=False)\n",
            ")\n",
            "----------------------------------------------------------------\n",
            "        Layer (type)               Output Shape         Param #\n",
            "================================================================\n",
            "            Conv2d-1           [-1, 64, 32, 32]           1,728\n",
            "       BatchNorm2d-2           [-1, 64, 32, 32]             128\n",
            "              ReLU-3           [-1, 64, 32, 32]               0\n",
            "            Conv2d-4          [-1, 128, 32, 32]          73,728\n",
            "         MaxPool2d-5          [-1, 128, 16, 16]               0\n",
            "       BatchNorm2d-6          [-1, 128, 16, 16]             256\n",
            "              ReLU-7          [-1, 128, 16, 16]               0\n",
            "         Dropout2d-8          [-1, 128, 16, 16]               0\n",
            "            Conv2d-9          [-1, 128, 16, 16]         147,456\n",
            "      BatchNorm2d-10          [-1, 128, 16, 16]             256\n",
            "             ReLU-11          [-1, 128, 16, 16]               0\n",
            "           Conv2d-12          [-1, 128, 16, 16]         147,456\n",
            "      BatchNorm2d-13          [-1, 128, 16, 16]             256\n",
            "             ReLU-14          [-1, 128, 16, 16]               0\n",
            "       BasicBlock-15          [-1, 128, 16, 16]               0\n",
            "           Conv2d-16          [-1, 256, 16, 16]         294,912\n",
            "        MaxPool2d-17            [-1, 256, 8, 8]               0\n",
            "      BatchNorm2d-18            [-1, 256, 8, 8]             512\n",
            "             ReLU-19            [-1, 256, 8, 8]               0\n",
            "        Dropout2d-20            [-1, 256, 8, 8]               0\n",
            "           Conv2d-21            [-1, 512, 8, 8]       1,179,648\n",
            "        MaxPool2d-22            [-1, 512, 4, 4]               0\n",
            "      BatchNorm2d-23            [-1, 512, 4, 4]           1,024\n",
            "             ReLU-24            [-1, 512, 4, 4]               0\n",
            "        Dropout2d-25            [-1, 512, 4, 4]               0\n",
            "           Conv2d-26            [-1, 512, 4, 4]       2,359,296\n",
            "      BatchNorm2d-27            [-1, 512, 4, 4]           1,024\n",
            "             ReLU-28            [-1, 512, 4, 4]               0\n",
            "           Conv2d-29            [-1, 512, 4, 4]       2,359,296\n",
            "      BatchNorm2d-30            [-1, 512, 4, 4]           1,024\n",
            "             ReLU-31            [-1, 512, 4, 4]               0\n",
            "       BasicBlock-32            [-1, 512, 4, 4]               0\n",
            "        MaxPool2d-33            [-1, 512, 1, 1]               0\n",
            "           Linear-34                  [-1, 128]          65,536\n",
            "      BatchNorm1d-35                  [-1, 128]             256\n",
            "           Linear-36                   [-1, 32]           4,096\n",
            "           Linear-37                   [-1, 10]             320\n",
            "================================================================\n",
            "Total params: 6,638,208\n",
            "Trainable params: 6,638,208\n",
            "Non-trainable params: 0\n",
            "----------------------------------------------------------------\n",
            "Input size (MB): 0.01\n",
            "Forward/backward pass size (MB): 7.19\n",
            "Params size (MB): 25.32\n",
            "Estimated Total Size (MB): 32.53\n",
            "----------------------------------------------------------------\n",
            "/n =============================================================================================================================================== /n\n",
            "/n =============================================================================================================================================== /n\n",
            "Adjusting learning rate of group 0 to 1.1136e-03.\n",
            "\n",
            "Epoch: 0\n"
          ]
        },
        {
          "output_type": "stream",
          "name": "stderr",
          "text": [
            "Loss=1.2268283367156982 Batch_id=97  LR=0.00111 Accuracy=42.10: 100%|██████████| 98/98 [00:57<00:00,  1.71it/s]\n",
            "Loss=1.2722324132919312 Batch_id=19 LR=0.00111 Accuracy=56.14: 100%|██████████| 20/20 [00:04<00:00,  4.66it/s]\n"
          ]
        },
        {
          "output_type": "stream",
          "name": "stdout",
          "text": [
            "Adjusting learning rate of group 0 to 1.1139e-03.\n",
            "\n",
            "Epoch: 1\n"
          ]
        },
        {
          "output_type": "stream",
          "name": "stderr",
          "text": [
            "Loss=0.8604394197463989 Batch_id=97  LR=0.00111 Accuracy=62.44: 100%|██████████| 98/98 [00:57<00:00,  1.71it/s]\n",
            "Loss=0.8895882368087769 Batch_id=19 LR=0.00111 Accuracy=68.87: 100%|██████████| 20/20 [00:04<00:00,  4.66it/s]\n"
          ]
        },
        {
          "output_type": "stream",
          "name": "stdout",
          "text": [
            "Adjusting learning rate of group 0 to 1.1145e-03.\n",
            "\n",
            "Epoch: 2\n"
          ]
        },
        {
          "output_type": "stream",
          "name": "stderr",
          "text": [
            "Loss=0.8000339269638062 Batch_id=97  LR=0.00111 Accuracy=71.98: 100%|██████████| 98/98 [00:57<00:00,  1.71it/s]\n",
            "Loss=0.7474511861801147 Batch_id=19 LR=0.00111 Accuracy=77.12: 100%|██████████| 20/20 [00:04<00:00,  4.63it/s]\n"
          ]
        },
        {
          "output_type": "stream",
          "name": "stdout",
          "text": [
            "Adjusting learning rate of group 0 to 1.1156e-03.\n",
            "\n",
            "Epoch: 3\n"
          ]
        },
        {
          "output_type": "stream",
          "name": "stderr",
          "text": [
            "Loss=0.5908682346343994 Batch_id=97  LR=0.00112 Accuracy=76.72: 100%|██████████| 98/98 [00:57<00:00,  1.71it/s]\n",
            "Loss=0.6271023750305176 Batch_id=19 LR=0.00112 Accuracy=78.99: 100%|██████████| 20/20 [00:04<00:00,  4.61it/s]\n"
          ]
        },
        {
          "output_type": "stream",
          "name": "stdout",
          "text": [
            "Adjusting learning rate of group 0 to 1.1171e-03.\n",
            "\n",
            "Epoch: 4\n"
          ]
        },
        {
          "output_type": "stream",
          "name": "stderr",
          "text": [
            "Loss=0.6451232433319092 Batch_id=97  LR=0.00112 Accuracy=79.19: 100%|██████████| 98/98 [00:57<00:00,  1.71it/s]\n",
            "Loss=0.5317234992980957 Batch_id=19 LR=0.00112 Accuracy=82.68: 100%|██████████| 20/20 [00:04<00:00,  4.63it/s]\n"
          ]
        },
        {
          "output_type": "stream",
          "name": "stdout",
          "text": [
            "Adjusting learning rate of group 0 to 1.1191e-03.\n",
            "\n",
            "Epoch: 5\n"
          ]
        },
        {
          "output_type": "stream",
          "name": "stderr",
          "text": [
            "Loss=0.5496397018432617 Batch_id=97  LR=0.00112 Accuracy=80.97: 100%|██████████| 98/98 [00:57<00:00,  1.71it/s]\n",
            "Loss=0.5522008538246155 Batch_id=19 LR=0.00112 Accuracy=83.85: 100%|██████████| 20/20 [00:04<00:00,  4.65it/s]\n"
          ]
        },
        {
          "output_type": "stream",
          "name": "stdout",
          "text": [
            "Adjusting learning rate of group 0 to 1.1215e-03.\n",
            "\n",
            "Epoch: 6\n"
          ]
        },
        {
          "output_type": "stream",
          "name": "stderr",
          "text": [
            "Loss=0.47150012850761414 Batch_id=97  LR=0.00112 Accuracy=81.82: 100%|██████████| 98/98 [00:57<00:00,  1.70it/s]\n",
            "Loss=0.5719302296638489 Batch_id=19 LR=0.00112 Accuracy=82.15: 100%|██████████| 20/20 [00:04<00:00,  4.60it/s]\n"
          ]
        },
        {
          "output_type": "stream",
          "name": "stdout",
          "text": [
            "Adjusting learning rate of group 0 to 1.1243e-03.\n",
            "\n",
            "Epoch: 7\n"
          ]
        },
        {
          "output_type": "stream",
          "name": "stderr",
          "text": [
            "Loss=0.48742830753326416 Batch_id=97  LR=0.00112 Accuracy=83.23: 100%|██████████| 98/98 [00:57<00:00,  1.69it/s]\n",
            "Loss=0.4627211093902588 Batch_id=19 LR=0.00112 Accuracy=84.59: 100%|██████████| 20/20 [00:04<00:00,  4.62it/s]\n"
          ]
        },
        {
          "output_type": "stream",
          "name": "stdout",
          "text": [
            "Adjusting learning rate of group 0 to 1.1276e-03.\n",
            "\n",
            "Epoch: 8\n"
          ]
        },
        {
          "output_type": "stream",
          "name": "stderr",
          "text": [
            "Loss=0.4601840376853943 Batch_id=97  LR=0.00113 Accuracy=84.06: 100%|██████████| 98/98 [00:57<00:00,  1.69it/s]\n",
            "Loss=0.5466702580451965 Batch_id=19 LR=0.00113 Accuracy=83.59: 100%|██████████| 20/20 [00:04<00:00,  4.60it/s]\n"
          ]
        },
        {
          "output_type": "stream",
          "name": "stdout",
          "text": [
            "Adjusting learning rate of group 0 to 1.1313e-03.\n",
            "\n",
            "Epoch: 9\n"
          ]
        },
        {
          "output_type": "stream",
          "name": "stderr",
          "text": [
            "Loss=0.4390779137611389 Batch_id=97  LR=0.00113 Accuracy=84.71: 100%|██████████| 98/98 [00:57<00:00,  1.69it/s]\n",
            "Loss=0.522991955280304 Batch_id=19 LR=0.00113 Accuracy=84.88: 100%|██████████| 20/20 [00:04<00:00,  4.59it/s]\n"
          ]
        },
        {
          "output_type": "stream",
          "name": "stdout",
          "text": [
            "Adjusting learning rate of group 0 to 1.1355e-03.\n",
            "\n",
            "Epoch: 10\n"
          ]
        },
        {
          "output_type": "stream",
          "name": "stderr",
          "text": [
            "Loss=0.42307931184768677 Batch_id=97  LR=0.00114 Accuracy=85.21: 100%|██████████| 98/98 [00:58<00:00,  1.69it/s]\n",
            "Loss=0.44311562180519104 Batch_id=19 LR=0.00114 Accuracy=86.76: 100%|██████████| 20/20 [00:04<00:00,  4.60it/s]\n"
          ]
        },
        {
          "output_type": "stream",
          "name": "stdout",
          "text": [
            "Adjusting learning rate of group 0 to 1.1400e-03.\n",
            "\n",
            "Epoch: 11\n"
          ]
        },
        {
          "output_type": "stream",
          "name": "stderr",
          "text": [
            "Loss=0.3882578909397125 Batch_id=97  LR=0.00114 Accuracy=85.45: 100%|██████████| 98/98 [00:57<00:00,  1.69it/s]\n",
            "Loss=0.41855329275131226 Batch_id=19 LR=0.00114 Accuracy=87.35: 100%|██████████| 20/20 [00:04<00:00,  4.58it/s]\n"
          ]
        },
        {
          "output_type": "stream",
          "name": "stdout",
          "text": [
            "Adjusting learning rate of group 0 to 1.1451e-03.\n",
            "\n",
            "Epoch: 12\n"
          ]
        },
        {
          "output_type": "stream",
          "name": "stderr",
          "text": [
            "Loss=0.3896304666996002 Batch_id=97  LR=0.00115 Accuracy=86.08: 100%|██████████| 98/98 [00:57<00:00,  1.69it/s]\n",
            "Loss=0.37676581740379333 Batch_id=19 LR=0.00115 Accuracy=87.21: 100%|██████████| 20/20 [00:04<00:00,  4.59it/s]\n"
          ]
        },
        {
          "output_type": "stream",
          "name": "stdout",
          "text": [
            "Adjusting learning rate of group 0 to 1.1505e-03.\n",
            "\n",
            "Epoch: 13\n"
          ]
        },
        {
          "output_type": "stream",
          "name": "stderr",
          "text": [
            "Loss=0.36159223318099976 Batch_id=97  LR=0.00115 Accuracy=86.41: 100%|██████████| 98/98 [00:57<00:00,  1.69it/s]\n",
            "Loss=0.4494970440864563 Batch_id=19 LR=0.00115 Accuracy=86.85: 100%|██████████| 20/20 [00:04<00:00,  4.62it/s]\n"
          ]
        },
        {
          "output_type": "stream",
          "name": "stdout",
          "text": [
            "Adjusting learning rate of group 0 to 1.1564e-03.\n",
            "\n",
            "Epoch: 14\n"
          ]
        },
        {
          "output_type": "stream",
          "name": "stderr",
          "text": [
            "Loss=0.5109360814094543 Batch_id=97  LR=0.00116 Accuracy=86.59: 100%|██████████| 98/98 [00:57<00:00,  1.69it/s]\n",
            "Loss=0.43191012740135193 Batch_id=19 LR=0.00116 Accuracy=86.91: 100%|██████████| 20/20 [00:04<00:00,  4.66it/s]\n"
          ]
        },
        {
          "output_type": "stream",
          "name": "stdout",
          "text": [
            "Adjusting learning rate of group 0 to 1.1627e-03.\n",
            "\n",
            "Epoch: 15\n"
          ]
        },
        {
          "output_type": "stream",
          "name": "stderr",
          "text": [
            "Loss=0.31840959191322327 Batch_id=97  LR=0.00116 Accuracy=87.18: 100%|██████████| 98/98 [00:57<00:00,  1.69it/s]\n",
            "Loss=0.4378634989261627 Batch_id=19 LR=0.00116 Accuracy=88.11: 100%|██████████| 20/20 [00:04<00:00,  4.60it/s]\n"
          ]
        },
        {
          "output_type": "stream",
          "name": "stdout",
          "text": [
            "Adjusting learning rate of group 0 to 1.1695e-03.\n",
            "\n",
            "Epoch: 16\n"
          ]
        },
        {
          "output_type": "stream",
          "name": "stderr",
          "text": [
            "Loss=0.40223270654678345 Batch_id=97  LR=0.00117 Accuracy=87.35: 100%|██████████| 98/98 [00:57<00:00,  1.69it/s]\n",
            "Loss=0.42139744758605957 Batch_id=19 LR=0.00117 Accuracy=87.61: 100%|██████████| 20/20 [00:04<00:00,  4.58it/s]\n"
          ]
        },
        {
          "output_type": "stream",
          "name": "stdout",
          "text": [
            "Adjusting learning rate of group 0 to 1.1767e-03.\n",
            "\n",
            "Epoch: 17\n"
          ]
        },
        {
          "output_type": "stream",
          "name": "stderr",
          "text": [
            "Loss=0.3143328130245209 Batch_id=97  LR=0.00118 Accuracy=87.60: 100%|██████████| 98/98 [00:57<00:00,  1.69it/s]\n",
            "Loss=0.42976799607276917 Batch_id=19 LR=0.00118 Accuracy=87.86: 100%|██████████| 20/20 [00:04<00:00,  4.64it/s]\n"
          ]
        },
        {
          "output_type": "stream",
          "name": "stdout",
          "text": [
            "Adjusting learning rate of group 0 to 1.1843e-03.\n",
            "\n",
            "Epoch: 18\n"
          ]
        },
        {
          "output_type": "stream",
          "name": "stderr",
          "text": [
            "Loss=0.3879280090332031 Batch_id=97  LR=0.00118 Accuracy=88.02: 100%|██████████| 98/98 [00:57<00:00,  1.69it/s]\n",
            "Loss=0.3581315875053406 Batch_id=19 LR=0.00118 Accuracy=89.11: 100%|██████████| 20/20 [00:04<00:00,  4.60it/s]\n"
          ]
        },
        {
          "output_type": "stream",
          "name": "stdout",
          "text": [
            "Adjusting learning rate of group 0 to 1.1924e-03.\n",
            "\n",
            "Epoch: 19\n"
          ]
        },
        {
          "output_type": "stream",
          "name": "stderr",
          "text": [
            "Loss=0.4359463155269623 Batch_id=97  LR=0.00119 Accuracy=87.90: 100%|██████████| 98/98 [00:57<00:00,  1.69it/s]\n",
            "Loss=0.4559147357940674 Batch_id=19 LR=0.00119 Accuracy=88.23: 100%|██████████| 20/20 [00:04<00:00,  4.61it/s]\n"
          ]
        },
        {
          "output_type": "stream",
          "name": "stdout",
          "text": [
            "Adjusting learning rate of group 0 to 1.2008e-03.\n",
            "\n",
            "Epoch: 20\n"
          ]
        },
        {
          "output_type": "stream",
          "name": "stderr",
          "text": [
            "Loss=0.3709011673927307 Batch_id=97  LR=0.00120 Accuracy=88.45: 100%|██████████| 98/98 [00:57<00:00,  1.69it/s]\n",
            "Loss=0.4197840988636017 Batch_id=19 LR=0.00120 Accuracy=88.06: 100%|██████████| 20/20 [00:04<00:00,  4.59it/s]\n"
          ]
        },
        {
          "output_type": "stream",
          "name": "stdout",
          "text": [
            "Adjusting learning rate of group 0 to 1.2098e-03.\n",
            "\n",
            "Epoch: 21\n"
          ]
        },
        {
          "output_type": "stream",
          "name": "stderr",
          "text": [
            "Loss=0.34115320444107056 Batch_id=97  LR=0.00121 Accuracy=88.32: 100%|██████████| 98/98 [00:57<00:00,  1.69it/s]\n",
            "Loss=0.3472164571285248 Batch_id=19 LR=0.00121 Accuracy=88.71: 100%|██████████| 20/20 [00:04<00:00,  4.62it/s]\n"
          ]
        },
        {
          "output_type": "stream",
          "name": "stdout",
          "text": [
            "Adjusting learning rate of group 0 to 1.2191e-03.\n",
            "\n",
            "Epoch: 22\n"
          ]
        },
        {
          "output_type": "stream",
          "name": "stderr",
          "text": [
            "Loss=0.4081433117389679 Batch_id=97  LR=0.00122 Accuracy=88.65: 100%|██████████| 98/98 [00:57<00:00,  1.69it/s]\n",
            "Loss=0.3707403838634491 Batch_id=19 LR=0.00122 Accuracy=88.48: 100%|██████████| 20/20 [00:04<00:00,  4.65it/s]\n"
          ]
        },
        {
          "output_type": "stream",
          "name": "stdout",
          "text": [
            "Adjusting learning rate of group 0 to 1.2289e-03.\n",
            "\n",
            "Epoch: 23\n"
          ]
        },
        {
          "output_type": "stream",
          "name": "stderr",
          "text": [
            "Loss=0.2803793251514435 Batch_id=97  LR=0.00123 Accuracy=88.50: 100%|██████████| 98/98 [00:57<00:00,  1.70it/s]\n",
            "Loss=0.36180248856544495 Batch_id=19 LR=0.00123 Accuracy=88.32: 100%|██████████| 20/20 [00:04<00:00,  4.62it/s]\n"
          ]
        },
        {
          "output_type": "stream",
          "name": "stdout",
          "text": [
            "Adjusting learning rate of group 0 to 1.2391e-03.\n",
            "============================================================ Training and Testing Performance ==============================================================\n",
            "============================================================================================================================================================\n"
          ]
        },
        {
          "output_type": "display_data",
          "data": {
            "image/png": "[encoded data removed]",
            "text/plain": [
              "<Figure size 1800x432 with 2 Axes>"
            ]
          },
          "metadata": {}
        },
        {
          "output_type": "stream",
          "name": "stdout",
          "text": [
            "============================================================= Class Level Accuracy =========================================================================\n",
            "=========================================================================================================================================================== \n",
            "Accuracy of airplane : 85 %\n",
            "Accuracy of automobile : 100 %\n",
            "Accuracy of  bird : 92 %\n",
            "Accuracy of   cat : 58 %\n",
            "Accuracy of  deer : 100 %\n",
            "Accuracy of   dog : 66 %\n",
            "Accuracy of  frog : 90 %\n",
            "Accuracy of horse : 83 %\n",
            "Accuracy of  ship : 95 %\n",
            "Accuracy of truck : 100 %\n",
            "============================================== Random Misclassified Images ================================================================================\n"
          ]
        },
        {
          "output_type": "stream",
          "name": "stderr",
          "text": [
            "Clipping input data to the valid range for imshow with RGB data ([0..1] for floats or [0..255] for integers).\n",
            "Clipping input data to the valid range for imshow with RGB data ([0..1] for floats or [0..255] for integers).\n",
            "Clipping input data to the valid range for imshow with RGB data ([0..1] for floats or [0..255] for integers).\n",
            "Clipping input data to the valid range for imshow with RGB data ([0..1] for floats or [0..255] for integers).\n",
            "Clipping input data to the valid range for imshow with RGB data ([0..1] for floats or [0..255] for integers).\n"
          ]
        },
        {
          "output_type": "stream",
          "name": "stdout",
          "text": [
            "Total wrong predictions are 1168\n"
          ]
        },
        {
          "output_type": "stream",
          "name": "stderr",
          "text": [
            "Clipping input data to the valid range for imshow with RGB data ([0..1] for floats or [0..255] for integers).\n",
            "Clipping input data to the valid range for imshow with RGB data ([0..1] for floats or [0..255] for integers).\n",
            "Clipping input data to the valid range for imshow with RGB data ([0..1] for floats or [0..255] for integers).\n",
            "Clipping input data to the valid range for imshow with RGB data ([0..1] for floats or [0..255] for integers).\n",
            "Clipping input data to the valid range for imshow with RGB data ([0..1] for floats or [0..255] for integers).\n"
          ]
        },
        {
          "output_type": "display_data",
          "data": {
            "image/png": "[encoded data removed]",
            "text/plain": [
              "<Figure size 1296x1440 with 10 Axes>"
            ]
          },
          "metadata": {}
        },
        {
          "output_type": "stream",
          "name": "stdout",
          "text": [
            "==========================================================================================================================================================\n",
            "============================================== Grdadcam Misclassified Images =============================================================================\n",
            "torch.Size([20, 10])\n",
            "Generating Grad-CAM @ReLU()\n"
          ]
        },
        {
          "output_type": "error",
          "ename": "ValueError",
          "evalue": "ignored",
          "traceback": [
            "\u001b[0;31m---------------------------------------------------------------------------\u001b[0m",
            "\u001b[0;31mValueError\u001b[0m                                Traceback (most recent call last)",
            "\u001b[0;32m<ipython-input-12-56561c360151>\u001b[0m in \u001b[0;36m<module>\u001b[0;34m()\u001b[0m\n\u001b[1;32m      1\u001b[0m model_main.run_experiments_custom_resnet(start_lr = start_lr, \n\u001b[1;32m      2\u001b[0m                                          \u001b[0mlrmax\u001b[0m \u001b[0;34m=\u001b[0m \u001b[0mmax_lr\u001b[0m\u001b[0;34m,\u001b[0m\u001b[0;34m\u001b[0m\u001b[0;34m\u001b[0m\u001b[0m\n\u001b[0;32m----> 3\u001b[0;31m                                          IsSGD= False)\n\u001b[0m",
            "\u001b[0;32m/content/Transformer-DeepLearning/ConvModelAdvancedTraining/main.py\u001b[0m in \u001b[0;36mrun_experiments_custom_resnet\u001b[0;34m(start_lr, lrmax, resume, description, epochs, max_at_epoch, IsSGD)\u001b[0m\n\u001b[1;32m    438\u001b[0m \u001b[0;34m\u001b[0m\u001b[0m\n\u001b[1;32m    439\u001b[0m   \u001b[0mtarget_layers\u001b[0m \u001b[0;34m=\u001b[0m \u001b[0;34m[\u001b[0m\u001b[0mlayer1\u001b[0m\u001b[0;34m,\u001b[0m\u001b[0mlayer2\u001b[0m\u001b[0;34m,\u001b[0m\u001b[0mlayer3\u001b[0m\u001b[0;34m]\u001b[0m\u001b[0;34m\u001b[0m\u001b[0;34m\u001b[0m\u001b[0m\n\u001b[0;32m--> 440\u001b[0;31m   \u001b[0mgradcam_output\u001b[0m\u001b[0;34m,\u001b[0m \u001b[0mprobs\u001b[0m\u001b[0;34m,\u001b[0m \u001b[0mpredicted_classes\u001b[0m \u001b[0;34m=\u001b[0m \u001b[0mgenerate_gradcam\u001b[0m\u001b[0;34m(\u001b[0m\u001b[0mwrong_images\u001b[0m\u001b[0;34m[\u001b[0m\u001b[0;34m:\u001b[0m\u001b[0;36m20\u001b[0m\u001b[0;34m]\u001b[0m\u001b[0;34m,\u001b[0m \u001b[0mnet\u001b[0m\u001b[0;34m,\u001b[0m \u001b[0mtarget_layers\u001b[0m\u001b[0;34m,\u001b[0m\u001b[0mdevice\u001b[0m\u001b[0;34m)\u001b[0m\u001b[0;34m\u001b[0m\u001b[0;34m\u001b[0m\u001b[0m\n\u001b[0m\u001b[1;32m    441\u001b[0m   \u001b[0mplot_gradcam\u001b[0m\u001b[0;34m(\u001b[0m\u001b[0mgradcam_output\u001b[0m\u001b[0;34m,\u001b[0m \u001b[0mtarget_layers\u001b[0m\u001b[0;34m,\u001b[0m \u001b[0mclasses\u001b[0m\u001b[0;34m,\u001b[0m \u001b[0;34m(\u001b[0m\u001b[0;36m3\u001b[0m\u001b[0;34m,\u001b[0m \u001b[0;36m32\u001b[0m\u001b[0;34m,\u001b[0m \u001b[0;36m32\u001b[0m\u001b[0;34m)\u001b[0m\u001b[0;34m,\u001b[0m\u001b[0mpredicted_classes\u001b[0m\u001b[0;34m,\u001b[0m \u001b[0mwrong_images\u001b[0m\u001b[0;34m[\u001b[0m\u001b[0;34m:\u001b[0m\u001b[0;36m20\u001b[0m\u001b[0;34m]\u001b[0m\u001b[0;34m)\u001b[0m\u001b[0;34m\u001b[0m\u001b[0;34m\u001b[0m\u001b[0m\n\u001b[1;32m    442\u001b[0m   \u001b[0mprint\u001b[0m\u001b[0;34m(\u001b[0m\u001b[0;34m'==========================================================================================================================================================='\u001b[0m\u001b[0;34m)\u001b[0m\u001b[0;34m\u001b[0m\u001b[0;34m\u001b[0m\u001b[0m\n",
            "\u001b[0;32m/content/Transformer-DeepLearning/ConvModelAdvancedTraining/gradcam.py\u001b[0m in \u001b[0;36mgenerate_gradcam\u001b[0;34m(misclassified_images, model, target_layers, device)\u001b[0m\n\u001b[1;32m    140\u001b[0m         \u001b[0mprint\u001b[0m\u001b[0;34m(\u001b[0m\u001b[0;34m\"Generating Grad-CAM @{}\"\u001b[0m\u001b[0;34m.\u001b[0m\u001b[0mformat\u001b[0m\u001b[0;34m(\u001b[0m\u001b[0mtarget_layer\u001b[0m\u001b[0;34m)\u001b[0m\u001b[0;34m)\u001b[0m\u001b[0;34m\u001b[0m\u001b[0;34m\u001b[0m\u001b[0m\n\u001b[1;32m    141\u001b[0m         \u001b[0;31m# Grad-CAM\u001b[0m\u001b[0;34m\u001b[0m\u001b[0;34m\u001b[0m\u001b[0;34m\u001b[0m\u001b[0m\n\u001b[0;32m--> 142\u001b[0;31m         \u001b[0mlayers\u001b[0m\u001b[0;34m.\u001b[0m\u001b[0mappend\u001b[0m\u001b[0;34m(\u001b[0m\u001b[0mgcam\u001b[0m\u001b[0;34m.\u001b[0m\u001b[0mgenerate\u001b[0m\u001b[0;34m(\u001b[0m\u001b[0mtarget_layer\u001b[0m\u001b[0;34m=\u001b[0m\u001b[0mtarget_layer\u001b[0m\u001b[0;34m)\u001b[0m\u001b[0;34m)\u001b[0m\u001b[0;34m\u001b[0m\u001b[0;34m\u001b[0m\u001b[0m\n\u001b[0m\u001b[1;32m    143\u001b[0m \u001b[0;34m\u001b[0m\u001b[0m\n\u001b[1;32m    144\u001b[0m     \u001b[0;31m# remove hooks when done\u001b[0m\u001b[0;34m\u001b[0m\u001b[0;34m\u001b[0m\u001b[0;34m\u001b[0m\u001b[0m\n",
            "\u001b[0;32m/content/Transformer-DeepLearning/ConvModelAdvancedTraining/gradcam.py\u001b[0m in \u001b[0;36mgenerate\u001b[0;34m(self, target_layer)\u001b[0m\n\u001b[1;32m     92\u001b[0m \u001b[0;34m\u001b[0m\u001b[0m\n\u001b[1;32m     93\u001b[0m     \u001b[0;32mdef\u001b[0m \u001b[0mgenerate\u001b[0m\u001b[0;34m(\u001b[0m\u001b[0mself\u001b[0m\u001b[0;34m,\u001b[0m \u001b[0mtarget_layer\u001b[0m\u001b[0;34m)\u001b[0m\u001b[0;34m:\u001b[0m\u001b[0;34m\u001b[0m\u001b[0;34m\u001b[0m\u001b[0m\n\u001b[0;32m---> 94\u001b[0;31m         \u001b[0mfmaps\u001b[0m \u001b[0;34m=\u001b[0m \u001b[0mself\u001b[0m\u001b[0;34m.\u001b[0m\u001b[0m_find\u001b[0m\u001b[0;34m(\u001b[0m\u001b[0mself\u001b[0m\u001b[0;34m.\u001b[0m\u001b[0mfmap_pool\u001b[0m\u001b[0;34m,\u001b[0m \u001b[0mtarget_layer\u001b[0m\u001b[0;34m)\u001b[0m\u001b[0;34m\u001b[0m\u001b[0;34m\u001b[0m\u001b[0m\n\u001b[0m\u001b[1;32m     95\u001b[0m         \u001b[0mgrads\u001b[0m \u001b[0;34m=\u001b[0m \u001b[0mself\u001b[0m\u001b[0;34m.\u001b[0m\u001b[0m_find\u001b[0m\u001b[0;34m(\u001b[0m\u001b[0mself\u001b[0m\u001b[0;34m.\u001b[0m\u001b[0mgrad_pool\u001b[0m\u001b[0;34m,\u001b[0m \u001b[0mtarget_layer\u001b[0m\u001b[0;34m)\u001b[0m\u001b[0;34m\u001b[0m\u001b[0;34m\u001b[0m\u001b[0m\n\u001b[1;32m     96\u001b[0m         \u001b[0mweights\u001b[0m \u001b[0;34m=\u001b[0m \u001b[0mF\u001b[0m\u001b[0;34m.\u001b[0m\u001b[0madaptive_avg_pool2d\u001b[0m\u001b[0;34m(\u001b[0m\u001b[0mgrads\u001b[0m\u001b[0;34m,\u001b[0m \u001b[0;36m1\u001b[0m\u001b[0;34m)\u001b[0m\u001b[0;34m\u001b[0m\u001b[0;34m\u001b[0m\u001b[0m\n",
            "\u001b[0;32m/content/Transformer-DeepLearning/ConvModelAdvancedTraining/gradcam.py\u001b[0m in \u001b[0;36m_find\u001b[0;34m(self, pool, target_layer)\u001b[0m\n\u001b[1;32m     89\u001b[0m             \u001b[0;32mreturn\u001b[0m \u001b[0mpool\u001b[0m\u001b[0;34m[\u001b[0m\u001b[0mtarget_layer\u001b[0m\u001b[0;34m]\u001b[0m\u001b[0;34m\u001b[0m\u001b[0;34m\u001b[0m\u001b[0m\n\u001b[1;32m     90\u001b[0m         \u001b[0;32melse\u001b[0m\u001b[0;34m:\u001b[0m\u001b[0;34m\u001b[0m\u001b[0;34m\u001b[0m\u001b[0m\n\u001b[0;32m---> 91\u001b[0;31m             \u001b[0;32mraise\u001b[0m \u001b[0mValueError\u001b[0m\u001b[0;34m(\u001b[0m\u001b[0;34m\"Invalid layer name: {}\"\u001b[0m\u001b[0;34m.\u001b[0m\u001b[0mformat\u001b[0m\u001b[0;34m(\u001b[0m\u001b[0mtarget_layer\u001b[0m\u001b[0;34m)\u001b[0m\u001b[0;34m)\u001b[0m\u001b[0;34m\u001b[0m\u001b[0;34m\u001b[0m\u001b[0m\n\u001b[0m\u001b[1;32m     92\u001b[0m \u001b[0;34m\u001b[0m\u001b[0m\n\u001b[1;32m     93\u001b[0m     \u001b[0;32mdef\u001b[0m \u001b[0mgenerate\u001b[0m\u001b[0;34m(\u001b[0m\u001b[0mself\u001b[0m\u001b[0;34m,\u001b[0m \u001b[0mtarget_layer\u001b[0m\u001b[0;34m)\u001b[0m\u001b[0;34m:\u001b[0m\u001b[0;34m\u001b[0m\u001b[0;34m\u001b[0m\u001b[0m\n",
            "\u001b[0;31mValueError\u001b[0m: Invalid layer name: ReLU()"
          ]
        }
      ]
    }
  ]
}